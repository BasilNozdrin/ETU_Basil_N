{
 "cells": [
  {
   "cell_type": "markdown",
   "metadata": {},
   "source": [
    "# Railfence cipher algorithm.\n",
    "\n",
    "formula"
   ]
  },
  {
   "cell_type": "code",
   "execution_count": 1,
   "metadata": {},
   "outputs": [
    {
     "name": "stdout",
     "output_type": "stream",
     "text": [
      "[0, 1, 2, 3, 4, 5, 6, 7, 8, 9, 10, 11, 12, 13, 14, 15, 16, 17, 18, 19, 20, 21, 22, 23, 24, 25, 26, 27, 28, 29, 30, 31, 32, 33, 34, 35, 36, 37, 38, 39, 40, 41, 42, 43, 44, 45, 46, 47, 48, 49, 50, 51, 52, 53, 54, 55, 56, 57, 58, 59, 60, 61, 62, 63, 64, 65, 66, 67, 68, 69, 70, 71, 72, 73, 74, 75, 76, 77, 78, 79, 80, 81, 82, 83, 84, 85, 86, 87, 88, 89, 90, 91, 92, 93, 94, 95, 96, 97, 98, 99]\n"
     ]
    }
   ],
   "source": [
    "data = list(range(100))\n",
    "print(data)"
   ]
  },
  {
   "cell_type": "code",
   "execution_count": 2,
   "metadata": {},
   "outputs": [],
   "source": [
    "def rail_fence(input_data: list, number_of_rows=5, offset=0):\n",
    "    _data = input_data[::]\n",
    "    for i in range(offset):\n",
    "        _data.insert(0, None)\n",
    "    if number_of_rows < 2:\n",
    "        raise ValueError(\"number_of_rows should be greater than 1\")\n",
    "    big_step = 2*number_of_rows-2\n",
    "    rows = []\n",
    "    for k in range(number_of_rows):\n",
    "        small_step = big_step-2*k if k > 0 else 0\n",
    "        row = []\n",
    "        for i in range(len(_data) // big_step + 1):\n",
    "            index_to_add = {k+i*big_step, k+i*big_step+small_step}\n",
    "            for index in sorted(index_to_add):\n",
    "                if index in range(0, len(_data)) and _data[index] is not None:\n",
    "                    row.append(_data[index])\n",
    "        rows.append(row)\n",
    "    return rows"
   ]
  },
  {
   "cell_type": "code",
   "execution_count": 123,
   "metadata": {},
   "outputs": [],
   "source": [
    "#0#####6#####2#####8##\n",
    "##1###5#7###1#3###7#9#\n",
    "###2#4###8#0###4#6###0\n",
    "####3#####9#####5#####"
   ]
  },
  {
   "cell_type": "code",
   "execution_count": 3,
   "metadata": {},
   "outputs": [
    {
     "name": "stdout",
     "output_type": "stream",
     "text": [
      "[0, 12, 24, 36, 48, 60, 72, 84, 96]\n",
      "[1, 11, 13, 23, 25, 35, 37, 47, 49, 59, 61, 71, 73, 83, 85, 95, 97]\n",
      "[2, 10, 14, 22, 26, 34, 38, 46, 50, 58, 62, 70, 74, 82, 86, 94, 98]\n",
      "[3, 9, 15, 21, 27, 33, 39, 45, 51, 57, 63, 69, 75, 81, 87, 93, 99]\n",
      "[4, 8, 16, 20, 28, 32, 40, 44, 52, 56, 64, 68, 76, 80, 88, 92]\n",
      "[5, 7, 17, 19, 29, 31, 41, 43, 53, 55, 65, 67, 77, 79, 89, 91]\n",
      "[6, 18, 30, 42, 54, 66, 78, 90]\n"
     ]
    }
   ],
   "source": [
    "print(\"\\n\".join(map(lambda x: str(x), rail_fence(data, 7, 0))))"
   ]
  }
 ],
 "metadata": {
  "kernelspec": {
   "display_name": "Python 3 (ipykernel)",
   "language": "python",
   "name": "python3"
  },
  "language_info": {
   "codemirror_mode": {
    "name": "ipython",
    "version": 3
   },
   "file_extension": ".py",
   "mimetype": "text/x-python",
   "name": "python",
   "nbconvert_exporter": "python",
   "pygments_lexer": "ipython3",
   "version": "3.10.7"
  }
 },
 "nbformat": 4,
 "nbformat_minor": 1
}
