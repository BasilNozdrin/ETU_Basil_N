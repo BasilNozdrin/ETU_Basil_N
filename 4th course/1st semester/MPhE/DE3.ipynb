{
 "cells": [
  {
   "cell_type": "code",
   "execution_count": 9,
   "id": "bd49ed39",
   "metadata": {},
   "outputs": [],
   "source": [
    "import math\n",
    "import scipy.integrate as integ"
   ]
  },
  {
   "cell_type": "markdown",
   "id": "eb150a62",
   "metadata": {},
   "source": [
    "# $u_{tt}(x,t) = a^2u_{xx}(x,t), x \\in [0,l], t \\ge 0$"
   ]
  },
  {
   "cell_type": "code",
   "execution_count": 10,
   "id": "6ee91b27",
   "metadata": {},
   "outputs": [],
   "source": [
    "a = 4\n",
    "l = 1\n",
    "pi = math.pi\n",
    "\n",
    "def U(x, t):\n",
    "    s = 0\n",
    "    for n in range(1, 100):\n",
    "        w_n = a*pi*n/l\n",
    "        a_n = 2/l*integ.quad(lambda x: 2.1*((math.sin(pi*x))**5)*math.sin(pi*n*x/l),0,l)[0]\n",
    "        b_n = 2/(a*pi*n)*integ.quad(lambda x: -11.3*((math.sin(pi*x))**3)*math.sin(pi*n*x/l),0,l)[0]\n",
    "        ds = (a_n*math.cos(w_n*t)+b_n*math.sin(w_n*t))*math.sin(pi*n*x/l)\n",
    "        s += ds\n",
    "    return s"
   ]
  },
  {
   "cell_type": "code",
   "execution_count": 11,
   "id": "76b36c0f",
   "metadata": {},
   "outputs": [
    {
     "data": {
      "text/plain": [
       "0.7502581905102621"
      ]
     },
     "execution_count": 11,
     "metadata": {},
     "output_type": "execute_result"
    }
   ],
   "source": [
    "U(1/4, 1/16)"
   ]
  },
  {
   "cell_type": "code",
   "execution_count": null,
   "id": "a6f35e8d",
   "metadata": {},
   "outputs": [],
   "source": []
  }
 ],
 "metadata": {
  "kernelspec": {
   "display_name": "Python 3 (ipykernel)",
   "language": "python",
   "name": "python3"
  },
  "language_info": {
   "codemirror_mode": {
    "name": "ipython",
    "version": 3
   },
   "file_extension": ".py",
   "mimetype": "text/x-python",
   "name": "python",
   "nbconvert_exporter": "python",
   "pygments_lexer": "ipython3",
   "version": "3.10.6"
  }
 },
 "nbformat": 4,
 "nbformat_minor": 5
}
