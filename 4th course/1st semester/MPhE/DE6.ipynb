{
 "cells": [
  {
   "cell_type": "code",
   "execution_count": 16,
   "id": "bd49ed39",
   "metadata": {},
   "outputs": [],
   "source": [
    "from math import pi, sin, cos, sqrt\n",
    "from scipy.integrate import dblquad"
   ]
  },
  {
   "cell_type": "markdown",
   "id": "eb150a62",
   "metadata": {},
   "source": [
    "# $$u_{tt}(x,y,t) = a^2\\Delta u(x,y,t), \\\\ \n",
    "x \\in [0,l], y \\in [0,m], t \\ge 0$$"
   ]
  },
  {
   "cell_type": "code",
   "execution_count": 34,
   "id": "6ee91b27",
   "metadata": {},
   "outputs": [],
   "source": [
    "a, l , m = 4, 1, 1\n",
    "\n",
    "def U(x, y, t):\n",
    "    s = 0\n",
    "    for k in range(1, 50):\n",
    "        for n in range(1, 50):\n",
    "            w_k_n = a*sqrt((pi*k/l)**2+(pi*n/m)**2)\n",
    "            a_k_n = 4/(l*m)*dblquad(\n",
    "                lambda x, y: 3.2*(sin(pi*x))**3*(sin(pi*y))**3*sin(pi*k*x/l)*sin(pi*n*y/m), # phi\n",
    "                0,l,0,m)[0]\n",
    "            b_k_n = 4/(l*m*w_k_n)*dblquad(\n",
    "                lambda x, y: -7.4*(sin(pi*x))**3*(sin(pi*y))**3*sin(pi*k*x/l)*sin(pi*n*y/m), # psi\n",
    "                0,l,0,m)[0]\n",
    "            ds = (a_k_n*cos(w_k_n*t)+b_k_n*sin(w_k_n*t))*sin(pi*k*x/l)*sin(pi*n*y/m)\n",
    "            s += ds\n",
    "    return s"
   ]
  },
  {
   "cell_type": "code",
   "execution_count": 35,
   "id": "76b36c0f",
   "metadata": {},
   "outputs": [
    {
     "data": {
      "text/plain": [
       "0.8303786951157285"
      ]
     },
     "execution_count": 35,
     "metadata": {},
     "output_type": "execute_result"
    }
   ],
   "source": [
    "U(1/3, 1/3, 1/(16*sqrt(2)))"
   ]
  },
  {
   "cell_type": "code",
   "execution_count": 36,
   "id": "a6f35e8d",
   "metadata": {},
   "outputs": [],
   "source": [
    "a, l , m = 9, 1, 1\n",
    "\n",
    "def U(x, y, t):\n",
    "    s = 0\n",
    "    for k in range(1, 50):\n",
    "        for n in range(1, 50):\n",
    "            w_k_n = a*sqrt((pi*k/l)**2+(pi*n/m)**2)\n",
    "            a_k_n = 4/(l*m)*dblquad(\n",
    "                lambda x, y: -3.2*(sin(pi*x))**3*(sin(pi*y))**3*sin(pi*k*x/l)*sin(pi*n*y/m), # phi\n",
    "                0,l,0,m)[0]\n",
    "            b_k_n = 4/(l*m*w_k_n)*dblquad(\n",
    "                lambda x, y: 11.3*(sin(pi*x))**3*(sin(pi*y))**3*sin(pi*k*x/l)*sin(pi*n*y/m), # psi\n",
    "                0,l,0,m)[0]\n",
    "            ds = (a_k_n*cos(w_k_n*t)+b_k_n*sin(w_k_n*t))*sin(pi*k*x/l)*sin(pi*n*y/m)\n",
    "            s += ds\n",
    "    return s"
   ]
  },
  {
   "cell_type": "code",
   "execution_count": 37,
   "id": "df13b91a",
   "metadata": {},
   "outputs": [
    {
     "data": {
      "text/plain": [
       "-0.8702917706880157"
      ]
     },
     "execution_count": 37,
     "metadata": {},
     "output_type": "execute_result"
    }
   ],
   "source": [
    "U(1/3, 1/3, 1/(36*sqrt(2)))"
   ]
  },
  {
   "cell_type": "code",
   "execution_count": null,
   "id": "a3c82bd1",
   "metadata": {},
   "outputs": [],
   "source": []
  }
 ],
 "metadata": {
  "kernelspec": {
   "display_name": "Python 3 (ipykernel)",
   "language": "python",
   "name": "python3"
  },
  "language_info": {
   "codemirror_mode": {
    "name": "ipython",
    "version": 3
   },
   "file_extension": ".py",
   "mimetype": "text/x-python",
   "name": "python",
   "nbconvert_exporter": "python",
   "pygments_lexer": "ipython3",
   "version": "3.10.7"
  }
 },
 "nbformat": 4,
 "nbformat_minor": 5
}
