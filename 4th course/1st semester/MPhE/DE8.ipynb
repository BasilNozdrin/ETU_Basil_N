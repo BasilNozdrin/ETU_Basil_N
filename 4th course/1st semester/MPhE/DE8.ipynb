{
 "cells": [
  {
   "cell_type": "code",
   "execution_count": 15,
   "id": "bd49ed39",
   "metadata": {},
   "outputs": [],
   "source": [
    "from math import e, exp, pi, sin, cos, sqrt\n",
    "from scipy.integrate import dblquad, quad, tplquad"
   ]
  },
  {
   "cell_type": "markdown",
   "id": "eb150a62",
   "metadata": {},
   "source": [
    "$$\n",
    "    \\dot{u}(x,t) = a^2u_{xx}''(x,t)\\\\ \n",
    "    x\\in[0,l],0\\le t\\le t_0\\\\\n",
    "    u(x,0)=\\varphi(x)\n",
    "$$"
   ]
  },
  {
   "cell_type": "code",
   "execution_count": 31,
   "id": "6ee91b27",
   "metadata": {},
   "outputs": [],
   "source": [
    "def lim_task(x, a=7, l=1, accuracy=10):\n",
    "    for t in range(1, 100):\n",
    "        u_x_t = 0\n",
    "        c = e\n",
    "        for n in range(1, accuracy):\n",
    "            w_n = a*pi*n/l\n",
    "            phi = lambda x: -2.1*(sin(pi*x))**3-6.2*sin(pi*x)\n",
    "            a_n = 2/l*quad(lambda x: phi(x)*sin(pi*n*x/l),0,l)[0]\n",
    "            u_x_t += a_n*exp(-w_n**2*t)*sin(pi*n*x/l) * exp(a**2*pi**2*t)\n",
    "        print(u_x_t)"
   ]
  },
  {
   "cell_type": "code",
   "execution_count": 35,
   "id": "413c2fcb",
   "metadata": {},
   "outputs": [
    {
     "name": "stdout",
     "output_type": "stream",
     "text": [
      "-3.8874999999999993\n"
     ]
    },
    {
     "ename": "OverflowError",
     "evalue": "math range error",
     "output_type": "error",
     "traceback": [
      "\u001b[0;31m---------------------------------------------------------------------------\u001b[0m",
      "\u001b[0;31mOverflowError\u001b[0m                             Traceback (most recent call last)",
      "Cell \u001b[0;32mIn [35], line 1\u001b[0m\n\u001b[0;32m----> 1\u001b[0m lim_task(\u001b[38;5;241m1\u001b[39m\u001b[38;5;241m/\u001b[39m\u001b[38;5;241m6\u001b[39m, accuracy\u001b[38;5;241m=\u001b[39m\u001b[38;5;241m10\u001b[39m)\n",
      "Cell \u001b[0;32mIn [31], line 9\u001b[0m, in \u001b[0;36mlim_task\u001b[0;34m(x, a, l, accuracy)\u001b[0m\n\u001b[1;32m      7\u001b[0m     phi \u001b[38;5;241m=\u001b[39m \u001b[38;5;28;01mlambda\u001b[39;00m x: \u001b[38;5;241m-\u001b[39m\u001b[38;5;241m2.1\u001b[39m\u001b[38;5;241m*\u001b[39m(sin(pi\u001b[38;5;241m*\u001b[39mx))\u001b[38;5;241m*\u001b[39m\u001b[38;5;241m*\u001b[39m\u001b[38;5;241m3\u001b[39m\u001b[38;5;241m-\u001b[39m\u001b[38;5;241m6.2\u001b[39m\u001b[38;5;241m*\u001b[39msin(pi\u001b[38;5;241m*\u001b[39mx)\n\u001b[1;32m      8\u001b[0m     a_n \u001b[38;5;241m=\u001b[39m \u001b[38;5;241m2\u001b[39m\u001b[38;5;241m/\u001b[39ml\u001b[38;5;241m*\u001b[39mquad(\u001b[38;5;28;01mlambda\u001b[39;00m x: phi(x)\u001b[38;5;241m*\u001b[39msin(pi\u001b[38;5;241m*\u001b[39mn\u001b[38;5;241m*\u001b[39mx\u001b[38;5;241m/\u001b[39ml),\u001b[38;5;241m0\u001b[39m,l)[\u001b[38;5;241m0\u001b[39m]\n\u001b[0;32m----> 9\u001b[0m     u_x_t \u001b[38;5;241m+\u001b[39m\u001b[38;5;241m=\u001b[39m a_n\u001b[38;5;241m*\u001b[39mexp(\u001b[38;5;241m-\u001b[39mw_n\u001b[38;5;241m*\u001b[39m\u001b[38;5;241m*\u001b[39m\u001b[38;5;241m2\u001b[39m\u001b[38;5;241m*\u001b[39mt)\u001b[38;5;241m*\u001b[39msin(pi\u001b[38;5;241m*\u001b[39mn\u001b[38;5;241m*\u001b[39mx\u001b[38;5;241m/\u001b[39ml) \u001b[38;5;241m*\u001b[39m \u001b[43mexp\u001b[49m\u001b[43m(\u001b[49m\u001b[43ma\u001b[49m\u001b[38;5;241;43m*\u001b[39;49m\u001b[38;5;241;43m*\u001b[39;49m\u001b[38;5;241;43m2\u001b[39;49m\u001b[38;5;241;43m*\u001b[39;49m\u001b[43mpi\u001b[49m\u001b[38;5;241;43m*\u001b[39;49m\u001b[38;5;241;43m*\u001b[39;49m\u001b[38;5;241;43m2\u001b[39;49m\u001b[38;5;241;43m*\u001b[39;49m\u001b[43mt\u001b[49m\u001b[43m)\u001b[49m\n\u001b[1;32m     10\u001b[0m \u001b[38;5;28mprint\u001b[39m(u_x_t)\n",
      "\u001b[0;31mOverflowError\u001b[0m: math range error"
     ]
    }
   ],
   "source": [
    "lim_task(1/6, accuracy=10)"
   ]
  },
  {
   "cell_type": "code",
   "execution_count": 19,
   "id": "76b36c0f",
   "metadata": {},
   "outputs": [],
   "source": [
    "def my_lim(t):\n",
    "    c = 299792458\n",
    "    return exp(c**2*pi**2*t)*Utask(1/6, t, accuracy=50)"
   ]
  },
  {
   "cell_type": "code",
   "execution_count": 20,
   "id": "3f7af397",
   "metadata": {},
   "outputs": [
    {
     "ename": "OverflowError",
     "evalue": "math range error",
     "output_type": "error",
     "traceback": [
      "\u001b[0;31m---------------------------------------------------------------------------\u001b[0m",
      "\u001b[0;31mOverflowError\u001b[0m                             Traceback (most recent call last)",
      "Cell \u001b[0;32mIn [20], line 2\u001b[0m\n\u001b[1;32m      1\u001b[0m \u001b[38;5;28;01mfor\u001b[39;00m x \u001b[38;5;129;01min\u001b[39;00m \u001b[38;5;28mrange\u001b[39m(\u001b[38;5;241m1\u001b[39m,\u001b[38;5;241m100\u001b[39m):\n\u001b[0;32m----> 2\u001b[0m     \u001b[38;5;28mprint\u001b[39m(my_lim(x))\n",
      "Cell \u001b[0;32mIn [19], line 3\u001b[0m, in \u001b[0;36mmy_lim\u001b[0;34m(t)\u001b[0m\n\u001b[1;32m      1\u001b[0m \u001b[38;5;28;01mdef\u001b[39;00m \u001b[38;5;21mmy_lim\u001b[39m(t):\n\u001b[1;32m      2\u001b[0m     c \u001b[38;5;241m=\u001b[39m \u001b[38;5;241m299792458\u001b[39m\n\u001b[0;32m----> 3\u001b[0m     \u001b[38;5;28;01mreturn\u001b[39;00m \u001b[43mexp\u001b[49m\u001b[43m(\u001b[49m\u001b[43mc\u001b[49m\u001b[38;5;241;43m*\u001b[39;49m\u001b[38;5;241;43m*\u001b[39;49m\u001b[38;5;241;43m2\u001b[39;49m\u001b[38;5;241;43m*\u001b[39;49m\u001b[43mpi\u001b[49m\u001b[38;5;241;43m*\u001b[39;49m\u001b[38;5;241;43m*\u001b[39;49m\u001b[38;5;241;43m2\u001b[39;49m\u001b[38;5;241;43m*\u001b[39;49m\u001b[43mt\u001b[49m\u001b[43m)\u001b[49m\u001b[38;5;241m*\u001b[39mUtask(\u001b[38;5;241m1\u001b[39m\u001b[38;5;241m/\u001b[39m\u001b[38;5;241m6\u001b[39m, t, accuracy\u001b[38;5;241m=\u001b[39m\u001b[38;5;241m50\u001b[39m)\n",
      "\u001b[0;31mOverflowError\u001b[0m: math range error"
     ]
    }
   ],
   "source": [
    "for x in range(1,100):\n",
    "    print(my_lim(x))"
   ]
  },
  {
   "cell_type": "code",
   "execution_count": null,
   "id": "6e208fe6",
   "metadata": {},
   "outputs": [],
   "source": []
  }
 ],
 "metadata": {
  "kernelspec": {
   "display_name": "Python 3 (ipykernel)",
   "language": "python",
   "name": "python3"
  },
  "language_info": {
   "codemirror_mode": {
    "name": "ipython",
    "version": 3
   },
   "file_extension": ".py",
   "mimetype": "text/x-python",
   "name": "python",
   "nbconvert_exporter": "python",
   "pygments_lexer": "ipython3",
   "version": "3.10.8"
  }
 },
 "nbformat": 4,
 "nbformat_minor": 5
}
