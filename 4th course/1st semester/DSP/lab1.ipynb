{
 "cells": [
  {
   "cell_type": "markdown",
   "id": "33353599",
   "metadata": {},
   "source": [
    "# Цифровая обработка сигналов\n",
    "## Лабораторная работа №1\n",
    "### Выполнил Ноздрин В.Я."
   ]
  },
  {
   "cell_type": "code",
   "execution_count": null,
   "id": "3a57f678",
   "metadata": {},
   "outputs": [],
   "source": []
  }
 ],
 "metadata": {
  "kernelspec": {
   "display_name": "Python 3 (ipykernel)",
   "language": "python",
   "name": "python3"
  },
  "language_info": {
   "codemirror_mode": {
    "name": "ipython",
    "version": 3
   },
   "file_extension": ".py",
   "mimetype": "text/x-python",
   "name": "python",
   "nbconvert_exporter": "python",
   "pygments_lexer": "ipython3",
   "version": "3.10.7"
  }
 },
 "nbformat": 4,
 "nbformat_minor": 5
}
