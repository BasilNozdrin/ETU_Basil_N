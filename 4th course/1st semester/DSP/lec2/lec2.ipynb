{
 "cells": [
  {
   "cell_type": "markdown",
   "source": [
    "![](img.png)"
   ],
   "metadata": {
    "collapsed": false
   },
   "id": "821d008d7b8d2365"
  },
  {
   "cell_type": "markdown",
   "source": [
    "![](img_1.png)"
   ],
   "metadata": {
    "collapsed": false
   },
   "id": "6fc0afe06999cfda"
  },
  {
   "cell_type": "markdown",
   "source": [
    "![](img_2.png)"
   ],
   "metadata": {
    "collapsed": false
   },
   "id": "5150b8b05c121305"
  },
  {
   "cell_type": "markdown",
   "source": [
    "![](img_3.png)"
   ],
   "metadata": {
    "collapsed": false
   },
   "id": "dbb2c48fabc47e2e"
  },
  {
   "cell_type": "markdown",
   "source": [
    "![](img_4.png)"
   ],
   "metadata": {
    "collapsed": false
   },
   "id": "2aa6becce1c0dd63"
  },
  {
   "cell_type": "markdown",
   "source": [
    "![](img_5.png)"
   ],
   "metadata": {
    "collapsed": false
   },
   "id": "36843f98d7f64f76"
  },
  {
   "cell_type": "markdown",
   "source": [
    "![](img_6.png)"
   ],
   "metadata": {
    "collapsed": false
   },
   "id": "f9407e6c0b9e54b7"
  },
  {
   "cell_type": "markdown",
   "source": [
    "![](img_7.png)"
   ],
   "metadata": {
    "collapsed": false
   },
   "id": "109648b31b7a05b7"
  },
  {
   "cell_type": "markdown",
   "source": [
    "![](img_8.png)\n",
    "\n",
    "фильтр на 13 точках гасит 0,15 частоту гораздо лучше фильтра на 7 точках"
   ],
   "metadata": {
    "collapsed": false
   },
   "id": "789bf55af4ed563b"
  },
  {
   "cell_type": "markdown",
   "source": [
    "![](img_9.png)"
   ],
   "metadata": {
    "collapsed": false
   },
   "id": "47ef1308d8652ae8"
  },
  {
   "cell_type": "markdown",
   "source": [
    "![](img_10.png)"
   ],
   "metadata": {
    "collapsed": false
   },
   "id": "babc4d6c73a936d2"
  },
  {
   "cell_type": "markdown",
   "source": [
    "![](img_11.png)"
   ],
   "metadata": {
    "collapsed": false
   },
   "id": "484e60e5810e14ef"
  },
  {
   "cell_type": "markdown",
   "source": [
    "![](img_12.png)"
   ],
   "metadata": {
    "collapsed": false
   },
   "id": "c3f0065e565e62f9"
  },
  {
   "cell_type": "markdown",
   "source": [
    "![](img_13.png)"
   ],
   "metadata": {
    "collapsed": false
   },
   "id": "fa6bc1535304cb92"
  },
  {
   "cell_type": "markdown",
   "source": [
    "![](img_14.png)"
   ],
   "metadata": {
    "collapsed": false
   },
   "id": "af219e5b3c8c81a6"
  },
  {
   "cell_type": "markdown",
   "source": [
    "![](img_15.png)"
   ],
   "metadata": {
    "collapsed": false
   },
   "id": "65d9017c5d78a2d6"
  },
  {
   "cell_type": "markdown",
   "source": [
    "![](img_16.png)"
   ],
   "metadata": {
    "collapsed": false
   },
   "id": "99b712aa805832b5"
  },
  {
   "cell_type": "markdown",
   "source": [
    "![](img_17.png)"
   ],
   "metadata": {
    "collapsed": false
   },
   "id": "736ab0d06ffe1fe1"
  },
  {
   "cell_type": "markdown",
   "source": [
    "![](img_18.png)"
   ],
   "metadata": {
    "collapsed": false
   },
   "id": "d842b0782d63cefc"
  },
  {
   "cell_type": "markdown",
   "source": [
    "![](img_19.png)"
   ],
   "metadata": {
    "collapsed": false
   },
   "id": "9e820297ce761796"
  },
  {
   "cell_type": "markdown",
   "source": [
    "![](img_20.png)"
   ],
   "metadata": {
    "collapsed": false
   },
   "id": "74578d81a9f772eb"
  },
  {
   "cell_type": "markdown",
   "source": [
    "![](img_21.png)"
   ],
   "metadata": {
    "collapsed": false
   },
   "id": "793fcd52f0ab85ff"
  },
  {
   "cell_type": "markdown",
   "source": [
    "![](img_22.png)"
   ],
   "metadata": {
    "collapsed": false
   },
   "id": "97b50b1ca9bdc284"
  },
  {
   "cell_type": "markdown",
   "source": [
    "![](img_23.png)"
   ],
   "metadata": {
    "collapsed": false
   },
   "id": "802a6935b94ce4ec"
  },
  {
   "cell_type": "markdown",
   "source": [
    "![](img_24.png)"
   ],
   "metadata": {
    "collapsed": false
   },
   "id": "1e7f028a0b8a9535"
  },
  {
   "cell_type": "markdown",
   "source": [
    "![](img_25.png)"
   ],
   "metadata": {
    "collapsed": false
   },
   "id": "ac351014e6e38e00"
  },
  {
   "cell_type": "markdown",
   "source": [
    "![](img_26.png)"
   ],
   "metadata": {
    "collapsed": false
   },
   "id": "e09fcbc90ee9f042"
  },
  {
   "cell_type": "markdown",
   "source": [
    "![](img_27.png)"
   ],
   "metadata": {
    "collapsed": false
   },
   "id": "ed336b76fc8befbd"
  },
  {
   "cell_type": "markdown",
   "source": [
    "![](img_28.png)"
   ],
   "metadata": {
    "collapsed": false
   },
   "id": "7b3edb611c99b449"
  },
  {
   "cell_type": "markdown",
   "source": [
    "![](img_29.png)"
   ],
   "metadata": {
    "collapsed": false
   },
   "id": "8369d14143dd05d2"
  },
  {
   "cell_type": "markdown",
   "source": [
    "![](img_30.png)"
   ],
   "metadata": {
    "collapsed": false
   },
   "id": "3dd5628e968fcabf"
  },
  {
   "cell_type": "markdown",
   "source": [
    "![](img_31.png)"
   ],
   "metadata": {
    "collapsed": false
   },
   "id": "b100b6b833bdffc9"
  },
  {
   "cell_type": "markdown",
   "source": [
    "![](img_32.png)"
   ],
   "metadata": {
    "collapsed": false
   },
   "id": "16adc4567b52bc08"
  },
  {
   "cell_type": "markdown",
   "source": [
    "![](img_33.png)"
   ],
   "metadata": {
    "collapsed": false
   },
   "id": "3a24cdef5341b86a"
  },
  {
   "cell_type": "markdown",
   "source": [
    "![](img_34.png)"
   ],
   "metadata": {
    "collapsed": false
   },
   "id": "6c146e48ee50e22c"
  },
  {
   "cell_type": "markdown",
   "source": [
    "![](img_35.png)"
   ],
   "metadata": {
    "collapsed": false
   },
   "id": "b9d3d6f3d17a429c"
  },
  {
   "cell_type": "markdown",
   "source": [
    "![](img_36.png)"
   ],
   "metadata": {
    "collapsed": false
   },
   "id": "685aa30c6641ac71"
  },
  {
   "cell_type": "markdown",
   "source": [
    "![](img_37.png)"
   ],
   "metadata": {
    "collapsed": false
   },
   "id": "d4bf6a8bc168240d"
  },
  {
   "cell_type": "markdown",
   "source": [
    "![](img_38.png)"
   ],
   "metadata": {
    "collapsed": false
   },
   "id": "e1dc4f9806d38fa1"
  },
  {
   "cell_type": "markdown",
   "source": [
    "![](img_39.png)"
   ],
   "metadata": {
    "collapsed": false
   },
   "id": "485aa33e9dfdb275"
  },
  {
   "cell_type": "markdown",
   "source": [
    "![](img_40.png)"
   ],
   "metadata": {
    "collapsed": false
   },
   "id": "72d940df7c8b7d73"
  },
  {
   "cell_type": "markdown",
   "source": [
    "![](img_41.png)"
   ],
   "metadata": {
    "collapsed": false
   },
   "id": "5d1638c7d22339c"
  },
  {
   "cell_type": "markdown",
   "source": [
    "![](img_42.png)"
   ],
   "metadata": {
    "collapsed": false
   },
   "id": "86fccd788e9ac55d"
  },
  {
   "cell_type": "markdown",
   "source": [
    "![](img_43.png)"
   ],
   "metadata": {
    "collapsed": false
   },
   "id": "5312aa3460877d3e"
  },
  {
   "cell_type": "markdown",
   "source": [
    "![](img_44.png)"
   ],
   "metadata": {
    "collapsed": false
   },
   "id": "7ec99583da16d8f6"
  },
  {
   "cell_type": "markdown",
   "source": [
    "![](img_45.png)"
   ],
   "metadata": {
    "collapsed": false
   },
   "id": "5608621962268dd6"
  },
  {
   "cell_type": "markdown",
   "source": [
    "![](img_46.png)"
   ],
   "metadata": {
    "collapsed": false
   },
   "id": "3427ff23a9746252"
  },
  {
   "cell_type": "markdown",
   "source": [
    "![](img_47.png)"
   ],
   "metadata": {
    "collapsed": false
   },
   "id": "fcd036b90355f8d6"
  },
  {
   "cell_type": "markdown",
   "source": [
    "![](img_48.png)"
   ],
   "metadata": {
    "collapsed": false
   },
   "id": "d6a107b4844f6043"
  },
  {
   "cell_type": "markdown",
   "source": [
    "![](img_49.png)"
   ],
   "metadata": {
    "collapsed": false
   },
   "id": "398b8c7cf3836321"
  },
  {
   "cell_type": "markdown",
   "source": [
    "![](img_50.png)"
   ],
   "metadata": {
    "collapsed": false
   },
   "id": "e6aa2660866c775a"
  },
  {
   "cell_type": "markdown",
   "source": [
    "![](img_51.png)"
   ],
   "metadata": {
    "collapsed": false
   },
   "id": "143c64244234ac42"
  },
  {
   "cell_type": "markdown",
   "source": [
    "![](img_52.png)"
   ],
   "metadata": {
    "collapsed": false
   },
   "id": "48eb5db6298e2e7e"
  },
  {
   "cell_type": "markdown",
   "source": [
    "![](img_53.png)"
   ],
   "metadata": {
    "collapsed": false
   },
   "id": "30b70aa5bdbd57f0"
  },
  {
   "cell_type": "markdown",
   "source": [
    "![](img_54.png)"
   ],
   "metadata": {
    "collapsed": false
   },
   "id": "48f82cf3ad900262"
  },
  {
   "cell_type": "markdown",
   "source": [
    "![](img_55.png)"
   ],
   "metadata": {
    "collapsed": false
   },
   "id": "61bcfd635dfa5006"
  },
  {
   "cell_type": "markdown",
   "source": [
    "![](img_56.png)"
   ],
   "metadata": {
    "collapsed": false
   },
   "id": "ad9214906d23cda1"
  },
  {
   "cell_type": "markdown",
   "source": [
    "![](img_57.png)"
   ],
   "metadata": {
    "collapsed": false
   },
   "id": "b586e0c9e4cfcc44"
  },
  {
   "cell_type": "markdown",
   "source": [
    "![](img_58.png)"
   ],
   "metadata": {
    "collapsed": false
   },
   "id": "f39f5e6898c25daf"
  },
  {
   "cell_type": "markdown",
   "source": [
    "![](img_59.png)"
   ],
   "metadata": {
    "collapsed": false
   },
   "id": "d155556de4cd083e"
  },
  {
   "cell_type": "markdown",
   "source": [
    "![](img_60.png)"
   ],
   "metadata": {
    "collapsed": false
   },
   "id": "939000c363859cc3"
  }
 ],
 "metadata": {
  "kernelspec": {
   "display_name": "Python 3",
   "language": "python",
   "name": "python3"
  },
  "language_info": {
   "codemirror_mode": {
    "name": "ipython",
    "version": 2
   },
   "file_extension": ".py",
   "mimetype": "text/x-python",
   "name": "python",
   "nbconvert_exporter": "python",
   "pygments_lexer": "ipython2",
   "version": "2.7.6"
  }
 },
 "nbformat": 4,
 "nbformat_minor": 5
}
