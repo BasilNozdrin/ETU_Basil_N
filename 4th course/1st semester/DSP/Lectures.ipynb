{
 "cells": [
  {
   "cell_type": "markdown",
   "source": [
    "\n",
    "Частота Найквиста\n",
    "\n",
    "$$f_N=\\frac{f_d}{2}=\\frac{1}{2T}; \\omega_N=\\frac{\\omega_d}{2}=\\frac{\\pi}{T};$$\n",
    "\n",
    "$f_d$ - частота дискретизации\n",
    "\n",
    "Частота Найквиста - 0.5 $f_d$\n",
    "\n",
    "Круговая частота $2\\pi$\n"
   ],
   "metadata": {
    "collapsed": false
   },
   "id": "6c250cf1c1ef3e98"
  },
  {
   "cell_type": "markdown",
   "source": [
    "восстановление сигнала может быть неправильным, может быть получен более низкочастотный сигнал\n",
    "\n",
    "![3 слайд](img_2.png)"
   ],
   "metadata": {
    "collapsed": false
   },
   "id": "821d008d7b8d2365"
  },
  {
   "cell_type": "markdown",
   "source": [
    "![](img.png)\n",
    "![](img_2.png)\n",
    "![](img_3.png)\n",
    "![](img_4.png)\n",
    "![](img_5.png)\n",
    "![](img_6.png)\n",
    "![](img_7.png)\n",
    "![](img_8.png)\n",
    "m - номер отсчета (сдвига)\n",
    "![](img_9.png)\n"
   ],
   "metadata": {
    "collapsed": false
   },
   "id": "6fc0afe06999cfda"
  },
  {
   "cell_type": "markdown",
   "source": [
    "![](img_10.png)\n",
    "АКФ $R_s$ обозначается"
   ],
   "metadata": {
    "collapsed": false
   },
   "id": "5150b8b05c121305"
  },
  {
   "cell_type": "markdown",
   "source": [
    "![](img_11.png)"
   ],
   "metadata": {
    "collapsed": false
   },
   "id": "dbb2c48fabc47e2e"
  },
  {
   "cell_type": "markdown",
   "source": [
    "![](img_12.png)\n",
    "![](img_13.png)\n",
    "основной объект изучения на этом курсе\n",
    "N- нормированное дискретное время\n"
   ],
   "metadata": {
    "collapsed": false
   },
   "id": "1c1b2475a3893a8f"
  },
  {
   "cell_type": "markdown",
   "source": [
    "![](img_14.png)\n",
    "Convolution\n"
   ],
   "metadata": {
    "collapsed": false
   },
   "id": "bcfb5cf1f6bc8745"
  },
  {
   "cell_type": "markdown",
   "source": [
    "![](img_15.png)"
   ],
   "metadata": {
    "collapsed": false
   },
   "id": "eeb3fa44e10b85c1"
  },
  {
   "cell_type": "markdown",
   "source": [
    "![](img_16.png)\n",
    "![](img_17.png)\n",
    "![](img_18.png)"
   ],
   "metadata": {
    "collapsed": false
   },
   "id": "72c8a25b6a80af2f"
  },
  {
   "cell_type": "markdown",
   "source": [
    "![](img_19.png)\n",
    "![](img_20.png)\n",
    "рекурсивного фильтра"
   ],
   "metadata": {
    "collapsed": false
   },
   "id": "c33708c08d3c86a6"
  },
  {
   "cell_type": "markdown",
   "source": [
    "![](img_21.png)"
   ],
   "metadata": {
    "collapsed": false
   },
   "id": "92cd77725fcb3426"
  },
  {
   "cell_type": "markdown",
   "source": [
    "![](img_22.png)\n",
    "не обладают"
   ],
   "metadata": {
    "collapsed": false
   },
   "id": "92f24ca0b713bed7"
  }
 ],
 "metadata": {
  "kernelspec": {
   "display_name": "Python 3",
   "language": "python",
   "name": "python3"
  },
  "language_info": {
   "codemirror_mode": {
    "name": "ipython",
    "version": 2
   },
   "file_extension": ".py",
   "mimetype": "text/x-python",
   "name": "python",
   "nbconvert_exporter": "python",
   "pygments_lexer": "ipython2",
   "version": "2.7.6"
  }
 },
 "nbformat": 4,
 "nbformat_minor": 5
}
