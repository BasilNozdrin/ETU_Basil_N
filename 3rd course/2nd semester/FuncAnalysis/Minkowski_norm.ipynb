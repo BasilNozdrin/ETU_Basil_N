{
 "cells": [
  {
   "cell_type": "markdown",
   "id": "7886792b",
   "metadata": {},
   "source": [
    "### ИДЗ1 Функциональный анализ. гр.9383 Ноздрин В.Я.\n",
    "\n",
    "В данной работе реализована функция **norm**, которая вычисляет норму Минковского по многограннику, заданому точками \n",
    "$A = \\begin{bmatrix}\n",
    "    a_{11} & a_{12} & 0 \\\\\n",
    "    a_{21} & 0 & a_{23} \\\\\n",
    "    0 & a_{32} & a_{33} \\\\\n",
    "    a_{41} & 0 & 0 \\\\\n",
    "    0 & a_{52} & 0 \\\\\n",
    "    0 & 0 & a_{63} \n",
    "\\end{bmatrix}$"
   ]
  },
  {
   "cell_type": "code",
   "execution_count": 1,
   "id": "a550eba5",
   "metadata": {},
   "outputs": [],
   "source": [
    "import math,random as rm, time\n",
    "\n",
    "def generatePolyhedron(rmin=1, rmax=10, Rmin=5, Rmax=15):\n",
    "    rm.seed(time.time())\n",
    "    A = {\n",
    "        \"11\": 0, \"12\": 0,             # A1 = a11 a12 0\n",
    "        \"21\": 0, \"23\": 0,             # A2 = a21 0 a23\n",
    "        \"32\": 0, \"33\": 0,             # A3 = 0 a32 a33\n",
    "        \"41\": rm.randint(Rmin, Rmax), # A4 = a41 0 0\n",
    "        \"52\": rm.randint(Rmin, Rmax), # A5 = 0 a52 0\n",
    "        \"63\": rm.randint(Rmin, Rmax), # A6 = 0 0 a63\n",
    "    }\n",
    "    k21 = A[\"52\"] / A[\"41\"]\n",
    "    A[\"11\"] = int(rm.randint(rmin, A[\"41\"]))\n",
    "    A[\"12\"] = int(rm.randint(math.ceil(k21*(A[\"41\"]-A[\"11\"])), A[\"52\"]))\n",
    "    k13 = A[\"41\"] / A[\"63\"]\n",
    "    A[\"23\"] = int(rm.randint(rmin, A[\"63\"]))\n",
    "    A[\"21\"] = int(rm.randint(int(k13*(A[\"63\"]-A[\"23\"])), A[\"41\"]))\n",
    "    k32 = A[\"63\"] / A[\"52\"]\n",
    "    A[\"32\"] = int(rm.randint(rmin, A[\"52\"]))\n",
    "    A[\"33\"] = int(rm.randint(int(k32*(A[\"52\"]-A[\"32\"])), A[\"63\"]))\n",
    "    ptsArray = [\n",
    "        [A[\"11\"],A[\"12\"],0],\n",
    "        [A[\"21\"],0,A[\"23\"]],\n",
    "        [0,A[\"32\"],A[\"33\"]],\n",
    "        [A[\"41\"],0,0],\n",
    "        [0,A[\"52\"],0],\n",
    "        [0,0,A[\"63\"]]\n",
    "    ]\n",
    "    return ptsArray"
   ]
  },
  {
   "cell_type": "code",
   "execution_count": 2,
   "id": "ecc88658",
   "metadata": {},
   "outputs": [],
   "source": [
    "def CrossProduct(x, y):\n",
    "    return [\n",
    "        x[1] * y[2] - x[2] * y[1],\n",
    "        x[2] * y[0] - x[0] * y[2],\n",
    "        x[0] * y[1] - x[1] * y[0]\n",
    "    ]\n",
    "\n",
    "\n",
    "def DotProduct(x,y):\n",
    "    return x[0]*y[0]+x[1]*y[1]+x[2]*y[2]\n",
    "\n",
    "\n",
    "def norm(point, poly=None):\n",
    "    try:\n",
    "        x, y, z = point\n",
    "        x, y, z = map(abs,[x,y,z])\n",
    "    except ValueError:\n",
    "        raise ValueError(\"point must be from 3-dimentional space\")\n",
    "    if poly == None:\n",
    "        return math.sqrt(x*x+y*y+z*z)\n",
    "    cones = [\n",
    "        [poly[0],poly[1],poly[2]],\n",
    "        [poly[1],poly[0],poly[3]],\n",
    "        [poly[0],poly[2],poly[4]],\n",
    "        [poly[2],poly[1],poly[5]]\n",
    "    ]\n",
    "    for (V1, V2, V3) in cones:\n",
    "        N1 = CrossProduct(V2, V3)\n",
    "        N2 = CrossProduct(V1, V3)\n",
    "        N3 = CrossProduct(V1, V2)\n",
    "        n1 = list(map(lambda x: x/DotProduct(N1, V1), N1))\n",
    "        n2 = list(map(lambda x: x/DotProduct(N2, V2), N2))\n",
    "        n3 = list(map(lambda x: x/DotProduct(N3, V3), N3))\n",
    "        k1 = DotProduct(n1, point)\n",
    "        k2 = DotProduct(n2, point)\n",
    "        k3 = DotProduct(n3, point)\n",
    "        if k1 >= 0 and k2 >= 0 and k3 >= 0:\n",
    "            return k1+k2+k3\n",
    "    return -1\n",
    "    "
   ]
  },
  {
   "cell_type": "code",
   "execution_count": 3,
   "id": "46aed02b",
   "metadata": {},
   "outputs": [
    {
     "name": "stdout",
     "output_type": "stream",
     "text": [
      "[[6, 2, 0], [2, 0, 8], [0, 3, 11], [7, 0, 0], [0, 7, 0], [0, 0, 13]]\n"
     ]
    }
   ],
   "source": [
    "poly = generatePolyhedron()\n",
    "print(poly)"
   ]
  },
  {
   "cell_type": "code",
   "execution_count": 6,
   "id": "66a8da59",
   "metadata": {
    "scrolled": true
   },
   "outputs": [
    {
     "name": "stdout",
     "output_type": "stream",
     "text": [
      "[88, 12, 91]\n"
     ]
    }
   ],
   "source": [
    "point = [rm.randint(0, 100),rm.randint(0, 100),rm.randint(0, 100)]\n",
    "# point = [2, 0, 14]\n",
    "print(point)"
   ]
  },
  {
   "cell_type": "code",
   "execution_count": 7,
   "id": "c1f12c6f",
   "metadata": {},
   "outputs": [
    {
     "name": "stdout",
     "output_type": "stream",
     "text": [
      "21.55357142857143\n"
     ]
    }
   ],
   "source": [
    "print(norm(point, poly))"
   ]
  },
  {
   "cell_type": "code",
   "execution_count": null,
   "id": "338c7d18",
   "metadata": {},
   "outputs": [],
   "source": []
  }
 ],
 "metadata": {
  "kernelspec": {
   "display_name": "Python 3 (ipykernel)",
   "language": "python",
   "name": "python3"
  },
  "language_info": {
   "codemirror_mode": {
    "name": "ipython",
    "version": 3
   },
   "file_extension": ".py",
   "mimetype": "text/x-python",
   "name": "python",
   "nbconvert_exporter": "python",
   "pygments_lexer": "ipython3",
   "version": "3.10.2"
  }
 },
 "nbformat": 4,
 "nbformat_minor": 5
}
