{
 "cells": [
  {
   "cell_type": "markdown",
   "id": "86e83f2c",
   "metadata": {},
   "source": []
  },
  {
   "cell_type": "code",
   "execution_count": 4,
   "id": "54e2f178",
   "metadata": {},
   "outputs": [],
   "source": [
    "import random as rm"
   ]
  },
  {
   "cell_type": "code",
   "execution_count": 15,
   "id": "7390943a",
   "metadata": {},
   "outputs": [],
   "source": [
    "import numpy as np, numpy.linalg as npl"
   ]
  },
  {
   "cell_type": "code",
   "execution_count": 16,
   "id": "a3f193ad",
   "metadata": {},
   "outputs": [],
   "source": [
    "rm.seed()"
   ]
  },
  {
   "cell_type": "markdown",
   "id": "7ca4b4a4",
   "metadata": {},
   "source": [
    "$A = \\\\\n",
    "a_{11}, a_{12}, 0\\\\\n",
    "a_{21}, 0, a_{23}\\\\\n",
    "0, a_{32}, a_{33}\\\\\n",
    "a_{41}, 0, 0\\\\\n",
    "0, a_{52}, 0\\\\\n",
    "0, 0, a_{63}\\\\\n",
    "$"
   ]
  },
  {
   "cell_type": "code",
   "execution_count": 36,
   "id": "0b49dc94",
   "metadata": {},
   "outputs": [],
   "source": [
    "Rmax = 10\n",
    "A = {\n",
    "    \"a11\": rm.randint(1, Rmax),\"a12\": rm.randint(1, Rmax), # A1 = a11 a12 0\n",
    "    \"a21\": rm.randint(1, Rmax),\"a23\": rm.randint(1, Rmax), # A2 = a21 0 a23\n",
    "    \"a32\": rm.randint(1, Rmax),\"a33\": rm.randint(1, Rmax), # A3 = 0 a32 a33\n",
    "    \"a41\": rm.randint(1, Rmax),                            # A4 = a41 0 0\n",
    "    \"a52\": rm.randint(1, Rmax),                            # A5 = 0 a52 0\n",
    "    \"a63\": rm.randint(1, Rmax),                            # A6 = 0 0 a63\n",
    "}"
   ]
  },
  {
   "cell_type": "code",
   "execution_count": null,
   "id": "b3764810",
   "metadata": {},
   "outputs": [],
   "source": []
  },
  {
   "cell_type": "code",
   "execution_count": 33,
   "id": "015f1bde",
   "metadata": {},
   "outputs": [
    {
     "data": {
      "text/plain": [
       "array([-1,  4,  8])"
      ]
     },
     "execution_count": 33,
     "metadata": {},
     "output_type": "execute_result"
    }
   ],
   "source": []
  },
  {
   "cell_type": "code",
   "execution_count": null,
   "id": "a0eca53a",
   "metadata": {},
   "outputs": [],
   "source": []
  }
 ],
 "metadata": {
  "kernelspec": {
   "display_name": "Python 3 (ipykernel)",
   "language": "python",
   "name": "python3"
  },
  "language_info": {
   "codemirror_mode": {
    "name": "ipython",
    "version": 3
   },
   "file_extension": ".py",
   "mimetype": "text/x-python",
   "name": "python",
   "nbconvert_exporter": "python",
   "pygments_lexer": "ipython3",
   "version": "3.10.2"
  }
 },
 "nbformat": 4,
 "nbformat_minor": 5
}
