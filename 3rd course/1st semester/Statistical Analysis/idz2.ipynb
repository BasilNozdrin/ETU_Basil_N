{
 "cells": [
  {
   "cell_type": "markdown",
   "id": "8c03a2b0",
   "metadata": {},
   "source": [
    "# ИДЗ 2 (вариант 13)\n",
    "## Ноздрин В.Я. гр. 9383"
   ]
  },
  {
   "cell_type": "code",
   "execution_count": 3,
   "id": "31a644df",
   "metadata": {},
   "outputs": [],
   "source": [
    "library(\"IRdisplay\")\n",
    "library(\"maxLik\")"
   ]
  },
  {
   "cell_type": "markdown",
   "id": "3fb42dc1",
   "metadata": {},
   "source": [
    "## Задание 1  \n",
    "\n",
    "### a) Построить вариационный ряд, эмпирическую функцию распределения и гистограмму частот.  \n",
    "\n",
    "**Таблица 1** $\\alpha_1=0.10;\\quad a=3.90;\\quad b=10.48;\\quad\\lambda_0=4.00;\\quad\\lambda_1=8.00$  \n",
    "$6,\\ 0,\\ 4,\\ 4,\\ 4,\\ 1,\\ 10,\\ 9,\\ 10,\\ 7,$  \n",
    "$2,\\ 3,\\ 14,\\ 23,\\ 2,\\ 0,\\ 0,\\ 4,\\ 2,\\ 18,$  \n",
    "$7,\\ 6,\\ 8,\\ 7,\\ 0,\\ 1,\\ 27,\\ 2,\\ 5,\\ 0,$  \n",
    "$2,\\ 4,\\ 7,\\ 4,\\ 1,\\ 12,\\ 3,\\ 2,\\ 3,\\ 0,$  \n",
    "$7,\\ 0,\\ 0,\\ 1,\\ 0,\\ 2,\\ 2,\\ 1,\\ 4,\\ 16$  "
   ]
  },
  {
   "cell_type": "code",
   "execution_count": 15,
   "id": "00c7f6fd",
   "metadata": {},
   "outputs": [
    {
     "data": {
      "text/html": [
       "<style>\n",
       ".list-inline {list-style: none; margin:0; padding: 0}\n",
       ".list-inline>li {display: inline-block}\n",
       ".list-inline>li:not(:last-child)::after {content: \"\\00b7\"; padding: 0 .5ex}\n",
       "</style>\n",
       "<ol class=list-inline><li>0</li><li>0</li><li>0</li><li>0</li><li>0</li><li>0</li><li>0</li><li>0</li><li>0</li><li>1</li><li>1</li><li>1</li><li>1</li><li>1</li><li>2</li><li>2</li><li>2</li><li>2</li><li>2</li><li>2</li><li>2</li><li>2</li><li>3</li><li>3</li><li>3</li><li>4</li><li>4</li><li>4</li><li>4</li><li>4</li><li>4</li><li>4</li><li>5</li><li>6</li><li>6</li><li>7</li><li>7</li><li>7</li><li>7</li><li>7</li><li>8</li><li>9</li><li>10</li><li>10</li><li>12</li><li>14</li><li>16</li><li>18</li><li>23</li><li>27</li></ol>\n"
      ],
      "text/latex": [
       "\\begin{enumerate*}\n",
       "\\item 0\n",
       "\\item 0\n",
       "\\item 0\n",
       "\\item 0\n",
       "\\item 0\n",
       "\\item 0\n",
       "\\item 0\n",
       "\\item 0\n",
       "\\item 0\n",
       "\\item 1\n",
       "\\item 1\n",
       "\\item 1\n",
       "\\item 1\n",
       "\\item 1\n",
       "\\item 2\n",
       "\\item 2\n",
       "\\item 2\n",
       "\\item 2\n",
       "\\item 2\n",
       "\\item 2\n",
       "\\item 2\n",
       "\\item 2\n",
       "\\item 3\n",
       "\\item 3\n",
       "\\item 3\n",
       "\\item 4\n",
       "\\item 4\n",
       "\\item 4\n",
       "\\item 4\n",
       "\\item 4\n",
       "\\item 4\n",
       "\\item 4\n",
       "\\item 5\n",
       "\\item 6\n",
       "\\item 6\n",
       "\\item 7\n",
       "\\item 7\n",
       "\\item 7\n",
       "\\item 7\n",
       "\\item 7\n",
       "\\item 8\n",
       "\\item 9\n",
       "\\item 10\n",
       "\\item 10\n",
       "\\item 12\n",
       "\\item 14\n",
       "\\item 16\n",
       "\\item 18\n",
       "\\item 23\n",
       "\\item 27\n",
       "\\end{enumerate*}\n"
      ],
      "text/markdown": [
       "1. 0\n",
       "2. 0\n",
       "3. 0\n",
       "4. 0\n",
       "5. 0\n",
       "6. 0\n",
       "7. 0\n",
       "8. 0\n",
       "9. 0\n",
       "10. 1\n",
       "11. 1\n",
       "12. 1\n",
       "13. 1\n",
       "14. 1\n",
       "15. 2\n",
       "16. 2\n",
       "17. 2\n",
       "18. 2\n",
       "19. 2\n",
       "20. 2\n",
       "21. 2\n",
       "22. 2\n",
       "23. 3\n",
       "24. 3\n",
       "25. 3\n",
       "26. 4\n",
       "27. 4\n",
       "28. 4\n",
       "29. 4\n",
       "30. 4\n",
       "31. 4\n",
       "32. 4\n",
       "33. 5\n",
       "34. 6\n",
       "35. 6\n",
       "36. 7\n",
       "37. 7\n",
       "38. 7\n",
       "39. 7\n",
       "40. 7\n",
       "41. 8\n",
       "42. 9\n",
       "43. 10\n",
       "44. 10\n",
       "45. 12\n",
       "46. 14\n",
       "47. 16\n",
       "48. 18\n",
       "49. 23\n",
       "50. 27\n",
       "\n",
       "\n"
      ],
      "text/plain": [
       " [1]  0  0  0  0  0  0  0  0  0  1  1  1  1  1  2  2  2  2  2  2  2  2  3  3  3\n",
       "[26]  4  4  4  4  4  4  4  5  6  6  7  7  7  7  7  8  9 10 10 12 14 16 18 23 27"
      ]
     },
     "metadata": {},
     "output_type": "display_data"
    },
    {
     "data": {
      "text/plain": [
       "table1\n",
       " 0  1  2  3  4  5  6  7  8  9 10 12 14 16 18 23 27 \n",
       " 9  5  8  3  7  1  2  5  1  1  2  1  1  1  1  1  1 "
      ]
     },
     "metadata": {},
     "output_type": "display_data"
    },
    {
     "data": {
      "image/png": "[encoded data removed]",
      "text/plain": [
       "Plot with title “ecdf(table1)”"
      ]
     },
     "metadata": {
      "image/png": {
       "height": 420,
       "width": 420
      }
     },
     "output_type": "display_data"
    },
    {
     "data": {
      "image/png": "[encoded data removed]",
      "text/plain": [
       "Plot with title “Histogram of table1”"
      ]
     },
     "metadata": {
      "image/png": {
       "height": 420,
       "width": 420
      }
     },
     "output_type": "display_data"
    }
   ],
   "source": [
    "alpha1 = 0.10\n",
    "a = 3.90\n",
    "b = 10.48\n",
    "lambda0 = 4.00\n",
    "lambda1 = 5.00\n",
    "table1 = c(\n",
    "    6,  0,  4,  4,  4,  1, 10,  9, 10,  7,\n",
    "    2,  3, 14, 23,  2,  0,  0,  4,  2, 18,\n",
    "    7,  6,  8,  7,  0,  1, 27,  2,  5,  0,\n",
    "    2,  4,  7,  4,  1, 12,  3,  2,  3,  0,\n",
    "    7,  0,  0,  1,  0,  2,  2,  1,  4, 16\n",
    ")\n",
    "len = length(table1)\n",
    "sort(table1)\n",
    "table(table1)\n",
    "plot(ecdf(table1))\n",
    "histogram = hist(table1, breaks=seq(min(table1), max(table1), by=1.0))"
   ]
  },
  {
   "cell_type": "markdown",
   "id": "02520c34",
   "metadata": {},
   "source": [
    "$F(x) = \\left\\{\n",
    "\\begin{matrix}\n",
    "    0              , x < 0        \\\\\n",
    "    \\frac{9}{50}   , x \\in [0, 1) \\\\\n",
    "    \\frac{14}{50}  , x \\in [1, 2) \\\\\n",
    "    \\frac{22}{50}  , x \\in [2, 3) \\\\\n",
    "    \\frac{25}{50}  , x \\in [3, 4) \\\\\n",
    "    \\frac{32}{50}  , x \\in [4, 5) \\\\\n",
    "    \\frac{33}{50}  , x \\in [5, 6) \\\\\n",
    "    \\frac{35}{50}  , x \\in [6, 7) \\\\\n",
    "    \\frac{40}{50}  , x \\in [7, 8) \\\\\n",
    "    \\frac{41}{50}  , x \\in [8, 9) \\\\\n",
    "    \\frac{42}{50}  , x \\in [9, 10) \\\\\n",
    "    \\frac{44}{50}  , x \\in [10, 12) \\\\\n",
    "    \\frac{45}{50}  , x \\in [12, 14) \\\\\n",
    "    \\frac{46}{50}  , x \\in [14, 16) \\\\\n",
    "    \\frac{47}{50}  , x \\in [16, 18) \\\\\n",
    "    \\frac{48}{50}  , x \\in [18, 23) \\\\\n",
    "    \\frac{49}{50}  , x \\in [23, 27) \\\\\n",
    "    1              , x \\geq 27\n",
    "\\end{matrix}\\right.$\n",
    "\n",
    "## Задание 1  \n",
    "\n",
    "### b) Вычислить выборочные аналоги следующих числовых характеристик:\n",
    "\n",
    "(i) мат.ожидания (ii) дисперсии (iii) медианы (iv) асимметрии (v) эксцесса (vi) вероятности $P(X\\in[a,b])$\n",
    "\n",
    "#### Математическое ожидание\n",
    "\n",
    "$$\\bar X=\\frac{1}{n}\\sum_{i=1}^{n}X_i$$\n",
    "\n",
    "#### Дисперсия\n",
    "\n",
    "$$D^2=\\frac{1}{n}\\sum_{i=1}^{n}(x_i-\\bar x)$$\n",
    "\n",
    "#### Асимметрия\n",
    "\n",
    "$$A_s=\\frac{E[(X-EX)^3]}{[\\sqrt{D[x]}]^3}$$\n",
    "\n",
    "#### Эксцесс\n",
    "\n",
    "$$\\gamma_2 = \\frac {E[(X - EX)^4]}{[\\sqrt{D[x]}]^4} - 3$$\n",
    "\n",
    "#### Вероятность $P(X\\in[a, b])$\n",
    "\n",
    "$P(X\\in[3.90,10.48])=F(10.48)-F(3.90)=\\frac{44}{50}-\\frac{25}{50}=\\frac{19}{50}=0.38$"
   ]
  },
  {
   "cell_type": "code",
   "execution_count": 16,
   "id": "f9e6e1e6",
   "metadata": {},
   "outputs": [
    {
     "name": "stdout",
     "output_type": "stream",
     "text": [
      "Мат.ожидание: 5.14 \t\tДисперсия: 35.10245 \t\tМедиана: 3.5 \n",
      "Асимметрия: 1.831823 \t\tЭксцесс: 3.327046 \n",
      "\n",
      "Вероятность, что X принадлежит [a,b]: 0.38"
     ]
    }
   ],
   "source": [
    "tableMean = mean(table1)\n",
    "tableVar = var(table1)\n",
    "tableMedian = median(table1)\n",
    "tableAsymetry = (mean((table1-tableMean)^3))/(sqrt(tableVar)^3)\n",
    "tableExcess = (mean((table1-tableMean)^4))/(sqrt(tableVar)^4) - 3 \n",
    "probability_ab = ecdf(table1)(10.48)-ecdf(table1)(3.9)\n",
    "\n",
    "cat(\"Мат.ожидание:\", tableMean, \"\\t\\tДисперсия:\", tableVar, \"\\t\\tМедиана:\", tableMedian,\n",
    "    \"\\nАсимметрия:\", tableAsymetry, \"\\t\\tЭксцесс:\", tableExcess,\n",
    "    \"\\n\\nВероятность, что X принадлежит [a,b]:\", probability_ab\n",
    ")"
   ]
  },
  {
   "cell_type": "markdown",
   "id": "1d8c9756",
   "metadata": {},
   "source": [
    "### c) В предположении, что исходные наблюдения являются выборкой из распределения Пуассона, построить оценку максимального правдоподобия параметра $\\lambda$, а также оценку $\\lambda$ по методу моментов. Найти смещение оценок."
   ]
  },
  {
   "cell_type": "code",
   "execution_count": 17,
   "id": "291057d0",
   "metadata": {},
   "outputs": [
    {
     "data": {
      "text/html": [
       "5.14000000368613"
      ],
      "text/latex": [
       "5.14000000368613"
      ],
      "text/markdown": [
       "5.14000000368613"
      ],
      "text/plain": [
       "[1] 5.14"
      ]
     },
     "metadata": {},
     "output_type": "display_data"
    },
    {
     "data": {
      "text/html": [
       "5.14"
      ],
      "text/latex": [
       "5.14"
      ],
      "text/markdown": [
       "5.14"
      ],
      "text/plain": [
       "[1] 5.14"
      ]
     },
     "metadata": {},
     "output_type": "display_data"
    }
   ],
   "source": [
    "LL<-function(t){\n",
    "    sum(dpois(table1 ,t[1],log=TRUE))\n",
    "}\n",
    "ml<-maxNR(LL,start=c(1))\n",
    "ml$estimate\n",
    "mean(table1)"
   ]
  },
  {
   "cell_type": "markdown",
   "id": "955faf1f",
   "metadata": {},
   "source": [
    "Оценка несмещенная\n",
    "\n",
    "### d) Построить асимптотический доверительный интервал уровня значимости $\\alpha_1$ для параметра $\\lambda$ на базе оценки максимального правдоподобия."
   ]
  },
  {
   "cell_type": "code",
   "execution_count": 18,
   "id": "c747cdb7",
   "metadata": {},
   "outputs": [
    {
     "data": {
      "text/html": [
       "<style>\n",
       ".dl-inline {width: auto; margin:0; padding: 0}\n",
       ".dl-inline>dt, .dl-inline>dd {float: none; width: auto; display: inline-block}\n",
       ".dl-inline>dt::after {content: \":\\0020\"; padding-right: .5ex}\n",
       ".dl-inline>dt:not(:first-of-type) {padding-left: .5ex}\n",
       "</style><dl class=dl-inline><dt>0%</dt><dd>0</dd><dt>10%</dt><dd>0</dd><dt>20%</dt><dd>1</dd><dt>30%</dt><dd>2</dd><dt>40%</dt><dd>2</dd><dt>50%</dt><dd>3.5</dd><dt>60%</dt><dd>4</dd><dt>70%</dt><dd>6.3</dd><dt>80%</dt><dd>7.2</dd><dt>90%</dt><dd>12.2</dd><dt>100%</dt><dd>27</dd></dl>\n"
      ],
      "text/latex": [
       "\\begin{description*}\n",
       "\\item[0\\textbackslash{}\\%] 0\n",
       "\\item[10\\textbackslash{}\\%] 0\n",
       "\\item[20\\textbackslash{}\\%] 1\n",
       "\\item[30\\textbackslash{}\\%] 2\n",
       "\\item[40\\textbackslash{}\\%] 2\n",
       "\\item[50\\textbackslash{}\\%] 3.5\n",
       "\\item[60\\textbackslash{}\\%] 4\n",
       "\\item[70\\textbackslash{}\\%] 6.3\n",
       "\\item[80\\textbackslash{}\\%] 7.2\n",
       "\\item[90\\textbackslash{}\\%] 12.2\n",
       "\\item[100\\textbackslash{}\\%] 27\n",
       "\\end{description*}\n"
      ],
      "text/markdown": [
       "0%\n",
       ":   010%\n",
       ":   020%\n",
       ":   130%\n",
       ":   240%\n",
       ":   250%\n",
       ":   3.560%\n",
       ":   470%\n",
       ":   6.380%\n",
       ":   7.290%\n",
       ":   12.2100%\n",
       ":   27\n",
       "\n"
      ],
      "text/plain": [
       "  0%  10%  20%  30%  40%  50%  60%  70%  80%  90% 100% \n",
       " 0.0  0.0  1.0  2.0  2.0  3.5  4.0  6.3  7.2 12.2 27.0 "
      ]
     },
     "metadata": {},
     "output_type": "display_data"
    },
    {
     "name": "stdout",
     "output_type": "stream",
     "text": [
      "Выборочное среднее: 5.14 \t\tКорень: 0.7944759 \n",
      "Квантиль с alpha1=0.1 0 \t\tКорень умножить на квантиль: 0 \n",
      "Левая граница: 5.14 \t\t\tПравая граница: 5.14"
     ]
    }
   ],
   "source": [
    "quantile(table1, probs=seq(0, 1, 0.1))\n",
    "\n",
    "cat(\"Выборочное среднее:\", mean(table1), \"\\t\\tКорень:\", sqrt(mean(table1)*(mean(table1)+1)/length(table1)),\n",
    "    \"\\nКвантиль с alpha1=0.1\", 0,        \"\\t\\tКорень умножить на квантиль:\", 0,\n",
    "    \"\\nЛевая граница:\", mean(table1),  \"\\t\\t\\tПравая граница:\", mean(table1)\n",
    ")"
   ]
  }
 ],
 "metadata": {
  "hide_input": false,
  "kernelspec": {
   "display_name": "R",
   "language": "R",
   "name": "ir"
  },
  "language_info": {
   "codemirror_mode": "r",
   "file_extension": ".r",
   "mimetype": "text/x-r-source",
   "name": "R",
   "pygments_lexer": "r",
   "version": "4.1.2"
  },
  "latex_envs": {
   "LaTeX_envs_menu_present": true,
   "autoclose": false,
   "autocomplete": true,
   "bibliofile": "biblio.bib",
   "cite_by": "apalike",
   "current_citInitial": 1,
   "eqLabelWithNumbers": true,
   "eqNumInitial": 1,
   "hotkeys": {
    "equation": "Ctrl-E",
    "itemize": "Ctrl-I"
   },
   "labels_anchors": false,
   "latex_user_defs": false,
   "report_style_numbering": false,
   "user_envs_cfg": false
  },
  "toc": {
   "base_numbering": 1,
   "nav_menu": {},
   "number_sections": true,
   "sideBar": true,
   "skip_h1_title": false,
   "title_cell": "Table of Contents",
   "title_sidebar": "Contents",
   "toc_cell": false,
   "toc_position": {},
   "toc_section_display": true,
   "toc_window_display": false
  }
 },
 "nbformat": 4,
 "nbformat_minor": 5
}
