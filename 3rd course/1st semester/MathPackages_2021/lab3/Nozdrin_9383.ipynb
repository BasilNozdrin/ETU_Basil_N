{
 "cells": [
  {
   "cell_type": "markdown",
   "metadata": {},
   "source": [
    "# Практическая работа №3:  \n",
    "## Практическое применение библиотеки символьных вычислений Python (SymPy) для решения задач дискретной математики и математической логики"
   ]
  },
  {
   "cell_type": "markdown",
   "metadata": {},
   "source": [
    "Выполнил студент гр. 9383 Ноздрин Василий. Вариант 13."
   ]
  },
  {
   "cell_type": "markdown",
   "metadata": {},
   "source": [
    "## Постановка задачи  \n",
    "\n",
    "1. Решить вариант диофантова уравнения.  \n",
    "1. Имея открытую часть ключа RSA найти соответствующую закрытую часть и расшифровать кодированное слово.  \n",
    "1. Записать в формате ДНФ и КНФ булеву функцию, заданную своим аналитическим выражением.  \n"
   ]
  },
  {
   "cell_type": "markdown",
   "metadata": {},
   "source": [
    "## Выполнение работы"
   ]
  },
  {
   "cell_type": "markdown",
   "metadata": {},
   "source": [
    "Решить уравнение $1883x-875y=-35$"
   ]
  },
  {
   "cell_type": "code",
   "execution_count": 1,
   "metadata": {
    "scrolled": true
   },
   "outputs": [],
   "source": [
    "from sympy.solvers.diophantine import diophantine\n",
    "from sympy import symbols"
   ]
  },
  {
   "cell_type": "code",
   "execution_count": 2,
   "metadata": {
    "scrolled": false
   },
   "outputs": [
    {
     "data": {
      "text/plain": [
       "{(125*t_0 + 230, -269*t_0 - 495)}"
      ]
     },
     "execution_count": 2,
     "metadata": {},
     "output_type": "execute_result"
    }
   ],
   "source": [
    "diophantine(1883*symbols('x') + 875*symbols('y') + 35)"
   ]
  },
  {
   "cell_type": "markdown",
   "metadata": {},
   "source": [
    "Это соответствует решению $$x=125c+230,\\quad y = -269c-495,\\quad c\\in \\mathbb{Z}$$"
   ]
  },
  {
   "cell_type": "markdown",
   "metadata": {},
   "source": [
    "Русское слово из четырех букв закодировано алгоритмом RSA открытым ключом $(e=7, m=33)$. Шифрованное сообщение имеет вид $(7;4;12;13)$. Подберите закрытую часть ключа и прочитайте исходное слово. Буквами русского алфавита соответствуют числа в диапазоне от 2 до 32, исключая буквы 'ё' и 'ъ'."
   ]
  },
  {
   "cell_type": "code",
   "execution_count": 3,
   "metadata": {},
   "outputs": [],
   "source": [
    "from sympy.crypto.crypto import rsa_private_key, decipher_rsa"
   ]
  },
  {
   "cell_type": "code",
   "execution_count": 4,
   "metadata": {},
   "outputs": [
    {
     "name": "stdout",
     "output_type": "stream",
     "text": [
      "Приватный ключ: (33, 3)\n",
      "Слово: люкс\n"
     ]
    }
   ],
   "source": [
    "private_key = rsa_private_key(33, 7)\n",
    "encoded_word = [7, 4, 12, 13]\n",
    "alphabet = [chr(x) for x in range(ord('а'), ord('я')+1)]\n",
    "alphabet.remove('ъ')\n",
    "decoded_word = ''.join([\n",
    "    alphabet[decipher_rsa(x, private_key)-2] for x in encoded_word\n",
    "])\n",
    "print(f\"Приватный ключ: {private_key}\\nСлово: {decoded_word}\")"
   ]
  },
  {
   "cell_type": "markdown",
   "metadata": {},
   "source": [
    "Записать в формате ДНФ и КНФ булеву функцию, заданную своим аналитическим выражением $f(x,y,z)=((z\\vee y)(x\\otimes y))\\otimes(z(x\\vee z))$."
   ]
  },
  {
   "cell_type": "code",
   "execution_count": 5,
   "metadata": {},
   "outputs": [],
   "source": [
    "from sympy.logic.boolalg import to_dnf, to_cnf"
   ]
  },
  {
   "cell_type": "code",
   "execution_count": 6,
   "metadata": {
    "scrolled": false
   },
   "outputs": [
    {
     "name": "stdout",
     "output_type": "stream",
     "text": [
      "(x & y & z) | (y & ~x & ~z) | (z & ~x & ~y)\n",
      "(y | z) & (y | ~x) & (z | ~x) & (x | ~y | ~z)\n"
     ]
    }
   ],
   "source": [
    "x, y, z = symbols('x y z')\n",
    "\n",
    "f = ((z | y) & (x ^ y)) ^ (z & (x | z))\n",
    "\n",
    "print(to_dnf(f,True), to_cnf(f,True), sep='\\n')"
   ]
  },
  {
   "cell_type": "markdown",
   "metadata": {},
   "source": [
    "Это соответствует выражениям $xyz\\vee\\overline{x}y\\overline{z}\\vee\\overline{x}\\overline{y}z, \\quad (y\\vee z)(\\overline{x}\\vee y)(\\overline{x}z)(x\\vee\\overline{y}\\vee\\overline{z})$"
   ]
  },
  {
   "cell_type": "markdown",
   "metadata": {},
   "source": [
    "## Вывод  \n",
    "\n",
    "В ходе выполнения данной лабораторной работы была изучена библиотека символьных вычислений ***SymPy***. С помощью данной библиотеки были решены три задачи."
   ]
  }
 ],
 "metadata": {
  "kernelspec": {
   "display_name": "Python 3 (ipykernel)",
   "language": "python",
   "name": "python3"
  },
  "language_info": {
   "codemirror_mode": {
    "name": "ipython",
    "version": 3
   },
   "file_extension": ".py",
   "mimetype": "text/x-python",
   "name": "python",
   "nbconvert_exporter": "python",
   "pygments_lexer": "ipython3",
   "version": "3.9.9"
  }
 },
 "nbformat": 4,
 "nbformat_minor": 4
}
