{
 "cells": [
  {
   "cell_type": "markdown",
   "metadata": {},
   "source": [
    "### Моделирование задачи **\"хищник-жертва\"** \n",
    "\n",
    "**F_n** -- хищники  \n",
    "**R_n** -- жертвы  \n",
    "**b(u)** -- скорость размножения  \n",
    "**a** - процент удачи охот  "
   ]
  },
  {
   "cell_type": "code",
   "execution_count": 4,
   "metadata": {
    "collapsed": true
   },
   "outputs": [
    {
     "name": "stdout",
     "output_type": "stream",
     "text": [
      "Requirement already satisfied: matplotlib in /home/ice-jack/.local/lib/python3.8/site-packages (3.3.2)\r\n",
      "Requirement already satisfied: pyparsing!=2.0.4,!=2.1.2,!=2.1.6,>=2.0.3 in /usr/lib/python3.8/site-packages (from matplotlib) (2.4.7)\r\n",
      "Requirement already satisfied: numpy>=1.15 in /home/ice-jack/.local/lib/python3.8/site-packages (from matplotlib) (1.18.4)\r\n",
      "Requirement already satisfied: python-dateutil>=2.1 in /home/ice-jack/.local/lib/python3.8/site-packages (from matplotlib) (2.8.1)\r\n",
      "Requirement already satisfied: cycler>=0.10 in /home/ice-jack/.local/lib/python3.8/site-packages (from matplotlib) (0.10.0)\r\n",
      "Requirement already satisfied: pillow>=6.2.0 in /usr/lib/python3.8/site-packages (from matplotlib) (7.2.0)\r\n",
      "Requirement already satisfied: certifi>=2020.06.20 in /usr/lib/python3.8/site-packages (from matplotlib) (2020.6.20)\r\n",
      "Requirement already satisfied: kiwisolver>=1.0.1 in /home/ice-jack/.local/lib/python3.8/site-packages (from matplotlib) (1.2.0)\r\n",
      "Requirement already satisfied: six>=1.5 in /usr/lib/python3.8/site-packages (from python-dateutil>=2.1->matplotlib) (1.15.0)\r\n"
     ]
    }
   ],
   "source": [
    "!pip install --user matplotlib"
   ]
  },
  {
   "cell_type": "code",
   "execution_count": 22,
   "metadata": {},
   "outputs": [],
   "source": [
    "import matplotlib\n",
    "import numpy\n",
    "import math"
   ]
  },
  {
   "cell_type": "code",
   "execution_count": 78,
   "metadata": {},
   "outputs": [],
   "source": [
    "def genData(a, b, d, f, r, n):\n",
    "    f = f[::]\n",
    "    r = r[::]\n",
    "    for i in range(1, n):\n",
    "        f.append(max(0, int(\n",
    "            f[i-1] - d*f[i-1] + a*f[i-1]*r[i-1])))\n",
    "        r.append(max(0, int(\n",
    "            r[i-1] + b(i)*r[i-1] - a*f[i-1]*r[i-1])))\n",
    "    return (f, r)\n"
   ]
  },
  {
   "cell_type": "markdown",
   "metadata": {},
   "source": [
    "первый набор данных"
   ]
  },
  {
   "cell_type": "code",
   "execution_count": 101,
   "metadata": {},
   "outputs": [],
   "source": [
    "a = 0.007\n",
    "def b(n):\n",
    "    return 0.7\n",
    "d = 0.5\n",
    "f = [5]\n",
    "r = [200]\n",
    "n = 20"
   ]
  },
  {
   "cell_type": "code",
   "execution_count": 131,
   "metadata": {},
   "outputs": [
    {
     "data": {
      "image/png": "[encoded data removed]",
      "text/plain": [
       "<Figure size 432x288 with 1 Axes>"
      ]
     },
     "metadata": {
      "needs_background": "light"
     },
     "output_type": "display_data"
    }
   ],
   "source": [
    "%matplotlib inline\n",
    "\n",
    "x = range(n)\n",
    "y1, y2 = genData(a, b, d, f, r, n)\n",
    "\n",
    "artist = matplotlib.pyplot.figure()\n",
    "ax = artist.add_axes([0,0,1,1])\n",
    "ax.set_xlabel(\"days\")\n",
    "ax.set_ylabel(\"number of creatures\")\n",
    "\n",
    "ax.plot(x, y1, label='F')\n",
    "ax.plot(x, y2, label='R')\n",
    "\n",
    "legend = ax.legend(loc='upper center', shadow=True, fontsize='x-large')\n",
    "\n",
    "# legend.get_frame().set_facecolor('C0')\n",
    "\n",
    "matplotlib.pyplot.show()"
   ]
  },
  {
   "cell_type": "markdown",
   "metadata": {},
   "source": [
    "второй набор данных"
   ]
  },
  {
   "cell_type": "code",
   "execution_count": 129,
   "metadata": {},
   "outputs": [],
   "source": [
    "a = 0.0005\n",
    "def b(n):\n",
    "    alpha = 0.005\n",
    "    return math.exp(-alpha*n)\n",
    "d = 0.5\n",
    "f = [5]\n",
    "r = [200]\n",
    "n = 100"
   ]
  },
  {
   "cell_type": "code",
   "execution_count": 130,
   "metadata": {},
   "outputs": [
    {
     "data": {
      "image/png": "[encoded data removed]",
      "text/plain": [
       "<Figure size 432x288 with 1 Axes>"
      ]
     },
     "metadata": {
      "needs_background": "light"
     },
     "output_type": "display_data"
    }
   ],
   "source": [
    "%matplotlib inline\n",
    "\n",
    "x = range(n)\n",
    "y1, y2 = genData(a, b, d, f, r, n)\n",
    "\n",
    "artist = matplotlib.pyplot.figure()\n",
    "ax = artist.add_axes([0,0,1,1])\n",
    "ax.set_xlabel(\"days\")\n",
    "ax.set_ylabel(\"number of creatures\")\n",
    "\n",
    "ax.plot(x, y1, label='F')\n",
    "ax.plot(x, y2, label='R')\n",
    "\n",
    "legend = ax.legend(loc='upper center', shadow=True, fontsize='x-large')\n",
    "\n",
    "# legend.get_frame().set_facecolor('C0')\n",
    "\n",
    "plt.show()"
   ]
  },
  {
   "cell_type": "markdown",
   "metadata": {},
   "source": [
    "третий набор данных"
   ]
  },
  {
   "cell_type": "code",
   "execution_count": 124,
   "metadata": {},
   "outputs": [],
   "source": [
    "a = 0.007\n",
    "b = [1000] \n",
    "d = 0.5\n",
    "u = 100\n",
    "f = [5]\n",
    "r = [200]\n",
    "n = 20"
   ]
  },
  {
   "cell_type": "code",
   "execution_count": 125,
   "metadata": {},
   "outputs": [],
   "source": [
    "def genData2(a, b, d, f, r, n):\n",
    "    b = b[::]\n",
    "    f = f[::]\n",
    "    r = r[::]\n",
    "    for i in range(1, n):\n",
    "        b.append(max(0, int(\n",
    "            b[i-1] - r[i-1]*0.3 + b[i-1]*0.7)))\n",
    "        f.append(max(0, int(\n",
    "            f[i-1] - d*f[i-1] + a*f[i-1]*r[i-1])))\n",
    "        r.append(max(0, int(\n",
    "            r[i-1] + b[i-1]*r[i-1] - a*f[i-1]*r[i-1])))\n",
    "    return (f, r)"
   ]
  },
  {
   "cell_type": "code",
   "execution_count": 126,
   "metadata": {},
   "outputs": [
    {
     "data": {
      "image/png": "[encoded data removed]",
      "text/plain": [
       "<Figure size 432x288 with 1 Axes>"
      ]
     },
     "metadata": {
      "needs_background": "light"
     },
     "output_type": "display_data"
    }
   ],
   "source": [
    "%matplotlib inline\n",
    "\n",
    "x = range(n)\n",
    "y1, y2 = genData2(a, b, d, f, r, n)\n",
    "\n",
    "artist = matplotlib.pyplot.figure()\n",
    "ax = artist.add_axes([0,0,1,1])\n",
    "ax.set_xlabel(\"days\")\n",
    "ax.set_ylabel(\"number of creatures\")\n",
    "\n",
    "ax.plot(x, y1, label='F')\n",
    "ax.plot(x, y2, label='R')\n",
    "\n",
    "legend = ax.legend(loc='upper center', shadow=True, fontsize='x-large')\n",
    "\n",
    "# legend.get_frame().set_facecolor('C0')\n",
    "\n",
    "plt.show()"
   ]
  },
  {
   "cell_type": "code",
   "execution_count": null,
   "metadata": {},
   "outputs": [],
   "source": []
  }
 ],
 "metadata": {
  "kernelspec": {
   "display_name": "Python 3",
   "language": "python",
   "name": "python3"
  },
  "language_info": {
   "codemirror_mode": {
    "name": "ipython",
    "version": 3
   },
   "file_extension": ".py",
   "mimetype": "text/x-python",
   "name": "python",
   "nbconvert_exporter": "python",
   "pygments_lexer": "ipython3",
   "version": "3.8.5"
  }
 },
 "nbformat": 4,
 "nbformat_minor": 4
}
