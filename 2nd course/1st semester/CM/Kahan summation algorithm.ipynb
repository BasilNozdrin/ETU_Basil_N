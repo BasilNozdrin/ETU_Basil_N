{
 "cells": [
  {
   "cell_type": "code",
   "execution_count": 36,
   "metadata": {},
   "outputs": [],
   "source": [
    "import math"
   ]
  },
  {
   "cell_type": "code",
   "execution_count": 29,
   "metadata": {},
   "outputs": [],
   "source": [
    "def KahanSum(input):\n",
    "    sum_ = c = 0\n",
    "    for i in range(len(input)):\n",
    "        y = input[i] - c\n",
    "        t = sum_ + y\n",
    "        c = (t - sum_) - y\n",
    "        sum_ = t\n",
    "    return sum_"
   ]
  },
  {
   "cell_type": "code",
   "execution_count": 50,
   "metadata": {},
   "outputs": [],
   "source": [
    "def KahanSortSum(input):\n",
    "    data = input[::]\n",
    "    data.sort(reverse=True, key=abs)\n",
    "    sum_ = c = 0\n",
    "    for i in range(len(data)):\n",
    "        y = data[i] - c\n",
    "        t = sum_ + y\n",
    "        c = (t - sum_) - y\n",
    "        sum_ = t\n",
    "    return sum_"
   ]
  },
  {
   "cell_type": "code",
   "execution_count": 56,
   "metadata": {},
   "outputs": [],
   "source": [
    "def test(data, KFunc):\n",
    "    print(\"Обычная сумма = {}\".format(sum(data)))\n",
    "    print(\"Сумма Кэхэна  = {}\".format(KFunc(data)))"
   ]
  },
  {
   "cell_type": "code",
   "execution_count": 70,
   "metadata": {},
   "outputs": [],
   "source": [
    "data1 = [10000000, math.pi, math.e]\n",
    "data2 = [100000000000, math.pi, -100000000000]"
   ]
  },
  {
   "cell_type": "markdown",
   "metadata": {},
   "source": [
    "Простой пример эффективной работы алгоритма Кэхэна"
   ]
  },
  {
   "cell_type": "code",
   "execution_count": 71,
   "metadata": {},
   "outputs": [
    {
     "name": "stdout",
     "output_type": "stream",
     "text": [
      "Обычная сумма = 10000005.859874481\n",
      "Сумма Кэхэна  = 10000005.859874481\n"
     ]
    }
   ],
   "source": [
    "test(data1, KahanSum)"
   ]
  },
  {
   "cell_type": "markdown",
   "metadata": {},
   "source": [
    "Пример неправильной работы с массивом, не отсортированным по убыванию абсолютных величин."
   ]
  },
  {
   "cell_type": "code",
   "execution_count": 72,
   "metadata": {},
   "outputs": [
    {
     "name": "stdout",
     "output_type": "stream",
     "text": [
      "Обычная сумма = 3.1415863037109375\n",
      "Сумма Кэхэна  = 3.1415863037109375\n"
     ]
    }
   ],
   "source": [
    "test(data2, KahanSum)"
   ]
  },
  {
   "cell_type": "markdown",
   "metadata": {},
   "source": [
    "Пример работы с теми же данными, но отсортированными по убыванию абсолютных величин."
   ]
  },
  {
   "cell_type": "code",
   "execution_count": 66,
   "metadata": {},
   "outputs": [
    {
     "name": "stdout",
     "output_type": "stream",
     "text": [
      "Обычная сумма = 3.1415926534682512\n",
      "Сумма Кэхэна  = 3.141592653589793\n"
     ]
    }
   ],
   "source": [
    "test(data2, KahanSortSum)"
   ]
  }
 ],
 "metadata": {
  "kernelspec": {
   "display_name": "Python 3",
   "language": "python",
   "name": "python3"
  },
  "language_info": {
   "codemirror_mode": {
    "name": "ipython",
    "version": 3
   },
   "file_extension": ".py",
   "mimetype": "text/x-python",
   "name": "python",
   "nbconvert_exporter": "python",
   "pygments_lexer": "ipython3",
   "version": "3.8.6"
  }
 },
 "nbformat": 4,
 "nbformat_minor": 4
}
