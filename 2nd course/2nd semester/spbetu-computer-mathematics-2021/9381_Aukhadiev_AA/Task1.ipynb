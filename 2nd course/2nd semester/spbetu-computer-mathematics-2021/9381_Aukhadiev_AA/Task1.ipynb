{
 "cells": [
  {
   "cell_type": "markdown",
   "metadata": {
    "collapsed": false
   },
   "source": [
    "## Практическая работа №1: Исследование алгоритмов формирования аддитивных цепочек\n",
    "Выполнил студент гр. 9381 Аухадиев Александр.\n",
    "\n",
    "## Цель работы\n",
    "Формирование представления о аддитивных цепочках, выработать умение составлять и применять алгоритмы для нахождения минимальных аддитивных цепочек для заданного числа, привить навык использования систем компьютерной алгебры для реализации алгоритмов.\n",
    "\n",
    "## Теоретические положения\n",
    "\n",
    "### Бинарный метод\n",
    "\n",
    "Бинарный метод является одним из методов быстрого возведения числа в степень $n \\in N$. Степень представляется в двоичной системе счисления, старший бит отбрасывается, после чего просматриваются все биты и, если бит равен нулю, текущее число возводится в квадрат, а если бит равен единице, то дополнительно текущее число умножается на исходное число. Количество умножений рассчитывается по следующей формуле: $\\lambda(n)+\\nu(n)-1$, где $\\lambda(n)=\\lceil log_2 n \\rceil, \\nu(n)$ - количество единиц в двоичной записи числа.\n",
    "\n",
    "### Метод множителей\n",
    "\n",
    "Метод множителей является одним из методов быстрого возведения числа в необходимую степень $n \\in N$. Показатель степени рассматривается как произведение двух простых чисел $n=k \\cdot m$, и текущее число возводится сначала в степень $k$, затем, уже возведённое в $k$, возводится в степень $m$. Для простого числа алгоритм возводит число в степень $n-1$, а потом умножает на исходное. Таким образом можно получить результат лучше, чем бинарным методом. Метод множителей оптимален при $n = 15$, а при $n <= 14$ даёт такой же результат, что и бинарный метод.\n",
    "\n",
    "### Определение аддитивной цепочки\n",
    "\n",
    "Аддитивной цепочкой для $n \\in N$ называется последовательность $1=a_1, a_2, a_3, \\dots, a_m=n$, где $a_i=a_j+a_k$, $k\\leq j<i$ $\\forall i=1..m$\n",
    "\n",
    "$l(n)=m$ - минимальная аддитивная цепочка\n",
    "\n",
    "Для $n \\leq 1000$ справедлива следующая рекуретная формула:\n",
    "$$\n",
    "l(n) = min\\{l(n - 1) + 1, l_n\\} - \\sigma_n \\\\\n",
    "l_p= \\begin{cases} \\infty,\\ если\\ p -\\ простое \\\\ l(q)+l(^p/_q),\\ если\\ q -\\ минимальный\\ простой\\ делитель\\ p \\end{cases}\\\\\n",
    "\\sigma_n = {0,1}\n",
    "$$\n",
    "Для $\\sigma_n$ нет формулы, для чисел меньших 200 $\\sigma_n$ равняется единице при следующих значениях: $23, 43, 59, 77, 83, 107, 149, 163, 165, 179, 203$\n",
    "\n",
    "### Теорема Брауэра\n",
    "\n",
    "Теорема Брауэра.\n",
    "\n",
    "При некотором $k < log_2 log_2 n => l(n)<(1+k^{-1}) \\cdot \\lceil log_2 n \\rceil + 2^{k-1}-k+2$\n",
    "\n",
    "Если положить $k=\\lambda(\\lambda(n))-2\\lambda(\\lambda(\\lambda(n)))$, то можно получить следующие следствия:\n",
    "\n",
    "Следствие 1: $\\lim \\limits_{n \\to \\infty} \\frac{l(n)}{\\lambda(n)}=1$\n",
    "\n",
    "Следствие 2: Наилучшая верхняя оценка для длины аддитивной цепочки: $\\lambda(n)(1+\\frac{1}{\\lambda(\\lambda(n))}+\\frac{o(\\lambda(\\lambda(\\lambda(n))))}{\\lambda(\\lambda(n))^2})$\n",
    "\n",
    "\n",
    "### Звездная цепочка. Гипотеза Шольца-Брауэра\n",
    "\n",
    "Звездная цепочка - это аддитивная цепочка, в которой каждый элемент получен при помощи сложения предыдущего и какого-то ещё: $a_i=a_{i-1}+a_k$, где $0 \\leq k \\leq i-1$\n",
    "\n",
    "$l^*(n)$ - минимальная звездная цепочка. Очевидно, что $l^*(n) \\geq l(n)$\n",
    "\n",
    "Гипотеза Шольца-Брауэра: $l^*(2^n-1) \\geq l^*(n)+n-1$\n",
    "\n",
    "### Алгоритм дробления индексов\n",
    "\n",
    "Алгоритм дробления индексов находит минимальную звездную цепочку для числа $n$.\n",
    "\n",
    "Введём опредление вектора индексов. Вектором индексов аддитивной цепочки называется последовательность $\\{ r_i \\}_{i=1}^{m}$, где $r_i = {x: 1 \\leq x \\leq i}$, такая то $a_i = a_{i-1} + a_{r_i}, \\, i=2..m$\n",
    "\n",
    "Наибольшая звездная цепочка: $S_{max}=\\{1, 2, 4, \\dots, 2^m\\} <=> r_{max} = \\{1, 2, 3, \\dots, m\\}$\n",
    "Наименьшая звездная цепочка: $S_{min}=\\{1,2,3,\\dots , m\\} <=> r_{min}=\\{1, 1, 1, \\dots, 1\\}$\n",
    "\n",
    "Будем считать, что $r=\\{ r_i \\}_{i=1}^{m}$ больше $\\tilde{r}=\\{ \\tilde{r}_i \\}_{i=1}^{m}$ если $r_1=\\tilde{r}_1; r_2=\\tilde{r}_2; \\dots; r_{i-1}=\\tilde{r}_{i-1};r_i>\\tilde{r}_i$\n",
    "\n",
    "Нахождение минимальной аддитивной цепочки является переборной задачей. Для начала будем каждый вектор индексов разбивать на два: $r=\\{ r_i \\}_{i=1}^{q}$ - фиксированный вектор, $\\rho=\\{ \\rho_j \\}_{j=q+1}^{m}$ - меняющийся вектор. Заметим, что для фиксированного вектора можно вычислить максимальное и минимальное значение аддитивной цепочки:\n",
    "$$\n",
    "a_{max}: \\{ r_i \\}_{i=1}^{q} \\cup \\{ q+1, q+2, \\dots, m \\} => a_{max} = a_{q+1} \\cdot 2^{m-q}\\\\\n",
    "a_{min}: \\{ r_i \\}_{i=1}^{q} \\cup \\{ 1, 1, \\dots, 1 \\} => a_{min}=a_{q+1}+m-q\n",
    "$$\n",
    "\n",
    "Алгоритм перебора будет заключаться в следующем: текущий вектор индексов разбивается по середине на фиксированный и изменющийся. Берётся фиксированная часть, вычисляются $a_{max}$ и $a_{min}$. Если $n \\notin [a_{min}, a_{max}]$, то осуществляется переход к следующему фиксированному вектору(в сторону уменьшения или увеличения). Если $n$ попало в данный промежуток, то осуществляется перебор по меняющемуся вектору. Если для заданной длины не нашлось аддитивной цепочки, то увеличить длину аддитивной цепочки. Длина аддитивной цепочки $m \\in [\\underline{l}(n), \\overline{l}(n)]$, где $\\underline{l}(n)=\\lceil log_2 n \\rceil,\\, \\overline{l}(n)=\\lambda(n)+\\nu(n)-1$\n",
    "\n",
    "## Постановка задачи\n",
    "\n",
    "Реализовать точные и приближённые алгоритмы нахождения минимальных аддитивных цепочек с использованием системы компьютерной алгебры SageMath, провести анализ алгоритмов. Полученные результаты содержательно проинтерпретировать.\n",
    "\n",
    "1. Применить бинарный метод и метод множителей для $x^n$,где $n \\geq 30$, для 2-3 значений $n$(значения $n$ выбирается студентом самостоятельно). Сравнить количество операций для каждого метода, сделать выводы.\n",
    "2. Реализовать алгоритм Брауэра для вычисления приближённых аддитивных цепочек для различных чисел при варьировании параметра $k$, сопоставить длины полученных аддитивных цепочек с минимальной аддитивной цепочкой для заданного числа. Сделать выводы.\n",
    "3. Реализовать алгоритм дробления вектора индексов для нахождения минимальной звёздной цепочки для заданного числа. Протестировать алгоритм при $n \\geq 500$. Указать, сколько времени потребовалось на поиск цепочки и какая цепочка получилась. Сравнить с предыдущими методами, сделать выводы.\n",
    "4. Проверить следствие 1 теоремы Брауэра для $n=1..200$ путём построения функции $l(n)$ и аппроксимирующей кривой, полученной с помощью метода наименьших квадратов. Сопоставить функции на одном графике, сделать выводы.\n",
    "5. Проверить гипотезу Шольца–Брауэра для $1<n \\leq 10$ на алгоритме дробления вектора индексов. Сделать выводы.\n",
    "6. _Дополнительное необязательное задание: найти и/или предложить модификации алгоритмов и привести описание модификаций. Реализовать модифицированные алгоритмы и сравнить их мощность_\n"
   ]
  },
  {
   "cell_type": "markdown",
   "metadata": {
    "collapsed": false
   },
   "source": [
    "## Выполнение работы\n",
    "\n",
    "### 1. Бинарный метод и метод множителей\n",
    "Реализация бинарного метода:"
   ]
  },
  {
   "cell_type": "code",
   "execution_count": 1,
   "metadata": {
    "cocalc": {
     "outputs": {
      "0": {
       "name": "input",
       "opts": {
        "password": false,
        "prompt": "Введите X: "
       },
       "output_type": "stream",
       "value": "5"
      },
      "1": {
       "name": "input",
       "opts": {
        "password": false,
        "prompt": "Введите степень: "
       },
       "output_type": "stream",
       "value": "35"
      },
      "2": {
       "name": "input",
       "opts": {
        "password": false,
        "prompt": "Введите степень: "
       },
       "output_type": "stream",
       "value": "5"
      }
     }
    },
    "collapsed": false
   },
   "outputs": [
    {
     "name": "stdout",
     "output_type": "stream",
     "text": "Введите X:  5"
    },
    {
     "name": "stdout",
     "output_type": "stream",
     "text": "Введите степень:  35"
    },
    {
     "name": "stdout",
     "output_type": "stream",
     "text": [
      "5 в степени 35 после возведения в квадрат напрямую = 2910383045673370361328125\n",
      "5 в степени 35 бинарным методом = 2910383045673370361328125, количество операций = 7\n",
      "5 в степени 35 методом множителей = 2910383045673370361328125, количество операций = 7\n"
     ]
    }
   ],
   "source": [
    "def binary_method(x, pow):\n",
    "    bin_pow = bin(pow)[3:]\n",
    "    count_of_mul = 0\n",
    "    orig_x = x\n",
    "    for bit in bin_pow:\n",
    "        if bit == '0':\n",
    "            x *= x\n",
    "            count_of_mul += 1\n",
    "        else:\n",
    "            x *= x\n",
    "            x *= orig_x\n",
    "            count_of_mul += 2\n",
    "    return x, count_of_mul\n",
    "\n",
    "def multiplier_method(x, pow):\n",
    "    multipliers = []\n",
    "    for f in list(factor(pow)):\n",
    "        for i in range(f[1]):\n",
    "            multipliers.append(f[0])\n",
    "    count_of_mul = 0\n",
    "    cur_base_x = x\n",
    "    for mul in multipliers:\n",
    "        if mul <= 13:\n",
    "            x, count_bin = binary_method(x, mul)\n",
    "            count_of_mul += count_bin\n",
    "            cur_base_x = x\n",
    "        else:\n",
    "            x, count_mm = multiplier_method(x, mul - 1)\n",
    "            x *= cur_base_x\n",
    "            count_of_mul += count_mm + 1\n",
    "            cur_base_x = x\n",
    "    return x, count_of_mul\n",
    "\n",
    "if __name__ == \"__main__\":\n",
    "    x = int(input(\"Введите X: \"))\n",
    "    pow = int(input(\"Введите степень: \"))\n",
    "    print(f\"{x} в степени {pow} после возведения в квадрат напрямую = {x**pow}\")\n",
    "    x_in_pow, count_opers = binary_method(x, pow)\n",
    "    print(f\"{x} в степени {pow} бинарным методом = {x_in_pow}, количество операций = {count_opers}\")\n",
    "    x_in_pow, count_opers = multiplier_method(x, pow)\n",
    "    print(f\"{x} в степени {pow} методом множителей = {x_in_pow}, количество операций = {count_opers}\")"
   ]
  },
  {
   "cell_type": "markdown",
   "metadata": {
    "collapsed": false
   },
   "source": [
    "Возведём число х в 35 степень:  \n",
    "1) Бинарным методом:  \n",
    "$35_{10} = 100011_2$  \n",
    "$x^2, x^4, x^8, x^{16}, x^{17}, x^{34}, x^{35}$ - 7 операций  \n",
    "2) Методом множителей:  \n",
    "$35 = 5 * 7$, $5 = 101_2$, $7 = 111_2$  \n",
    "I. $x^2, x^4, x^5 = y$ - 3 операции  \n",
    "II. $y^2, y^3, y^6, y^7 = x^{5*7} = x^{35}$ - 4 операции  \n",
    "Всего: 7 операций  \n",
    "\n",
    "Возведём число х в 42 степень:  \n",
    "1) Бинарным методом:  \n",
    "$42_{10} = 101010_2$  \n",
    "$x^2, x^4, x^5, x^{10}, x^{20}, x^{21}, x^{42}$ - 7 операций  \n",
    "2) Методом множителей:  \n",
    "$42 = 7 * 2 * 3$, $7 = 111_2$, $2 = 10_2$, $3 = 11$  \n",
    "I. $x^2, x^3, x^6, x^7 = y$ - 4 операции  \n",
    "II. $y^2 = z$ - 1 операция  \n",
    "III. $z^2, z^3 = y^{2*3} = x^{7*6} = x^{42}$ - 2 операции  \n",
    "Итого: 7 операций\n",
    "\n",
    "Возведём число х в 65 степень:  \n",
    "1) Бинарным методом:  \n",
    "$65_{10} = 1000001_2$  \n",
    "$x^2, x^4, x^8, x^{16}, x^{32}, x^{64}, x^{65}$ - 7 операций  \n",
    "2) Методом множителей:  \n",
    "$65 = 5 * 13$, $5 = 101_2$, $13 = 1101_2$  \n",
    "I. $x^2, x^4, x^5 = y$ - 3 операции  \n",
    "II. $y^2, y^3, y^6, y^{12}, y^{13} = x^{13*5} = x^{65}$ - 5 операций  \n",
    "Итого: 8 операций  \n",
    "При возведении в 65 степень бинарный метод оказался лучше метода множителей\n",
    "\n",
    "Возведём число х в 63 степень:  \n",
    "1) Бинарным методом:  \n",
    "$63_{10} = 1111111_2$  \n",
    "$x^2, x^3, x^6, x^7, x^{14}, x^{15}, x^{30}, x^{31}, x^{62}, x^{63}$ - 10 операций  \n",
    "2) Методом множителей:  \n",
    "$63 = 7 * 9$, $7 = 111_2$, $9 = 1001_2$  \n",
    "I. $x^2, x^3, x^6, x^7 = y$ - 4 операции  \n",
    "II. $y^2, y^4, y^8, y^9 = x^{7*9} = x^{63}$ - 4 операции  \n",
    "Итого: 8 операций  \n",
    "При возведении в 63 степень метод множителей показал лучший результат.\n",
    "\n",
    "#### Выводы по бинарному методу и методу множителей\n",
    "\n",
    "При $n = 2^k-1$ метод множителей гарантированно эффективнее бинарного метода. Однако при $n = 2^k+1$ бинарный метод превосходит метод множителей. В остальных случаях метод множителей выполняется за такое же число операций или быстрее.\n",
    "\n",
    "### 2. Алгоритм Брауэра\n",
    "Реализация:"
   ]
  },
  {
   "cell_type": "code",
   "execution_count": 1,
   "metadata": {
    "cocalc": {
     "outputs": {
      "0": {
       "name": "input",
       "opts": {
        "password": false,
        "prompt": "Введите число: "
       },
       "output_type": "stream",
       "value": "28344"
      },
      "1": {
       "name": "input",
       "opts": {
        "password": false,
        "prompt": "Введите k: "
       },
       "output_type": "stream",
       "value": "4"
      }
     }
    },
    "collapsed": false
   },
   "outputs": [
    {
     "name": "stdout",
     "output_type": "stream",
     "text": "Введите число:  28344"
    },
    {
     "name": "stdout",
     "output_type": "stream",
     "text": "Введите k:  4"
    },
    {
     "name": "stdout",
     "output_type": "stream",
     "text": [
      "Длина цепочки:  21\n",
      "Аддитивная цепочка:  [1, 2, 3, 4, 5, 6, 12, 24, 48, 96, 110, 220, 440, 880, 1760, 1771, 3542, 7084, 14168, 28336, 28344]\n"
     ]
    }
   ],
   "source": [
    "def find_remainders(n, k):\n",
    "    R = []\n",
    "    while(n >= 2**k):\n",
    "        R.append(n % 2**k)\n",
    "        n = n // 2**k\n",
    "    R.append(n)\n",
    "    R.reverse()\n",
    "    return R\n",
    "\n",
    "def brauer(n, k):\n",
    "    R = find_remainders(n, k)\n",
    "    x = 1\n",
    "    i = 0\n",
    "    chain = []\n",
    "    chain.append(x)\n",
    "    while(x != R[i]):\n",
    "        x += 1\n",
    "        chain.append(x)\n",
    "    while(x != n):\n",
    "        pow_of_two = 0\n",
    "        while(pow_of_two != k):\n",
    "            pow_of_two += 1\n",
    "            x *= 2\n",
    "            chain.append(x)\n",
    "        i += 1\n",
    "        if(R[i] == 0):\n",
    "            continue\n",
    "        x += R[i]\n",
    "        chain.append(x)\n",
    "    print(\"Длина цепочки: \", len(chain))\n",
    "    print(\"Аддитивная цепочка: \", chain)\n",
    "    \n",
    "brauer(int(input(\"Введите число: \")), int(input(\"Введите k: \")))"
   ]
  },
  {
   "cell_type": "markdown",
   "metadata": {
    "collapsed": false
   },
   "source": [
    "Аддитивные цепочки для чисел 1055, 2130, 28344 при k = 1, 2, 3, 4:\n",
    "\n",
    "Число | k | Длина | Цепочка |\n",
    "------|:-:|:-----:|:-------:|\n",
    "1055  | 1 | 16    |1, 2, 4, 8, 16, 32, 64, 65, 130, 131, 262, 263, 526, 527, 1054, 1055\n",
    "1055  | 2 | 14    |1, 2, 4, 8, 16, 32, 64, 65, 130, 260, 263, 526, 1052, 1055\n",
    "1055  | 3 | 13    |1, 2, 4, 8, 16, 32, 64, 128, 131, 262, 524, 1048, 1055\n",
    "1055  | 4 | 14    |1, 2, 3, 4, 8, 16, 32, 64, 65, 130, 260, 520, 1040, 1055\n",
    "2130  | 1 | 15    |1, 2, 4, 8, 16, 32, 33, 66, 132, 133, 266, 532, 1064, 1065, 2130\n",
    "2130  | 2 | 15    |1, 2, 4, 8, 16, 32, 33, 66, 132, 133, 266, 532, 1064, 2128, 2130\n",
    "2130  | 3 | 16    |1, 2, 3, 4, 8, 16, 32, 33, 66, 132, 264, 266, 532, 1064, 2128, 2130\n",
    "2130  | 4 | 18    |1, 2, 3, 4, 5, 6, 7, 8, 16, 32, 64, 128, 133, 266, 532, 1064, 2128, 2130\n",
    "28344 | 1 | 23    |1, 2, 3, 6, 12, 13, 26, 27, 54, 55, 110, 220, 221, 442, 884, 885, 1770, 1771, 3542, 3543, 7086, 14172, 28344\n",
    "28344 | 2 | 21    |1, 2, 4, 6, 12, 24, 27, 54, 108, 110, 220, 440, 442, 884, 1768, 1771, 3542, 7084, 7086, 14172, 28344\n",
    "28344 | 3 | 21    |1, 2, 3, 4, 5, 6, 12, 24, 48, 55, 110, 220, 440, 442, 884, 1768, 3536, 3543, 7086, 14172, 28344\n",
    "28344 | 4 | 21    |1, 2, 3, 4, 5, 6, 12, 24, 48, 96, 110, 220, 440, 880, 1760, 1771, 3542, 7084, 14168, 28336, 28344\n",
    "\n",
    "#### Выводы по методу Брауэра\n",
    "\n",
    "Минимальная аддитивная цепочка получается при $k = \\lambda(\\lambda(n))$, в остальных случаях результат будет хуже. Увеличение k только ухудшает результат.\n",
    "\n",
    "### 3. Алгоритм дробления вектора индексов\n",
    "\n",
    "Реализация:\n"
   ]
  },
  {
   "cell_type": "code",
   "execution_count": 12,
   "metadata": {
    "cocalc": {
     "outputs": {
      "0": {
       "name": "input",
       "opts": {
        "password": false,
        "prompt": "Введите N: "
       },
       "output_type": "stream",
       "value": "310"
      }
     }
    },
    "collapsed": false
   },
   "outputs": [
    {
     "name": "stdout",
     "output_type": "stream",
     "text": "Введите N:  310"
    },
    {
     "name": "stdout",
     "output_type": "stream",
     "text": [
      "Время выполнения:  48.36023831367493  секунд\n",
      "Аддитивная цепочка: [1, 2, 3, 4, 7, 11, 18, 36, 72, 83, 155, 310]\n",
      "Длина аддитивной цепочки: 12\n"
     ]
    }
   ],
   "source": [
    "import time\n",
    "\n",
    "\n",
    "def inc_index_vector(ind_vec, start_index=1):\n",
    "    cur_max_index = start_index + len(ind_vec) - 1\n",
    "    for i in range(1, len(ind_vec) + 1):\n",
    "        ind_vec[-i] += 1\n",
    "        if ind_vec[-i] > cur_max_index:\n",
    "            if i == len(ind_vec):\n",
    "                ind_vec.append(1)\n",
    "                break\n",
    "            ind_vec[-i] = 1\n",
    "            cur_max_index -= 1\n",
    "        else:\n",
    "            break\n",
    "\n",
    "def get_chain_from_index_vector(r_i, ro_i):\n",
    "    q = len(r_i)\n",
    "    add_chain = [1]\n",
    "    for index in r_i:\n",
    "        add_chain.append(add_chain[-1] + add_chain[index - 1])\n",
    "    for index in ro_i:\n",
    "        add_chain.append(add_chain[-1] + add_chain[index - 1])\n",
    "    return add_chain\n",
    "\n",
    "def splitting_index_vector(n):\n",
    "    counter = 0\n",
    "    m = int(log(n, 2))\n",
    "    up_border = m + bin(n).count('1') - 1\n",
    "    if m == log(n, 2):\n",
    "        m -= 1\n",
    "    while m <= up_border:\n",
    "        q = int(m/2)\n",
    "        if q == 0:\n",
    "            q = 1\n",
    "        r_i = [1 for i in range(q)]\n",
    "        while len(r_i) == q:\n",
    "            ro_i = [1 for i in range(m - q)]\n",
    "            add_chain = get_chain_from_index_vector(r_i, ro_i)\n",
    "            if add_chain[-1] == n:\n",
    "                return add_chain\n",
    "            a_max = add_chain[q] * 2 ** (m - q)\n",
    "            a_min = add_chain[q] + m - q\n",
    "            if n < a_min or n > a_max:\n",
    "                inc_index_vector(r_i)\n",
    "                continue\n",
    "            while len(ro_i) == m - q:\n",
    "                add_chain = get_chain_from_index_vector(r_i, ro_i)\n",
    "                if add_chain[-1] == n:\n",
    "                    return add_chain\n",
    "                inc_index_vector(ro_i, q + 1)\n",
    "            inc_index_vector(r_i)\n",
    "        m += 1\n",
    "    return add_chain\n",
    "\n",
    "\n",
    "if __name__ == \"__main__\":\n",
    "    n = int(input(\"Введите N: \"))\n",
    "    start = time.time()\n",
    "    add_chain = splitting_index_vector(n)\n",
    "    end = time.time()\n",
    "    print(\"Время выполнения: \", end - start, \" секунд\")\n",
    "    print(\"Аддитивная цепочка:\", add_chain)\n",
    "    print(\"Длина аддитивной цепочки:\", len(add_chain))"
   ]
  },
  {
   "cell_type": "markdown",
   "metadata": {
    "collapsed": false
   },
   "source": [
    "Число | Время выполнения, сек | Длина | Аддитивная цепочка\n",
    "------|:---------------------:|:-----:|:-------:\n",
    "310   | 49.63446831703186     | 12    |1, 2, 3, 4, 7, 11, 18, 36, 72, 83, 155, 310\n",
    "762   | 47.38712635487233     | 13    |1, 2, 4, 8, 16, 32, 34, 66, 132, 166, 298, 596, 762\n",
    "1023  | 33.69758384651259     | 13    |1, 2, 4, 8, 16, 32, 64, 68, 136, 272, 340, 341, 682, 1023\n",
    "\n",
    "#### Выводы\n",
    "\n",
    "Алгоритм дробления вектора индексов всегда выдаёт минимальную по длине аддитивную цепочку, в отличие от алгоритма Брауэра. Но по времени алгоритм крайне неэффективен\n",
    "\n",
    "### 4. Проверка следствия теоремы Брауэра"
   ]
  },
  {
   "cell_type": "code",
   "execution_count": 15,
   "metadata": {
    "collapsed": false
   },
   "outputs": [
    {
     "data": {
      "image/png": "[encoded data removed]",
      "text/plain": [
       "<Figure size 432x288 with 1 Axes>"
      ]
     },
     "execution_count": 15,
     "metadata": {
      "needs_background": "light"
     },
     "output_type": "execute_result"
    }
   ],
   "source": [
    "import pylab as plt\n",
    "\n",
    "def get_min_len_add_chains(n):\n",
    "    lens = [0]\n",
    "    for i in range(2, n + 1):\n",
    "        q = factor(i)[0][0]\n",
    "        if n in [23, 43, 59, 77, 83, 107, 149, 163, 165, 179, 203]:\n",
    "            sigma = 1\n",
    "        else:\n",
    "            sigma = 0\n",
    "        if q == i:\n",
    "            lens.append(lens[-1] + 1 - sigma)\n",
    "        else:\n",
    "            lens.append(min(lens[-1] + 1, lens[q - 1] + lens[i/q - 1]) - sigma)\n",
    "    return [i + 1 for i in range(i)], [i + 1 for i in lens]\n",
    "\n",
    "def plot_approximate(x, y):\n",
    "    m = matrix([[sum([float((log(i))**2) for i in x]), sum([float(log(i)) for i in x])], [sum([float(log(i)) for i in x]), len(x)]])\n",
    "    vec = vector([sum([float(y[i] * log(x[i])) for i in range(len(x))]), sum(y)])\n",
    "    solution = m.solve_right(vec)\n",
    "    plt.plot(x, [solution[0] * log(i) + solution[1] for i in x])\n",
    "\n",
    "if __name__ == \"__main__\":\n",
    "    ns, lens = get_min_len_add_chains(200)\n",
    "    plt.scatter(ns, lens, color='g', marker='.')\n",
    "    plot_approximate(ns, lens)\n"
   ]
  },
  {
   "cell_type": "markdown",
   "metadata": {
    "collapsed": false
   },
   "source": [
    "#### Выводы\n",
    "\n",
    "Значения длин аддитивных цепочек аппроксимируется логарифмической кривой, что подтверждает следствие теоремы Брауэра, что значение длины аддитивной цепочки и функции логарифма эквивалентны на бесконечности, также из этого можно сделать вывод, что на бесконечности длина аддитивной цепочки будет расти очень медленно.\n",
    "\n",
    "### 5. Проверка гипотезы Шольца - Брауэра\n",
    "Гипотеза Шольца-Брауэра была проверена на алгоритме дробления индексов. Согласно гипотезе, ($l^*(2^n-1) \\leq l^*(n) + n - 1$). Значения n изменялись от 2 до 10.\n",
    "\n",
    "n | $l^*(2^n-1)$| $l^*(n) + n - 1$\n",
    "-:|:-----------:|:----------------:\n",
    "2 | 3           | 3\n",
    "3 | 5           | 5\n",
    "4 | 6           | 6\n",
    "5 | 8           | 8\n",
    "6 | 9           | 9\n",
    "7 | 11          | 11\n",
    "8 | 11          | 11\n",
    "9 | 13          | 13\n",
    "10| 14          | 14\n",
    "\n",
    "#### Выводы\n",
    "\n",
    "Для чисел $\\leq 10$ гипотеза справедлива. Основываясь на этой гипотезе, можно уменьшить время работы алгоритма перебора вектора индексов, так как будет известна примерная длина аддитивной цепочки.\n",
    "\n",
    "## Выводы по Практической работе №1\n",
    "\n",
    "1. Были изучены и реализованы следующие методы для нахождения аддитивных цепочек для заданного числа:\n",
    "1) Бинарный метод\n",
    "2) Метод множителей\n",
    "3) Алгоритм Брауэра\n",
    "4) Алгоритм дробления вектора индексов\n",
    "\n",
    "2. Проведена проверка следствия теоремы Брауэра\n",
    "\n",
    "3. Проведена проверка гипотезы Шольца-Брауэра\n",
    "\n",
    "\n"
   ]
  },
  {
   "cell_type": "code",
   "execution_count": 0,
   "metadata": {
    "collapsed": false
   },
   "outputs": [
   ],
   "source": [
   ]
  }
 ],
 "metadata": {
  "kernelspec": {
   "display_name": "SageMath 9.2",
   "language": "sagemath",
   "metadata": {
    "cocalc": {
     "description": "Open-source mathematical software system",
     "priority": 10,
     "url": "https://www.sagemath.org/"
    }
   },
   "name": "sage-9.2",
   "resource_dir": "/ext/jupyter/kernels/sage-9.2"
  },
  "language_info": {
   "codemirror_mode": {
    "name": "ipython",
    "version": 3
   },
   "file_extension": ".py",
   "mimetype": "text/x-python",
   "name": "python",
   "nbconvert_exporter": "python",
   "pygments_lexer": "ipython3",
   "version": "3.8.5"
  }
 },
 "nbformat": 4,
 "nbformat_minor": 4
}