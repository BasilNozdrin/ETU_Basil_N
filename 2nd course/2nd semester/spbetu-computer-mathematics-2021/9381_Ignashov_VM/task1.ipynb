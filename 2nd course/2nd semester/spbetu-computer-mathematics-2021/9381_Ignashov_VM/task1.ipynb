{
 "cells": [
  {
   "cell_type": "markdown",
   "metadata": {},
   "source": [
    "#Практическая работа №1: Исследование алгоритмов формирования аддитивных цепочек"
   ]
  },
  {
   "cell_type": "markdown",
   "metadata": {},
   "source": [
    "Студент: Игнашов Вадим Максимович\n",
    "Группа: 9381\n",
    "Вариант: 50"
   ]
  },
  {
   "cell_type": "markdown",
   "metadata": {},
   "source": [
    "##Цель работы:"
   ]
  },
  {
   "cell_type": "markdown",
   "metadata": {},
   "source": [
    "Формирование представления о аддитивных цепочках, выработать умение составлять и применять алгоритмы для нахождения минимальных аддитивных цепочек для заданного числа, привить навык использования систем компьютерной алгебры для реализации алгоритмов."
   ]
  },
  {
   "cell_type": "markdown",
   "metadata": {},
   "source": [
    "##Основные теоретические положения"
   ]
  },
  {
   "cell_type": "markdown",
   "metadata": {},
   "source": [
    "###Бинарный метод"
   ]
  },
  {
   "cell_type": "markdown",
   "metadata": {},
   "source": [
    "Один из методов решения задачи вычисления степеней.\n",
    "\n",
    "1. Представление степени в двоичном виде, вычеркивая наивысший бит\n",
    "2. Представление двоичного вида набором функций (умножение на себя/возведение в квадрат): 1 - первая и вторая, 0 - только первая\n",
    "3. Последовательное выполнение функций\n",
    "\n",
    "Число операций = **&lambda;(n)+&nu;(n)-1**, где &lambda;(n)=floor(lb(2)), &nu;(n) - вес Хеминга(количество ненулевых цифр в бинарной записи)"
   ]
  },
  {
   "cell_type": "markdown",
   "metadata": {},
   "source": [
    "###Метод множителей"
   ]
  },
  {
   "cell_type": "markdown",
   "metadata": {},
   "source": [
    "Также, один из методов решения задачи вычисления степеней.\n",
    "\n",
    "1. Проверяем, является ли число простым, если является - вычитаем 1*\n",
    "2. Разделяем число на два числа - простейший делитель от него(**i**) и оставшая часть(**j**)\n",
    "3. Для первого из двух чисел выполняем бинарный метод, находя тем самым количество операций для него\n",
    "4. Получившееся число со степенью заменяем другой переменной и выполняем аналогичные действия\n",
    "5. После раскрытия переменной у нас получится число в искомой степени за m+n операций, где m - количество операций для первого числа, n - для второго числа\n",
    "6. *Если изначально число было простым - домножаем на еще раз себя число, возвращая вычтенную единицу"
   ]
  },
  {
   "cell_type": "markdown",
   "metadata": {},
   "source": [
    "###Аддитивная цепочка"
   ]
  },
  {
   "cell_type": "markdown",
   "metadata": {},
   "source": [
    "Адитивная цепочка для числа n&isin;N - последовательность чисел вида $1=a_1,a_2,a_3,...,a_m=n$, где $a_i=a_j+a_k$, $k<=j<i, i=1..n$\n",
    "Для вычисления минимальной длины аддитивной цепочки $l(n)$ необходимо пользоваться рекурентной формулой:\n",
    "$l(n)=min(l(n-1)+1,l_n)-$&delta;$_n$,где\n",
    "$l_p=$&infin;,если p - простое\n",
    "and\n",
    "$l(q)+l(p/q)$, если q - наименьший простой делитель p\n",
    "У аддитивной цепочки три типа шагов:\n",
    "\n",
    "1. i-ый шаг - удвоение, если $j=k=i-1$ => $a_i=2a_(i-1)$\n",
    "2. i-ый шаг - звездный, если $j=i-1$ $k=(0;i-1)$\n",
    "3. i-ый шаг - малый, если &lambda;$(a_i)=$&lambda;$(a_(i-1))$\n",
    "\n",
    "Аддитивная цепочка называется звездной, если она состоит только из звездных шагов"
   ]
  },
  {
   "cell_type": "markdown",
   "metadata": {},
   "source": [
    "###Теорема Брауэра"
   ]
  },
  {
   "cell_type": "markdown",
   "metadata": {},
   "source": [
    "Для $k<lb(lb(n))$ справедливо:\n",
    "$l(n)<(1+k^{-1})*\\lambda(n)+2^{k-1}$-k+2\n",
    "Следствия при $k=\\lambda(\\lambda(n))-2\\lambda(\\lambda(\\lambda(n)))$:\n",
    "1. $\\lim_{x \\to \\infty} l(n)/\\lambda(n)=1$\n",
    "2. Наилучшая верхняя оценка для $l(n)=\\lambda(n)(1+1/\\lambda(\\lambda(n))+o(\\lambda(\\lambda(\\lambda(n))))/(\\lambda(\\lambda(n)))^2)$"
   ]
  },
  {
   "cell_type": "markdown",
   "metadata": {},
   "source": [
    "###Алгоритм Яо"
   ]
  },
  {
   "cell_type": "markdown",
   "metadata": {},
   "source": [
    "Данный алгоритм используется для нахождения аддитивной цепочки для некоторого числа n. Фиксируются переменные n и k, далее представляем n в виде:\n",
    "$\\sum_{i=0}a_i*2^{ik}, a_j!=0$\n",
    "Вводим дополнительную функцию $d(z)=\\sum_{i:a_j=z}2^{ik}$\n",
    "Началом аддитивной цепочки являются степени двойки, после чего вычисляются значения $d(z)$, где $z$&isin;$1,2,3,...,2^k-1$\n",
    "Тогда число $n = \\sum_{z=1}^{2^k-1}zd(z)$"
   ]
  },
  {
   "cell_type": "markdown",
   "metadata": {},
   "source": [
    "###Гипотеза Шольца-Брауэра"
   ]
  },
  {
   "cell_type": "markdown",
   "metadata": {},
   "source": [
    "$l*(n)$ - длина звездной цепочки $l*(n)>=l(n)$\n",
    "Гипотеза - $l*(2^n-1)<=l*(n)+n-1$"
   ]
  },
  {
   "cell_type": "markdown",
   "metadata": {},
   "source": [
    "###Алгоритм дробления вектора индексов"
   ]
  },
  {
   "cell_type": "markdown",
   "metadata": {},
   "source": [
    "Данный алгоритм является точным и находит минимальную звездную цепочку\n",
    "Вектор индексов - {$r_i$}$_{i=1}^{q}\\cup${$p_j$}$_{j=q+1}^{m}$, где:$p_j=${$x:1<=x<=j$}\n",
    "{$r_i$}$_{i=1}^{q}$ - фиксированная часть\n",
    "{$p_j$}$_{j=q+1}^{m}$ - изменяющаяся часть\n",
    "$a_{max}=q_{q+1}*2^{m-q}$\n",
    "$a_{min}=q_{q+1}+m-q$\n",
    "\n",
    "*Алгоритм:*\n",
    "1. Во внешнем цикле рассматриваем аддитивные цепочки длины $m$ от значения $l^{up}(n)=ceil({lb(n)})$ до $l_{down}(n)=$ &lambda;(n)+&nu;(n)-1 и выбираем на каждой итерации $q(1<=q<=m-1)$\n",
    "2. Если все наборы вектора индексов длины m исчерпаны - m+1\n",
    "2. Перебираем все {$r_i$}$_{i=1}^{q}$ и строим для каждой звездную цепочку. Высчитываем наибольшее и наименьшее значение a и смотрим:\n",
    "- Если $a_m=n$ - цепочка найдена\n",
    "- Если n не лежит между максимальным и минимальным, то двигаемся дальше\n",
    "- Если лежит между максимальным и минимальным, то перебираем {$p_j$}$_{j=q+1}^{m}$ и находим $a_m$\n",
    "- Если перебраны все {$p_j$}$_{j=q+1}^{m}$, то двигаемся дальше"
   ]
  },
  {
   "cell_type": "markdown",
   "metadata": {},
   "source": [
    "##Постановка задачи"
   ]
  },
  {
   "cell_type": "markdown",
   "metadata": {},
   "source": [
    "Реализовать точные и приближённые алгоритмы нахождения минимальных аддитивных цепочек с использованием системы компьютерной алгебры SageMath, провести анализ алгоритмов. Полученные результаты содержательно проинтерпретировать."
   ]
  },
  {
   "cell_type": "markdown",
   "metadata": {},
   "source": [
    "##Порядок выполнения работы"
   ]
  },
  {
   "cell_type": "markdown",
   "metadata": {},
   "source": [
    "1. Применить бинарный метод и метод множителей для xn, где n⩾30, для 2-3 значений n (значения n выбирается студентом самостоятельно). Сравнить количество операций для каждого метода, сделать выводы.\n",
    "2. Реализовать алгоритм Брауэра (для нечётных вариантов) или алгоритм Яо (для чётных вариантов) для вычисления приближённых аддитивных цепочек для различных чисел при варьировании параметра k, сопоставить длины полученных аддитивных цепочек с минимальной аддитивной цепочкой для заданного числа. Сделать выводы.\n",
    "3. Реализовать алгоритм дробления вектора индексов для нахождения минимальной звёздной цепочки для заданного числа. Протестировать алгоритм при n>500. Указать, сколько времени потребовалось на поиск цепочки и какая цепочка получилась. Сравнить с предыдущими методами, сделать выводы.\n",
    "4. Проверить следствие 1 теоремы Брауэра для n=1..200 путём построения функции l(n) и аппроксимирующей кривой, полученной с помощью метода наименьших квадратов. Сопоставить функции на одном графике, сделать выводы.\n",
    "5. Проверить гипотезу Шольца–Брауэра для 1<n⩽10 на алгоритме дробления вектора индексов. Сделать выводы.\n",
    "6. Дополнительное необязательное задание: найти и/или предложить модификации алгоритмов и привести описание модификаций. Реализовать модифицированные алгоритмы и сравнить их мощность."
   ]
  },
  {
   "cell_type": "markdown",
   "metadata": {},
   "source": [
    "##Выполнение работы"
   ]
  },
  {
   "cell_type": "markdown",
   "metadata": {},
   "source": [
    "###Бинарный метод"
   ]
  },
  {
   "cell_type": "markdown",
   "metadata": {},
   "source": [
    "Реализуем бинарный алгоритм на практике и проверим его работоспособность на 3 значениях, где $n>=30$"
   ]
  },
  {
   "cell_type": "code",
   "execution_count": 21,
   "metadata": {
    "scrolled": true
   },
   "outputs": [
    {
     "name": "stdout",
     "output_type": "stream",
     "text": [
      "63\n",
      "n=63\n",
      "[1, 1, 1, 1, 1]\n",
      "Binary Method:\n",
      "Operations:\n",
      "x^1 * x^1\n",
      "x^2 * x\n",
      "x^3 * x^3\n",
      "x^6 * x\n",
      "x^7 * x^7\n",
      "x^14 * x\n",
      "x^15 * x^15\n",
      "x^30 * x\n",
      "x^31 * x^31\n",
      "x^62 * x\n",
      "Result is: x^63 with 10 operations\n",
      "\n",
      "64\n",
      "n=64\n",
      "[0, 0, 0, 0, 0, 0]\n",
      "Binary Method:\n",
      "Operations:\n",
      "x^1 * x^1\n",
      "x^2 * x^2\n",
      "x^4 * x^4\n",
      "x^8 * x^8\n",
      "x^16 * x^16\n",
      "x^32 * x^32\n",
      "Result is: x^64 with 6 operations\n",
      "\n",
      "65\n",
      "n=65\n",
      "[0, 0, 0, 0, 0, 1]\n",
      "Binary Method:\n",
      "Operations:\n",
      "x^1 * x^1\n",
      "x^2 * x^2\n",
      "x^4 * x^4\n",
      "x^8 * x^8\n",
      "x^16 * x^16\n",
      "x^32 * x^32\n",
      "x^64 * x\n",
      "Result is: x^65 with 7 operations\n",
      "\n"
     ]
    }
   ],
   "source": [
    "for j in range(3):\n",
    "    n = int(input())\n",
    "    print(f\"n={n}\")\n",
    "    bin = []\n",
    "    while n > 1:\n",
    "        bin.append(n % 2)\n",
    "        n //= 2\n",
    "    bin.reverse()\n",
    "    print(bin)\n",
    "    result = 1\n",
    "    ops=0\n",
    "    print(\"Binary Method:\")\n",
    "    print(\"Operations:\")\n",
    "    for i in bin:\n",
    "        if i == 1:\n",
    "            print(f\"x^{result} * x^{result}\")\n",
    "            result = result + result\n",
    "            print(f\"x^{result} * x\")\n",
    "            result = result + 1\n",
    "            ops+=2\n",
    "        else:\n",
    "            print(f\"x^{result} * x^{result}\")\n",
    "            result = result + result\n",
    "            ops+=1\n",
    "    print(f\"Result is: x^{result} with {ops} operations\\n\")"
   ]
  },
  {
   "cell_type": "markdown",
   "metadata": {},
   "source": [
    "###Метод множителей"
   ]
  },
  {
   "cell_type": "markdown",
   "metadata": {},
   "source": [
    "Реализуем также метод множителей и также проверим его на таких же 3 значениях, для $n>=30$"
   ]
  },
  {
   "cell_type": "code",
   "execution_count": 22,
   "metadata": {},
   "outputs": [
    {
     "name": "stdout",
     "output_type": "stream",
     "text": [
      "63\n",
      "Calculating for the first multiplier(3):\n",
      "\t[1]\n",
      "\tx^1 * x^1\n",
      "\tx^2 * x\n",
      "\tResult is: x^3 with 2 operations\n",
      "\n",
      "Calculating for the second multiplier(21):\n",
      "\t[0, 1, 0, 1]\n",
      "\tx^1 * x^1\n",
      "\tx^2 * x^2\n",
      "\tx^4 * x\n",
      "\tx^5 * x^5\n",
      "\tx^10 * x^10\n",
      "\tx^20 * x\n",
      "\tResult is: x^21 with 6 operations\n",
      "\n",
      "Result of all: x^63 with 2+6+0=8 operations\n",
      "\n",
      "64\n",
      "Calculating for the first multiplier(2):\n",
      "\t[0]\n",
      "\tx^1 * x^1\n",
      "\tResult is: x^2 with 1 operations\n",
      "\n",
      "Calculating for the second multiplier(32):\n",
      "\t[0, 0, 0, 0, 0]\n",
      "\tx^1 * x^1\n",
      "\tx^2 * x^2\n",
      "\tx^4 * x^4\n",
      "\tx^8 * x^8\n",
      "\tx^16 * x^16\n",
      "\tResult is: x^32 with 5 operations\n",
      "\n",
      "Result of all: x^64 with 1+5+0=6 operations\n",
      "\n",
      "65\n",
      "Calculating for the first multiplier(5):\n",
      "\t[0, 1]\n",
      "\tx^1 * x^1\n",
      "\tx^2 * x^2\n",
      "\tx^4 * x\n",
      "\tResult is: x^5 with 3 operations\n",
      "\n",
      "Calculating for the second multiplier(13):\n",
      "\t[1, 0, 1]\n",
      "\tx^1 * x^1\n",
      "\tx^2 * x\n",
      "\tx^3 * x^3\n",
      "\tx^6 * x^6\n",
      "\tx^12 * x\n",
      "\tResult is: x^13 with 5 operations\n",
      "\n",
      "Result of all: x^65 with 3+5+0=8 operations\n",
      "\n"
     ]
    }
   ],
   "source": [
    "def binMethod(n):\n",
    "    bin = []\n",
    "    while n > 1:\n",
    "        bin.append(n % 2)\n",
    "        n //= 2\n",
    "    bin.reverse()\n",
    "    print(f\"\\t{bin}\")\n",
    "    result = 1\n",
    "    ops = 0\n",
    "    for i in bin:\n",
    "        if i == 1:\n",
    "            print(f\"\\tx^{result} * x^{result}\")\n",
    "            result = result + result\n",
    "            print(f\"\\tx^{result} * x\")\n",
    "            result = result + 1\n",
    "            ops += 2\n",
    "        else:\n",
    "            print(f\"\\tx^{result} * x^{result}\")\n",
    "            result = result + result\n",
    "            ops += 1\n",
    "    print(f\"\\tResult is: x^{result} with {ops} operations\\n\")\n",
    "    return ops\n",
    "\n",
    "for j in range(3):\n",
    "    n=int(input())\n",
    "    i=2\n",
    "    while(n%i!=0):\n",
    "        i+=1\n",
    "    nosimp=0\n",
    "    if i==n:\n",
    "        nosimp = 1\n",
    "        n-=1\n",
    "        i = 2\n",
    "        while (n % i != 0):\n",
    "            i += 1\n",
    "\n",
    "    print(f\"Calculating for the first multiplier({i}):\")\n",
    "    ops1 = binMethod(i)\n",
    "    print(f\"Calculating for the second multiplier({n//i}):\")\n",
    "    ops2 = binMethod(n//i)\n",
    "    if nosimp==1:\n",
    "        print(\"+1 operation '*x', because of simple n\")\n",
    "    print(f\"Result of all: x^{n+nosimp} with {ops1}+{ops2}+{nosimp}={ops1+ops2+nosimp} operations\\n\")"
   ]
  },
  {
   "cell_type": "markdown",
   "metadata": {},
   "source": [
    "####Вывод:"
   ]
  },
  {
   "cell_type": "markdown",
   "metadata": {},
   "source": [
    "На небольших значениях числа n оба алгоритма выдают схожие результаты, более оптимизированным является алгоритм множителей, т.к. чаще выдает результат не больше бинарного. Однако, есть числа, с которыми бинарный метод справляется быстрее"
   ]
  },
  {
   "cell_type": "markdown",
   "metadata": {},
   "source": [
    "###Аддитивные цепочки Яо"
   ]
  },
  {
   "cell_type": "markdown",
   "metadata": {},
   "source": [
    "Для начала реализуем данный алгоритм с выводом промежуточных результатов и протестируем его."
   ]
  },
  {
   "cell_type": "code",
   "execution_count": 5,
   "metadata": {},
   "outputs": [
    {
     "name": "stdout",
     "output_type": "stream",
     "text": [
      "Adding 1\n",
      "Adding 2\n",
      "Adding 4\n",
      "Adding 8\n",
      "Adding 16\n",
      "Adding 32\n",
      "Adding 64\n",
      "Adding 128\n",
      "Adding 256\n",
      "Adding 512\n",
      "Adding 1024\n",
      "Adding 2048\n",
      "3082//8=385, r=3082%8=2\n",
      "385//8=48, r=385%8=1\n",
      "48//8=6, r=48%8=0\n",
      "6//8=0, r=6%8=6\n",
      "dz for 1 equals 8\n",
      "dz for 2 equals 1\n",
      "Adding 10\n",
      "dz for 6 equals 512\n",
      "Adding 1536\n",
      "Adding 3072\n",
      "Adding 3082\n",
      "Result Yao is: [1, 2, 4, 8, 10, 16, 32, 64, 128, 256, 512, 1024, 1536, 2048, 3072, 3082]\n",
      "Length is: 16\n"
     ]
    }
   ],
   "source": [
    "import math\n",
    "\n",
    "def binYao(dz,n):\n",
    "    res=[]\n",
    "    sum=dz\n",
    "    res.append(dz)\n",
    "    b=bin(n)[3:]\n",
    "\n",
    "    for i in b:\n",
    "        sum*=2\n",
    "        res.append(sum)\n",
    "        if(i=='1'):\n",
    "            sum+=dz\n",
    "            res.append(sum)\n",
    "    return res\n",
    "\n",
    "def d(res,tmp,z,k):\n",
    "    res2=0\n",
    "    for i in range(len(tmp)):\n",
    "        if(tmp[i]==z):\n",
    "            res2+=pow(2,i*k)\n",
    "            if (res2 not in res):\n",
    "                res.append(res2)\n",
    "    return res2\n",
    "\n",
    "def yao(n,k):\n",
    "    t = pow(2, k)\n",
    "    tmp=[]\n",
    "    sum=0\n",
    "    res = []\n",
    "    for i in range(math.floor(math.log(n,2))+1):\n",
    "        print(f\"Adding {pow(2,i)}\")\n",
    "        res.append(pow(2,i))\n",
    "    while n!=0:\n",
    "        tmp.append(n%t)\n",
    "        print(f\"{n}//{t}={n//t}, r={n}%{t}={n%t}\")\n",
    "        n=n//t\n",
    "\n",
    "    for z in range(1,t):\n",
    "        dz=d(res,tmp,z,k)\n",
    "        if(dz!=0):\n",
    "            print(f\"dz for {z} equals {dz}\")\n",
    "        if(dz!=0):\n",
    "            ch=binYao(dz,z)\n",
    "            for i in ch:\n",
    "                if(i not in res):\n",
    "                    print(f\"Adding {i}\")\n",
    "                    res.append(i)\n",
    "            sum+=ch[-1]\n",
    "            if(sum not in res):\n",
    "                print(f\"Adding {sum}\")\n",
    "                res.append(sum)\n",
    "    res.sort()\n",
    "    return res\n",
    "\n",
    "ans=yao(3082,3)\n",
    "print(f\"Result Yao is: {ans}\")\n",
    "print(f\"Length is: {len(ans)}\")"
   ]
  },
  {
   "cell_type": "markdown",
   "metadata": {},
   "source": [
    "Уберем промежуточные результаты и запустим программу на различных числах и коэффициентом k={2,3,4}"
   ]
  },
  {
   "cell_type": "code",
   "execution_count": 7,
   "metadata": {},
   "outputs": [
    {
     "name": "stdout",
     "output_type": "stream",
     "text": [
      "n=1, k=3\n",
      "Result Yao is: [1]\n",
      "Length is: 1\n",
      "Minimum: 1\n",
      "\n",
      "n=1, k=4\n",
      "Result Yao is: [1]\n",
      "Length is: 1\n",
      "Minimum: 1\n",
      "\n",
      "n=1, k=5\n",
      "Result Yao is: [1]\n",
      "Length is: 1\n",
      "Minimum: 1\n",
      "\n",
      "n=2, k=3\n",
      "Result Yao is: [1, 2]\n",
      "Length is: 2\n",
      "Minimum: 2\n",
      "\n",
      "n=2, k=4\n",
      "Result Yao is: [1, 2]\n",
      "Length is: 2\n",
      "Minimum: 2\n",
      "\n",
      "n=2, k=5\n",
      "Result Yao is: [1, 2]\n",
      "Length is: 2\n",
      "Minimum: 2\n",
      "\n",
      "n=4, k=3\n",
      "Result Yao is: [1, 2, 4]\n",
      "Length is: 3\n",
      "Minimum: 3\n",
      "\n",
      "n=4, k=4\n",
      "Result Yao is: [1, 2, 4]\n",
      "Length is: 3\n",
      "Minimum: 3\n",
      "\n",
      "n=4, k=5\n",
      "Result Yao is: [1, 2, 4]\n",
      "Length is: 3\n",
      "Minimum: 3\n",
      "\n",
      "n=8, k=3\n",
      "Result Yao is: [1, 2, 4, 8]\n",
      "Length is: 4\n",
      "Minimum: 4\n",
      "\n",
      "n=8, k=4\n",
      "Result Yao is: [1, 2, 4, 8]\n",
      "Length is: 4\n",
      "Minimum: 4\n",
      "\n",
      "n=8, k=5\n",
      "Result Yao is: [1, 2, 4, 8]\n",
      "Length is: 4\n",
      "Minimum: 4\n",
      "\n",
      "n=20, k=3\n",
      "Result Yao is: [1, 2, 4, 8, 16, 20]\n",
      "Length is: 6\n",
      "Minimum: 6\n",
      "\n",
      "n=20, k=4\n",
      "Result Yao is: [1, 2, 4, 8, 16, 20]\n",
      "Length is: 6\n",
      "Minimum: 6\n",
      "\n",
      "n=20, k=5\n",
      "Result Yao is: [1, 2, 4, 5, 8, 10, 16, 20]\n",
      "Length is: 8\n",
      "Minimum: 6\n",
      "\n",
      "n=26, k=3\n",
      "Result Yao is: [1, 2, 4, 8, 16, 24, 26]\n",
      "Length is: 7\n",
      "Minimum: 7\n",
      "\n",
      "n=26, k=4\n",
      "Result Yao is: [1, 2, 4, 5, 8, 10, 16, 26]\n",
      "Length is: 8\n",
      "Minimum: 7\n",
      "\n",
      "n=26, k=5\n",
      "Result Yao is: [1, 2, 3, 4, 6, 8, 12, 13, 16, 26]\n",
      "Length is: 10\n",
      "Minimum: 7\n",
      "\n",
      "n=70, k=3\n",
      "Result Yao is: [1, 2, 3, 4, 6, 8, 16, 32, 64, 70]\n",
      "Length is: 10\n",
      "Minimum: 9\n",
      "\n",
      "n=70, k=4\n",
      "Result Yao is: [1, 2, 3, 4, 6, 8, 16, 32, 64, 70]\n",
      "Length is: 10\n",
      "Minimum: 9\n",
      "\n",
      "n=70, k=5\n",
      "Result Yao is: [1, 2, 3, 4, 6, 8, 16, 32, 64, 70]\n",
      "Length is: 10\n",
      "Minimum: 9\n",
      "\n",
      "n=115, k=3\n",
      "Result Yao is: [1, 2, 3, 4, 8, 16, 24, 32, 48, 64, 67, 115]\n",
      "Length is: 12\n",
      "Minimum: 10\n",
      "\n",
      "n=115, k=4\n",
      "Result Yao is: [1, 2, 3, 4, 8, 16, 32, 48, 64, 96, 112, 115]\n",
      "Length is: 12\n",
      "Minimum: 10\n",
      "\n",
      "n=115, k=5\n",
      "Result Yao is: [1, 2, 4, 8, 9, 16, 18, 19, 32, 64, 96, 115]\n",
      "Length is: 12\n",
      "Minimum: 10\n",
      "\n",
      "n=2048, k=3\n",
      "Result Yao is: [1, 2, 4, 8, 16, 32, 64, 128, 256, 512, 1024, 2048]\n",
      "Length is: 12\n",
      "Minimum: 12\n",
      "\n",
      "n=2048, k=4\n",
      "Result Yao is: [1, 2, 4, 8, 16, 32, 64, 128, 256, 512, 1024, 2048]\n",
      "Length is: 12\n",
      "Minimum: 12\n",
      "\n",
      "n=2048, k=5\n",
      "Result Yao is: [1, 2, 4, 8, 16, 32, 64, 128, 256, 512, 1024, 2048]\n",
      "Length is: 12\n",
      "Minimum: 12\n",
      "\n",
      "n=27182, k=3\n",
      "Result Yao is: [1, 2, 4, 8, 16, 32, 64, 128, 256, 512, 520, 1024, 1040, 2048, 2080, 2600, 4096, 4097, 8192, 8194, 12291, 16384, 24582, 27182]\n",
      "Length is: 24\n",
      "Minimum: 19\n",
      "\n",
      "n=27182, k=4\n",
      "Result Yao is: [1, 2, 3, 4, 6, 7, 8, 14, 16, 32, 64, 128, 256, 512, 1024, 1280, 2048, 2560, 4096, 8192, 12288, 16384, 24576, 24608, 27168, 27182]\n",
      "Length is: 26\n",
      "Minimum: 19\n",
      "\n",
      "n=27182, k=5\n",
      "Result Yao is: [1, 2, 3, 4, 6, 7, 8, 14, 16, 32, 64, 128, 256, 512, 544, 558, 1024, 2048, 3072, 4096, 6144, 8192, 12288, 13312, 16384, 26624, 27182]\n",
      "Length is: 27\n",
      "Minimum: 19\n",
      "\n"
     ]
    }
   ],
   "source": [
    "import math\n",
    "\n",
    "def binYao(dz,n):\n",
    "    res=[]\n",
    "    sum=dz\n",
    "    res.append(dz)\n",
    "    b=bin(n)[3:]\n",
    "\n",
    "    for i in b:\n",
    "        sum*=2\n",
    "        res.append(sum)\n",
    "        if(i=='1'):\n",
    "            sum+=dz\n",
    "            res.append(sum)\n",
    "    return res\n",
    "\n",
    "def d(res,tmp,z,k):\n",
    "    res2=0\n",
    "    for i in range(len(tmp)):\n",
    "        if(tmp[i]==z):\n",
    "            res2+=pow(2,i*k)\n",
    "            if (res2 not in res):\n",
    "                res.append(res2)\n",
    "    return res2\n",
    "\n",
    "def yao(n,k):\n",
    "    t = pow(2, k)\n",
    "    tmp=[]\n",
    "    sum=0\n",
    "    res = []\n",
    "    for i in range(math.floor(math.log(n,2))+1):\n",
    "        res.append(pow(2,i))\n",
    "    while n!=0:\n",
    "        tmp.append(n%t)\n",
    "        n=n//t\n",
    "\n",
    "    for z in range(1,t):\n",
    "        dz=d(res,tmp,z,k)\n",
    "        if(dz!=0):\n",
    "            ch=binYao(dz,z)\n",
    "            for i in ch:\n",
    "                if(i not in res):\n",
    "                    res.append(i)\n",
    "            sum+=ch[-1]\n",
    "            if(sum not in res):\n",
    "                res.append(sum)\n",
    "    res.sort()\n",
    "    return res\n",
    "\n",
    "n = [1, 2, 4, 8, 20, 26, 70, 115, 2048, 27182]\n",
    "shouldbe = [1, 2, 3, 4, 6, 7, 9, 10, 12, 19]\n",
    "for i in range(len(n)):\n",
    "    for k in [3,4,5]:\n",
    "        print(f\"n={n[i]}, k={k}\")\n",
    "        ans=yao(n[i],k)\n",
    "        print(f\"Result Yao is: {ans}\")\n",
    "        print(f\"Length is: {len(ans)}\")\n",
    "        print(f\"Minimum: {shouldbe[i]}\\n\")"
   ]
  },
  {
   "cell_type": "markdown",
   "metadata": {},
   "source": [
    "Выполним сравнение алгоритма с фактической минимальной длиной в виде таблицы:"
   ]
  },
  {
   "attachments": {
    "image-2.png": {
     "image/png": "[encoded data removed]"
    }
   },
   "cell_type": "markdown",
   "metadata": {},
   "source": [
    "![image-2.png](attachment:image-2.png)"
   ]
  },
  {
   "cell_type": "markdown",
   "metadata": {},
   "source": [
    "####Вывод:"
   ]
  },
  {
   "cell_type": "markdown",
   "metadata": {},
   "source": [
    "Результаты работы программы варьируются в зависимости от использованного коэффициента k, при этом прямой зависимости работы для определенного числа от коэффициента нет, для каждого числа свой объективно оптимальный k."
   ]
  },
  {
   "cell_type": "markdown",
   "metadata": {},
   "source": [
    "###Алгоритм дробления вектора индексов"
   ]
  },
  {
   "cell_type": "markdown",
   "metadata": {},
   "source": [
    "Реализуем алгоритм дробления вектора индексов для нахождения минимальной звёздной цепочки для заданного числа."
   ]
  },
  {
   "cell_type": "code",
   "execution_count": null,
   "metadata": {},
   "outputs": [],
   "source": [
    "import time\n",
    "import math\n",
    "\n",
    "def Ham(n):\n",
    "    str=bin(n)\n",
    "    res=0\n",
    "    for i in str:\n",
    "        if(i=='1'):\n",
    "            res+=1\n",
    "    return res\n",
    "\n",
    "def searchForIndex(r, i0):\n",
    "    max=i0+len(r)-1\n",
    "    for i in range(1,len(r)+1):\n",
    "        r[-i]+=1\n",
    "        if(r[-i]<=max):\n",
    "            break\n",
    "        if(i==len(r)):\n",
    "            r.append(1)\n",
    "            break\n",
    "        r[-i]=1\n",
    "        max-=1\n",
    "\n",
    "def chain(r):\n",
    "    chRes=[1]\n",
    "    for i in r:\n",
    "        chRes.append(chRes[-1]+chRes[i-1])\n",
    "    return chRes\n",
    "\n",
    "def splitIndexAlg(n):\n",
    "    ldown=math.ceil(math.log(n,2))\n",
    "    lup=math.floor(math.log(n,2))+Ham(n)-1\n",
    "    while(ldown<=lup):\n",
    "        q=ldown//2\n",
    "        if(q==0):\n",
    "            q=1\n",
    "        indexes = [1 for i in range(q)]\n",
    "        while(len(indexes)==q):\n",
    "            indexes2 = [1 for i in range(ldown-q)]\n",
    "            ch=chain(indexes+indexes2)\n",
    "            if(ch[-1]==n):\n",
    "                return ch\n",
    "            amax=ch[q]*pow(2,ldown-q)\n",
    "            amin = ch[q] +ldown-q\n",
    "            if(amin>n or amax<n):\n",
    "                searchForIndex(indexes,1)\n",
    "                continue\n",
    "            while(len(indexes2)==ldown-q):\n",
    "                ch=chain(indexes+indexes2)\n",
    "                if(ch[-1]==n):\n",
    "                    return ch\n",
    "                searchForIndex(indexes2,q+1)\n",
    "            searchForIndex(indexes,1)\n",
    "        ldown+=1\n",
    "    return ch\n",
    "\n",
    "n=int(input())\n",
    "startTime=time.time()\n",
    "ch=splitIndexAlg(n)\n",
    "endTime=time.time()\n",
    "print(f\"Result is: {ch}\")\n",
    "print(f\"Length is: {len(ch)}\")\n",
    "print(f\"Time: {float(endTime-startTime)}\")"
   ]
  },
  {
   "cell_type": "markdown",
   "metadata": {},
   "source": [
    "Протестируем алгоритм на примерах n>=500 и сравним с ранее реализованными методами(для алгоритма Яо возьмем k=3):"
   ]
  },
  {
   "attachments": {
    "image.png": {
     "image/png": "[encoded data removed]"
    }
   },
   "cell_type": "markdown",
   "metadata": {},
   "source": [
    "![image.png](attachment:image.png)"
   ]
  },
  {
   "cell_type": "markdown",
   "metadata": {},
   "source": [
    "####Вывод:"
   ]
  },
  {
   "cell_type": "markdown",
   "metadata": {},
   "source": [
    "Как мы видим на результатах, сравнивая четыре метода, можно заметить, что несмотря на идеальные результаты, метод дробления вектора индексов справляется с задачей за очень долгое время для n>=500, в то время как предыдущие алгоритмы справляются моментально. В зависимости от желания получить наиболее точную цепочку, можно выбрать для выполнения как метод ДВИ, так и ранее расмотренные методы. Использование того или иного метода напрямую зависит от вводимых чисел, так как в определенных случаях один алгоритм лучше/хуже другого в разных аспектах."
   ]
  },
  {
   "cell_type": "markdown",
   "metadata": {},
   "source": [
    "###Первое следствие теоремы Брауэра"
   ]
  },
  {
   "cell_type": "markdown",
   "metadata": {},
   "source": [
    "Проверим следствие 1 теоремы Брауэра для n=1..200 путём построения функции l(n) и аппроксимирующей кривой, полученной с помощью метода наименьших квадратов."
   ]
  },
  {
   "cell_type": "markdown",
   "metadata": {},
   "source": [
    "Создадим массив с результатами значения для всех n 1..200 алгоритмом ДВИ, вычислим для каждого значения ln(x) и yln(x)"
   ]
  },
  {
   "cell_type": "code",
   "execution_count": null,
   "metadata": {},
   "outputs": [],
   "source": [
    "import pylab as plt\n",
    "\n",
    "n = 201\n",
    "results = [len(splitIndexAlg(i)) for i in range(1, n)]\n",
    "x = [i for i in range(1, n)]\n",
    "lnxi = [math.log(i, math.e) for i in range(1, n)]\n",
    "lnx2i = [pow(math.log(i, math.e),2) for i in range(1, n)]\n",
    "ylnxi = [results[i-1] * lnxi[i-1] for i in range(1, n)]"
   ]
  },
  {
   "attachments": {
    "image-2.png": {
     "image/png": "[encoded data removed]"
    },
    "image.png": {
     "image/png": "[encoded data removed]"
    }
   },
   "cell_type": "markdown",
   "metadata": {},
   "source": [
    "Используя функцию вида $y=a+bln(x)$ Получим результаты для отображения y\n",
    "\n",
    "Коэффициенты:\n",
    "![image-2.png](attachment:image-2.png)\n",
    "![image.png](attachment:image.png)"
   ]
  },
  {
   "cell_type": "code",
   "execution_count": null,
   "metadata": {},
   "outputs": [],
   "source": [
    "b = (n*sum(ylnxi) - sum(results)*sum(lnxi))/(n*sum(lnx2i) - sum(lnxi)*sum(lnxi))\n",
    "a = (sum(results) - b * sum(lnxi))/(n-1)\n",
    "\n",
    "y = [a + b*lnxi[i-1] for i in range(1, n)]\n",
    "\n",
    "plt.figure(figsize=(12, 8))\n",
    "plt.scatter(x, results, color = 'red', marker = '.')\n",
    "plt.plot(x, y)\n",
    "plt.show()"
   ]
  },
  {
   "cell_type": "markdown",
   "metadata": {},
   "source": [
    "График зависимости длины аддитивной цепочки от заданного числа:"
   ]
  },
  {
   "attachments": {
    "image.png": {
     "image/png": "[encoded data removed]"
    }
   },
   "cell_type": "markdown",
   "metadata": {},
   "source": [
    "![image.png](attachment:image.png)"
   ]
  },
  {
   "cell_type": "markdown",
   "metadata": {},
   "source": [
    "####Вывод:"
   ]
  },
  {
   "cell_type": "markdown",
   "metadata": {},
   "source": [
    "Изучив график, мы можем явно сказать, что минимальные длины АЦ аппроксимируются логарифмической кривой при 1<=n<=200. Следовательно, первое следствие теоремы Брауэра справедливо $\\lim_{x \\to \\infty} l(n)/\\lambda(n)=1$."
   ]
  },
  {
   "cell_type": "markdown",
   "metadata": {},
   "source": [
    "###Гипотеза Шольца-Брауэра"
   ]
  },
  {
   "cell_type": "markdown",
   "metadata": {},
   "source": [
    "Проверим также гипотезу Шольца-Брауэра для 1<n<10 с помощью алгоритма ДВИ, которая выдвигается как $l*(2^n-1)<=l*(n)+n-1$"
   ]
  },
  {
   "cell_type": "code",
   "execution_count": null,
   "metadata": {},
   "outputs": [],
   "source": [
    "import time\n",
    "import math\n",
    "import pylab as plt\n",
    "import numpy as np\n",
    "\n",
    "def Ham(n):\n",
    "    str=bin(n)\n",
    "    res=0\n",
    "    for i in str:\n",
    "        if(i=='1'):\n",
    "            res+=1\n",
    "    return res\n",
    "\n",
    "def searchForIndex(r, i0):\n",
    "    max=i0+len(r)-1\n",
    "    for i in range(1,len(r)+1):\n",
    "        r[-i]+=1\n",
    "        if(r[-i]<=max):\n",
    "            break\n",
    "        if(i==len(r)):\n",
    "            r.append(1)\n",
    "            break\n",
    "        r[-i]=1\n",
    "        max-=1\n",
    "\n",
    "def chain(r):\n",
    "    chRes=[1]\n",
    "    for i in r:\n",
    "        chRes.append(chRes[-1]+chRes[i-1])\n",
    "    return chRes\n",
    "\n",
    "def splitIndexAlg(n):\n",
    "    ldown=math.ceil(math.log(n,2))\n",
    "    lup=math.floor(math.log(n,2))+Ham(n)-1\n",
    "    while(ldown<=lup):\n",
    "        q=ldown//2\n",
    "        if(q==0):\n",
    "            q=1\n",
    "        indexes = [1 for i in range(q)]\n",
    "        while(len(indexes)==q):\n",
    "            indexes2 = [1 for i in range(ldown-q)]\n",
    "            ch=chain(indexes+indexes2)\n",
    "            if(ch[-1]==n):\n",
    "                return ch\n",
    "            amax=ch[q]*pow(2,ldown-q)\n",
    "            amin = ch[q] +ldown-q\n",
    "            if(amin>n or amax<n):\n",
    "                searchForIndex(indexes,1)\n",
    "                continue\n",
    "            while(len(indexes2)==ldown-q):\n",
    "                ch=chain(indexes+indexes2)\n",
    "                if(ch[-1]==n):\n",
    "                    return ch\n",
    "                searchForIndex(indexes2,q+1)\n",
    "            searchForIndex(indexes,1)\n",
    "        ldown+=1\n",
    "    return ch\n",
    "\n",
    "\n",
    "for n in range(2, 11):\n",
    "    first = splitIndexAlg(pow(2,n) - 1)\n",
    "    second = splitIndexAlg(n)\n",
    "\n",
    "    if (len(first)<=len(second)+n-1):\n",
    "        print(f\"Гипотеза верна для n={n}.\")\n",
    "        print(f\"l*(2^n-1)<=l*(n)+n-1\")\n",
    "        print(f\"{len(first)}<={len(second)}+{n}-1\")\n",
    "    else:\n",
    "        print(f\"Гипотеза неверна для n={n}.\")\n",
    "        print(f\"l*(2^n-1)>l*(n)+n-1\")\n",
    "        print(f\"{len(first)}>{len(second)}+{n}-1\")"
   ]
  },
  {
   "cell_type": "markdown",
   "metadata": {},
   "source": [
    "Результат работы программы:"
   ]
  },
  {
   "cell_type": "code",
   "execution_count": null,
   "metadata": {},
   "outputs": [],
   "source": [
    "Гипотеза верна для n=2.\n",
    "l*(2^n-1)<=l*(n)+n-1\n",
    "3<=2+2-1\n",
    "Гипотеза верна для n=3.\n",
    "l*(2^n-1)<=l*(n)+n-1\n",
    "5<=3+3-1\n",
    "Гипотеза верна для n=4.\n",
    "l*(2^n-1)<=l*(n)+n-1\n",
    "6<=3+4-1\n",
    "Гипотеза верна для n=5.\n",
    "l*(2^n-1)<=l*(n)+n-1\n",
    "8<=4+5-1\n",
    "Гипотеза верна для n=6.\n",
    "l*(2^n-1)<=l*(n)+n-1\n",
    "9<=4+6-1\n",
    "Гипотеза верна для n=7.\n",
    "l*(2^n-1)<=l*(n)+n-1\n",
    "11<=5+7-1\n",
    "Гипотеза верна для n=8.\n",
    "l*(2^n-1)<=l*(n)+n-1\n",
    "11<=4+8-1\n",
    "Гипотеза верна для n=9.\n",
    "l*(2^n-1)<=l*(n)+n-1\n",
    "13<=5+9-1\n",
    "Гипотеза верна для n=10.\n",
    "l*(2^n-1)<=l*(n)+n-1\n",
    "14<=5+10-1"
   ]
  },
  {
   "cell_type": "markdown",
   "metadata": {},
   "source": [
    "####Вывод:"
   ]
  },
  {
   "cell_type": "markdown",
   "metadata": {},
   "source": [
    "Проверив гипотезу, убедились, что гипотеза справедлива для чисел $2<=n<=10$, а значит, для вычисления длины цепочки $l*(2^n-1)$ нам достаточно найти длину цепочки $l*(n)$, прибавить $n$ и вычесть единицу"
   ]
  },
  {
   "cell_type": "markdown",
   "metadata": {},
   "source": [
    "###Оптимизированный метод множителей"
   ]
  },
  {
   "cell_type": "markdown",
   "metadata": {},
   "source": [
    "Оптимизируем метод множителей, используя не два простых числа, а всю факторизацию числа, тем самым приводя к тому, что вместо лишних дополнительных расчетов мы будем заменять число на другую переменную, тем самым избегая очередной операции. Реализация аналогичная обычному методу множителей, однако расширенная на все простые делители."
   ]
  },
  {
   "cell_type": "code",
   "execution_count": 27,
   "metadata": {},
   "outputs": [
    {
     "name": "stdout",
     "output_type": "stream",
     "text": [
      "30\n",
      "{2: 1, 3: 1, 5: 1}\n",
      "Calculating for the multiplier(2):\n",
      "\t[0]\n",
      "\tx^1 * x^1\n",
      "\tResult is: x^2 with 1 operations\n",
      "\n",
      "Calculating for the multiplier(3):\n",
      "\t[1]\n",
      "\tx^1 * x^1\n",
      "\tx^2 * x\n",
      "\tResult is: x^3 with 2 operations\n",
      "\n",
      "Calculating for the multiplier(5):\n",
      "\t[0, 1]\n",
      "\tx^1 * x^1\n",
      "\tx^2 * x^2\n",
      "\tx^4 * x\n",
      "\tResult is: x^5 with 3 operations\n",
      "\n",
      "Result of all: x^30 with [1, 2, 3]+0=6 operations and 3 replacements\n",
      "\n",
      "548\n",
      "{2: 2, 137: 1}\n",
      "Calculating for the multiplier(2):\n",
      "\t[0]\n",
      "\tx^1 * x^1\n",
      "\tResult is: x^2 with 1 operations\n",
      "\n",
      "Calculating for the multiplier(137):\n",
      "\t[0, 0, 0, 1, 0, 0, 1]\n",
      "\tx^1 * x^1\n",
      "\tx^2 * x^2\n",
      "\tx^4 * x^4\n",
      "\tx^8 * x^8\n",
      "\tx^16 * x\n",
      "\tx^17 * x^17\n",
      "\tx^34 * x^34\n",
      "\tx^68 * x^68\n",
      "\tx^136 * x\n",
      "\tResult is: x^137 with 9 operations\n",
      "\n",
      "Result of all: x^548 with [2, 9]+0=11 operations and 3 replacements\n",
      "\n",
      "632\n",
      "{2: 3, 79: 1}\n",
      "Calculating for the multiplier(2):\n",
      "\t[0]\n",
      "\tx^1 * x^1\n",
      "\tResult is: x^2 with 1 operations\n",
      "\n",
      "Calculating for the multiplier(79):\n",
      "\t[0, 0, 1, 1, 1, 1]\n",
      "\tx^1 * x^1\n",
      "\tx^2 * x^2\n",
      "\tx^4 * x^4\n",
      "\tx^8 * x\n",
      "\tx^9 * x^9\n",
      "\tx^18 * x\n",
      "\tx^19 * x^19\n",
      "\tx^38 * x\n",
      "\tx^39 * x^39\n",
      "\tx^78 * x\n",
      "\tResult is: x^79 with 10 operations\n",
      "\n",
      "Result of all: x^632 with [3, 10]+0=13 operations and 4 replacements\n",
      "\n"
     ]
    }
   ],
   "source": [
    "def binMethod(n):\n",
    "    bin = []\n",
    "    while n > 1:\n",
    "        bin.append(n % 2)\n",
    "        n //= 2\n",
    "    bin.reverse()\n",
    "    print(f\"\\t{bin}\")\n",
    "    result = 1\n",
    "    ops = 0\n",
    "    for i in bin:\n",
    "        if i == 1:\n",
    "            print(f\"\\tx^{result} * x^{result}\")\n",
    "            result = result + result\n",
    "            print(f\"\\tx^{result} * x\")\n",
    "            result = result + 1\n",
    "            ops += 2\n",
    "        else:\n",
    "            print(f\"\\tx^{result} * x^{result}\")\n",
    "            result = result + result\n",
    "            ops += 1\n",
    "    print(f\"\\tResult is: x^{result} with {ops} operations\\n\")\n",
    "    return ops\n",
    "\n",
    "for j in range(3):\n",
    "    n=int(input())\n",
    "    n2=n\n",
    "    simple={}\n",
    "    i=2\n",
    "    nosimp = 1\n",
    "    while(i!=n):\n",
    "        if n%i==0:\n",
    "            nosimp=0\n",
    "            break\n",
    "        else:\n",
    "            i+=1\n",
    "    n-=nosimp\n",
    "    i=2\n",
    "    while(n!=1):\n",
    "        if n%(i)==0:\n",
    "            if simple.get(i)==None:\n",
    "                simple[i]=1\n",
    "            else:\n",
    "                simple[i]+=1\n",
    "            n//=(i)\n",
    "            i=2\n",
    "        else:\n",
    "            i+=1\n",
    "    print(simple)\n",
    "    ops=[]\n",
    "    for j in simple.keys():\n",
    "        print(f\"Calculating for the multiplier({j}):\")\n",
    "        ops.append(binMethod(j)*simple[j])\n",
    "    sum = 0\n",
    "    sum2 = 0\n",
    "    for i in ops:\n",
    "        sum+=i\n",
    "    for i in simple.values():\n",
    "        sum2+=i\n",
    "    if nosimp==1:\n",
    "        print(\"+1 operation '*x', because of simple n\")\n",
    "    print(f\"Result of all: x^{n2+nosimp} with {ops}+{nosimp}={sum+nosimp} operations and {sum2} replacements\\n\")"
   ]
  },
  {
   "cell_type": "markdown",
   "metadata": {},
   "source": [
    "Сравним результаты работы методов:"
   ]
  },
  {
   "attachments": {
    "image-2.png": {
     "image/png": "[encoded data removed]"
    }
   },
   "cell_type": "markdown",
   "metadata": {},
   "source": [
    "![image-2.png](attachment:image-2.png)"
   ]
  },
  {
   "cell_type": "markdown",
   "metadata": {},
   "source": [
    "Тем не менее, в зависимости от числа метод множителей на всех простых числах может давать как и лучше результат, чем обычный метод множителей, так и хуже. "
   ]
  },
  {
   "cell_type": "markdown",
   "metadata": {},
   "source": [
    "###Выводы"
   ]
  },
  {
   "cell_type": "markdown",
   "metadata": {},
   "source": [
    "В процессе выполнения лабораторной работы были получены знания о предмете аддитивных цепочек, возможные алгоритмы работы с ними. Также, были реализованы данные алгоритмы для нахождения минимальных и приблизительных аддитивных цепочек/их длин. Была изучена зависимость минимальных длин звездных цепочек от числа. \n",
    "Также, были получены знания и навыки использования системы компьютерной алгебры SageMath.\n",
    "Были реализованы следующие алгоритмы:\n",
    "1. Бинарный метод\n",
    "2. Метод множителей и его дополненная версия\n",
    "3. Алгоритм Яо\n",
    "4. Алгоритм дробления вектора индекса\n",
    "\n",
    "Также, помимо изучения на практике алгоритмов работы с аддитивными цепочками, было проверены:\n",
    "1. Первое следствие теоремы Брауэра \n",
    "2. Гипотеза Шольца-Брауэра для n=1..10"
   ]
  }
 ],
 "metadata": {
  "kernelspec": {
   "display_name": "SageMath 9.2",
   "language": "sage",
   "name": "sagemath"
  },
  "language_info": {
   "codemirror_mode": {
    "name": "ipython",
    "version": 3
   },
   "file_extension": ".py",
   "mimetype": "text/x-python",
   "name": "python",
   "nbconvert_exporter": "python",
   "pygments_lexer": "ipython3",
   "version": "3.7.7"
  }
 },
 "nbformat": 4,
 "nbformat_minor": 4
}
