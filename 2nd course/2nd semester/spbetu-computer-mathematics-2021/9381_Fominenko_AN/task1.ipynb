{
 "cells": [
  {
   "cell_type": "markdown",
   "metadata": {},
   "source": [
    "# Практическая работа №1: Исследование алгоритмов формирования аддитивных цепочек\n",
    "Выполнил студент гр. 9381 Фоминенко Артемий, вариант 63."
   ]
  },
  {
   "cell_type": "markdown",
   "metadata": {},
   "source": [
    "## Цель работы\n",
    "Формирование представления о аддитивных цепочках, выработать умение составлять и применять алгоритмы для нахождения минимальных аддитивных цепочек для заданного числа, привить навык использования систем компьютерной алгебры для реализации алгоритмов.\n",
    "\n",
    "------------------------------------------------------------------------------------------------------------------------"
   ]
  },
  {
   "cell_type": "markdown",
   "metadata": {},
   "source": [
    "## Постановка задачи\n",
    "Реализовать точные и приближённые алгоритмы нахождения минимальных аддитивных цепочек с использованием системы компьютерной алгебры SageMath, провести анализ алгоритмов. Полученные результаты содержательно проинтерпретировать.\n",
    "\n",
    "------------------------------------------------------------------------------------------------------------------------"
   ]
  },
  {
   "cell_type": "markdown",
   "metadata": {},
   "source": [
    "\n",
    "## Основные теоритические положения"
   ]
  },
  {
   "cell_type": "markdown",
   "metadata": {},
   "source": [
    "### Бинарный метод\n",
    "Бинарное возведение в степень — это приём, позволяющий возводить любое число в $n$-ую степень за $O(\\log n)$ умножений (вместо $n$ умножений при обычном подходе).\n",
    "\n",
    "Представим степень $n$ в двоичном виде. После начнем проходить по двоичной записи (не смотрим на самый первый бит). Если текущий бит равен 0, то мы возводим число в квадрат; иначе (бит равен 1) число возводим в квадрат и умножаем на само себя.\n",
    "\n",
    "Сложность алгоритма будет $O(\\log n)$, так как на каждом шаге мы сдвигаемся на бит вправо.\n",
    "\n",
    "------------------------------------------------------------------------------------------------------------------------\n",
    "\n",
    "### Метод множителей\n",
    "Степень $n$.\n",
    "\n",
    "Пусть $n=p \\cdot q$, где p – наименьший простой делитель числа n, а q > 1.  $\\Rightarrow x^{n} = (x^p)^q$.\n",
    "\n",
    "Когда $n$ простое, тогда $q = 1$, и нам лучше вычислить $x^{n-1}$, а затем умножить на $х$.\n",
    "\n",
    "------------------------------------------------------------------------------------------------------------------------\n",
    "\n",
    "\n",
    "### Аддитивная цепочка\n",
    "Аддитивной цепочкой для числа $n \\in \\mathbb{N}$ называется последовательность натуральных чисел $a_{0} = 1, a_{1},..., a_{m} = n$, для которой выполняется $a_i = a_j + a_k$, $k \\leq j < i$, $i = 1..n$\n",
    "\n",
    "$l(n) - $ минимальная длина аддитивной цепочки для $n$\n",
    "\n",
    "------------------------------------------------------------------------------------------------------------------------\n",
    "\n",
    "### Типы шагов аддитивной цепочки\n",
    "\n",
    "$$ \\forall i \\in [1,m], \\text{ где m - длина аддитивной цепочки, } a_i = a_j + a_k, 0 \\le k \\le j < i  $$\n",
    "\n",
    "* i-ый шаг - удвоение, если $j = k = i - 1$ \n",
    "* i-ый шаг - звездный, если $j = i - 1$ \n",
    "* i-ый шаг - малый, если $\\lambda ( a_i) = \\lambda (a_{i-1})$, $ \\lambda(n)  = \\lfloor \\log n \\rfloor$ \n",
    "\n",
    "------------------------------------------------------------------------------------------------------------------------\n",
    "\n",
    "### Звездная цепочка\n",
    "\n",
    "Звездная цепочка - это аддитивная цепочка, в которой текущий элемент получен сложением предыдущего и какого-то $a_j$, где $a_i=a_{i-1}+a_j$ при $0 \\leq k \\leq i-1$.\n",
    "\n",
    "------------------------------------------------------------------------------------------------------------------------\n",
    "\n",
    "### Теорема Брауэра\n",
    "\n",
    "$$\n",
    "\\exists k < \\log \\log n : l(n) < (1 + k^{-1}) \\cdot {\\lceil{\\log n} \\rceil} + 2^{k-1} - k + 2\n",
    "$$\n",
    "\n",
    "При $k = \\lambda (\\lambda (n)) - 2\\lambda (\\lambda (\\lambda (n)))$\n",
    "\n",
    "Следствие: $$ \\lim_{n\\to\\infty} \\dfrac{l(n)}{\\lambda(n)} = 1$$\n",
    "где $\\lambda (n)$ - длина числа в двоичной записи минус 1\n",
    "\n",
    "------------------------------------------------------------------------------------------------------------------------\n",
    "\n",
    "###  Алгоритм Брауэра\n",
    "Вычисляет n степень за  $$\\lambda (n) + \\dfrac{(1 + o(1))(\\lambda (n))}{\\lambda ( \\lambda (n))} $$\n",
    "\n",
    "Метод Брауэра позволяет по заданной линейной цепочке $a_{0} = 1, a_{1},..., a_{m} = n$ построить аддитивную цепочку для $2^{n-1}$.\n",
    "\n",
    "$$\n",
    "B_{k}(n) = \n",
    " \\begin{cases}\n",
    "       1, 2, 3,... 2^{k}- 1  &\\text{if n $< 2^{k}$}\\\\\n",
    "   B_{k}(q), 2q, 4q, ..., 2^{k}q, n &\\text{if $n \\geqslant 2^{k}$ and $q =  \\lfloor \\frac{n}{2^{k}} \\rfloor $}\n",
    " \\end{cases}\n",
    "$$\n",
    "\n",
    "------------------------------------------------------------------------------------------------------------------------\n",
    "\n",
    "### Гипотеза Шольца-Брауэра\n",
    "\n",
    "$$ \n",
    "l^{\\text{*}}(2^n - 1) \\le l^{\\text{*}}(n) + n - 1\n",
    "$$\n",
    "где $l^{\\text{*}}(n) - $ длина звездной цепочки\n",
    "\n",
    "------------------------------------------------------------------------------------------------------------------------\n",
    "\n",
    "### Алгоритм дробления вектора индексов\n",
    "\n",
    "Дано $n$, алгоритм ищет минимальную звездную цепочку $a_1, ..., a_m = n$\n",
    "\n",
    "Пусть $l^{*}(n) = m$ - звёздная цепочка.  $\\{ a_i \\}_{i=1}^{m}$, $a_1$ = 1, тогда вектор индексов: $\\{ r_i \\}_{i=1}^{m-1}$, где $r_i = \\{x: 1 \\leqslant x \\leqslant i\\}$.\n",
    "\n",
    "Тогда шаг звездной цепочки: ${a_i}$ = ${a}_{i-1}$ + ${a}_{{r}_{i-1}}$, 2  $\\leqslant  i  \\leqslant  m$.\n",
    "\n",
    "Наибольшая звездная цепочка: $S_{max}=\\{1, 2, 4, \\dots, 2^m\\} <=>$ вектор индексов $r_{max} = \\{1, 2, 3, \\dots, m\\}$\n",
    "\n",
    "Наименьшая звездная цепочка: $S_{min}=\\{1,2,3,\\dots , m\\} <=>$ вектор индексов $r_{min}=\\{1, 1, 1, \\dots, 1\\}$\n",
    "\n",
    "Пусть $r=\\{ r_i \\}_{i=1}^{m}$ больше $\\tilde{r}=\\{ \\tilde{r}_i \\}_{i=1}^{m}$ если $r_1=\\tilde{r}_1; r_2=\\tilde{r}_2; \\dots; r_{i-1}=\\tilde{r}_{i-1};r_i>\\tilde{r}_i$\n",
    "\n",
    "Нахождение минимальной аддитивной цепочки осуществляется с помощью перебора. Каждый вектор индексов разбивать на два: $r=\\{ r_i \\}_{i=1}^{q}$ - фиксированный вектор, $\\rho=\\{ \\rho_j \\}_{j=q+1}^{m}$ - меняющийся вектор. Для фиксированного вектора можно вычислить максимальное и минимальное значение аддитивной цепочки:\n",
    "$$ a_{max}: \\{ r_i \\}_{i=1}^{q} \\cup \\{ q+1, q+2, \\dots, m \\} => a_{max} = a_{q+1} \\cdot 2^{m-q}\\\\\n",
    "a_{min}: \\{ r_i \\}_{i=1}^{q} \\cup \\{ 1, 1, \\dots, 1 \\} => a_{min}=a_{q+1}+m-q $$\n",
    "\n",
    "### Описание алгоритма\n",
    "Текущий вектор индексов разбивается на два: фиксированный и изменющийся. Для фиксированной части вычисляются $a_{max}$ и $a_{min}$. Если $n \\notin [a_{min}, a_{max}]$, то осуществляется переход к следующему фиксированному вектору(в сторону уменьшения или увеличения), иначе существляется перебор по меняющемуся вектору. Если для заданной длины не нашлось аддитивной цепочки, то необходимо увеличить длину аддитивной цепочки. \n",
    "\n",
    "Длина аддитивной цепочки: $m \\in [\\underline{l}(n), \\overline{l}(n)]$, где $\\underline{l}(n)=\\lceil log_2 n \\rceil,\\, \\overline{l}(n)=\\lambda(n)+\\nu(n)-1$"
   ]
  },
  {
   "cell_type": "markdown",
   "metadata": {},
   "source": [
    "## Порядок выполнения работы\n",
    "1. Применить бинарный метод и метод множителей для $x^n$, где $n \\geqslant 30$, для 2-3 значений n (значения n выбирается студентом самостоятельно). Сравнить количество операций для каждого метода, сделать выводы.\n",
    "\n",
    "2. Реализовать алгоритм Брауэра (для нечётных вариантов) или алгоритм Яо (для чётных вариантов) для вычисления приближённых аддитивных цепочек для различных чисел при варьировании параметра $k$, сопоставить длины полученных аддитивных цепочек с минимальной аддитивной цепочкой для заданного числа. Сделать выводы.\n",
    "\n",
    "3. Реализовать алгоритм дробления вектора индексов для нахождения минимальной звёздной цепочки для заданного числа. Протестировать алгоритм при $n>500$. Указать, сколько времени потребовалось на поиск цепочки и какая цепочка получилась. Сравнить с предыдущими методами, сделать выводы.\n",
    "\n",
    "4. Проверить следствие 1 теоремы Брауэра для $n=1..200$ путём построения функции $l(n)$ и аппроксимирующей кривой, полученной с помощью метода наименьших квадратов. Сопоставить функции на одном графике, сделать выводы.\n",
    "\n",
    "5. Проверить гипотезу Шольца–Брауэра для $1 < n\\leqslant 10$ на алгоритме дробления вектора индексов. Сделать выводы.\n",
    "\n",
    "6. Дополнительное необязательное задание: найти и/или предложить модификации алгоритмов и привести описание модификаций. Реализовать модифицированные алгоритмы и сравнить их мощность.\n",
    "\n",
    "\n",
    "### Бинарный метод и метод множителей\n",
    "Реализованы ниже. Вывод под алгоритмами."
   ]
  },
  {
   "cell_type": "code",
   "execution_count": 1,
   "metadata": {},
   "outputs": [],
   "source": [
    "#imports\n",
    "import time\n",
    "import math\n",
    "import pylab as plt"
   ]
  },
  {
   "cell_type": "code",
   "execution_count": 2,
   "metadata": {},
   "outputs": [],
   "source": [
    "def bin_pow(x, k):\n",
    "    count = 0\n",
    "    cur = x\n",
    "    for i in bin(k)[3:]:\n",
    "        if i == '1':\n",
    "            cur *= cur * x\n",
    "            count += 2\n",
    "        else:\n",
    "            cur *= cur\n",
    "            count += 1\n",
    "\n",
    "    return [cur, count]"
   ]
  },
  {
   "cell_type": "code",
   "execution_count": 3,
   "metadata": {},
   "outputs": [],
   "source": [
    "def find_first_divider(n):\n",
    "    if n <= 1:\n",
    "        return n\n",
    "    if n % 2 == 0:\n",
    "        return 2\n",
    "    for i in range(3, (n+1)//2 ,2):\n",
    "        if n % i == 0:\n",
    "            return i\n",
    "    return n    \n",
    "\n",
    "def mult_method(x, n):\n",
    "    if n == 0:\n",
    "        return [1, 0]\n",
    "    if n == 1:\n",
    "        return [x, 0]\n",
    "    f = find_first_divider(n)\n",
    "    if f == n:\n",
    "        res = mult_method(x, n-1)\n",
    "        res[0] *= x\n",
    "        res[1] += 1\n",
    "        return res\n",
    "    a = bin_pow(x, f)\n",
    "    b = bin_pow(a[0], n // f)\n",
    "    return [b[0], a[1] + b[1]]"
   ]
  },
  {
   "cell_type": "code",
   "execution_count": 4,
   "metadata": {},
   "outputs": [],
   "source": [
    "def print_bin_mul(number, power):\n",
    "    res_bin = bin_pow(number, power)\n",
    "    res_mul = mult_method(number, power)\n",
    "    print(\"%d^%d\" %(number, power) )\n",
    "    print(\"Bin method steps:\", res_bin[1])\n",
    "    print(\"Mul method steps:\", res_mul[1])\n",
    "    print('-------------------------------------------------------')"
   ]
  },
  {
   "cell_type": "code",
   "execution_count": 5,
   "metadata": {},
   "outputs": [
    {
     "name": "stdout",
     "output_type": "stream",
     "text": [
      "10^5\n",
      "Bin method steps: 3\n",
      "Mul method steps: 3\n",
      "-------------------------------------------------------\n",
      "7^9\n",
      "Bin method steps: 4\n",
      "Mul method steps: 4\n",
      "-------------------------------------------------------\n",
      "3^123123\n",
      "Bin method steps: 25\n",
      "Mul method steps: 21\n",
      "-------------------------------------------------------\n",
      "4^1007\n",
      "Bin method steps: 17\n",
      "Mul method steps: 14\n",
      "-------------------------------------------------------\n",
      "5^1023\n",
      "Bin method steps: 18\n",
      "Mul method steps: 14\n",
      "-------------------------------------------------------\n",
      "321^13372287\n",
      "Bin method steps: 36\n",
      "Mul method steps: 32\n",
      "-------------------------------------------------------\n",
      "321^4097\n",
      "Bin method steps: 13\n",
      "Mul method steps: 16\n",
      "-------------------------------------------------------\n"
     ]
    }
   ],
   "source": [
    "print_bin_mul(10,5)\n",
    "print_bin_mul(7,9)\n",
    "print_bin_mul(3,123123)\n",
    "print_bin_mul(4,1007)\n",
    "print_bin_mul(5,1023)\n",
    "print_bin_mul(321,13372287)\n",
    "print_bin_mul(321,4097)"
   ]
  },
  {
   "cell_type": "markdown",
   "metadata": {},
   "source": [
    "| x | n | Бинарный метод | Метод множителей | \n",
    "| :-: | :-: | :-: | :-: |\n",
    "| 10 | 5 | 3 | 3 |\n",
    "|  7 | 9 |  4|4 |\n",
    "| 3 | 123123 | 25 | 21 |\n",
    "| 4 | 1007 | 17 | 14 |\n",
    "| 5 | 1023 | 18 | 14 |\n",
    "| 321 | 13372287 | 36 | 32 |\n",
    "| 321 | 4097 | 13 | 16 |"
   ]
  },
  {
   "cell_type": "markdown",
   "metadata": {},
   "source": [
    "### Вывод:\n",
    "Из результатов сверху можно сделать вывод, что метод множителей оптимальнее, чем бинарный метод.\n",
    "\n",
    "Но при $n = 2^i + 1$ бинарный метод оказывется лучше.\n",
    "\n",
    "Также результаты равны при n < 15.\n",
    "\n",
    "-------------------------------------------------------\n"
   ]
  },
  {
   "cell_type": "markdown",
   "metadata": {},
   "source": [
    "### Алгоритм Брауэра\n",
    "Реализация алгоритма была немного оптимизирована, чтобы он не добавлял одинаковые числа в цепочку."
   ]
  },
  {
   "cell_type": "code",
   "execution_count": 6,
   "metadata": {},
   "outputs": [],
   "source": [
    "def brauer(n, k, Bn):\n",
    "    power = mult_method(2,k)[0]\n",
    "    if n < power:\n",
    "        for i in range(1, power):\n",
    "            Bn.append(i)\n",
    "    elif n >= power:\n",
    "        q = n // power\n",
    "        brauer(q, k, Bn)\n",
    "        for i in range(1,k+1):\n",
    "            q *= 2\n",
    "            if Bn[-1] != q:\n",
    "                Bn.append(q)\n",
    "        if Bn[-1] != n:\n",
    "            Bn.append(n) "
   ]
  },
  {
   "cell_type": "code",
   "execution_count": 7,
   "metadata": {},
   "outputs": [],
   "source": [
    "def print_brauer(n, k):\n",
    "    Bn = []\n",
    "    brauer(n,k,Bn)\n",
    "    print(\"n = %d, k = %d, Bn =\" %(n,k), Bn)\n",
    "    print(\"length :\", len(Bn))\n",
    "    "
   ]
  },
  {
   "cell_type": "code",
   "execution_count": 8,
   "metadata": {},
   "outputs": [
    {
     "name": "stdout",
     "output_type": "stream",
     "text": [
      "Brauer for n = 1234\n",
      "n = 1234, k = 2, Bn = [1, 2, 3, 2, 4, 8, 16, 19, 38, 76, 77, 154, 308, 616, 1232, 1234]\n",
      "length : 16\n",
      "n = 1234, k = 3, Bn = [1, 2, 3, 4, 5, 6, 7, 4, 8, 16, 19, 38, 76, 152, 154, 308, 616, 1232, 1234]\n",
      "length : 19\n",
      "n = 1234, k = 4, Bn = [1, 2, 3, 4, 5, 6, 7, 8, 9, 10, 11, 12, 13, 14, 15, 8, 16, 32, 64, 77, 154, 308, 616, 1232, 1234]\n",
      "length : 25\n",
      "-----------------------------------------------------------------\n",
      "Brauer for n = 3456\n",
      "n = 3456, k = 2, Bn = [1, 2, 3, 6, 12, 13, 26, 52, 54, 108, 216, 432, 864, 1728, 3456]\n",
      "length : 15\n",
      "n = 3456, k = 3, Bn = [1, 2, 3, 4, 5, 6, 7, 12, 24, 48, 54, 108, 216, 432, 864, 1728, 3456]\n",
      "length : 17\n",
      "n = 3456, k = 4, Bn = [1, 2, 3, 4, 5, 6, 7, 8, 9, 10, 11, 12, 13, 14, 15, 26, 52, 104, 208, 216, 432, 864, 1728, 3456]\n",
      "length : 24\n",
      "-----------------------------------------------------------------\n",
      "Brauer for n = 99999\n",
      "n = 99999, k = 2, Bn = [1, 2, 3, 2, 4, 6, 12, 24, 48, 96, 97, 194, 388, 390, 780, 1560, 1562, 3124, 6248, 6249, 12498, 24996, 24999, 49998, 99996, 99999]\n",
      "length : 26\n",
      "n = 99999, k = 3, Bn = [1, 2, 3, 4, 5, 6, 7, 6, 12, 24, 48, 96, 192, 195, 390, 780, 1560, 1562, 3124, 6248, 12496, 12499, 24998, 49996, 99992, 99999]\n",
      "length : 26\n",
      "n = 99999, k = 4, Bn = [1, 2, 3, 4, 5, 6, 7, 8, 9, 10, 11, 12, 13, 14, 15, 2, 4, 8, 16, 24, 48, 96, 192, 384, 390, 780, 1560, 3120, 6240, 6249, 12498, 24996, 49992, 99984, 99999]\n",
      "length : 35\n",
      "-----------------------------------------------------------------\n",
      "Brauer for n = 762\n",
      "n = 762, k = 2, Bn = [1, 2, 3, 4, 8, 11, 22, 44, 47, 94, 188, 190, 380, 760, 762]\n",
      "length : 15\n",
      "n = 762, k = 3, Bn = [1, 2, 3, 4, 5, 6, 7, 2, 4, 8, 11, 22, 44, 88, 95, 190, 380, 760, 762]\n",
      "length : 19\n",
      "n = 762, k = 4, Bn = [1, 2, 3, 4, 5, 6, 7, 8, 9, 10, 11, 12, 13, 14, 15, 4, 8, 16, 32, 47, 94, 188, 376, 752, 762]\n",
      "length : 25\n",
      "-----------------------------------------------------------------\n",
      "Brauer for n = 1023\n",
      "n = 1023, k = 2, Bn = [1, 2, 3, 6, 12, 15, 30, 60, 63, 126, 252, 255, 510, 1020, 1023]\n",
      "length : 15\n",
      "n = 1023, k = 3, Bn = [1, 2, 3, 4, 5, 6, 7, 2, 4, 8, 15, 30, 60, 120, 127, 254, 508, 1016, 1023]\n",
      "length : 19\n",
      "n = 1023, k = 4, Bn = [1, 2, 3, 4, 5, 6, 7, 8, 9, 10, 11, 12, 13, 14, 15, 6, 12, 24, 48, 63, 126, 252, 504, 1008, 1023]\n",
      "length : 25\n",
      "-----------------------------------------------------------------\n"
     ]
    }
   ],
   "source": [
    "print(\"Brauer for n = 1234\")\n",
    "print_brauer(1234,2)\n",
    "print_brauer(1234,3)\n",
    "print_brauer(1234,4)\n",
    "print('-----------------------------------------------------------------')\n",
    "print(\"Brauer for n = 3456\")\n",
    "print_brauer(3456,2)\n",
    "print_brauer(3456,3)\n",
    "print_brauer(3456,4)\n",
    "print('-----------------------------------------------------------------')\n",
    "print(\"Brauer for n = 99999\")\n",
    "print_brauer(99999,2)\n",
    "print_brauer(99999,3)\n",
    "print_brauer(99999,4)\n",
    "print('-----------------------------------------------------------------')\n",
    "print(\"Brauer for n = 762\")\n",
    "print_brauer(762,2)\n",
    "print_brauer(762,3)\n",
    "print_brauer(762,4)\n",
    "print('-----------------------------------------------------------------')\n",
    "print(\"Brauer for n = 1023\")\n",
    "print_brauer(1023,2)\n",
    "print_brauer(1023,3)\n",
    "print_brauer(1023,4)\n",
    "print('-----------------------------------------------------------------')"
   ]
  },
  {
   "cell_type": "markdown",
   "metadata": {},
   "source": [
    "### Вывод: \n",
    "Можно заметить, что алгоритм выдаёт минимальную цепочку при $k = \\lambda(\\lambda(n))$. \n",
    "\n",
    "С увеличением k длина цепочки Брауэра растет.\n",
    "\n",
    "С ростом $n$ разница длины цепочки Брауэра и минимальной аддитивной цепочки будет увеличиваться."
   ]
  },
  {
   "cell_type": "markdown",
   "metadata": {},
   "source": [
    "### Алгоритм дробления вектора индексов"
   ]
  },
  {
   "cell_type": "code",
   "execution_count": 9,
   "metadata": {},
   "outputs": [],
   "source": [
    "def nextVector(n, length):\n",
    "    add = 0\n",
    "    if length != len(n):\n",
    "        add = length - len(n)\n",
    "    if n == [i + add for i in range(1, len(n) + 1)]:\n",
    "        return [0 for i in range(len(n))]\n",
    "    for i in range(len(n) - 1, -1, -1):\n",
    "        if n[i] < i + 1 + add:\n",
    "            n[i] += 1\n",
    "            return n\n",
    "        n[i] = 1\n",
    "\n",
    "\n",
    "def getChain(vec1, vec2):\n",
    "    chain = [1]\n",
    "    for i in vec1:\n",
    "        chain.append(chain[-1] + chain[i - 1])\n",
    "    for j in vec2:\n",
    "        chain.append(chain[-1] + chain[j - 1])\n",
    "    return chain\n",
    "\n",
    "\n",
    "def splitting(n):\n",
    "    if n == 1:\n",
    "        return [1]\n",
    "    from_ = int(log(n, 2))\n",
    "    end_ = from_ + + bin(n).count('1') + 1\n",
    "    for m in range(from_, end_):\n",
    "        q = m // 2\n",
    "        if q == 0:\n",
    "            q = 1\n",
    "        r = [1 for i in range(q)]\n",
    "        rho = [1 for i in range(q + 1, m)]\n",
    "        while r != [0 for i in range(q)]:\n",
    "            chain = getChain(r, rho)\n",
    "            a_min, a_max = chain[q] + m - q, chain[q] * 2 ** (m - q)\n",
    "            if chain[-1] == n:\n",
    "                return chain\n",
    "            if a_min > n > a_max:\n",
    "                r = nextVector(r, len(r))\n",
    "                continue\n",
    "            while rho != [0 for i in range(q + 1, m)]:\n",
    "                chain = getChain(r, rho)\n",
    "                if chain[-1] == n:\n",
    "                    return chain\n",
    "                rho = nextVector(rho, len(rho) + len(r))\n",
    "            r = nextVector(r, len(r))\n",
    "            rho = [1 for i in range(q + 1, m)]\n",
    "\n",
    "def print_split(n):\n",
    "    start = time.time()\n",
    "    chain = splitting(n)\n",
    "    sec = time.time() - start\n",
    "    print(\"l*(\", n, \"): \",end=' ')\n",
    "    for i in chain:\n",
    "        print(i, end=',')\n",
    "    print(\"\\nLength:\", len(chain))\n",
    "    print(\"Time: \", sec, \"sec\")\n",
    "    print(\"---------------------\")\n"
   ]
  },
  {
   "cell_type": "code",
   "execution_count": 10,
   "metadata": {},
   "outputs": [
    {
     "name": "stdout",
     "output_type": "stream",
     "text": [
      "l*( 513 ):  1,2,4,8,16,32,64,128,256,257,513,\n",
      "Length: 11\n",
      "Time:  41.19803214073181 sec\n",
      "---------------------\n",
      "l*( 704 ):  1,2,3,4,7,11,22,44,88,176,352,704,\n",
      "Length: 12\n",
      "Time:  92.78072428703308 sec\n",
      "---------------------\n"
     ]
    }
   ],
   "source": [
    "print_split(513)\n",
    "#print_split(600)\n",
    "print_split(704)"
   ]
  },
  {
   "cell_type": "markdown",
   "metadata": {},
   "source": [
    "| Значение n | Значение k | Длина цепочки алгоритма Брауэра | Время работы а. Брауэра   |Длина цепочки а. дробления  | Время работы а. дробления | Время работы бинарного метода | Время работы метода множителей |\n",
    "| :-: | :-: | :-: | :-: | :-: |  :-: | :-: | :-: |\n",
    "| 513 | 3 | 11 | 2.0976409912109375 | 11| 41.12959098815918 | 9.60826873779e-05 | 0.000133037567139 |\n",
    "| 600 | 2 | 13 |  2.388014078140259| 12 | 60.928571939468384| 0.000108957290649 | 9.70363616943e-05 |\n",
    "| 704 | 3 | 11 | 4.85647177696228 | 12 | 91.53808236122131 | 6.91413879395e-05 | 0.000144004821777 |\n",
    "| 801 | 3 | 13 | 2.774775981903076 | 13 | 1083.378122806549 | 8.48770141602e-05 | 0.000138998031616 |\n"
   ]
  },
  {
   "cell_type": "markdown",
   "metadata": {},
   "source": [
    "#### Вывод: \n",
    "Алгоритм дробления вектора индексов оказался самым неэффективным по времени, и время поиска растет с увеличением параметра $n$.\n",
    "\n",
    "Можно заметить:\n",
    "* Метод дробления вектора индексов эффективен по результату, но не по времени\n",
    "* Метод Бауэра и метод множителей эффективны по времени, но не всегда по результату\n",
    "\n"
   ]
  },
  {
   "cell_type": "markdown",
   "metadata": {},
   "source": [
    "### Проверка следствия теоремы Брауэра"
   ]
  },
  {
   "cell_type": "code",
   "execution_count": 11,
   "metadata": {
    "scrolled": false
   },
   "outputs": [],
   "source": [
    "max_n = 100\n",
    "arrLen = [len(splitting(i)) for i in range(1, max_n+1)]"
   ]
  },
  {
   "cell_type": "code",
   "execution_count": 12,
   "metadata": {},
   "outputs": [
    {
     "data": {
      "image/png": "[encoded data removed]",
      "text/plain": [
       "<Figure size 720x720 with 1 Axes>"
      ]
     },
     "metadata": {
      "needs_background": "light"
     },
     "output_type": "display_data"
    }
   ],
   "source": [
    "N = len(arrLen)\n",
    "sumYi = sum(arrLen)\n",
    "sumLnXi = sum([log(i) for i in range(1, max_n + 1)])\n",
    "sumLnXi2 = sum([log(i) ** 2 for i in range(1, max_n + 1)])\n",
    "sumYiLnxi = sum(arrLen[i] * log(i + 2) for i in range(N))\n",
    "A = (sumYi * sumLnXi2 - sumYiLnxi * sumLnXi) / (N * sumLnXi2 - sumLnXi ** 2)\n",
    "B = (N * sumYiLnxi - sumYi * sumLnXi) / (N * sumLnXi2 - sumLnXi ** 2)\n",
    "\n",
    "plt.figure(figsize=(10, 10))\n",
    "plt.scatter([i for i in range(1, max_n + 1)], arrLen, color='g', marker='.')\n",
    "plt.plot([i for i in range(1, max_n + 1)], [A + B * log(i) for i in range(1, max_n + 1)], color='red')\n",
    "plt.show()"
   ]
  },
  {
   "cell_type": "markdown",
   "metadata": {},
   "source": [
    "#### Вывод: \n",
    "\n",
    "Как видно, аппроксимирующая прямая $l(n)$ схожа с графиком логарифма. Это подтвержает следствие теоремы Брауэра, поскольку в этом случае на бесконечности $\\lambda(n)$ и $l(n)$ будут эквивалентны."
   ]
  },
  {
   "cell_type": "markdown",
   "metadata": {},
   "source": [
    "### Проверка гипотезы Шольца-Брауэра  от 2 до 10\n",
    "$l ^ * (2 ^  n- 1) \\leq l ^ * (n) + n - 1$"
   ]
  },
  {
   "cell_type": "code",
   "execution_count": null,
   "metadata": {},
   "outputs": [],
   "source": [
    "arr1 = [i + len(splitting(i)) - 1 for i in range(2,11)]\n",
    "arr2 = [len(splitting(2**i-1)) for i in range(2,11)]"
   ]
  },
  {
   "cell_type": "code",
   "execution_count": null,
   "metadata": {},
   "outputs": [],
   "source": [
    "for i in range(len(arr1)):\n",
    "    print(\"l*(n)+n-1 = \",arr1[i], end = \" :: \")\n",
    "    print(\"l*(2^n-1) = \",arr2[i])\n",
    "    print()"
   ]
  },
  {
   "cell_type": "markdown",
   "metadata": {},
   "source": [
    "| Значение n |$l ^ * (2 ^  n- 1)$ | $l ^ * (n) + n - 1$ |\n",
    "| :-: | :-: | :-: |\n",
    "|2 | 3 |  3| \n",
    "|3 | 5 | 5 | \n",
    "|4 | 6 | 6 | \n",
    "|5 | 8 | 8 |\n",
    "|6 | 9 | 9 | \n",
    "|7 | 11 | 11 | \n",
    "|8 | 11 | 11 | \n",
    "|9 | 13 | 13 |\n",
    "|10 | 14 | 14|"
   ]
  },
  {
   "cell_type": "markdown",
   "metadata": {},
   "source": [
    "##### Вывод:\n",
    "Гипотеза Шольца-Брауэра верна для $n \\leq 10$. "
   ]
  },
  {
   "cell_type": "markdown",
   "metadata": {},
   "source": [
    "###  Выводы по работе"
   ]
  },
  {
   "cell_type": "markdown",
   "metadata": {},
   "source": [
    "В ходе выполнения практической работы были сформированы представления об аддитивных цепочках, получен навык использования систем компьютерной алгебры для реализации алгоритмов. Были реализованы и проанализированы следующие методы: \n",
    "* бинарный метод \n",
    "* метод множителей\n",
    "* метод Брауэра \n",
    "* метод дробления вектора индексов.   \n",
    "\n",
    "Эксперименты показали, что для точных, не требующих высокой скорости, вычислений необходимо использовать алгоритм дробления вектора индексов, а для вычислений с допустимой погрешностью лучше использовать метод множителей или алгоритм Брауэра.\n",
    "\n",
    "Так же было проверено следствие 1 теоремы Брауэра $\\lim_{n \\to \\infty} \\frac{l(n)}{\\lambda(n)} = 1$\n",
    "Из этого следует, что чем больше число n , тем, при его увеличении, будет меньше расти длина минимальной аддитивной цепочки.\n",
    "\n",
    "Проверена гипотеза Шольца-Брауэра $l ^ * (2 ^  n- 1) \\leq l ^ * (n) + n - 1$ для $n$ от 1 до 10 на алгоритме дробления вектора индексов. \n",
    "\n",
    "Исходя из этого можно быстрее строить минимальные аддитивные цепочки для чисел $n = 2^i - 1$"
   ]
  }
 ],
 "metadata": {
  "kernelspec": {
   "display_name": "SageMath 9.2",
   "language": "sage",
   "name": "sagemath"
  },
  "language_info": {
   "codemirror_mode": {
    "name": "ipython",
    "version": 3
   },
   "file_extension": ".py",
   "mimetype": "text/x-python",
   "name": "python",
   "nbconvert_exporter": "python",
   "pygments_lexer": "ipython3",
   "version": "3.7.7"
  }
 },
 "nbformat": 4,
 "nbformat_minor": 2
}
