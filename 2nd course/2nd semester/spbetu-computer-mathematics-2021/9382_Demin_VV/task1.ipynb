{
 "cells": [
  {
   "cell_type": "markdown",
   "metadata": {},
   "source": [
    "# Практическая работа №1: Исследование алгоритмов формирования аддитивных цепочек\n",
    "Выполнил студент гр. 9382 Демин Виктор, вар. 71.\n",
    "\n"
   ]
  },
  {
   "cell_type": "markdown",
   "metadata": {},
   "source": [
    "## Цель работы\n",
    "Формирование представления о аддитивных цепочках, выработать умение составлять и применять алгоритмы для нахождения минимальных аддитивных цепочек для заданного числа, привить навык использования систем компьютерной алгебры для реализации алгоритмов.\n",
    "\n"
   ]
  },
  {
   "cell_type": "markdown",
   "metadata": {},
   "source": [
    "## Основные теоретические положения.\n",
    "### Бинарный метод\n",
    "Бинарный метод - метод быстрого возведения в степень числа $ x^n $. Слево-направо просматривается бинарное представление числа $ n $, начиная с второй цифры: когда встречается 1 - текущее число умножается на самого себя и на число $ x $, когда 0 - текущее число умножается на $ x $.\n",
    "\n",
    "### Метод множителей\n",
    "Метод множителей - метод быстрого возведения в степень числа $ x^n $. Число n раскладывается на произведение двух множителей: $ n = i*j $ , где  $ i $ - наименьший простой множитель. Далее сначала $ x $ возводится в степень $ i $ , а затем получившееся число в тепень $ j $. Если $ n $ - простое число, то на множители раскладывается число $ n - 1 $ и после получения результата домножаем на $ x $.,\n"
   ]
  },
  {
   "cell_type": "markdown",
   "metadata": {},
   "source": [
    "$ \\lambda (n)  $ - уменьшенная на единицу длина двоичной записи числа $ n $.\n",
    "\n",
    "$ \\nu (n)  $ - вес Хэмминга (количество ненулевых значений в записи числа).\n"
   ]
  },
  {
   "cell_type": "markdown",
   "metadata": {},
   "source": [
    "### Аддитивная цепочка\n",
    "\n",
    "Аддитивная цепочка — последовательность натуральных чисел, начинающаяся с единицы, в которой каждый последующий элемент является суммой каких-то двух предшествующих элементов. То есть $$1 = a_0, a_1, ..., a_m = n;$$ \n",
    "$$a_i = a_j + a_k,   k<=j<i, \\forall i > 1$$"
   ]
  },
  {
   "cell_type": "markdown",
   "metadata": {},
   "source": [
    "Типы шагов:\n",
    "    \n",
    "   1. **Удвоение**, если $ j = k = i - 1 $ . \n",
    "\n",
    "   2. **Звездный**, если $ j = i - 1 $ .\n",
    "\n",
    "   3. **Малый**, если $ \\lambda (a_i) = \\lambda (a_{i-1}) $ ."
   ]
  },
  {
   "cell_type": "markdown",
   "metadata": {},
   "source": [
    "**Звездная цепочка** - аддитивная цепочка, состоящая только из звездных шагов."
   ]
  },
  {
   "cell_type": "markdown",
   "metadata": {},
   "source": [
    "Пусть иммется звездная цепочка $ \\{a_i\\}_{i=1}^m $ . Тогда **вектор индексов** определяется, как  $ \\{r_i\\}_{i=1}^{m-1} $ , где $ r_i = \\{x: 1 \\leqslant x \\leqslant i\\} $ , а $ a_i = a_{i-1} + a_{r_{i-1}} $ , $ 2 \\leqslant i \\leqslant m-1 $ ."
   ]
  },
  {
   "cell_type": "markdown",
   "metadata": {},
   "source": [
    "### Алгоритм Брауэра\n",
    "Алгоритм Брауэра - составляет аддитивную цепочку для числа $n$.\n",
    "\n",
    "Шаги алгоритма:\n",
    "1. Вычисляются неполные частные $q_i$ и остатки $r_i$ при делении $n$ на $2^k$ до тех пор, пока $q_s$ не будет меньше $2^k$\n",
    "2. Затем строится цепочка от 1 до b, где b - максимум из всех возможных остатков и последнего неполного частного $q_s$.\n",
    "3. Далее в цепочку добавляются элементы $2q_s, 4q_s, ..., 2^kq_s$\n",
    "4. Затем к цепочке добавляется $2(2q_s + r_s) , 4(2q_s + r_s), ..., 2^k(2q_s + r_s)$\n",
    "5. И так далее, до тех пока последний элемент цепочки не будет равен n\n",
    "\n",
    "Алгоритм приближенный, поэтому полученная цепочка не всегда будет являться минимальной."
   ]
  },
  {
   "cell_type": "markdown",
   "metadata": {},
   "source": [
    "### Алгоритм дробления вектора индеков\n",
    "\n",
    "Алгоритм дробления вектора индексов - алгоритм поиска минимальной аддитивной цепочки. \n",
    "  1. Запускаем внешний цикл по длинам цепочек $ \\underline{l}(n) \\leq m \\leq \\overline{l}(n) $. Где $ \\underline{l}(n) = \\lambda (n) $, а $ \\overline{l}(n) = \\lambda(n) + \\nu(n) - 1 $. Пусть  $ q = m//2 - 1 $.\n",
    "  2. Запускаем внутрненний цикл перебора всех $ \\{r_i\\}_{i=1}^{q} $.\n",
    "  На каждом шаге вычисляем $ a_{min} = a_{q+1} + m - q $ и $ a_{max} = a_{q+1}2^{m-q} $\n",
    "  \n",
    "   1. Если последний элемент в цепочки равен числу $ n $, заканчиваем алгоритм.\n",
    "   2. Если $ n \\in [a_{min}, a_{max}] $ , то тогда перебираем часть вектора индексов $ \\{r_j\\}_{j=q+1}^m $\n",
    "   3. Если $ n \\notin [a_{min}, a_{max}] $ , то тогда перебираем часть вектора индексов $ \\{r_i\\}_{i=1}^q $\n",
    "   \n"
   ]
  },
  {
   "cell_type": "markdown",
   "metadata": {},
   "source": [
    "\n",
    "### Следствие теоремы Брауэра:\n",
    "\n",
    "$ \\lim_{n\\to\\infty} \\frac{l(n)}{\\lambda(n)} = 1 $ .\n",
    "\n",
    "### Гипотеза Шольца-Брауэра:\n",
    "\n",
    "$ l(2^n - 1) \\leqslant l(n) + n - 1  $ для $ n \\leqslant 64 $ . \n",
    "\n"
   ]
  },
  {
   "cell_type": "markdown",
   "metadata": {},
   "source": [
    "\n",
    "## Постановка задачи\n",
    "\n",
    "Реализовать точные и приближённые алгоритмы нахождения минимальных аддитивных цепочек с использованием системы компьютерной алгебры SageMath, провести анализ алгоритмов. Полученные результаты содержательно проинтерпретировать.\n",
    "\n",
    "## Порядок выполнения работы\n",
    "\n",
    "1. Применить бинарный метод и метод множителей для $ x^n $, где $ n⩾30 $, для 2-3 значений $ n $ (значения $ n $ выбирается студентом самостоятельно). Сравнить количество операций для каждого метода, сделать выводы.\n",
    "\n",
    "2. Реализовать алгоритм Брауэра (для нечётных вариантов) или алгоритм Яо (для чётных вариантов) для вычисления приближённых аддитивных цепочек для различных чисел при варьировании параметра $ k $, сопоставить длины полученных аддитивных цепочек с минимальной аддитивной цепочкой для заданного числа. Сделать выводы.\n",
    "\n",
    "3. Реализовать алгоритм дробления вектора индексов для нахождения минимальной звёздной цепочки для заданного числа. Протестировать алгоритм при $ n>500 $. Указать, сколько времени потребовалось на поиск цепочки и какая цепочка получилась. Сравнить с предыдущими методами, сделать выводы.\n",
    "\n",
    "4. Проверить теорему Брауэра для $ n=1..200 $ путём построения функции $ l(n) $ и аппроксимирующей кривой, полученной с помощью метода наименьших квадратов. Сопоставить функции на одном графике, сделать выводы.\n",
    "5. Проверить гипотезу Шольца–Брауэра для $ 1⩽n⩽10 $ на алгоритме дробления вектора индексов. Сделать выводы.\n"
   ]
  },
  {
   "cell_type": "markdown",
   "metadata": {},
   "source": [
    "# Выполнение работы"
   ]
  },
  {
   "cell_type": "markdown",
   "metadata": {},
   "source": [
    "### 1) Реализация бинарного метода и метода множителей"
   ]
  },
  {
   "cell_type": "markdown",
   "metadata": {},
   "source": [
    "#### 1.1) $ \\lambda (n)  $"
   ]
  },
  {
   "cell_type": "code",
   "execution_count": 171,
   "metadata": {},
   "outputs": [],
   "source": [
    "def lambda_fun(n):\n",
    "    if(n==1):\n",
    "        return 0\n",
    "    return lambda_fun(n//2)+1\n"
   ]
  },
  {
   "cell_type": "markdown",
   "metadata": {},
   "source": [
    "#### 1.2) $ \\nu (n)  $ "
   ]
  },
  {
   "cell_type": "code",
   "execution_count": 172,
   "metadata": {},
   "outputs": [],
   "source": [
    "def v_fun(n):\n",
    "    if(n==1):\n",
    "        return 1\n",
    "    return v_fun(n//2)+n%2"
   ]
  },
  {
   "cell_type": "markdown",
   "metadata": {},
   "source": [
    "#### 1.3) Бинарный метод "
   ]
  },
  {
   "cell_type": "code",
   "execution_count": 173,
   "metadata": {},
   "outputs": [],
   "source": [
    "def binary_method(x,n):\n",
    "    res=x\n",
    "    count=[]\n",
    "    binary_n=n.binary()[1:]\n",
    "    for i in binary_n:\n",
    "        count.append(1)\n",
    "        res=res*res\n",
    "        if(i=='1'):\n",
    "            count.append(1)\n",
    "            res=res*x\n",
    "    return [res,len(count)]"
   ]
  },
  {
   "cell_type": "markdown",
   "metadata": {},
   "source": [
    "#### 1.4) Метод множителей"
   ]
  },
  {
   "cell_type": "code",
   "execution_count": 174,
   "metadata": {},
   "outputs": [],
   "source": [
    "def multiplier_method(x,n):\n",
    "    res=x\n",
    "    i=n.trial_division()\n",
    "    j=n//i\n",
    "    if(n==i):\n",
    "        return [res*multiplier_method(x,n-1)[0],multiplier_method(x,n-1)[1]+1]\n",
    "    return [binary_method(binary_method(x,i)[0],j)[0],binary_method(binary_method(x,i)[0],j)[1]+binary_method(x,i)[1]]\n",
    "   "
   ]
  },
  {
   "cell_type": "markdown",
   "metadata": {},
   "source": [
    "#### 1.5) Выводы"
   ]
  },
  {
   "cell_type": "code",
   "execution_count": 175,
   "metadata": {},
   "outputs": [
    {
     "data": {
      "text/html": [
       "<div class=\"notruncate\">\n",
       "<table  class=\"table_form\">\n",
       "<tbody>\n",
       "<tr class =\"row-a\">\n",
       "<td>N</td>\n",
       "<td>Метод множителей</td>\n",
       "<td>Количество операций</td>\n",
       "<td>Бинарный метод</td>\n",
       "<td>Количество</td>\n",
       "</tr>\n",
       "<tr class =\"row-b\">\n",
       "<td><script type=\"math/tex\">234</script></td>\n",
       "<td>true</td>\n",
       "<td><script type=\"math/tex\">11</script></td>\n",
       "<td>true</td>\n",
       "<td><script type=\"math/tex\">11</script></td>\n",
       "</tr>\n",
       "<tr class =\"row-a\">\n",
       "<td><script type=\"math/tex\">535</script></td>\n",
       "<td>true</td>\n",
       "<td><script type=\"math/tex\">13</script></td>\n",
       "<td>true</td>\n",
       "<td><script type=\"math/tex\">13</script></td>\n",
       "</tr>\n",
       "<tr class =\"row-b\">\n",
       "<td><script type=\"math/tex\">676</script></td>\n",
       "<td>true</td>\n",
       "<td><script type=\"math/tex\">12</script></td>\n",
       "<td>true</td>\n",
       "<td><script type=\"math/tex\">12</script></td>\n",
       "</tr>\n",
       "<tr class =\"row-a\">\n",
       "<td><script type=\"math/tex\">767</script></td>\n",
       "<td>true</td>\n",
       "<td><script type=\"math/tex\">14</script></td>\n",
       "<td>true</td>\n",
       "<td><script type=\"math/tex\">17</script></td>\n",
       "</tr>\n",
       "<tr class =\"row-b\">\n",
       "<td><script type=\"math/tex\">833</script></td>\n",
       "<td>true</td>\n",
       "<td><script type=\"math/tex\">15</script></td>\n",
       "<td>true</td>\n",
       "<td><script type=\"math/tex\">12</script></td>\n",
       "</tr>\n",
       "<tr class =\"row-a\">\n",
       "<td><script type=\"math/tex\">954</script></td>\n",
       "<td>true</td>\n",
       "<td><script type=\"math/tex\">15</script></td>\n",
       "<td>true</td>\n",
       "<td><script type=\"math/tex\">15</script></td>\n",
       "</tr>\n",
       "<tr class =\"row-b\">\n",
       "<td><script type=\"math/tex\">999</script></td>\n",
       "<td>true</td>\n",
       "<td><script type=\"math/tex\">14</script></td>\n",
       "<td>true</td>\n",
       "<td><script type=\"math/tex\">16</script></td>\n",
       "</tr>\n",
       "</tbody>\n",
       "</table>\n",
       "</div>"
      ],
      "text/plain": [
       "  N     Метод множителей   Количество операций   Бинарный метод   Количество\n",
       "  234   true               11                    true             11\n",
       "  535   true               13                    true             13\n",
       "  676   true               12                    true             12\n",
       "  767   true               14                    true             17\n",
       "  833   true               15                    true             12\n",
       "  954   true               15                    true             15\n",
       "  999   true               14                    true             16"
      ]
     },
     "execution_count": 175,
     "metadata": {},
     "output_type": "execute_result"
    }
   ],
   "source": [
    "import matplotlib.pyplot as plt\n",
    "\n",
    "test=[234,535,676,767,833,954,999]\n",
    "data=[['N','Метод множителей', 'Количество операций', 'Бинарный метод', 'Количество']]\n",
    "for i in test:\n",
    "    temp=[]\n",
    "    temp.append(int(i))\n",
    "    temp_method=multiplier_method(2,i)\n",
    "    if(2^i==temp_method[0]):\n",
    "        temp.append('true')\n",
    "    else:\n",
    "        temp.append('false')\n",
    "    temp.append(temp_method[1])\n",
    "    temp_method=binary_method(2,i)\n",
    "    if(2^i==temp_method[0]):\n",
    "        temp.append('true')\n",
    "    else:\n",
    "        temp.append('false')\n",
    "  \n",
    "    temp.append(temp_method[1])\n",
    "    data.append(temp)\n",
    "table(data)\n"
   ]
  },
  {
   "cell_type": "markdown",
   "metadata": {},
   "source": [
    "true или false показывает нам правильно ли возведено число в степень\n",
    "\n",
    "Вывод: как мы видим по таблице для разных N нельзя однозначно сказать какой метод совершит наименьшее количество операций."
   ]
  },
  {
   "cell_type": "markdown",
   "metadata": {},
   "source": [
    "### 2)  Алгоритм Брауэра"
   ]
  },
  {
   "cell_type": "markdown",
   "metadata": {},
   "source": [
    "#### 2.1) Алгоритм Брауэра"
   ]
  },
  {
   "cell_type": "code",
   "execution_count": 176,
   "metadata": {},
   "outputs": [],
   "source": [
    "def Browers_algorithm(n,k):\n",
    "    n_temp=n\n",
    "    r=[]\n",
    "    q=[]\n",
    "    B=[]\n",
    "   # B=list(range(1,2^k))\n",
    "    while n_temp>2^k :\n",
    "        q.append(n_temp//(2^k))\n",
    "        r.append(n_temp%(2^k))\n",
    "        n_temp=n_temp//(2^k)\n",
    "        \n",
    "    B=list(range(1,max(q[-1],max(r))+1))\n",
    "    B.append(q.pop()*2)\n",
    "    \n",
    "    for i in range(k-1):\n",
    "        B.append(B[len(B)-1]*2)\n",
    "\n",
    "    while r:\n",
    "        if r[-1]:\n",
    "            B.append(B[-1]+r[-1])\n",
    "        r.pop()\n",
    "        if(B[-1]==n):\n",
    "            return B  \n",
    "        for i in range(k):\n",
    "            B.append(B[-1]*2)\n",
    "    return B    \n",
    "    \n",
    "    "
   ]
  },
  {
   "cell_type": "markdown",
   "metadata": {},
   "source": [
    "#### 2.2) Вывод"
   ]
  },
  {
   "cell_type": "code",
   "execution_count": 177,
   "metadata": {},
   "outputs": [
    {
     "data": {
      "text/html": [
       "<div class=\"notruncate\">\n",
       "<table  class=\"table_form\">\n",
       "<tbody>\n",
       "<tr class =\"row-a\">\n",
       "<td>N</td>\n",
       "<td>K</td>\n",
       "<td>Цепочка</td>\n",
       "<td>Длина</td>\n",
       "</tr>\n",
       "<tr class =\"row-b\">\n",
       "<td><script type=\"math/tex\">123</script></td>\n",
       "<td><script type=\"math/tex\">2</script></td>\n",
       "<td><script type=\"math/tex\">\\left[1, 2, 3, 2, 4, 7, 14, 28, 30, 60, 120, 123\\right]</script></td>\n",
       "<td><script type=\"math/tex\">12</script></td>\n",
       "</tr>\n",
       "<tr class =\"row-a\">\n",
       "<td><script type=\"math/tex\">123</script></td>\n",
       "<td><script type=\"math/tex\">3</script></td>\n",
       "<td><script type=\"math/tex\">\\left[1, 2, 3, 4, 5, 6, 7, 2, 4, 8, 15, 30, 60, 120, 123\\right]</script></td>\n",
       "<td><script type=\"math/tex\">15</script></td>\n",
       "</tr>\n",
       "<tr class =\"row-b\">\n",
       "<td><script type=\"math/tex\">123</script></td>\n",
       "<td><script type=\"math/tex\">4</script></td>\n",
       "<td><script type=\"math/tex\">\\left[1, 2, 3, 4, 5, 6, 7, 8, 9, 10, 11, 14, 28, 56, 112, 123\\right]</script></td>\n",
       "<td><script type=\"math/tex\">16</script></td>\n",
       "</tr>\n",
       "<tr class =\"row-a\">\n",
       "<td><script type=\"math/tex\">123</script></td>\n",
       "<td><script type=\"math/tex\">6</script></td>\n",
       "<td><script type=\"math/tex\">\\left[1, 2, 3, 4, 5, 6, 7, 8, 9, 10, 11, 12, 13, 14, 15, 16, 17, 18, 19, 20, 21, 22, 23, 24, 25, 26, 27, 28, 29, 30, 31, 32, 33, 34, 35, 36, 37, 38, 39, 40, 41, 42, 43, 44, 45, 46, 47, 48, 49, 50, 51, 52, 53, 54, 55, 56, 57, 58, 59, 2, 4, 8, 16, 32, 64, 123\\right]</script></td>\n",
       "<td><script type=\"math/tex\">66</script></td>\n",
       "</tr>\n",
       "<tr class =\"row-b\">\n",
       "<td><script type=\"math/tex\">148</script></td>\n",
       "<td><script type=\"math/tex\">2</script></td>\n",
       "<td><script type=\"math/tex\">\\left[1, 2, 4, 8, 9, 18, 36, 37, 74, 148\\right]</script></td>\n",
       "<td><script type=\"math/tex\">10</script></td>\n",
       "</tr>\n",
       "<tr class =\"row-a\">\n",
       "<td><script type=\"math/tex\">148</script></td>\n",
       "<td><script type=\"math/tex\">3</script></td>\n",
       "<td><script type=\"math/tex\">\\left[1, 2, 3, 4, 4, 8, 16, 18, 36, 72, 144, 148\\right]</script></td>\n",
       "<td><script type=\"math/tex\">12</script></td>\n",
       "</tr>\n",
       "<tr class =\"row-b\">\n",
       "<td><script type=\"math/tex\">148</script></td>\n",
       "<td><script type=\"math/tex\">4</script></td>\n",
       "<td><script type=\"math/tex\">\\left[1, 2, 3, 4, 5, 6, 7, 8, 9, 18, 36, 72, 144, 148\\right]</script></td>\n",
       "<td><script type=\"math/tex\">14</script></td>\n",
       "</tr>\n",
       "<tr class =\"row-a\">\n",
       "<td><script type=\"math/tex\">148</script></td>\n",
       "<td><script type=\"math/tex\">6</script></td>\n",
       "<td><script type=\"math/tex\">\\left[1, 2, 3, 4, 5, 6, 7, 8, 9, 10, 11, 12, 13, 14, 15, 16, 17, 18, 19, 20, 4, 8, 16, 32, 64, 128, 148\\right]</script></td>\n",
       "<td><script type=\"math/tex\">27</script></td>\n",
       "</tr>\n",
       "<tr class =\"row-b\">\n",
       "<td><script type=\"math/tex\">305</script></td>\n",
       "<td><script type=\"math/tex\">2</script></td>\n",
       "<td><script type=\"math/tex\">\\left[1, 2, 3, 4, 8, 16, 19, 38, 76, 152, 304, 305\\right]</script></td>\n",
       "<td><script type=\"math/tex\">12</script></td>\n",
       "</tr>\n",
       "<tr class =\"row-a\">\n",
       "<td><script type=\"math/tex\">305</script></td>\n",
       "<td><script type=\"math/tex\">3</script></td>\n",
       "<td><script type=\"math/tex\">\\left[1, 2, 3, 4, 5, 6, 8, 16, 32, 38, 76, 152, 304, 305\\right]</script></td>\n",
       "<td><script type=\"math/tex\">14</script></td>\n",
       "</tr>\n",
       "<tr class =\"row-b\">\n",
       "<td><script type=\"math/tex\">305</script></td>\n",
       "<td><script type=\"math/tex\">4</script></td>\n",
       "<td><script type=\"math/tex\">\\left[1, 2, 3, 2, 4, 8, 16, 19, 38, 76, 152, 304, 305\\right]</script></td>\n",
       "<td><script type=\"math/tex\">13</script></td>\n",
       "</tr>\n",
       "<tr class =\"row-a\">\n",
       "<td><script type=\"math/tex\">305</script></td>\n",
       "<td><script type=\"math/tex\">6</script></td>\n",
       "<td><script type=\"math/tex\">\\left[1, 2, 3, 4, 5, 6, 7, 8, 9, 10, 11, 12, 13, 14, 15, 16, 17, 18, 19, 20, 21, 22, 23, 24, 25, 26, 27, 28, 29, 30, 31, 32, 33, 34, 35, 36, 37, 38, 39, 40, 41, 42, 43, 44, 45, 46, 47, 48, 49, 8, 16, 32, 64, 128, 256, 305\\right]</script></td>\n",
       "<td><script type=\"math/tex\">56</script></td>\n",
       "</tr>\n",
       "</tbody>\n",
       "</table>\n",
       "</div>"
      ],
      "text/plain": [
       "  N     K   Цепочка                                                                                                                                                                                                                                                         Длина\n",
       "  123   2   [1, 2, 3, 2, 4, 7, 14, 28, 30, 60, 120, 123]                                                                                                                                                                                                                    12\n",
       "  123   3   [1, 2, 3, 4, 5, 6, 7, 2, 4, 8, 15, 30, 60, 120, 123]                                                                                                                                                                                                            15\n",
       "  123   4   [1, 2, 3, 4, 5, 6, 7, 8, 9, 10, 11, 14, 28, 56, 112, 123]                                                                                                                                                                                                       16\n",
       "  123   6   [1, 2, 3, 4, 5, 6, 7, 8, 9, 10, 11, 12, 13, 14, 15, 16, 17, 18, 19, 20, 21, 22, 23, 24, 25, 26, 27, 28, 29, 30, 31, 32, 33, 34, 35, 36, 37, 38, 39, 40, 41, 42, 43, 44, 45, 46, 47, 48, 49, 50, 51, 52, 53, 54, 55, 56, 57, 58, 59, 2, 4, 8, 16, 32, 64, 123]   66\n",
       "  148   2   [1, 2, 4, 8, 9, 18, 36, 37, 74, 148]                                                                                                                                                                                                                            10\n",
       "  148   3   [1, 2, 3, 4, 4, 8, 16, 18, 36, 72, 144, 148]                                                                                                                                                                                                                    12\n",
       "  148   4   [1, 2, 3, 4, 5, 6, 7, 8, 9, 18, 36, 72, 144, 148]                                                                                                                                                                                                               14\n",
       "  148   6   [1, 2, 3, 4, 5, 6, 7, 8, 9, 10, 11, 12, 13, 14, 15, 16, 17, 18, 19, 20, 4, 8, 16, 32, 64, 128, 148]                                                                                                                                                             27\n",
       "  305   2   [1, 2, 3, 4, 8, 16, 19, 38, 76, 152, 304, 305]                                                                                                                                                                                                                  12\n",
       "  305   3   [1, 2, 3, 4, 5, 6, 8, 16, 32, 38, 76, 152, 304, 305]                                                                                                                                                                                                            14\n",
       "  305   4   [1, 2, 3, 2, 4, 8, 16, 19, 38, 76, 152, 304, 305]                                                                                                                                                                                                               13\n",
       "  305   6   [1, 2, 3, 4, 5, 6, 7, 8, 9, 10, 11, 12, 13, 14, 15, 16, 17, 18, 19, 20, 21, 22, 23, 24, 25, 26, 27, 28, 29, 30, 31, 32, 33, 34, 35, 36, 37, 38, 39, 40, 41, 42, 43, 44, 45, 46, 47, 48, 49, 8, 16, 32, 64, 128, 256, 305]                                       56"
      ]
     },
     "execution_count": 177,
     "metadata": {},
     "output_type": "execute_result"
    }
   ],
   "source": [
    "\n",
    "k=[2,3,4,6]\n",
    "data=[['N','K', 'Цепочка', 'Длина']]\n",
    "test=[123,148,305]\n",
    "for i in test:\n",
    "    for j in k:\n",
    "        temp=[]\n",
    "        temp.append(i)\n",
    "        temp.append(j)\n",
    "        x=Browers_algorithm(i,j)\n",
    "        temp.append(x)\n",
    "        temp.append(len(x))\n",
    "        data.append(temp)\n",
    "table(data)\n",
    "\n"
   ]
  },
  {
   "cell_type": "markdown",
   "metadata": {},
   "source": [
    "Вывод: как видим по таблице при фиксированном n увеличивая k увеличивается длина аддитивной цепочки. А наименьшая длина цепочки достигается при наименьшем k. Но метод дает лишь приблеженное значение, так для n =123, можно привести аддитивную цепочку длиной 10."
   ]
  },
  {
   "cell_type": "markdown",
   "metadata": {},
   "source": [
    "### 3) Алгоритм дробления вектора индексов"
   ]
  },
  {
   "cell_type": "markdown",
   "metadata": {},
   "source": [
    "#### 3.1)Алгоритм дробления вектора индексов"
   ]
  },
  {
   "cell_type": "code",
   "execution_count": 178,
   "metadata": {},
   "outputs": [],
   "source": [
    "import time\n",
    "\n",
    "def is_trivial_vector(vector):\n",
    "    if len(vector)<=1:\n",
    "        return False \n",
    "    for a in vector:\n",
    "        if a != 1:\n",
    "            return False\n",
    "    return True\n",
    "\n",
    "def make_chain(r):\n",
    "    a=[1 for i in range(len(r)+1)]\n",
    "    for i in range(1,len(a)):\n",
    "        a[i]=a[i-1]+a[r[i-1]-1]\n",
    "    return a\n",
    "\n",
    "def amin(a,q,m):\n",
    "    return make_chain(a)[q]+m-q\n",
    "\n",
    "def amax(a,q,m):\n",
    "    return make_chain(a)[q]*2^(m-q)\n",
    "\n",
    "def change_index_vector(a,b,q):\n",
    "    s=a+b\n",
    "    for i in range(len(s)-1,q-1,-1):\n",
    "        if(s[i]>1):\n",
    "            s[i]=s[i]-1\n",
    "            break\n",
    "        if(i==q and s[i]==1):\n",
    "            return s\n",
    "        if(s[i]==1):\n",
    "            s[i]=i+1\n",
    "    return s[q:]\n",
    "\n",
    "def crushing_vector(n):\n",
    "    start_time = time.process_time()\n",
    "    minLen=math.ceil(log(n,2))\n",
    "    maxLen=lambda_fun(n)+v_fun(n)-1\n",
    "    for i in list(range(minLen,maxLen+1)):\n",
    "        q=(i)//2\n",
    "        r=[j for j in list(range(1,i+1))]\n",
    "        fixR=r[:q]\n",
    "        changingR=r[q:]\n",
    "        while not is_trivial_vector(fixR):\n",
    "            temp_amin=amin(fixR+changingR,q,i)\n",
    "            temp_amax=amax(fixR+changingR,q,i)\n",
    "            chain=make_chain(fixR+changingR)\n",
    "            if(chain[-1]==n):\n",
    "                return [chain,time.process_time()-start_time]\n",
    "            changingR=r[q:]\n",
    "           \n",
    "            if n>=temp_amin and n<=temp_amax :\n",
    "                while not is_trivial_vector(changingR):\n",
    "                    chain = make_chain(fixR+changingR)\n",
    "                    if(chain[-1]==n):\n",
    "                        return [chain,time.process_time()-start_time]\n",
    "                    if(chain[-1]<n//2):\n",
    "                        break\n",
    "                    changingR = change_index_vector(fixR,changingR,len(fixR))\n",
    "                    #if(len(changingR)==1):\n",
    "                     #   break\n",
    "            fixR=change_index_vector([],fixR,0)\n",
    "            if(len(fixR)==1):\n",
    "                break\n"
   ]
  },
  {
   "cell_type": "markdown",
   "metadata": {},
   "source": [
    "#### 3.2) Выводы"
   ]
  },
  {
   "cell_type": "code",
   "execution_count": 179,
   "metadata": {},
   "outputs": [
    {
     "data": {
      "text/html": [
       "<div class=\"notruncate\">\n",
       "<table  class=\"table_form\">\n",
       "<tbody>\n",
       "<tr class =\"row-a\">\n",
       "<td>N</td>\n",
       "<td>K</td>\n",
       "<td>Цепочка</td>\n",
       "<td>наим. Длина</td>\n",
       "<td>Алгоритм дробления вектора индексов</td>\n",
       "<td>Длина</td>\n",
       "<td>Время работы</td>\n",
       "</tr>\n",
       "<tr class =\"row-b\">\n",
       "<td><script type=\"math/tex\">123</script></td>\n",
       "<td><script type=\"math/tex\">2</script></td>\n",
       "<td><script type=\"math/tex\">\\left[1, 2, 3, 2, 4, 7, 14, 28, 30, 60, 120, 123\\right]</script></td>\n",
       "<td><script type=\"math/tex\">12</script></td>\n",
       "<td><script type=\"math/tex\">\\left[1, 2, 3, 6, 12, 24, 48, 96, 120, 123\\right]</script></td>\n",
       "<td><script type=\"math/tex\">10</script></td>\n",
       "<td><script type=\"math/tex\">0.0789366520002659</script></td>\n",
       "</tr>\n",
       "<tr class =\"row-a\">\n",
       "<td><script type=\"math/tex\">512</script></td>\n",
       "<td><script type=\"math/tex\">2</script></td>\n",
       "<td><script type=\"math/tex\">\\left[1, 2, 4, 8, 16, 32, 64, 128, 256, 512\\right]</script></td>\n",
       "<td><script type=\"math/tex\">10</script></td>\n",
       "<td><script type=\"math/tex\">\\left[1, 2, 4, 8, 16, 32, 64, 128, 256, 512\\right]</script></td>\n",
       "<td><script type=\"math/tex\">10</script></td>\n",
       "<td><script type=\"math/tex\">0.00015823499961697962</script></td>\n",
       "</tr>\n",
       "<tr class =\"row-b\">\n",
       "<td><script type=\"math/tex\">540</script></td>\n",
       "<td><script type=\"math/tex\">2</script></td>\n",
       "<td><script type=\"math/tex\">\\left[1, 2, 3, 4, 8, 16, 32, 33, 66, 132, 135, 270, 540\\right]</script></td>\n",
       "<td><script type=\"math/tex\">13</script></td>\n",
       "<td><script type=\"math/tex\">\\left[1, 2, 4, 5, 10, 15, 30, 60, 120, 240, 480, 540\\right]</script></td>\n",
       "<td><script type=\"math/tex\">12</script></td>\n",
       "<td><script type=\"math/tex\">0.10621721700044873</script></td>\n",
       "</tr>\n",
       "<tr class =\"row-a\">\n",
       "<td><script type=\"math/tex\">576</script></td>\n",
       "<td><script type=\"math/tex\">2</script></td>\n",
       "<td><script type=\"math/tex\">\\left[1, 2, 4, 8, 9, 18, 36, 72, 144, 288, 576\\right]</script></td>\n",
       "<td><script type=\"math/tex\">11</script></td>\n",
       "<td><script type=\"math/tex\">\\left[1, 2, 4, 8, 16, 32, 64, 128, 256, 512, 576\\right]</script></td>\n",
       "<td><script type=\"math/tex\">11</script></td>\n",
       "<td><script type=\"math/tex\">0.0003749719999177614</script></td>\n",
       "</tr>\n",
       "</tbody>\n",
       "</table>\n",
       "</div>"
      ],
      "text/plain": [
       "  N     K   Цепочка                                               наим. Длина   Алгоритм дробления вектора индексов                Длина   Время работы\n",
       "  123   2   [1, 2, 3, 2, 4, 7, 14, 28, 30, 60, 120, 123]          12            [1, 2, 3, 6, 12, 24, 48, 96, 120, 123]             10      0.0789366520002659\n",
       "  512   2   [1, 2, 4, 8, 16, 32, 64, 128, 256, 512]               10            [1, 2, 4, 8, 16, 32, 64, 128, 256, 512]            10      0.00015823499961697962\n",
       "  540   2   [1, 2, 3, 4, 8, 16, 32, 33, 66, 132, 135, 270, 540]   13            [1, 2, 4, 5, 10, 15, 30, 60, 120, 240, 480, 540]   12      0.10621721700044873\n",
       "  576   2   [1, 2, 4, 8, 9, 18, 36, 72, 144, 288, 576]            11            [1, 2, 4, 8, 16, 32, 64, 128, 256, 512, 576]       11      0.0003749719999177614"
      ]
     },
     "execution_count": 179,
     "metadata": {},
     "output_type": "execute_result"
    }
   ],
   "source": [
    "k=[2,3,4,6]\n",
    "data=[['N','K', 'Цепочка', 'наим. Длина','Алгоритм дробления вектора индексов','Длина','Время работы']]\n",
    "test=[123,512,540,576]\n",
    "for i in test:\n",
    "    minTemp=[]\n",
    "    for j in k:\n",
    "        temp=[]\n",
    "        temp.append(i)\n",
    "        temp.append(j)\n",
    "        x=Browers_algorithm(i,j)\n",
    "        temp.append(x)\n",
    "        temp.append(len(x))\n",
    "        if(len(minTemp)==0):\n",
    "            minTemp=temp\n",
    "        if(temp[-1]<minTemp[-1]):\n",
    "            minTemp=temp\n",
    "    x=crushing_vector(i)\n",
    "    minTemp.append(x[0])\n",
    "    minTemp.append(len(x[0]))\n",
    "    minTemp.append(x[1])\n",
    "    data.append(minTemp)\n",
    "table(data)"
   ]
  },
  {
   "cell_type": "markdown",
   "metadata": {},
   "source": [
    "Вывод: Можем заметить, что алгоритм дробления вектора индексов дает более точный результат минимальной аддитивной цепочки. Но при этом время работы алгоритма может быть достаточно большим."
   ]
  },
  {
   "cell_type": "markdown",
   "metadata": {},
   "source": [
    "### 4. Проверка следствия теоремы Брауэра"
   ]
  },
  {
   "cell_type": "markdown",
   "metadata": {},
   "source": [
    "#### 4.1) Вывод"
   ]
  },
  {
   "cell_type": "code",
   "execution_count": 180,
   "metadata": {},
   "outputs": [
    {
     "data": {
      "image/png": "[encoded data removed]",
      "text/plain": [
       "<Figure size 432x288 with 1 Axes>"
      ]
     },
     "metadata": {
      "needs_background": "light"
     },
     "output_type": "display_data"
    }
   ],
   "source": [
    "import matplotlib.pyplot as plt\n",
    "import numpy as np\n",
    "from scipy.optimize import leastsq\n",
    "\n",
    "pos_x = [i for i in range (1 ,200)]\n",
    "pos_y= [len(crushing_vector(i)[0]) for i in range (1, 200)]\n",
    "\n",
    "sum_xy = 0\n",
    "sum_x = 0\n",
    "sum_y = 0\n",
    "sum_quart_x = 0\n",
    "\n",
    "for i in range(len(pos_x)):\n",
    "        sum_xy += pos_y[i] * log(pos_x[i],2)\n",
    "        sum_x += log(pos_x[i],2) \n",
    "        sum_y += pos_y[i]\n",
    "        sum_quart_x += log(pos_x[i],2)**2\n",
    "        \n",
    "a = (len(pos_x)*sum_xy - sum_x*sum_y)/(len(pos_x)*sum_quart_x - sum_x**2)\n",
    "b = (sum_y - a*sum_x)/len(pos_x)\n",
    "\n",
    "\n",
    "plt.plot(pos_x, pos_y, 'o', pos_x,[a*log(i,2) + b for i in pos_x])\n",
    "plt.show()"
   ]
  },
  {
   "cell_type": "markdown",
   "metadata": {},
   "source": [
    "Вывод: исходя из графика, построив аппроксимацию \\frac{l(n)} для n от 1 до 200, можно сделать вывод, что она имеет поведение логарифмической функция, а значит и подтверждает ледствие из теоремы Брауэра."
   ]
  },
  {
   "cell_type": "markdown",
   "metadata": {},
   "source": [
    "### 5. Проверка гипотезы Шольца–Брауэра"
   ]
  },
  {
   "cell_type": "code",
   "execution_count": 181,
   "metadata": {},
   "outputs": [
    {
     "data": {
      "image/png": "[encoded data removed]",
      "text/plain": [
       "<Figure size 360x360 with 1 Axes>"
      ]
     },
     "metadata": {
      "needs_background": "light"
     },
     "output_type": "display_data"
    }
   ],
   "source": [
    "pos_x = [i for i in range(2, 11)]\n",
    "\n",
    "l_power = [len(crushing_vector(2**n-1)[0]) for n in range (2, 11)]\n",
    "l = [len(crushing_vector(n)[0]) + n - 1 for n in range (2, 11)]\n",
    "\n",
    "figure, axes = plt.subplots(figsize=(5,5))\n",
    "\n",
    "axes.plot(pos_x, l_power,'red')\n",
    "axes.plot(pos_x, l,'green')\n",
    "plt.show()"
   ]
  },
  {
   "cell_type": "markdown",
   "metadata": {},
   "source": [
    "Вывод: гипотеза Шольца–Брауэра была доказана для 1<n⩽10"
   ]
  },
  {
   "cell_type": "markdown",
   "metadata": {},
   "source": [
    "### 6. Вывод\n"
   ]
  },
  {
   "cell_type": "markdown",
   "metadata": {},
   "source": [
    "В результате выполнения работы были изучены алгоритмы составления минимальных аддитивных цепочек для заданного числа. Получены навыки использования систем компьютерной алгебры Sagemath для реализации алгоритмов."
   ]
  },
  {
   "cell_type": "code",
   "execution_count": null,
   "metadata": {},
   "outputs": [],
   "source": []
  }
 ],
 "metadata": {
  "kernelspec": {
   "display_name": "SageMath 9.2",
   "language": "sage",
   "name": "sagemath"
  },
  "language_info": {
   "codemirror_mode": {
    "name": "ipython",
    "version": 3
   },
   "file_extension": ".py",
   "mimetype": "text/x-python",
   "name": "python",
   "nbconvert_exporter": "python",
   "pygments_lexer": "ipython3",
   "version": "3.8.5"
  }
 },
 "nbformat": 4,
 "nbformat_minor": 4
}
