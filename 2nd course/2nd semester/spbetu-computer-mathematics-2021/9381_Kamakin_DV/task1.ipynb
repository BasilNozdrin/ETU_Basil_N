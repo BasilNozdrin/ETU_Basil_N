{
 "cells": [
  {
   "cell_type": "markdown",
   "metadata": {},
   "source": [
    "# Практическая работа №1: Исследование алгоритмов формирования аддитивных цепочек\n",
    "\n",
    "\n",
    "Выполнил студент гр. 9381 Камакин Даниил, вариант 51."
   ]
  },
  {
   "cell_type": "markdown",
   "metadata": {},
   "source": [
    "## Цель работы\n",
    "Формирование представления о аддитивных цепочках, выработать умение составлять и применять алгоритмы для нахождения минимальных аддитивных цепочек для заданного числа, привить навык использования систем компьютерной алгебры для реализации алгоритмов."
   ]
  },
  {
   "cell_type": "markdown",
   "metadata": {},
   "source": [
    "## Основные теоретические положения\n",
    "\n",
    "### Определение аддитивной цепочки\n",
    "\n",
    "Аддитивной цепочкой для числа $n$ называется любая начинающаяся с 1 последовательность натуральных чисел $ {a}_{0}=1, {a}_{1}, ... , {a}_{m} = n $, в которой каждое число является суммой каких-то двух предыдущих чисел (возможно совпадающих), то есть для всех $i \\geq  1$ выполнено равенство ${a}_{i}={a}_{j}+{a}_{k}, j, k < i$. Под длиной цепочки понимается число $m$. Возведение в степень может быть интерпретировано как построение аддитивной цепочки для показателя степени.\n",
    "\n",
    "### Определение звёздной цепочки. Гипотеза Шольца-Брауэра\n",
    "\n",
    "Аддитивная цепочка называется линейной(звёздной), если каждый её элемент равен сумме предыдущего элемента и какого-то ещё, то есть для всех $i \\geq 1$ выполнено равенство ${a}_{i} = {a}_{i-1} + {a}_{j}, j < i$. Тогда ${l}^{*}(n)$ - длина кратчайшей звёздной цепочки, а $l(n)$ - длина кратчайшей аддитивной цепочки. Гипотеза Шольца-Брауэра гласит, что: $${l}^{*}({2}^{n}-1) \\leq n + {l}^{*}(n) - 1$$\n",
    "\n",
    "### Бинарный метод\n",
    "\n",
    "Для построения аддитивной цепочки для числа $n$ удалим из его двочиной записи единицу в старшем разряде, перед остальными единицами вставим двойки, а все нули заменим двойками. В результате получится слово из символов 1 и 2, в котором единицы обозначают прибавление 1, а двойки - удвоение. Длина бинарной аддитивной цепочки для числа $n$ равна $\\lambda (n) + v(n) - 1$ (цепочка строится при помощи $\\lambda (n)$ удвоений и $v(n) - 1$ прочих сложений).\n",
    "\n",
    "### Метод множителей\n",
    "\n",
    "Пусть $n = st$ и построены аддитивные цепочки для $s$ и $t$ $$1,{a}_{1}, ... , {a}_{i} = s;  1, {b}_{1}, ... , {b}_{j} = t$$ \n",
    "Тогда для $n$ выписывается аддитивная цепочка $$1,{a}_{1}, ... , {a}_{i} = s; s{b}_{1}, s{b}_{2}, ... , s{b}_{j} = n$$\n",
    "длина которой равна сумме длин аддитивных цепочек для сомножителей. Если для вычисления $s$ и $t$ используются бинарные цепочки, то длина цепочки для $n$ равна $\\lambda (s) + \\lambda (t) + v(s) + v(t) - 2$.\n",
    "\n",
    "\n",
    "### Теорема Брауэра\n",
    "\n",
    "$l(n)<(1+k^{-1}) \\cdot \\lceil log_2 n \\rceil + 2^{k-1}-k+2$, при $k < log_2 log_2 n$\n",
    "\n",
    "Пусть $k=\\lambda(\\lambda(n))-2\\lambda(\\lambda(\\lambda(n)))$, тогда получаем следствие из теоремы:\n",
    "\n",
    "$$\\lim \\limits_{n \\to \\infty} \\frac{l(n)}{\\lambda(n)}=1$$\n",
    "\n",
    "\n",
    "### Алгоритм Брауэра\n",
    "\n",
    "Пусть $n$ - натуральное число, для которого требуется найти цепочку, $k$ - натуральное число, параметр, выбираемый самостоятельно, тогда:\n",
    "\n",
    "$$\n",
    "\\begin{array}{l}\n",
    "d = {2}^{k}, {q}_{1} = [n/d], {r}_{1} = n \\% d\\\\\n",
    "{q}_{2} = [{q}_{1}/d], {r}_{2} = {q}_{1} \\% d\\\\\n",
    "while ({q}_{s} < d) \\Leftrightarrow {q}_{s-1}={q}_{s}d + {r}_{s}\\\\\n",
    "\\end{array}\n",
    "$$\n",
    "\n",
    "тогда $\n",
    "n = {2}^{k}{q}_{1} + {r}_{1} = {2}^{k}({2}^{k}{q}_{2}+{r}_{2})+{r}_{1}= ... = {2}^{k}({2}^{k}(...{2}^{k}({2}^{k}{q}_{s}+{r}_{s})+{r}_{s-1})+{r}_{2})+{r}_{1}\n",
    "$\n",
    "\n",
    "### Алгоритм дробления вектора индексов \n",
    "\n",
    "Пусть имеется натуральное число $n$. Задачей алгоритма является нахождения минимальной звёздной(линейной) цепочки такой, что ${a}_{m} = n$. Рассмотрим ${\\left \\{{r}_{i}\n",
    "\\right \\}}_{i = 1}^{q}\\cup {\\left \\{{\\rho }_{j}\n",
    "\\right \\}}_{j = q + 1}^{m}$ - вектор индексов, где ${\\rho }_{j}=\\left \\{x: 1 \\leq  x \\leq  j\n",
    "\\right \\}$. ${\\left \\{{r}_{i}\n",
    "\\right \\}}_{i = 1}^{q}$ - фиксированная часть, а ${\\left \\{{\\rho }_{j}\n",
    "\\right \\}}_{j = q + 1}^{m}$ - меняющаяся, тогда:\n",
    "$${a}_{m}\\rightarrow {\\left \\{{r}_{i}\n",
    "\\right \\}}_{i = 1}^{q}\\cup\\{q+1, q+2, ..., m\\} (1)\\\\\n",
    "{a}_{m}\\rightarrow{\\left \\{{r}_{i}\n",
    "\\right \\}}_{i = 1}^{q}\\cup\\{1, 1, ..., 1\\} (2)$$\n",
    "(1) - наибольшее значение ${a}_{m}$ (${a}_{max} = {a}_{q+1}{2}^{m-q}$), (2) - наименьшее значение ${a}_{m}$ (${a}_{min} = {a}_{q+1}+m-q$).\n",
    "Рассматриваем аддитивные цепочки длины $m$ ($l(n)\\leq m\\leq \\bar{l(n)}$, где $l(n)=\\lceil log_2 n \\rceil,\\, \\overline{l}(n)=\\lambda(n)+\\nu(n)-1$). Выбираем $q(1\\leq q \\leq m - 1)$, пусть $q = m/2$. Далее перебираем все ${\\left \\{{r}_{i}\n",
    "\\right \\}}_{i = 1}^{q}$ (всего $q!$ переборов): строим звёздную цепочку (необходимо для получения ${a}_{m}$), вычисляем ${a}_{max}$ и ${a}_{min}$. Если ${a}_{m} = n$, то перебор окончен. В случае, когда $n\\notin [{a}_{min}, {a}_{max}]$ - переходим к следующему набору, иначе ($n\\in [{a}_{min}, {a}_{max}]$) - перебираем меняющуюся часть вектора индексов. Если все наборы вектора индексов длины $m$ исчерпаны, то делаем $m++$.\n"
   ]
  },
  {
   "cell_type": "markdown",
   "metadata": {},
   "source": [
    "## Постановка задачи\n",
    "\n",
    "Реализовать точные и приближённые алгоритмы нахождения минимальных аддитивных цепочек с использованием системы компьютерной алгебры SageMath, провести анализ алгоритмов. Полученные результаты содержательно проинтерпретировать.\n",
    "\n",
    "### Порядок выполнения работы \n",
    "\n",
    "1. Применить бинарный метод и метод множителей для $x^n$,где $n \\geq 30$, для 2-3 значений $n$(значения $n$ выбирается студентом самостоятельно). Сравнить количество операций для каждого метода, сделать выводы.\n",
    "\n",
    "2. Реализовать алгоритм Брауэра для вычисления приближённых аддитивных цепочек для различных чисел при варьировании параметра $k$, сопоставить длины полученных аддитивных цепочек с минимальной аддитивной цепочкой для заданного числа. Сделать выводы.\n",
    "\n",
    "3. Реализовать алгоритм дробления вектора индексов для нахождения минимальной звёздной цепочки для заданного числа. Протестировать алгоритм при $n \\geq 500$. Указать, сколько времени потребовалось на поиск цепочки и какая цепочка получилась. Сравнить с предыдущими методами, сделать выводы.\n",
    "\n",
    "4. Проверить следствие 1 теоремы Брауэра для $n=1..200$ путём построения функции $l(n)$ и аппроксимирующей кривой, полученной с помощью метода наименьших квадратов. Сопоставить функции на одном графике, сделать выводы.\n",
    "\n",
    "5. Проверить гипотезу Шольца–Брауэра для $1<n \\leq 10$ на алгоритме дробления вектора индексов. Сделать выводы.\n",
    "\n",
    "6. _Дополнительное необязательное задание: найти и/или предложить модификации алгоритмов и привести описание модификаций. Реализовать модифицированные алгоритмы и сравнить их мощность_"
   ]
  },
  {
   "cell_type": "markdown",
   "metadata": {},
   "source": [
    "## Выполнение работы\n",
    "\n",
    "### Бинарный метод и метод множителей\n"
   ]
  },
  {
   "cell_type": "markdown",
   "metadata": {},
   "source": [
    "Для выполнения данного задания были написаны функции binary() и multiplier(), применяющие соответственно бинарный метод и метод множителей к ${x}^{n}$."
   ]
  },
  {
   "cell_type": "code",
   "execution_count": 1,
   "metadata": {},
   "outputs": [],
   "source": [
    "def binary(number, power):\n",
    "    countOperations = 0\n",
    "    currentNumber = number\n",
    "    \n",
    "    for digit in bin(power)[3:].replace('0', '2'):\n",
    "        if digit == '1':\n",
    "            currentNumber *= currentNumber\n",
    "            currentNumber *= number\n",
    "            countOperations += 2\n",
    "        if digit == '2':\n",
    "            currentNumber *= currentNumber\n",
    "            countOperations += 1\n",
    "            \n",
    "    return currentNumber, countOperations"
   ]
  },
  {
   "cell_type": "code",
   "execution_count": 2,
   "metadata": {},
   "outputs": [],
   "source": [
    "def multiplier(number, power):\n",
    "    countOperations = 0\n",
    "    currentNumber = number\n",
    "    \n",
    "    for elem in [mult[0] for mult in factor(power) for i in range(mult[1])]:\n",
    "        if elem >= 15:\n",
    "            currentNumber, count = multiplier(number, elem - 1)\n",
    "            currentNumber *= number\n",
    "            countOperations += count + 1\n",
    "            number = currentNumber\n",
    "        else:\n",
    "            currentNumber, count = binary(currentNumber, elem)\n",
    "            countOperations += count\n",
    "            number = currentNumber\n",
    "            \n",
    "    return currentNumber, countOperations        "
   ]
  },
  {
   "cell_type": "code",
   "execution_count": 7,
   "metadata": {},
   "outputs": [
    {
     "name": "stdout",
     "output_type": "stream",
     "text": [
      "The number of operations required by the binary method to raise 30 to 33 = 6\n",
      "The number of operations required by the multiplier method to raise 30 to 33 = 7\n",
      "The number of operations required by the binary method to raise 120 to 123 = 11\n",
      "The number of operations required by the multiplier method to raise 120 to 123 = 9\n",
      "The number of operations required by the binary method to raise 30 to 40 = 6\n",
      "The number of operations required by the multiplier method to raise 30 to 40 = 6\n"
     ]
    }
   ],
   "source": [
    "number, power = 30, 33\n",
    "result, binaryCount = binary(number, power)\n",
    "result, multiplierCount = multiplier(number, power)\n",
    "print(\"The number of operations required by the binary method to raise\", number, \"to\", power, \"=\", binaryCount)\n",
    "print(\"The number of operations required by the multiplier method to raise\", number, \"to\", power, \"=\", multiplierCount)\n",
    "\n",
    "number, power = 120, 123\n",
    "result, binaryCount = binary(number, power)\n",
    "result, multiplierCount = multiplier(number, power)\n",
    "print(\"The number of operations required by the binary method to raise\", number, \"to\", power, \"=\", binaryCount)\n",
    "print(\"The number of operations required by the multiplier method to raise\", number, \"to\", power, \"=\", multiplierCount)\n",
    "\n",
    "number, power = 30, 40\n",
    "result, binaryCount = binary(number, power)\n",
    "result, multiplierCount = multiplier(number, power)\n",
    "print(\"The number of operations required by the binary method to raise\", number, \"to\", power, \"=\", binaryCount)\n",
    "print(\"The number of operations required by the multiplier method to raise\", number, \"to\", power, \"=\", multiplierCount)"
   ]
  },
  {
   "cell_type": "markdown",
   "metadata": {},
   "source": [
    "Выпишем последовательности, полученные при применении данных методов:\n",
    "\n",
    "Возведение в 33-ую степень:\n",
    "\n",
    "Бинарный метод (8 операций):\n",
    "\n",
    "$x, x * x = x^2, x^2 * x^2 = x^4, x^4 * x^4 = x^8, x^8 * x^8 = x^{16}, x^{16} * x^{16} = x^{32}, x^{32} * x = x^{33}$\n",
    "\n",
    "Метод множителей (7 операций):\n",
    "\n",
    "I. $x, x * x = x^2, x^2 * x = x^3$\n",
    "\n",
    "II. $x, x * x = x^2, x^2 * x^2 = x^4, x^4 * x = x^5, x^5 * x^5 = x^{10}, x^{10} * x = x^{11}$\n",
    "\n",
    "Возведение в 123-ую степень:\n",
    "\n",
    "Бинарный метод (11 операций):\n",
    "\n",
    "$x, x * x = x^2, x^2 * x = x^3, x^3 * x^3 = x^6, x^6 * x = x^7, x^7 * x^7 = x^{14}, x^{14} * x = x^{15}, x^{15} * x^{15} = x^{30}, x^{30} * x^{30} = x^{60}, x^{60} * x = x^{61}, x^{61} * x^{61} = x ^{122}, x^{122} * x = x^{123}$\n",
    "\n",
    "Метод множителей (9 операций):\n",
    "\n",
    "I. $x, x * x = x^2, x^2 * x = x^3$\n",
    "\n",
    "II. $x, x * x = x^2, x^2 * x^2 = x^4, x^4 * x = x^5, x^5 * x^5 = x^{10}, x^{10} * x^{10} = x^{20}, x^{20} * x^{20} = x^{40}, x^{40} * x = x^{41}$\n",
    "\n",
    "\n",
    "Возведение в 40-ую степень:\n",
    "\n",
    "Бинарный метод (6 операций):\n",
    "\n",
    "$x, x * x = x^2, x^2 * x^2 = x^4, x^4 * x = x^5, x^5 * x^5 = x^{10}, x^{10} * x^{10} = x^{20}, x^{20} * x^{20} = x^{40}$\n",
    "\n",
    "Метод множителей (6 операций):\n",
    "\n",
    "I. $x, x * x = x^2, x^2 * x^2 = x^4, x^4 * x^4 = x^8$\n",
    "\n",
    "II. $x, x * x = x^2, x^2 * x^2 = x^4, x^4 * x = x^5$\n",
    "\n"
   ]
  },
  {
   "cell_type": "markdown",
   "metadata": {},
   "source": [
    "### Вывод\n",
    "\n",
    "Судя по полученным результатам можно сделать вывод, что метод множителей как минимум не хуже, а в большинстве случаев лучше бинарного, особенно отчётливо это проявляется при больших степенях. Впервые метод множителей превосходит бинарный при значении $power >= 15$."
   ]
  },
  {
   "cell_type": "markdown",
   "metadata": {},
   "source": [
    "## Алгоритм Брауэра"
   ]
  },
  {
   "cell_type": "code",
   "execution_count": 40,
   "metadata": {},
   "outputs": [],
   "source": [
    "def getRemainders(number, k):\n",
    "    listRemainders = []\n",
    "    power = 2 ** k\n",
    "\n",
    "    while number >= power:\n",
    "        listRemainders.append(number % power)\n",
    "        number //= power\n",
    "\n",
    "    listRemainders.append(number)\n",
    "    listRemainders.reverse()\n",
    "    return listRemainders"
   ]
  },
  {
   "cell_type": "code",
   "execution_count": 259,
   "metadata": {},
   "outputs": [],
   "source": [
    "def brouwer(number, k):\n",
    "    listRemainders = getRemainders(number, k)\n",
    "    lastNumber = listRemainders[0]\n",
    "    chain = [x for x in range(1, lastNumber + 1)]\n",
    "    listPowers = [1]\n",
    "    currPower = 0\n",
    "\n",
    "    while lastNumber != number:\n",
    "        if currPower < k:\n",
    "            currPower += 1\n",
    "            \n",
    "            currElem = 0\n",
    "            for i in range(len(listPowers)):\n",
    "                listPowers[i] *= 2\n",
    "                currElem += listPowers[i] * listRemainders[i]\n",
    "                \n",
    "            chain.append(currElem)\n",
    "            lastNumber = currElem\n",
    "            \n",
    "            if lastNumber == number:\n",
    "                return chain\n",
    "\n",
    "        if currPower == k:\n",
    "            currPower = 0\n",
    "            listPowers.append(1)\n",
    "\n",
    "            if listRemainders[len(listPowers) - 1] == 0:\n",
    "                continue\n",
    "\n",
    "            currElem = 0\n",
    "            for i in range(len(listPowers)):\n",
    "                currElem += listPowers[i] * listRemainders[i]\n",
    "            chain.append(currElem)\n",
    "            lastNumber = currElem\n",
    "\n",
    "    return chain"
   ]
  },
  {
   "cell_type": "code",
   "execution_count": 268,
   "metadata": {},
   "outputs": [
    {
     "name": "stdout",
     "output_type": "stream",
     "text": [
      "Enter number: 672\n",
      "Enter k: 2\n",
      "Length of the chain = 12\n",
      "Chain = [1, 2, 4, 8, 10, 20, 40, 42, 84, 168, 336, 672]\n"
     ]
    }
   ],
   "source": [
    "answer = brouwer(int(input(\"Enter number: \")), int(input(\"Enter k: \")))\n",
    "print(\"Length of the chain =\", len(answer))\n",
    "print(\"Chain =\", answer)"
   ]
  },
  {
   "cell_type": "markdown",
   "metadata": {},
   "source": [
    "Ниже представлены значения number и минимальная длины аддитивных цепочек для них:\n",
    "\n",
    "| number | min length |\n",
    "| :- | -: |\n",
    "| 1278 | 14 |\n",
    "| 12321 | 17 |\n",
    "| 103212 | 21 |"
   ]
  },
  {
   "cell_type": "markdown",
   "metadata": {},
   "source": [
    "Результат выполнения программы для разных значений number и k:\n",
    "\n",
    "| number | k | length | chain |\n",
    "|:-:| :-: | :-: | :-: |\n",
    "| 1278 | 2 | 15 | [1, 2, 4, 8, 16, 19, 38, 76, 79, 158, 316, 319, 638, 1276, 1278] |\n",
    "| 1278 | 3 | 14 | [1, 2, 4, 8, 16, 19, 38, 76, 152, 159, 318, 636, 1272, 1278] |\n",
    "| 1278 | 4 | 14 | [1, 2, 3, 4, 8, 16, 32, 64, 79, 158, 316, 632, 1264, 1278] |\n",
    "| 12321 | 2 | 21 | [1, 2, 3, 6, 12, 12, 24, 48, 48, 96, 192, 192, 384, 768, 770, 1540, 3080, 3080, 6160, 12320, 12321] |\n",
    "| 12321 | 3 | 19 | [1, 2, 3, 6, 12, 24, 24, 48, 96, 192, 192, 384, 768, 1536, 1540, 3080, 6160, 12320, 12321] |\n",
    "| 12321 | 4 | 18 | [1, 2, 3, 6, 12, 24, 48, 48, 96, 192, 384, 768, 770, 1540, 3080, 6160, 12320, 12321] |\n",
    "| 12321 | 5 | 24 | [1, 2, 3, 4, 5, 6, 7, 8, 9, 10, 11, 12, 24, 48, 96, 192, 384, 385, 770, 1540, 3080, 6160, 12320, 12321] |\n",
    "| 103212 | 2 | 22 | [1, 2, 4, 6, 12, 24, 25, 50, 100, 200, 400, 403, 806, 1612, 3224, 6448, 6450, 12900, 25800, 25803, 51606, 103212] |\n",
    "| 103212 | 3 | 23 | [1, 2, 3, 6, 12, 24, 25, 50, 100, 200, 201, 402, 804, 1608, 1612, 3224, 6448, 12896, 12901, 25802, 51604, 103208, 103212] |\n",
    "| 103212 | 4 | 21 | [1, 2, 4, 8, 16, 25, 50, 100, 200, 400, 403, 806, 1612, 3224, 6448, 6450, 12900, 25800, 51600, 103200, 103212] |"
   ]
  },
  {
   "cell_type": "markdown",
   "metadata": {},
   "source": [
    "### Выводы\n",
    "\n",
    "С помощью алгоритма Брауэра редко можно получить цепочку минимальной длины, при этом, увеличивая параметр $k$ точность не будет постоянно повышаться, поскольку при этом увеличивается количество элементов до ${2}^{k}$ в конечной цепочке. Таким образом, при увеличении $number$ и $k$, результат будет лишь ухудшаться относительно минимальной цепочки."
   ]
  },
  {
   "cell_type": "markdown",
   "metadata": {},
   "source": [
    "## Алгоритм дробления вектора индексов"
   ]
  },
  {
   "cell_type": "code",
   "execution_count": 2,
   "metadata": {},
   "outputs": [],
   "source": [
    "import time"
   ]
  },
  {
   "cell_type": "code",
   "execution_count": 3,
   "metadata": {},
   "outputs": [],
   "source": [
    "def getOnesInBin(number):\n",
    "    count = 0\n",
    "    \n",
    "    while number > 0:\n",
    "        count += number & 1\n",
    "        number >>= 1\n",
    "\n",
    "    return count"
   ]
  },
  {
   "cell_type": "code",
   "execution_count": 4,
   "metadata": {},
   "outputs": [],
   "source": [
    "def getBorders(number):\n",
    "    lambdaNumber = floor(log(number,2).n())\n",
    "    binOnes = getOnesInBin(number)\n",
    "    upperBorder = lambdaNumber + getOnesInBin(number) - 1\n",
    "    return lambdaNumber, upperBorder"
   ]
  },
  {
   "cell_type": "code",
   "execution_count": 5,
   "metadata": {},
   "outputs": [],
   "source": [
    "def getChain(vector):\n",
    "    chain = [1]\n",
    "    \n",
    "    for elem in vector:\n",
    "        chain.append(chain[-1] + chain[elem - 1])\n",
    "    \n",
    "    return chain"
   ]
  },
  {
   "cell_type": "code",
   "execution_count": 6,
   "metadata": {},
   "outputs": [],
   "source": [
    "def nextIndexVector(vector, start):\n",
    "    maxIndex = start + len(vector) - 1\n",
    "    for i in range(1, len(vector) + 1):\n",
    "        vector[-i] += 1\n",
    "        if vector[-i] <= maxIndex:\n",
    "            break\n",
    "        if i == len(vector):\n",
    "            vector.append(1)\n",
    "            break\n",
    "        vector[-i] = 1\n",
    "        maxIndex -= 1"
   ]
  },
  {
   "cell_type": "code",
   "execution_count": 7,
   "metadata": {},
   "outputs": [],
   "source": [
    "def splitIndexVector(number):\n",
    "    lowBorder, upperBorder = getBorders(number)\n",
    "    chain = [1]\n",
    "    \n",
    "    while lowBorder <= upperBorder:\n",
    "        q = lowBorder // 2 if lowBorder > 3 else lowBorder\n",
    "        vectorR = [1 for i in range(q)]\n",
    "        \n",
    "        while len(vectorR) == q:\n",
    "            vectorRo = [1 for i in range(lowBorder - q)]\n",
    "            \n",
    "            chain = getChain(vectorR + vectorRo)\n",
    "            if chain[-1] == number:\n",
    "                return chain\n",
    "            \n",
    "            aMin = chain[q] + lowBorder - q\n",
    "            aMax = chain[q] * 2 ** (lowBorder - q)\n",
    "            if number < aMin or number > aMax:\n",
    "                nextIndexVector(vectorR, 1)\n",
    "                continue\n",
    "            \n",
    "            while len(vectorRo) == lowBorder - q:\n",
    "                chain = getChain(vectorR + vectorRo)\n",
    "                if chain[-1] == number:\n",
    "                    return chain\n",
    "                nextIndexVector(vectorRo, q + 1)\n",
    "\n",
    "            nextIndexVector(vectorR, 1)\n",
    "\n",
    "        lowBorder += 1\n",
    "    return chain"
   ]
  },
  {
   "cell_type": "code",
   "execution_count": 8,
   "metadata": {},
   "outputs": [
    {
     "name": "stdout",
     "output_type": "stream",
     "text": [
      "Please, input the number: 520\n",
      "It took 4.714658260345459 seconds to calculate\n",
      "The length of the chain = 11\n",
      "The chain = [1, 2, 4, 8, 16, 32, 33, 65, 130, 260, 520]\n"
     ]
    }
   ],
   "source": [
    "number = int(input(\"Please, input the number: \"))\n",
    "start = time.time()\n",
    "answer = splitIndexVector(number)\n",
    "print(\"It took\", time.time() - start, \"seconds to calculate\")\n",
    "print(\"The length of the chain =\", len(answer))\n",
    "print(\"The chain =\", answer)"
   ]
  },
  {
   "cell_type": "markdown",
   "metadata": {},
   "source": [
    "В таблице представлены результаты работы алгоритма дробления вектора индексов (время приведено в секундах, для алгоритма Брауэра использовано $k = 2$):\n",
    "\n",
    "| number | split index | time | binary | multiplier | brower |\n",
    "|:-:| :-: | :-: | :-: | :-: | :-: |\n",
    "| 672 | 12 | 9.06 | 12 | 12 | 12 |\n",
    "| 541 | 13 | 2821.442 | 14 | 13 | 13 |\n",
    "| 520 | 11 | 3.89 | 11 | 11 | 11 |"
   ]
  },
  {
   "cell_type": "markdown",
   "metadata": {},
   "source": [
    "### Выводы\n",
    "\n",
    "При использовании алгоритм дробления вектора индексов можно получить цепочку минимальной длины, хоть и за значительное время. Можно отметить точность метода множителей, работающего быстрее алгоритма дробления. Алгоритм Брауэра при указанном значени $k$ так же выдаёт результат, близкий к идеальному. Таким образом, при наличии достаточно большого количества времени рекомендуется использовать алгоритм дробления вектора индексов, иначе лучше подойдёт метод множителей/Брауэра."
   ]
  },
  {
   "cell_type": "markdown",
   "metadata": {},
   "source": [
    "### Проверка следствия теоремы Брауэра"
   ]
  },
  {
   "cell_type": "code",
   "execution_count": 13,
   "metadata": {},
   "outputs": [],
   "source": [
    "import pylab as plt"
   ]
  },
  {
   "cell_type": "code",
   "execution_count": 14,
   "metadata": {},
   "outputs": [],
   "source": [
    "def getLengthToIndex(maxIndex):\n",
    "    length = []\n",
    "    \n",
    "    for i in range(1, maxIndex):\n",
    "        index.append(i)\n",
    "        length.append(len(splitIndexVector(i)))\n",
    "        \n",
    "    return length     "
   ]
  },
  {
   "cell_type": "code",
   "execution_count": 23,
   "metadata": {
    "scrolled": true
   },
   "outputs": [
    {
     "data": {
      "image/png": "[encoded data removed]",
      "text/plain": [
       "<Figure size 720x720 with 1 Axes>"
      ]
     },
     "metadata": {
      "needs_background": "light"
     },
     "output_type": "display_data"
    }
   ],
   "source": [
    "length = getLengthToIndex(201)\n",
    "index = [i for i in range(1, len(length) + 1)]\n",
    "\n",
    "m = matrix([[sum([float((log(i) ** 2)) for i in index]), sum([float(log(i)) for i in index])],\n",
    "            [sum([float(log(i)) for i in index]), len(index)]])\n",
    "vec = vector([sum([float(length[i] * log(index[i])) for i in range(len(index))]), sum(length)])\n",
    "result = m.solve_right(vec)\n",
    "\n",
    "plt.figure(figsize = (10, 10))\n",
    "plt.scatter(index, length, color = 'g', marker = '.')\n",
    "plt.plot(index, [result[0] * log(i) + result[1] for i in index], color = 'r')\n",
    "plt.show()"
   ]
  },
  {
   "cell_type": "markdown",
   "metadata": {},
   "source": [
    "### Выводы\n",
    "\n",
    "С помощью метода наименьших квадратов была получена аппроксимирующая прямая, схожая с графиком логарифма. Это и является подтверждением следствия, поскольку в этом случае на бесконечности $\\lambda(n)$ и $l(n)$ будут равны (с увеличением числа длина аддитивной цепочки для него увеличивается незначительно)."
   ]
  },
  {
   "cell_type": "markdown",
   "metadata": {},
   "source": [
    "## Проверка гипотезы Шольца-Бауэра\n",
    "\n"
   ]
  },
  {
   "cell_type": "code",
   "execution_count": 274,
   "metadata": {},
   "outputs": [
    {
     "name": "stdout",
     "output_type": "stream",
     "text": [
      "For n = 2 the statement is True ( 3 <= 3 )\n",
      "For n = 3 the statement is True ( 5 <= 5 )\n",
      "For n = 4 the statement is True ( 6 <= 6 )\n",
      "For n = 5 the statement is True ( 8 <= 8 )\n",
      "For n = 6 the statement is True ( 9 <= 9 )\n",
      "For n = 7 the statement is True ( 11 <= 11 )\n",
      "For n = 8 the statement is True ( 11 <= 11 )\n",
      "For n = 9 the statement is True ( 13 <= 13 )\n",
      "For n = 10 the statement is True ( 14 <= 14 )\n"
     ]
    }
   ],
   "source": [
    "## l(2^n - 1) <= n + l(n) - 1\n",
    "\n",
    "for i in range(2, 11):\n",
    "    first = len(splitIndexVector(2 ** i - 1))\n",
    "    second = i + len(splitIndexVector(i)) - 1\n",
    "    result = len(splitIndexVector(2 ** i - 1)) <= i + len(splitIndexVector(i)) - 1\n",
    "    print(\"For n =\", i, \"the statement is\", result, \"(\", first, \"<=\" if result else \">\", second, \")\")"
   ]
  },
  {
   "cell_type": "markdown",
   "metadata": {},
   "source": [
    "### Выводы\n",
    "\n",
    "Как видно из полученных результатов, гипотеза Шольца-Бауэра действительно верна для значений $1<n\\leq10$. Это даёт нам возможность быстрее получить длину минимальной цепочки для $n = {2}^{k} - 1$."
   ]
  },
  {
   "cell_type": "markdown",
   "metadata": {},
   "source": [
    "## Выводы\n",
    "\n",
    "Были реализованы точные и приближённые алгоритмы нахождения минимальных аддитивных цепочек с использованием системы компьютерной алгебры SageMath, проведён анализ алгоритмов. Выяснено, что в большинстве случаев бинарный метод проигрывает методу множителей в количестве операций, метод Брауэра не всегда точен, хоть и быстр, а метод дробления вектора индексов наоборот, даёт звёздную цепочку минимальной длины, но при этом крайне ресурсоёмок.\n",
    "Кроме того, было проверено следствие 1 из алгоритма Брауэра (оно оказалосьь верным) и гипотеза Шольца-Брауэра для $1 < n \\leq 10$ (также нашла подтверждение, а значит можно быстрее получать минимальные длины цепочек для $n = {2}^{k} - 1$).\n"
   ]
  }
 ],
 "metadata": {
  "kernelspec": {
   "display_name": "SageMath 9.2",
   "language": "sage",
   "name": "sagemath"
  },
  "language_info": {
   "codemirror_mode": {
    "name": "ipython",
    "version": 3
   },
   "file_extension": ".py",
   "mimetype": "text/x-python",
   "name": "python",
   "nbconvert_exporter": "python",
   "pygments_lexer": "ipython3",
   "version": "3.8.5"
  }
 },
 "nbformat": 4,
 "nbformat_minor": 4
}
