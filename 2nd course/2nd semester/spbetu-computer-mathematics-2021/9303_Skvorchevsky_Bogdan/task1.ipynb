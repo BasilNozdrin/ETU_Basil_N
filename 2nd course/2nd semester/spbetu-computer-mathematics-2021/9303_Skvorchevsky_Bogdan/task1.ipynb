{
 "cells": [
  {
   "cell_type": "markdown",
   "metadata": {},
   "source": [
    "# Практическая работа №1: Исследование алгоритмов формирования аддитивных цепочек\n",
    "Выполнил студент гр. 9303 Скворчевский Богдан, вариант 18\n",
    "## Цель работы\n",
    "\n",
    "Формирование представления об аддитивных цепочках, выработать умение составлять и применять алгоритмы для нахождения минимальных аддитивных цепочек для заданного числа, привить навык использования систем компьютерной алгебры для реализации алгоритмов.\n",
    "\n",
    "\n",
    "\n",
    "Основные теоретические положения\n",
    "--------------------------------------------------------------------------------------------------------------------------------------\n",
    "\n",
    "### Бинарный метод\n",
    "\n",
    "Бинарный метод — метод быстрого возведения в степень числа $ x^n $. Слева-направо просматривается бинарное представление числа $ n $, начиная с второй цифры: когда встречается 1 - текущее число умножается на самого себя и на число $ x $, когда 0 - текущее число умножается на $ x $.\n",
    "\n",
    "### Метод множителей\n",
    "\n",
    "Метод множителей — метод быстрого возведения в степень числа $ x^n $. Число n раскладывается на произведение двух множителей: $ n = i*j $, где $ i $ - наименьший простой множитель. Далее сначала $ x $ возводится в степень $ i $, а затем получившееся число в степень $ j $. Если $ n $ - простое число, то на множители раскладывается число $ n - 1 $ и после получения результата домножаем на $ x $.\n",
    "\n",
    "\n",
    "Введём некоторые определения:\n",
    " \n",
    "$ \\lambda (n)  $ - уменьшенная на единицу длина двоичной записи числа $ n $.\n",
    " \n",
    "$ \\nu (n)  $ - вес Хэмминга (количество ненулевых значений в записи числа).\n",
    " \n",
    "\n",
    "**Аддитивная цепочка** для $ n \\in N $ - последовательность такого вида: $ 1 = a_0, a_1, a_2, ..., a_m = n $ , в которой $ a_i = a_j + a_k $ ,  $    k \\leqslant j < i  $ , $ \\forall i = 1..m $ .\n",
    " \n",
    "**Функция** $ l(n) $  - наименьшая длина аддитивной цепочки.\n",
    "\n",
    "Типы шагов:\n",
    "    \n",
    "   1. **Удвоение**, если $ j = k = i - 1 $ . \n",
    "\n",
    "   2. **Звездный**, если $ j = i - 1 $ .\n",
    "\n",
    "   3. **Малый**, если $ \\lambda (a_i) = \\lambda (a_{i-1}) $ .\n",
    "   \n",
    "**Звездная цепочка** - аддитивная цепочка, состоящая только из звездных шагов.\n",
    " \n",
    "Пусть иммется звездная цепочка $ \\{a_i\\}_{i=1}^m $ . Тогда **вектор индексов** определяется, как  $ \\{r_i\\}_{i=1}^{m-1} $ , где $ r_i = \\{x: 1 \\leqslant x \\leqslant i\\} $ , а $ a_i = a_{i-1} + a_{r_{i-1}} $ , $ 2 \\leqslant i \\leqslant m-1 $ .\n",
    " \n",
    "### Алгоритм Яо\n",
    " \n",
    "Алгоритм Яо - алгоритм поиска аддитивной цепочки для n. Представим число n в виде: $ n = \\sum_{i = 0}^{j}a_j2^{ik}, a_j \\neq 0, k \\geq 2 $ . Введём функцию $ d(z) $  - сумма чисел $ 2^{ik} $ для $  \\forall i : a_i = z $ . В аддитивную цепочку последовательно добавляются следующие элементы:\n",
    "\n",
    "1. Степени двойки до $ \\lambda (n) $, т.е. в цепочки находятся элементы $ \\{1,2,4,8,..., 2^{\\lambda(n)} \\} $.\n",
    "\n",
    "2. Значения функции $ d(z) $, $ z \\in \\{1, 2, 3, ..., 2^k-1\\} $.\n",
    "\n",
    "3. Значения $ zd(z) $ , $ \\forall z $.\n",
    " \n",
    "Таким образом, $ n = \\sum_{z = 1}^{2^k-1}zd(z) $.\n",
    "\n",
    "### Алгоритм дробления вектора индексов\n",
    "\n",
    "Алгоритм дробления вектора индексов – алгоритм поиска минимальной аддитивной цепочки.\n",
    "\n",
    "1. Запускаем внешний цикл по длинам цепочек $ \\underline{l}(n) \\leq m \\leq \\overline{l}(n) $. Где $ \\underline{l}(n) = \\lambda (n) $, а $ \\overline{l}(n) = \\lambda(n) + \\nu(n) - 1 $. Пусть  $ q = m//2 - 1 $.\n",
    "2. Запускаем внутренний цикл перебора всех $ \\{r_i\\}_{i=1}^{q} $.\n",
    "\n",
    "На каждом шаге вычисляем $ a_{min} = a_{q+1} + m - q $ и $ a_{max} = a_{q+1}2^{m-q} $\n",
    "\n",
    "1. Если последний элемент в цепочки равен числу $ n $, заканчиваем алгоритм.\n",
    "2. Если $ n \\in [a_{min}, a_{max}] $, то тогда перебираем часть вектора индексов $ \\{r_j\\}_{j=q+1}^m $\n",
    "3. Если $ n \\notin [a_{min}, a_{max}] $ , то тогда перебираем часть вектора индексов $ \\{r_i\\}_{i=1}^q $\n",
    "   \n",
    "\n",
    "### Следствие теоремы Брауэра:\n",
    "\n",
    "$ \\lim_{n\\to\\infty} \\frac{l(n)}{\\lambda(n)} = 1 $ . (1)\n",
    "\n",
    "### Гипотеза Шольца-Брауэра:\n",
    "\n",
    "$ l(2^n - 1) \\leqslant l(n) + n - 1  $ для $ n \\leqslant 64 $ .   (2)\n",
    "\n",
    "\n",
    "\n",
    "## Постановка задачи\n",
    "\n",
    "Реализовать точные и приближённые алгоритмы нахождения минимальных аддитивных цепочек с использованием системы компьютерной алгебры SageMath, провести анализ алгоритмов. Полученные результаты содержательно проинтерпретировать.\n",
    "\n",
    "## Порядок выполнения работы\n",
    "\n",
    "1. Применить бинарный метод и метод множителей для $ x^{n} $, где $ n \\geq 30 $, для 2-3 значений $ n $ (значения $ n $ выбирается студентом самостоятельно). Сравнить количество операций для каждого метода, сделать выводы.\n",
    "\n",
    "2. Реализовать алгоритм Брауэра (для нечётных вариантов) или алгоритм Яо (для чётных вариантов) для вычисления приближённых аддитивных цепочек для различных чисел при варьировании параметра $ k $, сопоставить длины полученных аддитивных цепочек с минимальной аддитивной цепочкой для заданного числа. Сделать выводы.\n",
    "\n",
    "3. Реализовать алгоритм дробления вектора индексов для нахождения минимальной звёздной цепочки для заданного числа. Протестировать алгоритм при $ n > 500 $. Указать, сколько времени потребовалось на поиск цепочки и какая цепочка получилась. Сравнить с предыдущими методами, сделать выводы.\n",
    "\n",
    "4. Проверить теорему Брауэра для $ n=1...200 $ путём построения функции $ l(n) $ и аппроксимирующей кривой, полученной с помощью метода наименьших квадратов. Сопоставить функции на одном графике, сделать выводы.\n",
    "5. Проверить гипотезу Шольца–Брауэра для $ 1<n\\leq10 $ на алгоритме дробления вектора индексов. Сделать выводы.\n",
    "\n",
    "\n",
    "\n",
    "\n",
    "\n",
    "## Выполнение работы\n",
    "\n",
    "1) Бинарный метод и метод множителей\n"
   ]
  },
  {
   "cell_type": "code",
   "execution_count": 2,
   "metadata": {},
   "outputs": [
    {
     "name": "stdout",
     "output_type": "stream",
     "text": [
      "1\n",
      "3\n",
      "1\n",
      "Количество операций: 2\n"
     ]
    }
   ],
   "source": [
    "def bin_method(x, y, count=-2):\n",
    "    if y == 0:\n",
    "        return [1, count]\n",
    "    if y == -1:\n",
    "        return [1. / x, count]\n",
    "    count += 1\n",
    "    p, count = bin_method(x, y // 2, count)\n",
    "    p *= p\n",
    "    if y % 2:\n",
    "        p *= x\n",
    "        count += 1\n",
    "    return [p, count]\n",
    "\n",
    "\n",
    "res = bin_method(int(input()), int(input()))\n",
    "print(f'{res[0]}\\nКоличество операций: {res[1]}')"
   ]
  },
  {
   "cell_type": "markdown",
   "metadata": {},
   "source": []
  },
  {
   "cell_type": "code",
   "execution_count": 3,
   "metadata": {},
   "outputs": [
    {
     "name": "stdout",
     "output_type": "stream",
     "text": [
      "2\n",
      "3\n",
      "8\n",
      "Количество операций: 2\n"
     ]
    }
   ],
   "source": [
    "def decompose(n):\n",
    "    res = []\n",
    "    d = 2\n",
    "    while 1:\n",
    "        if n % d == 0:\n",
    "            res.append(d)\n",
    "            res.append(n // d)\n",
    "            break\n",
    "        else:\n",
    "            d += 1\n",
    "    return res\n",
    "\n",
    "\n",
    "def multi_method(x, y):\n",
    "    factors_n = decompose(y)\n",
    "    rs = x\n",
    "    for el in factors_n:\n",
    "        rs = bin_method(rs, el)[0]\n",
    "    return rs\n",
    "\n",
    "\n",
    "def oper_count(n):\n",
    "    factors_n = decompose(n)\n",
    "    res = (len(list(bin(factors_n[0]))[2:]) + list(bin(factors_n[0]))[2:].count('1') - 2) + \\\n",
    "        len(list(bin(factors_n[1]))[2:]) + list(bin(factors_n[1]))[2:].count('1') - 2\n",
    "    return res\n",
    "\n",
    "x, y = int(input()), int(input())\n",
    "res = multi_method(x, y)\n",
    "print(f'{res}\\nКоличество операций: {oper_count(y)}')"
   ]
  },
  {
   "cell_type": "markdown",
   "metadata": {},
   "source": [
    "Сравнение методов:"
   ]
  },
  {
   "cell_type": "code",
   "execution_count": 4,
   "metadata": {
    "pycharm": {
     "name": "#%%\n"
    }
   },
   "outputs": [
    {
     "name": "stdout",
     "output_type": "stream",
     "text": [
      "Бинарный метод: 5^12 = 244140625 Количество операций: 4\n",
      "Метод множителей: 5^12 = 244140625 Количество операций: 4\n",
      "Бинарный метод: 4^25 = 1125899906842624 Количество операций: 6\n",
      "Метод множителей: 4^25 = 1125899906842624 Количество операций: 6\n"
     ]
    }
   ],
   "source": [
    "print(f'Бинарный метод: 5^12 = {bin_method(5, 12)[0]} Количество операций: {bin_method(5, 12)[1]}\\n'\n",
    "      f'Метод множителей: 5^12 = {multi_method(5, 12)} Количество операций: {oper_count(12)}')\n",
    "print(f'Бинарный метод: 4^25 = {bin_method(4, 25)[0]} Количество операций: {bin_method(4, 25)[1]}\\n'\n",
    "      f'Метод множителей: 4^25 = {multi_method(4, 25)} Количество операций: {oper_count(25)}')"
   ]
  },
  {
   "cell_type": "markdown",
   "metadata": {
    "pycharm": {
     "name": "#%% md\n"
    }
   },
   "source": [
    "Проведём несколько тестов и сравним результаты.\n",
    "\n",
    "x = 2\n",
    "\n",
    "| n | Бинарый метод | Метод множителей |\n",
    "|:-:|:-:|:-:|\n",
    "| 24 | 5 | 5 |\n",
    "| 88 | 8 | 8 |\n",
    "| 125 | 11 | 9 |\n",
    "\n",
    "\n",
    "Из полученных данных можно сделать вывод, что методам требуется схожее количество операций, но в некоторых случаях методу множителей необходимо меньшее количество операций, чем бинарному методу.\n",
    "\n",
    "\n",
    "\n",
    "2) Алгоритм Яо\n"
   ]
  },
  {
   "cell_type": "code",
   "execution_count": 5,
   "metadata": {},
   "outputs": [
    {
     "name": "stdout",
     "output_type": "stream",
     "text": [
      "2\n",
      "2\n",
      "Аддитивная цепочка: [1, 2]\n",
      "Длина аддитивной цепочки: 2\n"
     ]
    }
   ],
   "source": [
    "def d(z, a, k):\n",
    "    res = 0\n",
    "    for i in range(0, len(a)):\n",
    "        if z == a[i]:\n",
    "            res += 2 ** (i * k)\n",
    "    return res\n",
    "\n",
    "\n",
    "def bin_vec(n):\n",
    "    b = list(bin(n)[3:])\n",
    "    vector = []\n",
    "    n = 1\n",
    "    vector.append(n)\n",
    "    for i in b:\n",
    "        if int(i) == 1:\n",
    "            n *= 2\n",
    "            vector.append(n)\n",
    "            n = n + 1\n",
    "        else:\n",
    "            n *= 2\n",
    "        vector.append(n)\n",
    "    return vector\n",
    "\n",
    "\n",
    "def yao(n, k):\n",
    "    a = []\n",
    "    while n:\n",
    "        a.append(n % (2 ** k))\n",
    "        n = n // (2 ** k)\n",
    "\n",
    "    chain = set()\n",
    "    for i in range(0, len(a)*k):\n",
    "        chain.add(2 ** i)\n",
    "    z = []\n",
    "    for i in range(1, 2**k):\n",
    "        z.append(i)\n",
    "    new_z = []\n",
    "    for i in z:\n",
    "        if d(i, a, k) != 0:\n",
    "            new_z.append(i)\n",
    "    z = new_z\n",
    "    tmp = 0\n",
    "    for i in z:\n",
    "        vector = bin_vec(i)\n",
    "        tmp += i * d(i, a, k)\n",
    "        for j in vector:\n",
    "            chain.add(j * d(i, a, k))\n",
    "        chain.add(tmp)\n",
    "    chain = sorted(chain)\n",
    "    return chain\n",
    "\n",
    "\n",
    "n = int(input())\n",
    "k = int(input())\n",
    "chain = yao(n, k)\n",
    "print(f\"Аддитивная цепочка: {str(chain)}\\nДлина аддитивной цепочки: {len(chain)}\")"
   ]
  },
  {
   "cell_type": "markdown",
   "metadata": {},
   "source": [
    "Проведём несколько тестов и сопоставим длины полученных аддитивных цепочек с минимальной аддитивной цепочкой для заданного числа. \n",
    "\n",
    " N              | K              | Цепочка Яо                                                 |Длина цепочки   | Минимальная АЦ\n",
    ":-------------: | :-------------:| :-------------:                                         |:------------:  | :---------------:\n",
    "35              |2               | [1, 2, 3, 4, 8, 16, 32, 35]                                 | 8      |   8\n",
    "35              |3               | [1, 2, 3, 4, 8, 16, 32, 35]                               |8       |   8\n",
    "57             |2               | [1, 2, 4, 8, 9, 16, 32, 48, 57]                          |9      |   9\n",
    "57             |3               | [1, 2, 4, 8, 16, 24, 32, 48, 56, 57]                          |10      |   9\n",
    "61             |2              | [1, 2, 4, 8, 16, 20, 32, 40, 60, 61]                          |10      |   9\n",
    "61             |3               | [1, 2, 4, 5, 8, 16, 24, 32, 48, 56, 61]               | 11     | 9\n",
    "147             |2               | [1, 2, 3, 4, 8, 16, 32, 64, 128, 144, 147] | 11     | 10\n",
    "\n",
    "Из полученных данных можно сделать вывод, что алгоритм Яо находит не минимальные аддитивные цепочки, но близкие к ним.\n",
    "\n",
    "3) Алгоритм дробления вектора индексов для нахождения минимальной звёздной цепочки для заданного числа\n"
   ]
  },
  {
   "cell_type": "code",
   "execution_count": 1,
   "metadata": {
    "scrolled": true
   },
   "outputs": [
    {
     "name": "stdout",
     "output_type": "stream",
     "text": [
      "4\n",
      "Звёздная цепочка: [1, 2, 4]\n",
      "Время работы: 1.2568271160125732с\n"
     ]
    }
   ],
   "source": [
    "import math\n",
    "import time\n",
    "\n",
    "def vector_left(vector, q):\n",
    "    for i in range(q, 1, -1):\n",
    "        if vector[i - 1] > 1:\n",
    "            vector[i - 1] -= 1\n",
    "            break\n",
    "        if vector[i - 1] == 1:\n",
    "            vector[i - 1] = i\n",
    "    return vector\n",
    "\n",
    "\n",
    "def vector_right(vector, q, m):\n",
    "    for i in range(m, q, -1):\n",
    "        if vector[i - 1] > 1:\n",
    "            vector[i - 1] -= 1\n",
    "            break\n",
    "        if vector[i - 1] == 1:\n",
    "            vector[i - 1] = i\n",
    "    return vector\n",
    "\n",
    "\n",
    "def split_vec(n):\n",
    "    start = int(math.log2(n)) + 1\n",
    "    end = len(str(int(bin(n)[2:]))) + bin(n).count('1') - 1\n",
    "    for m in range(start, end + 1):\n",
    "        vector = [i for i in range(1, m)]\n",
    "\n",
    "        q = m // 2 - 1\n",
    "        f = False\n",
    "        while True:\n",
    "            chain = [1]\n",
    "            for j in vector:\n",
    "                chain.append(chain[-1] + chain[j - 1])\n",
    "            if chain[m - 1] == n:\n",
    "                return chain\n",
    "            if len(vector[:q]) == sum(vector[:q]):\n",
    "                f = True\n",
    "            a_min = chain[q] + m - q\n",
    "            a_max = chain[q] * 2 ** (m - q)\n",
    "            if a_min <= n <= a_max:\n",
    "                while True:\n",
    "                    chain = [1]\n",
    "                    vector = vector_right(vector, q, m - 1)\n",
    "                    for j in vector:\n",
    "                        chain.append(chain[-1] + chain[j - 1])\n",
    "                    if chain[m - 1] == n:\n",
    "                        return chain\n",
    "\n",
    "                    if len(vector[q:]) == sum(vector[q:]):\n",
    "                        break\n",
    "                vector = vector_left(vector, q)\n",
    "            else:\n",
    "                vector = vector_left(vector, q)\n",
    "            if f:\n",
    "                break\n",
    "    return chain\n",
    "\n",
    "begin = time.time()\n",
    "rs = split_vec(int(input()))\n",
    "print(f'Звёздная цепочка: {str(rs)}\\nВремя работы: {str(time.time() - begin)}с')\n"
   ]
  },
  {
   "cell_type": "markdown",
   "metadata": {},
   "source": [
    "## Проведём тестирование алгоритма при $ n \\geqslant 500 $.\n",
    "\n",
    " N              |  Время        | Звёздная цепочка                                             | Длина ЗЦ | Минимальная АЦ  \n",
    ":-------------: | :------------:| :-------:                                                    | :-------:| :-------:\n",
    "580             | 10.777832       | [1, 2, 4, 8, 16, 32, 64, 128, 256, 512, 576, 580]          |  12      |  11\n",
    "721             | 87.536152       | [1, 2, 4, 8, 16, 32, 64, 128, 144, 288, 576, 720, 721]     |  13      |  12\n",
    "805             | 86.22303       | [1, 2, 4, 8, 16, 32, 64, 128, 160, 161, 322, 644, 805]     |  13      |  12\n",
    "\n",
    "Из полученных данных можно сделать вывод, что алгоритм дробления вектора индексов требует больше времени, чем другие методы, однако достаточно точно находит минимальную аддитивную цепочку.\n",
    "\n",
    "4) Проверим следствие теоремы Брауэра. \n"
   ]
  },
  {
   "cell_type": "code",
   "execution_count": 8,
   "metadata": {},
   "outputs": [
    {
     "data": {
      "image/png": "[encoded data removed]",
      "text/plain": [
       "<Figure size 432x288 with 1 Axes>"
      ]
     },
     "metadata": {
      "needs_background": "light"
     },
     "output_type": "display_data"
    }
   ],
   "source": [
    "from matplotlib.pylab import scatter, plot, show\n",
    "\n",
    "\n",
    "def brauer_graph():\n",
    "    chain_lens = [len(split_vec(i)) for i in range(1, 201)]\n",
    "    lnx = [math.log2(i) for i in range(1, 201)]\n",
    "    sum_lnx2 = [(math.log2(i)) ** 2 for i in range(1, 201)]\n",
    "    sum_y = [chain_lens[i - 1] for i in range(1, 201)]\n",
    "    sum_lnx_y = [chain_lens[i - 1] * math.log2(i) for i in range(1, 201)]\n",
    "    sum_lnx = sum(lnx)\n",
    "    sum_lnx2 = sum(sum_lnx2)\n",
    "    sum_y = sum(sum_y)\n",
    "    sum_lnx_y = sum(sum_lnx_y)\n",
    "\n",
    "    a = (200 * sum_lnx_y - sum_lnx * sum_y) / (200 * sum_lnx2 - sum_lnx ** 2)\n",
    "    b = (sum_y - a * sum_lnx) / 200\n",
    "    x = [i for i in range(1, 201)]\n",
    "    y = [b + a * lnx[i - 1] for i in range(1, 201)]\n",
    "\n",
    "    scatter(x, chain_lens, color='red', marker='.')\n",
    "    plot(x, y)\n",
    "    show()\n",
    "\n",
    "\n",
    "brauer_graph()"
   ]
  },
  {
   "cell_type": "markdown",
   "metadata": {},
   "source": [
    "Из графика видно, что функция аппроксимируется логарифмической функцией. Это потверждает следствие из теоремы Брауэра. \n",
    "\n",
    "\n",
    "5) Проверим теорему Шольца–Брауэра\n",
    "\n",
    "Проверим гипотезу Шольца-Брауэра для $ 1<n\\leq10 $"
   ]
  },
  {
   "cell_type": "code",
   "execution_count": null,
   "metadata": {
    "pycharm": {
     "name": "#%%\n"
    }
   },
   "outputs": [
    {
     "name": "stdout",
     "output_type": "stream",
     "text": [
      "n = 2 l(2^n - 1) = 3 l(n) + n - 1 = 3\n",
      "n = 3 l(2^n - 1) = 5 l(n) + n - 1 = 5\n",
      "n = 4 l(2^n - 1) = 6 l(n) + n - 1 = 6\n",
      "n = 5 l(2^n - 1) = 8 l(n) + n - 1 = 8\n",
      "n = 6 l(2^n - 1) = 9 l(n) + n - 1 = 9\n",
      "n = 7 l(2^n - 1) = 11 l(n) + n - 1 = 11\n",
      "n = 8 l(2^n - 1) = 11 l(n) + n - 1 = 11\n",
      "n = 9 l(2^n - 1) = 13 l(n) + n - 1 = 13\n"
     ]
    }
   ],
   "source": [
    "for n in range(2, 11):\n",
    "    print(f\"n = {n} l(2^n - 1) = {len(split_vec(2**n - 1))} l(n) + n - 1 = {len(split_vec(n)) + n - 1}\")"
   ]
  },
  {
   "cell_type": "markdown",
   "metadata": {
    "pycharm": {
     "name": "#%% md\n"
    }
   },
   "source": [
    "Результат проверки запишем в таблицу:\n",
    "\n",
    "| n | l(2^n-1)| l(n)+n-1 |\n",
    "| :-: | :-: | :-: |\n",
    "| 2 | 3 | 3 |\n",
    "| 3 | 5 | 5 |\n",
    "| 4 | 6 | 6 |\n",
    "| 5 | 8 | 8 |\n",
    "| 6 | 9 | 9 |\n",
    "| 7 | 11 | 11 |\n",
    "| 8 | 11 | 11 |\n",
    "| 9 | 13 | 13 |\n",
    "| 10 | 14 | 14 |         \n",
    "\n",
    "   \n",
    "Гипотеза для $ 1<n\\leq10 $ выполняется.\n",
    "  \n",
    "  \n",
    "## Вывод\n",
    "\n",
    "В процессе выполнения лабораторной работы были получены знания о предмете аддитивных цепочек, возможные алгоритмы работы с ними. Также, были реализованы данные алгоритмы для нахождения минимальных и приблизительных аддитивных цепочек. Была изучена зависимость минимальных длин звездных цепочек от числа. Были проверены: первое следствие теоремы Брауэра и гипотеза Шольца-Брауэра для n=1...10.\n",
    "\n",
    "Были реализованы следующие алгоритмы:\n",
    "1. Бинарный метод\n",
    "2. Метод множителей\n",
    "3. Алгоритм Яо\n",
    "4. Алгоритм дробления вектора индекса\n"
   ]
  },
  {
   "cell_type": "code",
   "execution_count": null,
   "metadata": {},
   "outputs": [],
   "source": []
  }
 ],
 "metadata": {
  "kernelspec": {
   "display_name": "Python 3",
   "language": "python",
   "name": "python3"
  },
  "language_info": {
   "codemirror_mode": {
    "name": "ipython",
    "version": 3
   },
   "file_extension": ".py",
   "mimetype": "text/x-python",
   "name": "python",
   "nbconvert_exporter": "python",
   "pygments_lexer": "ipython3",
   "version": "3.9.4"
  }
 },
 "nbformat": 4,
 "nbformat_minor": 4
}