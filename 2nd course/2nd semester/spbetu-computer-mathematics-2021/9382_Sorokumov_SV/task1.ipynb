{
 "cells": [
  {
   "cell_type": "markdown",
   "metadata": {},
   "source": [
    "# Практическая работа №1: Исследование алгоритмов формирования аддитивных цепочек"
   ]
  },
  {
   "cell_type": "markdown",
   "metadata": {},
   "source": [
    "Выполнил студент группы 9382 Сорокумов С. В."
   ]
  },
  {
   "cell_type": "markdown",
   "metadata": {},
   "source": [
    "## Цель работы"
   ]
  },
  {
   "cell_type": "markdown",
   "metadata": {},
   "source": [
    "Формирование представления о аддитивных цепочках, выработать умение составлять и применять алгоритмы для нахождения минимальных аддитивных цепочек для заданного числа, привить навык использования систем компьютерной алгебры для реализации алгоритмов."
   ]
  },
  {
   "cell_type": "markdown",
   "metadata": {},
   "source": [
    "## Основные теоретические положения "
   ]
  },
  {
   "cell_type": "markdown",
   "metadata": {},
   "source": [
    "***Аддитивной цепочкой*** для числа $n$ называется любая начинающаяся с 1 последовательность натуральных чисел $a_0 = 1, a_1,..., a_m = n$, в которой каждое число является суммой каких-то двух предыдущих чисел (возможно совпадающих), то есть для всех $i\\geqslant1$ выполнено равенство $a_i=a_j+a_k,j<i$. Под длиной цепочки $a_0,a_1,...,a_m$ понимается число $m$. Через $l(n)$ обозначим длину кратчайшей аддитивной цепочки для $n$. Аддитивная цепочка называется линейной, если каждый ее элемент равен сумме предыдущего элемента и какого-то еще, длина кратчайшей линейной цепочки обозначается через $l^*(n)$.\n",
    "\n",
    "***Метод Брауэра*** позволяет по заданной линейной цепочке $a_0 = 1, a_1,..., a_m = n$ построить аддитивную цепочку для $2^n-1$ следующим образом.Выписывается последовательность\n",
    "$$1=2^1-1,2^{a_1}-1,..,2^{a_m}-1=2^n-1,$$\n",
    "затем в промежутки между числами вставляются последовательности удвоений. Так, между соседними числами $2^{a_i}-1$ и $2^{a_{i+1}}-1$, где $a_{i+1}=a_i+a_j$, помещается последовательность\n",
    "$$2(2^{a_i}-1),2^2(2^{a_i}-1),...,2^{a_{i+1}-a_i}(2^{a_i}-1)=2^{a_{i+1}}-2^{a_j}.$$\n",
    "Поскольку \n",
    "$$2^{a_{i+1}}-1=(2^{a_{i1}}-2^{a_j})+(2^{a_j}-1),$$\n",
    "итоговая последовательность является линейной аддитивной цепочкой длины $n+m-1$, состоящей из $n-1$ удвоений и $n$ сложений.   \n",
    "По ***теореме Брауэра*** при некотором $k<lb(lb(n))$ справедливо $l(n)<(1 + k^{-1})\\lceil lb n \\rceil + 2^{k-1} - k + 2$. Отсюда вытекает ***следствие 1***, если $k = \\lambda(\\lambda(n)) - 2*\\lambda(\\lambda(\\lambda(n)))$, то $\\lim_{n \\to \\infty} \\frac{l(n)}{\\lambda(n)} = 1$.  \n",
    "По ***гипотезе Шольца-Брауэра***\n",
    "$$l^*(2^n-1) \\leqslant n+l^*(n)-1.$$\n",
    "\n",
    "Пусть $n=[n_{k-1},n_{k-2},...,n_0]$. Используя схему Горнера, можно записать формулу\n",
    "$$n=(...(2n_{k-1}+n_{k-2})2+...+n_1)2+n_0,$$ \n",
    "по которой выписывается универсальная аддитивная цепочка для числа $n$ (вычисления производятся слева направо) $a_0=n_{k-1}=1,a_1=2a_0=2,a_2=a_1+n_{k-2},a_3=2a_2,...,a_{2k-4}=a_{2k-5}+n_1,a_{2k-3}=2a_{2k-4},a_{2k-3}+n_0$. Удалив из построенной цепочки повторяющиеся элементы, получим окончательно цепочку, соответствующую ***бинарному алгоритму*** (перебирающему разряды слева направо).  \n",
    "Чтобы сразу избежать повторений, можно воспользоваться следующим правилом. Удалим из двоичной записи числа п единицу в старшем разряде, перед остальными единицами вставим двойки, а все нули заменим на двойки. В итоге получится слово из символов 1 и 2, в котором единицы означают прибавление 1, а двойки — удвоение.  \n",
    "Длина бинарной аддитивной цепочки для числа $n$ равна $ \\lambda(n)+\\nu(n)-1$. Цепочка\n",
    "строится при помощи $ \\lambda(n)$ удвоений и $\\nu(n)-1$ прочих сложений (в данном случае, прибавлений единицы). Таким образом, построенная на основе данной аддитивная цепочка для числа $2^{n}-1$ имеет длину $n+\\lambda(n)+\\nu(n)-2$, и содержит $ \\lambda(n)+\\nu(n)-1$ сложений.\n",
    "\n",
    "Пусть $n = st$ и построены аддитивные цепочки для $s$ и $t$\n",
    "$$1,a_1,...,a_i=s;   1,b_1,...,b_j=t.$$\n",
    "Тогда для $n$ выписывается аддитивная цепочка\n",
    "$$1,a_1,...,a_i=s,sb_1,sb_2,...,sb_j=n,$$\n",
    "длина которой равна сумме длин аддитивных цепочек для сомножителей. Если для вычисления $s$ и $t$ используются бинарные цепочки, то длина цепочки для $n$ равна $\\lambda(s) + \\lambda(t) + \\nu(s) + \\nu(t) — 2$. При $n$ = 15 метод множителей впервые улучшает результат бинарного метода (с 6 до 5).  \n",
    "Применительно к построению цепочки для $2^n-1$ ***метод множителей*** означает, что в вычислениях используется разложение $$2^n-1=(2^s-1)(2^{s(t-1)}+2^{s(t-2)}+...+2^{s}+1).$$\n",
    "\n",
    "Пусть $k$ положительное целое число, тогда $n$ можно записать в форме:\n",
    "$$\\displaystyle\\sum_{i=0} a_i \\cdot 2^{ik}.$$ \n",
    "Введём функцию $d(z)$ - сумма чисел $2^{ik}\\,\\forall i: a_i=z$. ***Цепочка Яо*** начинается с $1,2,4,8,...,2^{\\lfloor lg n \\rfloor}$, затем для каждого $z \\in \\{1,2,3,...,2^k-1\\}$ считается $d(z)$. Если $d(z)$ ненулевой, то получаем $z*d(z)$ аналогично бинарному алгоритму умножения(только теперь сложение) и записываем промежуточные значения в цепочку. Алгоритм Яо вычисляет аддитивную цепочку для числа $n$, для которой нет гарантии, что она минимальна. В итоге $n = d(1) + 2*d(2) + 3*d(3) + ... + (2^k - 1)d(2^k-1)$, где степень $n$ высчитывается за $lg(n) + (1 + o(1))(lg n)/lglg n$ умножений. \n",
    "\n",
    "***Вектором индексов*** аддитивной цепочки называется последовательность $\\{ r_i \\}_{i=1}^{m}$, где $r_i = {x: 1 \\leq x \\leq i}$, такая то $a_i = a_{i-1} + a_{r_i}, \\, i=2..m$ Наибольшая и наименьшая звездная цепочка, соответственно: \n",
    "$$S_{max}=\\{1, 2, 4, \\dots, 2^m\\} <=> r_{max} = \\{1, 2, 3, \\dots, m\\},$$\n",
    "$$S_{min}=\\{1,2,3,\\dots , m\\} <=> r_{min}=\\{1, 1, 1, \\dots, 1\\}.$$\n",
    "Будем считать, что $r=\\{ r_i \\}_{i=1}^{m}$ больше $\\tilde{r}=\\{ \\tilde{r}_i \\}_{i=1}^{m}$ если $r_1=\\tilde{r}_1; r_2=\\tilde{r}_2; \\dots; r_{i-1}=\\tilde{r}_{i-1};r_i>\\tilde{r}_i$\n",
    "Нахождение минимальной аддитивной цепочки является переборной задачей. Для начала будем каждый вектор индексов разбивать на два: $r=\\{ r_i \\}_{i=1}^{q}$ - фиксированный вектор, $\\rho=\\{ \\rho_j \\}_{j=q+1}^{m}$ - меняющийся вектор. Заметим, что для фиксированного вектора можно вычислить максимальное и минимальное значение аддитивной цепочки:\n",
    "$$a_{max}: \\{ r_i \\}_{i=1}^{q} \\cup \\{ q+1, q+2, \\dots, m \\} =>; a_{max} = a_{q+1} \\cdot 2^{m-q}$$\n",
    "$$a_{min}: \\{ r_i \\}_{i=1}^{q} \\cup \\{ 1, 1, \\dots, 1 \\} => a_{min}=a_{q+1}+m-q.$$\n",
    "***Алгоритм дробления вектора индексов*** будет заключаться в следующем: текущий вектор индексов разбивается по середине на фиксированный и изменющийся. Берётся фиксированная часть, вычисляются $a_{max}$ и $a_{min}$. Если $n \\notin [a_{min}, a_{max}]$, то осуществляется переход к следующему фиксированному вектору(в сторону уменьшения или увеличения). Если $n$ попало в данный промежуток, то осуществляется перебор по меняющемуся вектору. Если для заданной длины не нашлось аддитивной цепочки, то увеличить длину аддитивной цепочки.  \n",
    "Длина аддитивной цепочки $m \\in [\\underline{l}(n), \\overline{l}(n)]$, где $\\underline{l}(n)=\\lceil log_2 n \\rceil,\\, \\overline{l}(n)=\\lambda(n)+\\nu(n)-1$."
   ]
  },
  {
   "cell_type": "markdown",
   "metadata": {},
   "source": [
    "## Постановка задачи"
   ]
  },
  {
   "cell_type": "markdown",
   "metadata": {},
   "source": [
    "Реализовать точные и приближённые алгоритмы нахождения минимальных аддитивных цепочек с использованием системы компьютерной алгебры SageMath, провести анализ алгоритмов. Полученные результаты содержательно проинтерпретировать."
   ]
  },
  {
   "cell_type": "markdown",
   "metadata": {},
   "source": [
    "## Порядок выполнения работы"
   ]
  },
  {
   "cell_type": "markdown",
   "metadata": {},
   "source": [
    "1. Применить бинарный метод и метод множителей для $x^n$, где $n \\geqslant 30$, для 2-3 значений n (значения n выбирается студентом самостоятельно). Сравнить количество операций для каждого метода, сделать выводы.\n",
    "\n",
    "2. Реализовать алгоритм Брауэра (для нечётных вариантов) или алгоритм Яо (для чётных вариантов) для вычисления приближённых аддитивных цепочек для различных чисел при варьировании параметра $k$, сопоставить длины полученных аддитивных цепочек с минимальной аддитивной цепочкой для заданного числа. Сделать выводы.\n",
    "\n",
    "3. Реализовать алгоритм дробления вектора индексов для нахождения минимальной звёздной цепочки для заданного числа. Протестировать алгоритм при $n\\geqslant500$. Указать, сколько времени потребовалось на поиск цепочки и какая цепочка получилась. Сравнить с предыдущими методами, сделать выводы.\n",
    "\n",
    "4. Проверить следствие 1 теоремы Брауэра для $n=1..200$ путём построения функции $l(n)$ и аппроксимирующей кривой, полученной с помощью метода наименьших квадратов. Сопоставить функции на одном графике, сделать выводы.\n",
    "\n",
    "5. Проверить гипотезу Шольца–Брауэра для $1< n\\leqslant 10$ на алгоритме дробления вектора индексов. Сделать выводы.\n",
    "\n",
    "6. Дополнительное необязательное задание: найти и/или предложить модификации алгоритмов и привести описание модификаций. Реализовать модифицированные алгоритмы и сравнить их мощность."
   ]
  },
  {
   "cell_type": "markdown",
   "metadata": {},
   "source": [
    "## Выполнение работы "
   ]
  },
  {
   "cell_type": "markdown",
   "metadata": {},
   "source": [
    "1. ***Бинарный метод и метод множителей***  \n",
    "Для возведения числа в степень бинарным методом и методом множителей были реализованы меотды *binary_m* и *multiplier_m*, соответственно."
   ]
  },
  {
   "cell_type": "code",
   "execution_count": 1,
   "metadata": {},
   "outputs": [
    {
     "name": "stdout",
     "output_type": "stream",
     "text": [
      "Для x= 1 :\n",
      "Степень 10000 | БМ 17 ММ 17\n",
      "Степень 10001 | БМ 18 ММ 18\n",
      "Степень 10002 | БМ 18 ММ 18\n",
      "Степень 10003 | БМ 19 ММ 19\n",
      "Степень 10004 | БМ 18 ММ 18\n",
      "Степень 10005 | БМ 19 ММ 19\n",
      "Степень 10006 | БМ 19 ММ 19\n",
      "Степень 10007 | БМ 20 ММ 20\n",
      "Степень 10008 | БМ 18 ММ 18\n",
      "Степень 10009 | БМ 19 ММ 19\n",
      "Степень 10010 | БМ 19 ММ 19\n",
      "Степень 10011 | БМ 20 ММ 20\n",
      "Степень 10012 | БМ 19 ММ 19\n",
      "Степень 10013 | БМ 20 ММ 20\n",
      "Степень 10014 | БМ 20 ММ 20\n",
      "Степень 10015 | БМ 21 ММ 21\n",
      "Степень 10016 | БМ 17 ММ 17\n",
      "Степень 10017 | БМ 18 ММ 18\n",
      "Степень 10018 | БМ 18 ММ 18\n",
      "Степень 10019 | БМ 19 ММ 19\n",
      "Степень 10020 | БМ 18 ММ 18\n"
     ]
    }
   ],
   "source": [
    "#бинарный алгоритм возведения в степень \n",
    "def binary_m(x, n):\n",
    "    result = 1; num = -1\n",
    "    while n:\n",
    "        if n & 1:\n",
    "            result = result * x\n",
    "            num = num + 1\n",
    "            n = n - 1\n",
    "        else:\n",
    "            x = x * x\n",
    "            num = num + 1\n",
    "            n = n >> 1 \n",
    "    return [result,num]\n",
    "\n",
    "#возведение в степень методом множителей\n",
    "def multiplier_m(x, n):\n",
    "    F = factor(n)\n",
    "    if F[0][0] == n:\n",
    "        res = binary_m(x, n-1)\n",
    "        res[0] = res[0] * x\n",
    "        res[1] = res[1] + 1\n",
    "        return res\n",
    "    a = binary_m(x, F[0][0])\n",
    "    b = binary_m(a[0], n // F[0][0])\n",
    "    return [b[0], a[1] + b[1]]\n",
    "\n",
    "results = []; print_text = []\n",
    "for j in range(1,22,1):\n",
    "    binr = binary_m(1, 10000-1 + j)\n",
    "    mmr = multiplier_m(1, 10000-1 + j)\n",
    "    row = [binr[0], 10000-1+j, binr[1], mmr[1]]\n",
    "    results.append(row)\n",
    "    \n",
    "for row in results:\n",
    "    print_text.append([x for x in row])\n",
    "    \n",
    "print('Для x=', print_text[0][0],':')    \n",
    "for i in range(len(print_text)):\n",
    "    print('Степень', print_text[i][1],'|','БМ', print_text[i][2],'ММ', print_text[i][2])"
   ]
  },
  {
   "cell_type": "markdown",
   "metadata": {},
   "source": [
    "Оба метода были применены к $x=1$, вычисления с большим основанием требует больше времени и ресурсов,так как сложность вычисления степени растет экпоненциально.  \n",
    "Из вычислений видно, что в общем случае бинарный метод уступает методу множителей по операциям. В частности, это сильно заметно для стпеней равных $2^k-1$, где $k \\in N$, однако для степеней $2^k+1$, где $k \\in N$ бинарный метод дает результат лучше, чем метод множителей. Эта закономерность вытекает из опредления методов, так как для получения степени $2^k+1$ надо $k$ раз возвести число в квадрат и потом домножить на исходное."
   ]
  },
  {
   "cell_type": "markdown",
   "metadata": {},
   "source": [
    "2. ***Алгоритм Яо***"
   ]
  },
  {
   "cell_type": "code",
   "execution_count": 2,
   "metadata": {},
   "outputs": [
    {
     "name": "stdout",
     "output_type": "stream",
     "text": [
      "Для n = 700 k = 2 :\n",
      "Аддитивная цепочка:  [1, 2, 4, 8, 16, 32, 64, 128, 256, 512, 320, 640, 20, 40, 60, 700] Длина =  16\n"
     ]
    }
   ],
   "source": [
    "#алгоритм Яо\n",
    "def b_m(x, n):\n",
    "    pow = bin(n)[3:]\n",
    "    chain = [x]; cur_x = x\n",
    "    for bit in pow:\n",
    "        cur_x *= 2\n",
    "        chain.append(cur_x)\n",
    "        if bit == '1':\n",
    "            cur_x += x\n",
    "            chain.append(cur_x)\n",
    "    return chain\n",
    "\n",
    "n=700\n",
    "k=2\n",
    "print('Для n =',n,'k =',k,':')\n",
    "new_chain = [2**i for i in range(int(log(n, 2)) + 1)]\n",
    "div = 2**k; num = 0; m = []\n",
    "while n > 0:\n",
    "    if n % div != 0:\n",
    "        m.append((n % div, num))\n",
    "    num += k\n",
    "    n = n // div\n",
    "m.reverse()\n",
    "sum_of_pows = 0\n",
    "while m:\n",
    "    z = min(m, key=lambda x: x[0])[0]\n",
    "    dz = 0\n",
    "    all_dz = []\n",
    "    for x in m:\n",
    "        if x[0] == z:\n",
    "            dz += new_chain[x[1]]\n",
    "            all_dz.append(dz)\n",
    "    m = list(filter(lambda x: x[0] != z, m))\n",
    "    for el in all_dz:\n",
    "        if el not in new_chain:\n",
    "            new_chain.append(el)\n",
    "    chain = b_m(dz, z)\n",
    "    for el in chain:\n",
    "        if el not in new_chain:\n",
    "            new_chain.append(el)\n",
    "    sum_of_pows = chain[-1] + sum_of_pows\n",
    "    if sum_of_pows not in new_chain:\n",
    "        new_chain.append(sum_of_pows)\n",
    "print(\"Аддитивная цепочка: \", new_chain, 'Длина = ',len(new_chain))"
   ]
  },
  {
   "cell_type": "markdown",
   "metadata": {},
   "source": [
    "Вычислим аддитивные цепочки и их длины для $n=100,150,200,250,300$, варьируя $k=5,50,100,150,200$.  \n",
    "Для $n=100$, аддитивная цепочка $[1, 2, 4, 8, 16, 32, 64, 96, 100]$ с минимальной длинной = 9  \n",
    "Для $n=150$, аддитивная цепочка $[1, 2, 4, 8, 16, 32, 64, 128, 144, 148, 150]$ с минимальной длинной = 11  \n",
    "Для $n=200$, аддитивная цепочка $[1, 2, 4, 8, 16, 32, 64, 128, 192, 200]$ с минимальной длинной = 10  \n",
    "Для $n=250$, аддитивная цепочка $[1, 2, 4, 8, 16, 32, 64, 128, 192, 224, 240, 248, 250]$ с минимальной длинной = 13   \n",
    "Для $n=300$, аддитивная цепочка $[1, 2, 4, 8, 16, 32, 64, 128, 256, 288, 296, 300]$ с минимальной длинной = 12  \n",
    "Вариьируя $k$:\n",
    "\n",
    "| $n$ |$k$| Длина | Аддитивная цепочка |\n",
    "| :-: | :-: | :-: | :-: |\n",
    "| 100 |5| 9 | [1, 2, 4, 8, 16, 32, 64, 96, 100] |\n",
    "| 100 |50| 14 | [1, 2, 4, 8, 16, 32, 64, 3, 6, 12, 24, 25, 50, 100] |\n",
    "| 100 |100| 14 | [1, 2, 4, 8, 16, 32, 64, 3, 6, 12, 24, 25, 50, 100] |\n",
    "| 100 |150| 14 | [1, 2, 4, 8, 16, 32, 64, 3, 6, 12, 24, 25, 50, 100] |\n",
    "| 100 |200| 14 | [1, 2, 4, 8, 16, 32, 64, 3, 6, 12, 24, 25, 50, 100] |\n",
    "| 150 |5| 13 | [1, 2, 4, 8, 16, 32, 64, 128, 5, 10, 11, 22, 150] |\n",
    "| 150 |50| 15 | [1, 2, 4, 8, 16, 32, 64, 128, 9, 18, 36, 37, 74, 75, 150] |\n",
    "| 150 |100| 15 | [1, 2, 4, 8, 16, 32, 64, 128, 9, 18, 36, 37, 74, 75, 150] |\n",
    "| 150 |150| 15 | [1, 2, 4, 8, 16, 32, 64, 128, 9, 18, 36, 37, 74, 75, 150] |\n",
    "| 150 |200| 15 | [1, 2, 4, 8, 16, 32, 64, 128, 9, 18, 36, 37, 74, 75, 150] |\n",
    "| 200 |5| 11 | [1, 2, 4, 8, 16, 32, 64, 128, 96, 192, 200] |\n",
    "| 200 |50| 16 | [1, 2, 4, 8, 16, 32, 64, 128, 3, 6, 12, 24, 25, 50, 100, 200] |\n",
    "| 200 |100| 16 | [1, 2, 4, 8, 16, 32, 64, 128, 3, 6, 12, 24, 25, 50, 100, 200] |\n",
    "| 200 |150| 16 | [1, 2, 4, 8, 16, 32, 64, 128, 3, 6, 12, 24, 25, 50, 100, 200] |\n",
    "| 200 |200| 16 | [1, 2, 4, 8, 16, 32, 64, 128, 3, 6, 12, 24, 25, 50, 100, 200] |\n",
    "| 250 |5| 17 | [1, 2, 4, 8, 16, 32, 64, 128, 96, 192, 224, 3, 6, 12, 13, 26, 250]|\n",
    "| 250 |50| 19 | [1, 2, 4, 8, 16, 32, 64, 128, 3, 6, 7, 14, 15, 30, 31, 62, 124, 125, 250] |\n",
    "| 250 |100| 19 | [1, 2, 4, 8, 16, 32, 64, 128, 3, 6, 7, 14, 15, 30, 31, 62, 124, 125, 250]|\n",
    "| 250 |150| 19 | [1, 2, 4, 8, 16, 32, 64, 128, 3, 6, 7, 14, 15, 30, 31, 62, 124, 125, 250] |\n",
    "| 250 |200| 19 | [1, 2, 4, 8, 16, 32, 64, 128, 3, 6, 7, 14, 15, 30, 31, 62, 124, 125, 250] |\n",
    "| 300 |5| 14 | [1, 2, 4, 8, 16, 32, 64, 128, 256, 288, 3, 6, 12, 300] |\n",
    "| 300 |50| 17 |  [1, 2, 4, 8, 16, 32, 64, 128, 256, 9, 18, 36, 37, 74, 75, 150, 300] |\n",
    "| 300 |100| 17 | [1, 2, 4, 8, 16, 32, 64, 128, 256, 9, 18, 36, 37, 74, 75, 150, 300] |\n",
    "| 300 |150| 17 | [1, 2, 4, 8, 16, 32, 64, 128, 256, 9, 18, 36, 37, 74, 75, 150, 300] |\n",
    "| 300 |200| 17 |  [1, 2, 4, 8, 16, 32, 64, 128, 256, 9, 18, 36, 37, 74, 75, 150, 300] |\n",
    "\n",
    "В ходе эксперимента алгоритм Яо дал минимальную цепочку только для одного занчения $k=5$, при $n=100$, данное сочетанице является минимальным из представленных. Для остальных значений алогритм Яо не выдал цепочку минимальной длины. Также видно, что чем больше параметр $k$, тем больше больше длина цепочи."
   ]
  },
  {
   "cell_type": "markdown",
   "metadata": {},
   "source": [
    "3. ***Алгоритм дробления вектора индексов***"
   ]
  },
  {
   "cell_type": "code",
   "execution_count": 3,
   "metadata": {
    "scrolled": true
   },
   "outputs": [
    {
     "name": "stdout",
     "output_type": "stream",
     "text": [
      "Для n = 560 , аддитивная цепочка: [1, 2, 3, 4, 7, 14, 21, 35, 70, 140, 280, 560] длины 12 , построена за: 30.185349464416504 сек.\n"
     ]
    }
   ],
   "source": [
    "#алгоритм дробления ветора индексов \n",
    "import time\n",
    "\n",
    "#получить цепочку из вектора индекса\n",
    "def build_chain(r_i, ro_i):\n",
    "    q = len(r_i); chain = [1]\n",
    "    for index in r_i:\n",
    "        chain.append(chain[-1] + chain[index - 1])\n",
    "    for index in ro_i:\n",
    "        chain.append(chain[-1] + chain[index - 1])\n",
    "    return chain\n",
    "    \n",
    "def inc_vector(ind_vec, start_index=1):\n",
    "    cur_max_index = start_index + len(ind_vec) - 1\n",
    "    for i in range(1, len(ind_vec) + 1):\n",
    "        ind_vec[-i] += 1\n",
    "        if ind_vec[-i] > cur_max_index:\n",
    "            if i == len(ind_vec):\n",
    "                ind_vec.append(1)\n",
    "                break\n",
    "            ind_vec[-i] = 1; cur_max_index -= 1\n",
    "        else:\n",
    "            break\n",
    "            \n",
    "#разложение ветора индексов        \n",
    "def decomposition_vector(n):\n",
    "    m = int(log(n, 2))\n",
    "    up_border = m + bin(n).count('1') - 1\n",
    "    if m == log(n, 2):\n",
    "        m -= 1\n",
    "    while m <= up_border:\n",
    "        q = int(m/2)\n",
    "        if q == 0:\n",
    "            q = 1\n",
    "        r_i = [1 for i in range(q)]\n",
    "        while len(r_i) == q:\n",
    "            ro_i = [1 for i in range(m - q)]\n",
    "            chain = build_chain(r_i, ro_i)\n",
    "            if chain[-1] == n:\n",
    "                return chain\n",
    "            a_max = chain[q] * 2 ** (m - q)\n",
    "            a_min = chain[q] + m - q\n",
    "            if n < a_min or n > a_max:\n",
    "                inc_vector(r_i)\n",
    "                continue\n",
    "            while len(ro_i) == m - q:\n",
    "                chain = build_chain(r_i, ro_i)\n",
    "                if chain[-1] == n:\n",
    "                    return chain\n",
    "                inc_vector(ro_i, q + 1)\n",
    "            inc_vector(r_i)\n",
    "        m += 1\n",
    "\n",
    "n = 560\n",
    "start = time.time()\n",
    "chain = decomposition_vector(n)\n",
    "end = time.time()\n",
    "print('Для n =',n,',',\"аддитивная цепочка:\", chain, 'длины',len(chain),',', 'построена за:',end - start,'сек.')"
   ]
  },
  {
   "cell_type": "markdown",
   "metadata": {},
   "source": [
    "Реализуем алгоритм для $n=515,560,600,650,700$, для удобства сведем вычисления в таблицу:\n",
    "\n",
    "| $n$ | Длина | Время построения | Аддитивная цепочка |\n",
    "| :-: | :---: | :--------------: | :----------------: |\n",
    "| 515 | 12 | 51.20807337760925 сек. | [1, 2, 3, 4, 8, 16, 32, 64, 128, 256, 259, 515] |\n",
    "| 560 | 12 | 31.148478984832764 сек. | [[1, 2, 3, 4, 7, 14, 21, 35, 70, 140, 280, 560] |\n",
    "| 600 | 12 | 58.375125885009766 сек. | [1, 2, 3, 5, 10, 15, 25, 50, 75, 150, 300, 600] |\n",
    "| 650 | 12 | 40.19836068153381 сек. | [1, 2, 3, 5, 10, 20, 40, 80, 160, 165, 325, 650] |\n",
    "| 700 | 13 | 553.3667521476746 сек. | [1, 2, 3, 4, 7, 14, 21, 35, 70, 105, 175, 350, 700] |\n",
    "\n",
    "Также приведем сравнение длинн аддитивных цепочк, полученных разными алгоритмами:\n",
    "\n",
    "| $n$ | Бинарный метода | Метом множителей | Алгоритм Яо $(k=2)$ | Алгоритм дробления вектора индексов |\n",
    "| :-: | :-------------------------: | :----------: | :------------: | :--------------: |\n",
    "| 515 |           11                |     12       |      12        |       12         |\n",
    "| 560 |           11                |     11       |      12        |       12         |\n",
    "| 600 |           12                |     11       |      14        |       12         |\n",
    "| 650 |           12                |     12       |      14        |       12         |\n",
    "| 700 |           14                |     12       |      16        |       13         |\n",
    "\n",
    "Из второй таблицы видно, что для выбранных значений наименьшую длину аддитивных цепочек показывает метод множителей и алгоритм дробления вектора индексов. Цепочки наибольшей длинны получаются с использованием алгоритма Яо, бинарный метод, как и было сказано ранее при увеличении $n$ имеет тенденцию к увеличению длинны цепочки. Как итог, алгоритм дробления вектора индексов хорош для вычислений заранее, однако если требуется находить аддитивную цепочку быстро, но не не минимальное ее представление, лучше выбрать другой алгоритм, например, алгоритм Яо или метод множителей.\n"
   ]
  },
  {
   "cell_type": "markdown",
   "metadata": {},
   "source": [
    "***4. Проверка следствия 1 теоремы Брауэра***"
   ]
  },
  {
   "cell_type": "code",
   "execution_count": 4,
   "metadata": {
    "scrolled": true
   },
   "outputs": [
    {
     "data": {
      "image/png": "[encoded data removed]",
      "text/plain": [
       "<Figure size 432x288 with 1 Axes>"
      ]
     },
     "metadata": {
      "needs_background": "light"
     },
     "output_type": "display_data"
    }
   ],
   "source": [
    "#Проверка следствия 1 теоремы Брауэра\n",
    "import matplotlib.pyplot as plt\n",
    "import numpy as np\n",
    "from scipy.optimize import leastsq\n",
    "\n",
    "def len_chains(n):\n",
    "    lens = [0]\n",
    "    for i in range(2, n + 1):\n",
    "        q = factor(i)[0][0]\n",
    "        if n in [23, 43, 59, 77, 83, 107, 149, 163, 165, 179, 203]:\n",
    "            s = 1\n",
    "        else:\n",
    "            s = 0\n",
    "        if q == i:\n",
    "            lens.append(lens[-1] + 1 - s)\n",
    "        else:\n",
    "            lens.append(min(lens[-1] + 1, lens[q - 1] + lens[i/q - 1]) - s)\n",
    "    return [i + 1 for i in range(i)], [i + 1 for i in lens]\n",
    "\n",
    "def plot_app(x, y):\n",
    "    m = matrix([[sum([float((log(i))**2) for i in x]), sum([float(log(i)) for i in x])], [sum([float(log(i)) for i in x]), len(x)]])\n",
    "    vec = vector([sum([float(y[i] * log(x[i])) for i in range(len(x))]), sum(y)])\n",
    "    solution = m.solve_right(vec)\n",
    "    plt.plot(x, [solution[0] * log(i) + solution[1] for i in x],color='black',linewidth=5)\n",
    "    plt.scatter(ns, lens, color='blue', marker='o',s=50)\n",
    "\n",
    "ns, lens = len_chains(200)\n",
    "plot_app(ns, lens)"
   ]
  },
  {
   "cell_type": "markdown",
   "metadata": {},
   "source": [
    "Для $n=1...200$ полученный график схож с графиком логарифма. Эта аппроксимация подтверждает теорему Брауэра. С увеличением $n$ ввиду логарифмического роста длина $l(n)$ будет не так сильно увеличиваться. Поэтому $l(n)$ и $\\lambda(n)$ будут эквивалентны на бесконечности."
   ]
  },
  {
   "cell_type": "markdown",
   "metadata": {},
   "source": [
    "***5. Гипотеза Шольца-Брауэра***"
   ]
  },
  {
   "cell_type": "code",
   "execution_count": 5,
   "metadata": {
    "scrolled": false
   },
   "outputs": [
    {
     "name": "stdout",
     "output_type": "stream",
     "text": [
      "Для n= 2 | l^*(2^n-1) : 3 | l^*(n) + n - 1 : 3\n",
      "Для n= 3 | l^*(2^n-1) : 5 | l^*(n) + n - 1 : 5\n",
      "Для n= 4 | l^*(2^n-1) : 6 | l^*(n) + n - 1 : 6\n",
      "Для n= 5 | l^*(2^n-1) : 8 | l^*(n) + n - 1 : 8\n",
      "Для n= 6 | l^*(2^n-1) : 9 | l^*(n) + n - 1 : 9\n",
      "Для n= 7 | l^*(2^n-1) : 11 | l^*(n) + n - 1 : 11\n",
      "Для n= 8 | l^*(2^n-1) : 11 | l^*(n) + n - 1 : 11\n",
      "Для n= 9 | l^*(2^n-1) : 13 | l^*(n) + n - 1 : 13\n",
      "Для n= 10 | l^*(2^n-1) : 14 | l^*(n) + n - 1 : 14\n"
     ]
    }
   ],
   "source": [
    "#проверка гипотезы Штольца-Брауэра\n",
    "for n in range(2, 11):\n",
    "    x = len(decomposition_vector(2 ** n -  1))\n",
    "    y = len(decomposition_vector(n)) + n - 1\n",
    "    print('Для n=',n,'|','l^*(2^n-1)',':',x,'|','l^*(n) + n - 1',':',y)"
   ]
  },
  {
   "cell_type": "markdown",
   "metadata": {},
   "source": [
    "Сведем результаты проверки гипотезы Штольца-Брауэра на алгоритме дробления вектора идексов в таблицу:\n",
    "\n",
    "| $n$ | $l^*(2^n-1)$ | $l^*(n) + n - 1$ |\n",
    "| :-: | :-: | :-: |\n",
    "| 2 | 3 | 3 |\n",
    "| 3 | 5 | 5 |\n",
    "| 4 | 6 | 6 |\n",
    "| 5 | 8 | 8 |\n",
    "| 6 | 9 | 9 |\n",
    "| 7 | 11 | 11 |\n",
    "| 8 | 11 | 11 |\n",
    "| 9 | 13 | 13 |\n",
    "| 10 | 14 | 14 |\n",
    "\n",
    "По результатам видно, что гипотеза верна для чисел $n\\leqslant10$. Этой гипотезой имеет смысл пользоваться, если быть уверенным, что расхождение между этими двумя величинами будет невелико, потому что считать минимальную цепочку для чисел $2^{10}$ намного дольше чем для $10$."
   ]
  },
  {
   "cell_type": "markdown",
   "metadata": {},
   "source": [
    "## Выводы"
   ]
  },
  {
   "cell_type": "markdown",
   "metadata": {},
   "source": [
    "В ходе выполнения практической работы было получено представление о аддитивных цепочках.  \n",
    "Было выяснено, что в общем случае бинарный метод хуже, чем меотд множитлей, за исключением чисел $2^k+1,\\,k \\in N$.  \n",
    "Алгоритм Яо по сранению с другими алгоритмами не всегда вычисляет минимальную аддитивную цепочку, но по сравнению с методом дробления вектора индексов работает быстрее в ряде случаев. Алгоритм дробления вектора индексов показывает точную минимальную длину цепочки, но требует больших вычислительных ресурсов, в сравнении с другими рассмторенными алгоритмами."
   ]
  },
  {
   "cell_type": "code",
   "execution_count": null,
   "metadata": {},
   "outputs": [],
   "source": []
  }
 ],
 "metadata": {
  "kernelspec": {
   "display_name": "SageMath 9.0",
   "language": "sage",
   "name": "sagemath"
  },
  "language_info": {
   "codemirror_mode": {
    "name": "ipython",
    "version": 3
   },
   "file_extension": ".py",
   "mimetype": "text/x-python",
   "name": "python",
   "nbconvert_exporter": "python",
   "pygments_lexer": "ipython3",
   "version": "3.8.5"
  }
 },
 "nbformat": 4,
 "nbformat_minor": 4
}
