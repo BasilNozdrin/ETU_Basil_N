{
 "cells": [
  {
   "cell_type": "markdown",
   "metadata": {},
   "source": [
    "## Практическая работа №1: Исследование алгоритмов формирования аддитивных цепочек\n",
    "Выполнил студент гр. 9303 Лойконен Михаил, вариант 9\n",
    "## Цель работы\n",
    "Формирование представления о аддитивных цепочках, выработать умение составлять и применять алгоритмы для нахождения минимальных аддитивных цепочек для заданного числа, привить навык использования систем компьютерной алгебры для реализации алгоритмов.\n",
    "## Основные теоретические сведения\n",
    "#### Бинарный метод\n",
    "Бинарный метод - это один из алгоритмов быстрого возведения числа $x$ в некоторую степень $n\\in \\mathbb{N}$.\n",
    "\n",
    "Алгоритм заключается в следующем: для начала числа $x$ представляется в двоичном виде, после чего из этого двоичного представления удаляется старший бит (единица). Далее в цикле просматриваются биты от старшего к младшему: если бит 0, то текущее число умножается на себя, если бит 1 - то число умножается на себя и на $x$.\n",
    "\n",
    "Количество операций, требуемых для возведения числа $x$ в степень $n$, для данного метода равно $\\lambda(n)+\\nu(n)-1$, где $\\lambda(n)=\\lceil log_2(n) \\rceil$, а $\\nu(n)$ равно количеству единиц в двоичной записи числа $n$.\n",
    "\n",
    "#### Метод множителей\n",
    "Метод множителей это один из алгоритмов быстрого возведения числа $x$ в некоторую степень $n\\in \\mathbb{N}$.\n",
    "\n",
    "Алгоритм заключается в следующем: для начала число $n$ раскладывается на множители ($n=i*j$), где $i$ - минимальный простой делитель числа $n$). Далее при помощи бинарного метода число &x& возводится в степень $i$, после чего полученный результат $x^i=y$ возводится в степень $j$: $y^j={(x^i)}^j=x^{i\\cdot j}=x^n$. Если $n$ - простое число, то алгоритм сначала возводит число $x$ в степень $n-1$, а потом домножает на $x$, получая тем самым $x^n$.\n",
    "\n",
    "#### Аддитивные цепочки\n",
    "Аддитивная цепочка для некоторого числа $n\\in \\mathbb{N}$ - это последовательность натуральных чисел $\\{a_i\\}_{i=0}^m$, где $a_0 = 1$, $a_m = n$, в которой каждый последующий элемент является суммой каких-то двух предшествующих элементов.\n",
    "\n",
    "$a_i = a_j + a_k, \\forall i:1..m, k \\leq j < i$\n",
    "$l(n) = m$\n",
    "\n",
    "Типы шагов в аддитивной цепочке:\n",
    "\n",
    "Шаг $i$ называют удвоением, если $i - 1 = k = j$;\n",
    "\n",
    "Шаг $i$ называют звездным, если $j = i - 1$, $k \\in \\{0, \\dots, i-1\\}$;\n",
    "\n",
    "Шаг $i$ называют малым, если $\\lambda(a_i)=\\lambda(a_{i-1})$\n",
    "\n",
    "Звездная цепочка - это аддитивная цепочка, в которая состоит только из звездных шагов.\n",
    "\n",
    "#### Алгоритм Брауэра\n",
    "Алгоритм Брауера вычисляет n-ую стпенень за $\\lambda(n)+\\frac{(1+o(1))\\lambda(n)}{\\lambda(\\lambda(n))}$ операций.\n",
    "\n",
    "Для некоторых $n, k$ Брауерские цепочки задаются в виде рекурентной формулы:\n",
    "$$B_k(n) =\\begin{cases}1, 2, 3, ..., 2^k-1\\text{, если }n < 2^k \\\\ B_k(q), 2q, 4q, 8q, ..., 2^kq, n,\\text{ если } n \\geqslant 2^k\\ \\text{и } q = \\lfloor\\frac{n}{2^k}\\rfloor \\end{cases}$$\n",
    "\n",
    "#### Алгоритм дробления вектора индексов\n",
    "Алгоритм дробления вектора индексов позволяет найти минимальную звездную цепочку для некоторого числа $n \\in \\mathbb{N}$.\n",
    "\n",
    "Рассмотрим вектор индексов $\\{r_i\\}_{i=1}^q \\cup {\\{{\\rho}_j \\}}_{j=q+1}^m$, где ${\\rho}_j= \\{x: 1 \\leq x \\leq j \\}$, ${\\{r_i\\}}_{i=1}^q$ - фиксированная часть, ${\\{{\\rho}_j\\}}_{j=q+1}^m$ - изменяющаяся часть.\n",
    "\n",
    "Наибольшее значение $a_m$ достигается при векторе индексов ${\\{r_i\\}}_{i=1}^{q} \\cup \\{q+1,q+2,\\dots,m\\}$.\n",
    "\n",
    "Наименьшее значение $a_m$ достигается при векторе индексов ${\\{r_i\\}}_{i=1}^{q}\\cup\\{1,1,\\dots,1\\}$.\n",
    "\n",
    "$a_{max} = a_{q+1} \\cdot {2}^{m-q}$\n",
    "\n",
    "$a_{min} = a_{q+1}+m-q$\n",
    "\n",
    "Алгоритм:\n",
    "\n",
    "1) Во внешнем цикле рассматриваем аддитивные цепочки длины $m$ от значения $\\underline{l}(n)=\\lceil log_2(n) \\rceil$ до $\\bar{l}(n)=\\lambda(n)+\\nu(n)-1$, на каждой итерации выбираем $q$ ($1 \\leq q \\leq m-1$), пусть $q = \\frac{m}{2}$\n",
    "\n",
    "2) Далее перебираем все возможные фиксированные части вектора индексов $\\{r_i\\}_{i=1}^q$ ($q!$ вариантов), для каждой строим соответствующую ей звездную цепочку, находим $a_{max}$ и ${a}_{min}$\n",
    "\n",
    "&emsp; а) Если $a_m = n$ - конец\n",
    "\n",
    "&emsp; б) Если $n \\notin [a_{min},a_{max}]$, то переходим к следующему набору $\\{r_i\\}_{i=1}^q$\n",
    "\n",
    "&emsp; в) Если $n\\in [a_{min},a_{max}]$, то перебираем все возможные изменяющиеся части вектора индексов ${\\left \\{{\\rho}_j \\right \\}}_{ j=q+1}^m$ и находим $a_m$. Если $a_m=n$, то цепочка найдена. Если все возможные изменяющиеся части вектора индексов ${\\{{\\rho}_j\\}}_{j=q+1}^m$ исчерпаны, то переходим к следующему набору $\\{r_i\\}_{i=1}^q$.\n",
    "\n",
    "3) Если все наборы вектора индексов длины $m$ исчерпаны, то увеличиваем $m$ на 1.\n",
    "\n",
    "#### Теорема Брауэра\n",
    "Пусть $k < log_2(log_2(n))$ верно: $l(n) < (1+k^{-1}) * \\lceil log_2(n) \\rceil + 2^{k-1} - k + 2$\n",
    "\n",
    "Тогда $k=\\lambda(\\lambda(n))-2\\lambda(\\lambda(\\lambda(n)))$\n",
    "\n",
    "*Следствие 1:* $\\lim \\limits_{n \\to \\infty} \\frac{l(n)}{\\lambda(n)} = 1$\n",
    "\n",
    "*Следствие 2:* $\\lambda(n)(1+\\frac{1}{\\lambda(\\lambda(n))}+\\frac{o(\\lambda(\\lambda(\\lambda(n))))}{\\lambda(\\lambda(n))^2})$\n",
    "\n",
    "#### Гипотеза Шольца-Брауэра\n",
    "Пусть $l^*(n)$ - длина звёздной цепочки.\n",
    "\n",
    "Тогда для любого $n \\in \\mathbb{N}$ верно: $l^*(2^n-1)\\leq l^*(n)+n-1$\n",
    "\n",
    "## Постановка задачи\n",
    "Реализовать точные и приближённые алгоритмы нахождения минимальных аддитивных цепочек с использованием системы компьютерной алгебры SageMath, провести анализ алгоритмов. Полученные результаты содержательно проинтерпретировать.\n",
    "## Порядок выполнения работы\n",
    "1. Применить бинарный метод и метод множителей для $x^n$, где $n\\geq30$, для 2-3 значений n (значения n выбирается студентом самостоятельно). Сравнить количество операций для каждого метода, сделать выводы.\n",
    "2. Реализовать алгоритм Брауэра (для нечётных вариантов) или алгоритм Яо (для чётных вариантов) для вычисления приближённых аддитивных цепочек для различных чисел при варьировании параметра k, сопоставить длины полученных аддитивных цепочек с минимальной аддитивной цепочкой для заданного числа. Сделать выводы.\n",
    "3. Реализовать алгоритм дробления вектора индексов для нахождения минимальной звёздной цепочки для заданного числа. Протестировать алгоритм при $n>500$. Указать, сколько времени потребовалось на поиск цепочки и какая цепочка получилась. Сравнить с предыдущими методами, сделать выводы.\n",
    "4. Проверить следствие 1 теоремы Брауэра для $n=1..200$ путём построения функции $l(n)$ и аппроксимирующей кривой, полученной с помощью метода наименьших квадратов. Сопоставить функции на одном графике, сделать выводы.\n",
    "5. Проверить гипотезу Шольца–Брауэра для $1<n\\leq10$ на алгоритме дробления вектора индексов. Сделать выводы.\n",
    "6. *Дополнительное необязательное задание*: найти и/или предложить модификации алгоритмов и привести описание модификаций. Реализовать модифицированные алгоритмы и сравнить их мощность."
   ]
  },
  {
   "cell_type": "markdown",
   "metadata": {},
   "source": [
    "## Выполнение работы\n",
    "*1) Бинарный метод и метод множителей*"
   ]
  },
  {
   "cell_type": "code",
   "execution_count": 91,
   "metadata": {},
   "outputs": [],
   "source": [
    "def binMethod(x, n):\n",
    "    res = x\n",
    "    binary = list(bin(n))[3:]\n",
    "    for el in binary:\n",
    "        if (el == '0'):\n",
    "            res *= res\n",
    "        else:\n",
    "            res *= res * x\n",
    "    return res\n",
    "\n",
    "def countOperationsBM(n):\n",
    "    lambda_n = len(list(bin(n))[2:]) - 1\n",
    "    nu_n = list(bin(n))[2:].count('1')\n",
    "    return lambda_n + nu_n - 1"
   ]
  },
  {
   "cell_type": "code",
   "execution_count": 96,
   "metadata": {},
   "outputs": [],
   "source": [
    "def factors(n):\n",
    "    res = []\n",
    "    d = 2\n",
    "    while 1:\n",
    "        if n % d == 0:\n",
    "            res.append(d)\n",
    "            res.append(n // d)\n",
    "            break\n",
    "        else:\n",
    "            d += 1\n",
    "    \n",
    "    return res\n",
    "\n",
    "def multiplierMethod(x, n):\n",
    "    factors_n = factors(n)\n",
    "    res = x\n",
    "    for el in factors_n:\n",
    "        res = binMethod(res, el)\n",
    "    return res\n",
    "\n",
    "def countOperationsMM(n):\n",
    "    factors_n = factors(n)\n",
    "    res = 0\n",
    "    res += countOperationsBM(factors_n[0]) + countOperationsBM(factors_n[1])\n",
    "    return res"
   ]
  },
  {
   "cell_type": "code",
   "execution_count": 122,
   "metadata": {},
   "outputs": [
    {
     "name": "stdout",
     "output_type": "stream",
     "text": [
      "Бинарный метод:\n",
      "2^33 = 8589934592 Число операций: 6\n",
      "\n",
      "Метод множителей:\n",
      "2^33 = 8589934592 Число операций: 7\n",
      "\n",
      "Для x = 1:\n",
      "n = 39 БМ: 8 ММ: 7\n",
      "n = 45 БМ: 8 ММ: 8\n",
      "n = 56 БМ: 7 ММ: 7\n",
      "n = 63 БМ: 10 ММ: 8\n",
      "n = 71 БМ: 9 ММ: 9\n",
      "n = 89 БМ: 9 ММ: 9\n",
      "n = 111 БМ: 11 ММ: 9\n",
      "n = 137 БМ: 9 ММ: 9\n"
     ]
    }
   ],
   "source": [
    "print(\"Бинарный метод:\")\n",
    "print(\"2^33 =\", binMethod(2, 33), \"Число операций:\", countOperationsBM(33))\n",
    "\n",
    "print(\"\\nМетод множителей:\")\n",
    "print(\"2^33 =\", multiplierMethod(2, 33), \"Число операций:\", countOperationsMM(33))\n",
    "\n",
    "print(\"\\nДля x = 1:\")\n",
    "print(\"n =\", 39, \"БМ:\", countOperationsBM(39), \"ММ:\", countOperationsMM(39))\n",
    "print(\"n =\", 45, \"БМ:\", countOperationsBM(45), \"ММ:\", countOperationsMM(45))\n",
    "print(\"n =\", 56, \"БМ:\", countOperationsBM(56), \"ММ:\", countOperationsMM(56))\n",
    "print(\"n =\", 63, \"БМ:\", countOperationsBM(63), \"ММ:\", countOperationsMM(63))\n",
    "print(\"n =\", 71, \"БМ:\", countOperationsBM(71), \"ММ:\", countOperationsMM(71))\n",
    "print(\"n =\", 89, \"БМ:\", countOperationsBM(89), \"ММ:\", countOperationsMM(89))\n",
    "print(\"n =\", 111, \"БМ:\", countOperationsBM(111), \"ММ:\", countOperationsMM(111))\n",
    "print(\"n =\", 137, \"БМ:\", countOperationsBM(137), \"ММ:\", countOperationsMM(137))"
   ]
  },
  {
   "cell_type": "markdown",
   "metadata": {},
   "source": [
    "Сведем результаты в таблицу:\n",
    "\n",
    "| n | Бинарый метод | Метод множителей |\n",
    "|:-:|:-:|:-:|\n",
    "| 39 | 8 | 7 |\n",
    "| 45 | 8 | 8 |\n",
    "| 56 | 7 | 7 |\n",
    "| 63 | 10 | 8 |\n",
    "| 71 | 9 | 9 |\n",
    "| 89 | 9 | 9 |\n",
    "| 111 | 11 | 9 |\n",
    "| 137 | 9 | 9 |\n",
    "\n",
    "Из полученных результатов видно, что метод множитель и бинарный метод в большинстве случаев работают за одинаковое количество операций, но метод множителей иногда работает быстрее."
   ]
  },
  {
   "cell_type": "markdown",
   "metadata": {},
   "source": [
    "*2) Алгоритм Брауэра*"
   ]
  },
  {
   "cell_type": "code",
   "execution_count": 108,
   "metadata": {},
   "outputs": [],
   "source": [
    "def brouwer(n, k, chain):\n",
    "    if n < 2**k:\n",
    "        for el in range(1, 2**k):\n",
    "            if el not in chain:\n",
    "                chain.append(el)\n",
    "    else:\n",
    "        q = n//(2**k)\n",
    "        brouwer(q, k, chain)\n",
    "        for el in range(2, 2**k + 1, 2):\n",
    "            if el*q not in chain:\n",
    "                chain.append(el*q)\n",
    "        if n not in chain:\n",
    "            chain.append(n)\n",
    "    return"
   ]
  },
  {
   "cell_type": "code",
   "execution_count": 17,
   "metadata": {},
   "outputs": [
    {
     "name": "stdout",
     "output_type": "stream",
     "text": [
      "Число: 27182 k: 3 \n",
      "Цепочка: [1, 2, 3, 4, 5, 6, 7, 12, 24, 36, 48, 53, 106, 212, 318, 424, 848, 1696, 2544, 3392, 3397, 6794, 13588, 20382, 27176, 27182] \n",
      "Длина цепочки: 26\n",
      "\n",
      "Число: 27182 k: 4 \n",
      "Цепочка: [1, 2, 3, 4, 5, 6, 7, 8, 9, 10, 11, 12, 13, 14, 15, 24, 36, 48, 60, 72, 84, 96, 106, 212, 424, 636, 848, 1060, 1272, 1484, 1696, 1698, 3396, 6792, 10188, 13584, 16980, 20376, 23772, 27168, 27182] \n",
      "Длина цепочки: 41\n",
      "\n",
      "Число: 27182 k: 5 \n",
      "Цепочка: [1, 2, 3, 4, 5, 6, 7, 8, 9, 10, 11, 12, 13, 14, 15, 16, 17, 18, 19, 20, 21, 22, 23, 24, 25, 26, 27, 28, 29, 30, 31, 52, 104, 156, 208, 260, 312, 364, 416, 468, 520, 572, 624, 676, 728, 780, 832, 849, 1698, 3396, 5094, 6792, 8490, 10188, 11886, 13584, 15282, 16980, 18678, 20376, 22074, 23772, 25470, 27168, 27182] \n",
      "Длина цепочки: 65\n"
     ]
    }
   ],
   "source": [
    "chain = []\n",
    "brouwer(27182, 3, chain)\n",
    "print(\"Число:\", 27182,\"k:\", 3, \"\\nЦепочка:\", chain, \"\\nДлина цепочки:\", len(chain))\n",
    "\n",
    "chain = []\n",
    "brouwer(27182, 4, chain)\n",
    "print(\"\\nЧисло:\", 27182,\"k:\", 4, \"\\nЦепочка:\", chain, \"\\nДлина цепочки:\", len(chain))\n",
    "\n",
    "chain = []\n",
    "brouwer(27182, 5, chain)\n",
    "print(\"\\nЧисло:\", 27182,\"k:\", 5, \"\\nЦепочка:\", chain, \"\\nДлина цепочки:\", len(chain))"
   ]
  },
  {
   "cell_type": "markdown",
   "metadata": {},
   "source": [
    "Проведем тесты для различных значений n и k и сравним их с известными минимальными значенями длин цепочек:\n",
    "\n",
    "| n | k | Цепочка | Длина цепочки | Минимальная длина |\n",
    "|:-:|:-:|:-------:|:-------------:|:-----------------:|\n",
    "| 24 | 2 | [1, 2, 3, 4, 6, 12, 24] | 7 | 6 |\n",
    "| 24 | 3 | [1, 2, 3, 4, 5, 6, 7, 12, 18, 24] | 10 | 6 |\n",
    "| 24 | 4 | [1, 2, 3, 4, 5, 6, 7, 8, 9, 10, 11, 12, 13, 14, 15, 16, 24] | 17 | 6 |\n",
    "| 56 | 2 | [1, 2, 3, 6, 12, 14, 28, 56] | 8 | 8 |\n",
    "| 56 | 3 | [1, 2, 3, 4, 5, 6, 7, 14, 28, 42, 56] | 11 | 8 |\n",
    "| 56 | 4 | [1, 2, 3, 4, 5, 6, 7, 8, 9, 10, 11, 12, 13, 14, 15, 18, 24, 30, 36, 42, 48, 56] | 22 | 8 |\n",
    "| 99 | 2 | [1, 2, 3, 4, 6, 12, 24, 48, 96, 99] | 10 | 9 |\n",
    "| 99 | 3 | [1, 2, 3, 4, 5, 6, 7, 8, 12, 24, 48, 72, 96, 99] | 14 | 9 |\n",
    "| 99 | 4 | [1, 2, 3, 4, 5, 6, 7, 8, 9, 10, 11, 12, 13, 14, 15, 24, 36, 48, 60, 72, 84, 96, 99] | 23 | 9 |\n",
    "\n",
    "Как можно увидеть, при меньшем значении k длина цепочки получалась наиболее близкой к наименьшей."
   ]
  },
  {
   "cell_type": "markdown",
   "metadata": {},
   "source": [
    "*3) Алгоритм дробления вектора индексов*"
   ]
  },
  {
   "cell_type": "code",
   "execution_count": 58,
   "metadata": {},
   "outputs": [],
   "source": [
    "def getStarChain(vector):\n",
    "    star_chain = [1]\n",
    "    for i in range(1, len(vector) + 1):\n",
    "        star_chain.append(star_chain[i-1] + star_chain[vector[i-1] - 1])\n",
    "    return star_chain\n",
    "\n",
    "def getNextVectorR(vector, q):\n",
    "    for i in range(q - 1, -1, -1):\n",
    "        if vector[i] > 1:\n",
    "            vector[i] -= 1\n",
    "            break\n",
    "        vector[i] = i + 1\n",
    "    return vector\n",
    "\n",
    "def getNextVectorRo(vector, q):\n",
    "    for i in range(len(vector) - 1, q - 1, -1):\n",
    "        if vector[i] > 1:\n",
    "            vector[i] -= 1\n",
    "            break\n",
    "        vector[i] = i + 1\n",
    "    return vector\n",
    "\n",
    "def splittingIndexVector(n):\n",
    "    for m in range(int(math.log2(n)) + 1, len(bin(n)) + bin(n).count('1') - 2):\n",
    "        vector = list(i for i in range(1, m))\n",
    "        q = m // 2\n",
    "        flag1 = true\n",
    "        while flag1:\n",
    "            if sum(vector[0:q]) == q:\n",
    "                flag1 = false\n",
    "            star_chain = getStarChain(vector)\n",
    "            if star_chain[-1] == n:\n",
    "                return star_chain\n",
    "            a_min = star_chain[q] + m - q\n",
    "            a_max = star_chain[q] * (2**(m - q))\n",
    "            if n not in range(a_min, a_max + 1):\n",
    "                vector = getNextVectorR(vector, q)\n",
    "            else:\n",
    "                flag2 = true\n",
    "                while flag2:\n",
    "                    vector = getNextVectorRo(vector, q)\n",
    "                    if sum(vector[q:]) == m - q - 1:\n",
    "                        flag2 = false\n",
    "                    star_chain = getStarChain(vector)\n",
    "                    if star_chain[-1] == n:\n",
    "                        return star_chain\n",
    "                vector = getNextVectorR(vector, q)\n",
    "    return star_chain"
   ]
  },
  {
   "cell_type": "markdown",
   "metadata": {},
   "source": [
    "Проведем тесты алгоритма ДВИ при $n > 500$ и сравним полученные результаты с результатами работы алгоритма Брауэра (при $k=3$). "
   ]
  },
  {
   "cell_type": "code",
   "execution_count": 109,
   "metadata": {
    "scrolled": false
   },
   "outputs": [
    {
     "name": "stdout",
     "output_type": "stream",
     "text": [
      "\n",
      "Алгоритм дробления вектора индексов\n",
      "n = 501\n",
      "CPU times: user 10min 27s, sys: 31 ms, total: 10min 27s\n",
      "Wall time: 10min 30s\n",
      "Цепочка: [1, 2, 4, 8, 16, 32, 64, 96, 100, 200, 400, 500, 501]\n",
      "Длина цепочки: 13\n",
      "\n",
      "Алгоритм Брауэра\n",
      "n = 501\n",
      "CPU times: user 0 ns, sys: 0 ns, total: 0 ns\n",
      "Wall time: 139 µs\n",
      "Цепочка: [1, 2, 3, 4, 7, 14, 28, 31, 62, 124, 125, 250, 500, 501]\n",
      "Длина цепочки: 14\n",
      "\n",
      "Алгоритм дробления вектора индексов\n",
      "n = 524\n",
      "CPU times: user 43.4 s, sys: 0 ns, total: 43.4 s\n",
      "Wall time: 43.4 s\n",
      "Цепочка: [1, 2, 4, 8, 16, 32, 64, 128, 256, 512, 520, 524]\n",
      "Длина цепочки: 12\n",
      "\n",
      "Алгоритм Брауэра\n",
      "n = 524\n",
      "CPU times: user 0 ns, sys: 0 ns, total: 0 ns\n",
      "Wall time: 34.8 µs\n",
      "Цепочка: [1, 2, 3, 4, 8, 16, 32, 64, 128, 131, 262, 524]\n",
      "Длина цепочки: 12\n",
      "\n",
      "Алгоритм дробления вектора индексов\n",
      "n = 571\n",
      "CPU times: user 11min 1s, sys: 0 ns, total: 11min 1s\n",
      "Wall time: 11min 3s\n",
      "Цепочка: [1, 2, 4, 8, 16, 32, 34, 35, 67, 134, 268, 536, 571]\n",
      "Длина цепочки: 13\n",
      "\n",
      "Алгоритм Брауэра\n",
      "n = 571\n",
      "CPU times: user 0 ns, sys: 0 ns, total: 0 ns\n",
      "Wall time: 37.7 µs\n",
      "Цепочка: [1, 2, 3, 4, 8, 16, 32, 35, 70, 140, 142, 284, 568, 571]\n",
      "Длина цепочки: 14\n",
      "\n",
      "Алгоритм дробления вектора индексов\n",
      "n = 638\n",
      "CPU times: user 10min 14s, sys: 47 ms, total: 10min 14s\n",
      "Wall time: 10min 15s\n",
      "Цепочка: [1, 2, 4, 8, 16, 32, 48, 50, 98, 196, 392, 588, 638]\n",
      "Длина цепочки: 13\n",
      "\n",
      "Алгоритм Брауэра\n",
      "n = 638\n",
      "CPU times: user 0 ns, sys: 0 ns, total: 0 ns\n",
      "Wall time: 41.2 µs\n",
      "Цепочка: [1, 2, 3, 4, 8, 9, 18, 36, 39, 78, 156, 159, 318, 636, 638]\n",
      "Длина цепочки: 15\n"
     ]
    }
   ],
   "source": [
    "values = [501, 524, 571, 638]\n",
    "for el in values:\n",
    "    print(\"\\nАлгоритм дробления вектора индексов\")\n",
    "    print(\"n =\", el)\n",
    "    %time chain1 = splittingIndexVector(el)\n",
    "    print(\"Цепочка:\", chain1)\n",
    "    print(\"Длина цепочки:\", len(chain1))\n",
    "\n",
    "    chain2 = []\n",
    "    print(\"\\nАлгоритм Брауэра\")\n",
    "    print(\"n =\", el)\n",
    "    %time brouwer(el, 2, chain2)\n",
    "    print(\"Цепочка:\", chain2)\n",
    "    print(\"Длина цепочки:\", len(chain2))"
   ]
  },
  {
   "cell_type": "markdown",
   "metadata": {},
   "source": [
    "Сведем полученные данные в таблицу:\n",
    "\n",
    "| n | Цепочка алгоритма Брауэра ($k = 2$) | Длина цепочки | Цепочка алгоритма ДВИ | Длина цепочки | Время работы алгоритма |\n",
    "|:----:|:----:|:----:|:----:|:----:|:----:|\n",
    "| 501 | [1, 2, 3, 4, 7, 14, 28, 31, 62, 124, 125, 250, 500, 501] | 14 | [1, 2, 4, 8, 16, 32, 64, 96, 100, 200, 400, 500, 501] | 13 | 10 мин. 30 сек.|\n",
    "| 524 | [1, 2, 3, 4, 8, 16, 32, 64, 128, 131, 262, 524] | 12 | [1, 2, 4, 8, 16, 32, 64, 128, 256, 512, 520, 524]| 12 | 43.4 сек.|\n",
    "| 571 | [1, 2, 3, 4, 8, 16, 32, 35, 70, 140, 142, 284, 568, 571] | 14 | [1, 2, 4, 8, 16, 32, 34, 35, 67, 134, 268, 536, 571]| 13 | 11 мин. 3 сек. |\n",
    "| 638 | [1, 2, 3, 4, 8, 9, 18, 36, 39, 78, 156, 159, 318, 636, 638] | 15 | [1, 2, 4, 8, 16, 32, 48, 50, 98, 196, 392, 588, 638] | 13 | 10 мин. 15 сек.|"
   ]
  },
  {
   "cell_type": "markdown",
   "metadata": {},
   "source": [
    "Как можно увидеть, алгоритм дробления вектора индексов тратит гораздо большее время, чем алгоритм Брауэра, но при этом точнее находит минимальную аддитивную цепочку."
   ]
  },
  {
   "cell_type": "markdown",
   "metadata": {},
   "source": [
    "*4) Проверка следствия Брауэра*"
   ]
  },
  {
   "cell_type": "code",
   "execution_count": 110,
   "metadata": {
    "scrolled": false
   },
   "outputs": [],
   "source": [
    "def getValueLn():\n",
    "    l_n = []\n",
    "    for n in range (1, 201):\n",
    "        chain = splittingIndexVector(n)\n",
    "        l_n.append(len(chain))\n",
    "    return l_n\n",
    "\n",
    "l_n = getValueLn()"
   ]
  },
  {
   "cell_type": "code",
   "execution_count": 134,
   "metadata": {},
   "outputs": [
    {
     "data": {
      "image/png": "[encoded data removed]",
      "text/plain": [
       "Graphics object consisting of 2 graphics primitives"
      ]
     },
     "metadata": {},
     "output_type": "display_data"
    }
   ],
   "source": [
    "sum_lnx = 0\n",
    "sum_y = 0\n",
    "sum_lnx_y = 0\n",
    "sum_lnx2 = 0\n",
    "for i in range(1, 201):\n",
    "    sum_lnx += log(i, 2)\n",
    "    sum_lnx2 += (log(i, 2))**2\n",
    "    sum_y += l_n[i-1]\n",
    "    sum_lnx_y += l_n[i-1]*log(i, 2)\n",
    "    \n",
    "a = (200*sum_lnx_y - sum_lnx*sum_y)/(200*sum_lnx2 - sum_lnx**2)\n",
    "b = (sum_y-a*sum_lnx)/200\n",
    "x = [i for i in range(1, 201)]\n",
    "p1 = scatter_plot(list(zip(x, l_n)), edgecolor='red', marker='.', markersize=10)\n",
    "p2 = plot(a*log(k, 2) + b, (k, 1, 200), color='green')\n",
    "show(p1+p2)"
   ]
  },
  {
   "cell_type": "markdown",
   "metadata": {},
   "source": [
    "Из графика видно, что функция $l(n)$ аппроксимируется логарифмом, что и является следствием теоремы Брауэра."
   ]
  },
  {
   "cell_type": "markdown",
   "metadata": {},
   "source": [
    "*5) Проверка гипотезы Шольца–Брауэра*"
   ]
  },
  {
   "cell_type": "markdown",
   "metadata": {},
   "source": [
    "Проверим гипотезу Шольца-Брауэра для $n: 1 < n \\leq 10$ "
   ]
  },
  {
   "cell_type": "code",
   "execution_count": null,
   "metadata": {},
   "outputs": [],
   "source": [
    "for n in range(2, 11):\n",
    "    v1 = len(splittingIndexVector(2**n - 1))\n",
    "    v2 = len(splittingIndexVector(n)) + n - 1\n",
    "    print(\"n =\", n, \"l(2^n - 1) =\", v1, \"l(n) + n - 1 =\", v2)"
   ]
  },
  {
   "cell_type": "markdown",
   "metadata": {},
   "source": [
    "Сведем результаты в таблицу:\n",
    "\n",
    "| $n$ | $l(2^n-1)$ | $l(n)+n-1$ |\n",
    "| :-: | :-: | :-: |\n",
    "| 2 | 3 | 3 |\n",
    "| 3 | 5 | 5 |\n",
    "| 4 | 6 | 6 |\n",
    "| 5 | 8 | 8 |\n",
    "| 6 | 9 | 9 |\n",
    "| 7 | 11 | 11 |\n",
    "| 8 | 11 | 11 |\n",
    "| 9 | 13 | 13 |\n",
    "| 10 | 14 | 14 |\n",
    "\n",
    "Как можно увидеть, для $2 \\leq n \\leq 10$ гипотеза выполняется. Также можно заметить, что значения совпали, следовательно при $2 \\leq n \\leq 10$ для посчета $l(2^n-1)$ можно использовать формулу $l(n)+n-1$, тем самым сэкономив время."
   ]
  },
  {
   "cell_type": "markdown",
   "metadata": {},
   "source": [
    "## Вывод\n",
    "\n",
    "В ходе выполнения практической работы были изучены и реализованы алгоритмы быстрого возведения в степень: бинарный метод и метод множителей. По итогам тестирования было выявлено, что оба алгоритма тратят примерно одинаковое количество операций, но метод множителей иногда показал себя лучше.\n",
    "\n",
    "Также было изучено понятие аддитивной цепочки и изучены алгоритмы их построения - алгоритм Брауэра и алгоритм дробления вектора индексов. Алгоритм Брауэра работает гораздно быстрее, но реже находит минимальную аддитивную цепочку, алгоритм ДВИ работает очень долго, но всегда находит минимальную. Помимо этого, было проверено следствие теоремы Брауэра и гипотеза Штольца-Брауэра."
   ]
  }
 ],
 "metadata": {
  "kernelspec": {
   "display_name": "SageMath 9.2",
   "language": "sage",
   "name": "sagemath"
  },
  "language_info": {
   "codemirror_mode": {
    "name": "ipython",
    "version": 3
   },
   "file_extension": ".py",
   "mimetype": "text/x-python",
   "name": "python",
   "nbconvert_exporter": "python",
   "pygments_lexer": "ipython3",
   "version": "3.7.7"
  }
 },
 "nbformat": 4,
 "nbformat_minor": 4
}
