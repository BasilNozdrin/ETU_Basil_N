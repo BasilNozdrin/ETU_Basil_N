{
 "cells": [
  {
   "cell_type": "markdown",
   "metadata": {},
   "source": [
    "# Практическая работа №1: Исследование алгоритмов формирования аддитивных цепочек\n",
    "\n",
    "Выполнил студент гр. 9303 **Халилов Шохбоз** Вариант №19.\n",
    "\n",
    "## Цель работы\n",
    "\n",
    "&emsp; Формирование представления о аддитивных цепочках, выработать умение составлять и применять алгоритмы для нахождения минимальных аддитивных цепочек для заданного числа, привить навык использования систем компьютерной алгебры для реализации алгоритмов.\n",
    "\n",
    "***\n",
    "## Основные теоретические положения\n",
    "###  Бинарный метод\n",
    "\n",
    "&emsp; **Бинарный метод** - это один из способов быстрого возведения числа в степень $ n \\in N $. Мощность представлена в двоичной системе, старший бит отбрасывается, после чего все биты сканируются, и, \n",
    "$$ \n",
    "f(x) = \\left\\{\\begin{matrix}\n",
    "  x^2 &,  bit = 0 \\\\ \n",
    "  x^2*x_0 & ,bit = 1 \n",
    "\\end{matrix}\\right.\n",
    "$$\n",
    "Количество умножений рассчитывается по следующей формуле: $ \\lambda (n) + \\nu (n) -1 $, где $ \\lambda (n) = \\lceil log_2 n \\rceil, \\nu (n) $ - количество единиц в двоичной системе счисления.\\\n",
    "\n",
    "#### определения:\n",
    "* $ \\lambda (n) $ - длина двоичной записи числа $ n $, уменьшенная на единицу. \n",
    "* $ \\nu (n) $ - это вес Хэмминга (количество ненулевых значений в числовой записи).\n",
    "\n",
    "***\n",
    "###  Метод множителей\n",
    "\n",
    "&emsp; **Метод множителя**-это метод быстрого возведения в степень числа $ x^n $. \n",
    "\n",
    "$$ x^n: \\:\\: n = i*j; \\:\\:$$ где $\\: i$- минимальный простой делитель числа $n$\n",
    "$$x^i = y; \\:\\: y^j = x^n $$\n",
    "Если $ n $ - простое число, то число $ n-1 $ разлагается на множители и, получив результат, умножается на $ x $.\n",
    "***\n",
    "\n",
    "### Аддитивные цепочки\n",
    "\n",
    "&emsp; **Аддитивная цепочка** для $ n \\in N $ - последовательность $ 1 = a_0, ..., a_m = n $ , где  $ a_i = a_j + a_k $ , $    k \\leqslant j \\lt i,  $ , $ \\forall i = 1..m $ .\n",
    "\n",
    "Функция $ l(n) $ - наименьшая длина аддитивной цепочки.\n",
    "\n",
    "Типы шагов:\n",
    "\n",
    "1. Удвоение, если $ j = k = i - 1 $ .\n",
    "\n",
    "2. Звездный, если $ j = i - 1 $ .\n",
    "\n",
    "3. Малый, если $ \\lambda (a_i) = \\lambda (a_{i-1}) $ .\n",
    "\n",
    "Звездная цепочка - аддитивная цепочка, состоящая только из звездных шагов.\n",
    "***\n",
    "\n",
    "### Теорема Брауэра\n",
    "$l(n)  \\lt  (1+k^{-1}) \\cdot \\lceil log_2 n \\rceil + 2^{k-1}-k+2$, при $k  \\lt log_2 log_2 n$\n",
    "***\n",
    "\n",
    "### Алгоритм Брауера\n",
    "&emsp; **Алгоритм Брауера** вычисляет n-ую стпенень за \n",
    "$\\lambda(n)+ \\frac{(1 +\\: o(1))\\:\\lambda(n)} {\\lambda(\\:\\lambda(n))}$ операций.\n",
    "&emsp; Для некоторых  n,  k Брауерские цепочки задаются в виде рекурентной формулы: \n",
    "\n",
    "$$B_k(n) =\\begin{cases}1, 2, 3, ..., 2^k-1\\text{, если }n < 2^k \\\\ B_k(q), 2q, 4q, 8q, ..., 2^kq, n,\\text{ если } n \\geqslant 2^k\\ \\text{и } q = \\lfloor\\frac{n}{2^k}\\rfloor \\end{cases}$$\n",
    "***\n",
    "\n",
    "### Следствие теоремы Брауэра:\n",
    "\n",
    "&emsp; Пусть $k=\\lambda(\\lambda(n))-2\\lambda(\\lambda(\\lambda(n)))$, тогда получаем следствие из теоремы:\n",
    "\n",
    "$$\\lim \\limits_{n \\to \\infty} \\frac{l(n)}{\\lambda(n)}=1$$\n",
    "\n",
    "***\n",
    "\n",
    "### Гипотеза Шольца-Брауэра:\n",
    "$ l(2^n - 1) \\leqslant l(n) + n - 1  $ для $ n \\leqslant 64 $ .\n",
    "***"
   ]
  },
  {
   "cell_type": "markdown",
   "metadata": {},
   "source": [
    "## Постановка задачи\n",
    "&emsp; Реализовать точные и приближённые алгоритмы нахождения минимальных аддитивных цепочек с использованием системы компьютерной алгебры SageMath, провести анализ алгоритмов. Полученные результаты содержательно проинтерпретировать.\n",
    "\n",
    "### Порядок выполнения работы\n",
    "1. Применить бинарный метод и метод множителей для $x^n$, где $n \\geq 30$, для $2-3$ значений $n$ (значения $n$ выбирается студентом самостоятельно). Сравнить количество операций для каждого метода, сделать выводы.\n",
    "2. Реализовать алгоритм Брауэра для вычисления приближённых аддитивных цепочек для различных чисел при варьировании параметра $k$, сопоставить длины полученных аддитивных цепочек с минимальной аддитивной цепочкой для заданного числа. Сделать выводы.\n",
    "3. Реализовать алгоритм дробления вектора индексов для нахождения минимальной звёздной цепочки для заданного числа. Протестировать алгоритм при $n \\geq 500$. Указать, сколько времени потребовалось на поиск цепочки и какая цепочка получилась. Сравнить с предыдущими методами, сделать выводы.\n",
    "4. Проверить следствие 1 теоремы Брауэра для $n = 1..200$ путём построения функции $l(n)$ и аппроксимирующей кривой, полученной с помощью метода наименьших квадратов. Сопоставить функции на одном графике, сделать выводы.\n",
    "5. Проверить гипотезу Шольца–Брауэра для $1 < n \\leq 10$ на алгоритме дробления вектора индексов. Сделать выводы.\n",
    "6. Дополнительное необязательное задание: найти и/или предложить модификации алгоритмов и привести описание модификаций. Реализовать модифицированные алгоритмы и сравнить их мощность.\n",
    "***"
   ]
  },
  {
   "cell_type": "markdown",
   "metadata": {},
   "source": [
    "## Выполнение работы\n",
    "### Реализация бинарного метода"
   ]
  },
  {
   "cell_type": "code",
   "execution_count": 36,
   "metadata": {
    "slideshow": {
     "slide_type": "slide"
    }
   },
   "outputs": [],
   "source": [
    "def BinaryMethod(x, n):\n",
    "    bits = [ int(i) for i in list(bin( n ))[3:]]\n",
    "    tmp = x\n",
    "    for bit in bits:\n",
    "        tmp = tmp**2*x if bit else tmp**2\n",
    "    return tmp\n",
    "\n",
    "BinMethodOperationCount = lambda n: n.bit_length()+bin(n).count('1')-2"
   ]
  },
  {
   "cell_type": "markdown",
   "metadata": {},
   "source": [
    "### Реализация метода множителя"
   ]
  },
  {
   "cell_type": "code",
   "execution_count": 37,
   "metadata": {},
   "outputs": [],
   "source": [
    "def Factorization(n):\n",
    "    d, multipliers = 2, []\n",
    "    while d**2 <= n:\n",
    "        if n % d == 0:\n",
    "            multipliers.append(d)\n",
    "            n //= d\n",
    "        else:\n",
    "            d += 1\n",
    "    if n > 1:\n",
    "        multipliers.append(n)\n",
    "    return multipliers\n",
    "\n",
    "def MultiplierMethod(x, n):\n",
    "    multipliers = Factorization(n)\n",
    "    tmp, operation = x, 0\n",
    "    for mul in multipliers:\n",
    "        operation += BinMethodOperationCount(mul)\n",
    "        tmp = BinaryMethod(tmp, mul)\n",
    "    return operation, tmp"
   ]
  },
  {
   "cell_type": "markdown",
   "metadata": {},
   "source": [
    "#### Проведём несколько тестов и сравним результаты.\n",
    "\n",
    "Таблица с количеством операций для каждого метода для $n=39,\\: 69,\\: 99,\\: 123$"
   ]
  },
  {
   "cell_type": "markdown",
   "metadata": {},
   "source": [
    "\n",
    "№|Значение n | Количество операций БМ | Количество операций ММ |\n",
    ":--------:|:-------------:|:-------------------:|:---------------:\n",
    "1|39 | 8 |7\n",
    "2|69 | 8 |9\n",
    "3|99 | 9 |9\n",
    "4|123|11 |9\n"
   ]
  },
  {
   "cell_type": "markdown",
   "metadata": {},
   "source": [
    "**Вывод** \\\n",
    "  результат тестирования показывает, что метод множителей сравним с бинарным методом по количеству операций, только иногда он лучше.\n",
    "  ***"
   ]
  },
  {
   "cell_type": "markdown",
   "metadata": {},
   "source": [
    "## Реализация алгоритма Брауэра"
   ]
  },
  {
   "cell_type": "code",
   "execution_count": 38,
   "metadata": {},
   "outputs": [],
   "source": [
    "def BrowerAlgorithm(N, K, Bn):\n",
    "    if N < 2**K:\n",
    "        [Bn.append(i) for i in range(1, 2**K)]\n",
    "        return Bn\n",
    "    else:\n",
    "        q = N//(2**K)\n",
    "        BrowerAlgorithm(q, K, Bn)\n",
    "        for _ in range(K):\n",
    "            q*=2\n",
    "            Bn.append(q)\n",
    "        Bn.append(N)\n",
    "    return Bn"
   ]
  },
  {
   "cell_type": "markdown",
   "metadata": {},
   "source": [
    "#### Проведём несколько тестов и сопоставим длины полученных аддитивных цепочек\n",
    "\n",
    "**Число**|**k**|**Цепочка**|**Длина**\n",
    ":-----:|:-----: |:-----|:-----:\n",
    "    654|2|[1, 2, 3, 4, 8, 10, 20, 40, 80, 160, 163, 326, 652, 654]|13\n",
    "715|3|[1, 2, 3, 4, 5, 6, 7, 8, 11, 22, 44, 88, 89, 178, 356, 712, 715]|16\n",
    "787|3|[1, 2, 3, 4, 5, 6, 7, 8, 12, 24, 48, 96, 98, 196, 392, 784, 787]|16\n",
    "725|2|[1, 2, 3, 4, 8, 11, 22, 44, 45, 90, 180, 181, 362, 724, 725]|14\n",
    "852|5|[1, 2, 3, 4, 5, 6, 7, 8, 9, 10, 11, 12, 13, 14, 15, 16, 17, 18, 19, 20, 21, 22, 23, 24, 25, 26, 27, 28, 29, 30, 31, 52, 104, 208, 416, 832, 852]|36\n",
    "898|2|[1, 2, 3, 6, 12, 14, 28, 56, 112, 224, 448, 896, 898]|12\n",
    "608|4|[1, 2, 3, 4, 5, 6, 7, 8, 9, 10, 11, 12, 13, 14, 15, 16, 32, 38, 76, 152, 304, 608]|21\n",
    "54|5|[1, 2, 3, 4, 5, 6, 7, 8, 9, 10, 11, 12, 13, 14, 15, 16, 17, 18, 19, 20, 21, 22, 23, 24, 25, 26, 27, 28, 29, 30, 31, 32, 54]|32\n",
    "775|3|[1, 2, 3, 4, 5, 6, 7, 8, 12, 24, 48, 96, 192, 384, 768, 775]|15\n",
    "178|3|[1, 2, 3, 4, 5, 6, 7, 8, 16, 22, 44, 88, 176, 178]|13"
   ]
  },
  {
   "cell_type": "markdown",
   "metadata": {},
   "source": [
    "#### Выводы по методу Брауэра\n",
    "Минимальная аддитивная цепочка получается при 𝑘 = 𝜆 (𝜆 (𝑛)), иначе результат будет хуже. Увеличение k только ухудшает результат.\n",
    "***"
   ]
  },
  {
   "cell_type": "markdown",
   "metadata": {},
   "source": [
    "## Реализация метода дробления вектора индексов."
   ]
  },
  {
   "cell_type": "code",
   "execution_count": 39,
   "metadata": {
    "tags": []
   },
   "outputs": [],
   "source": [
    "def Decrement(vector, q, m):\n",
    "    for i in range(m, q, -1):        \n",
    "        if vector[i-1] > 1:\n",
    "            vector[i-1] -= 1\n",
    "            return vector\n",
    "        else: \n",
    "            vector[i-1] = i\n",
    "    return vector\n",
    " \n",
    "def getStarChain(vector):\n",
    "    chain = [1]\n",
    "    for i in vector:\n",
    "        chain.append(chain[-1] + chain[i-1]) \n",
    "    return chain\n",
    "\n",
    "def splitting(n):\n",
    "    \n",
    "    for m in range(n.bit_length(), n.bit_length()+bin(n).count('1')):\n",
    "        vector = [i for i in range(1, m)]\n",
    "        q = m // 2 - 1\n",
    "\n",
    "        while True:\n",
    "            chain = getStarChain(vector)\n",
    "            if chain[m-1] == n: \n",
    "                return chain\n",
    "\n",
    "            if n < (chain[q]+m-q) or chain[q]*2**(m-q) < n:\n",
    "                vector = Decrement(vector, 0, q)\n",
    "                if sum(vector[:q]) == abs(q):\n",
    "                    break \n",
    "            \n",
    "            else:\n",
    "                vector = Decrement(vector, q, m-1)\n",
    "                if sum(vector[q:]) == abs(m-q-1):\n",
    "                    break  \n",
    "                        \n",
    "    return chain"
   ]
  },
  {
   "cell_type": "markdown",
   "metadata": {},
   "source": [
    "**Число**|**Длина**|**Время выполнения, сек**|**Аддитивная цепочка**\n",
    ":-----:|:-----:|:-----:|:-----\n",
    "501|13|1.38|[1, 2, 4, 8, 16, 32, 64, 96, 100, 200, 400, 500, 501]\n",
    "523|13|1|[1, 2, 4, 8, 16, 32, 64, 128, 256, 512, 520, 522, 523]\n",
    "761|14|10.4|[1, 2, 4, 8, 16, 32, 64, 128, 160, 168, 296, 592, 760, 761]\n",
    "934|14|9.66|[1, 2, 4, 8, 16, 32, 64, 128, 256, 288, 290, 580, 870, 934]\n",
    "1023|13|20.6|[1, 2, 4, 8, 16, 32, 64, 68, 136, 272, 340, 341, 682, 1023]\n",
    "1252|14|9.47|[1, 2, 4, 8, 16, 32, 64, 128, 256, 384, 416, 832, 1248, 1252]"
   ]
  },
  {
   "cell_type": "markdown",
   "metadata": {},
   "source": [
    "#### Выводы по методу дробления вектора индексов \n",
    "метод дробления вектора индексов всегда дает самую короткую аддитивную цепочку по длине, в отличие от алгоритма Брауэра. Но алгоритм работает намного медленнее.\n",
    "***"
   ]
  },
  {
   "cell_type": "markdown",
   "metadata": {},
   "source": [
    "## Проверка следствия Брауэра."
   ]
  },
  {
   "cell_type": "code",
   "execution_count": 46,
   "metadata": {},
   "outputs": [],
   "source": [
    "import pylab as plt\n",
    "from math import e, log\n",
    "\n",
    "def creat_geraph(n, callback):\n",
    "    \n",
    "    lengths, x, lnx, lnx2 = [],[],[],[]\n",
    "    \n",
    "    for i in range(1, n):\n",
    "        lengths.append(len(callback(i)))\n",
    "        x.append(i)\n",
    "        lnx.append(log(i, e))\n",
    "        lnx2.append(log(i, e)**2) \n",
    "    \n",
    "    power = [lengths[i] * lnx[i] for i in range(n-1)]\n",
    "    \n",
    "    b = (n*sum(power) - sum(lengths)*sum(lnx)) \\\n",
    "    /(n*sum(lnx2) - sum(lnx)*sum(lnx))\n",
    "    \n",
    "    a = (sum(lengths) - b * sum(lnx))/(n-1)\n",
    "    \n",
    "    y = [a + b*lnx[i] for i in range(n-1)]\n",
    "\n",
    "    plt.figure(figsize=(12, 8))\n",
    "    plt.scatter(x, lengths, color='red', marker = '.')\n",
    "    plt.plot(x, y, color='green', marker = '.')\n",
    "    plt.show()\n"
   ]
  },
  {
   "cell_type": "code",
   "execution_count": 47,
   "metadata": {},
   "outputs": [
    {
     "data": {
      "image/png": "[encoded data removed]",
      "text/plain": [
       "<Figure size 864x576 with 1 Axes>"
      ]
     },
     "metadata": {
      "needs_background": "light"
     },
     "output_type": "display_data"
    }
   ],
   "source": [
    "creat_geraph(201, splitting)"
   ]
  },
  {
   "cell_type": "markdown",
   "metadata": {},
   "source": [
    "#### Выводы по проверке следствия Брауэра.\n",
    "На графике видно, что набор значений минимальных длин аддитивных цепочек аппроксимируется логарифмической кривой. Это подтверждает первое следствие теоремы Брауэра.\n",
    "***"
   ]
  },
  {
   "cell_type": "markdown",
   "metadata": {},
   "source": [
    "## Проверка гипотезы Шольца–Брауэра.\n",
    "\n",
    "гипотеза Шольца-Брауэра:\\\n",
    "$l(2^n-1) \\leq l(n) + n - 1: n = 2,...,10.$"
   ]
  },
  {
   "cell_type": "code",
   "execution_count": null,
   "metadata": {},
   "outputs": [],
   "source": [
    "for i in range(2, 11):\n",
    "    a = f\"{len(splitting(2**i-1))} <= {len(splitting(i))+i-1} :n = {i}\"\n",
    "    print(a)"
   ]
  },
  {
   "cell_type": "markdown",
   "metadata": {},
   "source": [
    "$$3 \\ \\leqslant 3 :n = 2 \\\\\n",
    "5  \\leqslant 5 :n = 3\\\\\n",
    "6  \\leqslant 6 :n = 4\\\\\n",
    "8  \\leqslant 8 :n = 5\\\\\n",
    "9  \\leqslant 9 :n = 6\\\\\n",
    "11 \\leqslant 11 :n = 7\\\\\n",
    "11 \\leqslant 11 :n = 8\\\\\n",
    "13 \\leqslant 13 :n = 9\\\\\n",
    "14  \\leqslant 14 :n = 10$$\n",
    "\n",
    "\n",
    "#### Выводы по проверке гипотезы Шольца–Брауэра.\n",
    "результаты теста показывают, что гипотеза верна для $n=2,...,10$. \n",
    "***"
   ]
  },
  {
   "cell_type": "markdown",
   "metadata": {},
   "source": [
    "## Общий вывод по проделанной работе."
   ]
  },
  {
   "cell_type": "markdown",
   "metadata": {},
   "source": [
    "* В ходе выполнения практической работы были изучены и реализованы следующие методы поиска аддитивных цепочек для заданного числа:\n",
    "\n",
    "    1. Алгоритм Брауэра \n",
    "    2. Алгоритм дробления вектора индексов\n",
    "    \n",
    "    \n",
    "* Также были реализованы методы быстрого возведения в степень\n",
    "    1. Бинарный метод \n",
    "    2. Метод множителей \n",
    "\n",
    "\n",
    "* Проведена проверка следствия теоремы Брауэра\n",
    "\n",
    "* Проведена проверка гипотезы Шольца-Брауэра"
   ]
  }
 ],
 "metadata": {
  "kernelspec": {
   "display_name": "Python 3.8.5 64-bit",
   "language": "python",
   "name": "python38564bitc3eb6bc9ac98404dacd2cb8a2317093b"
  },
  "language_info": {
   "codemirror_mode": {
    "name": "ipython",
    "version": 3
   },
   "file_extension": ".py",
   "mimetype": "text/x-python",
   "name": "python",
   "nbconvert_exporter": "python",
   "pygments_lexer": "ipython3",
   "version": "3.8.5"
  },
  "metadata": {
   "interpreter": {
    "hash": "e7370f93d1d0cde622a1f8e1c04877d8463912d04d973331ad4851f04de6915a"
   }
  }
 },
 "nbformat": 4,
 "nbformat_minor": 4
}
