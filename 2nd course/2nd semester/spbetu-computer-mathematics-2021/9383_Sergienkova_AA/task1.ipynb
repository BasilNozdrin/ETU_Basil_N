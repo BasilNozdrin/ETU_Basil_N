{
 "cells": [
  {
   "cell_type": "markdown",
   "metadata": {},
   "source": [
    "# Практическая работа №1: Исследование алгоритмов формирования аддитивных цепочек"
   ]
  },
  {
   "cell_type": "markdown",
   "metadata": {},
   "source": [
    "Выполнила студентка гр. 9383 Сергиенкова Анастасия, вариант 107"
   ]
  },
  {
   "cell_type": "markdown",
   "metadata": {},
   "source": [
    "## Цель работы"
   ]
  },
  {
   "cell_type": "markdown",
   "metadata": {},
   "source": [
    "Формирование представления о аддитивных цепочках, выработать умение составлять и применять алгоритмы для нахождения минимальных аддитивных цепочек для заданного числа, привить навык использования систем компьютерной алгебры для реализации алгоритмов."
   ]
  },
  {
   "cell_type": "markdown",
   "metadata": {},
   "source": [
    "---------------------------------"
   ]
  },
  {
   "cell_type": "markdown",
   "metadata": {},
   "source": [
    "## Основные теоретические положения"
   ]
  },
  {
   "cell_type": "markdown",
   "metadata": {},
   "source": [
    "### Бинарный метод"
   ]
  },
  {
   "cell_type": "markdown",
   "metadata": {},
   "source": [
    "Бинарный метод является одним из методов быстрого возведения числа в необходимую степень $n \\in N$. В данном методе степень представляется в двоичной системе счисления. Далее идёт проход по битам слева направо (не учитывая самый левый бит, он всегда равен единице): если бит равен 1, число возводится в квадрат, если бит равен 0, число возводится в квадрат, после чего умножается само на себя. \n",
    "Количество операций рассчитывается по формуле: $\\lambda(n)+\\nu(n)-1$, где $\\lambda(n)=$($\\left\\lfloor\\log_2 n \\right\\rfloor$), $ \\nu(n)$ - количество едениц в двоичной записи числа."
   ]
  },
  {
   "cell_type": "markdown",
   "metadata": {},
   "source": [
    "### Метод множителей"
   ]
  },
  {
   "cell_type": "markdown",
   "metadata": {},
   "source": [
    "Суть метода:\n",
    "\n",
    "\n",
    "Метод множителей является одним из методов быстрого возведения числа в необходимую степень $n \\in N$. Если мы умеем вычислять $x^i$ за $m$ операций, а $x^j$ за $n$ операций, то $(x^i)^j = x^{i*j}$ можем вычислить за ($m+n$) операций. При этом $i$ - наименьший простой множитель степени $k$. Если же $k$ изначально простая степень, то считаем $x^{k-1}$ и затем умножаем на $x$ (если $k$ $\\neq$ 1)."
   ]
  },
  {
   "cell_type": "markdown",
   "metadata": {},
   "source": [
    "### Определение аддитивной цепочки"
   ]
  },
  {
   "cell_type": "markdown",
   "metadata": {},
   "source": [
    " Аддитивной цепочкой для $n \\in N$ называется последовательность чисел $1 = a_0, a_1, a_2, ..., a_m = n$, где  $a_i=a_j+a_k$,  $k \\leq j\\lt i$; $\\forall i=1..m$.\n",
    "\n",
    "$l(n)=m$ - минимальная длина аддитивной цепочки.\n",
    "\n",
    "Для $\\forall n \\leqslant 1000$ справедлива формула: $l(n) = min\\{ l(n-1)+1, l_n\\} - \\delta_n$, где $l_p = \\begin{cases} \\infty \\text{, если p - простое число}\\\\ l(q) + l(\\frac{p}{q}) \\text{, если q - минимальный простой делитель числа p} \\end{cases}$ $\\delta_n\\in\\{0, 1\\}$"
   ]
  },
  {
   "cell_type": "markdown",
   "metadata": {},
   "source": [
    "### Теорема Брауера"
   ]
  },
  {
   "cell_type": "markdown",
   "metadata": {},
   "source": [
    "При некотором $k$ &lt; $log_2 log_2 n$ справедливо неравенство: \n",
    "\n",
    "$l(n) $&lt; $(1+k^{-1})\\cdot\\lceil\\log_2 n\\rceil+2^{k-1}-k+2$\n",
    "\n",
    "Где $k = \\lambda(\\lambda(n))-2\\lambda(\\lambda(\\lambda(n)))$\n",
    "\n",
    "Следствие 1: $\\lim\\limits_{x\\to\\infty} \\cfrac{l(n)}{\\lambda(n)} = 1$\n",
    "\n",
    "Следствие 2: Верхняя оценка для l(n) имеет вид: $\\lambda(n)(1+\\cfrac{1}{\\lambda(\\lambda(n))}+\\cfrac{o(\\lambda(\\lambda(\\lambda(n))))}{(\\lambda(\\lambda(n)))^2})$"
   ]
  },
  {
   "cell_type": "markdown",
   "metadata": {},
   "source": [
    "### Типы шагов аддитивной цепочки"
   ]
  },
  {
   "cell_type": "markdown",
   "metadata": {},
   "source": [
    "Если $a_i$ $\\lt a_{i+1}$, то равенство $a_i = a_j+a_k$, - шаг аддитивной цепочки."
   ]
  },
  {
   "cell_type": "markdown",
   "metadata": {},
   "source": [
    "#### Типы шагов:\n",
    "\n"
   ]
  },
  {
   "cell_type": "markdown",
   "metadata": {},
   "source": [
    "$i$-й шаг есть удвоение, если j=k=i-1\n",
    "\n",
    "$i$-й шаг есть звёздный, если j = i-1, k = 0..i-1\n",
    "\n",
    "$i$-й шаг есть малый, если $\\lambda(a_i) = \\lambda(a_{i-1})$"
   ]
  },
  {
   "cell_type": "markdown",
   "metadata": {},
   "source": [
    "Следствие 1: Первый шаг всегда является удвоением\n",
    "\n",
    "Следствие 2: Удвоение - это звёздный шаг, но не малый\n",
    "\n",
    "Следствие 3: За удвоением всегда следует звёздный шаг\n",
    "\n",
    "Следствие 4: Если $i$-й шаг не малый, то $i$ + 1 либо малый, либо звёздный, либо и тот и другой\n",
    "\n",
    "Следствие 5: Если $i$ + 1 не малый и не звёъдный, то $i$-й шаг - малый"
   ]
  },
  {
   "cell_type": "markdown",
   "metadata": {},
   "source": [
    "### Алгоритм Брауера"
   ]
  },
  {
   "cell_type": "markdown",
   "metadata": {},
   "source": [
    "Алгоритм Брауера вычисляет n-нную стпенень за $\\log_2(n)+\\frac{(1+o(1))\\log_2(n)}{\\log_2(\\log_2(n))}$ число умножений.\n",
    "\n",
    "Для некоторых n, k цепочки Брауерауера определяются рекурентно: $B_k(n) =\\begin{cases}1, 2, 3, ..., 2^k-1\\text{, если } n\\lt2^k \\\\ B_k(q), 2q, 4q, 8q, ..., 2^kq, n,\\text{ если } n \\geqslant 2^k\\ \\text{и } q = \\lfloor\\frac{n}{2^k}\\rfloor \\end{cases}$"
   ]
  },
  {
   "cell_type": "markdown",
   "metadata": {},
   "source": [
    "### Алгоритм дробления вектора индексов"
   ]
  },
  {
   "cell_type": "markdown",
   "metadata": {},
   "source": [
    "Алгоритм дробления индексов находит минимальную звездную цепочку для числа $n$.\n",
    "\n",
    "Вектором индексов аддитивной цепочки называется последовательность: ${\\{a_i\\}}_{i=1}^m$, тогда вектор индексов ${\\{r_i\\}}_{i=1}^{m-1}\\text{, где } r_i = \\{x: 1\\leqslant x\\leqslant i\\}$, шаг запишем так  $a_i = a_{i-1} + a_{r_{i-1}}\\text{, где }2\\leqslant i\\leqslant m$.\n",
    "\n",
    "\n",
    "Наибольшая звездная цепочка: $S_{max}$=$\\{1, 2, 4, \\dots, 2^m\\}$ &lt;=&gt; $r_{max}$ = $\\{1, 2, 3, \\dots, m\\}$ Наименьшая звездная цепочка: $S_{min}$=$\\{1,2,3,\\dots , m\\}$ &lt;=&gt; $r_{min}$=$\\{1, 1, 1, \\dots, 1\\}$\n",
    "\n",
    "Будем считать, что $r = {\\{r_i\\}}_{i=1}^{m-1}$, больше чем $\\tilde r = {\\{\\tilde r_i\\}}_{i=1}^{m-1}$, если $r_1 = \\tilde r_1$, $r_2 = \\tilde r_2$, $r_3 = \\tilde r_3$, $r_{i-1} = \\tilde r_{i-1}$, ..., $r_i$ &gt; $\\tilde r_i$\n",
    "\n",
    "Нахождение минимальной длины звёздной цепочки происходит с помощью перебора. Сначала вектор индексов разбивается на два вектора: $r = {\\{r_i\\}}_{i=1}^{q}$ - фиксированный вектор, $\\rho = {\\{\\rho_j\\}}_{j=q+1}^{m-1}$ - меняющийся вектор. Наибольшее значение $a_m$ достигается при векторе индексов ${\\{r_i\\}}_{i=1}^{q} \\cup \\{q+1, q+2, ..., m-1\\}, \\ a_{min} = a_{q+1}\\cdot2^{m-q}$. Наименьшее значение $a_m$ достигается при векторе индексов ${\\{r_i\\}}_{i=1}^{q} \\cup \\{1, 1, ..., 1\\}, \\ a_{max} = a_{q+1}+m-q$.\n",
    " "
   ]
  },
  {
   "cell_type": "markdown",
   "metadata": {},
   "source": [
    "Алгоритм\n",
    "\n",
    "1. Вектор индексов разбивается на фиксированный и меняющийся. \n",
    "\n",
    "2. Вычисляется $a_{min}\\text{ и }a_{max}$. Если $n\\notin[a_{min}, a_{max}]$, то осуществляется переход к следующему набору ${\\{r_i\\}}_{i=1}^{q}$.  Если $n\\in[a_{min}, a_{max}]$, то появляется внутренний цикл перебора ${\\{\\rho_j\\}}_{j=q+1}^{m-1}$.\n",
    "\n",
    "3. Если мы не нашли $a_m$ = $n$, то $m:=m+1$ и всё повторяем заного.\n",
    "\n",
    " Длина аддитивной цепочки $m\\in[ \\underline{l}(n),\\overline{l}(n)],\\text{ где } \\underline{l}(n)=\\lceil log_2 n \\rceil, \\overline{l}(n)=\\lambda(n)+\\nu(n)-1$"
   ]
  },
  {
   "cell_type": "markdown",
   "metadata": {},
   "source": [
    "### Звёздная цепочка. Гипотеза Шольца-Брауэра"
   ]
  },
  {
   "cell_type": "markdown",
   "metadata": {},
   "source": [
    "Звёздная цепочка - это аддитивная цепочка, которая включает в себя только звёздные шаги.\n",
    "\n",
    "$a_i = a_{i-1} + a_k\\text{, где } 0\\leqslant k\\leqslant i-1 $\n",
    "\n",
    "$l^*(n)$ - длина звёздной цепочки. $l^*(n)\\geqslant l(n)$\n",
    "\n",
    "Гипотеза Шольца-Брауера: $l^*(2^n-1)\\leqslant l^*(n)+n-1$\n"
   ]
  },
  {
   "cell_type": "markdown",
   "metadata": {},
   "source": [
    "_____________________________________________"
   ]
  },
  {
   "cell_type": "markdown",
   "metadata": {},
   "source": [
    "## Постановка задачи\n",
    "\n"
   ]
  },
  {
   "cell_type": "markdown",
   "metadata": {},
   "source": [
    "Реализовать точные и приближённые алгоритмы нахождения минимальных аддитивных цепочек с использованием системы компьютерной алгебры SageMath, провести анализ алгоритмов. Полученные результаты содержательно проинтерпретировать."
   ]
  },
  {
   "cell_type": "markdown",
   "metadata": {},
   "source": [
    "### Порядок выполнения работы"
   ]
  },
  {
   "cell_type": "markdown",
   "metadata": {},
   "source": [
    "\n",
    "1. Применить бинарный метод и метод множителей для $x^n$,где $n \\geqslant 30$, для 2-3 значений $n$(значения $n$ выбирается студентом самостоятельно). Сравнить количество операций для каждого метода, сделать выводы.\n",
    "2. Реализовать алгоритм Брауэра для вычисления приближённых аддитивных цепочек для различных чисел при варьировании параметра $k$, сопоставить длины полученных аддитивных цепочек с минимальной аддитивной цепочкой для заданного числа. Сделать выводы.\n",
    "3. Реализовать алгоритм дробления вектора индексов для нахождения минимальной звёздной цепочки для заданного числа. Протестировать алгоритм при $n \\geqslant 500$. Указать, сколько времени потребовалось на поиск цепочки и какая цепочка получилась. Сравнить с предыдущими методами, сделать выводы.\n",
    "4. Проверить следствие 1 теоремы Брауэра для $n=1..200$ путём построения функции $l(n)$ и аппроксимирующей кривой, полученной с помощью метода наименьших квадратов. Сопоставить функции на одном графике, сделать выводы.\n",
    "5. Проверить гипотезу Шольца–Брауэра для $1\\lt$n$\\leqslant 10$ на алгоритме дробления вектора индексов. Сделать выводы.\n",
    "6. Дополнительное необязательное задание: найти и/или предложить модификации алгоритмов и привести описание модификаций. Реализовать модифицированные алгоритмы и сравнить их мощность\n"
   ]
  },
  {
   "cell_type": "markdown",
   "metadata": {},
   "source": [
    "## Выполнение работы"
   ]
  },
  {
   "cell_type": "markdown",
   "metadata": {},
   "source": [
    "### 1. Бинарный метод и метод множителей"
   ]
  },
  {
   "cell_type": "markdown",
   "metadata": {},
   "source": [
    " Возьмём $n = 27, 33, 39, 51$"
   ]
  },
  {
   "cell_type": "markdown",
   "metadata": {},
   "source": [
    "#### Возведение числа $x$ в степень $n=27$:"
   ]
  },
  {
   "cell_type": "markdown",
   "metadata": {},
   "source": [
    "#### Бинарный метод:"
   ]
  },
  {
   "cell_type": "markdown",
   "metadata": {},
   "source": [
    "$27_{10} = 11011_2$\n",
    "\n",
    "$x,\\ x\\cdot x = x^2,\\ x^2\\cdot x = x^3,\\ x^3\\cdot x^3 = x^6,\\ x^6\\cdot x^6 = x^{12},\\ x^{12}\\cdot x = x^{13},\\ x^{13}\\cdot x^{13} = x^{26},\\ x^{26}\\cdot x = x^{27}$\n",
    "\n",
    "Количество операций: $\\lambda (27)+ \\nu(27) - 1 = 4+4-1 = 7$"
   ]
  },
  {
   "cell_type": "markdown",
   "metadata": {},
   "source": [
    "#### Метод множителей:"
   ]
  },
  {
   "cell_type": "markdown",
   "metadata": {},
   "source": [
    "$27 = 3\\cdot 9$.\n",
    "\n",
    "$x^{27} = {(x^3)}^{9}$\n",
    "\n",
    "$x,\\ x\\cdot x = x^2,\\ x^2\\cdot x = x^3,\\ x^3=y$\n",
    "\n",
    "$y,\\ y\\cdot y = y^2,\\ y^2\\cdot y^2 = y^4,\\ y^4\\cdot y^4 = y^8,\\ y^8\\cdot y = y^{9}$\n",
    "\n",
    "Количество операций: 6"
   ]
  },
  {
   "cell_type": "markdown",
   "metadata": {},
   "source": [
    "#### Возведение числа $x$ в степень $n=33$:"
   ]
  },
  {
   "cell_type": "markdown",
   "metadata": {},
   "source": [
    "#### Бинарный метод: "
   ]
  },
  {
   "cell_type": "markdown",
   "metadata": {},
   "source": [
    "$33_{10} = 100001_2$\n",
    "\n",
    "$x,\\ x\\cdot x = x^2,\\ x^2\\cdot x^2 = x^4,\\ x^4\\cdot x^4 = x^8,\\ x^8\\cdot x^8 = x^{16},\\ x^{16}\\cdot x^{16} = x^{32},\\ x^{32}\\cdot x = x^{33}$.\n",
    "\n",
    "Количество операций: $\\lambda (33)+ \\nu(33) - 1 = 5+2-1 = 6$\n",
    "\n"
   ]
  },
  {
   "cell_type": "markdown",
   "metadata": {},
   "source": [
    "#### Метод множителей:"
   ]
  },
  {
   "cell_type": "markdown",
   "metadata": {},
   "source": [
    "$33 = 3\\cdot 11$.\n",
    "\n",
    "$x^{33} = {(x^3)}^{11}$\n",
    "\n",
    "$x,\\ x\\cdot x = x^2,\\ x^2\\cdot x = x^3,\\ x^3=y$\n",
    "\n",
    "$y,\\ y\\cdot y = y^2,\\ y^2\\cdot y^2 = y^4,\\ y^4\\cdot y = y^5,\\ y^5\\cdot y^5 = y^{10},\\ y^{10}\\cdot y = y^{11}$\n",
    "\n",
    "Количество операций: 7"
   ]
  },
  {
   "cell_type": "markdown",
   "metadata": {},
   "source": [
    "#### Возведение числа $x$ в степень $n=39$:"
   ]
  },
  {
   "cell_type": "markdown",
   "metadata": {},
   "source": [
    "#### Бинарный метод:"
   ]
  },
  {
   "cell_type": "markdown",
   "metadata": {},
   "source": [
    "$39_{10} = 100111_2$\n",
    "\n",
    "$x,\\ x\\cdot x = x^2,\\ x^2\\cdot x^2 = x^4,\\ x^4\\cdot x^4 = x^8,\\ x^8\\cdot x = x^9,\\ x^9\\cdot x^9 = x^{18},\\ x^{18}\\cdot x = x^{19},\\ x^{19}\\cdot x^{19} = x^{38},\\ x^{38}\\cdot x = x^{39}$\n",
    "\n",
    "Количество операций: $\\lambda (39)+ \\nu(39) - 1 = 5+4-1 = 8$"
   ]
  },
  {
   "cell_type": "markdown",
   "metadata": {},
   "source": [
    "#### Метод множителей:"
   ]
  },
  {
   "cell_type": "markdown",
   "metadata": {},
   "source": [
    "$39 = 3\\cdot 13$.\n",
    "\n",
    "$x^{39} = {(x^3)}^{13}$\n",
    "\n",
    "$x,\\ x\\cdot x = x^2,\\ x^2\\cdot x = x^3,\\ x^3=y$\n",
    "\n",
    "$y,\\ y\\cdot y = y^2,\\ y^2\\cdot y = y^3,\\ y^3\\cdot y^3 = y^6,\\ y^6\\cdot y^6 = y^{12},\\ y^{12}\\cdot y = y^{13}$\n",
    "\n",
    "Количество операций: 7"
   ]
  },
  {
   "cell_type": "markdown",
   "metadata": {},
   "source": [
    "#### Возведение числа $x$ в степень $n=51$:"
   ]
  },
  {
   "cell_type": "markdown",
   "metadata": {},
   "source": [
    "#### Бинарный метод:"
   ]
  },
  {
   "cell_type": "markdown",
   "metadata": {},
   "source": [
    "$51_{10} = 110011_2$\n",
    "\n",
    "$x,\\ x\\cdot x = x^2,\\ x^2\\cdot x = x^3,\\ x^3\\cdot x^3 = x^6,\\ x^6\\cdot x^6 = x^{12},\\ x^{12}\\cdot x^{12} = x^{24},\\ x^{24}\\cdot x = x^{25},\\ x^{25}\\cdot x^{25} = x^{50},\\ x^{50}\\cdot x = x^{51}$\n",
    "\n",
    "Количество операций: $\\lambda (51)+ \\nu(51) - 1 = 4+5-1 = 8$"
   ]
  },
  {
   "cell_type": "markdown",
   "metadata": {},
   "source": [
    "#### Метод множителей:"
   ]
  },
  {
   "cell_type": "markdown",
   "metadata": {},
   "source": [
    " $51 = 3\\cdot 17$.\n",
    "\n",
    "$x^{51} = {(x^3)}^{17}$\n",
    "\n",
    "$x,\\ x\\cdot x = x^2,\\ x^2\\cdot x = x^3,\\ x^3=y$\n",
    "\n",
    "$y,\\ y\\cdot y = y^2,\\ y^2\\cdot y^2 = y^4,\\ y^4\\cdot y^4 = y^8,\\ y^8\\cdot y^8 = y^{16},\\ y^{16}\\cdot y = y^{17}$\n",
    "\n",
    "Количество операций: 7"
   ]
  },
  {
   "cell_type": "markdown",
   "metadata": {},
   "source": [
    "#### Результаты возведения в степень:\n"
   ]
  },
  {
   "cell_type": "markdown",
   "metadata": {},
   "source": [
    "| n | Количество операций БМ | Количество операций ММ |\n",
    "| :-: | :-: | :-: |\n",
    "| 27 | 7 | 6 |\n",
    "| 33 | 6 | 7 |\n",
    "| 39 | 8 | 7 |\n",
    "| 51 | 8 | 7 |\n"
   ]
  },
  {
   "cell_type": "markdown",
   "metadata": {},
   "source": [
    "#### Вывод: \n",
    "\n",
    "Можно заметить, что при $n = 2^k-1$ метод множителей эффективнее бинарного метода. Однако при $n = 2^k+1$ бинарный метод превосходит метод множителей. В остальных случаях метод множителей выполняется за такое же число операций или быстрее."
   ]
  },
  {
   "cell_type": "markdown",
   "metadata": {},
   "source": [
    "### 2. Алгоритм Брауэра"
   ]
  },
  {
   "cell_type": "markdown",
   "metadata": {},
   "source": [
    "Реализован алгоритм Брауера для вычисления приближённой аддитивной цепочки."
   ]
  },
  {
   "cell_type": "code",
   "execution_count": 5,
   "metadata": {},
   "outputs": [
    {
     "name": "stdout",
     "output_type": "stream",
     "text": [
      " n: 15\n",
      " k: 2\n",
      "[1, 2, 3, 6, 12, 15]\n",
      "Длина аддитивной цепочки:  6\n"
     ]
    }
   ],
   "source": [
    "def Brauer_func(n, k, B_n):\n",
    "    p = 2**k\n",
    "    if(n < p):\n",
    "        for i in range(1, p):\n",
    "            B_n.append(i)   \n",
    "    elif(n >= p):\n",
    "        q = n//(p)\n",
    "        Brauer_func(q, k, B_n)\n",
    "        for i in range(1, k+1):\n",
    "            q*=2\n",
    "            B_n.append(q)    \n",
    "        B_n.append(n)    \n",
    "B_n = []\n",
    "n = int(input(\" n: \"))\n",
    "k = int(input(\" k: \"))\n",
    "Brauer_func(n, k, B_n)\n",
    "print(B_n)\n",
    "print(\"Длина аддитивной цепочки: \", len(B_n))\n",
    "\n",
    "\n",
    "     "
   ]
  },
  {
   "cell_type": "markdown",
   "metadata": {},
   "source": [
    "Алгоритм был применён к числам: $56, 192, 378, 952, 2657$, $k = 1, 2, 3, 4.$\n",
    "\n",
    "| n | k | Длина | Цепочка |\n",
    "| :-: | :-: | :-: | :-: |\n",
    "| 56 | 1 | 8 | [1, 2, 3, 6, 7, 14, 28, 56] |\n",
    "| 192 | 1 | 9 | [1, 2, 3, 6, 12, 24, 48, 96, 192] |\n",
    "| 378 | 1 | 14 | [1, 2, 4, 5, 10, 11, 22, 23, 46, 47, 94, 188, 189, 378] |\n",
    "| 952 | 1 | 15 | [1, 2, 3, 6, 7, 14, 28, 29, 58, 59, 118, 119, 238, 476, 952] | \n",
    "| 2657 | 1 | 16 | [1, 2, 4, 5, 10, 20, 40, 41, 82, 83, 166, 332, 664, 1328, 2656, 2657] |\n",
    "\n",
    "\n"
   ]
  },
  {
   "cell_type": "markdown",
   "metadata": {},
   "source": [
    "| n | k | Длина | Цепочка |\n",
    "| :-: | :-: | :-: | :-: |\n",
    "| 56 | 2 | 8 | [1, 2, 3, 6, 12, 14, 28, 56] |\n",
    "| 192 | 2 | 9 | [1, 2, 3, 6, 12, 24, 48, 96, 192] |\n",
    "| 378 | 2 | 14 | [1, 2, 3, 4, 5, 10, 20, 23, 46, 92, 94, 188, 376, 378] |\n",
    "| 952 | 2 | 14 | [1, 2, 3, 6, 12, 14, 28, 56, 59, 118, 236, 238, 476, 952,] | \n",
    "| 2657 | 2 | 16 | [1, 2, 3, 4, 8, 10, 20, 40, 41, 82, 164, 166, 332, 664, 1328, 2656] |"
   ]
  },
  {
   "cell_type": "markdown",
   "metadata": {},
   "source": [
    "| n | k | Длина | Цепочка |\n",
    "| :-: | :-: | :-: | :-: |\n",
    "| 56 | 3 | 10 | [1, 2, 3, 4, 5, 6, 7, 14, 28, 56] |\n",
    "| 192 | 3 | 12 | [1, 2, 3, 4, 5, 6, 7, 12, 24, 48, 96, 192] |\n",
    "| 378 | 3 | 15 | [1, 2, 3, 4, 5, 6, 7, 10, 20, 40, 47, 94, 188, 376, 378] |\n",
    "| 952 | 3 | 16 | [1, 2, 3, 4, 5, 6, 7, 8, 14, 28, 56, 112, 119, 238, 476, 952] | \n",
    "| 2657 | 3 | 18 | [1, 2, 3, 4, 5, 6, 7, 10, 20, 40, 41, 82, 164, 328, 332, 664, 1328, 2656] |"
   ]
  },
  {
   "cell_type": "markdown",
   "metadata": {},
   "source": [
    "| n | k | Длина | Цепочка |\n",
    "| :-: | :-: | :-: | :-: |\n",
    "| 56 | 4 | 18 | [1, 2, 3, 4, 5, 6, 7, 8, 9, 10, 11, 12, 13, 14, 15, 24, 48, 56] |\n",
    "| 192 | 4 | 19 | [1, 2, 3, 4, 5, 6, 7, 8, 9, 10, 11, 12, 13, 14, 15, 24, 48, 96, 192] |\n",
    "| 378 | 4 | 22 | [1, 2, 3, 4, 5, 6, 7, 8, 9, 10, 11, 12, 13, 14, 15, 16, 23, 46, 92, 184, 368, 378] |\n",
    "| 952 | 4 | 23 | [1, 2, 3, 4, 5, 6, 7, 8, 9, 10, 11, 12, 13, 14, 15, 24, 48, 59, 118, 236, 472, 944, 952] | \n",
    "| 2657 | 4 | 25 | [1, 2, 3, 4, 5, 6, 7, 8, 9, 10, 11, 12, 13, 14, 15, 20, 40, 80, 160, 166, 332, 664, 1328, 2656, 2657] |"
   ]
  },
  {
   "cell_type": "markdown",
   "metadata": {},
   "source": [
    "#### Вывод:\n",
    "\n",
    "Из таблиц выше, видно, что минимальная аддитивная цепочка получается при $k = \\lambda(\\lambda(n))$. С увеличением $k$ длина аддитивной цеопчки растёт и результат ухудшается. "
   ]
  },
  {
   "cell_type": "markdown",
   "metadata": {},
   "source": [
    "### 3. Алгоритм дробления вектора индексов"
   ]
  },
  {
   "cell_type": "markdown",
   "metadata": {},
   "source": [
    " Реализован алгоритм дробления индексов для нахождения минимальной аддитивной цепочки для числа $n$"
   ]
  },
  {
   "cell_type": "code",
   "execution_count": 50,
   "metadata": {},
   "outputs": [
    {
     "name": "stdout",
     "output_type": "stream",
     "text": [
      "N: 90\n",
      "Аддитивная цепочка: [1, 2, 3, 5, 10, 15, 30, 45, 90]\n",
      "Длина аддитивной цепочки: 9\n",
      "Время работы:  0.12437582015991211\n"
     ]
    }
   ],
   "source": [
    "import time\n",
    "import math\n",
    "\n",
    "\n",
    "def Find_Ind_Vector(vector, index_def = 1):\n",
    "    max_Index = index_def + len(vector) - 1\n",
    "    for i in range(1, len(vector) + 1):\n",
    "        vector[-i] += 1\n",
    "        if vector[-i] <= max_Index:\n",
    "            break\n",
    "        if i == len(vector):\n",
    "            vector.append(1)\n",
    "            break\n",
    "        vector[-i] = 1\n",
    "        max_Index -= 1\n",
    "\n",
    "\n",
    "def New_Chain(r, ro):\n",
    "    q = len(r)\n",
    "    chain = [1]\n",
    "    for index in r:\n",
    "        chain.append(chain[-1] + chain[index - 1])\n",
    "    for index in ro:\n",
    "        chain.append(chain[-1] + chain[index - 1])\n",
    "    return chain\n",
    "\n",
    "\n",
    "def Split_Index_Vector(n):\n",
    "    m = int(log(n, 2))\n",
    "    up = m + bin(n).count('1') - 1\n",
    "    while m <= up:\n",
    "        q = int(m / 2)\n",
    "        if q == 0:\n",
    "            q = 1\n",
    "        r = [1 for i in range(q)]\n",
    "        while len(r) == q:\n",
    "            ro = [1 for i in range(m - q)]\n",
    "            chain = New_Chain(r, ro)\n",
    "            if chain[-1] == n:\n",
    "                return chain\n",
    "            a_Max = chain[q] * 2 ** (m - q)\n",
    "            a_Min = chain[q] + m - q\n",
    "            if n < a_Min or n > a_Max:\n",
    "                Find_Ind_Vector(r)\n",
    "                continue\n",
    "            while len(ro) == m - q:\n",
    "                chain = New_Chain(r, ro)\n",
    "                if chain[-1] == n:\n",
    "                    return chain\n",
    "                Find_Ind_Vector(ro, q + 1)\n",
    "            Find_Ind_Vector(r)\n",
    "        m += 1\n",
    "    return chain\n",
    "\n",
    "\n",
    "n = int(input(\"N: \"))\n",
    "start = time.time()\n",
    "chain = Split_Index_Vector(n)\n",
    "finish = time.time()\n",
    "print(\"Аддитивная цепочка:\", chain)\n",
    "print(\"Длина аддитивной цепочки:\", len(chain))\n",
    "print(\"Время работы: \", float(finish - start))"
   ]
  },
  {
   "cell_type": "markdown",
   "metadata": {},
   "source": [
    "| n | Длина | Цепочка | Время работы |\n",
    "| :-: | :-: | :-: | :-: |\n",
    "| 90 | 9 | [1, 2, 3, 5, 10, 15, 30, 45, 90] | 0.12230372428894043 |\n",
    "| 296 | 11 | [1, 2, 3, 5, 8, 16, 21, 37, 74, 148, 296] | 5.759447813034058 |\n",
    "| 501 | 13 | [1, 2, 3, 5, 8, 13, 26, 31, 62, 124, 248, 253, 501] | 138.0427646636963 |\n",
    "| 876 | 13 | [1, 2, 3, 6, 9, 18, 27, 54, 108, 111, 219, 438, 876] | 198.66115999221802 | \n"
   ]
  },
  {
   "cell_type": "markdown",
   "metadata": {},
   "source": [
    "### 4. Проверка следствия теоремы Брауера"
   ]
  },
  {
   "cell_type": "markdown",
   "metadata": {},
   "source": [
    "Проверим следствие 1 теоремы Брауэра для n=1..200, путём построения функции l(n) и аппроксимирующей кривой, полученной с помощью метода наименьших квадратов."
   ]
  },
  {
   "cell_type": "code",
   "execution_count": 36,
   "metadata": {},
   "outputs": [
    {
     "data": {
      "image/png": "[encoded data removed]",
      "text/plain": [
       "<Figure size 720x576 with 1 Axes>"
      ]
     },
     "metadata": {
      "needs_background": "light"
     },
     "output_type": "display_data"
    }
   ],
   "source": [
    "import pylab as plt\n",
    "\n",
    "def Summ_1(ylnxi, Len, n, lnxi):\n",
    "    return n * sum(ylnxi) - sum(Len) * sum(lnxi)\n",
    "\n",
    "def Summ_2(n, lnxi, lnx2):\n",
    "    return n * sum(lnx2) - sum(lnxi) * sum(lnxi)\n",
    "\n",
    "def Summ_3(Len, lnxi, b):\n",
    "    return sum(Len) - b * sum(lnxi)\n",
    "\n",
    "n = 80\n",
    "x = [i for i in range(1, n)]\n",
    "Len = [len(Split_Index_Vector(i)) for i in range(1, n)]\n",
    "lnxi = [math.log(i, math.e) for i in range(1, n)]\n",
    "lnx2 = [pow(math.log(i, math.e),2) for i in range(1, n)]\n",
    "ylnxi = [Len[i-1] * lnxi[i-1] for i in range(1, n)]\n",
    "\n",
    "b = Summ_1(ylnxi, Len, n, lnxi) / MySumm_2(n, lnxi, lnx2)\n",
    "a = Summ_3(Len, lnxi, b) / (n - 1)\n",
    "\n",
    "y = [a + b*lnxi[i-1] for i in range(1, n)]\n",
    "\n",
    "plt.figure(figsize=(10, 8))\n",
    "plt.scatter(x, Len, color = 'red', marker = '.')\n",
    "plt.plot(x, y)\n",
    "plt.show()"
   ]
  },
  {
   "cell_type": "markdown",
   "metadata": {},
   "source": [
    "#### Вывод\n",
    "\n",
    "Аппроксимирующая прямая $l(n)$ схожа с графиком логарифма. Это подтвержает следствие теоремы Брауэра, поскольку в этом случае на бесконечности $\\lambda(n)$ и $l(n)$ будут эквивалентны."
   ]
  },
  {
   "cell_type": "markdown",
   "metadata": {},
   "source": [
    "### 5. Проверка гипотезы Шольца-Брауэра"
   ]
  },
  {
   "cell_type": "markdown",
   "metadata": {},
   "source": [
    "Проверим неравенство $l*(2^n-1)\\lt=l*(n)+n-1$ для $1<n<=10 $"
   ]
  },
  {
   "cell_type": "code",
   "execution_count": null,
   "metadata": {},
   "outputs": [],
   "source": [
    "for i in range(2, 11):\n",
    "    a = len(Split_Index_Vector(2 ** i -  1))\n",
    "    b = len(Split_Index_Vector(i)) + i - 1\n",
    "    if (a <= b):\n",
    "        print(\"Подтвердилась \", \"n = \", i, '->', a, \" <= \", b )\n",
    "    else:\n",
    "        print(\"Не подтвердилась \", \"n = \", i,  a, \" > \", b )\n"
   ]
  },
  {
   "cell_type": "markdown",
   "metadata": {},
   "source": [
    "| n | Длина цепочки 1 |  | Длина цепочки 2 |\n",
    "| :-: | :-: | :-: | :-: |\n",
    "| 2 | 3 | <= | 3 | \n",
    "| 3 | 5 | <= | 5 | \n",
    "| 4 | 6 | <= | 6 | \n",
    "| 5 | 8 | <= | 8 | \n",
    "| 6 | 9 | <= | 9 | \n",
    "| 7 | 11 | <= | 11 | \n",
    "| 8 | 11 | <= | 11 | \n",
    "| 9 | 13 | <= | 13 | \n",
    "| 10 | 14 | <= | 14 | \n"
   ]
  },
  {
   "cell_type": "markdown",
   "metadata": {},
   "source": [
    "#### Вывод\n",
    "\n",
    "Гипотеза подтвердилась для чисел $1\\lt n\\lt=10$, значит для вычисления длины цепочки $l*(2^n-1)$ достаточно вычислить $l*(n)$+$n$-1."
   ]
  },
  {
   "cell_type": "markdown",
   "metadata": {},
   "source": [
    "\n",
    "## Выводы по работе\n",
    "\n",
    "В ходе выполнения практической работы были изучены аддитивные цепочки, получен навык использования систем компьютерной алгебры для реализации алгоритмов. Была изучена зависимость минимальных длин звездных цепочек от числа. \n",
    "\n",
    "Реализованы следующие алгоритмы:\n",
    "\n",
    "\n",
    "1) Бинарный метод\n",
    "\n",
    "2) Метод множителей\n",
    "\n",
    "3) Алгоритм Брауэра\n",
    "\n",
    "4) Алгоритм дробления вектора индексов\n",
    "\n",
    "Также были проверены:\n",
    "\n",
    "1) Первое следствие теоремы Брауэра\n",
    "\n",
    "2) Гипотеза Шольца-Брауэра для n=1..10\n",
    "\n"
   ]
  },
  {
   "cell_type": "code",
   "execution_count": null,
   "metadata": {},
   "outputs": [],
   "source": []
  }
 ],
 "metadata": {
  "kernelspec": {
   "display_name": "SageMath 9.0",
   "language": "sage",
   "name": "sagemath"
  },
  "language_info": {
   "codemirror_mode": {
    "name": "ipython",
    "version": 3
   },
   "file_extension": ".py",
   "mimetype": "text/x-python",
   "name": "python",
   "nbconvert_exporter": "python",
   "pygments_lexer": "ipython3",
   "version": "3.8.5"
  }
 },
 "nbformat": 4,
 "nbformat_minor": 4
}
