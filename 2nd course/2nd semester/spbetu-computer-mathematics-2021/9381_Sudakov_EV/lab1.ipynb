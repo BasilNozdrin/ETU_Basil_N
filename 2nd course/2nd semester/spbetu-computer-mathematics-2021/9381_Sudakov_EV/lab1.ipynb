{
 "cells": [
  {
   "cell_type": "markdown",
   "metadata": {},
   "source": [
    "# Практическая работа №1: Исследование алгоритмов формирования аддитивных цепочек"
   ]
  },
  {
   "cell_type": "markdown",
   "metadata": {},
   "source": [
    "Выполнил студент гр. 9381 Судаков Евгений Вариант 62."
   ]
  },
  {
   "cell_type": "markdown",
   "metadata": {},
   "source": [
    "## Цель работы "
   ]
  },
  {
   "cell_type": "markdown",
   "metadata": {},
   "source": [
    "Формирование представления о аддитивных цепочках, выработать умение составлять и применять алгоритмы для нахождения минимальных аддитивных цепочек для заданного числа, привить навык использования систем компьютерной алгебры для реализации алгоритмов."
   ]
  },
  {
   "cell_type": "markdown",
   "metadata": {},
   "source": [
    "# Основные теоретические положения."
   ]
  },
  {
   "cell_type": "markdown",
   "metadata": {},
   "source": [
    "### Бинарное возведение в степень"
   ]
  },
  {
   "cell_type": "markdown",
   "metadata": {},
   "source": [
    "Бинарное (двоичное) возведение в степень — это приём, позволяющий возводить любое число в n-ую степень за $O(\\log n)$ умножений (вместо n умножений при обычном подходе).\n",
    "\n",
    "Прием заключается в следующем: степень, в которую возводят число представляют в двоичном виде. Далее, первая единица отбрасывается, а каждая единица заменяется на две операции: - умножение текущего числа на само себя, и умножение на $x$. Каждый $0$- просто умножение на само себя."
   ]
  },
  {
   "cell_type": "markdown",
   "metadata": {},
   "source": [
    "Введем следующие функции: "
   ]
  },
  {
   "cell_type": "markdown",
   "metadata": {},
   "source": [
    "$\\lambda(n)=\\lfloor log_2(n) \\rfloor$,\n",
    "\n",
    "$\\nu(n)$ - вес Хэмминга (количество ненулевых цифр в бинарной записи числа)"
   ]
  },
  {
   "cell_type": "markdown",
   "metadata": {},
   "source": [
    "Известно, что итоговое количество операций (умножений) в бинарном методе определяется следующей формулой:"
   ]
  },
  {
   "cell_type": "markdown",
   "metadata": {},
   "source": [
    "$$ l(n) = \\lambda(n) + \\nu(n) - 1$$"
   ]
  },
  {
   "cell_type": "markdown",
   "metadata": {},
   "source": [
    "### Метод множителей"
   ]
  },
  {
   "cell_type": "markdown",
   "metadata": {},
   "source": [
    "Метод заключается в разложении степени $n$, в которую необходимо число на произведение $n = i*j$, \n",
    "\n",
    "где $i$ - \n",
    "минимальный нетривиальный простой делитель числа n.\n"
   ]
  },
  {
   "cell_type": "markdown",
   "metadata": {},
   "source": [
    "Далее бинарным методом вычисляются $ y = x^i$ и $n = y ^ j$.\n",
    "\n",
    "Если n - простое число, то метод нужно запускать на числе (n-1) с дальнейшим домножением на x."
   ]
  },
  {
   "cell_type": "markdown",
   "metadata": {},
   "source": [
    "### Аддитивные цепочки"
   ]
  },
  {
   "cell_type": "markdown",
   "metadata": {},
   "source": [
    "$\\textbf{Def. :}$ Аддитивной цепочкой для некоторого $n \\in \\mathbb{N}$ называют последовательность натуральных чисел \n",
    "\n",
    "$$1 = a_0, a_1, a_2, ..., a_m = n$$\n",
    "\n",
    "Со следующим свойством : $a_i = a_j + a_k, k \\leq j < i, \\forall i = 1...m $\n",
    "\n",
    "То есть $\\forall$ член цепочки(кроме первого) равен сумме двух предыдущих."
   ]
  },
  {
   "cell_type": "markdown",
   "metadata": {},
   "source": [
    "Пусть $l(n)$ - длина аддитивной цепочки для числа n.\n",
    "\n",
    "$\\textbf{Типы шагов}$\n",
    "\n",
    "$i$-ый шаг АЦ называется\n",
    "1) Удвоение, если $j = k = i - 1$. Максимальный $a_i = 2a_{i-1}$\n",
    "\n",
    "2) Звездный, если $j = i - 1, k \\in [0, i-1]$\n",
    "\n",
    "3) Малый, если $\\lambda(a_i) = \\lambda(a_{i-1})$.\n"
   ]
  },
  {
   "cell_type": "markdown",
   "metadata": {},
   "source": [
    "### Теорема Брауэра"
   ]
  },
  {
   "cell_type": "markdown",
   "metadata": {},
   "source": [
    "При некотором $k < \\log_2 \\log_2 n $ выполняется \n",
    "\n",
    "$$l(n) < (1 + k^{-1})\\lceil\\log_2 n \\rceil + 2^{k-1} - k + 2$$\n",
    "\n",
    "Пусть $ k = \\lambda(\\lambda(n)) -  2\\lambda(\\lambda(\\lambda(n)))  $\n",
    "\n",
    "Тогда верны 2 следствия:\n",
    "\n",
    "1)  $$\\lim_{n\\to\\infty} \\frac{l(n)}{\\lambda(n)} = 1$$\n",
    "\n",
    "2) Наилучшая верхняя оценка длины АЦ:\n",
    "\n",
    "$$ \n",
    "l(n) \\sim \\lambda(n) \\left( 1 + \\frac{1}{\\lambda(\\lambda(n))} + \\frac{o(\\lambda(\\lambda(\\lambda(n))))}{\\lambda(\\lambda(n))^2} \\right)  $$"
   ]
  },
  {
   "cell_type": "markdown",
   "metadata": {},
   "source": [
    "### Алгоритм Яо"
   ]
  },
  {
   "cell_type": "markdown",
   "metadata": {},
   "source": [
    "Дано: n - число для построения АЦ, и некоторый параметр $k \\geq 2$\n",
    "\n",
    "n в свою очередь раскладывается в $$n = \\sum_{i=0}^j a_i2^{ik}, a_j \\neq 0$$\n",
    "\n",
    "Введем функцию $d(z) - $ сумма $2^{ik}, $ где для всех $i : a_i = z$  \n",
    "\n",
    "Первым шагом алгоритм строит цепочку из двоек степени до $\\lambda(n)$ включительно:\n",
    "\n",
    "$$Y_k(n) = 1,2,4,8, ..., 2^{\\lambda(n)}$$\n",
    "\n",
    "Далее алгоритм вычисляет $d(z)$ для всех $z \\in \\{1,2,3,.., 2^{k-1}\\}, d(z) \\neq 0$\n",
    "\n",
    "Следующий шаг заключается в умножении каждого d(z) на свой z :  $z*d(z) \\forall z$\n",
    "\n",
    "Цепочка $Y_k(n)$ бинарным методом дополняется этими zd(z), причем сумма всех z*d(z) = n\n",
    "\n",
    "$$n = \\sum_{z=1}^{2^{k-1}}z*d(z)$$"
   ]
  },
  {
   "cell_type": "markdown",
   "metadata": {},
   "source": [
    "### Алгоритм дробления индексов"
   ]
  },
  {
   "cell_type": "markdown",
   "metadata": {},
   "source": [
    "Алгоритм дробления вектора индексов является точным алгоритмом и находит минимальную звёздную цепочку для числа $ n $.\n",
    "\n",
    "Введём определение вектора индексов: $\\exists \\text{ звёздная цепочка } l^*(n) = m, {\\{a_i\\}}_{i=1}^m, a_1 = 1$, тогда можно задать вектор индексов ${\\{r_i\\}}_{i=1}^{m-1}\\text{, где } r_i = \\{x: 1\\leqslant x\\leqslant i\\}$. Шаг звёздной цепочки можно переписать следуюшим образом: $a_i = a_{i-1} + a_{r_{i-1}}\\text{, где }2\\leqslant i\\leqslant m$.\n",
    "\n",
    "Наибольшая звёздная цепочка $S_{max} = \\{1, 2, 4, 8, ..., 2^m\\}$ соответсвует вектору индексов $r_{max} = \\{1, 2, 3, 4, ..., m-1\\}$. Наименьшая звёздная цепочка $S_{min} = \\{1, 2, 3, 4, ..., m\\}$ соответсвует вектору индексов $r_{min} = \\{1, 1, 1, 1, ..., 1\\}$.\n",
    "\n",
    "Будем считать, что $r = {\\{r_i\\}}_{i=1}^{m-1}$, больше чем $\\tilde r = {\\{\\tilde r_i\\}}_{i=1}^{m-1}$, если $r_1 = \\tilde r_1$, $r_2 = \\tilde r_2$, $r_3 = \\tilde r_3$, $r_{i-1} = \\tilde r_{i-1}$, ..., $r_i > \\tilde r_i$\n",
    "\n",
    "Нахождение минимальной длины звёздной цепочки происходит с помощью перебора. Вектор индексов разбивается на два вектора: $r = {\\{r_i\\}}_{i=1}^{q}$ - фиксированный вектор, $\\rho = {\\{\\rho_j\\}}_{j=q+1}^{m-1}$ меняющийся вектор. Можно заметить, что наибольшее значение $a_m$ достигается при векторе индексов ${\\{r_i\\}}_{i=1}^{q} \\cup \\{q+1, q+2, ..., m-1\\}, \\ a_{min} = a_{q+1}\\cdot2^{m-q}$. \n",
    "\n",
    "Наименьшее значение $a_m$ достигается при векторе индексов ${\\{r_i\\}}_{i=1}^{q} \\cup \\{1, 1, ..., 1\\}, \\ a_{max} = a_{q+1}+m-q$.\n",
    "\n",
    "$\\textbf{Алгоритм}$\n",
    "\n",
    "Вектор индексов разбивается на фиксированный и меняющийся. Вычисляется $a_{min}\\text{ и }a_{max}$. Если $n\\notin[a_{min}, a_{max}]$, то осуществляется переход к следующему фиксированному вектору. Если для заданной длины не нашлось аддитивной цепочки, то длина цепочки увеличивается. Длина аддитивной цепочки $m\\in[ \\underline{l}(n),\\overline{l}(n)],\\text{ где } \\underline{l}(n)=\\lceil log_2 n \\rceil, \\overline{l}(n)=\\lambda(n)+\\nu(n)-1$"
   ]
  },
  {
   "cell_type": "markdown",
   "metadata": {},
   "source": [
    "### Гипотеза Шольца-Брауэра\n",
    "\n",
    "$l^*(2^n-1)\\leqslant l^*(n)+n-1$\n",
    "\n",
    "где $l^*(n)$ - длина звёздной цепочки, $l^*(n)\\geqslant l(n)$\n"
   ]
  },
  {
   "cell_type": "markdown",
   "metadata": {},
   "source": [
    "# Постановка задачи\n",
    "Реализовать точные и приближённые алгоритмы нахождения минимальных аддитивных цепочек с использованием системы компьютерной алгебры SageMath, провести анализ алгоритмов. Полученные результаты содержательно проинтерпретировать."
   ]
  },
  {
   "cell_type": "markdown",
   "metadata": {},
   "source": [
    "### Порядок выполнения работы\n"
   ]
  },
  {
   "cell_type": "markdown",
   "metadata": {},
   "source": [
    "1) Применить бинарный метод и метод множителей для $x^n$, где $n\\geq30$, для 2-3 значений $n$ (значения $n$ выбирается студентом самостоятельно). Сравнить количество операций для каждого метода, сделать выводы.\n",
    "\n",
    "2) Реализовать алгоритм Брауэра (для нечётных вариантов) или алгоритм Яо (для чётных вариантов) для вычисления приближённых аддитивных цепочек для различных чисел при варьировании параметра $k$, сопоставить длины полученных аддитивных цепочек с минимальной аддитивной цепочкой для заданного числа. Сделать выводы.\n",
    "\n",
    "3) Реализовать алгоритм дробления вектора индексов для нахождения минимальной звёздной цепочки для заданного числа. Протестировать алгоритм при $n>500$. Указать, сколько времени потребовалось на поиск цепочки и какая цепочка получилась. Сравнить с предыдущими методами, сделать выводы.\n",
    "\n",
    "4) Проверить следствие 1 теоремы Брауэра для $n=1..200$ путём построения функции $l(n)$ и аппроксимирующей кривой, полученной с помощью метода наименьших квадратов. Сопоставить функции на одном графике, сделать выводы.\n",
    "\n",
    "5) Проверить гипотезу Шольца–Брауэра для $1<n⩽10$ на алгоритме дробления вектора индексов. Сделать выводы.\n",
    "\n",
    "6) Дополнительное необязательное задание: найти и/или предложить модификации алгоритмов и привести описание модификаций. Реализовать модифицированные алгоритмы и сравнить их мощность."
   ]
  },
  {
   "cell_type": "markdown",
   "metadata": {},
   "source": [
    "# Выполнение работы"
   ]
  },
  {
   "cell_type": "markdown",
   "metadata": {},
   "source": [
    "### 1. Бинарный метод и метод множителей"
   ]
  },
  {
   "cell_type": "markdown",
   "metadata": {},
   "source": [
    "Возьмем $x = 30, 37, 65$\n",
    "\n",
    "1) $x^{30}$\n",
    "\n",
    "#### Бинарный метод\n",
    "\n",
    "$30_{10} = 11110_2$\n",
    "\n",
    "Отбрасываем первую единицу, остальные заменяем операциями в соответствии с правилом.\n",
    "\n",
    "$x, x*x, x^2 * x, x^3 * x^3, x^6 * x, x^7 * x^7, x^{14}*x, x^{15}*x^{15} = x^{30} - 7 \\text{ операций}$\n",
    "\n",
    "\n",
    "\n",
    "#### Проверка\n",
    "$l(30) = \\lambda(30) + \\nu(30) - 1 = 4 + 4 - 1 = 7$\n",
    "\n",
    "#### Метод множителей\n",
    "\n",
    "\n",
    "$30 = 3 * 10$\n",
    "$x^{30} = (x^{3})^{10}$\n",
    "\n",
    "$3_{10} = 11_{2} \\rightarrow x, x*x, x^2 * x = x^{3} - 2 \\text{ операции}$ \n",
    "\n",
    "$10_{10} = 1010_{2} \\rightarrow x, x*x, x^2 * x^2, x^4 *x, x^5 * x^5 = x^{10} - 4 \\text{ операции}$\n",
    "\n",
    "\n",
    "#### Проверка\n",
    "$l(3 * 10) = \\lambda(3) + \\nu(3) - 1 + \\lambda(10) + \\nu(10) - 1 = 1 + 2 - 1 + 3 + 2 - 1 = 6$ \n",
    "\n",
    "2) $x^{37}$\n",
    "#### Бинарный метод\n",
    "\n",
    "$37_10 = 100101_2$\n",
    "\n",
    "$x, x*x, x^2 * x^2, x^4 * x^4, x^8 * x, x^9 * x^9, x^{18} * x^{18}, x^{36} * x = x^{37} - 7 \\text{ операций}$\n",
    "\n",
    "\n",
    "#### Проверка\n",
    "$l(37)  = \\lambda(37) + \\nu(37) - 1 = 5 + 3 - 1 = 7 $\n",
    "\n",
    "#### Метод множителей\n",
    "\n",
    "$37 = 36 + 1$\n",
    "$36 = 3 * 12$\n",
    "\n",
    "$3_{10} = 11_{2} \\rightarrow x, x*x, x^2 * x = x^{3} - 2 \\text{ операции}$ \n",
    "\n",
    "$12_{10} = 1100_{2}$\n",
    "$x, x*x, x^2 * x, x^3 * x^3, x^6 * x^6 = x^{12}  - 4 \\text{ операции}$\n",
    "\n",
    "\n",
    "#### Проверка\n",
    "\n",
    "$2 + 4 + 1 = 7$( еще одна операция на *x)\n",
    "\n",
    "$l(3 * 12) = \\lambda(3) + \\nu(3) - 1 + \\lambda(12) + \\nu(12) - 1 = 1 + 2 - 1 + 3 + 2 - 1 + 1 = 6 + 1 = 7$\n",
    "\n",
    "3) $x^{65}$\n",
    "\n",
    "#### Бинарный метод\n",
    "\n",
    "$65_{10} = 1000001_2$\n",
    "\n",
    "$x, x*x, x^2 * x^2, x^4 * x^4, x^8 * x^8, x^{16} * x^{16}, x^{32} * x^{32}, x^{64} * x  = x^{65}  - 7 \\text{ операций}$\n",
    "\n",
    "#### Проверка\n",
    "\n",
    "$l(65) = \\lambda(65) + \\nu(65) - 1 = 6 + 2 - 1 = 7$\n",
    "\n",
    "#### Метод множителей\n",
    "\n",
    "$65 = 5 * 13$\n",
    "\n",
    "$5_{10} = 101_{2} \\rightarrow x, x*x, x^2 * x^2, x^4 * x - 3 \\text { операции} $\n",
    "\n",
    "$13 = 12 + 1$\n",
    "\n",
    "$12_{10} = 1100_{2}$\n",
    "$x, x*x, x^2 * x, x^3 * x^3, x^6 * x^6 = x^{12}  - 4 \\text{ операции}$\n",
    "\n",
    "#### Проверка\n",
    "\n",
    "$3 + 4 + 1 = 8$ (+ 1 еще одна операция на *x)\n",
    "\n",
    "$l(5 * 12) = \\lambda(5) + \\nu(5) - 1 + + \\lambda(12) + \\nu(12) - 1  = 2 + 2 - 1 + 3 + 2 - 1 + 1 = 7 + 1 = 8 $"
   ]
  },
  {
   "cell_type": "markdown",
   "metadata": {},
   "source": [
    "### Вывод\n",
    "\n",
    "Исследование показало, что при $n = 2^k+1$ бинарный метод превосходит метод множителей. В остальных случаях метод множителей выполняется за такое же число операций или быстрее."
   ]
  },
  {
   "cell_type": "markdown",
   "metadata": {},
   "source": [
    "### Алгоритм Яо"
   ]
  },
  {
   "cell_type": "code",
   "execution_count": null,
   "metadata": {},
   "outputs": [],
   "source": [
    "from math import floor\n",
    "from math import log\n",
    "\n",
    "\n",
    "def _lambda(n):\n",
    "    return floor(log(n, 2))\n",
    "\n",
    "\n",
    "def _nu(n):\n",
    "    return bin(n).count(\"1\")\n",
    "\n",
    "\n",
    "def base_decomposition(decimal_number, base):\n",
    "    # разложение числа в СС 2^k.\n",
    "    # Возвращает набор коэффициентов разложения - массив z\n",
    "    remainder_stack = []\n",
    "\n",
    "    while decimal_number > 0:\n",
    "        remainder = decimal_number % base\n",
    "        remainder_stack.append(remainder)\n",
    "        decimal_number = decimal_number // base\n",
    "\n",
    "    new_digits = []\n",
    "    while remainder_stack:\n",
    "        new_digits.append(remainder_stack.pop())\n",
    "    new_digits.reverse()\n",
    "    return new_digits\n",
    "\n",
    "\n",
    "def dz(yao_chain, coeffs, z, k):\n",
    "    _dz = 0\n",
    "    for i in range(len(coeffs)):\n",
    "        if coeffs[i] == z:\n",
    "            _dz += 2 ** (i * k)\n",
    "            if _dz not in yao_chain:\n",
    "                yao_chain.append(_dz)\n",
    "    return _dz\n",
    "\n",
    "\n",
    "def binary_expand(dz, z):\n",
    "    bin_pow = bin(z)[3:]\n",
    "    add_chain = [dz]\n",
    "    cur_pow = dz\n",
    "    for bit in bin_pow:\n",
    "        cur_pow *= 2\n",
    "        add_chain.append(cur_pow)\n",
    "        if bit == '1':\n",
    "            cur_pow += dz\n",
    "            add_chain.append(cur_pow)\n",
    "    return add_chain\n",
    "\n",
    "\n",
    "def yao(n, k):\n",
    "    yao_chain = [2 ** i for i in range(_lambda(n) + 1)]\n",
    "    coeffs = base_decomposition(n, 2 ** k)\n",
    "    sum_zdz = 0\n",
    "    for z in range(1, 2 ** k):\n",
    "        _dz = dz(yao_chain, coeffs, z, k)\n",
    "        if _dz != 0:\n",
    "            to_add = binary_expand(_dz, z)\n",
    "            for i in range(len(to_add)):\n",
    "                if to_add[i] not in yao_chain:\n",
    "                    yao_chain.append(to_add[i])\n",
    "            sum_zdz += to_add[-1]\n",
    "            if sum_zdz not in yao_chain:\n",
    "                yao_chain.append(sum_zdz)\n",
    "    yao_chain.sort()\n",
    "    return yao_chain\n",
    "\n",
    "\n",
    "if __name__ == '__main__':\n",
    "    pass"
   ]
  },
  {
   "cell_type": "code",
   "execution_count": null,
   "metadata": {},
   "outputs": [],
   "source": [
    "\n",
    "n=int(input(\"Введите n : \"))\n",
    "k=int(input(\"Введите k : \"))\n",
    "res = yao(n, k)\n",
    "print(\"Итоговая АЦ : {}\".format(res))\n",
    "print(\"Длина АЦ : {}\".format(len(res)))"
   ]
  },
  {
   "cell_type": "markdown",
   "metadata": {},
   "source": [
    "Для n : 3412\n",
    "\n",
    "| k | длина | минимальная длина | цепочка |\n",
    "| :- | :- | :- | :- |\n",
    "| 3 | 18 | 15 | [1, 2, 4, 8, 16, 20, 32, 64, 128, 256, 320, 340, 512, 1024, 1536, 2048, 3072, 3412]\n",
    "| 4 | 19 | 15   | [1, 2, 4, 8, 16, 32, 64, 80, 84, 128, 256, 512, 768, 1024, 1536, 2048, 3072, 3328, 3412]\n",
    "| 5 | 20 | 15 | [1, 2, 4, 5, 8, 10, 16, 20, 32, 64, 128, 160, 256, 320, 512, 1024, 2048, 3072, 3392, 3412]\n",
    "|   |    |    |\n",
    " "
   ]
  },
  {
   "cell_type": "markdown",
   "metadata": {},
   "source": [
    "Для n : 27182\n",
    "\n",
    "| k | длина | минимальная длина | цепочка |\n",
    "| :- | :- | :- | :- |\n",
    "| 3 | 24 | 18 | [1, 2, 4, 8, 16, 32, 64, 128, 256, 512, 520, 1024, 1040, 2048, 2080, 2600, 4096, 4097, 8192, 8194, 12291, 16384, 24582, 27182]\n",
    "| 4 | 26 | 18 | [1, 2, 3, 4, 6, 7, 8, 14, 16, 32, 64, 128, 256, 512, 1024, 1280, 2048, 2560, 4096, 8192, 12288, 16384, 24576, 24608, 27168, 27182]\n",
    "| 5 | 27 | 18 | [1, 2, 3, 4, 6, 7, 8, 14, 16, 32, 64, 128, 256, 512, 544, 558, 1024, 2048, 3072, 4096, 6144, 8192, 12288, 13312, 16384, 26624, 27182]"
   ]
  },
  {
   "cell_type": "markdown",
   "metadata": {},
   "source": [
    "Для n : 25\n",
    "    \n",
    "| k | длина | минимальная длина | цепочка |\n",
    "| :- | :- | :- | :- |\n",
    " | 2 | 7 | 6 | [1, 2, 4, 8, 16, 17, 25]\n",
    " | 3 | 7 | 6 | [1, 2, 4, 8, 16, 24, 25]\n",
    "| 4 | 7 | 6 | [1, 2, 4, 8, 9, 16, 25]\n",
    " "
   ]
  },
  {
   "cell_type": "markdown",
   "metadata": {},
   "source": [
    "#### Вывод:\n",
    "Алгоритм Яо действительно строит аддитивные цепочки для заданных n и k, однако, полученные цепочки не обязательно минимальны - только при маленьких значениях n алгоритм способен выдавать цепочки, близкие к оптимальным. "
   ]
  },
  {
   "cell_type": "markdown",
   "metadata": {},
   "source": [
    "### Алгоритм алгоритм дробления вектора индексов"
   ]
  },
  {
   "cell_type": "code",
   "execution_count": 2,
   "metadata": {},
   "outputs": [],
   "source": [
    "import time\n",
    "from math import floor\n",
    "from math import log\n",
    "from math import ceil\n",
    "\n",
    "\n",
    "def _lambda(n):\n",
    "    return floor(log(n, 2))\n",
    "\n",
    "\n",
    "def _nu(n):\n",
    "    return bin(n).count(\"1\")\n",
    "\n",
    "\n",
    "def next_iteration(index_vector, start):\n",
    "    # изначально вектор индексов выглядит как [1,1,1,1...]\n",
    "    # на кадой итерации алгоритм пытается увеличить последний доступный индекс на 1,\n",
    "    # когда все элементы ВИ уже максимальны, в конец пушится еще 1 индекс со значением 1\n",
    "\n",
    "    cur_max_index = start + len(index_vector) - 1\n",
    "    for i in range(1, len(index_vector) + 1):\n",
    "        index_vector[-i] += 1\n",
    "        if index_vector[-i] > cur_max_index:\n",
    "            if i == len(index_vector):\n",
    "                index_vector.append(1)\n",
    "                break\n",
    "            index_vector[-i] = 1\n",
    "            cur_max_index -= 1\n",
    "        else:\n",
    "            break\n",
    "\n",
    "\n",
    "def create_chain(chain, index_vector):\n",
    "    for i in index_vector:\n",
    "        chain.append(chain[-1] + chain[i - 1])\n",
    "    return chain\n",
    "\n",
    "\n",
    "def make_chain(r_vector, ro_vector):\n",
    "    l_part = create_chain([1], r_vector)\n",
    "    return create_chain(l_part, ro_vector)\n",
    "\n",
    "\n",
    "def index_vector_split(n):\n",
    "    upper_l = _lambda(n) + _nu(n) - 1\n",
    "    lower_l = int(log(n, 2))\n",
    "    if lower_l == log(n, 2):\n",
    "        lower_l -= 1\n",
    "    while lower_l <= upper_l:\n",
    "        q = lower_l // 2\n",
    "        if not q:\n",
    "            q = 1\n",
    "        r_vector = [1 for i in range(q)]\n",
    "        while len(r_vector) == q:\n",
    "            ro_vector = [1 for q in range(lower_l - q)]\n",
    "            chain = make_chain(r_vector, ro_vector)\n",
    "            if chain[-1] == n:\n",
    "                return chain\n",
    "            a_max = chain[q] * 2 ** (lower_l - q)\n",
    "            a_min = chain[q] + lower_l - q\n",
    "            if n < a_min or n > a_max:\n",
    "                next_iteration(r_vector, 1)\n",
    "                continue\n",
    "            while len(ro_vector) == lower_l - q:\n",
    "                chain = make_chain(r_vector, ro_vector)\n",
    "                if chain[-1] == n:\n",
    "                    return chain\n",
    "                next_iteration(ro_vector, q + 1)\n",
    "            next_iteration(r_vector, 1)\n",
    "        lower_l += 1"
   ]
  },
  {
   "cell_type": "code",
   "execution_count": 24,
   "metadata": {},
   "outputs": [
    {
     "name": "stdout",
     "output_type": "stream",
     "text": [
      "Введите N: 25\n",
      "Время выполнения: 0.00034809112548828125 секунд\n",
      "Аддитивная цепочка: [1, 2, 3, 5, 10, 15, 25]\n",
      "Длина аддитивной цепочки: 7\n"
     ]
    }
   ],
   "source": [
    "\n",
    "if __name__ == \"__main__\":\n",
    "    n = int(input(\"Введите N: \"))\n",
    "    start = time.time()\n",
    "    add_chain = index_vector_split(n)\n",
    "    end = time.time()\n",
    "    print(\"Время выполнения:\", end - start, \"секунд\")\n",
    "    print(\"Аддитивная цепочка:\", add_chain)\n",
    "    print(\"Длина аддитивной цепочки:\", len(add_chain))\n"
   ]
  },
  {
   "cell_type": "markdown",
   "metadata": {},
   "source": [
    "В таблице ниже приведены результаты для некоторых n"
   ]
  },
  {
   "cell_type": "markdown",
   "metadata": {},
   "source": [
    "    \n",
    "| k | время, с | длина | цепочка |\n",
    "| :- | :- | :- | :- |\n",
    "| 501| 130| 13 | [1, 2, 3, 4, 7, 10, 20, 40, 80, 87, 167, 334, 501]\n",
    "| 512| 0.02| 10 | [1, 2, 4, 8, 16, 32, 64, 128, 256, 512]\n",
    "| 612| 203| 13 | [1, 2, 3, 5, 7, 12, 19, 38, 76, 152, 304, 309, 613]\n",
    "| 998 | 1598 | 14 | [1, 2, 3, 4, 7, 14, 17, 31, 62, 124, 248, 251, 499, 998]"
   ]
  },
  {
   "cell_type": "markdown",
   "metadata": {},
   "source": [
    "Далее приведена таблица сравнения длин АЦ алгоритма дробления вектора индексов с алгоритмом Яо и бинарным методом"
   ]
  },
  {
   "cell_type": "markdown",
   "metadata": {},
   "source": [
    "| n | Яо | ДВИ | Бинарный метод | \n",
    "| :- | :- | :- | :- |\n",
    "| 501 |15 | 13 | 14 |\n",
    "| 512 |10 | 10 | 9 |\n",
    "| 612 |14 | 13 | 13 |\n",
    "| 998 |17 | 14 | 15 |"
   ]
  },
  {
   "cell_type": "markdown",
   "metadata": {},
   "source": [
    "### Проверка следствия теоремы Брауера"
   ]
  },
  {
   "cell_type": "code",
   "execution_count": 7,
   "metadata": {},
   "outputs": [
    {
     "data": {
      "image/png": "[encoded data removed]",
      "text/plain": [
       "<Figure size 360x360 with 1 Axes>"
      ]
     },
     "metadata": {
      "needs_background": "light"
     },
     "output_type": "display_data"
    }
   ],
   "source": [
    "\n",
    "import pylab as plt\n",
    "    \n",
    "x = [i for i in range(2, 100)]\n",
    "y = [len(index_vector_split(i)) for i in x]\n",
    "    \n",
    "plt.figure(figsize=(5, 5))\n",
    "plt.scatter(x, y, color='b', marker='o')\n",
    "m = matrix([[sum([float((log(i)**2)) for i in x]), sum([float(log(i)) for i in x])], \n",
    "            [sum([float(log(i)) for i in x]), len(x)]])\n",
    "vec = vector([sum([float(y[i] * log(x[i])) for i in range(len(x))]), sum(y)])\n",
    "solution = m.solve_right(vec)\n",
    "plt.plot(n, [solution[0] * log(i) + solution[1] for i in n], color = 'y')\n",
    "plt.show()"
   ]
  },
  {
   "cell_type": "markdown",
   "metadata": {},
   "source": [
    "Таким образом, график наглядно показывает, что график функции l(n) можно аппроксимировать логарфмом, что подтверждает следствие №1 Теоремы Брауэра. $$\\lim_{n\\to\\infty} \\frac{l(n)}{\\lambda(n)} = 1$$"
   ]
  },
  {
   "cell_type": "markdown",
   "metadata": {},
   "source": [
    "### Проверка гипотезы Шольца-Брауэра"
   ]
  },
  {
   "cell_type": "code",
   "execution_count": null,
   "metadata": {},
   "outputs": [
    {
     "name": "stdout",
     "output_type": "stream",
     "text": [
      "n = 2, 3 <= 3\n",
      "n = 3, 5 <= 5\n",
      "n = 4, 6 <= 6\n",
      "n = 5, 8 <= 8\n",
      "n = 6, 9 <= 9\n",
      "n = 7, 11 <= 11\n",
      "n = 8, 11 <= 11\n",
      "n = 9, 13 <= 13\n",
      "n = 10, 14 <= 14\n"
     ]
    }
   ],
   "source": [
    "tests = [i for i in range(2, 11)]\n",
    "\n",
    "for t in tests:\n",
    "    l = len(index_vector_split(2 ** t - 1))\n",
    "    r = len(index_vector_split(t)) + t - 1\n",
    "    string = \" {} <= {}\".format(l, r) if l<= r else \" Failed : {} > {}\".format(l, r) \n",
    "    print(\"n = {},\".format(t) + string)"
   ]
  },
  {
   "cell_type": "markdown",
   "metadata": {},
   "source": [
    "\n",
    "| Значение $n$ | l^*(2^n-1) | l^*(n) + n - 1 |\n",
    "| :-: | :-: | :-: |\n",
    "| 2 | 3 | 3 |\n",
    "  | 2 | 3 | 3 |\n",
    "    | 3 | 5 | 5 |\n",
    "   | 4 | 6 | 6 |\n",
    "    | 5 | 8 | 8 |\n",
    "    | 6 | 9 | 9 |\n",
    "    | 7 | 11 | 11 |\n",
    "    | 8 | 11 | 11 |\n",
    "    | 9 | 13 | 13 |\n",
    "   | 10 | 14 | 14 |\n",
    "\n"
   ]
  },
  {
   "cell_type": "markdown",
   "metadata": {},
   "source": [
    "# Вывод"
   ]
  },
  {
   "cell_type": "markdown",
   "metadata": {},
   "source": [
    "В ходе выполнения практической работы были получены первоначальные навыки работы с математическим пакетом SageMath, а также были изучены и закреплены на практике следующие темы:\n",
    "\n",
    "    1) Понятие об аддитивный цепочках\n",
    "    2) Методы построение АЦ : бинарный, множителей\n",
    "    3) Были реализованы приближенные и точные алгоритмы вычисления АЦ (Яо, ДВИ)\n",
    "    4) Были проверены следствие №1 теоремы Брауера и гипотеза  Шольца-Брауэра\n",
    "    5) Был проведен сравнительный анализ некоторых алгоритмов"
   ]
  },
  {
   "cell_type": "code",
   "execution_count": null,
   "metadata": {},
   "outputs": [],
   "source": []
  },
  {
   "cell_type": "code",
   "execution_count": null,
   "metadata": {},
   "outputs": [],
   "source": []
  }
 ],
 "metadata": {
  "kernelspec": {
   "display_name": "SageMath 9.0",
   "language": "sage",
   "name": "sagemath"
  },
  "language_info": {
   "codemirror_mode": {
    "name": "ipython",
    "version": 3
   },
   "file_extension": ".py",
   "mimetype": "text/x-python",
   "name": "python",
   "nbconvert_exporter": "python",
   "pygments_lexer": "ipython3",
   "version": "3.8.5"
  }
 },
 "nbformat": 4,
 "nbformat_minor": 4
}
