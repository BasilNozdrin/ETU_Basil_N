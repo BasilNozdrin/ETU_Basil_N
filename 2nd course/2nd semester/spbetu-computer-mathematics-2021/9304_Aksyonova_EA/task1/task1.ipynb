{
 "cells": [
  {
   "cell_type": "markdown",
   "metadata": {},
   "source": [
    "# Практическая работа №1: Исследование алгоритмов формирования аддитивных цепочек\n",
    "\n",
    "Выполнила студентка гр. 9304 Аксёнова Екатерина, вариант 22."
   ]
  },
  {
   "cell_type": "markdown",
   "metadata": {},
   "source": [
    "## Цель работы\n",
    "Формирование представления о аддитивных цепочках, выработать умение составлять и применять алгоритмы для нахождения минимальных аддитивных цепочек для заданного числа, привить навык использования систем компьютерной алгебры для реализации алгоритмов."
   ]
  },
  {
   "cell_type": "markdown",
   "metadata": {},
   "source": [
    "## Основные теоритические положения\n",
    "Пусть требуется возвести число $x$ в некоторую степень $n \\in \\mathbb{N}$. Далее представлены некоторые методы для возведенния чисел в натуральную степень за минимальное количество операций.\n",
    "\n",
    "__Бинарный метод.__\n",
    "\n",
    "Для данного метода возведения в степень $n$ необходимо записать её в двоичной системе счисления:\n",
    "<center>$n_d = (a_m a_{m-1} a_{m-2} \\dots a_2 a_1)_b$,</center>\n",
    "где $a_m = 1$.\n",
    "\n",
    "Тогда данную степень можно представить в виде:\n",
    "<center>$n = 2^{m-1}a_{m} + 2^{m-2}a_{m-1} + \\dots + 2^0a_1$,</center>\n",
    "<center>$n = 2^{m-2}(2a_{m} + a_{m-1}) + \\dots + 2^0a_1$,</center>\n",
    "<center>$\\dots$</center>\n",
    "<center>$n = 2(\\dots(2a_{m} + a_{m-1})+a_{m-2})\\dots) + a_1$,</center>\n",
    "Далее расматриваем данное разложение:\n",
    "\n",
    "<ol>\n",
    "<li> Отбрасываем первый бит; </li>\n",
    "<li> Двигается по числу слева-направо;\n",
    "<ol type=\"a\">\n",
    "<li> Если текущий бит числа равен 1, то возводим текущее число в квадрат, а затем умножаем его на основание;</li>\n",
    "<li> Если текущий бит числа равен 0, то возводим текущее число в квадрат;</li>\n",
    "    \n",
    "    \n",
    "</ol>\n",
    "</li>\n",
    "</ol>\n",
    "Количество операций для данного метода расчитывается по формуле:\n",
    "\n",
    "\n",
    "<center>$\\lambda(n) + \\nu(n) - 1$,</center>\n",
    "где $\\lambda(n) - \\left\\lfloor lb(n)\\right\\rfloor$ - максимальное целое, непревосходящее x, $\\nu(n)$ - количество ненулевых символов в двоичной записи числа (вес Хэмминга).\n",
    "\n",
    "__Метод множителей.__\n",
    "\n",
    "Для данного метода возведения в степень $n$ ($n \\in \\mathbb{N}$) необходимо:\n",
    "\n",
    "<ol>\n",
    "<li> Представить число $n$ в виде $n = i \\cdot j$, где $i$ - наименьший простой множитель числа $n$; </li>\n",
    "    \n",
    "<li> Далее возводим число $x$ в степень $i$;\n",
    "<li> Рассматриваем новое основание $y = x^i$\n",
    "</ol>\n",
    "Если же степень $n$ - простое число, то выполняем данный алгоритм для $k = n-1$, а затем домножаем на $n$.\n",
    "    \n",
    "Тогда, если мы можем возвести число в степень $i$ за $m$ операций, а в степень $j$ за $n$ операций, то сложность алгоритма метода множителей равна $m+n$\n",
    "\n",
    "__Определение аддитивной цепочки__\n",
    "\n",
    "Аддитивной цепочкой для некоторого натурального числа $n$ называют последовательность натуральных чисел $1 = a_0, a_1, \\dots ,a_m = n$, которые обладают свойством:\n",
    "\n",
    "<center>$a_i = a_j+a_k, k \\le j < i, \\forall i = \\{1, 2, \\dots, m\\}$</center>\n",
    "\n",
    "Наименьшя длина такой цепочки - $l(n) = m$\n",
    "\n",
    "При $n < 1000$ справелива следующая рекуррентная формула для вычисления минимальной длины аддитивной цепочки:\n",
    "\n",
    "<center>$l(n) = min\\{l(n-1) + 1, l_n\\} + \\delta_n $,</center>\n",
    "где\n",
    "<center> $l(n) = \n",
    "\\begin{cases}\n",
    "    \\infty & p \\text{ - простое}\\\\\n",
    "    l \\left( q \\right) + l \\left( \\dfrac{p}{q} \\right) & \\text{где } q \\text{ - минимальный простой делитель числа } p\n",
    "    \\end{cases}$</center>\n",
    "<center>$\\\\ \\delta_n \\in \\{0,1\\} \\qquad (\\delta_n$  = 1 в 105 случаях из 1000)</center>\n",
    "\n",
    "__Метод Брауэра__\n",
    "\n",
    "При некотором $k < \\mathrm{log_2} \\mathrm{log_2}n $ справедливо следующее: $ l \\left( n \\right) < \\left( 1 + k^{-1} \\right) \\left\\lceil \\mathrm{log_2}n \\right\\rceil + 2^{k - 1} - k + 2 $.\n",
    "\n",
    "Пусть $k = \\lambda \\left(\\lambda \\left( n \\right) \\right) - 2 \\lambda \\left( \\lambda \\left( \\lambda \\left( n \\right) \\right) \\right)$\n",
    "\n",
    "Тогда получаем следующие следствия:\n",
    "\n",
    "<ol>\n",
    "<li> $ \\lim\\limits_{n \\rightarrow \\infty} \\dfrac{l \\left( n \\right)}{\\lambda \\left( n \\right)} = 1 $ </li>\n",
    "    \n",
    "<li> Наилучшая верхняя оценка длины аддитивной цепочки: $ \\lambda \\left( n \\right) \\left( 1 + \\dfrac{1}{\\lambda \\left( \\lambda \\left( n \\right) \\right)} + \\dfrac{o \\left( \\lambda \\left( \\lambda \\left( \\lambda \\left( n \\right) \\right) \\right) \\right)}{\\left( \\lambda \\left( \\lambda \\left( n \\right) \\right) \\right)^2} \\right)$.</li>\n",
    "</ol>\n",
    "\n",
    "__Алгоритм Яо__\n",
    "\n",
    "Пусть имеются натуральное число $ n $ и параметр $ k \\geq 2 $. \n",
    "\n",
    "Тогда можем представить $n$ в виде $ n = \\displaystyle\\sum\\limits_{i = 0}^{j} 2^{ik} a_{i} $. \n",
    "\n",
    "Введём функцию $ d \\left( z \\right) = \\displaystyle\\sum\\limits_{i: a_{i} = z} 2^{ik} $.\n",
    "\n",
    "Цепочка Яо для $ n $ и некоторого параметра $ k $ начинается со степеней двоек: $ Y_{k} \\left( n \\right) = \\{ 1, 2, 4, \\dots, 2^{\\lambda \\left( n \\right)} \\} $, после для всех $ z \\in \\{ 1, 2, \\dots, 2^{k} - 1\\} $ вычисляются $ d \\left( z \\right) \\ne 0 $ и $ z d\\left( z \\right) $.Тогда $ n = \\displaystyle\\sum\\limits_{z = 1}^{2^{k} - 1} z d \\left( z \\right) $.\n",
    "\n",
    "Данный алгоритм находит аддитивную цепочку, но она не обязательно будет минимальной.\n",
    "\n",
    "__Звёздная цепочка__\n",
    "\n",
    "\n",
    "Звёздной цепочкой - аддитивная цепочка, обладающая свойством: $ \\forall i \\in \\{1, 2, \\dots, m\\}: a_{i} = a_{i - 1} + a_{k} $, где $ k \\in \\{0, 1, \\dots, i - 1\\} $. \n",
    "\n",
    "$l^{*} \\left( n \\right)$ - длина минимальной звёздной цепочки. \n",
    "\n",
    "$l^{*} \\left( n \\right) = m$. Очевидно, что $ l^{*} \\left( n \\right) \\geq l \\left( n \\right) $).\n",
    "\n",
    "\n",
    "__Гипотеза Шольца-Брауэра__\n",
    "\n",
    "Данная гипотеза для всех звездных цепочек заключается в следующем:\n",
    "\n",
    "<center> $ l^{*} \\left( 2^{n} - 1 \\right) \\le l^{*} \\left( n \\right) + n - 1 $. </center>\n",
    "\n",
    "__Алгоритм дробления вектора индексов__\n",
    "\n",
    "Данный метод находит наименьшую звездную цепочку для числа $n$.\n",
    "\n",
    "Для звёздной цепочки $ \\left\\{ a_{i} \\right\\}^{m+1}_{i = 1} $ ($ a_{1} = 1 $) длины $ l \\left( n \\right) = m $, можно определить вектор индексов $ \\left\\{ r_{i} \\right\\}_{i = 1}^{m} $, где $ r_{i} = \\left\\{ x \\; \\middle| \\; 1 \\leq x \\leq i \\right\\} $, такой, что $ a_{i} = a_{i - 1} + a_{r_{i - 1}}$, $\\forall i \\in \\left\\{ 2, 3, \\dots, m \\right\\}$.\n",
    "\n",
    "Тогда наибольшей звёздной цепочке фиксированной длины $m$ $S_{max} = \\{1, 2, 4, \\dots, 2^m\\}$ соответствует вектор индексов: $r_{max} = \\{1, 2, 3, 4, \\dots, m\\}$, а наименьшей $S_{min} = \\{1, 2, 3, \\dots, m\\}$ - $r_{min} = \\{1, 1, 1, 1, \\dots, 1 \\}$.\n",
    "\n",
    "Нахождение минимальной звездной цепочки - переборная задача.\n",
    "\n",
    "Разобьём вектор индексов $ \\left\\{ r_{i} \\right\\}_{i = 1}^{m} $ на две части: \n",
    "<ol>\n",
    "<li>фиксированный вектор $ \\left\\{ r_{i} \\right\\}_{i = 1}^{q} $.</li>\n",
    "<li>меняющийся вектор $ \\left\\{ \\rho_{j} \\right\\}_{j = q + 1}^{m} $, где $ \\rho_{j} = \\left\\{ x \\; \\middle| \\; 1 \\le x \\le j \\right\\} $.</li>\n",
    "</ol>\n",
    "Таких наборов получается $ \\dfrac{m!}{q!} $.\n",
    "\n",
    "Тогда можем вычислить максимальное и минимальное значение для фиксированных значений $r$ и $\\rho$:\n",
    "<center>$a_{max}:\\left\\{ r_{i} \\right\\}_{i = 1}^{q} \\cup \\left\\{ q + 1, q + 2, \\dots, m \\right\\}$, следовательно $a_{max} = a_{q + 1} \\cdot 2^{m - q} $ </center>\n",
    "\n",
    "<center>$a_{max}:\\left\\{ r_{i} \\right\\}_{i = 1}^{q} \\cup \\{ \\underbrace{1, 1, 1, \\dots, 1}_{m - q} \\}$, следовательно $a_{min} = a_{q + 1} + m - q $ </center>\n",
    "\n",
    "На каждом этапе алгоритма выбираем некое число $ q \\in \\mathbb{N} $ такое, что $ 1 \\leq q \\leq m - 1 $. Затем перебираем все $ \\left\\{ r_{i} \\right\\}_{i = 1}^{q} $, для которых вычисляем значения $ a_{min} $ и $ a_{max} $. Если $ n \\notin \\left[ a_{min}; a_{max} \\right] $, то переходим к следующему набору $ \\left\\{ r_{i} \\right\\}_{i = 1}^{q} $. \n",
    "<ol>\n",
    "<li> Если $ n \\notin \\left[ a_{min}; a_{max} \\right] $, то переходим к следующему набору $ \\left\\{ r_{i} \\right\\}_{i = 1}^{q} $.</li>\n",
    "<li>Если $ n \\in \\left[ a_{min}; a_{max} \\right] $, то перебираем все $ \\left\\{ \\rho_{j} \\right\\}_{j = q + 1}^{m - 1} $ и вычисляем для каждой $ a_{m} $ пока либо оно не станет равным $ n $ и мы не получим ответ, либо пока все $ \\rho_{j} $ не станут равными 1.</li>\n",
    "<li> Если все $ r_{i} $ и $ \\rho_{j} $ станут равными 1, то переходим к следующему $ m $, где $\\lceil \\mathrm{log_2}n \\rceil \\le m \\le \\lambda(n)+\\nu(n)-1$</li>\n",
    "</ol>"
   ]
  },
  {
   "cell_type": "markdown",
   "metadata": {},
   "source": [
    "## Постановка задачи\n",
    "Реализовать точные и приближённые алгоритмы нахождения минимальных аддитивных цепочек с использованием системы компьютерной алгебры SageMath, провести анализ алгоритмов. Полученные результаты содержательно проинтерпретировать.\n",
    "\n",
    "<ol>\n",
    "<li> Применить бинарный метод и метод множителей для $x^n$, где $n \\ge 30$, для $2-3$ значений $n$ (значения $n$ выбирается студентом самостоятельно). Сравнить количество операций для каждого метода, сделать выводы.</li>\n",
    "<li> Реализовать алгоритм Брауэра (для нечётных вариантов) или алгоритм Яо (для чётных вариантов) для вычисления приближённых аддитивных цепочек для различных чисел при варьировании параметра k, сопоставить длины полученных аддитивных цепочек с минимальной аддитивной цепочкой для заданного числа. Сделать выводы. </li>\n",
    "<li> Реализовать алгоритм дробления вектора индексов для нахождения минимальной звёздной цепочки для заданного числа. Протестировать алгоритм при $n > 500$. Указать, сколько времени потребовалось на поиск цепочки и какая цепочка получилась. Сравнить с предыдущими методами, сделать выводы.</li>\n",
    "<li> Проверить следствие 1 теоремы Брауэра для $n = 1 \\dots 200$ путём построения функции $l(n)$ и аппроксимирующей кривой, полученной с помощью метода наименьших квадратов. Сопоставить функции на одном графике, сделать выводы.</li>\n",
    "<li> Проверить гипотезу Шольца–Брауэра для $1 < n \\le 10$ на алгоритме дробления вектора индексов. Сделать выводы.</li>\n",
    "<li> Дополнительное необязательное задание: найти и/или предложить модификации алгоритмов и привести описание модификаций. Реализовать модифицированные алгоритмы и сравнить их мощность.</li>\n",
    "</ol>"
   ]
  },
  {
   "cell_type": "markdown",
   "metadata": {},
   "source": [
    " ## Выполение работы"
   ]
  },
  {
   "cell_type": "markdown",
   "metadata": {},
   "source": [
    "### Бинарный метод и метод множителей\n",
    "\n",
    "Рассмотрим степени: 33, 47, 78, 127,255\n",
    "\n",
    "__Возведем в степень 33:__\n",
    "\n",
    "$ \\quad $ *Бинарный метод:*\n",
    "\n",
    "$ \\qquad n = 33_{d} = 100001_{b} $.\n",
    "\n",
    "$ \\qquad x \\to x \\cdot x = x^{2} \\to x^{2} \\cdot x^{2} = x^{4} \\to x^{4} \\cdot x^{4} = x^{8} \\to x^{8} \\cdot x^{8} = x^{16} \\to x^{16} \\cdot x^{16} = x^{32} \\to x^{32} \\cdot x^{x}$.\n",
    "\n",
    "$ \\quad $ Число операций бинарного метода равно $ \\lambda \\left( 33 \\right) + \\nu \\left( 33 \\right) - 1 = 5 + 2 - 1 = 6 $.\n",
    "\n",
    "$ \\quad $ *Метод множителей:*\n",
    "\n",
    "$ \\qquad n = 33 = 3 \\cdot 11 $.\n",
    "\n",
    "$ \\qquad x \\to x \\cdot x = x^{2} \\to x^{2} \\cdot x = x^{3} =: y $.\n",
    "\n",
    "$ \\qquad y \\to y \\cdot y = y^{2} \\to y^{2} \\cdot y^{2} = y^{4} \\to y^{4} \\cdot y = y^{5} \\to y^{5} \\cdot y^{5} = y^{10} \\to y^{10} \\cdot y = y^{11} = x^{33}$.\n",
    "\n",
    "\n",
    "$ \\quad $ Число операций метода множителей равно $ 7 $.\n",
    "\n",
    "__Возведем в степень 47:__\n",
    "\n",
    "$ \\quad $ *Бинарный метод:*\n",
    "\n",
    "$ \\qquad n = 47_{d} = 101111_{b} $.\n",
    "\n",
    "$ \\qquad x \\to x \\cdot x = x^{2} \\to x^{2} \\cdot x^{2} = x^{4} \\to x^{4} \\cdot x = x^{5} \\to x^{5} \\cdot x^{5} = x^{10} \\to x^{10} \\cdot x = x^{11} \\to x^{11} \\cdot x^{11} = x^{22} \\to x^{22} \\cdot x = x^{23} \\to x^{23} \\cdot x^{23} = x^{46} \\to x^{46} \\cdot x = x^{47} $.\n",
    "\n",
    "$ \\quad $ Число операций бинарного метода равно $ \\lambda \\left( 45 \\right) + \\nu \\left( 45 \\right) - 1 = 5 + 5 - 1 = 9 $.\n",
    "\n",
    "$ \\quad $ *Метод множителей:*\n",
    "\n",
    "$ \\qquad n = 47$ - простое.\n",
    "\n",
    "$ \\qquad x \\to x \\cdot x = x^{2} =: y $.\n",
    "\n",
    "$ \\qquad y \\to y \\cdot y =: z $.\n",
    "\n",
    "$ \\qquad z \\to z \\cdot z = z^{2} \\to z^{2} \\cdot z^{2} = z^{4} \\to z^{4} \\cdot z = z^{5} \\to z^{5} \\cdot z^{5} = z^{10} \\to z^{10} \\cdot z = z^{11} = y ^{22} \\to y^{22} \\cdot y = y^{23} = x^{46} \\to x^{46} \\cdot x = x^{47}$.\n",
    "\n",
    "$ \\quad $ Число операций метода множителей равно $ 9 $.\n",
    "\n",
    "__Возведем в степень 78:__\n",
    "\n",
    "$ \\quad $ *Бинарный метод:*\n",
    "\n",
    "$ \\qquad n = 78_{d} = 1001110_{b} $.\n",
    "\n",
    "$ \\qquad x \\to x \\cdot x = x^{2} \\to x^{2} \\cdot x^{2} = x^{4} \\to x^{4} \\cdot x^{4} = x^{8} \\to x^{8} \\cdot x = x^{9} \\to x^{9} \\cdot x^{9} = x^{18} \\to x^{18} \\cdot x = x^{19} \\to x^{19} \\cdot x^{19} = x^{38} \\to x^{38} \\cdot x = x^{39} \\to x^{39} \\cdot x^{39} = x^{78} $\n",
    "\n",
    "$ \\quad $ Число операций бинарного метода равно $ \\lambda \\left( 45 \\right) + \\nu \\left( 45 \\right) - 1 = 6 + 4 - 1 = 9 $.\n",
    "\n",
    "$ \\quad $ *Метод множителей:*\n",
    "\n",
    "$ \\qquad n = 78 = 2 \\cdot 3 \\cdot 13$.\n",
    "\n",
    "$ \\qquad x \\to x \\cdot x = x^{2} =: y $.\n",
    "\n",
    "$ \\qquad y \\to y \\cdot y = y^{2} \\to y^{2} \\cdot y = y^{3} =: z $.\n",
    "\n",
    "$ \\qquad z \\to z \\cdot z = z^{2} \\to z^{2} \\cdot z = z^{3} \\to z^{3} \\cdot z^{3} = z^{6} \\to z^{6} \\cdot z^{6} = z^{12} \\to z^{12} \\cdot z = z^{13} = y^{39} = x^{78}$.\n",
    "\n",
    "$ \\quad $ Число операций метода множителей равно $ 8 $.\n",
    "\n",
    "__Возведем в степень 127:__\n",
    "\n",
    "$ \\quad $ *Бинарный метод:*\n",
    "\n",
    "$ \\qquad n = 127_{d} = 1111111_{b} $.\n",
    "\n",
    "$ \\qquad x \\to x \\cdot x = x^{2} \\to x^{2} \\cdot x = x^{3} \\to x^{3} \\cdot x^{3} = x^{6} \\to x^{6} \\cdot x = x^{7} \\to x^{7} \\cdot x^{7} = x^{14} \\to x^{14} \\cdot x = x^{15} \\to x^{15} \\cdot x^{15} = x^{30} \\to x^{30} \\cdot x = x^{31} \\to x^{31} \\cdot x^{31} = x^{62} \\to x^{62} \\cdot x = x^{63} \\to x^{63} \\cdot x^{63} = x^{126} \\to x^{126} \\cdot x = x^{127}$.\n",
    "\n",
    "$ \\quad $ Число операций бинарного метода равно $ \\lambda \\left( 45 \\right) + \\nu \\left( 45 \\right) - 1 = 6 + 7 - 1 = 12 $.\n",
    "\n",
    "$ \\quad $ *Метод множителей:*\n",
    "\n",
    "$ \\qquad n = 127$ - простое число.\n",
    "\n",
    "$ \\qquad y \\to y \\cdot y = y^{2} =: z $.\n",
    "\n",
    "$ \\qquad z \\to z \\cdot z = z^{2} \\to z^{2} \\cdot z = z^{3} =: w $.\n",
    "\n",
    "$\\qquad w \\to w \\cdot w = w^{2} \\to w^{2} \\cdot w = w^{3} =: s$\n",
    "\n",
    "$\\qquad s \\to s \\cdot s = s^{2} \\to s^{2} \\cdot s = s^{3} \\to s^{3} \\cdot s^{3} = s^{6} \\to s^{6} \\cdot s = s^{7}  = w^{21} = z^{63} = y^{126} \\to y^{126} \\cdot y = y^{127}$\n",
    "\n",
    "$ \\quad $ Число операций метода множителей равно $ 10 $.\n",
    "\n",
    "__Возведем в степень 257:__\n",
    "\n",
    "$ \\quad $ *Бинарный метод:*\n",
    "\n",
    "$ \\qquad n = 257_{d} = 100000001_{b} $.\n",
    "\n",
    "$ \\qquad x \\to x \\cdot x = x^{2} \\to x^{2} \\cdot x^{2} = x^{4} \\to x^{4} \\cdot x^{4} = x^{8} \\to x^{8} \\cdot x^{8} = x^{16} \\to x^{16} \\cdot x^{16} = x^{32} \\to x^{32} \\cdot x^{32} = x^{64} \\to x^{64} \\cdot x^{64} = x^{128} \\to x^{128} \\cdot x^{128} = x^{256} \\to x^{256} \\cdot x = x^{257}$.\n",
    "\n",
    "$ \\quad $ Число операций бинарного метода равно $ \\lambda \\left( 45 \\right) + \\nu \\left( 45 \\right) - 1 = 8 + 2 - 1 = 9 $.\n",
    "\n",
    "$ \\quad $ *Метод множителей:*\n",
    "\n",
    "$ \\qquad n = 257$ - простое число.\n",
    "\n",
    "$ \\qquad x \\to x \\cdot x = x^{2} =: y $.\n",
    "\n",
    "$ \\qquad y \\to y \\cdot y = y^{2} \\to y^{2} \\cdot y^{2} = y^{4} \\to y^{4} \\cdot y^{4} = y^{8} \\to y^{8} \\cdot y^{8} = y^{16} \\to y^{16} \\cdot y^{16} = y^{32} \\to y^{32} \\cdot y^{32} = y^{64} \\to y^{64} \\cdot y^{64} = y^{128} = x^{256} \\to x^{256} \\cdot x = x^{257} $.\n",
    "\n",
    "\n",
    "$ \\quad $ Число операций метода множителей равно $ 9 $."
   ]
  },
  {
   "cell_type": "markdown",
   "metadata": {},
   "source": [
    "Для проверки и применения далее в работе бинарного метода и метода множителей быстрого возведения в тепень были реализованы функции BinMethod() и MulMethod():"
   ]
  },
  {
   "cell_type": "code",
   "execution_count": 2,
   "metadata": {},
   "outputs": [],
   "source": [
    "def BinMethod (x, n):\n",
    "    binN = ''\n",
    "    degree = n\n",
    "    while n != 1:\n",
    "        rem = n % 2\n",
    "        binN += str(rem)\n",
    "        n = n // 2\n",
    "    binN = binN[::-1]\n",
    "    counter = 0\n",
    "    base = x[0]\n",
    "    while len(binN) > 0:\n",
    "        x[0] *= x[0]\n",
    "        counter += 1\n",
    "        if binN[0] == '1':\n",
    "            x[0] *= base\n",
    "            counter += 1\n",
    "        binN = binN[1:]\n",
    "    if base**degree == x[0]:\n",
    "        return counter\n",
    "    else:\n",
    "        return -1\n",
    "\n",
    "    \n",
    "def MulMethod (x, n):\n",
    "    listOfDividers = []\n",
    "    decay = list(factor(n));\n",
    "    if len(decay) == 1 and decay[0][1] == 1:\n",
    "        counter = MulMethod(x, n - 1);\n",
    "        x[0] *= x[0]\n",
    "        return counter + 1\n",
    "    for div in decay:\n",
    "        for it in range(div[1]):\n",
    "            listOfDividers.append(div[0])\n",
    "    counter = 0\n",
    "    base = x[0]\n",
    "    for div in listOfDividers:\n",
    "        res = BinMethod(x, div)\n",
    "        if res != -1:\n",
    "            counter += res\n",
    "        else:\n",
    "            return -1\n",
    "    if base**n == x[0]:\n",
    "        return counter\n",
    "    else:\n",
    "        return -1"
   ]
  },
  {
   "cell_type": "markdown",
   "metadata": {},
   "source": [
    "Для данных $n = 33, 47, 78, 127, 257$ производим проверку работы программы.\n",
    "\n",
    "Нижу приведена таблица с данными о работе методов, которая представляет нам количество операций, необходимых для возведения в степень."
   ]
  },
  {
   "cell_type": "code",
   "execution_count": 3,
   "metadata": {
    "scrolled": false
   },
   "outputs": [
    {
     "data": {
      "text/html": [
       "<center><table><center><h3>Таблица с количеством операций бинарного метода и метода множителей для степеней 33, 47, 78, 127, 257:</h3></center><tr><td><h1>  Base   </h1><td><td><h1>   Power   </h1><td><td><h1>Binary method count of opperations</h1><td><td><h1>Multiply method count of operations</h1><td></tr><tr><td><h1>7</h1><td><td><h1>33</h1><td><td><h1>6</h1><td><td><h1>7</h1><td></tr><tr><td><h1>7</h1><td><td><h1>47</h1><td><td><h1>9</h1><td><td><h1>9</h1><td></tr><tr><td><h1>7</h1><td><td><h1>78</h1><td><td><h1>9</h1><td><td><h1>8</h1><td></tr><tr><td><h1>7</h1><td><td><h1>127</h1><td><td><h1>12</h1><td><td><h1>10</h1><td></tr><tr><td><h1>7</h1><td><td><h1>257</h1><td><td><h1>9</h1><td><td><h1>9</h1><td></tr></table></center>"
      ],
      "text/plain": [
       "<IPython.core.display.HTML object>"
      ]
     },
     "metadata": {},
     "output_type": "display_data"
    }
   ],
   "source": [
    "from IPython.display import HTML, display\n",
    "def table(data):\n",
    "    html = \"<center><table>\"\n",
    "    html += '<center><h3>Таблица с количеством операций бинарного метода и метода множителей для степеней 33, 47, 78, 127, 257:</h3></center>'\n",
    "    for row in data:\n",
    "        html += \"<tr>\"\n",
    "        for field in row:\n",
    "            html += \"<td><h1>%s</h1><td>\"%(field)\n",
    "        html += \"</tr>\"\n",
    "    html += \"</table></center>\"\n",
    "    display(HTML(html))\n",
    "    \n",
    "x = 7\n",
    "n = [33, 47, 78, 127, 257]\n",
    "data = [[\"  Base   \", \"   Power   \", \"Binary method count of opperations\", \"Multiply method count of operations\"]]\n",
    "for i in n:\n",
    "    data.append([x, i, BinMethod([x], i), MulMethod([x], i)])\n",
    "table(data)"
   ]
  },
  {
   "cell_type": "markdown",
   "metadata": {},
   "source": [
    "__Вывод:__\n",
    "Из представленной выше таблицы можем сделвть вывод, что в большинтсве случаев метод множителй работает быстрее, либо так же, как и бинарный мтод. Однако в случае, когда $n = 2^k +1$, бинарный метод работает быстрее."
   ]
  },
  {
   "cell_type": "markdown",
   "metadata": {},
   "source": [
    "### Алгоритм Яо\n",
    "\n",
    "Для применения алгоритма дробления вектора индекса была реализована функция Яо(Yao()), а так же вспомогательные функции (binDec):"
   ]
  },
  {
   "cell_type": "code",
   "execution_count": 4,
   "metadata": {
    "scrolled": true
   },
   "outputs": [],
   "source": [
    "import math\n",
    "\n",
    "def binDec (n):\n",
    "    binN = ''\n",
    "    number = n\n",
    "    while n != 1:\n",
    "        rem = n % 2\n",
    "        binN += str(rem)\n",
    "        n = n // 2\n",
    "    binN = binN[::-1]\n",
    "    degrees = [1]\n",
    "    while len(binN) > 0:\n",
    "        degrees.append(degrees[-1] * 2)\n",
    "        if binN[0] == '1':\n",
    "            degrees.append(degrees[-1] + 1)\n",
    "        binN = binN[1:]\n",
    "    return degrees\n",
    "\n",
    "def Yao (n, k):\n",
    "    i = 0\n",
    "    chain = []\n",
    "    listOfDzZ = {}\n",
    "    log = int(math.log2(n))\n",
    "    if (2**log != n):\n",
    "        log += 1\n",
    "    for x in range(log + 1):\n",
    "        chain.append(2**x)\n",
    "    while 2 ** ((i+1) * k) < n:\n",
    "        i+=1\n",
    "    while n != 0:\n",
    "        mul = n // 2**(i * k)\n",
    "        n -= mul * 2**(i * k)\n",
    "        if mul in listOfDzZ.keys():\n",
    "            listOfDzZ[mul] += 2**(i * k)\n",
    "        else:\n",
    "            listOfDzZ.update({mul: 2**(i * k)})\n",
    "        i-=1\n",
    "    sumZdZ = 0\n",
    "    listSumZdZ = []\n",
    "    for dz in listOfDzZ:\n",
    "        if dz == 0:\n",
    "            continue\n",
    "        for x in binDec(dz):\n",
    "            chain.append(x * listOfDzZ[dz])\n",
    "        if sumZdZ == 0:\n",
    "            sumZdZ += dz * listOfDzZ[dz]\n",
    "        else:\n",
    "            sumZdZ += dz * listOfDzZ[dz]\n",
    "            listSumZdZ.append(sumZdZ)\n",
    "    for x in listSumZdZ:\n",
    "        chain.append(x)\n",
    "    return chain"
   ]
  },
  {
   "cell_type": "markdown",
   "metadata": {},
   "source": [
    "Для анализа работы алгоритма использовались числа $n = 17, 24, 37, 208, 505$ и параметр $k = 2, 3, 4$.\n",
    "\n",
    "Ниже представлены таблицы со значениями минимальных длин для аддитивный цепочек, а так же результат работы алгоритма Яо."
   ]
  },
  {
   "cell_type": "code",
   "execution_count": 5,
   "metadata": {},
   "outputs": [
    {
     "data": {
      "text/html": [
       "<center><table><center><h3>Минимальные длины аддитивных цепочек для n = 17, 24, 37, 208, 505:</h3></center><tr><td><h1>Base n</h1><td><td><h1>Min length of the additive chain</h1><td><td><h1>Min additive chain</h1><td></tr><tr><td><h1>17</h1><td><td><h1>6</h1><td><td><h1>[1, 2, 4, 8, 16, 17]</h1><td></tr><tr><td><h1>24</h1><td><td><h1>6</h1><td><td><h1>[1, 2, 3, 6, 12, 24]</h1><td></tr><tr><td><h1>37</h1><td><td><h1>8</h1><td><td><h1>[1, 2, 4, 8, 9, 18, 36, 37]</h1><td></tr><tr><td><h1>208</h1><td><td><h1>10</h1><td><td><h1>[1, 2, 3, 6, 12, 13, 26, 52, 104, 208]</h1><td></tr><tr><td><h1>505</h1><td><td><h1>13</h1><td><td><h1>[1, 2, 3, 6, 12, 15, 30, 60, 63, 126, 252, 504, 505]</h1><td></tr></table></center>"
      ],
      "text/plain": [
       "<IPython.core.display.HTML object>"
      ]
     },
     "metadata": {},
     "output_type": "display_data"
    }
   ],
   "source": [
    "from IPython.display import HTML, display\n",
    "def table(data):\n",
    "    html = \"<center><table>\"\n",
    "    html += '<center><h3>Минимальные длины аддитивных цепочек для n = 17, 24, 37, 208, 505:</h3></center>'\n",
    "    for row in data:\n",
    "        html += \"<tr>\"\n",
    "        for field in row:\n",
    "            html += \"<td><h1>%s</h1><td>\"%(field)\n",
    "        html += \"</tr>\"\n",
    "    html += \"</table></center>\"\n",
    "    display(HTML(html))\n",
    "    \n",
    "x = [ 6, 6, 8, 10, 13]\n",
    "n = [17, 24, 37, 208, 505]\n",
    "c = [[1,2,4,8,16,17], [1,2,3,6,12,24], [1,2,4,8,9,18,36,37], [1,2,3,6,12,13,26,52,104,208], [1,2,3,6,12,15,30,60,63,126,252,504,505]]\n",
    "data = [[\"Base n\", \"Min length of the additive chain\", \"Min additive chain\"]]\n",
    "for i in range(5):\n",
    "        data.append([n[i], x[i],c[i]])\n",
    "table(data)"
   ]
  },
  {
   "cell_type": "code",
   "execution_count": 6,
   "metadata": {},
   "outputs": [
    {
     "data": {
      "text/html": [
       "<center><table><center><h3>Результаты работы алгоритма Яо:</h3></center><tr><td><h4>Base n</h4><td><td><h4>Parameter k</h4><td><td><h4>Length of the additive chain</h4><td><td><h4>Additive chain</h4><td></tr><tr><td><h4>17</h4><td><td><h4>2</h4><td><td><h4>7</h4><td><td><h4>[1, 2, 4, 8, 16, 32, 17]</h4><td></tr><tr><td><h4>17</h4><td><td><h4>3</h4><td><td><h4>10</h4><td><td><h4>[1, 2, 4, 8, 16, 32, 8, 16, 1, 17]</h4><td></tr><tr><td><h4>17</h4><td><td><h4>4</h4><td><td><h4>7</h4><td><td><h4>[1, 2, 4, 8, 16, 32, 17]</h4><td></tr><tr><td><h4>24</h4><td><td><h4>2</h4><td><td><h4>10</h4><td><td><h4>[1, 2, 4, 8, 16, 32, 16, 4, 8, 24]</h4><td></tr><tr><td><h4>24</h4><td><td><h4>3</h4><td><td><h4>9</h4><td><td><h4>[1, 2, 4, 8, 16, 32, 8, 16, 24]</h4><td></tr><tr><td><h4>24</h4><td><td><h4>4</h4><td><td><h4>12</h4><td><td><h4>[1, 2, 4, 8, 16, 32, 16, 1, 2, 4, 8, 24]</h4><td></tr><tr><td><h4>37</h4><td><td><h4>2</h4><td><td><h4>11</h4><td><td><h4>[1, 2, 4, 8, 16, 32, 64, 16, 32, 5, 37]</h4><td></tr><tr><td><h4>37</h4><td><td><h4>3</h4><td><td><h4>15</h4><td><td><h4>[1, 2, 4, 8, 16, 32, 64, 8, 16, 32, 1, 2, 4, 5, 37]</h4><td></tr><tr><td><h4>37</h4><td><td><h4>4</h4><td><td><h4>14</h4><td><td><h4>[1, 2, 4, 8, 16, 32, 64, 16, 32, 1, 2, 4, 5, 37]</h4><td></tr><tr><td><h4>208</h4><td><td><h4>2</h4><td><td><h4>14</h4><td><td><h4>[1, 2, 4, 8, 16, 32, 64, 128, 256, 64, 128, 192, 16, 208]</h4><td></tr><tr><td><h4>208</h4><td><td><h4>3</h4><td><td><h4>15</h4><td><td><h4>[1, 2, 4, 8, 16, 32, 64, 128, 256, 64, 128, 192, 8, 16, 208]</h4><td></tr><tr><td><h4>208</h4><td><td><h4>4</h4><td><td><h4>15</h4><td><td><h4>[1, 2, 4, 8, 16, 32, 64, 128, 256, 16, 32, 48, 96, 192, 208]</h4><td></tr><tr><td><h4>505</h4><td><td><h4>2</h4><td><td><h4>18</h4><td><td><h4>[1, 2, 4, 8, 16, 32, 64, 128, 256, 512, 257, 80, 160, 240, 4, 8, 497, 505]</h4><td></tr><tr><td><h4>505</h4><td><td><h4>3</h4><td><td><h4>17</h4><td><td><h4>[1, 2, 4, 8, 16, 32, 64, 128, 256, 512, 72, 144, 216, 432, 504, 1, 505]</h4><td></tr><tr><td><h4>505</h4><td><td><h4>4</h4><td><td><h4>25</h4><td><td><h4>[1, 2, 4, 8, 16, 32, 64, 128, 256, 512, 256, 16, 32, 48, 96, 112, 224, 240, 1, 2, 4, 8, 9, 496, 505]</h4><td></tr></table></center>"
      ],
      "text/plain": [
       "<IPython.core.display.HTML object>"
      ]
     },
     "metadata": {},
     "output_type": "display_data"
    }
   ],
   "source": [
    "from IPython.display import HTML, display\n",
    "def table(data):\n",
    "    html = \"<center><table>\"\n",
    "    html += '<center><h3>Результаты работы алгоритма Яо:</h3></center>'\n",
    "    for row in data:\n",
    "        html += \"<tr>\"\n",
    "        for field in row:\n",
    "            html += \"<td><h4>%s</h4><td>\"%(field)\n",
    "        html += \"</tr>\"\n",
    "    html += \"</table></center>\"\n",
    "    display(HTML(html))\n",
    "    \n",
    "x = [2, 3, 4]\n",
    "n = [17, 24, 37, 208, 505]\n",
    "data = [[\"Base n\", \"Parameter k\", \"Length of the additive chain\", \"Additive chain\"]]\n",
    "for i in n:\n",
    "    for j in x:\n",
    "        data.append([i, j, len(Yao(i, j)), Yao(i, j)])\n",
    "table(data)"
   ]
  },
  {
   "cell_type": "markdown",
   "metadata": {},
   "source": [
    "__Вывод:__\n",
    "Из представленных выше таблиц можно сделать вывод, что метод Яо, не выдает аддитивную цепочку для данного числа, однако она не является минимальной. Так же в данном алгоритме появляются повторяющиеся элементы в аддитивной цепочке."
   ]
  },
  {
   "cell_type": "markdown",
   "metadata": {},
   "source": [
    "### Алгоритм дробления вектора индексов\n",
    "\n",
    "Для применения алгоритма дробления векторов были реализованы функции FracVec(), реализующая сам алгоритм, а так же вспомогательная DecVec(), уменьшающая вектор индексов."
   ]
  },
  {
   "cell_type": "code",
   "execution_count": 8,
   "metadata": {},
   "outputs": [],
   "source": [
    "import numpy as np\n",
    "import time\n",
    " \n",
    " \n",
    "def DecVec(vec, q):\n",
    "    index = -1\n",
    "    for i in range(len(vec)):\n",
    "        if vec[i] != 1:\n",
    "            index = i\n",
    "    if index == -1:\n",
    "        return vec\n",
    "    vec[index] -= 1\n",
    "    for i in range(index + 1, len(vec)):\n",
    "        vec[i] = i + q\n",
    "    return vec\n",
    " \n",
    " \n",
    "def FracVec(n):\n",
    "    start = time.time()\n",
    "    decay = list(factor(n));\n",
    "    l_min = 0\n",
    "    if len(decay) == 1 and decay[0][0] == 2:\n",
    "        l_min = int(log(n, 2))\n",
    "    else:\n",
    "        l_min = int(log(n, 2)) + 1\n",
    "    nu = 0\n",
    "    binStr = str(bin(n))\n",
    "    while len(binStr)>0:\n",
    "        if binStr[0] == '1':\n",
    "            nu += 1\n",
    "        binStr = binStr[1:]\n",
    "    l_max = int(log(n,2)) + nu\n",
    "    for m in range(l_min, l_max):\n",
    "        max_r_rho = list(np.linspace(1, m, m, dtype = int))\n",
    "        min_r_rho = list(np.linspace(1, 1, m, dtype = int))\n",
    "        q = m // 2\n",
    "        max_r = max_r_rho[:q]\n",
    "        max_rho = max_r_rho[q:]\n",
    "        min_r = min_r_rho[:q]\n",
    "        min_rho = min_r_rho[q:]\n",
    "        r = max_r.copy()\n",
    "        rho = max_rho.copy()\n",
    "        while True:\n",
    "            stChain = [1]\n",
    "            a_n = 1\n",
    "            for i in r:\n",
    "                a_n += stChain[i-1]\n",
    "                stChain.append(a_n)\n",
    "            a_max = stChain[-1] * 2**(m-q)\n",
    "            a_min = stChain[-1] + (m-q)\n",
    "            if n > a_max or n < a_min:\n",
    "                if r == min_r:\n",
    "                    break\n",
    "                else:\n",
    "                    r = DecVec(r, 1)\n",
    "                    rho = max_rho.copy()\n",
    "            else:\n",
    "                for i in rho:\n",
    "                    a_n += stChain[i-1]\n",
    "                    stChain.append(a_n)\n",
    "                if n == stChain[-1]:\n",
    "                    return (stChain, time.time() - start)\n",
    "                else:\n",
    "                    stChain = stChain[:q + 1]\n",
    "                    a_n = stChain[-1]\n",
    "                if rho == min_rho:\n",
    "                    if r == min_r:\n",
    "                        break\n",
    "                    else:\n",
    "                        r = DecVec(r, 1)\n",
    "                        rho = max_rho.copy()\n",
    "                else:\n",
    "                    rho = DecVec(rho, q + 1)"
   ]
  },
  {
   "cell_type": "markdown",
   "metadata": {},
   "source": [
    "Для анализа работы алгоритма использовались числа $n = 520, 650, 513, 588$ \n",
    "\n",
    "Ниже представлена таблица, отражающая алгоритм дробления векторов, а так же приводящая нам время работы программы для каждого из данных $n$."
   ]
  },
  {
   "cell_type": "code",
   "execution_count": 9,
   "metadata": {},
   "outputs": [
    {
     "data": {
      "text/html": [
       "<center><table><h3><center>Результаты работы алгоритма дробления векторов:</center></h3><tr><td><h3>Base n</h3></td><td><h3>Length of the additive chain</h3></td><td><h3>Additive chain</h3></td><td><h3>Time of work</h3></td></tr><tr><td><h3>520</h3></td><td><h3>11</h3></td><td><h3>[1, 2, 4, 8, 16, 32, 64, 128, 256, 512, 520]</h3></td><td><h3>0.005908012390136719</h3></td></tr><tr><td><h3>650</h3></td><td><h3>12</h3></td><td><h3>[1, 2, 4, 8, 16, 32, 64, 128, 130, 260, 520, 650]</h3></td><td><h3>9.66347360610962</h3></td></tr><tr><td><h3>513</h3></td><td><h3>11</h3></td><td><h3>[1, 2, 4, 8, 16, 32, 64, 128, 256, 512, 513]</h3></td><td><h3>0.0018477439880371094</h3></td></tr><tr><td><h3>588</h3></td><td><h3>12</h3></td><td><h3>[1, 2, 4, 8, 16, 32, 64, 128, 192, 196, 392, 588]</h3></td><td><h3>18.33120059967041</h3></td></tr></table></center>"
      ],
      "text/plain": [
       "<IPython.core.display.HTML object>"
      ]
     },
     "metadata": {},
     "output_type": "display_data"
    }
   ],
   "source": [
    "from IPython.display import HTML, display\n",
    "def table(data):\n",
    "    html = \"<center><table>\"\n",
    "    html += '<h3><center>Результаты работы алгоритма дробления векторов:</center></h3>'\n",
    "    for row in data:\n",
    "        html += \"<tr>\"\n",
    "        for field in row:\n",
    "            html += \"<td><h3>%s</h3></td>\"%(field)\n",
    "        html += \"</tr>\"\n",
    "    html += \"</table></center>\"\n",
    "    display(HTML(html))\n",
    "    \n",
    "n = [520, 650, 513, 588]\n",
    "data = [[\"Base n\", \"Length of the additive chain\", \"Additive chain\", \"Time of work\"]]\n",
    "for i in n:\n",
    "    res = FracVec(i)\n",
    "    data.append([i, len(res[0]),res[0], res[1]])\n",
    "table(data)"
   ]
  },
  {
   "cell_type": "markdown",
   "metadata": {},
   "source": [
    "__Вывод:__\n",
    "Данный алгоритм выдает минимальную звездную цепочку для данного числа, однако, по сравнению, с предыдущими методами является более затратным по времени."
   ]
  },
  {
   "cell_type": "markdown",
   "metadata": {},
   "source": [
    "### Проверка первого следствия из теоремы Брауэра\n",
    "\n",
    "Была произведена проверка первого следствия из теоремы Брауэра: $ \\lim\\limits_{n \\rightarrow \\infty} \\dfrac{l \\left( n \\right)}{\\lambda \\left( n \\right)} = 1 $ на алгоритме дробления индексов. Ниже представлена таблица, отражающая заисимость длины аддитивной цепочки от числа $n$:"
   ]
  },
  {
   "cell_type": "code",
   "execution_count": 211,
   "metadata": {
    "scrolled": false
   },
   "outputs": [
    {
     "data": {
      "image/png": "[encoded data removed]",
      "text/plain": [
       "<Figure size 1224x864 with 1 Axes>"
      ]
     },
     "metadata": {
      "needs_background": "light"
     },
     "output_type": "display_data"
    }
   ],
   "source": [
    "import matplotlib.pyplot as plt\n",
    "import numpy as np\n",
    "from scipy.optimize import leastsq\n",
    "import math\n",
    "\n",
    "\n",
    "def MinSquares(x, y):\n",
    "    arr = leastsq(lambda coeff, y, x: y - np.log(x) * coeff[0], 1, args=(y, x))[0]\n",
    "    return arr\n",
    "\n",
    "\n",
    "x = list(np.linspace(2, 200, 199, dtype = int))\n",
    "squares = []\n",
    "y = []\n",
    "for i in x:\n",
    "    y.append(len(FracVec(int(i))[0]))\n",
    "plt.figure(figsize = (17, 12))\n",
    "plt.plot(x, y, 'ko', x, np.log(x) * MinSquares(x, y), 'g')\n",
    "plt.show()"
   ]
  },
  {
   "cell_type": "markdown",
   "metadata": {},
   "source": [
    "__Вывод:__\n",
    "Из графика представленного выше можем сделать вывод, что значения длин минимальных звёздных цепочек апроксимируется логарифмической кривой, что подтверждает превое следствие из теоремы Брауэра, поскольку в таком случае при $n \\rightarrow \\infty$, $\\lambda(n)$ и $l(n)$ будут эквивалентны."
   ]
  },
  {
   "cell_type": "markdown",
   "metadata": {},
   "source": [
    "### Проверка выполнения гипотезы Шольца-Брауэр\n",
    "\n",
    "Была произведена проверка гипотезы Шольца-Брауэра $\\;l^*(2^n-1) \\leq l^*(n) + n - 1$ на алгоритме дробления вектора индексов:"
   ]
  },
  {
   "cell_type": "code",
   "execution_count": 8,
   "metadata": {},
   "outputs": [
    {
     "data": {
      "text/html": [
       "<center><table><h3><center>Результаты работы алгоритма дробления векторов:</center></h3><tr><td><h3>n</h3></td><td><h3>$l^*(2^n-1$</h3></td><td><h3>$l^*(2^n-1$</h3></td><td><h3>result</h3></td></tr><tr><td><h3>2</h3></td><td><h3>[1, 2, 3]</h3></td><td><h3>[1, 2]</h3></td><td><h3>Proved</h3></td></tr><tr><td><h3>3</h3></td><td><h3>[1, 2, 4, 6, 7]</h3></td><td><h3>[1, 2, 3]</h3></td><td><h3>Proved</h3></td></tr><tr><td><h3>4</h3></td><td><h3>[1, 2, 4, 5, 10, 15]</h3></td><td><h3>[1, 2, 4]</h3></td><td><h3>Proved</h3></td></tr><tr><td><h3>5</h3></td><td><h3>[1, 2, 4, 8, 10, 20, 30, 31]</h3></td><td><h3>[1, 2, 4, 5]</h3></td><td><h3>Proved</h3></td></tr><tr><td><h3>6</h3></td><td><h3>[1, 2, 4, 8, 16, 20, 21, 42, 63]</h3></td><td><h3>[1, 2, 4, 6]</h3></td><td><h3>Proved</h3></td></tr><tr><td><h3>7</h3></td><td><h3>[1, 2, 4, 8, 16, 32, 40, 42, 84, 126, 127]</h3></td><td><h3>[1, 2, 4, 6, 7]</h3></td><td><h3>Proved</h3></td></tr><tr><td><h3>8</h3></td><td><h3>[1, 2, 4, 8, 16, 17, 34, 68, 85, 170, 255]</h3></td><td><h3>[1, 2, 4, 8]</h3></td><td><h3>Proved</h3></td></tr><tr><td><h3>9</h3></td><td><h3>[1, 2, 4, 8, 16, 32, 64, 72, 73, 146, 292, 438, 511]</h3></td><td><h3>[1, 2, 4, 8, 9]</h3></td><td><h3>Proved</h3></td></tr><tr><td><h3>10</h3></td><td><h3>[1, 2, 4, 8, 16, 32, 64, 68, 136, 272, 340, 341, 682, 1023]</h3></td><td><h3>[1, 2, 4, 8, 10]</h3></td><td><h3>Proved</h3></td></tr></table></center>"
      ],
      "text/plain": [
       "<IPython.core.display.HTML object>"
      ]
     },
     "metadata": {},
     "output_type": "display_data"
    }
   ],
   "source": [
    "from IPython.display import HTML, display\n",
    "import numpy as np\n",
    "\n",
    "def table(data):\n",
    "    html = \"<center><table>\"\n",
    "    html += '<h3><center>Результаты работы алгоритма дробления векторов:</center></h3>'\n",
    "    for row in data:\n",
    "        html += \"<tr>\"\n",
    "        for field in row:\n",
    "            html += \"<td><h3>%s</h3></td>\"%(field)\n",
    "        html += \"</tr>\"\n",
    "    html += \"</table></center>\"\n",
    "    display(HTML(html))\n",
    "\n",
    "data = [[\"n\", \"$l^*(2^n-1$\", \"$l^*(2^n-1$\", \"result\"]]    \n",
    "n = list(np.linspace(2, 10, 9,dtype = int))\n",
    "for i in n:\n",
    "    l_1 = FracVec(int(2**i - 1))[0]\n",
    "    l_2 = FracVec(int(i))[0]\n",
    "    if len(l_1) <= len(l_2) + i - 1:\n",
    "        res = \"Proved\"\n",
    "    else:\n",
    "        res = \"Unproved\"\n",
    "    data.append([i, l_1, l_2, res])\n",
    "table(data)"
   ]
  },
  {
   "cell_type": "markdown",
   "metadata": {},
   "source": [
    "__Вывод:__\n",
    "\n",
    "Из представленной выше таблицы можем сделать вывод, что гипотеза Шольца-Брауэра верна для $n \\leq 10$. Эта гипотеза позволит ускорить алгоритм дробления индексов, так как примерная длина цепочки будет известна."
   ]
  },
  {
   "cell_type": "markdown",
   "metadata": {},
   "source": [
    "### Модификации алгоритмов"
   ]
  },
  {
   "cell_type": "markdown",
   "metadata": {},
   "source": [
    "__1. Алгоритм Яо__\n",
    "\n",
    "В алгоритме, приведённом выше мы увеличиваем длину аддитивной цепочки тем, что выводим повторяющиеся элементы. Поэтому одной из модификаций будет, проверка на присутствие добавляемого символа в аддитивной цепочке. Ниже представлен код с данной модификацией."
   ]
  },
  {
   "cell_type": "code",
   "execution_count": 28,
   "metadata": {},
   "outputs": [],
   "source": [
    "def Yao_mod (n, k):\n",
    "    i = 0\n",
    "    chain = []\n",
    "    listOfDzZ = {}\n",
    "    log = int(math.log2(n))\n",
    "    if (2**log != n):\n",
    "        log += 1\n",
    "    for x in range(log + 1):\n",
    "        chain.append(2**x)\n",
    "    while 2 ** ((i+1) * k) < n:\n",
    "        i+=1\n",
    "    while n != 0:\n",
    "        mul = n // 2**(i * k)\n",
    "        n -= mul * 2**(i * k)\n",
    "        if mul in listOfDzZ.keys():\n",
    "            listOfDzZ[mul] += 2**(i * k)\n",
    "        else:\n",
    "            listOfDzZ.update({mul: 2**(i * k)})\n",
    "        i-=1\n",
    "    sumZdZ = 0\n",
    "    listSumZdZ = []\n",
    "    flag = False\n",
    "    for dz in listOfDzZ:\n",
    "        if dz == 0:\n",
    "            continue\n",
    "        for x in binDec(dz):\n",
    "            for i in chain:\n",
    "                if i == x * listOfDzZ[dz]:\n",
    "                    flag = True\n",
    "            if flag != True:\n",
    "                chain.append(x * listOfDzZ[dz])\n",
    "            flag = False\n",
    "        if sumZdZ == 0:\n",
    "            sumZdZ += dz * listOfDzZ[dz]\n",
    "        else:\n",
    "            sumZdZ += dz * listOfDzZ[dz]\n",
    "            listSumZdZ.append(sumZdZ)\n",
    "    for x in listSumZdZ:\n",
    "        chain.append(x)\n",
    "    return chain"
   ]
  },
  {
   "cell_type": "markdown",
   "metadata": {},
   "source": [
    "__Вывод__\n",
    "\n",
    "Данна модификация позволяет уменьшить длину получаемой цепочки, однако это увеличивает время работы программы."
   ]
  },
  {
   "cell_type": "markdown",
   "metadata": {},
   "source": [
    "### Вывод по практической работе:\n",
    "\n",
    "Были исследованы, проверены и реализованы алгоритмы быстрого возведения в степень. В практической работе были рассмотрены следующие алгоритмы:\n",
    "\n",
    "<ol>\n",
    "<li>Бинарный метод</li>\n",
    "<li>Метод множителей</li>\n",
    "</ol>\n",
    "\n",
    "Исследования в лабораторной работе показали, что в большинстве случаев бинарный метод работает хуже, чем метод множителей. Однако это не выполняется для $n = 2^k + 1, \\forall k \\in \\mathbb{N}$. Оба алгоритма производят вычисления за коротий период времени.\n",
    "\n",
    "Был изучен и реализован метод построения аддитивных цепочек для чисел:\n",
    "\n",
    "<ol>\n",
    "<li>Алгоритм Яо</li>\n",
    "</ol>\n",
    "\n",
    "\n",
    "Алгоритм достаточно быстро вычисляет аддитивную цепочку для числа, однако она не всегда бывает минимальной длины.\n",
    "Алгоритм дробления вектора индексов\n",
    "\n",
    "Был изучен, реализован и проверен метод построения минимальных звездных цепочек для чисел:\n",
    "\n",
    "<ol>\n",
    "<li>Алгоритм дробления вектора</li>\n",
    "</ol>\n",
    "\n",
    "Данный алгоритм затратный по времени, так как является переборной задачей, однако он вычисляет звездную цепочку именно минимальной длины. Введение модификций может уменьшить время затраченное на подчет.\n",
    "\n",
    "В лабораторной работе были проверены:\n",
    "\n",
    "<ol>\n",
    "<li>Первое следствие из теоремы Брауэра:  $ \\lim\\limits_{n \\rightarrow \\infty} \\dfrac{l \\left( n \\right)}{\\lambda \\left( n \\right)} = 1 $</li>\n",
    "<li>Гипотеза Шольца-Брауэра: $\\;l^*(2^n-1) \\leq l^*(n) + n - 1$</li>\n",
    "</ol>"
   ]
  }
 ],
 "metadata": {
  "kernelspec": {
   "display_name": "SageMath 9.0",
   "language": "sage",
   "name": "sagemath"
  },
  "language_info": {
   "codemirror_mode": {
    "name": "ipython",
    "version": 3
   },
   "file_extension": ".py",
   "mimetype": "text/x-python",
   "name": "python",
   "nbconvert_exporter": "python",
   "pygments_lexer": "ipython3",
   "version": "3.8.5"
  }
 },
 "nbformat": 4,
 "nbformat_minor": 4
}
