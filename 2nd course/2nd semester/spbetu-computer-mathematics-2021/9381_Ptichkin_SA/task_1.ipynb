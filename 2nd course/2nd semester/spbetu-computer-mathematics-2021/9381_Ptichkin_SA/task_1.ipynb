{
 "cells": [
  {
   "cell_type": "markdown",
   "metadata": {},
   "source": [
    "# Практическая работа №1: Исследование алгоритмов формирования аддитивных цепочек\n",
    "\n",
    "Выполнил студент гр. 9381 Птичкин Сергей, вариант 60."
   ]
  },
  {
   "cell_type": "markdown",
   "metadata": {},
   "source": [
    "## Цель работы\n",
    "\n",
    "Формирование представления о аддитивных цепочках, выработать умение составлять и применять алгоритмы для нахождения минимальных аддитивных цепочек для заданного числа, привить навык использования систем компьютерной алгебры для реализации алгоритмов."
   ]
  },
  {
   "cell_type": "markdown",
   "metadata": {},
   "source": [
    "## Основные теоретические положения\n",
    "\n",
    "#### Бинарный метод\n",
    "\n",
    "Бинарный метод - это один из алгоритмов быстрого возведения числа $x$ в некоторую степень $n\\in \\mathbb{N}$.\n",
    "\n",
    "Алгоритм заключается в следующем: для начала числа $x$ представляется в двоичном виде, после чего из этого двоичного представления удаляется старший бит (единица). Далее в цикле просматриваются биты от старшего к младшему: на каждой итерации $x$ умножается на себя, при этом если очередной бит числа равен 1, то к результату произведения прибавляется $x$. \n",
    "\n",
    "Количество операций, требуемых для возведения числа $x$ в степень $n$, для данного метода равно $\\lambda(n)+\\nu(n)-1$, где $\\lambda(n)=\\lceil log_2(n) \\rceil$, а $\\nu(n)$ равно количеству единиц в двоичной записи числа $n$.\n",
    "\n",
    "#### Метод множителей\n",
    "\n",
    "Метод множителей  это один из алгоритмов быстрого возведения числа $x$ в некоторую степень $n\\in \\mathbb{N}$.\n",
    "\n",
    "Алгоритм заключается в следующем: для начала производится поиск минимального простого делителя числа $n$ ($n=i \\cdot j$), где $i$ - минимальный простой делитель числа $n$). Далее при помощи бинарного метода число &x& возводится в степень $i$, после чего полученный результат $x^i=y$ возводится в степень $j$: $y^j={(x^i)}^j=x^{i\\cdot j}=x^n$. Если $n$ - простое число, то алгоритм сначала возводит число $x$ в степень $n-1$, а потом домножает на $x$, получая тем самым $x^n$.\n",
    "\n",
    "Количество операций, требуемых для возведения числа $x$ в степень $n$, для данного метода равно $\\lambda(i)+\\nu(i)+\\lambda(j)+\\nu(j)-2$ (в случае, если число не простое), иначе - $\\lambda(n-1)+\\nu(n-1)$\n",
    "\n",
    "#### Аддитивные цепочки\n",
    "\n",
    "Аддитивная цепочка для некоторого числа $n\\in \\mathbb{N}$ - это последовательность натуральных чисел $\\{a_i\\}_{i=0}^m$, начинающаяся с единицы, в которой каждый последующий элемент является суммой каких-то двух предшествующих элементов. Данная последовательность удовлетворяет следующим свойствам:\n",
    "1. $a_0 = 1$;\n",
    "2. $\\forall i > 0: a_i = a_j + a_k$, где $j, k < i$.\n",
    "\n",
    "Длина аддитивной цепочки $l(n)=|\\{a_i\\}_{i=0}^m|$, где $a_m = n$.\n",
    "\n",
    "$a_i=a_j+a_k$ - шаг аддитивной цепочки, $i \\in \\{1,2 \\dots m\\}$, $0\\leqslant k\\leqslant j < i$\n",
    "\n",
    "Типы шагов в аддитивной цепочке:\n",
    "1. Шаг i называют удвоением, если $i - 1 = k = j$;\n",
    "2. Шаг i называют звездным, если $j = i - 1$, $k \\in \\{0, \\dots, i-1\\}$;\n",
    "3. Шаг i называют малым, если $\\lambda(a_i)=\\lambda(a_{i-1})$\n",
    "\n",
    "Звездная цепочка - это аддитивная цепочка, в которая состоит только из звездных шагов.\n",
    "\n",
    "#### Алгоритм Яо\n",
    "\n",
    "Алгоритм Яо позволяет найти аддитивную цепочку для некоторого числа $n \\in \\mathbb{N}$. Для начала фиксируются переменные $n,k \\geq 2$, после чего $n$ представляется в виде $\\sum_{i=0} a_i \\cdot 2^{ik}$, где $a_j \\neq 0$. \n",
    "\n",
    "Далее вводится функция $d(z)=\\sum_{\\forall i: a_i=z} 2^{ik}$.\n",
    "\n",
    "В начало аддитивной цепочки Яо добавляются степени двойки: $Y_k(n): 1,2,4,\\dots ,2^{\\lambda(n)}$, после чего вычисляются все значения $d(z)$, где $z \\in \\{1,2,3, \\dots ,2^k-1 \\}$ и $d(z) \\neq 0$.\n",
    "\n",
    "В таком случае число $n=\\sum_{z=1}^{2^k-1}z \\cdot d(z)$.\n",
    "\n",
    "#### Алгоритм дробления вектора индексов \n",
    "\n",
    "Алгоритм дробления вектора индексов позволяет найти минимальную звездную цепочку для некоторого числа $n \\in \\mathbb{N}$. \n",
    "\n",
    "Рассмотрим вектор индексов $\\{r_i\\}_{i=1}^q \\cup {\\{{\\rho}_j \\}}_{j=q+1}^m$, где ${\\rho}_j= \\{x: 1 \\leq x \\leq j \\}$, ${\\{r_i\\}}_{i=1}^q$ - фиксированная часть, ${\\{{\\rho}_j\\}}_{j=q+1}^m$ - изменяющаяся часть.\n",
    "\n",
    "Наибольшее значение $a_m$ достигается при векторе индексов ${\\{r_i\\}}_{i=1}^{q} \\cup \\{q+1,q+2,\\dots,m\\}$.\n",
    "\n",
    "Наименьшее значение $a_m$ достигается при векторе индексов ${\\{r_i\\}}_{i=1}^{q}\\cup\\{1,1,\\dots,1\\}$.\n",
    "\n",
    "$a_{max} = a_{q+1} \\cdot {2}^{m-q}$\n",
    "\n",
    "$a_{min} = a_{q+1}+m-q$\n",
    "\n",
    "Алгоритм:\n",
    "1. Во внешнем цикле рассматриваем аддитивные цепочки длины $m$ от значения $\\bar{l}(n)=\\lceil log_2(n) \\rceil$ до $\\underline{l}(n)=\\lambda(n)+\\nu(n)-1$, на каждой итерации выбираем $q$ ($1 \\leq q \\leq m-1$);\n",
    "2. Далее перебираем все возможные фиксированные части вектора индексов $\\{r_i\\}_{i=1}^q$ ($q!$ вариантов), для каждой строим соответствующую ей звездную цепочку, находим $a_{max}$ и ${a}_{min}$, после чего:\n",
    " 1. Если $n \\notin [a_{min},a_{max}]$, то переходим к следующему набору $\\{r_i\\}_{i=1}^q$;\n",
    " 2. Если $n\\in [a_{min},a_{max}]$, то перебираем все возможные изменяющиеся части вектора индексов ${\\{{\\rho}_j\\}}_{j=q+1}^m$ и находим $a_m$:\n",
    "  1. Если $a_m=n$, то цепочка найдена;\n",
    "  2. Если все возможные изменяющиеся части вектора индексов ${\\{{\\rho}_j\\}}_{j=q+1}^m$ исчерпаны, то переходим к следующему набору $\\{r_i\\}_{i=1}^q$;\n",
    "3. Если все наборы вектора индексов длины $m$ исчерпаны, то увеличиваем $m$ на 1.\n",
    "\n",
    "#### Теорема Брауэра\n",
    "\n",
    "Для некоторого $k<log_2(log_2(n))$ верно: $l(n)<(1+k^{-1}) \\cdot \\lceil log_2(n) \\rceil +2^{k-1}-k+2$\n",
    "\n",
    "При $k=\\lambda(\\lambda(n))-2\\lambda(\\lambda(\\lambda(n)))$ верны следующие следствия:\n",
    "1. $\\lim \\limits_{n \\to \\infty} \\frac{l(n)}{\\lambda(n)}=1$\n",
    "2. Наилучшая верхняя оценка для длины аддитивной цепочки: $\\lambda(n)(1+\\frac{1}{\\lambda(\\lambda(n))}+\\frac{o(\\lambda(\\lambda(\\lambda(n))))}{\\lambda(\\lambda(n))^2})$\n",
    "\n",
    "#### Гипотеза Шольца-Брауэра\n",
    "Пусть $l^*(n)$ - длина некоторой звёздной цепочки.\n",
    "\n",
    "Тогда для любого $n \\in \\mathbb{N}$ верно: $l^*(2^n-1)\\leq l^*(n)+n-1$"
   ]
  },
  {
   "cell_type": "markdown",
   "metadata": {},
   "source": [
    "## Постановка задачи\n",
    "Реализовать точные и приближённые алгоритмы нахождения минимальных аддитивных цепочек с использованием системы компьютерной алгебры SageMath, провести анализ алгоритмов. Полученные результаты содержательно проинтерпретировать."
   ]
  },
  {
   "cell_type": "markdown",
   "metadata": {},
   "source": [
    "## Порядок выполнения работы\n",
    "1. Применить бинарный метод и метод множителей для $x^n$, где $n⩾30$, для 2-3 значений $n$ (значения $n$ выбирается студентом самостоятельно). Сравнить количество операций для каждого метода, сделать выводы.\n",
    "2. Реализовать алгоритм Брауэра (для нечётных вариантов) или алгоритм Яо (для чётных вариантов) для вычисления приближённых аддитивных цепочек для различных чисел при варьировании параметра $k$, сопоставить длины полученных аддитивных цепочек с минимальной аддитивной цепочкой для заданного числа. Сделать выводы.\n",
    "3. Реализовать алгоритм дробления вектора индексов для нахождения минимальной звёздной цепочки для заданного числа. Протестировать алгоритм при $n>500$. Указать, сколько времени потребовалось на поиск цепочки и какая цепочка получилась. Сравнить с предыдущими методами, сделать выводы.\n",
    "4. Проверить следствие 1 теоремы Брауэра для $n=1..200$ путём построения функции $l(n)$ и аппроксимирующей кривой, полученной с помощью метода наименьших квадратов. Сопоставить функции на одном графике, сделать выводы.\n",
    "5. Проверить гипотезу Шольца–Брауэра для $1<n⩽10$ на алгоритме дробления вектора индексов. Сделать выводы.\n",
    "6. Дополнительное необязательное задание: найти и/или предложить модификации алгоритмов и привести описание модификаций. Реализовать модифицированные алгоритмы и сравнить их мощность."
   ]
  },
  {
   "cell_type": "markdown",
   "metadata": {},
   "source": [
    "## Выполнение работы"
   ]
  },
  {
   "cell_type": "markdown",
   "metadata": {},
   "source": [
    "### 1. Бинарный метод и метод множителей.\n",
    "\n",
    "Возьмём $n = 31, 33, 35, 63, 65$\n",
    "\n",
    "#### Возведение числа $x$ в степень $n=31$:\n",
    "\n",
    "**Бинарный метод:**\n",
    "\n",
    "$31_{10} = 11111_2$\n",
    "\n",
    "$x,\\ x\\cdot x = x^2,\\ x^2\\cdot x = x^3,\\ x^3\\cdot x^3 = x^6,\\ x^6\\cdot x = x^7,\\ x^7\\cdot x^7 = x^{14},\\  x^{14}\\cdot x = x^{15},\\  x^{15}\\cdot x^{15} = x^{30},\\  x^{30}\\cdot x = x^{31}$.\n",
    "\n",
    "Количество операций: $\\lambda (31) + \\nu(31) - 1 = 4 + 5 - 1 = 8$\n",
    "\n",
    "**Метод множителей:**\n",
    "\n",
    "$x^{31} = x^{30}\\cdot x$\n",
    "\n",
    "$30 = 3\\cdot 10$.\n",
    "\n",
    "$x^{30} = {(x^3)}^{10}$\n",
    "\n",
    "$x,\\ x\\cdot x = x^2,\\ x^2\\cdot x = x^3,\\ x^3=y$\n",
    "\n",
    "$y,\\ y\\cdot y = y^2,\\ y^2\\cdot y^2 = y^4,\\ y^4\\cdot y = y^5,\\ y^5\\cdot y^5 = y^{10}$\n",
    "\n",
    "$y^{10}\\cdot x = x^{31}$\n",
    "\n",
    "_Количество операций:_ 8\n",
    "\n",
    "#### Возведение числа $x$ в степень $n=33$:\n",
    "\n",
    "**Бинарный метод:**\n",
    "\n",
    "$33_{10} = 100001_2$\n",
    "\n",
    "$x,\\ x\\cdot x = x^2,\\ x^2\\cdot x^2 = x^4,\\ x^4\\cdot x^4 = x^8,\\ x^8\\cdot x^8 = x^{16},\\ x^{16}\\cdot x^{16} = x^{32},\\  x^{32}\\cdot x = x^{33}$.\n",
    "\n",
    "_Количество операций:_ $\\lambda (33)+ \\nu(33) - 1 = 5+2-1 = 6$\n",
    "\n",
    "**Метод множителей:**\n",
    "\n",
    "$33 = 3\\cdot 11$.\n",
    "\n",
    "$x^{33} = {(x^3)}^{11}$\n",
    "\n",
    "$x,\\ x\\cdot x = x^2,\\ x^2\\cdot x = x^3,\\ x^3=y$\n",
    "\n",
    "$y,\\ y\\cdot y = y^2,\\ y^2\\cdot y^2 = y^4,\\ y^4\\cdot y = y^5,\\ y^5\\cdot y^5 = y^{10},\\ y^{10}\\cdot y = y^{11}$\n",
    "\n",
    "_Количество операций:_ 7\n",
    "\n",
    "#### Возведение числа $x$ в степень $n=35$:\n",
    "\n",
    "**Бинарный метод:**\n",
    "\n",
    "$35_{10} = 100011_2$\n",
    "\n",
    "$x,\\ x\\cdot x = x^2,\\ x^2\\cdot x^2 = x^4,\\ x^4\\cdot x^4 = x^8,\\ x^8\\cdot x^8 = x^{16},\\ x^{16}\\cdot x = x^{17},\\  x^{17}\\cdot x^{17} = x^{34},\\ x^{34}\\cdot x = x^{35}$\n",
    "\n",
    "_Количество операций:_ $\\lambda (35)+ \\nu(35) - 1 = 5+3-1 = 7$\n",
    "\n",
    "**Метод множителей:**\n",
    "\n",
    "$35 = 5\\cdot 7$.\n",
    "\n",
    "$x^{35} = {(x^5)}^7$\n",
    "\n",
    "$x,\\ x\\cdot x = x^2,\\ x^2\\cdot x^2 = x^4,\\ x^4\\cdot x = x^5,\\ x^5=y$\n",
    "\n",
    "$y,\\ y\\cdot y = y^2,\\ y^2\\cdot y = y^3,\\ y^3\\cdot y^3 = y^6,\\ y^6\\cdot y = y^7$\n",
    "\n",
    "_Количество операций:_ 7\n",
    "\n",
    "#### Возведение числа $x$ в степень $n=63$:\n",
    "\n",
    "**Бинарный метод:**\n",
    "\n",
    "$63_{10} = 111111_2$\n",
    "\n",
    "$x,\\ x\\cdot x = x^2,\\ x^2\\cdot x = x^3,\\ x^3\\cdot x^3 = x^6,\\ x^6\\cdot x = x^7,\\ x^7\\cdot x^7 = x^{14},\\ x^{14}\\cdot x = x^{15},\\ x^{15}\\cdot x^{15} = x^{30},\\ x^{30}\\cdot x = x^{31},\\ x^{31}\\cdot x^{31} = x^{62},\\ x^{62}\\cdot x = x^{63}$\n",
    "\n",
    "_Количество операций:_ $\\lambda (63)+ \\nu(63) - 1 = 5+6-1 = 10$\n",
    "\n",
    "**Метод множителей:**\n",
    "\n",
    "$63 = 7\\cdot 9$.\n",
    "\n",
    "$x^{63} = {(x^7)}^{9}$\n",
    "\n",
    "$x,\\ x\\cdot x = x^2,\\ x^2\\cdot x = x^3,\\ x^3\\cdot x^3 = x^6,\\ x^6\\cdot x = x^7,\\ x^7=y$\n",
    "\n",
    "$y,\\ y\\cdot y = y^2,\\ y^2\\cdot y^2 = y^4,\\ y^4\\cdot y^4 = y^8,\\ y^8\\cdot y = y^9$\n",
    "\n",
    "_Количество операций:_ 8\n",
    "\n",
    "#### Возведение числа $x$ в степень $n=65$:\n",
    "\n",
    "**Бинарный метод:**\n",
    "\n",
    "$65_{10} = 1000001_2$\n",
    "\n",
    "$x,\\ x\\cdot x = x^2,\\ x^2\\cdot x^2 = x^4,\\ x^4\\cdot x^4 = x^8,\\ x^8\\cdot x^8 = x^{16},\\ x^{16}\\cdot x^{16} = x^{32},\\  x^{32}\\cdot x^{32} = x^{64},\\  x^{64}\\cdot x = x^{65}$.\n",
    "\n",
    "_Количество операций:_ $\\lambda (65)+ \\nu(65) - 1 = 6+2-1 = 7$\n",
    "\n",
    "**Метод множителей:**\n",
    "\n",
    "$65 = 5\\cdot 13$.\n",
    "\n",
    "$x^{65} = {(x^5)}^{13}$\n",
    "\n",
    "$x,\\ x\\cdot x = x^2,\\ x^2\\cdot x^2 = x^4,\\ x^4\\cdot x = x^5,\\ x^5=y$\n",
    "\n",
    "$y,\\ y\\cdot y = y^2,\\ y^2\\cdot y = y^3,\\ y^3\\cdot y^3 = y^6,\\ y^6\\cdot y^6 = y^{12},\\ y^{12}\\cdot y = y^{13}$\n",
    "\n",
    "_Количество операций:_ 8\n",
    "\n",
    "#### Результаты возведения в степень:\n",
    "\n",
    "|n|Число операций БМ|Число операций ММ|\n",
    "|:-:|:-:|:-:|\n",
    "|31|8|8|\n",
    "|33|6|7|\n",
    "|35|7|7|\n",
    "|63|10|8|\n",
    "|65|7|8|\n",
    "\n",
    "#### Вывод:\n",
    "\n",
    "Исследование показало, что при $n = 2^k-1$ метод множителей в некоторых случаях эффективнее бинарного метода. Однако при $n = 2^k+1$ бинарный метод превосходит метод множителей. В остальных случаях оба метода работают одинаково эффективно."
   ]
  },
  {
   "cell_type": "markdown",
   "metadata": {},
   "source": [
    "### Алгоритм Яо\n",
    "Реализуем алгоритм Яо для вычисления приближённых аддитивных цепочек:"
   ]
  },
  {
   "cell_type": "code",
   "execution_count": 3,
   "metadata": {},
   "outputs": [
    {
     "name": "stdout",
     "output_type": "stream",
     "text": [
      "Введите n: 244\n",
      "Введите k: 4\n",
      "[1, 2, 4, 8, 16, 32, 64, 128, 48, 96, 112, 224, 240, 244]\n",
      "Длина аддитивной цепочки:  14\n"
     ]
    }
   ],
   "source": [
    "def decomposition(n, k):\n",
    "    decom = []\n",
    "    while(n>0):\n",
    "        decom.append(n % (2^k))\n",
    "        n = n // 2^k\n",
    "    return decom\n",
    "def d(chain, decom, z, k):\n",
    "    res = 0\n",
    "    for i in range(len(decom)):\n",
    "        if decom[i] == z:\n",
    "            res += 2^(i*k)\n",
    "            if res not in chain:\n",
    "                chain.append(res)\n",
    "    return res\n",
    "def zd(chain, dz, z):\n",
    "    binary  = decomposition(z, 1)\n",
    "    zdz = dz\n",
    "    for i in range(len(binary)-2, -1, -1):\n",
    "        if binary[i] == 0:\n",
    "            zdz += zdz\n",
    "            if zdz not in chain:\n",
    "                chain.append(zdz)\n",
    "        else:\n",
    "            zdz += zdz\n",
    "            if zdz not in chain:\n",
    "                chain.append(zdz)\n",
    "            zdz += dz\n",
    "            if zdz not in chain:\n",
    "                chain.append(zdz)\n",
    "    return zdz\n",
    "def yao_metod(n, k):\n",
    "    chain = []\n",
    "    s = 1\n",
    "    while(s<n):\n",
    "        chain.append(s)\n",
    "        s= s*2\n",
    "    decom = decomposition(n,k)\n",
    "    zdz_sum = 0\n",
    "    for z in range(1, 2^k, 1):\n",
    "        if z in decom:\n",
    "            dz = d(chain, decom, z, k)\n",
    "            zdz = zd(chain, dz, z)\n",
    "            zdz_sum += zdz\n",
    "            if zdz_sum not in chain:\n",
    "                chain.append(zdz_sum)\n",
    "    return chain\n",
    "n = int(input(\"Введите n: \"))\n",
    "k = int(input(\"Введите k: \"))\n",
    "ch = yao_metod(n, k)\n",
    "print(ch)\n",
    "print(\"Длина аддитивной цепочки: \", len(ch))"
   ]
  },
  {
   "cell_type": "markdown",
   "metadata": {},
   "source": [
    "Алгоритм был применён к следующим числам: $47, 121, 244$ при разных значениях k\n",
    "\n",
    "Результаты проведённых тестов представлены в таблице:\n",
    "\n",
    "|N|K|Цепочка Яо|Длина цепочки|Минимальная длина\n",
    "|:-:|:-:|:-:|:-:|:-:|\n",
    "|47|2|[1, 2, 4, 8, 16, 32, 5, 10, 15, 47]|10|9|\n",
    "|47|3|[1, 2, 4, 8, 16, 32, 40, 3, 6, 7, 47]|11|9|\n",
    "|121|2|[1, 2, 4, 8, 16, 32, 64, 65, 73, 48, 121]|11|10|\n",
    "|121|3|[1, 2, 4, 8, 16, 32, 64, 65, 24, 48, 56, 121]|12|10|\n",
    "|244|2|[1, 2, 4, 8, 16, 32, 64, 128, 80, 160, 240, 244]|12|11|\n",
    "|244|3|[1, 2, 4, 8, 16, 32, 64, 128, 192, 196, 24, 48, 244]|13|11|\n",
    "|244|4|[1, 2, 4, 8, 16, 32, 64, 128, 48, 96, 112, 224, 240, 244]|14|11|\n",
    "\n",
    "#### Вывод\n",
    "Полученные алгоритмом Яо аддитивные цепочки не являются минимальными, но при определенных k их длинна близка к минимальной."
   ]
  },
  {
   "cell_type": "markdown",
   "metadata": {},
   "source": [
    "### Алгоритм дробления вектора индексов\n",
    "Реализуем алгоритм дробления вектора индексов для нахождения минимальной звёздной цепочки для заданного числа:"
   ]
  },
  {
   "cell_type": "code",
   "execution_count": 8,
   "metadata": {},
   "outputs": [
    {
     "name": "stdout",
     "output_type": "stream",
     "text": [
      "Введите n: 512\n",
      "4.095\n",
      "[1, 2, 4, 8, 16, 32, 64, 128, 256, 512]\n",
      "Длина аддитивной цепочки:  10\n"
     ]
    }
   ],
   "source": [
    "import math\n",
    "def wt_Haming(n):\n",
    "    binary  = decomposition(n, 1)\n",
    "    res = 0\n",
    "    for i in range(len(binary)):\n",
    "        if binary[i] == 1:\n",
    "            res+=1\n",
    "    return res\n",
    "def check_is_smaller(r, start, end):\n",
    "    for i in range(start, end):\n",
    "        if r[i]!= 1:\n",
    "            return false\n",
    "    return true\n",
    "def reduse_part_vec(r, end):\n",
    "    while r[end]==1:\n",
    "        r[end] = end+1\n",
    "        end-=1\n",
    "    r[end]-=1\n",
    "    return r\n",
    "def build_star_chain(r, m):\n",
    "    star_chain = [1]\n",
    "    for i in range(0, m):\n",
    "        star_chain.append(star_chain[i]+star_chain[r[i]-1])\n",
    "    return star_chain\n",
    "def split_vec_index(n):\n",
    "    min_len = math.ceil(math.log(n,2))\n",
    "    max_len = math.floor(math.log(n,2)) + wt_Haming(n) - 1\n",
    "    if min_len == 0:\n",
    "        return [1]\n",
    "    if max_len == 0:\n",
    "        return [1]\n",
    "    star_chain = []\n",
    "    for m in range(min_len, max_len+1, 1):\n",
    "        q = m//2\n",
    "        if q == 0:\n",
    "            q = 1\n",
    "        r = []\n",
    "        for i in range(1, m+1):\n",
    "            r.append(i)\n",
    "        r[q-1] += 1\n",
    "        while not check_is_smaller(r,0, q):\n",
    "            r = reduse_part_vec(r, q-1)\n",
    "            star_chain = build_star_chain(r, m)\n",
    "            if star_chain[-1] == n:\n",
    "                return star_chain\n",
    "            a_min = star_chain[q] + m -q\n",
    "            a_max = star_chain[q]*2^(m-q)\n",
    "            if n<a_min | n>a_max:\n",
    "                continue\n",
    "            r[-1]+=1\n",
    "            while not check_is_smaller(r,q, m):\n",
    "                r = reduse_part_vec(r, m-1)\n",
    "                star_chain = build_star_chain(r, m)\n",
    "                if star_chain[-1] == n:\n",
    "                    return star_chain\n",
    "            for j in range(q,m):\n",
    "                r[j] = j+1\n",
    "    return star_chain\n",
    "import time\n",
    "start = time.time()\n",
    "n = int(input(\"Введите n: \"))\n",
    "s = split_vec_index(n)\n",
    "end = time.time()\n",
    "print(round(end - start, 3))\n",
    "print(s)\n",
    "print(\"Длина аддитивной цепочки: \", len(s))"
   ]
  },
  {
   "cell_type": "markdown",
   "metadata": {},
   "source": [
    "Алгоритм был применён к следующим числам: $501, 520, 555, 627$\n",
    "\n",
    "Результаты проведённых тестов представлен в таблице:\n",
    "\n",
    "|N|Время(сек)|Звёздная цепочка|Длина цепочки|Минимальная длина\n",
    "|:-:|:-:|:-:|:-:|:-:|\n",
    "|501|372.03|[1, 2, 4, 8, 16, 32, 64, 96, 100, 200, 400, 500, 501]|13|13|\n",
    "|520|2.02|[1, 2, 4, 8, 16, 32, 64, 128, 256, 512, 520]|11|11|\n",
    "|555|329.773|[1, 2, 4, 8, 16, 32, 64, 72, 136, 137, 209, 418, 555]|13|13|\n",
    "|627|669.374|[1, 2, 4, 8, 16, 32, 64, 128, 192, 208, 209, 418, 627]|13|13|\n",
    "\n",
    "#### Вывод\n",
    "Алгоритм дробления вектора индексов занимает большее время,чем остальные методы, для некоторых значений n вычисления происходят больше 10 минут. Но в результате алгоритм всегда выдаёт минимальную АЦ."
   ]
  },
  {
   "cell_type": "markdown",
   "metadata": {},
   "source": [
    "### Проверка 1-ого следствия теоремы Брауэра"
   ]
  },
  {
   "cell_type": "code",
   "execution_count": 7,
   "metadata": {},
   "outputs": [
    {
     "data": {
      "image/png": "[encoded data removed]",
      "text/plain": [
       "<Figure size 1080x1080 with 1 Axes>"
      ]
     },
     "metadata": {
      "needs_background": "light"
     },
     "output_type": "display_data"
    }
   ],
   "source": [
    "import pylab as plt\n",
    "n=[]\n",
    "l=[]\n",
    "for i in range(1,201):\n",
    "    n.append(i)\n",
    "    l.append(len(split_vec_index(i)))\n",
    "plt.figure(figsize=(15, 15))\n",
    "plt.scatter(n, l, color='r', marker='o')\n",
    "m = matrix([[sum([float((log(i)**2)) for i in n]), sum([float(log(i)) for i in n])], [sum([float(log(i)) for i in n]), len(n)]])\n",
    "vec = vector([sum([float(l[i] * log(n[i])) for i in range(len(n))]), sum(l)])\n",
    "solution = m.solve_right(vec)\n",
    "plt.plot(n, [solution[0] * log(i) + solution[1] for i in n], color = 'b')\n",
    "plt.show()"
   ]
  },
  {
   "cell_type": "markdown",
   "metadata": {},
   "source": [
    "По графику видно, что множество значений минимальных длин аддитивных цепочек $l(n)$ при $1 \\leq n \\leq 200$ аппроксимируется логарифмической кривой. Это подтверждает первое следствие теоремы Брауэра: $\\lim\\limits_{n\\to\\infty} \\cfrac{l(n)}{\\lambda(n)}=1$, которое означает, что с увеличением $n$ длина минимальной аддитивной цепочки будет увеличиваться как логарифмическая функция."
   ]
  },
  {
   "cell_type": "markdown",
   "metadata": {},
   "source": [
    "### Проверка гипотезы Шольца–Брауэра"
   ]
  },
  {
   "cell_type": "markdown",
   "metadata": {},
   "source": [
    "Проверим гипотезу Шольца–Брауэра для $1<n⩽10$ на алгоритме дробления вектора индексов:"
   ]
  },
  {
   "cell_type": "code",
   "execution_count": 41,
   "metadata": {},
   "outputs": [
    {
     "name": "stdout",
     "output_type": "stream",
     "text": [
      "n = 2, 3 <= 3\n",
      "n = 3, 5 <= 5\n",
      "n = 4, 6 <= 6\n",
      "n = 5, 8 <= 8\n",
      "n = 6, 9 <= 9\n",
      "n = 7, 11 <= 11\n",
      "n = 8, 11 <= 11\n",
      "n = 9, 13 <= 13\n",
      "n = 10, 14 <= 14\n"
     ]
    }
   ],
   "source": [
    "for i in range(2, 11):\n",
    "    print(\"n = {}, {} <= {}\".format(i, len(split_vec_index(2**i -  1)), len(split_vec_index(i))+i-1))\n",
    "          "
   ]
  },
  {
   "cell_type": "markdown",
   "metadata": {},
   "source": [
    "| $n$ | $l^*(2^n-1)$ | $l^*(n)+n-1$ |\n",
    "|:---:|:------------:|:----------:|\n",
    "|2 |3|3|\n",
    "|3 |5|5|\n",
    "|4 |6|6|\n",
    "|5 |8|8|\n",
    "|6 |9|9|\n",
    "|7 |11|11|\n",
    "|8 |11|11|\n",
    "|9 |13|13|\n",
    "|10|14|14|"
   ]
  },
  {
   "cell_type": "markdown",
   "metadata": {},
   "source": [
    "#### Вывод\n",
    "Из полученных данных видно что, гипотеза Шольца-Брауэра справедлива для $n \\leq 10$."
   ]
  },
  {
   "cell_type": "markdown",
   "metadata": {},
   "source": [
    "## Выводы\n",
    "\n",
    "В ходе выполнения практической работы были сформированы представления об аддитивных цепочках, получен навык использования систем компьютерной алгебры для реализации алгоритмов. Были реализованы и проанализированы следующие алгоритмы формирования аддитивных цепочек:\n",
    "* Бинарный метод \n",
    "* Метод множителей\n",
    "* Алгоритм Яо\n",
    "* Алгоритм дробления вектора индексов.\n",
    "\n",
    "Помимо этого были проверены первое следствие теоремы Брауэра и гипотеза Шольца–Брауэра для $1 < n \\leq 10$."
   ]
  }
 ],
 "metadata": {
  "kernelspec": {
   "display_name": "SageMath 9.2",
   "language": "sage",
   "name": "sagemath"
  },
  "language_info": {
   "codemirror_mode": {
    "name": "ipython",
    "version": 3
   },
   "file_extension": ".py",
   "mimetype": "text/x-python",
   "name": "python",
   "nbconvert_exporter": "python",
   "pygments_lexer": "ipython3",
   "version": "3.7.7"
  }
 },
 "nbformat": 4,
 "nbformat_minor": 4
}
