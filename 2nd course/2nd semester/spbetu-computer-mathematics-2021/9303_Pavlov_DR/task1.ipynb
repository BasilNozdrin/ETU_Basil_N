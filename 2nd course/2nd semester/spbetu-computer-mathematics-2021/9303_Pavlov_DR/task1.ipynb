{
 "cells": [
  {
   "cell_type": "markdown",
   "metadata": {},
   "source": [
    "## Практическая работа №1: Исследование алгоритмов формирования аддитивных цепочек\n",
    "Выполнил студент гр. 9303 Павлов Дмитрий, вариант 17\n",
    "## Цель работы\n",
    "Формирование представления о аддитивных цепочках, выработать умение составлять и применять алгоритмы для нахождения минимальных аддитивных цепочек для заданного числа, привить навык использования систем компьютерной алгебры для реализации алгоритмов.\n",
    "## Основные теоретические сведения\n",
    "#### Бинарный метод\n",
    "Бинарный метод - это один из алгоритмов быстрого возведения числа $x$ в некоторую степень $n\\in \\mathbb{N}$.\n",
    "\n",
    "Алгоритм заключается в следующем: для начала числа $x$ представляется в двоичном виде, после чего из этого двоичного представления удаляется старший бит (единица). Далее в цикле просматриваются биты от старшего к младшему: если бит 0, то текущее число умножается на себя, если бит 1 - то число умножается на себя и на $x$.\n",
    "\n",
    "Количество операций, требуемых для возведения числа $x$ в степень $n$, для данного метода равно $\\lambda(n)+\\nu(n)-1$, где $\\lambda(n)=\\lceil log_2(n) \\rceil$, а $\\nu(n)$ равно количеству единиц в двоичной записи числа $n$.\n",
    "\n",
    "#### Метод множителей\n",
    "Метод множителей это один из алгоритмов быстрого возведения числа $x$ в некоторую степень $n\\in \\mathbb{N}$.\n",
    "\n",
    "Алгоритм заключается в следующем: для начала число $n$ раскладывается на множители ($n=i*j$), где $i$ - минимальный простой делитель числа $n$). Далее при помощи бинарного метода число &x& возводится в степень $i$, после чего полученный результат $x^i=y$ возводится в степень $j$: $y^j={(x^i)}^j=x^{i\\cdot j}=x^n$. Если $n$ - простое число, то алгоритм сначала возводит число $x$ в степень $n-1$, а потом домножает на $x$, получая тем самым $x^n$.\n",
    "\n",
    "#### Аддитивные цепочки\n",
    "Аддитивная цепочка для некоторого числа $n\\in \\mathbb{N}$ - это последовательность натуральных чисел $\\{a_i\\}_{i=0}^m$, где $a_0 = 1$, $a_m = n$, в которой каждый последующий элемент является суммой каких-то двух предшествующих элементов.\n",
    "\n",
    "$a_i = a_j + a_k, \\forall i:1..m, k \\leq j < i$\n",
    "$l(n) = m$\n",
    "\n",
    "Типы шагов в аддитивной цепочке:\n",
    "\n",
    "Шаг $i$ называют удвоением, если $i - 1 = k = j$;\n",
    "\n",
    "Шаг $i$ называют звездным, если $j = i - 1$, $k \\in \\{0, \\dots, i-1\\}$;\n",
    "\n",
    "Шаг $i$ называют малым, если $\\lambda(a_i)=\\lambda(a_{i-1})$\n",
    "\n",
    "Звездная цепочка - это аддитивная цепочка, в которая состоит только из звездных шагов.\n",
    "\n",
    "#### Алгоритм Брауэра\n",
    "Алгоритм Брауера вычисляет n-ую стпенень за $\\lambda(n)+\\frac{(1+o(1))\\lambda(n)}{\\lambda(\\lambda(n))}$ операций.\n",
    "\n",
    "Для некоторых $n, k$ Брауерские цепочки задаются в виде рекурентной формулы:\n",
    "$$B_k(n) =\\begin{cases}1, 2, 3, ..., 2^k-1\\text{, если }n < 2^k \\\\ B_k(q), 2q, 4q, 8q, ..., 2^kq, n,\\text{ если } n \\geqslant 2^k\\ \\text{и } q = \\lfloor\\frac{n}{2^k}\\rfloor \\end{cases}$$\n",
    "\n",
    "#### Алгоритм дробления вектора индексов\n",
    "Алгоритм дробления вектора индексов позволяет найти минимальную звездную цепочку для некоторого числа $n \\in \\mathbb{N}$.\n",
    "\n",
    "Рассмотрим вектор индексов $\\{r_i\\}_{i=1}^q \\cup {\\{{\\rho}_j \\}}_{j=q+1}^m$, где ${\\rho}_j= \\{x: 1 \\leq x \\leq j \\}$, ${\\{r_i\\}}_{i=1}^q$ - фиксированная часть, ${\\{{\\rho}_j\\}}_{j=q+1}^m$ - изменяющаяся часть.\n",
    "\n",
    "Наибольшее значение $a_m$ достигается при векторе индексов ${\\{r_i\\}}_{i=1}^{q} \\cup \\{q+1,q+2,\\dots,m\\}$.\n",
    "\n",
    "Наименьшее значение $a_m$ достигается при векторе индексов ${\\{r_i\\}}_{i=1}^{q}\\cup\\{1,1,\\dots,1\\}$.\n",
    "\n",
    "$a_{max} = a_{q+1} \\cdot {2}^{m-q}$\n",
    "\n",
    "$a_{min} = a_{q+1}+m-q$\n",
    "\n",
    "Алгоритм:\n",
    "\n",
    "1) Во внешнем цикле рассматриваем аддитивные цепочки длины $m$ от значения $\\underline{l}(n)=\\lceil log_2(n) \\rceil$ до $\\bar{l}(n)=\\lambda(n)+\\nu(n)-1$, на каждой итерации выбираем $q$ ($1 \\leq q \\leq m-1$), пусть $q = \\frac{m}{2}$\n",
    "\n",
    "2) Далее перебираем все возможные фиксированные части вектора индексов $\\{r_i\\}_{i=1}^q$ ($q!$ вариантов), для каждой строим соответствующую ей звездную цепочку, находим $a_{max}$ и ${a}_{min}$\n",
    "\n",
    "&emsp; а) Если $a_m = n$ - конец\n",
    "\n",
    "&emsp; б) Если $n \\notin [a_{min},a_{max}]$, то переходим к следующему набору $\\{r_i\\}_{i=1}^q$\n",
    "\n",
    "&emsp; в) Если $n\\in [a_{min},a_{max}]$, то перебираем все возможные изменяющиеся части вектора индексов ${\\left \\{{\\rho}_j \\right \\}}_{ j=q+1}^m$ и находим $a_m$. Если $a_m=n$, то цепочка найдена. Если все возможные изменяющиеся части вектора индексов ${\\{{\\rho}_j\\}}_{j=q+1}^m$ исчерпаны, то переходим к следующему набору $\\{r_i\\}_{i=1}^q$.\n",
    "\n",
    "3) Если все наборы вектора индексов длины $m$ исчерпаны, то увеличиваем $m$ на 1.\n",
    "\n",
    "#### Теорема Брауэра\n",
    "Пусть $k < log_2(log_2(n))$ верно: $l(n) < (1+k^{-1}) * \\lceil log_2(n) \\rceil + 2^{k-1} - k + 2$\n",
    "\n",
    "Тогда $k=\\lambda(\\lambda(n))-2\\lambda(\\lambda(\\lambda(n)))$\n",
    "\n",
    "*Следствие 1:* $\\lim \\limits_{n \\to \\infty} \\frac{l(n)}{\\lambda(n)} = 1$\n",
    "\n",
    "*Следствие 2:* $\\lambda(n)(1+\\frac{1}{\\lambda(\\lambda(n))}+\\frac{o(\\lambda(\\lambda(\\lambda(n))))}{\\lambda(\\lambda(n))^2})$\n",
    "\n",
    "#### Гипотеза Шольца-Брауэра\n",
    "Пусть $l^*(n)$ - длина звёздной цепочки.\n",
    "\n",
    "Тогда для любого $n \\in \\mathbb{N}$ верно: $l^*(2^n-1)\\leq l^*(n)+n-1$\n",
    "\n",
    "## Постановка задачи\n",
    "Реализовать точные и приближённые алгоритмы нахождения минимальных аддитивных цепочек с использованием системы компьютерной алгебры SageMath, провести анализ алгоритмов. Полученные результаты содержательно проинтерпретировать.\n",
    "## Порядок выполнения работы\n",
    "1. Применить бинарный метод и метод множителей для $x^n$, где $n\\geq30$, для 2-3 значений n (значения n выбирается студентом самостоятельно). Сравнить количество операций для каждого метода, сделать выводы.\n",
    "2. Реализовать алгоритм Брауэра (для нечётных вариантов) или алгоритм Яо (для чётных вариантов) для вычисления приближённых аддитивных цепочек для различных чисел при варьировании параметра k, сопоставить длины полученных аддитивных цепочек с минимальной аддитивной цепочкой для заданного числа. Сделать выводы.\n",
    "3. Реализовать алгоритм дробления вектора индексов для нахождения минимальной звёздной цепочки для заданного числа. Протестировать алгоритм при $n>500$. Указать, сколько времени потребовалось на поиск цепочки и какая цепочка получилась. Сравнить с предыдущими методами, сделать выводы.\n",
    "4. Проверить следствие 1 теоремы Брауэра для $n=1..200$ путём построения функции $l(n)$ и аппроксимирующей кривой, полученной с помощью метода наименьших квадратов. Сопоставить функции на одном графике, сделать выводы.\n",
    "5. Проверить гипотезу Шольца–Брауэра для $1<n\\leq10$ на алгоритме дробления вектора индексов. Сделать выводы.\n",
    "6. *Дополнительное необязательное задание*: найти и/или предложить модификации алгоритмов и привести описание модификаций. Реализовать модифицированные алгоритмы и сравнить их мощность."
   ]
  },
  {
   "cell_type": "markdown",
   "metadata": {},
   "source": [
    "## Выполнение работы\n",
    "*1) Бинарный метод и метод множителей*"
   ]
  },
  {
   "cell_type": "code",
   "execution_count": 5,
   "metadata": {},
   "outputs": [],
   "source": [
    "def bin_meth(x, y):\n",
    "    if y == 0:\n",
    "        return 1\n",
    "    if y == -1:\n",
    "        return 1. / x\n",
    "    p = bin_meth(x, y // 2)\n",
    "    p *= p\n",
    "    if y % 2:\n",
    "        p *= x\n",
    "    return p\n",
    "\n",
    "def bin_oper_count(n):\n",
    "    lambda_n = len(list(bin(n))[2:]) - 1\n",
    "    nu_n = list(bin(n))[2:].count('1')\n",
    "    return lambda_n + nu_n - 1"
   ]
  },
  {
   "cell_type": "code",
   "execution_count": 6,
   "metadata": {},
   "outputs": [],
   "source": [
    "def factors(n):\n",
    "    res = []\n",
    "    d = 2\n",
    "    while 1:\n",
    "        if n % d == 0:\n",
    "            res.append(d)\n",
    "            res.append(n // d)\n",
    "            break\n",
    "        else:\n",
    "            d += 1\n",
    "    \n",
    "    return res\n",
    "\n",
    "def multiplier_meth(x, n):\n",
    "    factors_n = factors(n)\n",
    "    res = x\n",
    "    for el in factors_n:\n",
    "        res = bin_meth(res, el)\n",
    "    return res\n",
    "\n",
    "def mult_oper_count(n):\n",
    "    factors_n = factors(n)\n",
    "    res = 0\n",
    "    res += bin_oper_count(factors_n[0]) + bin_oper_count(factors_n[1])\n",
    "    return res"
   ]
  },
  {
   "cell_type": "code",
   "execution_count": 9,
   "metadata": {},
   "outputs": [
    {
     "name": "stdout",
     "output_type": "stream",
     "text": [
      "Введите число: \n",
      "5\n",
      "Введите степень: \n",
      "3\n",
      "\n",
      "Бинарный метод:\n",
      "5^3 = 125 Число операций: 2\n",
      "\n",
      "Метод множителей:\n",
      "5^3 = 125 Число операций: 2\n"
     ]
    }
   ],
   "source": [
    "print(\"Введите число: \")\n",
    "x = int(input())\n",
    "print(\"Введите степень: \")\n",
    "n = int(input())\n",
    "\n",
    "print(\"\\nБинарный метод:\")\n",
    "print(f\"{x}^{n} =\", bin_meth(x, n), \"Число операций:\", bin_oper_count(n))\n",
    "\n",
    "print(\"\\nМетод множителей:\")\n",
    "print(f\"{x}^{n} =\", multiplier_meth(x, n), \"Число операций:\", mult_oper_count(n))"
   ]
  },
  {
   "cell_type": "markdown",
   "metadata": {},
   "source": [
    "Запишем результаты в таблицу:\n",
    "\n",
    "| n | Бинарый метод | Метод множителей |\n",
    "|:-:|:-:|:-:|\n",
    "| 40 | 6 | 6 |\n",
    "| 125 |11 | 9 |\n",
    "| 255 | 14 | 11 |\n",
    "\n",
    "По результам видно что бинарный метод и метод множителей работают примерно одинаково, но иногда метод множетелей работает быстрее.\n",
    "\n",
    "\n",
    "*2) Алгоритм Брауэра*"
   ]
  },
  {
   "cell_type": "code",
   "execution_count": 2,
   "metadata": {
    "pycharm": {
     "name": "#%%\n"
    }
   },
   "outputs": [],
   "source": [
    "def brouwer(n, k, chain):\n",
    "    if(n < 2**k):\n",
    "        for i in range(1, 2**k):\n",
    "            chain.append(i)\n",
    "        return    \n",
    "    elif(n >=2**k):\n",
    "        q = n//(2**k)\n",
    "        q1=q\n",
    "        brouwer(q, k, chain)\n",
    "        for i in range(1, k+1):\n",
    "            q*=2\n",
    "            if(not(q1<2**(k-i))):\n",
    "                chain.append(q)\n",
    "        if n!= q:    \n",
    "            chain.append(n)    "
   ]
  },
  {
   "cell_type": "code",
   "execution_count": 7,
   "metadata": {},
   "outputs": [
    {
     "name": "stdout",
     "output_type": "stream",
     "text": [
      "Введите число: \n",
      "35\n",
      "Число: 35 k: 2 \n",
      "Цепочка: [1, 2, 3, 4, 8, 16, 32, 35] \n",
      "Длина цепочки: 8 \n",
      "\n",
      "Число: 35 k: 3 \n",
      "Цепочка: [1, 2, 3, 4, 5, 6, 7, 8, 16, 32, 35] \n",
      "Длина цепочки: 11 \n",
      "\n",
      "Число: 35 k: 4 \n",
      "Цепочка: [1, 2, 3, 4, 5, 6, 7, 8, 9, 10, 11, 12, 13, 14, 15, 16, 32, 35] \n",
      "Длина цепочки: 18 \n",
      "\n"
     ]
    }
   ],
   "source": [
    "print(\"Введите число: \")\n",
    "n = int(input())\n",
    "for k in range(2,5):\n",
    "    chain = []\n",
    "    brouwer(n, k, chain)\n",
    "    print(\"Число:\", n,\"k:\", k, \"\\nЦепочка:\", chain, \"\\nДлина цепочки:\", len(chain), '\\n')"
   ]
  },
  {
   "cell_type": "markdown",
   "metadata": {},
   "source": [
    "## Проведем тесты для различных значений n и k и сравним их с известными минимальными значенями длин цепочек:\n",
    "\n",
    "| n | k | Цепочка | Длина цепочки | Минимальная длина |\n",
    "|:-:|:-:|:-------:|:-------------:|:-----------------:|\n",
    "| 35 | 2 | [1, 2, 3, 4, 8, 16, 32, 35] | 8 | 8 |\n",
    "| 35 | 3 | [1, 2, 3, 4, 5, 6, 7, 8, 16, 32, 35] | 11 | 8 |\n",
    "| 35 | 4 | [1, 2, 3, 4, 5, 6, 7, 8, 9, 10, 11, 12, 13, 14, 15, 16, 32, 35] | 18 | 8 |\n",
    "| 66 | 2 | [1, 2, 3, 4, 8, 16, 32, 64, 66] | 9 | 8 |\n",
    "| 66 | 3 | [1, 2, 3, 4, 5, 6, 7, 8, 16, 32, 64, 66] | 12 | 8 |\n",
    "| 66 | 4 | [1, 2, 3, 4, 5, 6, 7, 8, 9, 10, 11, 12, 13, 14, 15, 16, 32, 64, 66] | 19 | 8 |\n",
    "| 105 | 2 | [1, 2, 3, 4, 6, 12, 24, 26, 52, 104, 105] | 11 | 10 |\n",
    "| 105 | 3 | [1, 2, 3, 4, 5, 6, 7, 8, 13, 26, 52, 104, 105] | 13 | 10 |\n",
    "| 105 | 4 | [1, 2, 3, 4, 5, 6, 7, 8, 9, 10, 11, 12, 13, 14, 15, 24, 48, 96, 105] | 19 | 10 |\n",
    "\n",
    "Можно заметить, что чем меньше значение k, тем длина цепочки приближается к мнимальной длине."
   ]
  },
  {
   "cell_type": "markdown",
   "metadata": {},
   "source": [
    "*3) Алгоритм дробления вектора индексов*"
   ]
  },
  {
   "cell_type": "code",
   "execution_count": 5,
   "metadata": {
    "pycharm": {
     "name": "#%%\n"
    }
   },
   "outputs": [
    {
     "name": "stdout",
     "output_type": "stream",
     "text": [
      "512\n",
      " 3.9882237911224365 seconds\n",
      "chain =  [1, 2, 4, 8, 16, 32, 64, 128, 256, 512]\n"
     ]
    }
   ],
   "source": [
    "import math\n",
    "import time\n",
    "\n",
    "\n",
    "def next_vector_r(vector, q):\n",
    "    for i in range(q, 1, -1):\n",
    "        if vector[i - 1] > 1:\n",
    "            vector[i - 1] -= 1\n",
    "            break\n",
    "        if vector[i - 1] == 1:\n",
    "            vector[i - 1] = i\n",
    "    return vector\n",
    "\n",
    "\n",
    "def next_vector_ro(vector, q, m):\n",
    "    for i in range(m, q, -1):\n",
    "        if vector[i - 1] > 1:\n",
    "            vector[i - 1] -= 1\n",
    "            break\n",
    "        if vector[i - 1] == 1:\n",
    "            vector[i - 1] = i\n",
    "    return vector\n",
    "\n",
    "\n",
    "def splitting_vector(n):\n",
    "    low_l = int(math.log2(n)) + 1\n",
    "    high_l = low_l - 1 + bin(n).count('1')\n",
    "    for m in range(low_l, high_l + 1):\n",
    "        vector = [x for x in range(1, m)]\n",
    "        q = m // 2 - 1\n",
    "        flag = 0\n",
    "        while True:\n",
    "            chain = [1]\n",
    "            for i in vector:\n",
    "                chain.append(chain[-1] + chain[i - 1])\n",
    "            if chain[m - 1] == n:\n",
    "                return chain\n",
    "            if len(vector[:q]) == sum(vector[:q]):\n",
    "                flag = 1\n",
    "            a_min = chain[q] + m - q\n",
    "            a_max = chain[q] * 2 ** (m - q)\n",
    "            if n in range(a_min, a_max + 1):\n",
    "                while True:\n",
    "                    chain = [1]\n",
    "                    vector = next_vector_ro(vector, q, m - 1)\n",
    "                    for i in vector:\n",
    "                        chain.append(chain[-1] + chain[i - 1])\n",
    "                    if chain[m - 1] == n:\n",
    "                        return chain\n",
    "                    if len(vector[q:]) == sum(vector[q:]):\n",
    "                        break\n",
    "                vector = next_vector_r(vector, q)\n",
    "            else:\n",
    "                vector = next_vector_r(vector, q)\n",
    "            if flag == 1:\n",
    "                break\n",
    "    return chain\n",
    "\n",
    "\n",
    "start_time = time.time()\n",
    "chain = splitting_vector(int(input()))\n",
    "print(\" %s seconds\" % (time.time() - start_time))\n",
    "print('chain = ', chain)"
   ]
  },
  {
   "cell_type": "markdown",
   "metadata": {},
   "source": [
    "Проведем тесты алгоритма ДВИ при $n > 500$ и сравним полученные результаты с результатами работы алгоритма Брауэра (при $k=3$)."
   ]
  },
  {
   "cell_type": "markdown",
   "metadata": {
    "pycharm": {
     "name": "#%%\n"
    }
   },
   "source": [
    "Сведем полученные данные в таблицу:\n",
    "\n",
    "| n | Цепочка алгоритма Брауэра ($k = 2$) | Длина цепочки | Цепочка алгоритма ДВИ | Длина цепочки | Время работы алгоритма |\n",
    "|:----:|:----:|:----:|:----:|:----:|:----:|\n",
    "| 501 | [1, 2, 3, 4, 7, 14, 28, 31, 62, 124, 125, 250, 500, 501] | 14 | [1, 2, 4, 8, 16, 32, 64, 96, 100, 200, 400, 500, 501] | 13 | 92 сек.|\n",
    "| 524 | [1, 2, 3, 4, 8, 16, 32, 64, 128, 131, 262, 524] | 12 | [1, 2, 4, 8, 16, 32, 64, 128, 256, 512, 520, 524]| 12 | 11 сек.|\n",
    "| 571 | [1, 2, 3, 4, 8, 16, 32, 35, 70, 140, 142, 284, 568, 571] | 14 | [1, 2, 4, 8, 16, 32, 34, 35, 67, 134, 268, 536, 571]| 13 | 98 сек. |\n",
    "| 638 | [1, 2, 3, 4, 8, 9, 18, 36, 39, 78, 156, 159, 318, 636, 638] | 15 | [1, 2, 4, 8, 16, 32, 48, 50, 98, 196, 392, 588, 638] | 13 | 104 сек.|"
   ]
  },
  {
   "cell_type": "markdown",
   "metadata": {},
   "source": [
    "Как можно увидеть, алгоритм дробления вектора индексов тратит гораздо большее время, чем алгоритм Брауэра, но при этом точнее находит минимальную аддитивную цепочку."
   ]
  },
  {
   "cell_type": "markdown",
   "metadata": {},
   "source": [
    "*4) Проверка следствия Брауэра*"
   ]
  },
  {
   "cell_type": "code",
   "execution_count": 6,
   "metadata": {
    "pycharm": {
     "name": "#%%\n"
    }
   },
   "outputs": [
    {
     "data": {
      "image/png": "[encoded data removed]",
      "text/plain": [
       "<Figure size 864x576 with 1 Axes>"
      ]
     },
     "metadata": {
      "needs_background": "light"
     },
     "output_type": "display_data"
    }
   ],
   "source": [
    "import pylab as plt\n",
    "\n",
    "x = [i for i in range(1, 201)]\n",
    "ln = [len(splitting_vector(i)) for i in range(1, 201)]\n",
    "lnx = [math.log2(i) for i in range(1, 201)]\n",
    "lnx2 = [math.log2(i) ** 2 for i in range(1, 201)]\n",
    "lnx_y = [ln[i - 1] * lnx[i - 1] for i in range(1, 201)]\n",
    "\n",
    "a = (201 * sum(lnx_y) - sum(ln) * sum(lnx)) / (201 * sum(lnx2) - sum(lnx) ** 2)\n",
    "b = (sum(ln) - a * sum(lnx)) / 200\n",
    "y = [b + a * lnx[i - 1] for i in range(1, 201)]\n",
    "plt.figure(figsize=(12, 8))\n",
    "plt.scatter(x, ln, color='r', marker='.')\n",
    "plt.plot(x, y)\n",
    "plt.show()"
   ]
  },
  {
   "cell_type": "markdown",
   "metadata": {},
   "source": [
    "Из графика видно, что функция $l(n)$ аппроксимируется логарифмом, что и является следствием теоремы Брауэра."
   ]
  },
  {
   "cell_type": "markdown",
   "metadata": {},
   "source": [
    "*5) Проверка гипотезы Шольца–Брауэра*"
   ]
  },
  {
   "cell_type": "markdown",
   "metadata": {},
   "source": [
    "Проверим гипотезу Шольца-Брауэра для $n: 1 < n \\leq 10$ "
   ]
  },
  {
   "cell_type": "code",
   "execution_count": null,
   "metadata": {
    "pycharm": {
     "name": "#%%\n"
    }
   },
   "outputs": [],
   "source": [
    "for i in range(2, 11):\n",
    "    print(f\"n = {i}, l(2^n-1) = {len(splitting_vector(2 ** i - 1))}, l(n)+n-1 = {len(splitting_vector(i)) + i - 1}\")"
   ]
  },
  {
   "cell_type": "markdown",
   "metadata": {},
   "source": [
    "Сведем результаты в таблицу:\n",
    "\n",
    "| n | l(2^n-1)| l(n)+n-1 |\n",
    "| :-: | :-: | :-: |\n",
    "| 2 | 3 | 3 |\n",
    "| 3 | 5 | 5 |\n",
    "| 4 | 6 | 6 |\n",
    "| 5 | 8 | 8 |\n",
    "| 6 | 9 | 9 |\n",
    "| 7 | 11 | 11 |\n",
    "| 8 | 11 | 11 |\n",
    "| 9 | 13 | 13 |\n",
    "| 10 | 14 | 14 |\n",
    "\n",
    "Как можно увидеть, для $2 \\leq n \\leq 10$ гипотеза выполняется. Также можно заметить, что значения совпали, следовательно при $2 \\leq n \\leq 10$ для посчета $l(2^n-1)$ можно использовать формулу $l(n)+n-1$, тем самым сэкономив время."
   ]
  },
  {
   "cell_type": "markdown",
   "metadata": {},
   "source": [
    "## Вывод\n",
    "\n",
    "В ходе выполнения практической работы были изучены и реализованы алгоритмы быстрого возведения в степень: бинарный метод и метод множителей. По итогам тестирования было выявлено, что оба алгоритма тратят примерно одинаковое количество операций, но в некоторых ситуациях метод множетелей работал лучше.\n",
    "\n",
    "Еще было изучено понятие аддитивной цепочки и изучены алгоритмы их построения - алгоритм Брауэра и алгоритм дробления вектора индексов. Алгоритм Брауэра работает гораздно быстрее, но реже находит минимальную аддитивную цепочку, алгоритм ДВИ работает очень долго, но всегда находит минимальную. \n",
    "\n",
    "Также было проверено следствие теоремы Брауэра и гипотеза Штольца-Брауэра."
   ]
  }
 ],
 "metadata": {
  "kernelspec": {
   "display_name": "SageMath 9.2",
   "language": "sage",
   "name": "sagemath"
  },
  "language_info": {
   "codemirror_mode": {
    "name": "ipython",
    "version": 3
   },
   "file_extension": ".py",
   "mimetype": "text/x-python",
   "name": "python",
   "nbconvert_exporter": "python",
   "pygments_lexer": "ipython3",
   "version": "3.9.2"
  }
 },
 "nbformat": 4,
 "nbformat_minor": 4
}
