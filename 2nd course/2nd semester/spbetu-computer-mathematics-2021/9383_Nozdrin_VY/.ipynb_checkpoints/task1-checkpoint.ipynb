{
 "cells": [
  {
   "cell_type": "markdown",
   "metadata": {},
   "source": [
    "# Практическая работа №1: Исследование алгоритмов формирования аддитивных цепочек  \n",
    "\n",
    "Выполнил студент гр. 9383 Ноздрин Василий, вариант 102.  "
   ]
  },
  {
   "cell_type": "markdown",
   "metadata": {},
   "source": [
    "## Цель работы  \n",
    "\n",
    "Формирование представления о аддитивных цепочках, выработать умение составлять и применять алгоритмы для нахождения минимальных аддитивных цепочек для заданного числа, привить навык использования систем компьютерной алгебры для реализации алгоритмов.  "
   ]
  },
  {
   "cell_type": "markdown",
   "metadata": {},
   "source": [
    "## Содержание блокнота  \n",
    "\n",
    "1. Цель работы.  \n",
    "2. Основные теоретические положения.  \n",
    "3. Постановка задачи с кратким описанием выполнения работы.  \n",
    "4. Решение задач вычисления степеней бинарным методом и методом множителей.  \n",
    "5. Реализация алгоритма Брауэра/Яо.  \n",
    "6. Реализация метода дробления вектора индексов.  \n",
    "7. Проверка следствия Брауэра.  \n",
    "8. Проверка гипотезы Шольца–Брауэра.  \n",
    "9. Общий вывод по проделанной работе. "
   ]
  },
  {
   "cell_type": "markdown",
   "metadata": {},
   "source": [
    "## Основные теоретические положения  \n",
    "\n",
    "**Постановка задачи:** необходимо возвести некоторое число $x$ в степень $n \\in \\mathbb{N}$. Для возведения в степень необходимо использовать операцию умножения. Следующие методы позволяют вычислить $x^n$ быстрее, чем примитивным умножением $x$ на себя $n-1$ раз.  "
   ]
  },
  {
   "cell_type": "markdown",
   "metadata": {},
   "source": [
    "### Аддитивные цепочки  \n",
    "\n",
    "Последовательность натуральных чисел $ 1=a_0,a_1,a_2,\\dots,a_m=n$ называется аддитивной цепочкой для числа $n$, если $\\forall i \\exists j,k \\leq i: a_i=a_j+a_k$. То есть любое число представляется в виде суммы некоторых предыдущих чисел. Число $m$ называется длиной цепочки, а длина кратчайшей цепочки для заданного $n$ обозначается $l(n)$  \n",
    "Если $\\forall i \\exists j \\leq i: a_i=a_{i-1}+a_j$, то цепочка называется линейной. Длина кратчайшей линейной цепочки обозначается $l^*(n)$.  \n",
    "\n",
    "\n",
    "\n",
    "При построении аддитивной цепочки переход от $a_i$ к $a_{i+1}$ называется шагом.  \n",
    "#### Типы шагов  для $a_i=a_j+a_k$  \n",
    "1. Удвоение, если $j=k=i-1$  \n",
    "2. Звездный шаг, если $j=i-1, k \\in \\{0,\\dots,(i-1)\\}$  \n",
    "3. Малый шаг, если $\\lambda(a_i)=\\lambda(a_{i-1})$ или же $a_{i-1}<a_i\\leq2a_{i-1}$  \n",
    "\n",
    "Если в аддитивной цепочке все шаги звездные, то такая цепочка называется звездной цепочкой."
   ]
  },
  {
   "cell_type": "markdown",
   "metadata": {},
   "source": [
    "### Бинарный метод  \n",
    "\n",
    "$\\nu(n) - $ вес Хэмминга, число ненулевых цифра в двоичной записи числа  \n",
    "$\\lambda(n) = \\lfloor lb(n) \\rfloor$\n",
    "\\begin{equation}\n",
    "    \\lambda(n) =\n",
    "    \\begin{cases}\n",
    "        \\lambda(\\lfloor n/2\\rfloor)+1   & \\text{, }   \\quad n \\neq 1\\\\\n",
    "        0                               & \\text{, }   \\quad n = 1\n",
    "    \\end{cases}\n",
    "    \\quad\\quad\\quad\\quad\n",
    "    \\nu(n) =\n",
    "    \\begin{cases}\n",
    "        \\nu(\\lfloor n/2\\rfloor)+n\\ mod\\ 2 & \\text{, } \\quad n \\neq 1\\\\\n",
    "        1                                 & \\text{, } \\quad n = 1\n",
    "    \\end{cases}\n",
    "\\end{equation}\n",
    "\n",
    "**Число операций при вычислении степени бинарный методом равно** $\\lambda(n)+\\nu(n)-1$\n",
    "\n",
    "Алгоритм\n",
    "\n",
    "1. Перевести $n$ в двоичную систему счисленеия\n",
    "2. По двоичной записи операциями $x^k \\rightarrow x^{k+1}$ и $x^k \\rightarrow x^{2k}$ получить $x^n$\n",
    "\n",
    "Пример  \n",
    "Пусть $n = 12_{10} = 1100_{2}$  \n",
    "Тогда решение будет следующий:\n",
    "\\begin{equation}\n",
    "\\begin{cases}\n",
    "    x   \\rightarrow x^{2}  & \\text{соответствует 1 старшем разряде} \\\\\n",
    "    x^2 \\rightarrow x^{3}  & \\text{соответствует 1 в третьем разряде} \\\\\n",
    "    x^3 \\rightarrow x^{6}  & \\text{соответствует 0 во втором разряде} \\\\\n",
    "    x^6 \\rightarrow x^{12} & \\text{соответсвует 0 в первом разряде} \\\\\n",
    "\\end{cases}\n",
    "\\end{equation}"
   ]
  },
  {
   "cell_type": "markdown",
   "metadata": {},
   "source": [
    "### Метод множителей  \n",
    "\n",
    "Если мы можем найти $x^i$ за $n$ шагов и $x^j$ за $m$ шагов, то для $k = ij$ можно найти $x^k$ за $m+n$ шагов.\n",
    "Тогда в случае решения общей задачи нахождения $x^k$ выберем $i$ равным наименьшему простому множителю $k$ (случай простого $k$ будет рассмотрен позже). Тогда $j$ будет вычисляться как $j=\\frac{k}{i}$. Далее вычислим $x^i$, например, бинарным методом, и возведем это число в степень $j$. Таким образом $x^k=(x^i)^j$ будет вычисляться за $n+m$ шагов.  \n",
    "В случае, если число $k\\ -$ простое, можно вычислить сначала число $x^{k-1}$, а затем за один шаг получить $x^k$. В таком случае решение будет найдено за $m'+n'+1$ шагов.  \n"
   ]
  },
  {
   "cell_type": "markdown",
   "metadata": {},
   "source": [
    "### Оценка длины аддитивных цепочек\n",
    "\n",
    "Для бинарного метода $$l(n)\\leq\\lambda(n)+\\nu(n)-1$$\n",
    "Для метода множителей $$l(nm)\\leq l(n)+l(m)$$"
   ]
  },
  {
   "cell_type": "markdown",
   "metadata": {},
   "source": [
    "### Теорема Брауэра  \n",
    "\n",
    "Для $k<lb(lbn)$ выполнено $l(n)<(1+k^{-1})\\lceil lbn\\rceil+2^{k-1}-k+2$  \n",
    "\n",
    "#### Следствие 1\n",
    "\n",
    "Если $k=\\lambda\\lambda(n)-2\\lambda\\lambda\\lambda(n)$ тогда $$\\lim_{n\\to\\infty} \\frac{l(n)}{\\lambda(n)}=1$$\n",
    "\n",
    "#### Следствие 2\n",
    "\n",
    "$$l(n) \\leq \\lambda(n)(1+\\frac{1}{\\lambda\\lambda(n)}+\\frac{\\mathcal{O}(\\lambda\\lambda\\lambda(n))}{(\\lambda\\lambda(n))^2})$$"
   ]
  },
  {
   "cell_type": "markdown",
   "metadata": {},
   "source": [
    "### Алгоритм Яо  \n",
    "\n",
    "Алгоритм Яо позволяет вычислить аддитивную цепочку для числа $n\\in\\mathbb{N}$.  \n",
    "Выбирается $k$ и, если $n, k \\geq 2$, тогда представим $n$ в cледующем виде:  \n",
    "$$n = \\sum_{i = 0}^{j}a_i2^{ik}, a_j \\neq 0$$\n",
    "\n",
    "Определим функцию $d(z)$, как сумму чисел $2^{ik}$ по всем $i:a_i=z$\n",
    "\n",
    "В начале аддитивная цепочка Яо имеет следующий вид: $1, 2, 4, 8, ..., 2^k$\n",
    "\n",
    "Затем находим $z*d(z)$ для всех $ z \\in \\{1, 2, 3, ..., 2^{k-1}\\},\\ d(z)\\neq0$\n",
    "\n",
    "Получаем $n = \\sum_{z = 1}^{2^{k-1}}zd(z)$\n",
    "\n",
    "Алгоритм Яо не гарантирует минимальности аддитивной цепочки.\n",
    "\n",
    "Сложность алгоритма $lb(n)+\\frac{(1+\\mathcal{O}(1))lb(n)}{lb(lb(n))}$"
   ]
  },
  {
   "cell_type": "markdown",
   "metadata": {},
   "source": [
    "### Алгоритм дробления вектора индексов  \n",
    "\n",
    "Алгоритм дробления вектора индексов ищет минимальную звёздную цепочку $1=a_1,a_2,\\dots,a_m=n$, где $n\\in\\mathbb{N}$.  \n",
    "Рассмотрим звездную цепочку $1=a_1,a_2,...,a_m=n \\quad l^*(n)=m$. Вектором индексов называется такая последовательность $r_1,r_2,\\dots,r_{m-1}$, где $r_i=\\{x|1\\leq x\\leq i\\}$ и $a_i=a_{i-1}+a_{r_{i-1}}$ для $2\\leq i\\leq m-1$.  \n",
    "\n",
    "Максимальной звёздной цепочке $1,2,4,...,2^m$ соответствует вектор индексов $R=\\{ 1,2,...,m-1 \\}$.  \n",
    "Минимальной звёздной цепочке $1,2,3,4,...,m$ соответствует вектор индексов $R=\\{ 1,1,1,...,1 \\}$.  \n",
    "\n",
    "Два вектора индексов $R=\\{r_i\\}_{i=1}^{m-1}$ и $\\widetilde R=\\{\\widetilde r_i\\}_{i=1}^{m-1}$ равны, если равны соответственно координаты $r_1=\\widetilde r_1,r_2=\\widetilde r_2,r_3=\\widetilde r_3,\\dots,r_{m-1}=\\widetilde r_{m-1},r_m>\\widetilde r_m $.\n",
    "\n",
    "Алгоритм следующий: выполняется перебор по разбиению вектора индексов на фиксированную часть $\\{r_i\\}_{i=1}^q$ и меняющуюся часть $\\{r_i\\}_{i=q+1}^m$.\n",
    "\n",
    "Значение $a_m$ наибольшее при векторе индексов $\\{r_i\\}_{i=1}^q\\cup\\{q+1,\\dots,m-1\\}\\quad a_{max}=a_{q+1}*2^{m-q}$  \n",
    "Значение $a_m$ наименьшее при векторе индексов $\\{r_i\\}_{i=1}^q\\cup\\{1,\\dots,1\\}\\quad a_{min}=a_{q+1}+m-q$  \n",
    "\n",
    "На каждом шаге алгоритма для фиксированной первой части вектора индексов вычисляются $a_{min}$ и $a_{max}$.  \n",
    "Если $n<a_{min}$ или $ a_{max}<n$, то алгоритм переходит к следующему фиксированному вектору индексов.  \n",
    "Если $a_{min}\\leq n$ и $n\\leq a_{max}$, то перебирается меняющаяся часть вектора индексов.  \n",
    "Когда $a_m=n$, алгоритм завершен.  \n",
    "Если все наборы вектора индексов длины $m$ перебраны и $a_m\\neq n$, то $m$ увеличивается на 1 и перебор повторяется.  \n",
    "$m$ лежит в интервале от $\\underline{l}(n)$ до $\\overline{l}(n)$, где  \n",
    "$$\\underline{l}(n)=\\lceil lb(n)\\rceil\\quad\\quad\\quad\\overline{l}(n)=\\lambda(n)+\\nu(n)-1$$"
   ]
  },
  {
   "cell_type": "markdown",
   "metadata": {},
   "source": [
    "## Постановка задачи  \n",
    "\n",
    "Реализовать точные и приближённые алгоритмы нахождения минимальных аддитивных цепочек с использованием системы компьютерной алгебры SageMath, провести анализ алгоритмов. Полученные результаты содержательно проинтерпретировать.  "
   ]
  },
  {
   "cell_type": "markdown",
   "metadata": {},
   "source": [
    "## Порядок выполнения работы  \n",
    "\n",
    "1. Применить бинарный метод и метод множителей для $x_n$, где $n\\geq30$, для $2-3$ значений $n$ (значения $n$ выбирается студентом самостоятельно). Сравнить количество операций для каждого метода, сделать выводы.  \n",
    "2. Реализовать алгоритм Брауэра (для нечётных вариантов) или алгоритм Яо (для чётных вариантов) для вычисления приближённых аддитивных цепочек для различных чисел при варьировании параметра k, сопоставить длины полученных аддитивных цепочек с минимальной аддитивной цепочкой для заданного числа. Сделать выводы.  \n",
    "3. Реализовать алгоритм дробления вектора индексов для нахождения минимальной звёздной цепочки для заданного числа. Протестировать алгоритм при $n>500$. Указать, сколько времени потребовалось на поиск цепочки и какая цепочка получилась. Сравнить с предыдущими методами, сделать выводы.  \n",
    "4. Проверить следствие **1 теоремы Брауэра** для $n=1\\dots200$ путём построения функции $l(n)$ и аппроксимирующей кривой, полученной с помощью метода наименьших квадратов. Сопоставить функции на одном графике, сделать выводы.  \n",
    "5. Проверить гипотезу Шольца–Брауэра для $1<n\\leq10$ на алгоритме дробления вектора индексов. Сделать выводы.  \n",
    "**Дополнительное необязательное задание:** найти и/или предложить модификации алгоритмов и привести описание модификаций. Реализовать модифицированные алгоритмы и сравнить их мощность.  "
   ]
  },
  {
   "cell_type": "markdown",
   "metadata": {},
   "source": [
    "## Вопросы для самоконтроля\n",
    "\n",
    "1. Бинарный метод, метод множителей. В каком случае бинарный метод будет лучше метода множителей?  \n",
    "2. Определение аддитивной цепочки.  \n",
    "3. Определение шага аддитивной цепочки и их виды.  \n",
    "4. Определение звёздной цепочки. В чём её приемущества/недостатки?  \n",
    "5. Алгоритм Брауэра, алгоритм Яо.  \n",
    "6. Верхние и нижние границы длины минимальной аддитивной цепочки.  \n",
    "7. Оптимизация длины аддитивной цепочки при определённых условиях.  \n",
    "8. Теорема Брауэра.  \n",
    "9. Гипотеза Шольца–Брауэра. "
   ]
  },
  {
   "cell_type": "markdown",
   "metadata": {},
   "source": [
    "## Список литературы:  \n",
    "\n",
    "1. Donald E. Knuth. The Art of Computer Programming V. 2 Seminumerical Algorithms, 1st edition, Addison-Wesly 1969 pp 398-422.  \n",
    "2. Daniel J. Bernstein. \"Pippenger's Exponentiation Algorithm\", URL: [https://cr.yp.to/papers/pippenger.pdf](https://cr.yp.to/papers/pippenger.pdf), 2002.  \n",
    "3. Kenneth B. Stolarsky [\"A lower bound for the Scholz-Brauer problem\"](http://wwwhomes.uni-bielefeld.de/achim/stolarsky_1969.pdf), Canadian Journal of Mathematics, V. 21, 1969 pp 675-683.  \n",
    "4. Построение аддитивных цепочек для чисел $\\leq 2^{27}$ // Shortest Addition Chains. URL: [http://wwwhomes.uni-bielefeld.de/achim/addition_chain.html](http://wwwhomes.uni-bielefeld.de/achim/addition_chain.html)"
   ]
  },
  {
   "cell_type": "markdown",
   "metadata": {},
   "source": [
    "## Выполнение работы  \n",
    "\n",
    "### 1. Сравним Бинарный метод с методом множителей  "
   ]
  },
  {
   "cell_type": "code",
   "execution_count": 1,
   "metadata": {},
   "outputs": [],
   "source": [
    "def hamming_weight(n: int):\n",
    "    if n == 1:\n",
    "        return 1\n",
    "    return (n%2) + hamming_weight(n//2)\n",
    "\n",
    "def hamming_weight_functional(n: int):\n",
    "    return list(bin(n)[2:]).count('1')\n",
    "\n",
    "def binary_method(n: int, info:bool=False):\n",
    "    if n < 2:\n",
    "        print('give n > 1')\n",
    "        return\n",
    "    steps = hamming_weight(n) + floor(log(n,2)) - 1\n",
    "    if info:\n",
    "        print(f'lambda({n}) + nu({n}) - 1 = {steps}')\n",
    "    cur = 1\n",
    "    for i in bin(n)[3:]:\n",
    "        if info:\n",
    "            print(f'x^{cur} -> x^{cur*2}')\n",
    "        cur *= 2\n",
    "        if i == '1':\n",
    "            if info:\n",
    "                print(f'x^{cur} -> x^{cur+1}')\n",
    "            cur += 1\n",
    "    return steps\n",
    "\n"
   ]
  },
  {
   "cell_type": "code",
   "execution_count": 2,
   "metadata": {},
   "outputs": [],
   "source": [
    "def multipliers_method(n: int, info:bool=False):\n",
    "    if n < 2:\n",
    "        print('give n > 1')\n",
    "        return\n",
    "    steps = 0\n",
    "    if n in Primes():\n",
    "        if info:\n",
    "            print(f'{n} is prime. Lets use this method to count {k-1} and then multiply result by base')\n",
    "        return 1 + multipliers_method(n-1, info)\n",
    "    i = 0\n",
    "    j = 0\n",
    "    for x in Primes()[:n]:\n",
    "        if n % x == 0:\n",
    "            i = x\n",
    "            break\n",
    "    j = n // i\n",
    "    if n != i*j:\n",
    "        print('oops! n != i*j')\n",
    "        return\n",
    "    \n",
    "    return binary_method(i, info)+binary_method(j, info)+1\n",
    "\n"
   ]
  },
  {
   "cell_type": "code",
   "execution_count": 87,
   "metadata": {},
   "outputs": [],
   "source": [
    "# limit(sin(x)/x, x = 0)\n",
    "# plot(sin, -2*pi, 2*pi)"
   ]
  },
  {
   "cell_type": "code",
   "execution_count": 35,
   "metadata": {
    "scrolled": false
   },
   "outputs": [],
   "source": [
    "def compare_BM_and_MM(n, info:bool=False):\n",
    "    print(f'BM steps = {binary_method(n, info)} \\nMM steps = {multipliers_method(n, info)}')\n",
    "\n"
   ]
  },
  {
   "cell_type": "code",
   "execution_count": 36,
   "metadata": {},
   "outputs": [
    {
     "name": "stdout",
     "output_type": "stream",
     "text": [
      "lambda(63) + nu(63) - 1 = 10\n",
      "x^1 -> x^2\n",
      "x^2 -> x^3\n",
      "x^3 -> x^6\n",
      "x^6 -> x^7\n",
      "x^7 -> x^14\n",
      "x^14 -> x^15\n",
      "x^15 -> x^30\n",
      "x^30 -> x^31\n",
      "x^31 -> x^62\n",
      "x^62 -> x^63\n",
      "lambda(3) + nu(3) - 1 = 2\n",
      "x^1 -> x^2\n",
      "x^2 -> x^3\n",
      "lambda(21) + nu(21) - 1 = 6\n",
      "x^1 -> x^2\n",
      "x^2 -> x^4\n",
      "x^4 -> x^5\n",
      "x^5 -> x^10\n",
      "x^10 -> x^20\n",
      "x^20 -> x^21\n",
      "BM steps = 10 \n",
      "MM steps = 9\n"
     ]
    }
   ],
   "source": [
    "compare_BM_and_MM(63, True)"
   ]
  },
  {
   "cell_type": "code",
   "execution_count": 37,
   "metadata": {},
   "outputs": [
    {
     "name": "stdout",
     "output_type": "stream",
     "text": [
      "lambda(64) + nu(64) - 1 = 6\n",
      "x^1 -> x^2\n",
      "x^2 -> x^4\n",
      "x^4 -> x^8\n",
      "x^8 -> x^16\n",
      "x^16 -> x^32\n",
      "x^32 -> x^64\n",
      "lambda(2) + nu(2) - 1 = 1\n",
      "x^1 -> x^2\n",
      "lambda(32) + nu(32) - 1 = 5\n",
      "x^1 -> x^2\n",
      "x^2 -> x^4\n",
      "x^4 -> x^8\n",
      "x^8 -> x^16\n",
      "x^16 -> x^32\n",
      "BM steps = 6 \n",
      "MM steps = 7\n"
     ]
    }
   ],
   "source": [
    "compare_BM_and_MM(64, True)"
   ]
  },
  {
   "cell_type": "code",
   "execution_count": 38,
   "metadata": {},
   "outputs": [
    {
     "name": "stdout",
     "output_type": "stream",
     "text": [
      "lambda(65) + nu(65) - 1 = 7\n",
      "x^1 -> x^2\n",
      "x^2 -> x^4\n",
      "x^4 -> x^8\n",
      "x^8 -> x^16\n",
      "x^16 -> x^32\n",
      "x^32 -> x^64\n",
      "x^64 -> x^65\n",
      "lambda(5) + nu(5) - 1 = 3\n",
      "x^1 -> x^2\n",
      "x^2 -> x^4\n",
      "x^4 -> x^5\n",
      "lambda(13) + nu(13) - 1 = 5\n",
      "x^1 -> x^2\n",
      "x^2 -> x^3\n",
      "x^3 -> x^6\n",
      "x^6 -> x^12\n",
      "x^12 -> x^13\n",
      "BM steps = 7 \n",
      "MM steps = 9\n"
     ]
    }
   ],
   "source": [
    "compare_BM_and_MM(65, True)"
   ]
  },
  {
   "cell_type": "markdown",
   "metadata": {},
   "source": [
    "### Алгоритм Яо"
   ]
  },
  {
   "cell_type": "code",
   "execution_count": 50,
   "metadata": {},
   "outputs": [],
   "source": [
    "def min_prime(n):\n",
    "    for x in Primes():\n",
    "        if n % x == 0:\n",
    "            return x\n",
    "        elif x > n:\n",
    "            return -1\n",
    "\n",
    "\n",
    "def binary(start,n):\n",
    "    if n < min(2, start):\n",
    "        return [start]\n",
    "    chain = [start]\n",
    "    result = start\n",
    "    for i in bin(int(n))[3:]:\n",
    "        result += result\n",
    "        if i == '1':\n",
    "            result += start\n",
    "        chain.append(result)\n",
    "    return chain\n",
    "\n",
    "def multipliers(start,n):\n",
    "    if n == 1:\n",
    "        return [start]\n",
    "    if n == 2:\n",
    "        return [start, start + start]\n",
    "    i = 0\n",
    "    j = 0\n",
    "    if n in Primes():\n",
    "        n -= 1\n",
    "        i = 2\n",
    "    else:\n",
    "        for x in Primes()[:n]:\n",
    "            if n % x == 0:\n",
    "                i = x\n",
    "                break\n",
    "    j = n // i\n",
    "    chain1 = binary(start, i)\n",
    "    chain2 = binary(chain1[-1], j)\n",
    "    if n in Primes():\n",
    "        chain2.append(chain2[-1] + start)\n",
    "    return chain1 + chain2[1:]\n",
    "\n"
   ]
  },
  {
   "cell_type": "code",
   "execution_count": 52,
   "metadata": {},
   "outputs": [
    {
     "name": "stdout",
     "output_type": "stream",
     "text": [
      "|32|2|1,2,4,8,16,32|6|\n",
      "|32|3|1,2,4,8,16,32|6|\n",
      "|32|4|1,2,4,8,16,32|6|\n",
      "|32|5|1,2,4,8,16,32|6|\n",
      "|51|2|1,2,4,8,16,32,17,34,51|9|\n",
      "|51|3|1,2,4,8,16,32,3,48,51|9|\n",
      "|51|4|1,2,4,8,16,32,17,34,51|9|\n",
      "|51|5|1,2,4,8,16,32,18,50|8|\n",
      "|87|2|1,2,4,8,16,32,64,20,84,3,87|11|\n",
      "|87|3|1,2,4,8,16,32,64,80,6,86|10|\n",
      "|87|4|1,2,4,8,16,32,64,6,70|9|\n",
      "|87|5|1,2,4,8,16,32,64,10,22,86|10|\n",
      "|113|2|1,2,4,8,16,32,64,65,48,113|10|\n",
      "|113|3|1,2,4,8,16,32,64,65,48,113|10|\n",
      "|113|4|1,2,4,8,16,32,64,96,97|9|\n",
      "|113|5|1,2,4,8,16,32,64,96,112|9|\n",
      "|150|2|1,2,4,8,16,32,64,128,20,65,130,150|12|\n",
      "|150|3|1,2,4,8,16,32,64,128,72,144,6,150|12|\n",
      "|150|4|1,2,4,8,16,32,64,128,6,48,144,150|12|\n",
      "|150|5|1,2,4,8,16,32,64,128,10,22,150|11|\n",
      "|30000|2|1,2,4,8,16,32,64,128,256,512,1024,2048,4096,8192,16384,1280,17664,4112,8224,12336,30000|21|\n",
      "|30000|3|1,2,4,8,16,32,64,128,256,512,1024,2048,4096,8192,16384,1280,48,1328,24576,25904|20|\n",
      "|30000|4|1,2,4,8,16,32,64,128,256,512,1024,2048,4096,8192,16384,48,1072,24576,25648|19|\n",
      "|30000|5|1,2,4,8,16,32,64,128,256,512,1024,2048,4096,8192,16384,96,288,304,6144,14336,28672,28976|22|\n"
     ]
    }
   ],
   "source": [
    "def Yao(n,k):\n",
    "    coefficients = []\n",
    "    temp = n\n",
    "    while temp > 0:\n",
    "        coefficients.append(temp % 2**k)\n",
    "        temp //= 2**k\n",
    "    chain = [2**i for i in range(0, int(log(n, 2) + 1))]\n",
    "    res = 0\n",
    "    for z in range(1, 2**k):\n",
    "        dz = 0\n",
    "        for i in range(len(coefficients)):\n",
    "            if coefficients[i] == z:\n",
    "                dz += 2**(i * k)\n",
    "                if dz not in chain:\n",
    "                    chain.append(dz)\n",
    "        if dz == 0:\n",
    "            continue\n",
    "        chain_dz = multipliers(dz, z)\n",
    "        for j in chain_dz:\n",
    "            if j in chain:\n",
    "                continue\n",
    "            chain.append(j)\n",
    "        res += chain_dz[-1]\n",
    "        if res in chain:\n",
    "            continue\n",
    "        chain.append(res)\n",
    "    return chain\n",
    "\n",
    "ks = [2,3,4,5]\n",
    "ns = [32,51,87,113,150,30000]\n",
    "for n in ns:\n",
    "    for k in ks:\n",
    "        chain = Yao(n,k)\n",
    "        chain_str = \",\".join(list(map(str,chain)))\n",
    "        chain_len = len(chain)\n",
    "        print(f\"|{n}|{k}|{chain_str}|{chain_len}|\")\n"
   ]
  },
  {
   "cell_type": "markdown",
   "metadata": {},
   "source": [
    "|n      |k  |Аддитивная цепочка|Длина   |\n",
    "|-------|---|------------------|--------|\n",
    "|32|2|1,2,4,8,16,32|6|\n",
    "|32|3|1,2,4,8,16,32|6|\n",
    "|32|4|1,2,4,8,16,32|6|\n",
    "|32|5|1,2,4,8,16,32|6|\n",
    "|51|2|1,2,4,8,16,32,17,34,51|9|\n",
    "|51|3|1,2,4,8,16,32,3,48,51|9|\n",
    "|51|4|1,2,4,8,16,32,17,34,51|9|\n",
    "|51|5|1,2,4,8,16,32,18,50|8|\n",
    "|87|2|1,2,4,8,16,32,64,20,84,3,87|11|\n",
    "|87|3|1,2,4,8,16,32,64,80,6,86|10|\n",
    "|87|4|1,2,4,8,16,32,64,6,70|9|\n",
    "|87|5|1,2,4,8,16,32,64,10,22,86|10|\n",
    "|113|2|1,2,4,8,16,32,64,65,48,113|10|\n",
    "|113|3|1,2,4,8,16,32,64,65,48,113|10|\n",
    "|113|4|1,2,4,8,16,32,64,96,97|9|\n",
    "|113|5|1,2,4,8,16,32,64,96,112|9|\n",
    "|150|2|1,2,4,8,16,32,64,128,20,65,130,150|12|\n",
    "|150|3|1,2,4,8,16,32,64,128,72,144,6,150|12|\n",
    "|150|4|1,2,4,8,16,32,64,128,6,48,144,150|12|\n",
    "|150|5|1,2,4,8,16,32,64,128,10,22,150|11|\n",
    "|30000|2|1,2,4,8,16,32,64,128,256,512,1024,2048,4096,8192,16384,1280,17664,4112,8224,12336,30000|21|\n",
    "|30000|3|1,2,4,8,16,32,64,128,256,512,1024,2048,4096,8192,16384,1280,48,1328,24576,25904|20|\n",
    "|30000|4|1,2,4,8,16,32,64,128,256,512,1024,2048,4096,8192,16384,48,1072,24576,25648|19|\n",
    "|30000|5|1,2,4,8,16,32,64,128,256,512,1024,2048,4096,8192,16384,96,288,304,6144,14336,28672,28976|22|"
   ]
  },
  {
   "cell_type": "markdown",
   "metadata": {},
   "source": [
    "### Вывод  \n",
    "\n",
    "Написана программа, реализующая алгоритм Яо построения приближенной аддитивной цепочки. Из результатов эксперимента можно увидеть, что в зависимости от параметра k, аддитивная цепочка получается различной длины.  \n",
    "Также замечено, что при увеличении n увеличивается разинца между длиной цепочки Яо и минимальной длиной аддитивной цепочки для данного числа.  \n"
   ]
  },
  {
   "cell_type": "markdown",
   "metadata": {},
   "source": [
    "### Алгоритм дробления аддитивной цепочки"
   ]
  },
  {
   "cell_type": "code",
   "execution_count": 62,
   "metadata": {},
   "outputs": [],
   "source": [
    "import math\n",
    "import time"
   ]
  },
  {
   "cell_type": "code",
   "execution_count": 63,
   "metadata": {},
   "outputs": [],
   "source": [
    "def nextVec(n,length):\n",
    "    add = 0\n",
    "    if length != len(n):\n",
    "        add = length - len(n)\n",
    "    if n == [i + add for i in range(1, len(n) + 1)]:\n",
    "        return [0 for i in range(len(n))]\n",
    "    for i in range(len(n) - 1, -1, -1):\n",
    "        if n[i] < i + 1 + add:\n",
    "            n[i] += 1\n",
    "            return n\n",
    "        n[i] = 1\n",
    "\n"
   ]
  },
  {
   "cell_type": "code",
   "execution_count": 64,
   "metadata": {},
   "outputs": [],
   "source": [
    "def сhain(vec1,vec2):\n",
    "    chain = [1]\n",
    "    for i in vec1:\n",
    "        chain.append(chain[-1] + chain[i - 1])\n",
    "    for j in vec2:\n",
    "        chain.append(chain[-1] + chain[j - 1])\n",
    "    return chain\n",
    "\n"
   ]
  },
  {
   "cell_type": "code",
   "execution_count": 65,
   "metadata": {},
   "outputs": [
    {
     "name": "stdout",
     "output_type": "stream",
     "text": [
      "|52|0.015229463577270508 сек|1,2,3,5,8,13,26,52|8|\n",
      "|64|0.004575490951538086 сек|1,2,4,8,16,32,64|7|\n",
      "|513|26.137863159179688 сек|1,2,4,8,16,32,64,128,256,257,513|11|\n"
     ]
    }
   ],
   "source": [
    "def splitting(n):\n",
    "    if(n==1):\n",
    "        return [1]\n",
    "    for m in range(\n",
    "        int(log(n, 2)),\n",
    "        math.ceil(log(n, 2)) + bin(n).count('1')+1):\n",
    "        q = m // 2\n",
    "        if q == 0:\n",
    "            q = 1\n",
    "        r = [1 for i in range(q)]\n",
    "        rho = [1 for i in range(q + 1,m)]\n",
    "        while r != [0 for i in range(q)]:\n",
    "            chain = сhain(r, rho)\n",
    "            a_max = chain[q] * 2**(m-q)\n",
    "            a_min = chain[q] + m - q\n",
    "            if chain[-1] == n:\n",
    "                return chain\n",
    "            if n < a_min or a_max < n :\n",
    "                r = nextVec(r, len(r))\n",
    "                continue\n",
    "            while rho != [0 for i in range(q + 1, m)]:\n",
    "                chain = сhain(r, rho)\n",
    "                if chain[-1] == n:\n",
    "                    return chain\n",
    "                rho = nextVec(rho, len(rho) + len(r))\n",
    "            r = nextVec(r, len(r))\n",
    "            rho = [1 for i in range(q + 1,m)]\n",
    "\n",
    "ns = [52, 64, 513]\n",
    "for n in ns:\n",
    "    sec = time.time()\n",
    "    chain = splitting(n)\n",
    "    sec = time.time() - sec\n",
    "    chain_str = \",\".join(list(map(str,chain)))\n",
    "    chain_len = len(chain)\n",
    "    print(f\"|{n}|{sec} сек|{chain_str}|{chain_len}|\")"
   ]
  },
  {
   "cell_type": "markdown",
   "metadata": {},
   "source": [
    "|Число|Время|Дробление вектора индексов|Длина|\n",
    "|-----|-----|--------------------------|-----|\n",
    "|52|0.01576519012451172 сек|1,2,3,5,8,13,26,52|8|\n",
    "|64|0.005113124847412109 сек|1,2,4,8,16,32,64|7|\n",
    "|513|24.927046060562134 сек|1,2,4,8,16,32,64,128,256,257,513|11|\n"
   ]
  },
  {
   "cell_type": "markdown",
   "metadata": {},
   "source": [
    "### Вывод  \n",
    "\n",
    "Из таблицы видно, что метод дробления вектора индексов работает очень медленно при больших n. Потому его лучше использовать **только** когда нужно вычислить точное значение длины цепочки.\n"
   ]
  },
  {
   "cell_type": "markdown",
   "metadata": {},
   "source": [
    "### Проверка следствия теоремы Брауэра\n",
    "\n",
    "$$\\lim\\limits_{n \\to \\infty}\\frac{l(n)}{\\lambda(n)}=1$$"
   ]
  },
  {
   "cell_type": "code",
   "execution_count": 66,
   "metadata": {},
   "outputs": [],
   "source": [
    "import pylab as plt\n",
    "\n",
    "max_n = 80\n",
    "arrLen = [len(splitting(i)) for i in range(1, max_n + 1)]"
   ]
  },
  {
   "cell_type": "code",
   "execution_count": 67,
   "metadata": {},
   "outputs": [
    {
     "data": {
      "image/png": "[encoded data removed]",
      "text/plain": [
       "<Figure size 720x720 with 1 Axes>"
      ]
     },
     "metadata": {
      "needs_background": "light"
     },
     "output_type": "display_data"
    }
   ],
   "source": [
    "N         = len(arrLen)\n",
    "sumYi     = sum(arrLen)\n",
    "sumLnXi   = sum([log(i) for i in range(1, max_n + 1)])\n",
    "sumLnXi2  = sum([log(i)**2 for i in range(1, max_n + 1)])\n",
    "sumYiLnxi = sum(arrLen[i] * log(i + 2) for i in range(N))\n",
    "A         = (sumYi * sumLnXi2 - sumYiLnxi * sumLnXi) / (N * sumLnXi2 - sumLnXi**2)\n",
    "B         = (N * sumYiLnxi - sumYi * sumLnXi) / (N * sumLnXi2 - sumLnXi**2)\n",
    "\n",
    "plt.figure(figsize=(10, 10))\n",
    "plt.scatter([i for i in range(1, max_n + 1)], arrLen, color='g', marker='.')\n",
    "plt.plot([i for i in range(1, max_n + 1)], [A + B * log(i) for i in range(1, max_n + 1)], color='purple')\n",
    "plt.show()"
   ]
  },
  {
   "cell_type": "markdown",
   "metadata": {},
   "source": [
    "### Вывод  \n",
    "\n",
    "Из графика видно, что $l(n)$ аппроксимируется логарифмической кривой, то есть при увеличении $n$ значение $l(n)$ будет расти как логарифмическая функция, что подтверждает следствие из теоремы Брауэра: $$\\lim\\limits_{n \\to \\infty}\\frac{l(n)}{\\lambda(n)}=1$$  \n",
    "Чем больше число $n$, тем, при его увеличении, будет меньше расти длина минимальной аддитивной цепочки.  "
   ]
  },
  {
   "cell_type": "markdown",
   "metadata": {},
   "source": [
    "### Проверка гипотезы Шольца–Брауэра  \n",
    "\n",
    "$$l^*(2^n - 1) \\leq n + l^*(n) -1$$  "
   ]
  },
  {
   "cell_type": "code",
   "execution_count": null,
   "metadata": {},
   "outputs": [],
   "source": [
    "arr1 = [i + len(splitting(i)) - 1 for i in range(2,1)]\n",
    "arr2 = [len(splitting(2**i - 1)) for i in range(2,1)]"
   ]
  },
  {
   "cell_type": "code",
   "execution_count": null,
   "metadata": {},
   "outputs": [],
   "source": [
    "for i in range(len(arr1)):\n",
    "    print(f\"|{arr1[i]}|{arr2[i]}|\")"
   ]
  },
  {
   "cell_type": "markdown",
   "metadata": {},
   "source": [
    "|n|l*(2^n-1)|l*(n)+n-1|\n",
    "|-----|---------|---------|\n",
    "|2|3|3|\n",
    "|3|5|5|\n",
    "|4|6|6|\n",
    "|5|8|8|\n",
    "|6|9|9|\n",
    "|7|11|11|\n",
    "|8|11|11|\n",
    "|9|13|13|\n",
    "|10|14|14|\n"
   ]
  },
  {
   "cell_type": "markdown",
   "metadata": {},
   "source": [
    "### Вывод  \n",
    "\n",
    "Как видно из таблицы, гипотеза Шольца-Брауэра справедлива для чисел в промежутке от 2 до 10.  "
   ]
  },
  {
   "cell_type": "markdown",
   "metadata": {},
   "source": [
    "## Выводы  \n",
    "\n",
    "В ходе выполнения практической работы были получены навыки работы с SageMath и оформления отчётов в Jupyter Notebook. Получены навыки работы с аддитивными цепочками, изучены их виды. Изучены и реализованы с помощью системы компьютерной алгебры SageMath алгоритмы построения аддитивных цепочек, а именно:  \n",
    "* Бинарный алгоритм  \n",
    "* Метод множителей  \n",
    "* Алгоритм Яо  \n",
    "* Алгоритм дробления вектора индексов  \n",
    "\n",
    "Эксперименты показали, что для точных, не требующих высокой сокрости, вычислений необходимо использовать алгоритм дробления вектора индексов, а для вычислений с допустимой погрешностью лучше использовать метод множителей или алгоритм Яо.  \n",
    "Было подтверждено следствие из теоремы Брауэра:  \n",
    "$$\\lim\\limits_{n \\to \\infty}\\frac{l(n)}{\\lambda(n)}=1$$  \n",
    "Из этого следует, что чем больше число  n , тем, при его увеличении, будет меньше расти длина минимальной аддитивной цепочки.  \n",
    "Подтвеждена гипотеза Шольца-Брауэра для $2\\leq n\\leq 10$:  \n",
    "$$l^*(2^n - 1) \\leq n + l^*(n) -1$$  \n",
    "Исходя из этого можно быстрее строить минимальные аддитивные цепочки для чисел $n=2^i-1$  "
   ]
  }
 ],
 "metadata": {
  "kernelspec": {
   "display_name": "SageMath 9.2",
   "language": "sage",
   "name": "sagemath"
  },
  "language_info": {
   "codemirror_mode": {
    "name": "ipython",
    "version": 3
   },
   "file_extension": ".py",
   "mimetype": "text/x-python",
   "name": "python",
   "nbconvert_exporter": "python",
   "pygments_lexer": "ipython3",
   "version": "3.9.4"
  }
 },
 "nbformat": 4,
 "nbformat_minor": 4
}
