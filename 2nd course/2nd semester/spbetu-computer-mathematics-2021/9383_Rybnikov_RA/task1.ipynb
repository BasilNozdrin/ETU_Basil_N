{
 "cells": [
  {
   "cell_type": "markdown",
   "metadata": {},
   "source": [
    "# Практическая работа №1: Исследование алгоритмов формирования аддитивных цепочек"
   ]
  },
  {
   "cell_type": "markdown",
   "metadata": {},
   "source": [
    "Выполнил: студент гр. 9383, Рыбников Роман, вариант 106"
   ]
  },
  {
   "cell_type": "markdown",
   "metadata": {},
   "source": [
    "## Цель работы:\n",
    "\n",
    "Формирование представления о аддитивных цепочках, выработать умение составлять и применять алгоритмы для нахождения минимальных аддитивных цепочек для заданного числа, привить навык использования систем компьютерной алгебры для реализации алгоритмов."
   ]
  },
  {
   "cell_type": "markdown",
   "metadata": {},
   "source": [
    "## Теоретические положения:"
   ]
  },
  {
   "cell_type": "markdown",
   "metadata": {},
   "source": [
    "### Бинарный метод:\n",
    "\n",
    "Бинарный метод - это метод, который позволяет возвести число $a$ в любую степень $n \\in \\mathbb N $. Выполнение происходит за $O(\\log($n))\n",
    "Степень числа представляется в двоичной записи. Далее идёт проход по битам, начиная слева, игнорируя первый бит: $i$-ое число возводится в квадрат, если бит равен единице, то дополнительно текущее число домножается на исходное число. Количество умножений рассчитывается по следующей формуле: $\\lambda(n)+\\nu(n)-1$, где $\\lambda(n)=\\lceil log_2 n \\rceil, \\nu(n)$ - количество единиц в двоичной записи числа."
   ]
  },
  {
   "cell_type": "markdown",
   "metadata": {},
   "source": [
    "### Метод множителей:\n",
    "\n",
    "Метод множителей является быстрым вариантом возведения числа в степень $n \\in \\mathbb N$. Если наша степень $n$ составное, то оно распадается на множители $n = k\\cdot m$. Следовательно, исходя из свойств степеней, чтобы возвести число $x$ в степень $n$, нужно возвести $x^n = (x^k)^m = x^k \\cdot x^m = x^{(k\\cdot m)}$\n",
    "\n",
    "Если же, степень числа - простое число, то $x^n = x^{(n-1) }\\cdot x$\n",
    "\n",
    "Этот метод работает быстрее, чем бинарный метод. Оба этих метода работают стабильно правильно, пока степень $n < 14$.\n"
   ]
  },
  {
   "cell_type": "markdown",
   "metadata": {},
   "source": [
    "### Аддитивная цепочка:\n",
    "\n",
    "Аддитивная цепочка - это последовательность натуральных чисел, начинающаяся с единицы, в которой каждый последующий элемент является суммой каких-то двух предшествующих элементов (в том числе, возможно использование одного и того же предшествующего элемента — удвоение).\n",
    "\n",
    "$l(n)$ = $m$ - длина аддитивной цепочки.\n",
    "$l(n) = min\\{l(n - 1) + 1, \\ l_n\\} + \\sigma_n $ - реккурентная формула для вычисления длины аддитивной цепочки, где $n \\in \\mathbb N$, $\\sigma_n =  \\{0, 1\\}$\n"
   ]
  },
  {
   "cell_type": "markdown",
   "metadata": {},
   "source": [
    "### Теорема Брауэра:\n",
    "\n",
    "Для некоторого числа $k < \\log_2 (\\log_2 n)$ справедливо: $\\\\$\n",
    "$l(n) < (1 + k^{-1}) \\cdot \\lceil log_2 n \\rceil + 2^{k-1} - k + 2$.\n",
    "\n",
    "Если $k = \\lambda(\\lambda(n)) - 2 \\cdot\\lambda(\\lambda(\\lambda(n)))$, то будут справедливы следующие два следствия:\n",
    "\n",
    "Следствие 1. \n",
    "$\\lim\\limits_{x \\to \\infty}\\frac{l(n)}{\\lambda(n)} = 1$\n",
    "\n",
    "Следствие 2.\n",
    "Наилучшая верхняя оценка для $l(n)$:$\\lambda(n)\\cdot (1 + \\frac{1}{\\lambda(\\lambda(n))} + \\frac{o(\\lambda(\\lambda(\\lambda(n))))}{\\lambda(\\lambda(n))^2})$"
   ]
  },
  {
   "cell_type": "markdown",
   "metadata": {},
   "source": [
    "### Алгоритм Яо:\n",
    "\n",
    "\n",
    "Алгоритм Яо предназначен для вычисление аддитивной цепочки числа $n \\in \\mathbb N$. Для работы алгоритма задаётся число $k \\geq 2$. После этого, число $n = \\sum\\limits_{i=1}^k a_i \\cdot 2^{i\\cdot k}$ \n",
    "\n",
    "$\\sqsupset d(z)$ - это сумма чисел $2^{i\\cdot k} \\forall i : a_i = z$ \n",
    "\n",
    "В начале аддитивной цепочки находятся степени двойки:\n",
    "$ Y_k(n): \\{1,2,4, \\ldots , 2^{\\lambda(n)}\\}$\n",
    "\n",
    "Затем происходит вычисление $d(z), z \\in \\{1,2,3, \\ldots 2^{k-1}\\}$,\n",
    "причём \n",
    "$\\\\$\n",
    "$d(z) \\ne 0$. $\\Rightarrow n = \\sum\\limits_{z = 1}^{2\\cdot k -1} z\\cdot d(z)$"
   ]
  },
  {
   "cell_type": "markdown",
   "metadata": {},
   "source": [
    "### Звёздная цепочка + гипотеза Шольца-Брауэра:\n",
    "\n",
    "Звёздная цепочка - это аддитивная цепочка, в которой каждый элемент получен путём сложения предыдущего элемента с некоторым $a_k$, т.е $a_i = a_{i-1} + a_k$, где \n",
    "\n",
    "$ 0 \\leq k \\leq i-1$\n",
    "\n",
    "Обозначение звёздной цепочки: $l^*(n)$. Легко понять, что $l^*(n) > l(n)$ \n",
    "\n",
    "\n",
    "Гипотеза Шольца-Брауэра заключается в следующем:\n",
    "\n",
    "$l^*(2^n - 1) \\geq l^*(n) + n -1$"
   ]
  },
  {
   "cell_type": "markdown",
   "metadata": {},
   "source": [
    "### Алгоритм дробления вектора индексов:\n",
    "\n",
    "Вектор индексов аддитивной цепочки: $\\{a_i\\}_{i=1}^m \\Rightarrow$\n",
    "Вектор индексов $\\{r_i\\}_{i=1}^{m-1}$, где\n",
    "\n",
    "$r_i = \\{x: 1 \\leq x \\leq i\\}$ $\\Rightarrow a_i = a_{i-1} + a_{r_{i-1}}$, где $2 \\leq i \\leq m$.\n",
    "\n",
    "\n",
    "$\\sqsupset$ Наибольшая звездная цепочка обозначается: $S_{max} = \\{1,2,3, \\ldots , 2^m\\} \\iff r_{max} = \\{1,2,3, \\ldots , m\\}$.\n",
    "\n",
    "$\\sqsupset$ Наименьшая звездная цепочка обозначается: $S_{min} = \\{1,2,3, \\ldots , m\\} \\iff r_{min} = \\{1, \\ldots , 1\\}$.\n",
    "\n",
    "Будем считать, что $r = \\{r_i\\}_{i=1}^{m-1} > \\tilde{r} = \\{\\tilde{r_i}\\}_{i=1}^{m-1}$, если $r_1 = \\tilde{r_1}, r_2 = \\tilde{r_2}, r_3 = \\tilde{r_3}, \\widetilde{r_{i-1}}, \\ldots , r_i > \\tilde{r_i}$\n",
    "\n",
    "Нахождение $\\min l^*(n)$ выполняется перебором. Вначале вектор индексов разбивается на два вектора: $r = \\{\\tilde{r_i}\\}_{i-1}^{q}$ - это фиксированный вектор, $\\rho = \\{\\rho_j\\}_{j=q+1}^{m-1}$ - меняющийся вектор. Наибольшее значение $a_m$ достигается при векторе индексов $\\{r_i\\}_{i=1}^{q} \\cup \\{q + 1, q + 2, \\ldots , m -1\\},  a_{min} = a_{q+1}\\cdot 2^{m-q}.$\n",
    "\n",
    "Наименьшее значение $a_m$ достигается при векторе индексов\n",
    "$\\{r_i\\}_{i=1}^{q} \\cup \\{1, \\ldots , 1\\}, a_{max} = a_{q+1} + m - q.$\n",
    "\n",
    "\n",
    "Задача алгоритма - для заданного $n \\in N$ \n",
    "вычислить: $\\min l^*(n) = a_1, a_2, a_3, \\ldots , a_m = n$ \n",
    "\n",
    "Алгоритм: \n",
    "1. Разбиваем вектор индексов на фиксированный и меняющийся.\n",
    "2. Вычисляем $a_{min}$ и $a_{max}$. Если $n \\notin [a_{min}, a_{max}]$, то переходим к следующему набору $\\{r_i\\}_{i=1}^{q}$. Если $n \\in [a_{min}, a_{max}]$, то входим во внутренний цикл перебора $\\{\\rho_j\\}_{j=q+1}^{m-1}$.\n",
    "3. Если не нашлось $a_m = n$, то положим $m := m+1$. Цикл.\n",
    "\n",
    "Длина аддитивной цепочки $m \\in [\\underline{l}(n),\\overline{l}(n)] ,\\text{где } \\underline{l}(n)=\\lceil log_2 n \\rceil, \\overline{l}(n)=\\lambda(n)+\\nu(n)-1$\n"
   ]
  },
  {
   "cell_type": "markdown",
   "metadata": {},
   "source": [
    "## Постановка задачи:\n",
    "\n",
    "Реализовать точные и приближённые алгоритмы нахождения минимальных аддитивных цепочек с использованием системы компьютерной алгебры SageMath, провести анализ алгоритмов. Полученные результаты содержательно проинтерпретировать."
   ]
  },
  {
   "cell_type": "markdown",
   "metadata": {},
   "source": [
    "## Порядок выполнения работы:\n",
    "\n",
    "1. Применить бинарный метод и метод множителей для $x^n$, где $n \\geq 30$, для 2-3 значений n (значения n выбирается студентом самостоятельно). Сравнить количество операций для каждого метода, сделать выводы.\n",
    "2. Реализовать алгоритм Яо для вычисления приближённых аддитивных цепочек для различных чисел при варьировании параметра k, сопоставить длины полученных аддитивных цепочек с минимальной аддитивной цепочкой для заданного числа. Сделать выводы.\n",
    "3. Реализовать алгоритм дробления вектора индексов для нахождения минимальной звёздной цепочки для заданного числа. Протестировать алгоритм при $n>500$. Указать, сколько времени потребовалось на поиск цепочки и какая цепочка получилась. Сравнить с предыдущими методами, сделать выводы.\n",
    "4. Проверить следствие 1 теоремы Брауэра для $n=1..200$ путём построения функции $l(n)$ и аппроксимирующей кривой, полученной с помощью метода наименьших квадратов. Сопоставить функции на одном графике, сделать выводы.\n",
    "5. Проверить гипотезу Шольца–Брауэра для $1<n⩽10$ на алгоритме дробления вектора индексов. Сделать выводы."
   ]
  },
  {
   "cell_type": "markdown",
   "metadata": {},
   "source": [
    "## Выполнение работы:"
   ]
  },
  {
   "cell_type": "markdown",
   "metadata": {},
   "source": [
    "### Бинарный метод и метод множителей:"
   ]
  },
  {
   "cell_type": "code",
   "execution_count": 3,
   "metadata": {},
   "outputs": [
    {
     "name": "stdout",
     "output_type": "stream",
     "text": [
      "Текущая степень, в которую возводим x:  31\n",
      "Бинарный метод: (1, 8)\n",
      "Метод множителей: (1, 8)\n",
      "\n",
      "\n",
      "Текущая степень, в которую возводим x:  111\n",
      "Бинарный метод: (1, 11)\n",
      "Метод множителей: (1, 9)\n",
      "\n",
      "\n",
      "Текущая степень, в которую возводим x:  253\n",
      "Бинарный метод: (1, 13)\n",
      "Метод множителей: (1, 12)\n",
      "\n",
      "\n",
      "Текущая степень, в которую возводим x:  3244323\n",
      "Бинарный метод: (1, 28)\n",
      "Метод множителей: (1, 26)\n",
      "\n",
      "\n"
     ]
    }
   ],
   "source": [
    "def BinaryMethod(a, n):\n",
    "    power = bin(n)\n",
    "    power = power[2::]\n",
    "    m_Power = power\n",
    "    counter = 0\n",
    "    m_A = a\n",
    "\n",
    "    for i in range(1, len(m_Power)):\n",
    "        if power[i] == '1':\n",
    "            m_A *= m_A\n",
    "            m_A *= a\n",
    "            counter += 2\n",
    "        else:\n",
    "            m_A *= m_A\n",
    "            counter += 1\n",
    "    return (m_A, counter)\n",
    "\n",
    "\n",
    "def MyFact(n):\n",
    "    i = 2\n",
    "    for i in range(i,n):\n",
    "        if n % i == 0:\n",
    "            return i\n",
    "    return n\n",
    "\n",
    "def MM(a, power):\n",
    "    if power == 0:\n",
    "        return (1, 0)\n",
    "    elif power == 1:\n",
    "        return (a, 0)\n",
    "\n",
    "    m_Fact = MyFact(power)  # n = k*m\n",
    "    if m_Fact == power:\n",
    "        answer = MM(a, power - 1) # условие простоты числа\n",
    "        return (answer[0] * a, answer[1] + 1)\n",
    "\n",
    "    temp = power // m_Fact\n",
    "\n",
    "    ans, count1 = BinaryMethod(a, m_Fact)\n",
    "    ans1, count2 = BinaryMethod(ans, temp)\n",
    "    countOperations = count1 + count2\n",
    "\n",
    "    return ans1, countOperations\n",
    "\n",
    "\n",
    "if __name__ == '__main__':\n",
    "    x = 1\n",
    "    n = [31, 111, 253, 3244323]\n",
    "    for i in n:\n",
    "        print(\"Текущая степень, в которую возводим x: \", i)\n",
    "        print(\"Бинарный метод:\", BinaryMethod(x, i))\n",
    "        print(\"Метод множителей:\", MM(x, i))\n",
    "        print(\"\\n\")"
   ]
  },
  {
   "cell_type": "markdown",
   "metadata": {},
   "source": [
    "В таблицу занесём результаты для анализа."
   ]
  },
  {
   "cell_type": "markdown",
   "metadata": {},
   "source": [
    "| n | Количество операций Бинарного метода| Количество операций ММ |\n",
    "| :-: | :-: | :-: |\n",
    "| 32 | 5 | 5 |\n",
    "| 111 | 11 | 9 |\n",
    "| 253 | 13 | 12 |\n",
    "| 3244323 | 28 | 26 |"
   ]
  },
  {
   "cell_type": "markdown",
   "metadata": {},
   "source": [
    "### Вывод:\n",
    "\n",
    "Из результатов в таблице видно, что метод множителей лучше бинарного, только при больших степенях. \n",
    "Можно заметить, что метод множителей быстрее бинарного на числах вида $2^k + 1, k \\in N$.\n",
    "На степенях $n<14, n \\in N$, оба метода работают с одинаковой скоростью вычислений."
   ]
  },
  {
   "cell_type": "markdown",
   "metadata": {},
   "source": [
    "### Реализация алгоритма Яо:"
   ]
  },
  {
   "cell_type": "code",
   "execution_count": 5,
   "metadata": {
    "scrolled": true
   },
   "outputs": [
    {
     "name": "stdout",
     "output_type": "stream",
     "text": [
      "enter n\n",
      "45\n",
      "АЦ:  [1, 2, 4, 8, 16, 32, 33, 12, 45] Длина АЦ:  9\n",
      "АЦ:  [1, 2, 4, 8, 16, 32, 9, 18, 36, 45] Длина АЦ:  10\n",
      "АЦ:  [1, 2, 4, 8, 16, 32, 3, 6, 12, 13, 45] Длина АЦ:  11\n",
      "АЦ:  [1, 2, 4, 8, 16, 32, 3, 6, 12, 13, 45] Длина АЦ:  11\n"
     ]
    }
   ],
   "source": [
    "import math\n",
    "\n",
    "def Fdz(z, dz):\n",
    "    result_Fdz = [dz]\n",
    "    m_Z = dz\n",
    "    bin_z = bin(z)[3:]\n",
    "    for i in bin_z:\n",
    "        if i == '0':\n",
    "            m_Z += m_Z\n",
    "            result_Fdz.append(m_Z)\n",
    "        elif i == '1':\n",
    "            m_Z += m_Z\n",
    "            result_Fdz.append(m_Z)\n",
    "            m_Z += dz\n",
    "            result_Fdz.append(m_Z)\n",
    "    return result_Fdz\n",
    "\n",
    "\n",
    "def Yao(x, k):\n",
    "    m_Chain = []\n",
    "    m_X = x\n",
    "    while (m_X != 0):\n",
    "        m_Chain.append(m_X % 2 ** k)\n",
    "        m_X //= 2 ** k\n",
    "    chain = []\n",
    "    for i in range(int(math.log(x, 2)) + 1):\n",
    "        chain.append(2 ** i)\n",
    "    count = 0\n",
    "    for z in range(1, 2 ** (k) + 1):\n",
    "        dz = 0\n",
    "        for i in range(0, len(m_Chain)):\n",
    "            if m_Chain[i] == z:\n",
    "                dz += 2 ** (k * i)\n",
    "                if dz not in chain:\n",
    "                    chain.append(dz)\n",
    "        if (dz == 0):\n",
    "            continue\n",
    "        m_Dz = Fdz(z, dz)\n",
    "        for indexDz in m_Dz:\n",
    "            if indexDz not in chain:\n",
    "                chain.append(indexDz)\n",
    "        if len(m_Dz) == 0:\n",
    "            continue\n",
    "        count += m_Dz[-1]\n",
    "        if count not in chain:\n",
    "            chain.append(count)\n",
    "    return chain\n",
    "\n",
    "\n",
    "\n",
    "if __name__ == \"__main__\":\n",
    "    flag = 1\n",
    "    i = 2\n",
    "    print(\"enter n\")\n",
    "    n = int(input())\n",
    "    while(flag != 0):\n",
    "        result = Yao(n, i)\n",
    "        result1 = Yao(n, i+1)\n",
    "        result2 = Yao(n, i+2)\n",
    "        result3 = Yao(n, i+3)\n",
    "        print(\"АЦ: \", result, \"Длина АЦ: \", len(result))\n",
    "        print(\"АЦ: \", result1, \"Длина АЦ: \", len(result1))\n",
    "        print(\"АЦ: \", result2, \"Длина АЦ: \", len(result2))\n",
    "        print(\"АЦ: \", result3, \"Длина АЦ: \", len(result3))\n",
    "        flag -= 1\n",
    "\n"
   ]
  },
  {
   "cell_type": "markdown",
   "metadata": {},
   "source": [
    "| n | k| Цепочка Яо | Длина цепочки | Мин.длина |\n",
    "| :-: | :-: | :-: | :-: | :-: |\n",
    "| 45 | 2 | [1, 2, 4, 8, 16, 32, 33, 12, 45] | 9 | 9 |\n",
    "| 45 | 3 | [1, 2, 4, 8, 16, 32, 9, 18, 36, 45] | 10 | 9 |\n",
    "| 45 | 4 | [1, 2, 4, 8, 16, 32, 3, 6, 12, 13, 45] | 11 | 9 |\n",
    "| 45 | 5 | [1, 2, 4, 8, 16, 32, 3, 6, 12, 13, 45] | 11 | 9 |\n",
    "| 64 | 2 | [1, 2, 4, 8, 16, 32, 64] | 7 | 7 |\n",
    "| 64 | 3 | [1, 2, 4, 8, 16, 32, 64] | 7 | 7 |\n",
    "| 64 | 4 | [1, 2, 4, 8, 16, 32, 64] | 7 | 7 |\n",
    "| 64 | 5 | [1, 2, 4, 8, 16, 32, 64] | 7 | 7 |\n",
    "| 105 | 2 | [1, 2, 4, 8, 16, 32, 64, 65, 20, 40, 105] | 11 | 10 |\n",
    "| 105 | 3 | [1, 2 ,4, 8, 16, 32, 64, 65, 40, 105] | 10 | 10 |\n",
    "| 105 | 4 | [1, 2 ,4, 8, 16, 32, 64, 48, 96, 9, 105] | 11 | 10 |\n",
    "| 105 | 5 | [1, 2 ,4, 8, 16, 32, 64, 96, 9, 105] | 10 | 10 |\n",
    "| 111 | 2 | [1, 2 ,4, 8, 16, 32, 64, 96, 5, 10, 15, 111] | 12 | 12 |\n",
    "| 111 | 3 | [1, 2 ,4, 8, 16, 32, 64, 40, 104, 3, 6, 7, 111] | 13 | 12 |\n",
    "| 111 | 4 | [1, 2 ,4, 8, 16, 32, 64, 48, 96, 3, 6, 7, 14, 15, 111] | 15 | 12 |\n",
    "| 111 | 5 | [1, 2 ,4, 8, 16, 32, 64, 96, 3, 6, 7, 14, 15, 111] | 14 | 12 |"
   ]
  },
  {
   "cell_type": "markdown",
   "metadata": {},
   "source": [
    "### Вывод: \n",
    "\n",
    "Алгоритм Яо почти везде не находит минимальную длину аддитивной цепочки. Можно заметить: что при увеличивающихся значениях параметра $k$, длина цепочки растет."
   ]
  },
  {
   "cell_type": "markdown",
   "metadata": {},
   "source": [
    "### Алгоритм дробления вектора индексов"
   ]
  },
  {
   "cell_type": "code",
   "execution_count": 12,
   "metadata": {},
   "outputs": [
    {
     "name": "stdout",
     "output_type": "stream",
     "text": [
      "n = 16\n",
      "A.Chain: [1, 2, 4, 8, 16]\n",
      "Len(): 5\n",
      "Time:  3.0994415283203125e-05  sec.\n"
     ]
    }
   ],
   "source": [
    "import time\n",
    "import math\n",
    "\n",
    "def Log2(n):\n",
    "    return math.log(n, 2)\n",
    "\n",
    "def nu(n):\n",
    "    return bin(n)[2:].count('1')\n",
    "\n",
    "def lambd(n):\n",
    "    return int(Log2(n))\n",
    "\n",
    "def lLower(n):\n",
    "    return math.floor(Log2(n)) #\n",
    "\n",
    "def lHigh(n):\n",
    "    return lambd(n) + nu(n) - 1\n",
    "\n",
    "def GetNewChain(index):\n",
    "    m_Chain = [1]\n",
    "    for i in index:\n",
    "        m_Chain.append(m_Chain[-1] + m_Chain[i - 1])\n",
    "    return m_Chain\n",
    "\n",
    "def NextIndex(vector, index=1):\n",
    "    m_SizeVector = len(vector)\n",
    "    m_MaxIndex = index + m_SizeVector - 1\n",
    "    for i in range(1, m_SizeVector + 1):\n",
    "        vector[-i] += 1\n",
    "        if vector[-i] <= m_MaxIndex:\n",
    "            break\n",
    "        if i == m_SizeVector:\n",
    "            vector.append(1)\n",
    "            break\n",
    "        vector[-i] = 1\n",
    "        m_MaxIndex -= 1\n",
    "\n",
    "\n",
    "def SplitIndexVector(n):\n",
    "    m = lambd(n)\n",
    "    m_UpBoard = lHigh(n) #\n",
    "    while m <= m_UpBoard:\n",
    "        q = int(m/2)\n",
    "        if q == 0:\n",
    "            q = 1\n",
    "        arrFix = [i for i in range(q)]\n",
    "        while len(arrFix) == q:\n",
    "            arrChg = [1 for i in range(m - q)]\n",
    "            chain = GetNewChain(arrFix + arrChg)\n",
    "            if chain[-1] == n:\n",
    "                return chain\n",
    "            m_Amax = chain[q] * 2 ** (m - q)\n",
    "            m_Amin = chain[q] + (m - q)\n",
    "\n",
    "            if (m_Amin > n) or (m_Amax < n):\n",
    "                NextIndex(arrFix)\n",
    "                continue\n",
    "            while len(arrChg) == (m - q):\n",
    "                chain = GetNewChain(arrFix + arrChg)\n",
    "                if chain[-1] == n:\n",
    "                    return chain\n",
    "                NextIndex(arrChg, q + 1)\n",
    "            NextIndex(arrFix)\n",
    "        m += 1\n",
    "    return chain\n",
    "\n",
    "\n",
    "if __name__ == '__main__':\n",
    "    n = int(input(\"n = \"))\n",
    "\n",
    "    m_StartTime = 0\n",
    "    m_EndTime = 0\n",
    "    m_StartTime = time.time()\n",
    "    chain = SplitIndexVector(n)\n",
    "    m_EndTime = time.time()\n",
    "\n",
    "    print(\"A.Chain:\", chain)\n",
    "    print(\"Len():\", len(chain))\n",
    "    print(\"Time: \", float(m_EndTime - m_StartTime), \" sec.\")"
   ]
  },
  {
   "cell_type": "markdown",
   "metadata": {},
   "source": [
    "| n | len(n) | time | A.Chain |\n",
    "| :-: | :-: | :-: | :-: |\n",
    "| 15 | 6 | 0.0002391338348388672 | [1, 2, 3, 5, 10, 15] |\n",
    "| 111 | 10 | 0.15343904495239258 | [1, 2, 3, 5, 8, 16, 21, 37, 74, 111] |\n",
    "| 501 | 13 | 137.31683993339539 | [1, 2, 3, 5, 8, 13, 26, 31, 62, 124, 248, 253, 501] |\n",
    "| 666 | 13 | 113.16143083572388 | [1, 2, 3, 5, 8, 16, 21, 37, 74, 111, 222, 333, 666] |"
   ]
  },
  {
   "cell_type": "markdown",
   "metadata": {},
   "source": [
    "### Вывод:\n",
    "\n",
    "Данный алгоритм работает намного дольше, относительно рассмотренных алгоритмов выше. При малых значениях  $n$ алгоритм точно находит звёздную цепочку."
   ]
  },
  {
   "cell_type": "markdown",
   "metadata": {},
   "source": [
    "### Проверка первого следствия из теоремы Брауэра:"
   ]
  },
  {
   "cell_type": "code",
   "execution_count": 1,
   "metadata": {},
   "outputs": [
    {
     "name": "stdout",
     "output_type": "stream",
     "text": [
      "n = 201\n"
     ]
    },
    {
     "data": {
      "image/png": "[encoded data removed]",
      "text/plain": [
       "<Figure size 864x864 with 1 Axes>"
      ]
     },
     "metadata": {
      "needs_background": "light"
     },
     "output_type": "display_data"
    }
   ],
   "source": [
    "import time\n",
    "import math\n",
    "import matplotlib.pyplot as plt\n",
    "\n",
    "def Log2(n):\n",
    "    return math.log(n, 2)\n",
    "\n",
    "def nu(n):\n",
    "    return bin(n)[2:].count('1')\n",
    "\n",
    "def lambd(n):\n",
    "    return int(Log2(n))\n",
    "\n",
    "def lLower(n):\n",
    "    return math.floor(Log2(n)) #\n",
    "\n",
    "def lHigh(n):\n",
    "    return lambd(n) + nu(n) - 1\n",
    "\n",
    "def GetNewChain(index):\n",
    "    m_Chain = [1]\n",
    "    for i in index:\n",
    "        m_Chain.append(m_Chain[-1] + m_Chain[i - 1])\n",
    "    return m_Chain\n",
    "\n",
    "def NextIndex(vector, index=1):\n",
    "    m_SizeVector = len(vector)\n",
    "    m_MaxIndex = index + m_SizeVector - 1\n",
    "    for i in range(1, m_SizeVector + 1):\n",
    "        vector[-i] += 1\n",
    "        if vector[-i] <= m_MaxIndex:\n",
    "            break\n",
    "        if i == m_SizeVector:\n",
    "            vector.append(1)\n",
    "            break\n",
    "        vector[-i] = 1\n",
    "        m_MaxIndex -= 1\n",
    "\n",
    "\n",
    "def SplitIndexVector(n):\n",
    "    m = lambd(n)\n",
    "    m_UpBoard = lHigh(n) #\n",
    "    while m <= m_UpBoard:\n",
    "        q = int(m/2)\n",
    "        if q == 0:\n",
    "            q = 1\n",
    "        arrFix = [i for i in range(q)]\n",
    "        while len(arrFix) == q:\n",
    "            arrChg = [(q+i) for i in range(m - q)]\n",
    "            chain = GetNewChain(arrFix + arrChg)\n",
    "            if chain[-1] == n:\n",
    "                return chain\n",
    "            m_Amax = chain[q] * 2 ** (m - q)\n",
    "            m_Amin = chain[q] + (m - q)\n",
    "\n",
    "            if (m_Amin > n) or (m_Amax < n):\n",
    "                NextIndex(arrFix)\n",
    "                continue\n",
    "            while len(arrChg) == (m - q):\n",
    "                chain = GetNewChain(arrFix + arrChg)\n",
    "                if chain[-1] == n:\n",
    "                    return chain\n",
    "                NextIndex(arrChg, q + 1)\n",
    "            NextIndex(arrFix)\n",
    "        m += 1\n",
    "    return chain\n",
    "\n",
    "\n",
    "\n",
    "def Lnx(x):\n",
    "    return log(x, e)\n",
    "\n",
    "def Lnx2(x):\n",
    "    return Lnx(x) ** 2\n",
    "\n",
    "def MySumm_1(power, lenght, n, arr_lnx):\n",
    "    return n * sum(power) - sum(lenght) * sum(arr_lnx)\n",
    "\n",
    "def MySumm_2(n, arr_lnx, arr_lnx2):\n",
    "    return n * sum(arr_lnx2) - sum(arr_lnx) * sum(arr_lnx)\n",
    "\n",
    "def MySumm_3(lenght, arr_lnx, b):\n",
    "    return sum(lenght) - b * sum(arr_lnx)\n",
    "\n",
    "\n",
    "\n",
    "if __name__ == '__main__':\n",
    "    n = int(input(\"n = \"))\n",
    "    x = []\n",
    "    lenght = []\n",
    "    arr_lnx = []\n",
    "    arr_lnx2 = []\n",
    "\n",
    "    for i in range(1, n):\n",
    "        x.append(i)\n",
    "        lenght.append(len(SplitIndexVector(i)))\n",
    "        arr_lnx.append(Lnx(i))\n",
    "        arr_lnx2.append(Lnx2(i))\n",
    "\n",
    "    power = [lenght[i] * arr_lnx[i] for i in range(n - 1)]\n",
    "\n",
    "    b = MySumm_1(power, lenght, n, arr_lnx) / MySumm_2(n, arr_lnx, arr_lnx2)\n",
    "    a = MySumm_3(lenght, arr_lnx, b) / (n - 1)\n",
    "    y = [a + b * arr_lnx[i] for i in range(n - 1)]\n",
    "\n",
    "    plt.figure(figsize=(12, 12))\n",
    "    plt.scatter(x, lenght, s=10, color='red')\n",
    "    plt.plot(x, y, color='black')\n",
    "\n",
    "    plt.show()"
   ]
  },
  {
   "cell_type": "markdown",
   "metadata": {},
   "source": [
    "### Вывод:\n",
    "\n",
    "По графику можно заметить, что значения минимальных длин аддитивных цепочек апроксимируется логарифмической кривой. Тем самым мы подтвердили первое следствие из теоремы Брауэра."
   ]
  },
  {
   "cell_type": "markdown",
   "metadata": {},
   "source": [
    "### Проверка гипотезы Шольца-Брауэра:"
   ]
  },
  {
   "cell_type": "code",
   "execution_count": null,
   "metadata": {
    "scrolled": true
   },
   "outputs": [
    {
     "name": "stdout",
     "output_type": "stream",
     "text": [
      "n =  2\n",
      "Длина при l*(2**n - 1):  3\n",
      "Длина при  l*(n) + n - 1:  3\n",
      "3 >= 3\n",
      "------------------------------------------\n",
      "n =  3\n",
      "Длина при l*(2**n - 1):  5\n",
      "Длина при  l*(n) + n - 1:  5\n",
      "5 >= 5\n",
      "------------------------------------------\n",
      "n =  4\n",
      "Длина при l*(2**n - 1):  6\n",
      "Длина при  l*(n) + n - 1:  6\n",
      "6 >= 6\n",
      "------------------------------------------\n",
      "n =  5\n",
      "Длина при l*(2**n - 1):  8\n",
      "Длина при  l*(n) + n - 1:  8\n",
      "8 >= 8\n",
      "------------------------------------------\n",
      "n =  6\n",
      "Длина при l*(2**n - 1):  9\n",
      "Длина при  l*(n) + n - 1:  9\n",
      "9 >= 9\n",
      "------------------------------------------\n",
      "n =  7\n",
      "Длина при l*(2**n - 1):  11\n",
      "Длина при  l*(n) + n - 1:  11\n",
      "11 >= 11\n",
      "------------------------------------------\n",
      "n =  8\n",
      "Длина при l*(2**n - 1):  11\n",
      "Длина при  l*(n) + n - 1:  11\n",
      "11 >= 11\n",
      "------------------------------------------\n",
      "n =  9\n",
      "Длина при l*(2**n - 1):  13\n",
      "Длина при  l*(n) + n - 1:  13\n",
      "13 >= 13\n",
      "------------------------------------------\n",
      "n =  10\n",
      "Длина при l*(2**n - 1):  14\n",
      "Длина при  l*(n) + n - 1:  14\n",
      "14 >= 14\n",
      "------------------------------------------\n"
     ]
    }
   ],
   "source": [
    "import time\n",
    "import math\n",
    "\n",
    "\n",
    "def Log2(n):\n",
    "    return math.log(n, 2)\n",
    "\n",
    "def nu(n):\n",
    "    return bin(n)[2:].count('1')\n",
    "\n",
    "def lambd(n):\n",
    "    return int(Log2(n))\n",
    "\n",
    "def lLower(n):\n",
    "    return math.floor(Log2(n)) #\n",
    "\n",
    "def lHigh(n):\n",
    "    return lambd(n) + nu(n) - 1\n",
    "\n",
    "def GetNewChain(index):\n",
    "    m_Chain = [1]\n",
    "    for i in index:\n",
    "        m_Chain.append(m_Chain[-1] + m_Chain[i - 1])\n",
    "    return m_Chain\n",
    "\n",
    "def NextIndex(vector, index=1):\n",
    "    m_SizeVector = len(vector)\n",
    "    m_MaxIndex = index + m_SizeVector - 1\n",
    "    for i in range(1, m_SizeVector + 1):\n",
    "        vector[-i] += 1\n",
    "        if vector[-i] <= m_MaxIndex:\n",
    "            break\n",
    "        if i == m_SizeVector:\n",
    "            vector.append(1)\n",
    "            break\n",
    "        vector[-i] = 1\n",
    "        m_MaxIndex -= 1\n",
    "\n",
    "\n",
    "def SplitIndexVector(n):\n",
    "    m = lambd(n)\n",
    "    m_UpBoard = lHigh(n) #\n",
    "    while m <= m_UpBoard:\n",
    "        q = int(m/2)\n",
    "        if q == 0:\n",
    "            q = 1\n",
    "        arrFix = [i for i in range(q)]\n",
    "        while len(arrFix) == q:\n",
    "            arrChg = [(q+i) for i in range(m - q)]\n",
    "            chain = GetNewChain(arrFix + arrChg)\n",
    "            if chain[-1] == n:\n",
    "                return chain\n",
    "            m_Amax = chain[q] * 2 ** (m - q)\n",
    "            m_Amin = chain[q] + (m - q)\n",
    "\n",
    "            if (m_Amin > n) or (m_Amax < n):\n",
    "                NextIndex(arrFix)\n",
    "                continue\n",
    "            while len(arrChg) == (m - q):\n",
    "                chain = GetNewChain(arrFix + arrChg)\n",
    "                if chain[-1] == n:\n",
    "                    return chain\n",
    "                NextIndex(arrChg, q + 1)\n",
    "            NextIndex(arrFix)\n",
    "        m += 1\n",
    "    return chain\n",
    "\n",
    "\n",
    "if __name__ == '__main__':\n",
    "\n",
    "    for i in range(2, 21):\n",
    "        a = SplitIndexVector(2**i - 1)\n",
    "        m_A = len(a)\n",
    "        m_B = len(SplitIndexVector(i)) + i - 1\n",
    "        print (\"n = \", i)\n",
    "        print(\"Длина при l*(2**n - 1): \", m_A)\n",
    "        print(\"Длина при  l*(n) + n - 1: \", m_B)\n",
    "        if m_A >= m_B:\n",
    "            print(m_A, \">=\", m_B)\n",
    "        else:\n",
    "            print(m_B, \">=\", m_A)\n",
    "        print(\"------------------------------------------\")"
   ]
  },
  {
   "cell_type": "markdown",
   "metadata": {},
   "source": [
    "### Вывод:\n",
    "\n",
    "Исходя из полученных данных, можно убедиться, что гипотеза верна $\\forall n \\in (1; 10]$"
   ]
  },
  {
   "cell_type": "markdown",
   "metadata": {},
   "source": [
    "## Подведение итогов:\n",
    "\n",
    "В ходе практической работы были освоены навыки владения с математическим пакетом SageMath, улучшены навыки работы с Языком Программирования Python.\n",
    "\n",
    "Так же были реализованы следующие алгоритмы:\n",
    "1. Бинарный метод возведения числа в натуральную степень.\n",
    "2. Метод множителей для возведения числа в натуранльную степень.\n",
    "3. Алгоритм Яо для построения аддитивной цепочки минимальной длины.\n",
    "4. Алгоритм дробления вектора индексов для построения аддитивной цепочки.\n",
    "\n",
    "Помимо реализованных алгоритмов, были проверены некоторые сведения:\n",
    "1. Следствие 1 из теоремы Брауэра: $\\lim\\limits_{x \\to \\infty}\\frac{l(n)}{\\lambda(n)} = 1$, $n \\in [1,200]$\n",
    "2. Гипотеза Шольца-Брауэра: $l^*(2^n - 1) \\geq l^*(n) + n -1$"
   ]
  }
 ],
 "metadata": {
  "kernelspec": {
   "display_name": "SageMath 9.0",
   "language": "sage",
   "name": "sagemath"
  },
  "language_info": {
   "codemirror_mode": {
    "name": "ipython",
    "version": 3
   },
   "file_extension": ".py",
   "mimetype": "text/x-python",
   "name": "python",
   "nbconvert_exporter": "python",
   "pygments_lexer": "ipython3",
   "version": "3.8.5"
  }
 },
 "nbformat": 4,
 "nbformat_minor": 4
}
