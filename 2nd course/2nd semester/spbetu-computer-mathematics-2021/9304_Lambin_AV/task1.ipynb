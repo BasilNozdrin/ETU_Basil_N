{
 "cells": [
  {
   "cell_type": "markdown",
   "metadata": {},
   "source": [
    "# Практическая работа №1: Исследование алгоритмов формирования аддитивных цепочек\n",
    "\n",
    "Работу выполнил студент группы 9304 Ламбин Алексей, вариант 33."
   ]
  },
  {
   "cell_type": "markdown",
   "metadata": {},
   "source": [
    "## Цель работы\n",
    "\n",
    "Формирование представления об аддитивных цепочках, выработать умение составлять и применять алгоритмы для нахождения минимальных аддитивных цепочек для заданного числа, привить навык использования систем компьютерной алгебры для реализации алгоритмов."
   ]
  },
  {
   "cell_type": "markdown",
   "metadata": {},
   "source": [
    "## Основные теоретические положения\n",
    "\n",
    "Пусть имеется число $ x $, для которого необходимо вычислить значение $ x^{n} $ для некоторого $ n \\in \\mathbb{N} $. Рассмотрим некоторые методы вычисления степеней за минимально возможное число операций."
   ]
  },
  {
   "cell_type": "markdown",
   "metadata": {},
   "source": [
    "**Бинарный метод.** Пусть число $ n $ представляется в двоичном виде, как $ n_{d} = (a_{m} a_{m - 1} ... a_{0})_{b} $. Тогда число $ n $ можно разложить следующим образом: \n",
    "\n",
    "<center> $ n \\, = \\, 2^{m} a_{m} \\, + \\, 2^{m - 1} a_{m - 1} \\, + \\, \\dots \\, + \\, 2^{1} a_{1} \\, + \\, a_{0} $, $ \\quad a_{m} = 1 $, </center>\n",
    "\n",
    "<center> $ n \\, = \\, 2^{m - 1} \\left( 2 a_{m} \\, + \\, a_{m - 1} \\right) \\, + \\, 2^{m - 2} a_{m - 2} \\, + \\, \\dots \\, + \\, a_{0} $, </center>\n",
    "\n",
    "<center> $ n \\, = \\, 2^{m - 2} \\left( 2 \\left( 2 a_{m} \\, + \\, a_{m - 1} \\right) \\, + \\, a_{m - 2} \\right) \\, + \\, \\dots \\, + \\, a_{0} $, </center>\n",
    "\n",
    "<center> $ \\dots $ </center>\n",
    "\n",
    "<center> $ n \\, = \\, 2 \\left( \\dots \\left( 2 \\left( 2 a_{m} \\, + \\, a_{m - 1} \\right) \\, + \\, a_{m - 2} \\right) \\dots \\right) \\, + \\, a_{0} $. </center>\n",
    "\n",
    "Исходя из этого выражения можем получить цепочку значений $ b_{1} = a_{m} $, $ b_{2} = 2 b_{1} + a_{m - 1} $, $ \\dots $, $ b_{m + 1} = 2 b_{m} + a_{0} = n $, где $ \\forall i \\in \\{1, 2, \\dots, m\\}: a_{i} \\in \\{0, 1\\} $. Отсюда получаем бинарный метод вычисления значения $ x^{n} $:\n",
    "\n",
    "1. Представить число $ n $ в виде двоичной записи.\n",
    "2. Рассмотреть все биты, кроме первого, двоичной записи числа $ n $.\n",
    "  1. Если рассматриваемый бит &mdash; 0, то умножить число на само себя.\n",
    "  2. Если рассматриваемый бит &mdash; 1, то умножить число на само себя, а затем &mdash; на основание $ x $.\n",
    "  \n",
    "Число операций бинарного метода равно $ \\lambda \\left( n \\right) + \\nu \\left( n \\right) - 1 $, где $ \\lambda \\left( n \\right) = \\left\\lfloor \\mathrm{lb}\\,n \\right\\rfloor $, $ \\nu \\left( n \\right) $ &mdash; вес Хэмминга &mdash; количество ненулевых символов в двоичной записи числа."
   ]
  },
  {
   "cell_type": "markdown",
   "metadata": {},
   "source": [
    "**Метод множителей.** Бинарный метод не всегда является самым оптимальным по количеству операций. Пусть $ n $ &mdash; составное число. Рассмотрим следующий алгоритм:\n",
    "\n",
    "1. Расскладываем число $ n $ на простые сомножители.\n",
    "2. С помощью бинарного метода находим значение $ x^{m} =: y $, где $ m $ &mdash; простой сомножитель $ n $. Далее рассматриваем новое основание $ y $.\n",
    "3. Если $ n $ &mdash; простое число, то рассматривается метод множителей для числа $ n - 1 $, а затем полученное число домножается на $ x $.\n",
    "\n",
    "Число операций такого метода равняется сумме операций для каждого из сомножителей, что в большинстве случаев меньше, чем бинарный метод."
   ]
  },
  {
   "cell_type": "markdown",
   "metadata": {},
   "source": [
    "**Определение аддитивной цепочки.** Аддитивной цепочкой для $ n \\in \\mathbb{N} $ называется последовательность $ 1 = a_{0} $, $ a_{1} $, $ \\dots $, $ a_{m} = n $, обладающая свойством: $ \\forall i \\in \\{1, 2, \\dots, m\\}: a_{i} = a_{j} + a_{k} $, где $ k \\leq j < i $. $ l \\left( n \\right) = m $ &mdash; длина минимальной аддитивной цепочки.\n",
    "\n",
    "Задача нахождения значения $ l \\left( n \\right) $ &mdash; NP-полная, поэтому решить данную задачу возможно только перебором. Однако можно дать оценки для длины минимальной аддитивной цепочки. Так бинарный метод даёт оценку $ l \\left( n \\right) \\leq \\lambda \\left( n \\right) + \\nu \\left( n \\right) - 1 $, а метод множителей &mdash; $ l \\left( nm \\right) \\leq l \\left( n \\right) + l \\left( m \\right) $.\n",
    "\n",
    "При $ n \\leq 1000 $ справедлива следующая рекуррентная формула для вычисления минимальной длины аддитивной цепочки: $ l \\left( n \\right) = \\min{\\{l \\left( n - 1 \\right) + 1, l_{n}\\}} + \\delta_{n} $, где \n",
    "\n",
    "<center> $ l_{p} = \n",
    "\\begin{cases}\n",
    "    \\infty, & \\quad p \\text{ - простое} \\\\\n",
    "    l \\left( q \\right) + l \\left( \\dfrac{p}{q} \\right), & \\quad \\text{где } q \\text{ - минимальный простой делитель } p\n",
    "\\end{cases} $ </center>\n",
    "\n",
    "<center> $ \\delta_{n} \\in \\{0, 1\\} $ </center>"
   ]
  },
  {
   "cell_type": "markdown",
   "metadata": {},
   "source": [
    "**Теорема Брауэра.** При некотором $ k < \\mathrm{lb}\\,\\mathrm{lb}\\,n $ справедливо следующее неравенство: $ l \\left( n \\right) < \\left( 1 + k^{-1} \\right) \\left\\lceil \\mathrm{lb}\\,n \\right\\rceil + 2^{k - 1} - k + 2 $.\n",
    "\n",
    "Положим $ k := \\lambda \\left( \\lambda \\left( n \\right) \\right) - 2 \\lambda \\left( \\lambda \\left( \\lambda \\left( n \\right) \\right) \\right) $, тогда получим следующие следствия из теоремы Брауэра:\n",
    "\n",
    "1. $ \\lim\\limits_{n \\rightarrow \\infty} \\dfrac{l \\left( n \\right)}{\\lambda \\left( n \\right)} = 1 $.\n",
    "2. Одна из наилучших верхних оценок длины аддитивной цепочки имеет вид: $ \\lambda \\left( n \\right) \\left( 1 + \\dfrac{1}{\\lambda \\left( \\lambda \\left( n \\right) \\right)} + \\dfrac{o \\left( \\lambda \\left( \\lambda \\left( \\lambda \\left( n \\right) \\right) \\right) \\right)}{\\left( \\lambda \\left( \\lambda \\left( n \\right) \\right) \\right)^2} \\right) $."
   ]
  },
  {
   "cell_type": "markdown",
   "metadata": {},
   "source": [
    "**Алгоритм Брауэра.** Брауэрскую цепочку для натурального числа $ n $ и некоторого параметра $ k \\geq 2 $ можно задать рекуррентной формулой:\n",
    "\n",
    "<center> $ B_{k} \\left( n \\right) = \n",
    "\\begin{cases} \n",
    "    1, \\; 2, \\; 3, \\; \\dots, \\; 2^{k} - 1, & \\quad n < 2^{k} \\\\\n",
    "    B_{k} \\left( q \\right), \\; 2q, \\; 4q, \\; \\dots, \\; 2^{k}q, \\; n, & \\quad n \\geq 2^{k}\n",
    "\\end{cases} $, </center>\n",
    "\n",
    "где $ q = \\left\\lfloor \\dfrac{n}{2^{k}} \\right\\rfloor $. \n",
    "\n",
    "Пусть $ n = \\displaystyle\\sum\\limits_{i = 0}^{j} 2^{ik} a_{i} $, $ a_{j} \\ne 0 $. Тогда $ B_{k} \\left( n \\right) = 1 $, $ 2 $, $ \\dots $, $ 2^{k} - 1 $, $ 2 a_{j} $, $ 4a_{j} $, $ \\dots $, $ 2^{k} a_{j} $, $ 2^{k} a_{j} + a_{j - 1} $, $ 2^{k + 1} a_{j} + 2 a_{j - 1} $, $ \\dots $, $ 2^{2k} a_{j} + 2^{k} a_{j - 1} $, $ 2^{2k} a_{j} + 2^{k} a_{j - 1} + a_{j - 2} $, $ \\dots $, $ n $.\n",
    "\n",
    "Длина такой цепочки будет равна $ l_{B} \\left( n \\right) = j \\left( k + 1 \\right) + 2^{k} - 2 $, если $ jk \\leq \\mathrm{lb}\\,n < \\left( j + 1 \\right) k $.\n",
    "\n",
    "Алгоритм представляет из себя поиск значений $ q_{s} $ и $ r_{i} $ в представлении числа $ n $: $ n = 2^{k} \\left( 2^{k} \\left( \\dots \\left( 2 q_{s} + r_{s} \\right) \\dots \\right) + r_{2} \\right) + r_{1} $. Тогда $ B_{k} \\left( n \\right) = 1 $, $ 2 $, $ \\dots $, $ 2^{k} - 1 $, $ 2 q_{s} $, $ 4q_{s} $, $ \\dots $, $ 2^{k} q_{s} $, $ 2^{k} q_{s} + r_{s} $, $ \\dots $, $ n $.\n",
    "\n",
    "Данный алгоритм можно модифицировать, заменив тривиальную цепочку $ 1 $, $ 2 $, $ \\dots $, $ 2^{k} - 1 $ на цепочку $ 1 $, $ 2 $, $ \\dots $, $ b $, где $ b = \\max\\limits_{i = \\{1, 2, \\dots, s\\}}{\\{q_{s}, r_{i}\\}} $. Тогда длина аддитивной цепочки будет равна $ l_{B} \\left( n \\right) = b + sk + \\rho $, где $ \\rho $ &mdash; количество $ r_{i} > 0 $."
   ]
  },
  {
   "cell_type": "markdown",
   "metadata": {},
   "source": [
    "**Алгоритм Яо.** Пусть имеются натуральное число $ n $ и параметр $ k \\geq 2 $. Пусть $ n = \\displaystyle\\sum\\limits_{i = 0}^{j} 2^{ik} a_{i} $. Введём функцию $ d \\left( z \\right) = \\displaystyle\\sum\\limits_{i: a_{i} = z} 2^{ik} $.\n",
    "\n",
    "Цепочка Яо для натурального числа $ n $ и некоторого параметра $ k $ начинается со степеней двоек: $ Y_{k} \\left( n \\right) = \\left\\{ 1, 2, 4, \\dots, 2^{\\lambda \\left( n \\right)} \\right\\} $, после чего для всех $ z \\in \\left\\{ 1, 2, \\dots, 2^{k} - 1 \\right\\} $ вычисляются $ d \\left( z \\right) \\ne 0 $ и $ z d\\left( z \\right) $. Тогда $ n = \\displaystyle\\sum\\limits_{z = 1}^{2^{k} - 1} z d \\left( z \\right) $."
   ]
  },
  {
   "cell_type": "markdown",
   "metadata": {},
   "source": [
    "**Звёздная цепочка.** Звёздной цепочкой называется аддитивная цепочка, обладающая свойством: $ \\forall i \\in \\{1, 2, \\dots, m\\}: a_{i} = a_{i - 1} + a_{k} $, где $ k \\in \\{0, 1, \\dots, i - 1\\} $. $ l^{*} \\left( n \\right) = m $ &mdash; длина минимальной звёздной цепочки ($ l^{*} \\left( n \\right) \\geq l \\left( n \\right) $).\n",
    "\n",
    "Пусть имеется звёздная цепочка $ \\left\\{ a_{i} \\right\\}^{m}_{i = 1} $ ($ a_{1} = 1 $) длины $ l \\left( n \\right) = m - 1 $, тогда для неё можно задать вектор индексов $ \\left\\{ r_{i} \\right\\}_{i = 1}^{m - 1} $, где $ r_{i} = \\left\\{ x \\; \\middle| \\; 1 \\leq x \\leq i \\right\\} $, такой, что $ \\forall i \\in \\left\\{ 2, 3, \\dots, m - 1 \\right\\}: a_{i} = a_{i - 1} + a_{r_{i - 1}} $.\n",
    "\n",
    "Соответственно, для наибольшей звёздной цепочки длины $ m - 1 $ $ S_{max} = \\left\\{ 1, 2, 4, 8, \\dots, 2^{m - 1} \\right\\} $ вектор индексов имеет вид $ r_{max} = \\left\\{ 1, 2, 3, \\dots, m - 1 \\right\\} $, а для наименьшей $ S_{min} = \\left\\{ 1, 2, 3, 4, \\dots, m \\right\\} $ &mdash; $ r_{min} = \\{ \\underbrace{1, 1, 1, \\dots, 1}_{m - 1} \\} $.\n",
    "\n",
    "Вектор индексов $ r = \\left\\{ r_{i} \\right\\}_{i = 1}^{m - 1} $ старше (больше) вектора $ \\tilde{r} = \\left\\{ \\tilde{r}_{i} \\right\\}_{i = 1}^{m - 1} $ ($ r \\succ \\tilde{r} $), если $ \\exists i \\in \\left\\{ 1, 2, \\dots, m - 1 \\right\\}: \\forall j < i: r_{j} = \\tilde{r}_j \\text{ и } r_{i} > \\tilde{r}_{i} $.\n",
    "\n",
    "Гипотеза Шольца–Брауэра. Для всех звёздных цепочек выполнимо следующее неравенство:\n",
    "\n",
    "<center> $ l^{*} \\left( 2^{n} - 1 \\right) \\leq l^{*} \\left( n \\right) + n - 1 $. </center>"
   ]
  },
  {
   "cell_type": "markdown",
   "metadata": {},
   "source": [
    "**Алгоритм дробления вектора индексов.** Единственный точный метод поиска минимальных аддитивных цепочек &mdash; это перебор. Для того, чтобы сузить поиски, необходимо определить верхние и нижние границы длины минимальной аддитивной цепочки: $ \\underline{\\,l\\,} \\left( n \\right) \\leq l \\left( n \\right) \\leq \\overline{\\,l\\,} \\left( n \\right) $.\n",
    "\n",
    "Для определения нижней границы заметим, что $ a_{i} \\leq 2^{i} \\Rightarrow \\mathrm{lb}\\,n \\leq m $, тогда $ l \\left( n \\right) \\geq \\left\\lceil \\mathrm{lb}\\,n \\right\\rceil =: \\underline{\\,l\\,} \\left( n \\right) $. Для определения верхней границы возьмём длину цепочки, полученную бинарным методом: $ l \\left( n \\right) \\leq \\lambda \\left( n \\right) + \\nu \\left( n \\right) - 1 =: \\overline{\\,l\\,} \\left( n \\right) $.\n",
    "\n",
    "Полный перебор всех возможных аддитивных цепочек длины $ l \\left( n \\right) $ из диапазона $ \\left[ \\underline{\\,l\\,} \\left( n \\right); \\overline{\\,l\\,} \\left( n \\right) \\right] $ займёт $ \\displaystyle\\sum\\limits_{m = \\underline{\\,l\\,} \\left( n \\right)}^{\\overline{\\,l\\,} \\left( n \\right)} \\left( m - 1 \\right)! $ операций.\n",
    "\n",
    "Разобьём вектор индексов $ \\left\\{ r_{i} \\right\\}_{i = 1}^{m} $ на две части: фиксированный вектор $ \\left\\{ r_{i} \\right\\}_{i = 1}^{q} $ и меняющийся вектор $ \\left\\{ \\rho_{j} \\right\\}_{j = q + 1}^{m} $, где $ \\rho_{j} = \\left\\{ x \\; \\middle| \\; 1 \\leq x \\leq j \\right\\} $. Таких наборов получается $ \\dfrac{m!}{q!} $.\n",
    "\n",
    "Заметим, что наибольшее значение $ a_{m} = a_{max} $ будет достигаться при векторе $ \\left\\{ r_{i} \\right\\}_{i = 1}^{q} \\cup \\left\\{ q + 1, q + 2, \\dots, m \\right\\} $ и равняться $ a_{max} = a_{q + 1} \\cdot 2^{m - q} $, а наименьшее $ a_{m} = a_{min} $ &mdash; при $ \\left\\{ r_{i} \\right\\}_{i = 1}^{q} \\cup \\{ \\underbrace{1, 1, 1, \\dots, 1}_{m - q} \\} $, следовательно, $ a_{min} = a_{q + 1} + m - q $.\n",
    "\n",
    "Для построения минимальных звёздных цепочек рассмотрим алгоритм дробления вектора индексов. Пусть имеется некий параметр $ m $, определяющий длину цепочки и меняющийся от $ \\underline{\\,l\\,} \\left( n \\right) $ до $ \\overline{\\,l\\,} \\left( n \\right) $. На каждом этапе выбираем некое число $ q \\in \\mathbb{N} $ такое, что $ 1 \\leq q \\leq m - 1 $. Затем перебираем все $ \\left\\{ r_{i} \\right\\}_{i = 1}^{q} $, для которых вычисляем значения $ a_{min} $ и $ a_{max} $. Если $ n \\notin \\left[ a_{min}; a_{max} \\right] $, то переходим к следующему набору $ \\left\\{ r_{i} \\right\\}_{i = 1}^{q} $. Если $ n \\in \\left[ a_{min}; a_{max} \\right] $, то перебираем все $ \\left\\{ \\rho_{j} \\right\\}_{j = q + 1}^{m - 1} $ и вычисляем для каждой $ a_{m} $ пока либо оно не станет равным $ n $ и мы не получим ответ, либо пока все $ \\rho_{j} $ не станут равными 1. Во втором случае переходим к следующему набору $ \\left\\{ r_{i} \\right\\}_{i = 1}^{q} $. Если все $ r_{i} $ и $ \\rho_{j} $ станут равными 1, то переходим к следующему $ m $."
   ]
  },
  {
   "cell_type": "markdown",
   "metadata": {},
   "source": [
    "## Постановка задачи\n",
    "\n",
    "Реализовать точные и приближённые алгоритмы нахождения минимальных аддитивных цепочек с использованием системы компьютерной алгебры SageMath, провести анализ алгоритмов. Полученные результаты содержательно проинтерпретировать.\n",
    "\n",
    "1. Применить бинарный метод и метод множителей для $ x_n $, где $ n \\geq 30 $, для 2-3 значений $ n $ (значения $ n $ выбирается самостоятельно). Сравнить количество операций для каждого метода, сделать выводы.\n",
    "2. Реализовать алгоритм Брауэра для вычисления приближённых аддитивных цепочек для различных чисел при варьировании параметра $ k $, сопоставить длины полученных аддитивных цепочек с минимальной аддитивной цепочкой для заданного числа. Сделать выводы.\n",
    "3. Реализовать алгоритм дробления вектора индексов для нахождения минимальной звёздной цепочки для заданного числа. Протестировать алгоритм при $ n > 500 $. Указать, сколько времени потребовалось на поиск цепочки и какая цепочка получилась. Сравнить с предыдущими методами, сделать выводы.\n",
    "4. Проверить следствие 1 теоремы Брауэра для $ n  =1, 2, \\dots, 200 $ путём построения функции $ l \\left( n \\right) $ и аппроксимирующей кривой, полученной с помощью метода наименьших квадратов. Сопоставить функции на одном графике, сделать выводы.\n",
    "5. Проверить гипотезу Шольца–Брауэра для $ 1 < n \\leq 10 $ на алгоритме дробления вектора индексов. Сделать выводы.\n",
    "6. Дополнительное необязательное задание: найти и/или предложить модификации алгоритмов и привести описание модификаций. Реализовать модифицированные алгоритмы и сравнить их мощность."
   ]
  },
  {
   "cell_type": "markdown",
   "metadata": {},
   "source": [
    "## Выполнение работы\n",
    "\n",
    "**1. Сравнение бинарного метода и метода множителей.**\n",
    "\n",
    "Для применения бинарного метода и метода множителей были реализованы функции binaryMethod() и multiplierMethod() соответственно:"
   ]
  },
  {
   "cell_type": "code",
   "execution_count": 1,
   "metadata": {},
   "outputs": [],
   "source": [
    "def binaryMethod(x, n):\n",
    "    if n == 0:\n",
    "        return (1, 0)\n",
    "    binaryNotation = str(bin(n))[3:]\n",
    "    if len(binaryNotation) == 0:\n",
    "        return (x, 0)\n",
    "    operationsCounter = 0\n",
    "    result = x\n",
    "    for c in binaryNotation:\n",
    "        result *= result\n",
    "        operationsCounter += 1\n",
    "        if c == '1':\n",
    "            result *= x\n",
    "            operationsCounter += 1\n",
    "    return (result, operationsCounter)\n",
    "\n",
    "\n",
    "def multiplierMethod(x, n):\n",
    "    if n == 0:\n",
    "        return (1, 0)\n",
    "    dividers = []\n",
    "    for divider in list(factor(n)):\n",
    "        for i in range(divider[1]):\n",
    "            dividers.append(divider[0])\n",
    "    if len(dividers) == 1:\n",
    "        (base, counter) = multiplierMethod(x, n - 1)\n",
    "        return (base * x, counter + 1)\n",
    "    base = x\n",
    "    operationsCounter = 0\n",
    "    for divider in dividers:\n",
    "        (base, counter) = binaryMethod(base, divider)\n",
    "        operationsCounter += counter\n",
    "    return (base, operationsCounter)"
   ]
  },
  {
   "cell_type": "markdown",
   "metadata": {},
   "source": [
    "Для сравнения методов вычисления степеней выполним оба алгоритма при $ n = 45 $, $ 63 $ и $ 151 $:\n",
    "\n",
    "$ n = 45 $:\n",
    "\n",
    "$ \\quad $ *Бинарный метод:* \n",
    "\n",
    "$ \\qquad n = 45_{d} = 101101_{b} $.\n",
    "\n",
    "$ \\qquad x \\to x \\cdot x = x^{2} \\to x^{2} \\cdot x^{2} = x^{4} \\to x^{4} \\cdot x = x^{5} \\to x^{5} \\cdot x^{5} = x^{10} \\to x^{10} \\cdot x = x^{11} \\to x^{11} \\cdot x^{11} = x^{22} \\to x^{22} \\cdot x^{22} = x^{44} \\to x^{44} \\cdot x = x^{45} $.\n",
    "\n",
    "$ \\qquad $ Число операций бинарного метода равно $ \\lambda \\left( 45 \\right) + \\nu \\left( 45 \\right) - 1 = 5 + 4 - 1 = 8 $.\n",
    "\n",
    "$ \\quad $ *Метод множителей:* \n",
    "\n",
    "$ \\qquad n = 45 = 3^{2} \\cdot 5 $.\n",
    "\n",
    "$ \\qquad x \\to x \\cdot x = x^{2} \\to x^{2} \\cdot x = x^{3} =: y $.\n",
    "\n",
    "$ \\qquad y \\to y \\cdot y = y^{2} \\to y^{2} \\cdot y = y^{3} =: z $.\n",
    "\n",
    "$ \\qquad z \\to z \\cdot z = z^{2} \\to z^{2} \\cdot z^{2} = z^{4} \\to z^{4} \\cdot z = z^{5} = y^{15} = x^{45} $.\n",
    "\n",
    "$ \\qquad $ Число операций метода множителей равно $ 7 $.\n",
    "\n",
    "$ n = 63 $:\n",
    "\n",
    "$ \\quad $ *Бинарный метод:* \n",
    "\n",
    "$ \\qquad n = 63_{d} = 111111_{b} $.\n",
    "\n",
    "$ \\qquad x \\to x \\cdot x = x^{2} \\to x^{2} \\cdot x = x^{3} \\to x^{3} \\cdot x^{3} = x^{6} \\to x^{6} \\cdot x = x^{7} \\to x^{7} \\cdot x^{7} = x^{14} \\to x^{14} \\cdot x = x^{15} \\to x^{15} \\cdot x^{15} = x^{30} \\to x^{30} \\cdot x = x^{31} \\to $\n",
    "\n",
    "$ \\qquad \\quad \\to x^{31} \\cdot x^{31} = x^{62} \\to x^{62} \\cdot x = x^{63} $.\n",
    "\n",
    "$ \\qquad $ Число операций бинарного метода равно $ \\lambda \\left( 63 \\right) + \\nu \\left( 63 \\right) - 1 = 5 + 6 - 1 = 10 $.\n",
    "\n",
    "$ \\quad $ *Метод множителей:* \n",
    "\n",
    "$ \\qquad n = 63 = 3^{2} \\cdot 7 $.\n",
    "\n",
    "$ \\qquad x \\to x \\cdot x = x^{2} \\to x^{2} \\cdot x = x^{3} =: y $.\n",
    "\n",
    "$ \\qquad y \\to y \\cdot y = y^{2} \\to y^{2} \\cdot y = y^{3} =: z $.\n",
    "\n",
    "$ \\qquad z \\to z \\cdot z = z^{2} \\to z^{2} \\cdot z = z^{3} \\to z^{3} \\cdot z^{3} = z^{6} \\to z^{6} \\cdot z = z^{7} = y^{21} = x^{63} $.\n",
    "\n",
    "$ \\qquad $ Число операций метода множителей равно $ 8 $.\n",
    "\n",
    "$ n = 151 $:\n",
    "\n",
    "$ \\quad $ *Бинарный метод:* \n",
    "\n",
    "$ \\qquad n = 151_{d} = 10010111_{b} $.\n",
    "\n",
    "$ \\qquad x \\to x \\cdot x = x^{2} \\to x^{2} \\cdot x^{2} = x^{4} \\to x^{4} \\cdot x^{4} = x^{8} \\to x^{8} \\cdot x = x^{9} \\to x^{9} \\cdot x^{9} = x^{18} \\to x^{18} \\cdot x^{18} = x^{36} \\to x^{36} \\cdot x = x^{37} \\to $\n",
    "\n",
    "$ \\qquad \\quad \\to x^{37} \\cdot x^{37} = x^{74} \\to x^{74} \\cdot x = x^{75} \\to x^{75} \\cdot x^{75} = x^{150} \\to x^{150} \\cdot x = x^{151} $.\n",
    "\n",
    "$ \\qquad $ Число операций бинарного метода равно $ \\lambda \\left( 151 \\right) + \\nu \\left( 151 \\right) - 1 = 7 + 5 - 1 = 11 $.\n",
    "\n",
    "$ \\quad $ *Метод множителей:* \n",
    "\n",
    "$ \\qquad n = 151 $ &mdash; простое число. Рассмотрим число $ n - 1 = 150 = 2 \\cdot 3 \\cdot 5^{2} $.\n",
    "\n",
    "$ \\qquad x \\to x \\cdot x = x^{2} =: y $.\n",
    "\n",
    "$ \\qquad y \\to y \\cdot y = y^{2} \\to y^{2} \\cdot y = y^{3} =: z $.\n",
    "\n",
    "$ \\qquad z \\to z \\cdot z = z^{2} \\to z^{2} \\cdot z^{2} = z^{4} \\to z^{4} \\cdot z = z^{5} =: w $.\n",
    "\n",
    "$ \\qquad w \\to w \\cdot w = w^{2} \\to w^{2} \\cdot w^{2} = w^{4} \\to w^{4} \\cdot w = w^{5} = z^{25} = y^{75} = x^{150} $.\n",
    "\n",
    "$ \\qquad x^{150} \\to x^{150} \\cdot x = x^{151} $.\n",
    "\n",
    "$ \\qquad $ Число операций метода множителей равно $ 10 $."
   ]
  },
  {
   "cell_type": "code",
   "execution_count": 2,
   "metadata": {},
   "outputs": [
    {
     "name": "stdout",
     "output_type": "stream",
     "text": [
      "n = 45:\n",
      "\tКоличество операций бинарного метода — 8\n",
      "\tКоличество операций метода множителей — 7\n",
      "n = 63:\n",
      "\tКоличество операций бинарного метода — 10\n",
      "\tКоличество операций метода множителей — 8\n",
      "n = 64:\n",
      "\tКоличество операций бинарного метода — 6\n",
      "\tКоличество операций метода множителей — 6\n",
      "n = 65:\n",
      "\tКоличество операций бинарного метода — 7\n",
      "\tКоличество операций метода множителей — 8\n",
      "n = 151:\n",
      "\tКоличество операций бинарного метода — 11\n",
      "\tКоличество операций метода множителей — 10\n"
     ]
    }
   ],
   "source": [
    "x = 2\n",
    "n = 45 # составное число\n",
    "print('n = 45:')\n",
    "(xnBM, operationsOfBM) = binaryMethod(x, n)\n",
    "(xnMM, operationsOfMM) = multiplierMethod(x, n)\n",
    "print('\\tКоличество операций бинарного метода —', operationsOfBM)\n",
    "print('\\tКоличество операций метода множителей —', operationsOfMM)\n",
    "n = 63 # 0b111111\n",
    "print('n = 63:')\n",
    "(xnBM, operationsOfBM) = binaryMethod(x, n)\n",
    "(xnMM, operationsOfMM) = multiplierMethod(x, n)\n",
    "print('\\tКоличество операций бинарного метода —', operationsOfBM)\n",
    "print('\\tКоличество операций метода множителей —', operationsOfMM)\n",
    "n = 64 # 0b111111\n",
    "print('n = 64:')\n",
    "(xnBM, operationsOfBM) = binaryMethod(x, n)\n",
    "(xnMM, operationsOfMM) = multiplierMethod(x, n)\n",
    "print('\\tКоличество операций бинарного метода —', operationsOfBM)\n",
    "print('\\tКоличество операций метода множителей —', operationsOfMM)\n",
    "n = 65 # 0b1000001\n",
    "print('n = 65:')\n",
    "(xnBM, operationsOfBM) = binaryMethod(x, n)\n",
    "(xnMM, operationsOfMM) = multiplierMethod(x, n)\n",
    "print('\\tКоличество операций бинарного метода —', operationsOfBM)\n",
    "print('\\tКоличество операций метода множителей —', operationsOfMM)\n",
    "n = 151 # простое число\n",
    "print('n = 151:')\n",
    "(xnBM, operationsOfBM) = binaryMethod(x, n)\n",
    "(xnMM, operationsOfMM) = multiplierMethod(x, n)\n",
    "print('\\tКоличество операций бинарного метода —', operationsOfBM)\n",
    "print('\\tКоличество операций метода множителей —', operationsOfMM)"
   ]
  },
  {
   "cell_type": "markdown",
   "metadata": {},
   "source": [
    "*Выводы.* Из полученных результатов можно сделать вывод, что в среднем метод множителей работает за меньшее количество операций, чем бинарный метод."
   ]
  },
  {
   "cell_type": "markdown",
   "metadata": {},
   "source": [
    "**2. Реализация алгоритма Брауэра.**\n",
    "\n",
    "Для применения алгоритма Брауэра была реализована функция algorithmBrouwer():"
   ]
  },
  {
   "cell_type": "code",
   "execution_count": 3,
   "metadata": {},
   "outputs": [],
   "source": [
    "def algorithmBrouwer(n, k):\n",
    "    d = 2 ** k\n",
    "    chain = []\n",
    "    if n < d:\n",
    "        for unit in range(n):\n",
    "            chain.append(unit + 1)\n",
    "    else:\n",
    "        q = n\n",
    "        ri = []\n",
    "        while q >= d:\n",
    "            r = q % d\n",
    "            ri.append(r)\n",
    "            q = q // d\n",
    "        ri.append(q)\n",
    "        ri.reverse()\n",
    "        b = max(ri)\n",
    "        for unit in range(1, b + 1):\n",
    "            chain.append(unit)\n",
    "        q = ri[0]\n",
    "        for i in range(len(ri) - 1):\n",
    "            for j in range(k):\n",
    "                q *= 2\n",
    "                chain.append(q)\n",
    "            if ri[i + 1] > 0:\n",
    "                q += ri[i + 1]\n",
    "                chain.append(q)\n",
    "    return chain"
   ]
  },
  {
   "cell_type": "markdown",
   "metadata": {},
   "source": [
    "Для упрощённого и более наглядного вывода результатов была реализована вспомогательная функция printTable(), выводящая данные в таблицу:"
   ]
  },
  {
   "cell_type": "code",
   "execution_count": 4,
   "metadata": {},
   "outputs": [],
   "source": [
    "from IPython.display import HTML, display\n",
    "\n",
    "\n",
    "def printTable(head, lines):\n",
    "    table = '<center><table>'\n",
    "    table += '<tr>'\n",
    "    for name in head:\n",
    "        table += '<td> <center> <h3> {} </h3> </center> </td>'.format(name)\n",
    "    table += '</tr>'\n",
    "    for line in lines:\n",
    "        table += '<tr>'\n",
    "        for cell in line:\n",
    "            table += '<td> <b> {} </b> </td>'.format(cell)\n",
    "        table += '</tr>'\n",
    "    table += '</table></center>'\n",
    "    display(HTML(table))"
   ]
  },
  {
   "cell_type": "markdown",
   "metadata": {},
   "source": [
    "Для анализа результатов выполнения алгоритма Брауэра выполним алгоритм при $ n = 31 $, $ 47 $, $ 63 $, $ 64 $, $ 65 $, $ 77 $ и $ 81 $ и различных $ k $, по результатам которого построим таблицу:"
   ]
  },
  {
   "cell_type": "code",
   "execution_count": 5,
   "metadata": {
    "scrolled": false
   },
   "outputs": [
    {
     "data": {
      "text/html": [
       "<center><table><tr><td> <center> <h3> n </h3> </center> </td><td> <center> <h3> k </h3> </center> </td><td> <center> <h3> Аддитивная цепочка </h3> </center> </td><td> <center> <h3> Длина аддитивной цепочки </h3> </center> </td></tr><tr><td> <b> 31 </b> </td><td> <b> 1 </b> </td><td> <b> 1, 2, 3, 6, 7, 14, 15, 30, 31 </b> </td><td> <b> 9 </b> </td></tr><tr><td> <b>   </b> </td><td> <b> 2 </b> </td><td> <b> 1, 2, 3, 2, 4, 7, 14, 28, 31 </b> </td><td> <b> 9 </b> </td></tr><tr><td> <b>   </b> </td><td> <b> 3 </b> </td><td> <b> 1, 2, 3, 4, 5, 6, 7, 6, 12, 24, 31 </b> </td><td> <b> 11 </b> </td></tr><tr><td> <b>   </b> </td><td> <b> 4 </b> </td><td> <b> 1, 2, 3, 4, 5, 6, 7, 8, 9, 10, 11, 12, 13, 14, 15, 2, 4, 8, 16, 31 </b> </td><td> <b> 20 </b> </td></tr><tr><td> <b> 47 </b> </td><td> <b> 1 </b> </td><td> <b> 1, 2, 4, 5, 10, 11, 22, 23, 46, 47 </b> </td><td> <b> 10 </b> </td></tr><tr><td> <b>   </b> </td><td> <b> 2 </b> </td><td> <b> 1, 2, 3, 4, 8, 11, 22, 44, 47 </b> </td><td> <b> 9 </b> </td></tr><tr><td> <b>   </b> </td><td> <b> 3 </b> </td><td> <b> 1, 2, 3, 4, 5, 6, 7, 10, 20, 40, 47 </b> </td><td> <b> 11 </b> </td></tr><tr><td> <b>   </b> </td><td> <b> 4 </b> </td><td> <b> 1, 2, 3, 4, 5, 6, 7, 8, 9, 10, 11, 12, 13, 14, 15, 4, 8, 16, 32, 47 </b> </td><td> <b> 20 </b> </td></tr><tr><td> <b>   </b> </td><td> <b> 5 </b> </td><td> <b> 1, 2, 3, 4, 5, 6, 7, 8, 9, 10, 11, 12, 13, 14, 15, 2, 4, 8, 16, 32, 47 </b> </td><td> <b> 21 </b> </td></tr><tr><td> <b> 63 </b> </td><td> <b> 1 </b> </td><td> <b> 1, 2, 3, 6, 7, 14, 15, 30, 31, 62, 63 </b> </td><td> <b> 11 </b> </td></tr><tr><td> <b>   </b> </td><td> <b> 2 </b> </td><td> <b> 1, 2, 3, 6, 12, 15, 30, 60, 63 </b> </td><td> <b> 9 </b> </td></tr><tr><td> <b>   </b> </td><td> <b> 3 </b> </td><td> <b> 1, 2, 3, 4, 5, 6, 7, 14, 28, 56, 63 </b> </td><td> <b> 11 </b> </td></tr><tr><td> <b>   </b> </td><td> <b> 4 </b> </td><td> <b> 1, 2, 3, 4, 5, 6, 7, 8, 9, 10, 11, 12, 13, 14, 15, 6, 12, 24, 48, 63 </b> </td><td> <b> 20 </b> </td></tr><tr><td> <b>   </b> </td><td> <b> 5 </b> </td><td> <b> 1, 2, 3, 4, 5, 6, 7, 8, 9, 10, 11, 12, 13, 14, 15, 16, 17, 18, 19, 20, 21, 22, 23, 24, 25, 26, 27, 28, 29, 30, 31, 2, 4, 8, 16, 32, 63 </b> </td><td> <b> 37 </b> </td></tr><tr><td> <b> 64 </b> </td><td> <b> 1 </b> </td><td> <b> 1, 2, 4, 8, 16, 32, 64 </b> </td><td> <b> 7 </b> </td></tr><tr><td> <b>   </b> </td><td> <b> 2 </b> </td><td> <b> 1, 2, 4, 8, 16, 32, 64 </b> </td><td> <b> 7 </b> </td></tr><tr><td> <b>   </b> </td><td> <b> 3 </b> </td><td> <b> 1, 2, 4, 8, 16, 32, 64 </b> </td><td> <b> 7 </b> </td></tr><tr><td> <b>   </b> </td><td> <b> 4 </b> </td><td> <b> 1, 2, 3, 4, 8, 16, 32, 64 </b> </td><td> <b> 8 </b> </td></tr><tr><td> <b>   </b> </td><td> <b> 5 </b> </td><td> <b> 1, 2, 4, 8, 16, 32, 64 </b> </td><td> <b> 7 </b> </td></tr><tr><td> <b>   </b> </td><td> <b> 6 </b> </td><td> <b> 1, 2, 4, 8, 16, 32, 64 </b> </td><td> <b> 7 </b> </td></tr><tr><td> <b> 65 </b> </td><td> <b> 1 </b> </td><td> <b> 1, 2, 4, 8, 16, 32, 64, 65 </b> </td><td> <b> 8 </b> </td></tr><tr><td> <b>   </b> </td><td> <b> 2 </b> </td><td> <b> 1, 2, 4, 8, 16, 32, 64, 65 </b> </td><td> <b> 8 </b> </td></tr><tr><td> <b>   </b> </td><td> <b> 3 </b> </td><td> <b> 1, 2, 4, 8, 16, 32, 64, 65 </b> </td><td> <b> 8 </b> </td></tr><tr><td> <b>   </b> </td><td> <b> 4 </b> </td><td> <b> 1, 2, 3, 4, 8, 16, 32, 64, 65 </b> </td><td> <b> 9 </b> </td></tr><tr><td> <b>   </b> </td><td> <b> 5 </b> </td><td> <b> 1, 2, 4, 8, 16, 32, 64, 65 </b> </td><td> <b> 8 </b> </td></tr><tr><td> <b>   </b> </td><td> <b> 6 </b> </td><td> <b> 1, 2, 4, 8, 16, 32, 64, 65 </b> </td><td> <b> 8 </b> </td></tr><tr><td> <b> 77 </b> </td><td> <b> 1 </b> </td><td> <b> 1, 2, 4, 8, 9, 18, 19, 38, 76, 77 </b> </td><td> <b> 10 </b> </td></tr><tr><td> <b>   </b> </td><td> <b> 2 </b> </td><td> <b> 1, 2, 3, 2, 4, 8, 16, 19, 38, 76, 77 </b> </td><td> <b> 11 </b> </td></tr><tr><td> <b>   </b> </td><td> <b> 3 </b> </td><td> <b> 1, 2, 3, 4, 5, 2, 4, 8, 9, 18, 36, 72, 77 </b> </td><td> <b> 13 </b> </td></tr><tr><td> <b>   </b> </td><td> <b> 4 </b> </td><td> <b> 1, 2, 3, 4, 5, 6, 7, 8, 9, 10, 11, 12, 13, 8, 16, 32, 64, 77 </b> </td><td> <b> 18 </b> </td></tr><tr><td> <b>   </b> </td><td> <b> 5 </b> </td><td> <b> 1, 2, 3, 4, 5, 6, 7, 8, 9, 10, 11, 12, 13, 4, 8, 16, 32, 64, 77 </b> </td><td> <b> 19 </b> </td></tr><tr><td> <b>   </b> </td><td> <b> 6 </b> </td><td> <b> 1, 2, 3, 4, 5, 6, 7, 8, 9, 10, 11, 12, 13, 2, 4, 8, 16, 32, 64, 77 </b> </td><td> <b> 20 </b> </td></tr><tr><td> <b> 81 </b> </td><td> <b> 1 </b> </td><td> <b> 1, 2, 4, 5, 10, 20, 40, 80, 81 </b> </td><td> <b> 9 </b> </td></tr><tr><td> <b>   </b> </td><td> <b> 2 </b> </td><td> <b> 1, 2, 4, 5, 10, 20, 40, 80, 81 </b> </td><td> <b> 9 </b> </td></tr><tr><td> <b>   </b> </td><td> <b> 3 </b> </td><td> <b> 1, 2, 2, 4, 8, 10, 20, 40, 80, 81 </b> </td><td> <b> 10 </b> </td></tr><tr><td> <b>   </b> </td><td> <b> 4 </b> </td><td> <b> 1, 2, 3, 4, 5, 10, 20, 40, 80, 81 </b> </td><td> <b> 10 </b> </td></tr><tr><td> <b>   </b> </td><td> <b> 5 </b> </td><td> <b> 1, 2, 3, 4, 5, 6, 7, 8, 9, 10, 11, 12, 13, 14, 15, 16, 17, 4, 8, 16, 32, 64, 81 </b> </td><td> <b> 23 </b> </td></tr><tr><td> <b>   </b> </td><td> <b> 6 </b> </td><td> <b> 1, 2, 3, 4, 5, 6, 7, 8, 9, 10, 11, 12, 13, 14, 15, 16, 17, 2, 4, 8, 16, 32, 64, 81 </b> </td><td> <b> 24 </b> </td></tr></table></center>"
      ],
      "text/plain": [
       "<IPython.core.display.HTML object>"
      ]
     },
     "metadata": {},
     "output_type": "display_data"
    }
   ],
   "source": [
    "nums = [31, 47, 63, 64, 65, 77, 81]\n",
    "k = 1\n",
    "result = []\n",
    "for n in nums:\n",
    "    while n >= 2 ** k:\n",
    "        chain = algorithmBrouwer(n, k)\n",
    "        if k == 1:\n",
    "            result.append([n, k, ', '.join(map(str, chain)), len(chain)])\n",
    "        else:\n",
    "            result.append([' ', k, ', '.join(map(str, chain)), len(chain)])\n",
    "        k += 1\n",
    "    k = 1\n",
    "printTable(['n', 'k', 'Аддитивная цепочка', 'Длина аддитивной цепочки'], result)"
   ]
  },
  {
   "cell_type": "markdown",
   "metadata": {},
   "source": [
    "*Выводы.* Из полученных результатов можно сделать вывод, что алгоритм Брауэра может выдать минимальную цепочку и только при определённых  значениях $ k $."
   ]
  },
  {
   "cell_type": "markdown",
   "metadata": {},
   "source": [
    "**3. Реализация алгоритма дробления вектора индексов.**\n",
    "\n",
    "Для применения алгоритма дробления вектора индексов была реализована функция vectorSplitting() и вспомогательная функция vectorReduce() для перехода к меньшему вектору индексов:"
   ]
  },
  {
   "cell_type": "code",
   "execution_count": 6,
   "metadata": {},
   "outputs": [],
   "source": [
    "def vectorReduce(vector, q = 0):\n",
    "    num = 0\n",
    "    for i in range(len(vector) - 1, -1, -1):\n",
    "        if vector[i] != 1:\n",
    "            vector[i] -= 1\n",
    "            num = i\n",
    "            break\n",
    "    for i in range(num + 1, len(vector)):\n",
    "        vector[i] = i + q + 1\n",
    "    return vector\n",
    "\n",
    "\n",
    "def vectorSplitting(n):\n",
    "    if n < 1:\n",
    "        return []\n",
    "    if n == 1:\n",
    "        return [1]\n",
    "    i = 0\n",
    "    lmin = 0 \n",
    "    lmax = 0\n",
    "    while multiplierMethod(2, i)[0] < n:\n",
    "        i += 1\n",
    "    if multiplierMethod(2, i)[0] == n:\n",
    "        lmin = i\n",
    "    else:\n",
    "        lmin = int(log(n, 2)) + 1\n",
    "    lmax = int(log(n, 2)) + len(list(filter(lambda x : x == '1', str(bin(n))))) - 1\n",
    "    for m in range(lmin, lmax + 1):\n",
    "        indexVector = [i for i in range(1, m + 1)]\n",
    "        q = m // 2\n",
    "        r = indexVector[:q]\n",
    "        rho = indexVector[q:]\n",
    "        rFlag = True\n",
    "        while rFlag:\n",
    "            if len(list(filter(lambda x : x == 1, r))) == len(r):\n",
    "                rFlag = False\n",
    "            starChain = [1]\n",
    "            a = 1\n",
    "            for ri in r:\n",
    "                a += starChain[ri - 1]\n",
    "                starChain.append(a)\n",
    "            amax = starChain[-1] * multiplierMethod(2, m - q)[0]\n",
    "            amin = starChain[-1] + m - q\n",
    "            if n < amin or n > amax:\n",
    "                r = vectorReduce(r)\n",
    "                continue\n",
    "            rhoFlag = True\n",
    "            while rhoFlag:\n",
    "                if len(list(filter(lambda x : x == 1, rho))) == len(rho):\n",
    "                    rhoFlag = False\n",
    "                temp = a\n",
    "                starChainSize = len(starChain)\n",
    "                for ri in rho:\n",
    "                    a += starChain[ri - 1]\n",
    "                    starChain.append(a)\n",
    "                if a == n:\n",
    "                    return starChain\n",
    "                starChain = starChain[:starChainSize]\n",
    "                a = temp\n",
    "                rho = vectorReduce(rho, q)\n",
    "            r = vectorReduce(r)\n",
    "            rho = indexVector[q:]"
   ]
  },
  {
   "cell_type": "markdown",
   "metadata": {},
   "source": [
    "Для анализа результатов выполнения алгоритма дробления вектора индексов прогоним алгоритм при $ n = 501 $, $ 511 $, $ 512 $, $ 513 $, $ 606 $, $ 777 $ и $ 1000 $, по результатам которого построим таблицу:"
   ]
  },
  {
   "cell_type": "code",
   "execution_count": 7,
   "metadata": {},
   "outputs": [
    {
     "data": {
      "text/html": [
       "<center><table><tr><td> <center> <h3> n </h3> </center> </td><td> <center> <h3> Звёздная цепочка </h3> </center> </td><td> <center> <h3> Время выполнения алгоритма </h3> </center> </td></tr><tr><td> <b> 501 </b> </td><td> <b> 1, 2, 4, 8, 16, 32, 64, 96, 100, 200, 400, 500, 501 </b> </td><td> <b> 202.668664 секунд </b> </td></tr><tr><td> <b> 511 </b> </td><td> <b> 1, 2, 4, 8, 16, 32, 64, 72, 73, 146, 292, 438, 511 </b> </td><td> <b> 239.241365 секунд </b> </td></tr><tr><td> <b> 512 </b> </td><td> <b> 1, 2, 4, 8, 16, 32, 64, 128, 256, 512 </b> </td><td> <b> 0.00024 секунд </b> </td></tr><tr><td> <b> 513 </b> </td><td> <b> 1, 2, 4, 8, 16, 32, 64, 128, 256, 512, 513 </b> </td><td> <b> 0.00082 секунд </b> </td></tr><tr><td> <b> 606 </b> </td><td> <b> 1, 2, 4, 8, 16, 32, 64, 128, 192, 200, 202, 404, 606 </b> </td><td> <b> 199.206522 секунд </b> </td></tr><tr><td> <b> 777 </b> </td><td> <b> 1, 2, 4, 8, 16, 32, 64, 128, 256, 512, 768, 776, 777 </b> </td><td> <b> 118.471591 секунд </b> </td></tr><tr><td> <b> 1000 </b> </td><td> <b> 1, 2, 4, 8, 16, 32, 64, 128, 192, 200, 400, 800, 1000 </b> </td><td> <b> 55.762927 секунд </b> </td></tr></table></center>"
      ],
      "text/plain": [
       "<IPython.core.display.HTML object>"
      ]
     },
     "metadata": {},
     "output_type": "display_data"
    }
   ],
   "source": [
    "import time as t\n",
    "\n",
    "\n",
    "vector = [501, 511, 512, 513, 606, 777, 1000]\n",
    "result = []\n",
    "for n in vector:\n",
    "    begin = t.time()\n",
    "    vec = vectorSplitting(n)\n",
    "    end = t.time()\n",
    "    result.append([n, ', '.join(map(str, vec)), str(round(end - begin, 6)) + ' секунд'])\n",
    "printTable(['n', 'Звёздная цепочка', 'Время выполнения алгоритма'], result)"
   ]
  },
  {
   "cell_type": "markdown",
   "metadata": {},
   "source": [
    "Для тех же значений $ n $ запустим алгоритм дробления вектора индексов и бинарный метод. Результаты запишем в таблицу и сравним:"
   ]
  },
  {
   "cell_type": "code",
   "execution_count": 8,
   "metadata": {},
   "outputs": [
    {
     "data": {
      "text/html": [
       "<center><table><tr><td> <center> <h3> n </h3> </center> </td><td> <center> <h3> Цепочка, полученная алгоритмом дробления вектора индексов </h3> </center> </td><td> <center> <h3> Длина цепочки </h3> </center> </td><td> <center> <h3> Цепочка, полученная бинарным методом </h3> </center> </td><td> <center> <h3> Длина цепочки </h3> </center> </td></tr><tr><td> <b> 501 </b> </td><td> <b> 1, 2, 4, 8, 16, 32, 64, 96, 100, 200, 400, 500, 501 </b> </td><td> <b> 13 </b> </td><td> <b> 1, 2, 3, 6, 7, 14, 15, 30, 31, 62, 124, 125, 250, 500, 501 </b> </td><td> <b> 15 </b> </td></tr><tr><td> <b> 511 </b> </td><td> <b> 1, 2, 4, 8, 16, 32, 64, 72, 73, 146, 292, 438, 511 </b> </td><td> <b> 13 </b> </td><td> <b> 1, 2, 3, 6, 7, 14, 15, 30, 31, 62, 63, 126, 127, 254, 255, 510, 511 </b> </td><td> <b> 17 </b> </td></tr><tr><td> <b> 512 </b> </td><td> <b> 1, 2, 4, 8, 16, 32, 64, 128, 256, 512 </b> </td><td> <b> 10 </b> </td><td> <b> 1, 2, 4, 8, 16, 32, 64, 128, 256, 512 </b> </td><td> <b> 10 </b> </td></tr><tr><td> <b> 513 </b> </td><td> <b> 1, 2, 4, 8, 16, 32, 64, 128, 256, 512, 513 </b> </td><td> <b> 11 </b> </td><td> <b> 1, 2, 4, 8, 16, 32, 64, 128, 256, 512, 513 </b> </td><td> <b> 11 </b> </td></tr><tr><td> <b> 606 </b> </td><td> <b> 1, 2, 4, 8, 16, 32, 64, 128, 192, 200, 202, 404, 606 </b> </td><td> <b> 13 </b> </td><td> <b> 1, 2, 4, 8, 9, 18, 36, 37, 74, 75, 150, 151, 302, 303, 606 </b> </td><td> <b> 15 </b> </td></tr><tr><td> <b> 777 </b> </td><td> <b> 1, 2, 4, 8, 16, 32, 64, 128, 256, 512, 768, 776, 777 </b> </td><td> <b> 13 </b> </td><td> <b> 1, 2, 3, 6, 12, 24, 48, 96, 97, 194, 388, 776, 777 </b> </td><td> <b> 13 </b> </td></tr><tr><td> <b> 1000 </b> </td><td> <b> 1, 2, 4, 8, 16, 32, 64, 128, 192, 200, 400, 800, 1000 </b> </td><td> <b> 13 </b> </td><td> <b> 1, 2, 3, 6, 7, 14, 15, 30, 31, 62, 124, 125, 250, 500, 1000 </b> </td><td> <b> 15 </b> </td></tr></table></center>"
      ],
      "text/plain": [
       "<IPython.core.display.HTML object>"
      ]
     },
     "metadata": {},
     "output_type": "display_data"
    }
   ],
   "source": [
    "def binMethod(n):\n",
    "    binNotation = str(bin(n))[3:]\n",
    "    result = [1]\n",
    "    for c in binNotation:\n",
    "        result.append(result[-1] * 2)\n",
    "        if c == '1':\n",
    "            result.append(result[-1] + 1)\n",
    "    return result\n",
    "\n",
    "\n",
    "vector = [501, 511, 512, 513, 606, 777, 1000]\n",
    "result = []\n",
    "for n in vector:\n",
    "    vecSplitting = vectorSplitting(n)\n",
    "    vecBin = binMethod(n)\n",
    "    result.append([n, ', '.join(map(str, vecSplitting)), len(vecSplitting), ', '.join(map(str, vecBin)), len(vecBin)])\n",
    "printTable(['n', 'Цепочка, полученная алгоритмом дробления вектора индексов', 'Длина цепочки', 'Цепочка, полученная бинарным методом', 'Длина цепочки'], result)"
   ]
  },
  {
   "cell_type": "markdown",
   "metadata": {},
   "source": [
    "*Выводы.* Из полученных результатов можно сделать вывод, что алгоритм дробления вектора индексов выдаёт минимальную звёздную цепочку для заданного $ n $, но ввиту того, что данная задача &mdash; NP-полная, то время выполнения для некоторых $ n $ достаточно велико."
   ]
  },
  {
   "cell_type": "markdown",
   "metadata": {},
   "source": [
    "**4. Проверка первого следствия теоремы Брауэра.** \n",
    "\n",
    "Для проверки первого следствия теоремы Брауэра заметим, что $ \\lim\\limits_{n \\rightarrow \\infty} \\dfrac{l \\left( n \\right)}{\\lambda \\left( n \\right)} = \\lim\\limits_{n \\rightarrow \\infty} \\dfrac{l^{*} \\left( n \\right)}{\\lambda \\left( n \\right)} = 1 $, поэтому построим график значений длин звёздных цепочек для каждого $ n \\in \\mathbb{N} $ из диапазона $ \\left[ 2; 200 \\right] $ и аппроксимирующей кривой, полученной с помощью метода наименьших квадратов:"
   ]
  },
  {
   "cell_type": "code",
   "execution_count": 10,
   "metadata": {},
   "outputs": [
    {
     "data": {
      "image/png": "[encoded data removed]",
      "text/plain": [
       "<Figure size 1080x720 with 1 Axes>"
      ]
     },
     "metadata": {
      "needs_background": "light"
     },
     "output_type": "display_data"
    }
   ],
   "source": [
    "import matplotlib.pyplot as plt\n",
    "import numpy as np\n",
    "from scipy.optimize import leastsq\n",
    "\n",
    "\n",
    "x = [i for i in range(2, 201)]\n",
    "y = [len(vectorSplitting(i)) for i in x]\n",
    "plt.figure(figsize = (15, 10))\n",
    "arr = leastsq(lambda odds, y, x: y - np.log(x) * odds[0], 1, args = (y, x))\n",
    "plt.plot(x, y, 'go',  x, np.log(x) * arr[0], 'r')\n",
    "plt.show()"
   ]
  },
  {
   "cell_type": "markdown",
   "metadata": {},
   "source": [
    "*Выводы.* Из полученного графика можно сделать вывод, что множество значений длин звёздный цепочек аппроксимируется логарифмической кривой, следовательно, $ \\lim\\limits_{n \\rightarrow \\infty} \\dfrac{l^{*} \\left( n \\right)}{\\lambda \\left( n \\right)} = 1 $, что является доказательством первого следствия теоремы Брауэра."
   ]
  },
  {
   "cell_type": "markdown",
   "metadata": {},
   "source": [
    "**5. Проверка гипотезы Шольца-Брауэра.**\n",
    "\n",
    "Для проверки гипотезы Шольца-Брауэра о том, что $ \\forall n \\in \\mathbb{N}: l^{*} ( 2^{n} - 1 ) \\leq l^{*} ( n ) + n - 1 $, построим аддитивные цепочки для $ n \\leq 10 $ и найдём их длины:"
   ]
  },
  {
   "cell_type": "code",
   "execution_count": 11,
   "metadata": {},
   "outputs": [
    {
     "data": {
      "text/html": [
       "<script type=\"math/tex\"> n = 2 </script>:"
      ],
      "text/plain": [
       "<script type=\"math/tex\"> n = 2 </script>:"
      ]
     },
     "metadata": {},
     "output_type": "display_data"
    },
    {
     "data": {
      "text/html": [
       "<script type=\"math/tex\"> \\quad l^{*} ( 2^{n} - 1 )  = 3 </script>"
      ],
      "text/plain": [
       "<script type=\"math/tex\"> \\quad l^{*} ( 2^{n} - 1 )  = 3 </script>"
      ]
     },
     "metadata": {},
     "output_type": "display_data"
    },
    {
     "data": {
      "text/html": [
       "<script type=\"math/tex\"> \\quad l^{*} ( n )  = 2 </script>"
      ],
      "text/plain": [
       "<script type=\"math/tex\"> \\quad l^{*} ( n )  = 2 </script>"
      ]
     },
     "metadata": {},
     "output_type": "display_data"
    },
    {
     "data": {
      "text/html": [
       "<script type=\"math/tex\"> n = 3 </script>:"
      ],
      "text/plain": [
       "<script type=\"math/tex\"> n = 3 </script>:"
      ]
     },
     "metadata": {},
     "output_type": "display_data"
    },
    {
     "data": {
      "text/html": [
       "<script type=\"math/tex\"> \\quad l^{*} ( 2^{n} - 1 )  = 5 </script>"
      ],
      "text/plain": [
       "<script type=\"math/tex\"> \\quad l^{*} ( 2^{n} - 1 )  = 5 </script>"
      ]
     },
     "metadata": {},
     "output_type": "display_data"
    },
    {
     "data": {
      "text/html": [
       "<script type=\"math/tex\"> \\quad l^{*} ( n )  = 3 </script>"
      ],
      "text/plain": [
       "<script type=\"math/tex\"> \\quad l^{*} ( n )  = 3 </script>"
      ]
     },
     "metadata": {},
     "output_type": "display_data"
    },
    {
     "data": {
      "text/html": [
       "<script type=\"math/tex\"> n = 4 </script>:"
      ],
      "text/plain": [
       "<script type=\"math/tex\"> n = 4 </script>:"
      ]
     },
     "metadata": {},
     "output_type": "display_data"
    },
    {
     "data": {
      "text/html": [
       "<script type=\"math/tex\"> \\quad l^{*} ( 2^{n} - 1 )  = 6 </script>"
      ],
      "text/plain": [
       "<script type=\"math/tex\"> \\quad l^{*} ( 2^{n} - 1 )  = 6 </script>"
      ]
     },
     "metadata": {},
     "output_type": "display_data"
    },
    {
     "data": {
      "text/html": [
       "<script type=\"math/tex\"> \\quad l^{*} ( n )  = 3 </script>"
      ],
      "text/plain": [
       "<script type=\"math/tex\"> \\quad l^{*} ( n )  = 3 </script>"
      ]
     },
     "metadata": {},
     "output_type": "display_data"
    },
    {
     "data": {
      "text/html": [
       "<script type=\"math/tex\"> n = 5 </script>:"
      ],
      "text/plain": [
       "<script type=\"math/tex\"> n = 5 </script>:"
      ]
     },
     "metadata": {},
     "output_type": "display_data"
    },
    {
     "data": {
      "text/html": [
       "<script type=\"math/tex\"> \\quad l^{*} ( 2^{n} - 1 )  = 8 </script>"
      ],
      "text/plain": [
       "<script type=\"math/tex\"> \\quad l^{*} ( 2^{n} - 1 )  = 8 </script>"
      ]
     },
     "metadata": {},
     "output_type": "display_data"
    },
    {
     "data": {
      "text/html": [
       "<script type=\"math/tex\"> \\quad l^{*} ( n )  = 4 </script>"
      ],
      "text/plain": [
       "<script type=\"math/tex\"> \\quad l^{*} ( n )  = 4 </script>"
      ]
     },
     "metadata": {},
     "output_type": "display_data"
    },
    {
     "data": {
      "text/html": [
       "<script type=\"math/tex\"> n = 6 </script>:"
      ],
      "text/plain": [
       "<script type=\"math/tex\"> n = 6 </script>:"
      ]
     },
     "metadata": {},
     "output_type": "display_data"
    },
    {
     "data": {
      "text/html": [
       "<script type=\"math/tex\"> \\quad l^{*} ( 2^{n} - 1 )  = 9 </script>"
      ],
      "text/plain": [
       "<script type=\"math/tex\"> \\quad l^{*} ( 2^{n} - 1 )  = 9 </script>"
      ]
     },
     "metadata": {},
     "output_type": "display_data"
    },
    {
     "data": {
      "text/html": [
       "<script type=\"math/tex\"> \\quad l^{*} ( n )  = 4 </script>"
      ],
      "text/plain": [
       "<script type=\"math/tex\"> \\quad l^{*} ( n )  = 4 </script>"
      ]
     },
     "metadata": {},
     "output_type": "display_data"
    },
    {
     "data": {
      "text/html": [
       "<script type=\"math/tex\"> n = 7 </script>:"
      ],
      "text/plain": [
       "<script type=\"math/tex\"> n = 7 </script>:"
      ]
     },
     "metadata": {},
     "output_type": "display_data"
    },
    {
     "data": {
      "text/html": [
       "<script type=\"math/tex\"> \\quad l^{*} ( 2^{n} - 1 )  = 11 </script>"
      ],
      "text/plain": [
       "<script type=\"math/tex\"> \\quad l^{*} ( 2^{n} - 1 )  = 11 </script>"
      ]
     },
     "metadata": {},
     "output_type": "display_data"
    },
    {
     "data": {
      "text/html": [
       "<script type=\"math/tex\"> \\quad l^{*} ( n )  = 5 </script>"
      ],
      "text/plain": [
       "<script type=\"math/tex\"> \\quad l^{*} ( n )  = 5 </script>"
      ]
     },
     "metadata": {},
     "output_type": "display_data"
    },
    {
     "data": {
      "text/html": [
       "<script type=\"math/tex\"> n = 8 </script>:"
      ],
      "text/plain": [
       "<script type=\"math/tex\"> n = 8 </script>:"
      ]
     },
     "metadata": {},
     "output_type": "display_data"
    },
    {
     "data": {
      "text/html": [
       "<script type=\"math/tex\"> \\quad l^{*} ( 2^{n} - 1 )  = 11 </script>"
      ],
      "text/plain": [
       "<script type=\"math/tex\"> \\quad l^{*} ( 2^{n} - 1 )  = 11 </script>"
      ]
     },
     "metadata": {},
     "output_type": "display_data"
    },
    {
     "data": {
      "text/html": [
       "<script type=\"math/tex\"> \\quad l^{*} ( n )  = 4 </script>"
      ],
      "text/plain": [
       "<script type=\"math/tex\"> \\quad l^{*} ( n )  = 4 </script>"
      ]
     },
     "metadata": {},
     "output_type": "display_data"
    },
    {
     "data": {
      "text/html": [
       "<script type=\"math/tex\"> n = 9 </script>:"
      ],
      "text/plain": [
       "<script type=\"math/tex\"> n = 9 </script>:"
      ]
     },
     "metadata": {},
     "output_type": "display_data"
    },
    {
     "data": {
      "text/html": [
       "<script type=\"math/tex\"> \\quad l^{*} ( 2^{n} - 1 )  = 13 </script>"
      ],
      "text/plain": [
       "<script type=\"math/tex\"> \\quad l^{*} ( 2^{n} - 1 )  = 13 </script>"
      ]
     },
     "metadata": {},
     "output_type": "display_data"
    },
    {
     "data": {
      "text/html": [
       "<script type=\"math/tex\"> \\quad l^{*} ( n )  = 5 </script>"
      ],
      "text/plain": [
       "<script type=\"math/tex\"> \\quad l^{*} ( n )  = 5 </script>"
      ]
     },
     "metadata": {},
     "output_type": "display_data"
    },
    {
     "data": {
      "text/html": [
       "<script type=\"math/tex\"> n = 10 </script>:"
      ],
      "text/plain": [
       "<script type=\"math/tex\"> n = 10 </script>:"
      ]
     },
     "metadata": {},
     "output_type": "display_data"
    },
    {
     "data": {
      "text/html": [
       "<script type=\"math/tex\"> \\quad l^{*} ( 2^{n} - 1 )  = 14 </script>"
      ],
      "text/plain": [
       "<script type=\"math/tex\"> \\quad l^{*} ( 2^{n} - 1 )  = 14 </script>"
      ]
     },
     "metadata": {},
     "output_type": "display_data"
    },
    {
     "data": {
      "text/html": [
       "<script type=\"math/tex\"> \\quad l^{*} ( n )  = 5 </script>"
      ],
      "text/plain": [
       "<script type=\"math/tex\"> \\quad l^{*} ( n )  = 5 </script>"
      ]
     },
     "metadata": {},
     "output_type": "display_data"
    },
    {
     "data": {
      "text/html": [
       "<script type=\"math/tex\"> l^{*} ( 2^{n} - 1 )  \\leq l^{*} ( n )  + n - 1 </script>"
      ],
      "text/plain": [
       "<script type=\"math/tex\"> l^{*} ( 2^{n} - 1 )  \\leq l^{*} ( n )  + n - 1 </script>"
      ]
     },
     "metadata": {},
     "output_type": "display_data"
    },
    {
     "data": {
      "text/html": [
       "Гипотеза Шольца-Брауэра доказана для <script type=\"math/tex\"> 1 < n \\leq 10 </script>"
      ],
      "text/plain": [
       "Гипотеза Шольца-Брауэра доказана для <script type=\"math/tex\"> 1 < n \\leq 10 </script>"
      ]
     },
     "metadata": {},
     "output_type": "display_data"
    }
   ],
   "source": [
    "x = [i for i in range(2, 11)]\n",
    "flag = True\n",
    "wrong = []\n",
    "l1str = r'l^{*} ( 2^{n} - 1 ) '\n",
    "l2str = r'l^{*} ( n ) '\n",
    "for n in x:\n",
    "    l1 = len(vectorSplitting(2 ** n - 1))\n",
    "    l2 = len(vectorSplitting(n))\n",
    "    show(html('$ n = {} $:'.format(n)))\n",
    "    show(html('$ \\\\quad {} = {} $'.format(l1str, l1)))\n",
    "    show(html('$ \\\\quad {} = {} $'.format(l2str, l2)))\n",
    "    if l1 > l2 + n - 1:\n",
    "        flag = False\n",
    "        wrong.append(n)\n",
    "if flag:\n",
    "    show(html('$ {} \\\\leq {} + n - 1 $'.format(l1str, l2str)))\n",
    "    show(html('Гипотеза Шольца-Брауэра доказана для $ 1 < n \\\\leq 10 $'))\n",
    "else:\n",
    "    show(html('Гипотеза Шольца-Брауэра не выполняется для {}'.format(', '.join(map(str, wrong)))))"
   ]
  },
  {
   "cell_type": "markdown",
   "metadata": {},
   "source": [
    "*Выводы.* Из полученных результатов можно сделать вывод, что для $ 1 < n \\leq 10 $ гипотеза Шольца-Брауэра выполняется."
   ]
  },
  {
   "cell_type": "markdown",
   "metadata": {},
   "source": [
    "**6. Модификации алгоритмов.**\n",
    "\n",
    "При использовании алгоритма Брауэра построения аддитивных цепочек можно не добавлять в результат те числа, что в цепочке уже есть. Это немного замедлит работу алгоритма, поскольку на каждой итерации придётся проверять список на наличие элемента, но это уменьшит длины некоторых цепочек, преимущественно для $ k > 2 $. Так, например, сравним обе реализации для чисел $ n = 7 $, $ 11 $, $ 22 $, $ 63 $, $ 99 $, $ 123 $ и $ 199 $:"
   ]
  },
  {
   "cell_type": "code",
   "execution_count": 12,
   "metadata": {},
   "outputs": [
    {
     "data": {
      "text/html": [
       "<center><table><tr><td> <center> <h3> n </h3> </center> </td><td> <center> <h3> k </h3> </center> </td><td> <center> <h3> Аддитивная цепочка, полученная алгоритмом Брауэра </h3> </center> </td><td> <center> <h3> Длина аддитивной цепочки </h3> </center> </td><td> <center> <h3> Аддитивная цепочка, полученная модифицированным алгоритмом Брауэра </h3> </center> </td><td> <center> <h3> Длина аддитивной цепочки </h3> </center> </td></tr><tr><td> <b> 7 </b> </td><td> <b> 1 </b> </td><td> <b> 1, 2, 3, 6, 7 </b> </td><td> <b> 5 </b> </td><td> <b> 1, 2, 3, 6, 7 </b> </td><td> <b> 5 </b> </td></tr><tr><td> <b>   </b> </td><td> <b> 2 </b> </td><td> <b> 1, 2, 3, 2, 4, 7 </b> </td><td> <b> 6 </b> </td><td> <b> 1, 2, 3, 4, 7 </b> </td><td> <b> 5 </b> </td></tr><tr><td> <b> 11 </b> </td><td> <b> 1 </b> </td><td> <b> 1, 2, 4, 5, 10, 11 </b> </td><td> <b> 6 </b> </td><td> <b> 1, 2, 4, 5, 10, 11 </b> </td><td> <b> 6 </b> </td></tr><tr><td> <b>   </b> </td><td> <b> 2 </b> </td><td> <b> 1, 2, 3, 4, 8, 11 </b> </td><td> <b> 6 </b> </td><td> <b> 1, 2, 3, 4, 8, 11 </b> </td><td> <b> 6 </b> </td></tr><tr><td> <b>   </b> </td><td> <b> 3 </b> </td><td> <b> 1, 2, 3, 2, 4, 8, 11 </b> </td><td> <b> 7 </b> </td><td> <b> 1, 2, 3, 4, 8, 11 </b> </td><td> <b> 6 </b> </td></tr><tr><td> <b> 22 </b> </td><td> <b> 1 </b> </td><td> <b> 1, 2, 4, 5, 10, 11, 22 </b> </td><td> <b> 7 </b> </td><td> <b> 1, 2, 4, 5, 10, 11, 22 </b> </td><td> <b> 7 </b> </td></tr><tr><td> <b>   </b> </td><td> <b> 2 </b> </td><td> <b> 1, 2, 2, 4, 5, 10, 20, 22 </b> </td><td> <b> 8 </b> </td><td> <b> 1, 2, 4, 5, 10, 20, 22 </b> </td><td> <b> 7 </b> </td></tr><tr><td> <b>   </b> </td><td> <b> 3 </b> </td><td> <b> 1, 2, 3, 4, 5, 6, 4, 8, 16, 22 </b> </td><td> <b> 10 </b> </td><td> <b> 1, 2, 3, 4, 5, 6, 8, 16, 22 </b> </td><td> <b> 9 </b> </td></tr><tr><td> <b>   </b> </td><td> <b> 4 </b> </td><td> <b> 1, 2, 3, 4, 5, 6, 2, 4, 8, 16, 22 </b> </td><td> <b> 11 </b> </td><td> <b> 1, 2, 3, 4, 5, 6, 8, 16, 22 </b> </td><td> <b> 9 </b> </td></tr><tr><td> <b> 63 </b> </td><td> <b> 1 </b> </td><td> <b> 1, 2, 3, 6, 7, 14, 15, 30, 31, 62, 63 </b> </td><td> <b> 11 </b> </td><td> <b> 1, 2, 3, 6, 7, 14, 15, 30, 31, 62, 63 </b> </td><td> <b> 11 </b> </td></tr><tr><td> <b>   </b> </td><td> <b> 2 </b> </td><td> <b> 1, 2, 3, 6, 12, 15, 30, 60, 63 </b> </td><td> <b> 9 </b> </td><td> <b> 1, 2, 3, 6, 12, 15, 30, 60, 63 </b> </td><td> <b> 9 </b> </td></tr><tr><td> <b>   </b> </td><td> <b> 3 </b> </td><td> <b> 1, 2, 3, 4, 5, 6, 7, 14, 28, 56, 63 </b> </td><td> <b> 11 </b> </td><td> <b> 1, 2, 3, 4, 5, 6, 7, 14, 28, 56, 63 </b> </td><td> <b> 11 </b> </td></tr><tr><td> <b>   </b> </td><td> <b> 4 </b> </td><td> <b> 1, 2, 3, 4, 5, 6, 7, 8, 9, 10, 11, 12, 13, 14, 15, 6, 12, 24, 48, 63 </b> </td><td> <b> 20 </b> </td><td> <b> 1, 2, 3, 4, 5, 6, 7, 8, 9, 10, 11, 12, 13, 14, 15, 24, 48, 63 </b> </td><td> <b> 18 </b> </td></tr><tr><td> <b>   </b> </td><td> <b> 5 </b> </td><td> <b> 1, 2, 3, 4, 5, 6, 7, 8, 9, 10, 11, 12, 13, 14, 15, 16, 17, 18, 19, 20, 21, 22, 23, 24, 25, 26, 27, 28, 29, 30, 31, 2, 4, 8, 16, 32, 63 </b> </td><td> <b> 37 </b> </td><td> <b> 1, 2, 3, 4, 5, 6, 7, 8, 9, 10, 11, 12, 13, 14, 15, 16, 17, 18, 19, 20, 21, 22, 23, 24, 25, 26, 27, 28, 29, 30, 31, 32, 63 </b> </td><td> <b> 33 </b> </td></tr><tr><td> <b> 99 </b> </td><td> <b> 1 </b> </td><td> <b> 1, 2, 3, 6, 12, 24, 48, 49, 98, 99 </b> </td><td> <b> 10 </b> </td><td> <b> 1, 2, 3, 6, 12, 24, 48, 49, 98, 99 </b> </td><td> <b> 10 </b> </td></tr><tr><td> <b>   </b> </td><td> <b> 2 </b> </td><td> <b> 1, 2, 3, 2, 4, 6, 12, 24, 48, 96, 99 </b> </td><td> <b> 11 </b> </td><td> <b> 1, 2, 3, 4, 6, 12, 24, 48, 96, 99 </b> </td><td> <b> 10 </b> </td></tr><tr><td> <b>   </b> </td><td> <b> 3 </b> </td><td> <b> 1, 2, 3, 4, 2, 4, 8, 12, 24, 48, 96, 99 </b> </td><td> <b> 12 </b> </td><td> <b> 1, 2, 3, 4, 8, 12, 24, 48, 96, 99 </b> </td><td> <b> 10 </b> </td></tr><tr><td> <b>   </b> </td><td> <b> 4 </b> </td><td> <b> 1, 2, 3, 4, 5, 6, 12, 24, 48, 96, 99 </b> </td><td> <b> 11 </b> </td><td> <b> 1, 2, 3, 4, 5, 6, 12, 24, 48, 96, 99 </b> </td><td> <b> 11 </b> </td></tr><tr><td> <b>   </b> </td><td> <b> 5 </b> </td><td> <b> 1, 2, 3, 6, 12, 24, 48, 96, 99 </b> </td><td> <b> 9 </b> </td><td> <b> 1, 2, 3, 6, 12, 24, 48, 96, 99 </b> </td><td> <b> 9 </b> </td></tr><tr><td> <b>   </b> </td><td> <b> 6 </b> </td><td> <b> 1, 2, 3, 4, 5, 6, 7, 8, 9, 10, 11, 12, 13, 14, 15, 16, 17, 18, 19, 20, 21, 22, 23, 24, 25, 26, 27, 28, 29, 30, 31, 32, 33, 34, 35, 2, 4, 8, 16, 32, 64, 99 </b> </td><td> <b> 42 </b> </td><td> <b> 1, 2, 3, 4, 5, 6, 7, 8, 9, 10, 11, 12, 13, 14, 15, 16, 17, 18, 19, 20, 21, 22, 23, 24, 25, 26, 27, 28, 29, 30, 31, 32, 33, 34, 35, 64, 99 </b> </td><td> <b> 37 </b> </td></tr><tr><td> <b> 123 </b> </td><td> <b> 1 </b> </td><td> <b> 1, 2, 3, 6, 7, 14, 15, 30, 60, 61, 122, 123 </b> </td><td> <b> 12 </b> </td><td> <b> 1, 2, 3, 6, 7, 14, 15, 30, 60, 61, 122, 123 </b> </td><td> <b> 12 </b> </td></tr><tr><td> <b>   </b> </td><td> <b> 2 </b> </td><td> <b> 1, 2, 3, 2, 4, 7, 14, 28, 30, 60, 120, 123 </b> </td><td> <b> 12 </b> </td><td> <b> 1, 2, 3, 4, 7, 14, 28, 30, 60, 120, 123 </b> </td><td> <b> 11 </b> </td></tr><tr><td> <b>   </b> </td><td> <b> 3 </b> </td><td> <b> 1, 2, 3, 4, 5, 6, 7, 2, 4, 8, 15, 30, 60, 120, 123 </b> </td><td> <b> 15 </b> </td><td> <b> 1, 2, 3, 4, 5, 6, 7, 8, 15, 30, 60, 120, 123 </b> </td><td> <b> 13 </b> </td></tr><tr><td> <b>   </b> </td><td> <b> 4 </b> </td><td> <b> 1, 2, 3, 4, 5, 6, 7, 8, 9, 10, 11, 14, 28, 56, 112, 123 </b> </td><td> <b> 16 </b> </td><td> <b> 1, 2, 3, 4, 5, 6, 7, 8, 9, 10, 11, 14, 28, 56, 112, 123 </b> </td><td> <b> 16 </b> </td></tr><tr><td> <b>   </b> </td><td> <b> 5 </b> </td><td> <b> 1, 2, 3, 4, 5, 6, 7, 8, 9, 10, 11, 12, 13, 14, 15, 16, 17, 18, 19, 20, 21, 22, 23, 24, 25, 26, 27, 6, 12, 24, 48, 96, 123 </b> </td><td> <b> 33 </b> </td><td> <b> 1, 2, 3, 4, 5, 6, 7, 8, 9, 10, 11, 12, 13, 14, 15, 16, 17, 18, 19, 20, 21, 22, 23, 24, 25, 26, 27, 48, 96, 123 </b> </td><td> <b> 30 </b> </td></tr><tr><td> <b>   </b> </td><td> <b> 6 </b> </td><td> <b> 1, 2, 3, 4, 5, 6, 7, 8, 9, 10, 11, 12, 13, 14, 15, 16, 17, 18, 19, 20, 21, 22, 23, 24, 25, 26, 27, 28, 29, 30, 31, 32, 33, 34, 35, 36, 37, 38, 39, 40, 41, 42, 43, 44, 45, 46, 47, 48, 49, 50, 51, 52, 53, 54, 55, 56, 57, 58, 59, 2, 4, 8, 16, 32, 64, 123 </b> </td><td> <b> 66 </b> </td><td> <b> 1, 2, 3, 4, 5, 6, 7, 8, 9, 10, 11, 12, 13, 14, 15, 16, 17, 18, 19, 20, 21, 22, 23, 24, 25, 26, 27, 28, 29, 30, 31, 32, 33, 34, 35, 36, 37, 38, 39, 40, 41, 42, 43, 44, 45, 46, 47, 48, 49, 50, 51, 52, 53, 54, 55, 56, 57, 58, 59, 64, 123 </b> </td><td> <b> 61 </b> </td></tr><tr><td> <b> 199 </b> </td><td> <b> 1 </b> </td><td> <b> 1, 2, 3, 6, 12, 24, 48, 49, 98, 99, 198, 199 </b> </td><td> <b> 12 </b> </td><td> <b> 1, 2, 3, 6, 12, 24, 48, 49, 98, 99, 198, 199 </b> </td><td> <b> 12 </b> </td></tr><tr><td> <b>   </b> </td><td> <b> 2 </b> </td><td> <b> 1, 2, 3, 6, 12, 24, 48, 49, 98, 196, 199 </b> </td><td> <b> 11 </b> </td><td> <b> 1, 2, 3, 6, 12, 24, 48, 49, 98, 196, 199 </b> </td><td> <b> 11 </b> </td></tr><tr><td> <b>   </b> </td><td> <b> 3 </b> </td><td> <b> 1, 2, 3, 4, 5, 6, 7, 6, 12, 24, 48, 96, 192, 199 </b> </td><td> <b> 14 </b> </td><td> <b> 1, 2, 3, 4, 5, 6, 7, 12, 24, 48, 96, 192, 199 </b> </td><td> <b> 13 </b> </td></tr><tr><td> <b>   </b> </td><td> <b> 4 </b> </td><td> <b> 1, 2, 3, 4, 5, 6, 7, 8, 9, 10, 11, 12, 24, 48, 96, 192, 199 </b> </td><td> <b> 17 </b> </td><td> <b> 1, 2, 3, 4, 5, 6, 7, 8, 9, 10, 11, 12, 24, 48, 96, 192, 199 </b> </td><td> <b> 17 </b> </td></tr><tr><td> <b>   </b> </td><td> <b> 5 </b> </td><td> <b> 1, 2, 3, 4, 5, 6, 7, 12, 24, 48, 96, 192, 199 </b> </td><td> <b> 13 </b> </td><td> <b> 1, 2, 3, 4, 5, 6, 7, 12, 24, 48, 96, 192, 199 </b> </td><td> <b> 13 </b> </td></tr><tr><td> <b>   </b> </td><td> <b> 6 </b> </td><td> <b> 1, 2, 3, 4, 5, 6, 7, 6, 12, 24, 48, 96, 192, 199 </b> </td><td> <b> 14 </b> </td><td> <b> 1, 2, 3, 4, 5, 6, 7, 12, 24, 48, 96, 192, 199 </b> </td><td> <b> 13 </b> </td></tr><tr><td> <b>   </b> </td><td> <b> 7 </b> </td><td> <b> 1, 2, 3, 4, 5, 6, 7, 8, 9, 10, 11, 12, 13, 14, 15, 16, 17, 18, 19, 20, 21, 22, 23, 24, 25, 26, 27, 28, 29, 30, 31, 32, 33, 34, 35, 36, 37, 38, 39, 40, 41, 42, 43, 44, 45, 46, 47, 48, 49, 50, 51, 52, 53, 54, 55, 56, 57, 58, 59, 60, 61, 62, 63, 64, 65, 66, 67, 68, 69, 70, 71, 2, 4, 8, 16, 32, 64, 128, 199 </b> </td><td> <b> 79 </b> </td><td> <b> 1, 2, 3, 4, 5, 6, 7, 8, 9, 10, 11, 12, 13, 14, 15, 16, 17, 18, 19, 20, 21, 22, 23, 24, 25, 26, 27, 28, 29, 30, 31, 32, 33, 34, 35, 36, 37, 38, 39, 40, 41, 42, 43, 44, 45, 46, 47, 48, 49, 50, 51, 52, 53, 54, 55, 56, 57, 58, 59, 60, 61, 62, 63, 64, 65, 66, 67, 68, 69, 70, 71, 128, 199 </b> </td><td> <b> 73 </b> </td></tr></table></center>"
      ],
      "text/plain": [
       "<IPython.core.display.HTML object>"
      ]
     },
     "metadata": {},
     "output_type": "display_data"
    }
   ],
   "source": [
    "def algorithmBrouwerModified(n, k):\n",
    "    d = 2 ** k\n",
    "    chain = []\n",
    "    if n < d:\n",
    "        for unit in range(n):\n",
    "            chain.append(unit + 1)\n",
    "    else:\n",
    "        q = n\n",
    "        ri = []\n",
    "        while q >= d:\n",
    "            r = q % d\n",
    "            ri.append(r)\n",
    "            q = q // d\n",
    "        ri.append(q)\n",
    "        ri.reverse()\n",
    "        b = max(ri)\n",
    "        for unit in range(1, b + 1):\n",
    "            chain.append(unit)\n",
    "        q = ri[0]\n",
    "        for i in range(len(ri) - 1):\n",
    "            for j in range(k):\n",
    "                q *= 2\n",
    "                if q not in chain:\n",
    "                    chain.append(q)\n",
    "            if ri[i + 1] > 0:\n",
    "                q += ri[i + 1]\n",
    "                if q not in chain:\n",
    "                    chain.append(q)\n",
    "    return chain\n",
    "\n",
    "\n",
    "nums = [7, 11, 22, 63, 99, 123, 199]\n",
    "k = 1\n",
    "result = []\n",
    "for n in nums:\n",
    "    while n >= 2 ** k:\n",
    "        chain = algorithmBrouwer(n, k)\n",
    "        modChain = algorithmBrouwerModified(n, k)\n",
    "        if k == 1:\n",
    "            result.append([n, k, ', '.join(map(str, chain)), len(chain), ', '.join(map(str, modChain)), len(modChain)])\n",
    "        else:\n",
    "            result.append([' ', k, ', '.join(map(str, chain)), len(chain), ', '.join(map(str, modChain)), len(modChain)])\n",
    "        k += 1\n",
    "    k = 1\n",
    "printTable(['n', 'k', 'Аддитивная цепочка, полученная алгоритмом Брауэра', 'Длина аддитивной цепочки', 'Аддитивная цепочка, полученная модифицированным алгоритмом Брауэра', 'Длина аддитивной цепочки'], result)"
   ]
  },
  {
   "cell_type": "markdown",
   "metadata": {},
   "source": [
    "## Выводы\n",
    "\n",
    "В ходе практической работы были сформированы представления об аддитивных цепочках, рассмотрены алгоритмы для нахождения минимальных аддитивных цепочек для заданного числа, разработаны бинарный метод, метод множителей, алгоритм Брауэра и алгоритм дробления вектора индексов.\n",
    "\n",
    "Было выяснено, что в среднем метод множителей работает за меньшее количество операций, чем бинарный метод, что метод Брауэра работает быстрее алгоритма дробления вектора индексов, однако второй гарантировано выдаёт наименьшую звёздную цепочку.\n",
    "\n",
    "Было проверено первое следствие теоремы Брауэра и доказана гипотеза Шольца-Брауэра для $ 1 < n \\leq 10 $."
   ]
  }
 ],
 "metadata": {
  "kernelspec": {
   "display_name": "SageMath 9.0",
   "language": "sage",
   "name": "sagemath"
  },
  "language_info": {
   "codemirror_mode": {
    "name": "ipython",
    "version": 3
   },
   "file_extension": ".py",
   "mimetype": "text/x-python",
   "name": "python",
   "nbconvert_exporter": "python",
   "pygments_lexer": "ipython3",
   "version": "3.8.6"
  }
 },
 "nbformat": 4,
 "nbformat_minor": 4
}
