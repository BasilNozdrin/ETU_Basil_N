{
 "cells": [
  {
   "cell_type": "markdown",
   "metadata": {},
   "source": [
    "# Практическая работа №1: Исследование алгоритмов формирования аддитивных цепочек\n",
    "\n",
    "Выполнила студентка гр. 9381 Андрух Ирина, вариант 46."
   ]
  },
  {
   "cell_type": "markdown",
   "metadata": {},
   "source": [
    "## Цель работы\n",
    "\n",
    "Сформировать представление об аддитивных цепочках, научиться составлять и применять алгоритмы для нахождения минимальных аддитивных цепочек, попрактиковаться в использовании систем компьютерной алгебры."
   ]
  },
  {
   "cell_type": "markdown",
   "metadata": {},
   "source": [
    "## Основные теоретические положения\n",
    "\n",
    "#### Бинарный метод\n",
    "\n",
    "Бинарный метод - это алгоритм быстрого возведения числа $x$ в степень $n\\in \\mathbb{N}$.\n",
    "\n",
    "Алгоритм:  \n",
    "Число $x$ представляется в двоичном виде, после чего из этого двоичного представления удаляется старшая единица. Просматривая биты от старшего к младшему, возводим $x$ в квадрат на каждой итерации, при этом если очередной бит числа равен 1, то к результату произведения прибавляем $x$. \n",
    "\n",
    "Количество операций:  \n",
    "$\\lambda(n)+\\nu(n)-1$, где $\\lambda(n)=\\lceil log_2(n) \\rceil$, а $\\nu(n)$ равно количеству единиц в двоичной записи числа $n$.\n",
    "\n",
    "#### Метод множителей\n",
    "\n",
    "Метод множителей - это алгоритм быстрого возведения числа $x$ в степень $n\\in \\mathbb{N}$.\n",
    "\n",
    "Алгоритм:  \n",
    "Производится поиск минимального простого делителя числа $n$ ($n=i \\cdot j$), где $i$ - минимальный простой делитель числа $n$). Далее при помощи бинарного метода число &x& возводится в степень $i$, после чего полученный результат $x^i=y$ возводится в степень $j$: $y^j={(x^i)}^j=x^{i\\cdot j}=x^n$. Если $n$ - простое число, то алгоритм сначала возводит число $x$ в степень $n-1$, а потом домножает на $x$.\n",
    "\n",
    "Количество операций:  \n",
    "$\\lambda(i)+\\nu(i)+\\lambda(j)+\\nu(j)-2$ (в случае, если число не простое), иначе - $\\lambda(n-1)+\\nu(n-1)$\n",
    "\n",
    "#### Аддитивные цепочки\n",
    "\n",
    "Аддитивная цепочка для некоторого числа $n\\in \\mathbb{N}$ - это последовательность натуральных чисел $\\{a_i\\}_{i=0}^m$, начинающаяся с единицы, в которой каждый последующий элемент является суммой двух любых предшествующих элементов. Эта последовательность удовлетворяет свойствам:\n",
    "1. $a_0 = 1$;\n",
    "2. $\\forall i > 0: a_i = a_j + a_k$, где $j, k < i$.\n",
    "\n",
    "Длина аддитивной цепочки $l(n)=|\\{a_i\\}_{i=0}^m|$, где $a_m = n$.\n",
    "\n",
    "$a_i=a_j+a_k$ - шаг аддитивной цепочки, $i \\in \\{1,2 \\dots m\\}$, $0\\leqslant k\\leqslant j < i$\n",
    "\n",
    "Типы шагов в аддитивной цепочке:\n",
    "1. Удвоение:  $i - 1 = k = j$;\n",
    "2. Звездный шаг: $j = i - 1$, $k \\in \\{0, \\dots, i-1\\}$;\n",
    "3. Малый шаг: $\\lambda(a_i)=\\lambda(a_{i-1})$\n",
    "\n",
    "Звездная цепочка - это аддитивная цепочка, в которая состоит только из звездных шагов.\n",
    "\n",
    "#### Алгоритм Яо\n",
    "\n",
    "Алгоритм Яо - это алгоритм для поиска аддитивной цепочки для некоторого числа $n \\in \\mathbb{N}$. Cначала фиксируются переменные $n,k \\geq 2$, после чего $n$ представляется в виде $\\sum_{i=0} a_j \\cdot 2^{ik}$, где $a_j \\neq 0$. \n",
    "\n",
    "Далее вводится функция $d(z)=\\sum_{\\forall i: a_i=z} 2^{ik}$.\n",
    "\n",
    "В начало аддитивной цепочки Яо добавляются степени двойки: $Y_k(n): 1,2,4,\\dots ,2^{\\lambda(n)}$, после чего вычисляются все значения $d(z)$, где $z \\in \\{1,2,3, \\dots ,2^k-1 \\}$ и $d(z) \\neq 0$.\n",
    "\n",
    "В таком случае число $n=\\sum_{z=1}^{2^k-1}z \\cdot d(z)$.\n",
    "\n",
    "#### Алгоритм дробления вектора индексов \n",
    "\n",
    "Алгоритм дробления вектора индексов позволяет найти минимальную звездную цепочку для некоторого числа $n \\in \\mathbb{N}$. \n",
    "\n",
    "Рассмотрим вектор индексов $\\{r_i\\}_{i=1}^q \\cup {\\{{\\rho}_j \\}}_{j=q+1}^m$, где ${\\rho}_j= \\{x: 1 \\leq x \\leq j \\}$, ${\\{r_i\\}}_{i=1}^q$ - фиксированная часть, ${\\{{\\rho}_j\\}}_{j=q+1}^m$ - изменяющаяся часть.\n",
    "\n",
    "$a_max$ достигается при векторе индексов ${\\{r_i\\}}_{i=1}^{q} \\cup \\{q+1,q+2,\\dots,m\\}$.\n",
    "\n",
    "$a_min$ достигается при векторе индексов ${\\{r_i\\}}_{i=1}^{q}\\cup\\{1,1,\\dots,1\\}$.\n",
    "\n",
    "$a_{max} = a_{q+1} \\cdot {2}^{m-q}$\n",
    "\n",
    "$a_{min} = a_{q+1}+m-q$\n",
    "\n",
    "Алгоритм:\n",
    "1. Во внешнем цикле рассматриваем аддитивные цепочки длины $m$ от значения $\\bar{l}(n)=\\lceil log_2(n) \\rceil$ до $\\underline{l}(n)=\\lambda(n)+\\nu(n)-1$, на каждой итерации выбираем $q$ ($1 \\leq q \\leq m-1$);\n",
    "2. Далее перебираем все возможные фиксированные части вектора индексов $\\{r_i\\}_{i=1}^q$ ($q!$ вариантов), для каждой строим соответствующую ей звездную цепочку, находим $a_{max}$ и ${a}_{min}$, после чего:\n",
    " 1. Если $n \\notin [a_{min},a_{max}]$, то переходим к следующему набору $\\{r_i\\}_{i=1}^q$;\n",
    " 2. Если $n\\in [a_{min},a_{max}]$, то перебираем все возможные изменяющиеся части вектора индексов ${\\{{\\rho}_j\\}}_{j=q+1}^m$ и находим $a_m$:\n",
    "  1. Если $a_m=n$, то цепочка найдена;\n",
    "  2. Если все возможные изменяющиеся части вектора индексов ${\\{{\\rho}_j\\}}_{j=q+1}^m$ исчерпаны, то переходим к следующему набору $\\{r_i\\}_{i=1}^q$;\n",
    "3. Если все наборы вектора индексов длины $m$ исчерпаны, то увеличиваем $m$ на 1.\n",
    "\n",
    "#### Теорема Брауэра\n",
    "\n",
    "Для некоторого $k<log_2(log_2(n))$ верно: $l(n)<(1+k^{-1}) \\cdot \\lceil log_2(n) \\rceil +2^{k-1}-k+2$\n",
    "\n",
    "При $k=\\lambda(\\lambda(n))-2\\lambda(\\lambda(\\lambda(n)))$ верны следующие следствия:\n",
    "1. $\\lim \\limits_{n \\to \\infty} \\frac{l(n)}{\\lambda(n)}=1$\n",
    "2. Наилучшая верхняя оценка для длины аддитивной цепочки: $\\lambda(n)(1+\\frac{1}{\\lambda(\\lambda(n))}+\\frac{o(\\lambda(\\lambda(\\lambda(n))))}{\\lambda(\\lambda(n))^2})$\n",
    "\n",
    "#### Гипотеза Шольца-Брауэра\n",
    "Пусть $l^*(n)$ - длина некоторой звёздной цепочки.\n",
    "\n",
    "Тогда для любого $n \\in \\mathbb{N}$ верно: $l^*(2^n-1)\\leq l^*(n)+n-1$"
   ]
  },
  {
   "cell_type": "markdown",
   "metadata": {},
   "source": [
    "## Постановка задачи\n",
    "Реализовать точные и приближённые алгоритмы нахождения минимальных аддитивных цепочек с использованием системы компьютерной алгебры SageMath, провести анализ алгоритмов. Полученные результаты содержательно проинтерпретировать."
   ]
  },
  {
   "cell_type": "markdown",
   "metadata": {},
   "source": [
    "## Порядок выполнения работы\n",
    "1. Применить бинарный метод и метод множителей для $x^n$, где $n⩾30$, для 2-3 значений $n$ (значения $n$ выбирается студентом самостоятельно). Сравнить количество операций для каждого метода, сделать выводы.\n",
    "2. Реализовать алгоритм Брауэра (для нечётных вариантов) или алгоритм Яо (для чётных вариантов) для вычисления приближённых аддитивных цепочек для различных чисел при варьировании параметра $k$, сопоставить длины полученных аддитивных цепочек с минимальной аддитивной цепочкой для заданного числа. Сделать выводы.\n",
    "3. Реализовать алгоритм дробления вектора индексов для нахождения минимальной звёздной цепочки для заданного числа. Протестировать алгоритм при $n>500$. Указать, сколько времени потребовалось на поиск цепочки и какая цепочка получилась. Сравнить с предыдущими методами, сделать выводы.\n",
    "4. Проверить следствие 1 теоремы Брауэра для $n=1..200$ путём построения функции $l(n)$ и аппроксимирующей кривой, полученной с помощью метода наименьших квадратов. Сопоставить функции на одном графике, сделать выводы.\n",
    "5. Проверить гипотезу Шольца–Брауэра для $1<n⩽10$ на алгоритме дробления вектора индексов. Сделать выводы.\n",
    "6. Дополнительное необязательное задание: найти и/или предложить модификации алгоритмов и привести описание модификаций. Реализовать модифицированные алгоритмы и сравнить их мощность."
   ]
  },
  {
   "cell_type": "markdown",
   "metadata": {},
   "source": [
    "## Выполнение работы\n",
    "\n"
   ]
  },
  {
   "cell_type": "markdown",
   "metadata": {},
   "source": [
    "### Бинарный метод и метод множителей  \n",
    "\n",
    "Бинарный метод возседения числа $x$ в степень $n$:"
   ]
  },
  {
   "cell_type": "code",
   "execution_count": null,
   "metadata": {},
   "outputs": [],
   "source": [
    "import time\n",
    "import math\n",
    "\n",
    "def V(n):\n",
    "    return sum(map(int, bin(n)[2:]))\n",
    "\n",
    "def lambd(n):\n",
    "    return len(bin(n)[2:])-1\n",
    "\n",
    "def bin_method(x,n):\n",
    "    if  n==1:\n",
    "        return (1,0)\n",
    "    else:\n",
    "        if n==1:\n",
    "            return (x,0)\n",
    "        \n",
    "    bin_n=bin(n)[3:]\n",
    "    operations_amount=0\n",
    "    res=x\n",
    "    \n",
    "    for bit in bin_n:\n",
    "        res=res*res\n",
    "        operations_amount=operations_amount+1\n",
    "        if bit == '1':\n",
    "            res=res*x\n",
    "            operations_amount=operations_amount+1\n",
    "    \n",
    "    return(res,operations_amount)\n",
    "\n",
    "def operations_amount_bin(n):\n",
    "    return V(n)+lambd(n)-1"
   ]
  },
  {
   "cell_type": "markdown",
   "metadata": {},
   "source": [
    "Возведение числа $x$ в степень $n$ методом множителей:  \n"
   ]
  },
  {
   "cell_type": "code",
   "execution_count": null,
   "metadata": {},
   "outputs": [],
   "source": [
    "def find_min_mult(n):\n",
    "    for i in range(2,n):\n",
    "        if n%i==0:\n",
    "            return i\n",
    "    return n\n",
    "    \n",
    "def mult_method(x,n):\n",
    "    if n==0:\n",
    "        return (1,0)\n",
    "    else:\n",
    "        if n==1:\n",
    "            return (x,0)\n",
    "    n_first=find_min_mult(n)\n",
    "    if n_first==n:\n",
    "        res=mult_method(x,n-1)\n",
    "        return(res[0]*x,res[1]+1)\n",
    "    n_second=n//n_first\n",
    "    res_first, operations_first=bin_method(x,n_first)\n",
    "    res_second, operations_second=bin_method(res_first,n_second)\n",
    "    return (res_second,operations_first+operations_second)"
   ]
  },
  {
   "cell_type": "markdown",
   "metadata": {},
   "source": [
    "Проверим работу алгоритмов для $x=2$ и $n=31,32,48,64,65,128,129$:"
   ]
  },
  {
   "cell_type": "code",
   "execution_count": null,
   "metadata": {},
   "outputs": [],
   "source": [
    "print(\"Бинарный метод, x=2:\")\n",
    "print(\"n=31, результат: {},потребовалось операций: {}\".format(*bin_method(2,31)))\n",
    "print(\"n=32, результат: {},потребовалось операций: {}\".format(*bin_method(2,32)))\n",
    "print(\"n=48, результат: {},потребовалось операций: {}\".format(*bin_method(2,48)))\n",
    "print(\"n=64, результат: {},потребовалось операций: {}\".format(*bin_method(2,64)))\n",
    "print(\"n=65, результат: {},потребовалось операций: {}\".format(*bin_method(2,65)))\n",
    "print(\"n=128, результат: {},потребовалось операций: {}\".format(*bin_method(2,128)))\n",
    "print(\"n=129, результат: {},потребовалось операций: {}\".format(*bin_method(2,129)))\n",
    "print(\"\\nМетод множителей, x=2:\")\n",
    "print(\"n=31, результат: {},потребовалось операций: {}\".format(*mult_method(2,31)))\n",
    "print(\"n=32, результат: {},потребовалось операций: {}\".format(*mult_method(2,32)))\n",
    "print(\"n=48, результат: {},потребовалось операций: {}\".format(*mult_method(2,48)))\n",
    "print(\"n=64, результат: {},потребовалось операций: {}\".format(*mult_method(2,64)))\n",
    "print(\"n=65, результат: {},потребовалось операций: {}\".format(*mult_method(2,65)))\n",
    "print(\"n=128, результат: {},потребовалось операций: {}\".format(*mult_method(2,128)))\n",
    "print(\"n=129, результат: {},потребовалось операций: {}\".format(*mult_method(2,129)))"
   ]
  },
  {
   "cell_type": "markdown",
   "metadata": {},
   "source": [
    "Ниже можно ввести свои числа:"
   ]
  },
  {
   "cell_type": "code",
   "execution_count": null,
   "metadata": {
    "scrolled": true
   },
   "outputs": [],
   "source": [
    "x,n=map(int,input(\"Значения для x и n: \").split())\n",
    "print(\"Бинарный метод:\\nрезультат: {} \\nпотребовалось операций: {} \\n\".format(*bin_method(x,n)))\n",
    "print(\"Метод множителей:\\nрезультат: {} \\nпотребовалось операций: {} \\n\".format(*mult_method(x,n)))      "
   ]
  },
  {
   "cell_type": "markdown",
   "metadata": {},
   "source": [
    "##### Возведём число х в 33 степень:  \n",
    "1) Бинарным методом:  \n",
    "$33_{10} = 100001_2$  \n",
    "$x^2, x^4, x^8, x^{16}, x^{32}, x^{33}$  \n",
    "__6 операций__  \n",
    "\n",
    "2) Методом множителей:  \n",
    "$33 = 3 * 11$, $3 = 111_2$, $11 = 1011_2$  \n",
    "$x^2, x^3 = y$  \n",
    "$y^2, y^4, y^5, y^10, y^11 = x^{3*11} = x^{33}$  \n",
    "__7 операций__  \n",
    "\n",
    "Возведём число х в 42 степень:  \n",
    "1) Бинарным методом:  \n",
    "$45_{10} = 101101_2$  \n",
    "$x^2, x^4, x^5, x^{10}, x^{11}, x^{22}, x^{44}, x^{45}$  \n",
    "__8 операций__  \n",
    "\n",
    "2) Методом множителей:  \n",
    "$45 = 3 * 3 * 5$, $3 = 11_2$, $5 = 101_2$ \n",
    "$x^2, x^3 = y$    \n",
    "$y^2, y^3 = z$   \n",
    "$z^2, z^4, z^5 = ((x^3)^3)^5 = x^{45}$  \n",
    "__7 операций__"
   ]
  },
  {
   "cell_type": "markdown",
   "metadata": {},
   "source": [
    "#### Выводы по бинарному методу и методу множителей.\n",
    "\n",
    "   В зависимости от степени по количеству операций может быть выгоднее как бинарный метод, так и метод множителей.\n",
    "   При $n = 2^k-1$ метод множителей  эффективнее бинарного метода. При $n = 2^k+1$ бинарный метод эффективнее, чем метод множителей. В остальных случаях метод множителей выполняется за такое же число операций или быстрее.\n"
   ]
  },
  {
   "cell_type": "markdown",
   "metadata": {},
   "source": [
    "### Алгоритм Яо"
   ]
  },
  {
   "cell_type": "code",
   "execution_count": null,
   "metadata": {},
   "outputs": [],
   "source": [
    "def V(n):\n",
    "    return sum(map(int, bin(n)[2:]))\n",
    "\n",
    "def lambd(n):\n",
    "    return len(bin(n)[2:])-1\n",
    "\n",
    "def second_part_chain(z,dz):\n",
    "    summ=dz\n",
    "    res=[dz]\n",
    "    bits=bin(z)[3:]\n",
    "    for bit in bits:\n",
    "        summ+=summ\n",
    "        res.append(summ)\n",
    "        if bit=='1':\n",
    "            summ+=dz\n",
    "            res.append(summ)\n",
    "    return res\n",
    "\n",
    "def d(Y,mods,z):\n",
    "    res=0\n",
    "    for i in range(len(mods)):\n",
    "        if mods[i]==z:\n",
    "            res+=2**(i*k)\n",
    "            if res not in Y:\n",
    "                Y.append(res)\n",
    "    return res\n",
    "\n",
    "def yao(n,k):\n",
    "    Y=[2**i for i in range(lambd(n)+1)] #first part chain\n",
    "    mods=[]\n",
    "    koef=2**k\n",
    "    summ_zdz=0\n",
    "    n_=n\n",
    "    while n_!=0:\n",
    "        mods.append(n_%koef)\n",
    "        n_=n_//koef\n",
    "    for z in range(1,2**k):\n",
    "        dz = d(Y,mods,z)\n",
    "        if dz!=0:\n",
    "            adds=second_part_chain(z,dz)\n",
    "            for elem in adds:\n",
    "                if elem not in Y:\n",
    "                    Y.append(elem)\n",
    "            summ_zdz=summ_zdz+adds[-1]\n",
    "            if summ_zdz not in Y:\n",
    "                Y.append(summ_zdz)\n",
    "    return Y"
   ]
  },
  {
   "cell_type": "markdown",
   "metadata": {},
   "source": [
    "Ниже реализован вывод длины аддитивной цепочки, полученной алгоритмом Яо и минимальной аддитивной цепочки для заданных n и k."
   ]
  },
  {
   "cell_type": "code",
   "execution_count": null,
   "metadata": {},
   "outputs": [],
   "source": [
    "n=int(input(\"Введите n:\"))\n",
    "k=int(input(\"Введите k:\"))\n",
    "print(\"n={}, k={}\\n\".format(n,k))\n",
    "print(\"Длина минимальной цепочки={}\\n\".format(lambd(n)+V(n)))\n",
    "print(\"Длина цепочки, полученной алгоритмом Яо={}\".format(len(yao(n,k))))\n",
    "print(\"Полученная цепочка: {}\".format(yao(n,k)))"
   ]
  },
  {
   "cell_type": "markdown",
   "metadata": {},
   "source": [
    "##### Работа алгоритма при различных введенных данных  \n",
    "\n",
    "__Введите n:17  \n",
    "Введите k:5__  \n",
    "n=17, k=5  \n",
    "\n",
    "Длина минимальной цепочки=6\n",
    "\n",
    "Длина цепочки, полученной алгоритмом Яо=6  \n",
    "Полученная цепочка: [1, 2, 4, 8, 16, 17]  \n",
    "\n",
    "\n",
    "__Введите n:13  \n",
    "Введите k:3__  \n",
    "n=13, k=3  \n",
    "\n",
    "Длина минимальной цепочки=6  \n",
    "\n",
    "Длина цепочки, полученной алгоритмом Яо=6  \n",
    "Полученная цепочка: [1, 2, 4, 8, 5, 13]\n",
    "\n",
    "\n",
    "__Введите n:13  \n",
    "Введите k:4__  \n",
    "n=13, k=4  \n",
    "\n",
    "Длина минимальной цепочки=6  \n",
    "\n",
    "Длина цепочки, полученной алгоритмом Яо=8  \n",
    "Полученная цепочка: [1, 2, 4, 8, 3, 6, 12, 13]\n",
    "\n",
    "\n",
    "__Введите n:199  \n",
    "Введите k:3__  \n",
    "n=199, k=3  \n",
    "\n",
    "Длина минимальной цепочки=12  \n",
    "\n",
    "Длина цепочки, полученной алгоритмом Яо=13  \n",
    "Полученная цепочка: [1, 2, 4, 8, 16, 32, 64, 128, 192, 3, 6, 7, 199]"
   ]
  },
  {
   "cell_type": "markdown",
   "metadata": {},
   "source": [
    "#### Вывод по алгоритму Яо  \n",
    "\n",
    "На основе выполненных тестов, некоторые из которых приведены выше, были сделаны выводы о том, что алгоритм Яо находит аддитивную цепочку минимальной длины для небольших значений $n$, однако прибольших $n$ длина полученной аддитивной цепочки отличается от минимальной. Также было замечено, что длина полученной цепочки может зависеть от значения $k$. Для некоторыхы чисел длина цепочки была больше при большем $k$."
   ]
  },
  {
   "cell_type": "markdown",
   "metadata": {},
   "source": [
    "### Алгоритм дробления вектора индексов  \n",
    "Реализация алгоритма для нахождения минимальной аддитивной цепочки для числа $n$ приведена ниже:"
   ]
  },
  {
   "cell_type": "code",
   "execution_count": null,
   "metadata": {},
   "outputs": [],
   "source": [
    "import time\n",
    " \n",
    "def inc_vector(vec, start_i=1):\n",
    "    cur_max_i = start_i + len(vec) - 1\n",
    "    for i in range(1, len(vec) + 1):\n",
    "        vec[-i] += 1\n",
    "        if vec[-i] > cur_max_i:\n",
    "            if i == len(vec):\n",
    "                vec.append(1)\n",
    "                break\n",
    "            vec[-i] = 1\n",
    "            cur_max_i -= 1\n",
    "        else:\n",
    "            break\n",
    "            \n",
    "def get_chain(r, ro):\n",
    "    q = len(r)\n",
    "    add_chain = [1]\n",
    "    for index in r:\n",
    "        add_chain.append(add_chain[-1] + add_chain[index - 1])\n",
    "    for index in ro:\n",
    "        add_chain.append(add_chain[-1] + add_chain[index - 1])\n",
    "    return add_chain\n",
    "    \n",
    "    \n",
    "def dvi(n):\n",
    "    m = int(log(n, 2))\n",
    "    l_up = m + bin(n).count('1') - 1\n",
    "    if m == log(n, 2):\n",
    "        m -= 1\n",
    "    while m <= l_up:\n",
    "        q = int(m/2)\n",
    "        if q == 0:\n",
    "            q = 1\n",
    "        r = [1 for i in range(q)]\n",
    "        while len(r) == q:\n",
    "            ro = [1 for i in range(m - q)]\n",
    "            add_chain = get_chain(r, ro)\n",
    "            if add_chain[-1] == n:\n",
    "                return add_chain\n",
    "            a_max = add_chain[q] * 2 ** (m - q)\n",
    "            a_min = add_chain[q] + m - q\n",
    "            if n < a_min or n > a_max:\n",
    "                inc_vector(r)\n",
    "                continue\n",
    "            while len(ro) == m - q:\n",
    "                add_chain = get_chain(r, ro)\n",
    "                if add_chain[-1] == n:\n",
    "                    return add_chain\n",
    "                inc_vector(ro, q + 1)\n",
    "            inc_vector(r)\n",
    "        m += 1\n",
    "    return add_chain"
   ]
  },
  {
   "cell_type": "markdown",
   "metadata": {},
   "source": [
    "Вывод результата работы алгоритма:"
   ]
  },
  {
   "cell_type": "code",
   "execution_count": 93,
   "metadata": {},
   "outputs": [
    {
     "name": "stdout",
     "output_type": "stream",
     "text": [
      "Введите n:13\n",
      "Аддитивная цепочка:[1, 2, 3, 5, 8, 13]\n",
      "\n",
      "Длина цепочки:6\n",
      "\n",
      "Время выполнения:0.002455472946166992\n",
      "\n"
     ]
    }
   ],
   "source": [
    "n=int(input(\"Введите n:\"))\n",
    "start=time.time()\n",
    "add=splitting_index_vector(n)\n",
    "end=time.time()\n",
    "print(\"Аддитивная цепочка:{}\\n\".format(add))\n",
    "print(\"Длина цепочки:{}\\n\".format(len(add)))\n",
    "print(\"Время выполнения:{}\\n\".format(end-start))"
   ]
  },
  {
   "cell_type": "markdown",
   "metadata": {},
   "source": [
    "#### Результат работы алгоритма:  \n",
    "\n",
    "__Введите n:15__  \n",
    "Аддитивная цепочка:[1, 2, 3, 5, 10, 15]\n",
    "\n",
    "Длина цепочки:6  \n",
    "\n",
    "Время выполнения:0.005204200744628906  \n",
    "\n",
    "__Введите n:48__  \n",
    "Аддитивная цепочка:[1, 2, 3, 6, 12, 24, 48]  \n",
    "\n",
    "Длина цепочки:7  \n",
    "\n",
    "Время выполнения:0.004695892333984375  \n",
    "\n",
    "__Введите n:96__\n",
    "Аддитивная цепочка:[1, 2, 3, 6, 12, 24, 48, 96]\n",
    "\n",
    "Длина цепочки:8\n",
    "\n",
    "Время выполнения:0.01770639419555664\n",
    "\n",
    "__Введите n:130__\n",
    "Аддитивная цепочка:[1, 2, 4, 8, 16, 32, 33, 65, 130]\n",
    "\n",
    "Длина цепочки:9\n",
    "\n",
    "Время выполнения:0.26942992210388184\n",
    "\n",
    "__Введите n:512__\n",
    "Аддитивная цепочка:[1, 2, 4, 8, 16, 32, 64, 128, 256, 512]\n",
    "\n",
    "Длина цепочки:10\n",
    "\n",
    "Время выполнения:0.24795889854431152"
   ]
  },
  {
   "attachments": {
    "%D1%8F%D0%BE_%D0%B4%D0%B2%D0%B8-2.png": {
     "image/png": "[encoded data removed]"
    }
   },
   "cell_type": "markdown",
   "metadata": {},
   "source": [
    "Сравнение длин аддитивных цепочек, полученных разными алгоритмами:  \n",
    "![%D1%8F%D0%BE_%D0%B4%D0%B2%D0%B8-2.png](attachment:%D1%8F%D0%BE_%D0%B4%D0%B2%D0%B8-2.png)"
   ]
  },
  {
   "cell_type": "markdown",
   "metadata": {},
   "source": [
    "#### Вывод по алгоритму дробления вектора индексов.  \n",
    "\n",
    "Алгоритм дробления индексов находит цепочки, меньшие по длине, чем алгоритм Яо. Однако вычисление данным методом цепочек для $n$>500 занимает большое количество времени(например, для 762 - 27 минут),поэтому данный алгоритм неудобен и обладает низкой эффективностью."
   ]
  },
  {
   "cell_type": "markdown",
   "metadata": {},
   "source": [
    "### Следствие 1 теоремы Брауэра."
   ]
  },
  {
   "cell_type": "markdown",
   "metadata": {},
   "source": [
    "Проверим следствие 1 теоремы Брауэра для n=1..200 путём построения функции l(n) и аппроксимирующей кривой, полученной с помощью метода наименьших квадратов.  \n",
    "Создадим массив с результатами значения для всех n 1..200 алгоритмом ДВИ.  \n",
    "После вычислим для каждого значения ln(x) и yln(x)."
   ]
  },
  {
   "cell_type": "code",
   "execution_count": 94,
   "metadata": {},
   "outputs": [],
   "source": [
    "import pylab as plt\n",
    "n = 201\n",
    "x = [i for i in range(1, n)]\n",
    "results = [len(dvi(i)) for i in range(1, n)]\n",
    "lnxi = [math.log(i, math.e) for i in range(1, n)]\n",
    "lnxi_pow2 = [pow(math.log(i, math.e),2) for i in range(1, n)]\n",
    "ylnxi = [results[i-1] * lnxi[i-1] for i in range(1, n)]"
   ]
  },
  {
   "attachments": {
    "%D1%84%D0%BE%D1%80%D0%BC%D1%83%D0%BB%D1%8B.png": {
     "image/png": "[encoded data removed]"
    }
   },
   "cell_type": "markdown",
   "metadata": {},
   "source": [
    "Результат отображения $y$ найдем по формуле $y=a+bln(x)$  \n",
    "Формулы для а и b:\n",
    "![%D1%84%D0%BE%D1%80%D0%BC%D1%83%D0%BB%D1%8B.png](attachment:%D1%84%D0%BE%D1%80%D0%BC%D1%83%D0%BB%D1%8B.png)"
   ]
  },
  {
   "cell_type": "code",
   "execution_count": 95,
   "metadata": {},
   "outputs": [
    {
     "data": {
      "image/png": "[encoded data removed]",
      "text/plain": [
       "<Figure size 720x504 with 1 Axes>"
      ]
     },
     "metadata": {
      "needs_background": "light"
     },
     "output_type": "display_data"
    }
   ],
   "source": [
    "b = (n*sum(ylnxi) - sum(results)*sum(lnxi))/(n*sum(lnxi_pow2) - sum(lnxi)*sum(lnxi))\n",
    "a = (sum(results) - b * sum(lnxi))/(n-1)\n",
    "\n",
    "y = [a + b*lnxi[i-1] for i in range(1, n)]\n",
    "\n",
    "plt.figure(figsize=(10, 7))\n",
    "plt.scatter(x, results, color = 'green', marker = '.')\n",
    "plt.plot(x, y)\n",
    "plt.show()"
   ]
  },
  {
   "cell_type": "markdown",
   "metadata": {},
   "source": [
    "#### Вывод по следствию 1 из теоремы Брауэра.  \n",
    "\n",
    "По графику видно, что график логарифма аппроксимирует найденные минимальные длины цепочек(для 1 <= n <= 200).  \n",
    "Первое следствие теоремы Брауэра справедливо: $\\lim_{x \\to \\infty} l(n)/\\lambda(n)=1$."
   ]
  },
  {
   "cell_type": "markdown",
   "metadata": {},
   "source": [
    "### Гипотеза Шольца-Брауэра."
   ]
  },
  {
   "cell_type": "markdown",
   "metadata": {},
   "source": [
    "Проверим неравенство $l*(2^n-1)<=l*(n)+n-1$ для 1<n<10 с помощью алгоритма ДВИ."
   ]
  },
  {
   "cell_type": "code",
   "execution_count": null,
   "metadata": {},
   "outputs": [
    {
     "name": "stdout",
     "output_type": "stream",
     "text": [
      "Гипотеза подтвердилась, 3<=2+2-1\n",
      "\n",
      "Гипотеза подтвердилась, 5<=3+3-1\n",
      "\n",
      "Гипотеза подтвердилась, 6<=3+4-1\n",
      "\n",
      "Гипотеза подтвердилась, 8<=4+5-1\n",
      "\n",
      "Гипотеза подтвердилась, 9<=4+6-1\n",
      "\n",
      "Гипотеза подтвердилась, 11<=5+7-1\n",
      "\n",
      "Гипотеза подтвердилась, 11<=4+8-1\n",
      "\n",
      "Гипотеза подтвердилась, 13<=5+9-1\n",
      "\n"
     ]
    }
   ],
   "source": [
    "import time\n",
    " \n",
    "def inc_vector(vec, start_i=1):\n",
    "    cur_max_i = start_i + len(vec) - 1\n",
    "    for i in range(1, len(vec) + 1):\n",
    "        vec[-i] += 1\n",
    "        if vec[-i] > cur_max_i:\n",
    "            if i == len(vec):\n",
    "                vec.append(1)\n",
    "                break\n",
    "            vec[-i] = 1\n",
    "            cur_max_i -= 1\n",
    "        else:\n",
    "            break\n",
    "            \n",
    "def get_chain(r, ro):\n",
    "    q = len(r)\n",
    "    add_chain = [1]\n",
    "    for index in r:\n",
    "        add_chain.append(add_chain[-1] + add_chain[index - 1])\n",
    "    for index in ro:\n",
    "        add_chain.append(add_chain[-1] + add_chain[index - 1])\n",
    "    return add_chain\n",
    "    \n",
    "    \n",
    "def dvi(n):\n",
    "    m = int(log(n, 2))\n",
    "    l_up = m + bin(n).count('1') - 1\n",
    "    if m == log(n, 2):\n",
    "        m -= 1\n",
    "    while m <= l_up:\n",
    "        q = int(m/2)\n",
    "        if q == 0:\n",
    "            q = 1\n",
    "        r = [1 for i in range(q)]\n",
    "        while len(r) == q:\n",
    "            ro = [1 for i in range(m - q)]\n",
    "            add_chain = get_chain(r, ro)\n",
    "            if add_chain[-1] == n:\n",
    "                return add_chain\n",
    "            a_max = add_chain[q] * 2 ** (m - q)\n",
    "            a_min = add_chain[q] + m - q\n",
    "            if n < a_min or n > a_max:\n",
    "                inc_vector(r)\n",
    "                continue\n",
    "            while len(ro) == m - q:\n",
    "                add_chain = get_chain(r, ro)\n",
    "                if add_chain[-1] == n:\n",
    "                    return add_chain\n",
    "                inc_vector(ro, q + 1)\n",
    "            inc_vector(r)\n",
    "        m += 1\n",
    "    return add_chain\n",
    "\n",
    "for n in range (2,11):\n",
    "    left=dvi(pow(2,n)-1)\n",
    "    right=dvi(n)\n",
    "    if len(left)<=len(right)+n-1:\n",
    "        print(\"Гипотеза подтвердилась, {}<={}+{}-1\\n\".format(len(left),len(right),n))\n",
    "    else:\n",
    "        print(\"Гипотеза не подтвердилась,{}>{}+{}-1\\n\".format(len(left),len(right),n))"
   ]
  },
  {
   "cell_type": "markdown",
   "metadata": {},
   "source": [
    "Результат работы:  \n",
    "Гипотеза подтвердилась, 3<=2+2-1\n",
    "\n",
    "Гипотеза подтвердилась, 5<=3+3-1\n",
    "\n",
    "Гипотеза подтвердилась, 6<=3+4-1\n",
    "\n",
    "Гипотеза подтвердилась, 8<=4+5-1\n",
    "\n",
    "Гипотеза подтвердилась, 9<=4+6-1\n",
    "\n",
    "Гипотеза подтвердилась, 11<=5+7-1\n",
    "\n",
    "Гипотеза подтвердилась, 11<=4+8-1  \n",
    "\n",
    "Гипотеза подтвердилась, 13<=5+9-1 \n",
    "\n",
    "Гипотеза подтвердилась, 14<=5+10-1"
   ]
  },
  {
   "cell_type": "markdown",
   "metadata": {},
   "source": [
    "#### Вывод по гипотезе Шольца-Брауэра.  \n",
    "Гипотеза подтвердилась для чисел $2<=n<=10$, значит для вычисления длины цепочки $l*(2^n-1)$ достаточно вычислить $l*(n)$+$n$-1."
   ]
  },
  {
   "cell_type": "markdown",
   "metadata": {},
   "source": [
    "### Вывод.  \n",
    "В процессе выполнения практической работы были изучены аддитивные цепочки . Также были реализованы алгоритмы для работы с ними, такие как  алгоритм для нахождения минимальных и приблизительных аддитивных цепочек. Была изучена зависимость минимальных длин звездных цепочек от числа. \n",
    "Также был получен навык работы в системе компьютерной алгебры SageMath.\n",
    "Реализованные алгоритмы:\n",
    "1. Бинарный метод\n",
    "2. Метод множителей \n",
    "3. Алгоритм Яо\n",
    "4. Алгоритм дробления вектора индекса\n",
    "\n",
    "Также были проверены:\n",
    "1. Первое следствие теоремы Брауэра \n",
    "2. Гипотеза Шольца-Брауэра для n=1..10"
   ]
  },
  {
   "cell_type": "code",
   "execution_count": null,
   "metadata": {},
   "outputs": [],
   "source": []
  }
 ],
 "metadata": {
  "kernelspec": {
   "display_name": "SageMath 9.2",
   "language": "sage",
   "name": "sagemath"
  },
  "language_info": {
   "codemirror_mode": {
    "name": "ipython",
    "version": 3
   },
   "file_extension": ".py",
   "mimetype": "text/x-python",
   "name": "python",
   "nbconvert_exporter": "python",
   "pygments_lexer": "ipython3",
   "version": "3.7.7"
  }
 },
 "nbformat": 4,
 "nbformat_minor": 4
}
