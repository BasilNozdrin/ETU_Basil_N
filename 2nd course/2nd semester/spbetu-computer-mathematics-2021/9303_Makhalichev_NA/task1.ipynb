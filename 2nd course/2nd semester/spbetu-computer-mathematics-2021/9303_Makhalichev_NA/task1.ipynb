{
 "cells": [
  {
   "cell_type": "markdown",
   "metadata": {},
   "source": [
    "# Практическая работа №1: Исследование алгоритмов формирования аддитивных цепочек"
   ]
  },
  {
   "cell_type": "markdown",
   "metadata": {},
   "source": [
    "## Цель работы\n",
    "Формирование представления о аддитивных цепочках, выработать умение составлять и применять алгоритмы для нахождения минимальных аддитивных цепочек для заданного числа, привить навык использования систем компьютерной алгебры для реализации алгоритмов.\n",
    "## Основные теоретические положения\n",
    "### Бинарный метод\n",
    "Бинарный метод - один из алгоритмов быстрого возведения числа $x$ в степень $n \\in \\mathbb{N}$. При использовании данного алгоритма используется двоичная запись числа $n$, начиная со второй цифры. Если очередная цифра бинарного представления числа 0, то текущий результат умножается на себя, иначе умножается на себя и на основание степени $x$.\n",
    "### Метод множителей\n",
    "Метод множителей является способом быстрого возведения числа $x$ в степень $n \\in \\mathbb{N}$. Степень $n$ раскладывается на произведение $n=i \\centerdot j$, где $i$ - наименьший простой множитель. Основание степени возводится в степень $i$, затем получившееся число возводится в степень $j$, тем самым получая искомое число ${(x^i)}^j$$=x^{i \\centerdot j}=x^n$\n",
    "### Аддитивные цепочки\n",
    "Аддитивная цепочка для числа $n \\in \\mathbb{N}$ - это последовательность натуральных чисел $1=a_0, a_1, a_2, ..., a_m=n$, где $a_i=a_j+a_k$, $k \\leqslant j < i$, $\\forall i= \\overline{1..m}$.\n",
    "\n",
    "$l(n)=m$ - минимальная длина аддитивной цепочки.\n",
    "\n",
    "Звёздной цепочкой называется аддитивная цепочка, которая состоит только из звёздных шагов ($j=i-1$).\n",
    "### Алгоритм Брауэра\n",
    "Алгоритм Брауэра - алгоритм вычисления $n$-ой степени за $log_2 n+\\frac{(1+O(1))log_2 n}{log_2 log_2 n}$ операций.\n",
    "\n",
    "Брауэровские цепочки можно задать рекуррентно для $n$, $k \\geqslant 2$:\n",
    "\n",
    "$$B_k(n)= \\begin{cases}1, 2, 3, ..., 2^k-1 \\text{, если } n < 2^k \\\\ B_k(q), 2q, 4q, 8q, ..., 2^kq, n, \\text{ если } n \\geqslant 2^k \\text{ и } q = \\lfloor \\frac{n}{2^k} \\rfloor \\end{cases}$$\n",
    "### Теорема Брауэра\n",
    "При некотором $k < log_2 log_2 n$ справедливо следующее неравенство:\n",
    "\n",
    "$$l(n)<(1+k^{-1}) \\lceil log_2(n) \\rceil +2^{k-1}-k+2$$\n",
    "\n",
    "Положим $k=\\lambda \\lambda (n)-2 \\lambda \\lambda \\lambda (n)$, то получим следующие следствия:\n",
    "\n",
    "Следствие 1: $\\lim \\limits_{n \\to \\infty} \\frac{l(n)}{\\lambda (n)} =1$\n",
    "\n",
    "Следствие 2: Одна из наилучших верхних оценок для длины аддитивной цепочки имеет следующий вид:\n",
    "$$\\lambda (n) (1+ \\frac{1}{\\lambda\\lambda (n)} + \\frac{o(\\lambda\\lambda\\lambda(n))}{(\\lambda\\lambda(n))^2})$$\n",
    "## Алгоритм дробления вектора индексов\n",
    "Алгоритм дробления вектора индексов - алгоритм нахождения минимальной звёздной цепочки для числа $n \\in \\mathbb{N}$ Данный алгоритм заключается в следующих этапах:\n",
    "1. Запуск внешнего цикла по длинам цепочек: $\\underline{l}(n) \\leqslant m \\leqslant \\overline{l}(n)$, где $\\underline{l}(n) = \\lambda (n)$, $\\overline{l}(n) = \\lambda (n) + \\nu(n) - 1$.  Возьмём $\\{r_i\\}_{i=1}^{q}$, $\\{\\rho_i\\}_{i=q+1}^{m}$ и $q$, такое что $1 \\leqslant q \\leqslant m-1$, $q \\in \\mathbb{N}$, а вектором индексов будет объединение $\\{r_i\\}_{i=1}^{q} \\cup \\{\\rho_i\\}_{i=q+1}^{m}$.\n",
    "2. Запуск внутреннего цикла перебора всех вариантов $\\{r_i\\}_{i=1}^{q}$, при этом если на очередной итерации последний элемент звёздной цепочки равен $n$, то цикл прекращается. Вводим $ a_{min}=a_{q+1}+m-q$ и $a_{max}=a_{q+1} \\centerdot 2^{m-q}$. В даннном цикле идёт проверка следующих положений:\n",
    "    1. Если $n \\notin [a_{min}, a_{max}]$, то определяем новый вектор $\\{r_i\\}_{i=1}^{q}$\n",
    "    2. Если $n \\in [a_{min}, a_{max}]$, то рассматриваем все векторы $\\{\\rho_i\\}_{i=q+1}^{m}$\n",
    "    \n",
    "## Гипотеза Шольца-Брауэра\n",
    "Гипотеза Шольца-Брауэра заключается в следующем утверждении:\n",
    "$$l^*(2^n-1) \\leqslant l^*(n)+n-1,$$\n",
    "где $l^*(n)$ - длина звёздной цепочки числа $n \\in \\mathbb{N}$\n",
    "## Постановка задачи\n",
    "Реализовать точные и приближённые алгоритмы нахождения минимальных аддитивных цепочек с использованием системы компьютерной алгебры SageMath, провести анализ алгоритмов. Полученные результаты содержательно проинтерпретировать.\n",
    "## Порядок выполнения работы\n",
    "1. Применить бинарный метод и метод множителей для $x^{n}$, где $n\\geqslant30$, для 2-3 значений $n$ (значения $n$ выбирается студентом самостоятельно). Сравнить количество операций для каждого метода, сделать выводы.\n",
    "2. Реализовать алгоритм Брауэра (для нечётных вариантов) или алгоритм Яо (для чётных вариантов) для вычисления приближённых аддитивных цепочек для различных чисел при варьировании параметра $k$, сопоставить длины полученных аддитивных цепочек с минимальной аддитивной цепочкой для заданного числа. Сделать выводы.\n",
    "3. Реализовать алгоритм дробления вектора индексов для нахождения минимальной звёздной цепочки для заданного числа. Протестировать алгоритм при $n>500$. Указать, сколько времени потребовалось на поиск цепочки и какая цепочка получилась. Сравнить с предыдущими методами, сделать выводы.\n",
    "4. Проверить следствие 1 теоремы Брауэра для $n=1..200$ путём построения функции $l(n)$ и аппроксимирующей кривой, полученной с помощью метода наименьших квадратов. Сопоставить функции на одном графике, сделать выводы.\n",
    "5. Проверить гипотезу Шольца–Брауэра для $1<n\\leqslant10$ на алгоритме дробления вектора индексов. Сделать выводы.\n",
    "6. *Дополнительное необязательное задание: найти и/или предложить модификации алгоритмов и привести описание модификаций. Реализовать модифицированные алгоритмы и сравнить их мощность.*"
   ]
  },
  {
   "cell_type": "markdown",
   "metadata": {},
   "source": [
    "## Выполнение работы\n",
    "### Реализация бинарного метода\n",
    "На вход функции передаётся основание степени и степень $n \\in \\mathbb{N}$, представленная в двоичном виде без старшего бита. Функция возвращает число, возведённое в степень, и количество операций.\n",
    "\n",
    "Код функции реализации бинарного метода:"
   ]
  },
  {
   "cell_type": "code",
   "execution_count": 63,
   "metadata": {},
   "outputs": [],
   "source": [
    "def Binary(x, n):\n",
    "    result = x\n",
    "    count = 0\n",
    "    for i in n:\n",
    "        result *= result\n",
    "        count += 1\n",
    "        if (i == '1'):\n",
    "            result *= x\n",
    "            count += 1\n",
    "    return result, count"
   ]
  },
  {
   "cell_type": "markdown",
   "metadata": {},
   "source": [
    "### Реализация метода множителей\n",
    "На вход функции передаётся основание степени и степень $n \\in \\mathbb{N}$. Функция возвращает число, возведённое в степень, и количество операций.\n",
    "\n",
    "Код функции реализации метода множителей:"
   ]
  },
  {
   "cell_type": "code",
   "execution_count": 64,
   "metadata": {},
   "outputs": [],
   "source": [
    "def Mult(x, n):\n",
    "    result = x\n",
    "    count = 0\n",
    "    mults = list(i[0] for i in list(factor(n)) for j in range(i[1]))\n",
    "    for i in mults:\n",
    "        result, count_iter = Binary(result, [j for j in bin(i)][3:])\n",
    "        count += count_iter\n",
    "    return result, count\n",
    "\n",
    "res, operations = Mult(int(15), int(30))"
   ]
  },
  {
   "cell_type": "markdown",
   "metadata": {},
   "source": [
    "Сравним количество операций, необходимых для возведения в $n \\geqslant 30$ степень чиcла $x$, бинарного метода и метода множителей:"
   ]
  },
  {
   "cell_type": "code",
   "execution_count": null,
   "metadata": {},
   "outputs": [],
   "source": [
    "res1, operations1 = Binary(15, [i for i in bin(30)][3:])\n",
    "res2, operations2 = Mult(15, 30)\n",
    "print(\"x = 15, n = 30 | Бинарный метод -\", operations1, \"| Метод множителей -\", operations2, \"| Результаты равны? -\", res1 == res2)\n",
    "res1, operations1 = Binary(13, [i for i in bin(100)][3:])\n",
    "res2, operations2 = Mult(13, 100)\n",
    "print(\"x = 13, n = 100| Бинарный метод -\", operations1, \"| Метод множителей -\", operations2, \"| Результаты равны? -\", res1 == res2)\n",
    "res1, operations1 = Binary(7, [i for i in bin(533)][3:])\n",
    "res2, operations2 = Mult(7, 533)\n",
    "print(\"x = 7, n = 533 | Бинарный метод -\", operations1, \"| Метод множителей -\", operations2, \"| Результаты равны? -\", res1 == res2)\n",
    "res1, operations1 = Binary(2, [i for i in bin(937)][3:])\n",
    "res2, operations2 = Mult(2, 937)\n",
    "print(\"x = 2, n = 937 | Бинарный метод -\", operations1, \"| Метод множителей -\", operations2, \"| Результаты равны? -\", res1 == res2)"
   ]
  },
  {
   "cell_type": "markdown",
   "metadata": {},
   "source": [
    "Сведём результаты в таблицу:\n",
    "\n",
    "$x$ | $n$ | Бинарный метод | Метод множителей \n",
    ":-: | :-: | :-: | :-:\n",
    "15  | 30  | 7   | 6\n",
    "13  | 100 | 8   | 8\n",
    "7   | 533 | 12  | 12\n",
    "2   | 937 | 14  | 14\n",
    "\n",
    "Исходя из полученных результатов можно сделать вывод, что метод множителей и бинарный метод требуют примерно одинаковое количество операций, однако в некоторых случаях (как с $n=30$) метод множителей справляется со своей задачей за меньшее количество операций."
   ]
  },
  {
   "cell_type": "markdown",
   "metadata": {},
   "source": [
    "### Реализация алгоритма Брауэра\n",
    "На вход функции передаётся $n$ - конечное число брауэровской цепочки, параметр $k$ и текущая аддитивная цепочка.\n",
    "\n",
    "Код функции реализации алгоритма Брауэра:"
   ]
  },
  {
   "cell_type": "code",
   "execution_count": 65,
   "metadata": {},
   "outputs": [],
   "source": [
    "def Brouwer(n, k, brouwer_chain):\n",
    "    if n < 2**k:\n",
    "        for i in range(1, 2 ** k):\n",
    "            if i not in brouwer_chain:\n",
    "                brouwer_chain.append(i)\n",
    "    else:\n",
    "        q = n // (2 ** k)\n",
    "        Brouwer(q, k, brouwer_chain)\n",
    "        for i in range(2, 2 ** k + 1, 2):\n",
    "            if i * q not in brouwer_chain:\n",
    "                brouwer_chain.append(i * q)\n",
    "        if n not in brouwer_chain:\n",
    "            brouwer_chain.append(n)\n",
    "    return brouwer_chain"
   ]
  },
  {
   "cell_type": "markdown",
   "metadata": {},
   "source": [
    "Сопоставим длины полученных цепочек при варьировании параметром $k$ с минимальными аддитивными цепочками:"
   ]
  },
  {
   "cell_type": "code",
   "execution_count": null,
   "metadata": {},
   "outputs": [],
   "source": [
    "chain = Brouwer(31, 2, [])\n",
    "print(\"Цепочка при n = 31, k = 2\", chain, \"| Длина =\", len(chain))\n",
    "chain = Brouwer(31, 3, [])\n",
    "print(\"Цепочка при n = 31, k = 3\", chain, \"| Длина =\", len(chain))\n",
    "chain = Brouwer(31, 4, [])\n",
    "print(\"Цепочка при n = 31, k = 4\", chain, \"| Длина =\", len(chain))\n",
    "chain = Brouwer(31, 5, [])\n",
    "print(\"Цепочка при n = 31, k = 5\", chain, \"| Длина =\", len(chain))\n",
    "chain = Brouwer(48, 2, [])\n",
    "print(\"Цепочка при n = 48, k = 2\", chain, \"| Длина =\", len(chain))\n",
    "chain = Brouwer(48, 3, [])\n",
    "print(\"Цепочка при n = 48, k = 3\", chain, \"| Длина =\", len(chain))\n",
    "chain = Brouwer(48, 4, [])\n",
    "print(\"Цепочка при n = 48, k = 4\", chain, \"| Длина =\", len(chain))\n",
    "chain = Brouwer(48, 5, [])\n",
    "print(\"Цепочка при n = 48, k = 5\", chain, \"| Длина =\", len(chain))\n",
    "chain = Brouwer(125, 2, [])\n",
    "print(\"Цепочка при n = 125, k = 2\", chain, \"| Длина =\", len(chain))\n",
    "chain = Brouwer(125, 3, [])\n",
    "print(\"Цепочка при n = 125, k = 3\", chain, \"| Длина =\", len(chain))\n",
    "chain = Brouwer(125, int(4), [])\n",
    "print(\"Цепочка при n = 125, k = 4\", chain, \"| Длина =\", len(chain))\n",
    "chain = Brouwer(125, 5, [])\n",
    "print(\"Цепочка при n = 125, k = 5\", chain, \"| Длина =\", len(chain))"
   ]
  },
  {
   "cell_type": "markdown",
   "metadata": {},
   "source": [
    "Сведём полученные результаты в таблицы:\n",
    "\n",
    "Для $n=31$\n",
    "\n",
    "$k$ | Длина получившейся цепочки | Длина минимальной цепочки\n",
    ":-: | :-: | :-:\n",
    "2   | 8   | 8\n",
    "3   | 11  | 8\n",
    "4   | 17  | 8\n",
    "5   | 31  | 8\n",
    "\n",
    "Для $n=48$\n",
    "\n",
    "$k$ | Длина получившейся цепочки | Длина минимальной цепочки\n",
    ":-: | :-: | :-:\n",
    "2   | 7   | 7\n",
    "3   | 11  | 7\n",
    "4   | 21  | 7\n",
    "5   | 33  | 7\n",
    "\n",
    "Для $n=125$\n",
    "\n",
    "$k$ | Длина получившейся цепочки | Длина минимальной цепочки\n",
    ":-: | :-: | :-:\n",
    "2   | 11  | 10\n",
    "3   | 14  | 10\n",
    "4   | 23  | 10\n",
    "5   | 43  | 10\n",
    "\n",
    "Можно сделать вывод, что с уменьшением значения параметра $k$ брауэровская цепочка приближается к минимальной по длине аддитивной цепочке."
   ]
  },
  {
   "cell_type": "markdown",
   "metadata": {},
   "source": [
    "### Реализация алгоритма дробления вектора индексов\n",
    "На вход функции передаётся $n$ - конечное число звёздной цепочки.\n",
    "\n",
    "Код функции реализации алгоритма дробления вектора индексов:"
   ]
  },
  {
   "cell_type": "code",
   "execution_count": 67,
   "metadata": {},
   "outputs": [],
   "source": [
    "def StarChain(vec):\n",
    "    star_chain = [1]\n",
    "    for i in vec:\n",
    "        star_chain.append(star_chain[-1] + star_chain[i - 1])\n",
    "    return star_chain\n",
    "\n",
    "def NewVector(vec, start, end):\n",
    "    for i in range(end, start, -1):\n",
    "        if (vec[i - start - 1] > 1):\n",
    "            vec[i - start - 1] -= 1\n",
    "            break\n",
    "        else:\n",
    "            vec[i - start - 1] = i\n",
    "    return vec\n",
    "\n",
    "def IVSplitting(n):\n",
    "    for m in range(int(math.log(n, 2)) + 1, int(math.log(n, 2)) + bin(n).count('1') + 1):\n",
    "        q = m // 2\n",
    "        r = [i for i in range(1, q + 1)]\n",
    "        ro = [i for i in range(q + 1, m)]\n",
    "        while True:\n",
    "            star_chain = StarChain(r + ro)\n",
    "            if star_chain[-1] == n:\n",
    "                return star_chain, r + ro\n",
    "            amin = star_chain[q] + m - q\n",
    "            amax = star_chain[q] * (2**(m - q))\n",
    "            if n not in range(amin, amax + 1):\n",
    "                if r == [1 for i in range(q)]:\n",
    "                    break\n",
    "                r = NewVector(r, 0, q)\n",
    "            else:\n",
    "                while True:\n",
    "                    star_chain = StarChain(r + ro)\n",
    "                    if star_chain[-1] == n:\n",
    "                        return star_chain, r + ro\n",
    "                    if ro == [1 for i in range(q + 1, m)]:\n",
    "                        break\n",
    "                    ro = NewVector(ro, q, m - 1)\n",
    "                if r == [1 for i in range(q)]:\n",
    "                    break\n",
    "                r = NewVector(r, 0, q)\n",
    "                ro = [i for i in range(q + 1, m)]\n",
    "    return star_chain, r + ro"
   ]
  },
  {
   "cell_type": "markdown",
   "metadata": {},
   "source": [
    "Протестируем алгоритм дробления вектора индексов при $n \\geqslant 500$:"
   ]
  },
  {
   "cell_type": "code",
   "execution_count": null,
   "metadata": {},
   "outputs": [],
   "source": [
    "print(\"Время работы алгоритма при n = 503:\")\n",
    "%time chain1, vector = IVSplitting(503)\n",
    "chain2 = Brouwer(503, 2, [])\n",
    "print(\"Звёздная цепочка при n = 503:\", chain1)\n",
    "print(\"Вектор индексов при n = 503:\", vector)\n",
    "print(\"Длина звёздной цепочки при n = 503 - \", len(chain1))\n",
    "print(\"Длина брауэровской цепочки при n = 503 - \", len(chain2))\n",
    "print(\"Время работы алгоритма при n = 605:\")\n",
    "%time chain1, vector = IVSplitting(605)\n",
    "chain2 = Brouwer(605, 2, [])\n",
    "print(\"Звёздная цепочка при n = 605:\", chain1)\n",
    "print(\"Вектор индексов при n = 605:\", vector)\n",
    "print(\"Длина звёздной цепочки при n = 605 - \", len(chain1))\n",
    "print(\"Длина брауэровской цепочки при n = 605 - \", len(chain2))\n",
    "print(\"Время работы алгоритма при n = 867:\")\n",
    "%time chain1, vector = IVSplitting(867)\n",
    "chain2 = Brouwer(867, 2, [])\n",
    "print(\"Звёздная цепочка при n = 867:\", chain1)\n",
    "print(\"Вектор индексов при n = 867:\", vector)\n",
    "print(\"Длина звёздной цепочки при n = 867 - \", len(chain1))\n",
    "print(\"Длина брауэровской цепочки при n = 867 - \", len(chain2))\n",
    "print(\"Время работы алгоритма при n = 901:\")\n",
    "%time chain1, vector = IVSplitting(901)\n",
    "chain2 = Brouwer(901, 2, [])\n",
    "print(\"Звёздная цепочка при n = 901:\", chain1)\n",
    "print(\"Вектор индексов при n = 901:\", vector)\n",
    "print(\"Длина звёздной цепочки при n = 901 - \", len(chain1))\n",
    "print(\"Длина брауэровской цепочки при n = 901 - \", len(chain2))"
   ]
  },
  {
   "cell_type": "markdown",
   "metadata": {},
   "source": [
    "Занесём полученные результаты в таблицe:\n",
    "\n",
    "$n$ | Время работы алгоритма | Длина звёздной цепочки | Длина брауэровской цепочки\n",
    ":-: |          :-:           |           :-:          |         :-:\n",
    "503 | 6min 15s               | 13                     | 14\n",
    "605 | 6min 10s               | 13                     | 15\n",
    "867 | 4min 38s               | 13                     | 14\n",
    "901 | 4min 10s               | 13                     | 14\n",
    "\n",
    "Несмотря на то, что алгоритм дробления вектора индексов выполняет свою задачу на намного большее время, чем алгоритм Брауэра, данный алгоритм в большинстве случаев находит аддитивную цепочку меньшей длины."
   ]
  },
  {
   "cell_type": "markdown",
   "metadata": {},
   "source": [
    "### Проверка следствия 1 теоремы Брауэра\n",
    "Построим кривую, полученную с помощью метода наименьших квадратов.\n",
    "\n",
    "Код проверки следствия 1 теоремы Брауэра:"
   ]
  },
  {
   "cell_type": "code",
   "execution_count": 69,
   "metadata": {},
   "outputs": [
    {
     "data": {
      "image/png": "[encoded data removed]",
      "text/plain": [
       "Graphics object consisting of 2 graphics primitives"
      ]
     },
     "metadata": {},
     "output_type": "display_data"
    }
   ],
   "source": [
    "n = []\n",
    "lengths = []\n",
    "points = []\n",
    "for i in range(1, 201):\n",
    "    n.append(i)\n",
    "    chain, vector = IVSplitting(i)\n",
    "    lengths.append(len(chain))\n",
    "    points.append([i, lengths[-1]])\n",
    "summ_xiyi = 0\n",
    "summ_xi = 0\n",
    "summ_yi = 0\n",
    "summ_x2 = 0\n",
    "for i in range(0, 200):\n",
    "    summ_xiyi += lengths[i] * log(n[i], 2)\n",
    "    summ_xi += log(n[i], 2)\n",
    "    summ_x2 += log(n[i], 2) ** 2\n",
    "    summ_yi += lengths[i]\n",
    "a = ((200 * summ_xiyi)-(summ_xi * summ_yi))/((200*summ_x2) - (summ_xi ** 2))\n",
    "b = (summ_yi - (a * summ_xi))/200\n",
    "graphic1 = point(points)\n",
    "graphic2 = plot(a * log(x, 2) + b, (x, 0, 200), rgbcolor=hue(0.1))\n",
    "show(graphic1 + graphic2)"
   ]
  },
  {
   "cell_type": "markdown",
   "metadata": {},
   "source": [
    "Исходя из графика можно сделать вывод, что функция $l(n)$ аппроксимируется логарифмической функцией, что подтверждает следствие 1 теоремы Брауэра."
   ]
  },
  {
   "cell_type": "markdown",
   "metadata": {},
   "source": [
    "### Проверка гипотезы Шольца-Брауэра\n",
    "Код проверки гипотезы Шольца-Брауэра для $1 < n \\leqslant 10$:"
   ]
  },
  {
   "cell_type": "code",
   "execution_count": null,
   "metadata": {},
   "outputs": [],
   "source": [
    "for i in range(2, 11):\n",
    "    chain, vector = IVSplitting((2**i) - 1)\n",
    "    l1 = len(chain)\n",
    "    chain, vector = IVSplitting(i)\n",
    "    l2 = len(chain) + i - 1\n",
    "    print (\"n =\", i, \"l(2^n-1) =\", l1, \"l(n) + n - 1 =\", l2)"
   ]
  },
  {
   "cell_type": "markdown",
   "metadata": {},
   "source": [
    "Составим таблицу из полученных результатов:\n",
    "\n",
    "$n$ | $l(n^2-1)$ | $l(n)+n-1$\n",
    ":-: | :-:        | :-: \n",
    "2   | 3          | 3\n",
    "3   | 5          | 5\n",
    "4   | 6          | 6\n",
    "5   | 8          | 8\n",
    "6   | 9          | 9\n",
    "7   | 11         | 11\n",
    "8   | 11         | 11\n",
    "9   | 13         | 13\n",
    "10  | 14         | 14\n",
    "\n"
   ]
  },
  {
   "cell_type": "markdown",
   "metadata": {},
   "source": [
    "Гипотеза Шольца-Брауэра была проверена и, как видно из таблицы, она верна для $1 < n \\leqslant 10$"
   ]
  },
  {
   "cell_type": "markdown",
   "metadata": {},
   "source": [
    "## Вывод\n",
    "Во течение выполнения лабораторной работы были исследованы и реализованы на практике такие алгоритмы возведения в степень, как бинарный метод и метод множителей, а также алгоритмы нахождения аддитивных цепочек (алгоритм Брауэра и дробления вектора индексов). Как показали результаты тестирования, метод множителей в некоторых случаях возводит в натуральную степень число за меньшее количество шагов, чем бинарный метод, а алгоритм дробления вектора индексов в большинстве случаев находит аддитивную цепочку меньшей длины, чем алгоритм Брауэра, несмотря на медленную скорость работы по сравнению со вторым алгоритмом.\n",
    "\n",
    "Было доказано следствие 1 теоремы Брауэра с помощью построения аппроксимирующей функции и проверена гипотеза Шольца-Брауэра для $1 < n \\leqslant 10$."
   ]
  }
 ],
 "metadata": {
  "kernelspec": {
   "display_name": "SageMath 9.2",
   "language": "sage",
   "name": "sagemath"
  },
  "language_info": {
   "codemirror_mode": {
    "name": "ipython",
    "version": 3
   },
   "file_extension": ".py",
   "mimetype": "text/x-python",
   "name": "python",
   "nbconvert_exporter": "python",
   "pygments_lexer": "ipython3",
   "version": "3.7.7"
  }
 },
 "nbformat": 4,
 "nbformat_minor": 4
}
