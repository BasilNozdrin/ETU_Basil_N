{
 "cells": [
  {
   "cell_type": "markdown",
   "metadata": {},
   "source": [
    "# Практическая работа №1: Исследование алгоритмов формирования аддитивных цепочек\n",
    "\n",
    "Выполнил студент гр. 9382 Кузьмин Дмитрий, вариант 77."
   ]
  },
  {
   "cell_type": "markdown",
   "metadata": {},
   "source": [
    "## Цель работы\n",
    "Формирование представления о аддитивных цепочках, выработать умение составлять и применять для нахождения минимальных аддитивных цепочек для заданного числа, привить навыки использования систем компьютерной алгебры для реализации алгоритмов."
   ]
  },
  {
   "cell_type": "markdown",
   "metadata": {},
   "source": [
    "## Основные теоретические положения\n",
    "**Аддитивная цепочка** — последовательность натуральных чисел, начинающаяся с единицы, в которой каждый последующий элемент является суммой каких-то двух предшествующих элементов.\n",
    "\n",
    "**Бинарный метод** - метод для быстрого вычисления степени $x^n$ основанный на двоичном представлении числа $n$\n",
    "\n",
    "**Метод множителей** - метод для быстрого вычисления степени $x^n$ основанный на разделении числа $n$ на множители и вычисления по отдельности $x^q$, а затем $(x^q)^p$, где $q, p$ - делители числа $n$\n",
    "\n",
    "**Цепочка Брауэра** - это аддитивная цепочка для числа $n$ вида $1,2,3, ... 2^k - 1, 2c_j, 4c_j, 8c_j, ..., 2^kc_j + c_{j - 1}, ..., 2^{2k}c_j + 2^kc_{j - 1}, 2^{2k}c_j + 2^kc_{j - 1} + c_{j-2}, ..., n$, где k - фиксированный параметр\n",
    "\n",
    "**Алгоритм Брауэра** - составляет аддитивную цепочку для числа $n$. \n",
    " \n",
    " Шаги алгоритма:\n",
    " 1. Вычисляются неполные частные $q_i$ и остатки $r_i$ при делении $n$ на $2^k$ до тех пор, пока $q_s$ не будет меньше $2^k$\n",
    " 2. Затем строится цепочка от 1 до b, где b - максимум из всех возможных остатков и последнего неполного частного $q_s$.\n",
    " 3. Далее в цепочку добавляются элементы $2q_s, 4q_s, ..., 2^kq_s$\n",
    " 4. Затем к цепочке добавляется $2(2q_s + r_s) , 4(2q_s + r_s), ..., 2^k(2q_s + r_s)$\n",
    " 5. И так далее, до тех пока последний элемент цепочки не будет равен n\n",
    " \n",
    "Алгоритм приближенный, поэтому полученная цепочка не всегда будет являться минимальной.\n",
    "\n",
    "**Теорема Брауэра** - утверждает, что при некотором $k < log_{2}(log_{2}n$) верно $l(n) < (1 + k^{-1}) \\left \\lceil{{log_{2}n}}\\right \\rceil + 2^{k - 1} - k + 2$, где $l(n)$ - минимальная длина аддитивной цепочки.\n",
    "\n",
    "**Следствие теоремы Брауэра** -  $lim_{n\\to\\infty}\\frac{l(n)}{\\lambda(n)} = 1$, где $l(n)$ - минимальная длина аддитивной цепочки, $\\lambda(n)$ - количество цифр в двоичной записи числа n, уменьшенное на 1\n",
    "\n",
    "**Звездная цепочка** - это аддитивная цепочка, состоящая из звездных шагов, то есть для каждого элемента цепочки $a_m$ верно $a_m = a_{m-1} + a_j$, где $j < m$\n",
    "\n",
    "**Алгоритм дробления вектора индексов** - данный алгоритм строит минимальную звездную цепочку для числа n путем перебора векторов индексов. Каждому вектору индексов $R = \\{r_1, r_2, r_3, ..., r_m\\}$ сопоставляется цепочка $A = \\{1, a_1 + a_{r_1}, a_1 + a_{r_2}, ..., a_{n - 1} + a_{r_m}\\}$. Длина цепочки на 1 больше, чем длина вектора индексов.\n",
    "\n",
    "**Гипотеза Шольца-Брауэра** - состоит в том, что для минимальных длин звездных цепочек $l^*(n)$ верно $l^*(2^n - 1) <= l^*(n) + n - 1$"
   ]
  },
  {
   "cell_type": "markdown",
   "metadata": {},
   "source": [
    "## Постановка задачи\n",
    "Реализовать точные и приближенные алгоритмы нахождения минимальных аддитивных цепочек и использованием системы компьютерной алгебры SageMath и провести анализ алгоритмов. Полученные результаты содержательно проинтерпретировать."
   ]
  },
  {
   "cell_type": "markdown",
   "metadata": {},
   "source": [
    "## Порядок выполнения работы\n",
    "1. Применить бинарный метод и метод множителей для $x^n$, где $n\\geq30$, для 2-3 значений $n$ (значения $n$ выбирается студентом самостоятельно). Сравнить количество операций для каждого метода, сделать выводы.\n",
    "2. Реализовать алгоритм Брауэра (для нечётных вариантов) или алгоритм Яо (для чётных вариантов) для вычисления приближённых аддитивных цепочек для различных чисел при варьировании параметра k, сопоставить длины полученных аддитивных цепочек с минимальной аддитивной цепочкой для заданного числа. Сделать выводы.\n",
    "3. Реализовать алгоритм дробления вектора индексов для нахождения минимальной звёздной цепочки для заданного числа. Протестировать алгоритм при $n>500$. Указать, сколько времени потребовалось на поиск цепочки и какая цепочка получилась. Сравнить с предыдущими методами, сделать выводы.\n",
    "4. Проверить следствие 1 теоремы Брауэра для $n=1..200$ путём построения функции $l(n)$ и аппроксимирующей кривой, полученной с помощью метода наименьших квадратов. Сопоставить функции на одном графике, сделать выводы.\n",
    "5. Проверить гипотезу Шольца–Брауэра для $1<n\\leq10$ на алгоритме дробления вектора индексов. Сделать выводы.\n",
    "6. Дополнительное необязательное задание: найти и/или предложить модификации алгоритмов и привести описание модификаций. Реализовать модифицированные алгоритмы и сравнить их мощность."
   ]
  },
  {
   "cell_type": "markdown",
   "metadata": {},
   "source": [
    "## Выполнение работы"
   ]
  },
  {
   "cell_type": "markdown",
   "metadata": {},
   "source": [
    "### 1. Вычисление степени бинарным методом и методом множителей"
   ]
  },
  {
   "cell_type": "markdown",
   "metadata": {},
   "source": [
    "#### 1.1. Бинарный метод"
   ]
  },
  {
   "cell_type": "code",
   "execution_count": 60,
   "metadata": {},
   "outputs": [
    {
     "name": "stdout",
     "output_type": "stream",
     "text": [
      "x\n",
      "x^2\n",
      "x^4\n",
      "x^8\n",
      "x^16\n",
      "x^17\n",
      "x^34\n",
      "x^35\n",
      "x^70\n",
      "x^71\n",
      "\n",
      "Result:  x^71 \n",
      "Operations: 9\n"
     ]
    }
   ],
   "source": [
    "def binaryMethod(n, x):\n",
    "    digits = n.digits(2)\n",
    "    operations = 0\n",
    "    digits.reverse()\n",
    "    digits.pop(0)\n",
    "    result = x\n",
    "    print(result)\n",
    "    for d in digits:\n",
    "        if (d == 1):\n",
    "            \n",
    "            result *= result\n",
    "            print(result)\n",
    "            result *= x\n",
    "            print(result)\n",
    "            operations += 2\n",
    "        else:\n",
    "            result *= result\n",
    "            print(result)\n",
    "            operations += 1\n",
    "            \n",
    "    return [result, operations]\n",
    "\n",
    "r = binaryMethod(71, x)\n",
    "print('\\nResult: ', r[0], '\\nOperations:', r[1])"
   ]
  },
  {
   "cell_type": "markdown",
   "metadata": {},
   "source": [
    "#### 1.2. Метод множителей"
   ]
  },
  {
   "cell_type": "code",
   "execution_count": 30,
   "metadata": {},
   "outputs": [
    {
     "name": "stdout",
     "output_type": "stream",
     "text": [
      "x\n",
      "x^2\n",
      "\n",
      "x^2\n",
      "x^4\n",
      "x^8\n",
      "x^16\n",
      "x^18\n",
      "x^36\n",
      "x^72\n",
      "x^74\n",
      "x^148\n",
      "x^150\n",
      "\n",
      "Result:  x^150 \n",
      "Operations: 10\n"
     ]
    }
   ],
   "source": [
    "def multiplyMethod(n, x):\n",
    "    prime = False\n",
    "    if (is_prime(n)):\n",
    "        prime = True\n",
    "        n -= 1  \n",
    "    i = n.factor()[0][0]\n",
    "    j = n // i\n",
    "    operations = 0\n",
    "    operations += binaryMethod(i, x)[1]\n",
    "    print()\n",
    "    result = binaryMethod(j, x^i)\n",
    "    operations += result[1]\n",
    "    res = result[0]\n",
    "    if (prime):\n",
    "        res *= x\n",
    "    return [res, operations]\n",
    "r = multiplyMethod(150, x)\n",
    "print('\\nResult: ', r[0], '\\nOperations:', r[1])"
   ]
  },
  {
   "cell_type": "markdown",
   "metadata": {},
   "source": [
    "#### 1.3. Сравнение"
   ]
  },
  {
   "cell_type": "code",
   "execution_count": 91,
   "metadata": {},
   "outputs": [
    {
     "name": "stdout",
     "output_type": "stream",
     "text": [
      "x^532 \n",
      "Binary: 11 \n",
      "Multiply: 11 \n",
      "\n",
      "x^701 \n",
      "Binary: 15 \n",
      "Multiply: 14 \n",
      "\n",
      "x^833 \n",
      "Binary: 12 \n",
      "Multiply: 15 \n",
      "\n",
      "x^511 \n",
      "Binary: 16 \n",
      "Multiply: 12 \n",
      "\n"
     ]
    }
   ],
   "source": [
    "test = [532, 701, 833, 511] \n",
    "for n in test:\n",
    "    mm = multiplyMethod(n, x)\n",
    "    bm = binaryMethod(n, x) \n",
    "    print(mm[0], '\\nBinary:', bm[1], '\\nMultiply:', mm[1], '\\n')"
   ]
  },
  {
   "cell_type": "markdown",
   "metadata": {},
   "source": [
    "#### 1.4. Вывод\n",
    "Для n = 532 оба метода вычисляют степень за одинаковое количество операций. При n = 701 метод множитилей вычисляет быстрее на одну операцию. При n = 833 бинарный метод вычисляет степень быстрее на 3 операции. При n = 511 метод множителей вычисляет степень быстрее на 4 операции"
   ]
  },
  {
   "cell_type": "markdown",
   "metadata": {},
   "source": [
    "### 2. Реализация алгоритма Брауэра"
   ]
  },
  {
   "cell_type": "markdown",
   "metadata": {},
   "source": [
    "#### 2.1. Реализация"
   ]
  },
  {
   "cell_type": "code",
   "execution_count": 32,
   "metadata": {},
   "outputs": [
    {
     "name": "stdout",
     "output_type": "stream",
     "text": [
      "N = 147  k = 3\n",
      "[1, 2, 3, 4, 8, 16, 18, 36, 72, 144, 147]\n",
      "Length: 11 \n",
      "\n",
      "N = 147  k = 2\n",
      "[1, 2, 3, 4, 8, 9, 18, 36, 36, 72, 144, 147]\n",
      "Length: 12 \n",
      "\n",
      "N = 147  k = 4\n",
      "[1, 2, 3, 4, 5, 6, 7, 8, 9, 18, 36, 72, 144, 147]\n",
      "Length: 14 \n",
      "\n",
      "N = 147  k = 6\n",
      "[1, 2, 3, 4, 5, 6, 7, 8, 9, 10, 11, 12, 13, 14, 15, 16, 17, 18, 19, 4, 8, 16, 32, 64, 128, 147]\n",
      "Length: 26 \n",
      "\n",
      "N = 585  k = 2\n",
      "[1, 2, 4, 8, 9, 18, 36, 36, 72, 144, 146, 292, 584, 585]\n",
      "Length: 14 \n",
      "\n",
      "N = 585  k = 3\n",
      "[1, 2, 4, 8, 9, 18, 36, 72, 73, 146, 292, 584, 585]\n",
      "Length: 13 \n",
      "\n",
      "N = 585  k = 5\n",
      "[1, 2, 3, 4, 5, 6, 7, 8, 9, 10, 11, 12, 13, 14, 15, 16, 17, 18, 36, 72, 144, 288, 576, 585]\n",
      "Length: 24 \n",
      "\n"
     ]
    }
   ],
   "source": [
    "def countqr(n, k):\n",
    "    d = 2^k\n",
    "    rs = [n%d]\n",
    "    qs = [n//d]\n",
    "    while qs[-1] >= d:\n",
    "        qNext = (qs[-1] // d)\n",
    "        rNext = (qs[-1] % d)\n",
    "        qs.append(qNext)\n",
    "        rs.append(rNext)\n",
    "    return [qs, rs]    \n",
    "        \n",
    "def buildChain(n,k):\n",
    "    \n",
    "    qr = countqr(n, k)\n",
    "    chain = [1]\n",
    "    \n",
    "    cur = qr[0][-1]\n",
    "    r_index = -1\n",
    "        \n",
    "    b = max(cur, max(qr[1]))\n",
    "    \n",
    "    for i in range(2, b + 1):\n",
    "            chain.append(i)\n",
    "            \n",
    "    while chain[-1] != n:\n",
    "        for i in range(1, k + 1):\n",
    "            chain.append(2^i * cur)\n",
    "        cur = 2^k * cur + qr[1][r_index]\n",
    "        chain.append(cur)\n",
    "        r_index -= 1\n",
    "    return chain  \n",
    "    \n",
    "def printChain(n, k):\n",
    "    print('N =', n, ' k =', k)\n",
    "    bChain = buildChain(n, k)\n",
    "    print(bChain)\n",
    "    print('Length:', len(bChain), '\\n')\n",
    "    \n",
    "printChain(147, 3)\n",
    "printChain(147, 2)\n",
    "printChain(147, 4)\n",
    "printChain(147, 6)\n",
    "printChain(585, 2)\n",
    "printChain(585, 3)\n",
    "printChain(585, 5)"
   ]
  },
  {
   "cell_type": "markdown",
   "metadata": {},
   "source": [
    "#### 2.2. Вывод\n",
    "Были рассмотрены аддитивные цепочки Брауэра при фиксированном n и различных k. Можно видеть, что при большом k длина цепочки увеличивается. При маленьком k близка к минимальной длине, но все равно не совпадает. Так, например, для n = 147 длина минимальной цепочки = 10, а в данном примере 11."
   ]
  },
  {
   "cell_type": "markdown",
   "metadata": {},
   "source": [
    "### 3. Реализация метода дробления вектора индексов"
   ]
  },
  {
   "cell_type": "markdown",
   "metadata": {},
   "source": [
    "#### 3.1. Реализация"
   ]
  },
  {
   "cell_type": "code",
   "execution_count": 172,
   "metadata": {},
   "outputs": [
    {
     "name": "stdout",
     "output_type": "stream",
     "text": [
      "N = 512\n",
      "[1, 2, 4, 8, 16, 32, 64, 128, 256, 384, 512]\n",
      "Length: 11\n",
      "Time spent 0.00178 s \n",
      "\n",
      "N = 540\n",
      "[1, 2, 4, 8, 16, 32, 36, 72, 144, 180, 360, 540]\n",
      "Length: 12\n",
      "Time spent 6.70592 s \n",
      "\n",
      "N = 576\n",
      "[1, 2, 4, 8, 16, 32, 64, 128, 256, 512, 544, 576]\n",
      "Length: 12\n",
      "Time spent 0.00324 s \n",
      "\n",
      "N = 585\n",
      "[1, 2, 4, 8, 16, 32, 64, 65, 130, 260, 520, 585]\n",
      "Length: 12\n",
      "Time spent 2.07218 s \n",
      "\n"
     ]
    }
   ],
   "source": [
    "from time import time\n",
    "def formChainByVector(indexVector):\n",
    "    chain = []\n",
    "    chain.append(1)\n",
    "    for r in indexVector:\n",
    "        nxtElem = chain[-1] + chain[r - 1]\n",
    "        chain.append(nxtElem)\n",
    "    return chain \n",
    "\n",
    "def decrementLastPossibleElement(v, start):\n",
    "    \n",
    "    v1 = []\n",
    "    v2 = []\n",
    "    for i in range (0, start):\n",
    "        v1.append(v[i])\n",
    "    for i in range (start, len(v)):\n",
    "        v2.append(v[i])\n",
    "       \n",
    "    eIndex = 0    \n",
    "    lastElemIndex = 0\n",
    "    for e in v:\n",
    "        if (e  != 1):\n",
    "            lastElemIndex = eIndex\n",
    "        eIndex+=1\n",
    "\n",
    "    v2[lastElemIndex - start] -= 1\n",
    "    for i in range(lastElemIndex - start + 1, len(v2)):\n",
    "        v2[i] = i + 1 + start\n",
    "    v = v1 + v2 \n",
    "    return v\n",
    "                                 \n",
    "def iterateUnfixedPart(v, fixedPartSize, m, skip=False):\n",
    "    \n",
    "    c = 0\n",
    "    if (skip):\n",
    "        if (fixedPartSize != 0):\n",
    "            v[fixedPartSize] -= 1\n",
    "        else:\n",
    "            return [False, v]   \n",
    "    while True:\n",
    "        c += 1\n",
    "        vChain = formChainByVector(v)\n",
    "        if (vChain[-1] == m):\n",
    "            return [True, vChain]\n",
    "        if v.count(1) == len(v) - fixedPartSize + 1:\n",
    "            return [False, vChain]\n",
    "        v = decrementLastPossibleElement(v, fixedPartSize)\n",
    "\n",
    "def binaryLength(n):\n",
    "    tmp = floor(log(n, 2))\n",
    "    count = n.digits(2).count(1)\n",
    "    return tmp + count - 1\n",
    "\n",
    "def findStarChain(m, fSize = 0):\n",
    "    if (fSize == 0):\n",
    "        fSize = ceil(log(m, 2).n())\n",
    "    for vSize in range(fSize, binaryLength(m) + 2):\n",
    "        v = []\n",
    "        skip = False\n",
    "        for vElem in range(1, vSize + 1):\n",
    "            v.append(vElem)    \n",
    "        minFix = 0\n",
    "        maxFix = len(v)//2\n",
    "        if (m < 10):\n",
    "            minFix = -1\n",
    "            maxFix = 1\n",
    "        for fixedPartSize in range(maxFix, minFix, -1):\n",
    "            aMin = 0\n",
    "            aMax = 10000\n",
    "            if (m > 20):\n",
    "                aMin = v[fixedPartSize - 1] + len(v) - fixedPartSize\n",
    "                aMax = v[fixedPartSize - 1]*2^(len(v) - fixedPartSize)\n",
    "            if not (m >= aMin and m <= aMax):\n",
    "                continue\n",
    "            found = iterateUnfixedPart(v, fixedPartSize, m, skip)\n",
    "            skip = True\n",
    "            if found[0]:\n",
    "                return found[1]\n",
    "            else:\n",
    "                continue\n",
    "def findChainAndTime(n):\n",
    "    print('N =', n)\n",
    "    t1 = time()            \n",
    "    chain = findStarChain(n)\n",
    "    t2 = time() - t1\n",
    "    print(chain)\n",
    "    print('Length:', len(chain))\n",
    "    print(\"Time spent {0:.5f} s\".format(t2), '\\n')\n",
    "    \n",
    "findChainAndTime(512)\n",
    "findChainAndTime(540)\n",
    "findChainAndTime(576)\n",
    "findChainAndTime(585)"
   ]
  },
  {
   "cell_type": "markdown",
   "metadata": {},
   "source": [
    "#### 3.2. Вывод\n",
    "Было рассмотрено применения алгоритма дробления векторов для нахождения звездных цепочек для чисел: 512, 540, 576, 585. Можно видеть, что время работы алгоритма неравномерно для разных n и может быть довольно большим. Однако по сравнению, например, с алгоритмом Брауэра минимальные цепочки вычисляются точно"
   ]
  },
  {
   "cell_type": "markdown",
   "metadata": {},
   "source": [
    "### 4. Проверка следствия теоремы Брауэра"
   ]
  },
  {
   "cell_type": "markdown",
   "metadata": {},
   "source": [
    "#### 4.1. Построение графика"
   ]
  },
  {
   "cell_type": "code",
   "execution_count": 58,
   "metadata": {},
   "outputs": [],
   "source": [
    "def lFunc(n):\n",
    "        if (is_prime(n)):\n",
    "            return 100000\n",
    "        q = n.factor()[0][0]\n",
    "        return minLengthOfChain(q) + minLengthOfChain(n//q)\n",
    "\n",
    "def minLengthOfChain(n):\n",
    "        if n in [1, 2, 3]:\n",
    "            return n\n",
    "        return min(minLengthOfChain(n - 1) + 1, lFunc(n) - 1)\n",
    "\n",
    "xMax = 200\n",
    "data2 = [(x, minLengthOfChain(Integer(x))) for x in range(1, xMax)]"
   ]
  },
  {
   "cell_type": "code",
   "execution_count": 174,
   "metadata": {},
   "outputs": [
    {
     "data": {
      "image/png": "[encoded data removed]",
      "text/plain": [
       "Graphics object consisting of 2 graphics primitives"
      ]
     },
     "metadata": {},
     "output_type": "display_data"
    }
   ],
   "source": [
    "var('a, b, x')\n",
    "model(x) = a * ln(x) + b\n",
    "pars2 = find_fit(data2, model, solution_dict=True)\n",
    "h(x) = model.subs(a = pars2[a], b = pars2[b])\n",
    "show(list_plot(data2, legend_label='$l(n)$') + plot(h(x), (x, 1, xMax), color='red',thickness=4))"
   ]
  },
  {
   "cell_type": "markdown",
   "metadata": {},
   "source": [
    "#### 4.2. Вывод\n",
    "Была построена аппроксимация $l(n)$ при $n$ от 1 до 200. Из графика видно, что построенная функция, иллюстрирующая поведение $ln(n)$ ведет себя также, как и логарифмическая функциия, из чего можно сделать вывод, что при $n \\to \\infty$ $l(n)$ и $\\lambda(n)$ будут эквивалентны"
   ]
  },
  {
   "cell_type": "markdown",
   "metadata": {},
   "source": [
    "### 5. Проверка гипотезы Шольца-Брауэра"
   ]
  },
  {
   "cell_type": "markdown",
   "metadata": {},
   "source": [
    "#### 5.1. Формулировка\n",
    "Гипотеза Шольца-Брауэра утверждает, что $l^*(2^n - 1) <= l^*(n) + n - 1$, где $l^*(n)$ - длина звездной аддитивной цепочки для числа $n$"
   ]
  },
  {
   "cell_type": "markdown",
   "metadata": {},
   "source": [
    "#### 5.2. Проверка"
   ]
  },
  {
   "cell_type": "code",
   "execution_count": 34,
   "metadata": {},
   "outputs": [
    {
     "name": "stdout",
     "output_type": "stream",
     "text": [
      "n = 3\n",
      "[1, 2, 3]\n",
      "Length:  3\n",
      "n = 2\n",
      "[1, 2]\n",
      "l(n) + n - 1:  3\n",
      "3 <= 3 \n",
      "\n",
      "n = 7\n",
      "[1, 2, 4, 6, 7]\n",
      "Length:  5\n",
      "n = 3\n",
      "[1, 2, 3]\n",
      "l(n) + n - 1:  5\n",
      "5 <= 5 \n",
      "\n",
      "n = 15\n",
      "[1, 2, 4, 5, 10, 15]\n",
      "Length:  6\n",
      "n = 4\n",
      "[1, 2, 4]\n",
      "l(n) + n - 1:  6\n",
      "6 <= 6 \n",
      "\n",
      "n = 31\n",
      "[1, 2, 4, 8, 10, 20, 30, 31]\n",
      "Length:  8\n",
      "n = 5\n",
      "[1, 2, 4, 5]\n",
      "l(n) + n - 1:  8\n",
      "8 <= 8 \n",
      "\n",
      "n = 63\n",
      "[1, 2, 4, 8, 16, 20, 21, 42, 63]\n",
      "Length:  9\n",
      "n = 6\n",
      "[1, 2, 4, 6]\n",
      "l(n) + n - 1:  9\n",
      "9 <= 9 \n",
      "\n",
      "n = 127\n",
      "[1, 2, 4, 8, 16, 32, 40, 42, 84, 126, 127]\n",
      "Length:  11\n",
      "n = 7\n",
      "[1, 2, 4, 6, 7]\n",
      "l(n) + n - 1:  11\n",
      "11 <= 11 \n",
      "\n",
      "n = 255\n",
      "[1, 2, 4, 8, 16, 17, 34, 68, 85, 170, 255]\n",
      "Length:  11\n",
      "n = 8\n",
      "[1, 2, 4, 8]\n",
      "l(n) + n - 1:  11\n",
      "11 <= 11 \n",
      "\n",
      "n = 511\n",
      "[1, 2, 4, 8, 16, 32, 64, 72, 73, 146, 292, 438, 511]\n",
      "Length:  13\n",
      "n = 9\n",
      "[1, 2, 4, 8, 9]\n",
      "l(n) + n - 1:  13\n",
      "13 <= 13 \n",
      "\n",
      "n = 1023\n",
      "[1, 2, 4, 8, 16, 32, 64, 68, 136, 272, 340, 341, 682, 1023]\n",
      "Length:  14\n",
      "n = 10\n",
      "[1, 2, 4, 8, 10]\n",
      "l(n) + n - 1:  14\n",
      "14 <= 14 \n",
      "\n"
     ]
    }
   ],
   "source": [
    "for n in range(2, 11):\n",
    "    chain1 = findStarChain(2^n - 1)\n",
    "    chain2 = findStarChain(Integer(n))\n",
    "    print('n =', 2^n - 1)\n",
    "    starLength1 = len(chain1)\n",
    "    print(chain1)\n",
    "    print('Length: ', starLength1)\n",
    "    print('n =', n)\n",
    "    starLength2 = len(chain2) + n - 1\n",
    "    print(chain2)\n",
    "    print('l(n) + n - 1: ', starLength2)\n",
    "    print(starLength1, '<=', starLength2, '\\n')"
   ]
  },
  {
   "cell_type": "markdown",
   "metadata": {},
   "source": [
    "#### 5.3. Вывод\n",
    "Была проведена проверка гипотезы Шольца-Брауэра. В результате для каждого значения $n$ выполнялось неравенство $l^*(2^n - 1) <= l^*(n) + n - 1$, что соответствует гипотезе"
   ]
  },
  {
   "cell_type": "markdown",
   "metadata": {},
   "source": [
    "## Общий вывод"
   ]
  },
  {
   "cell_type": "markdown",
   "metadata": {},
   "source": [
    "В результате выполнения работы были изучены принципы аддитивных цепочек. Выработаны умения составлять и применять алгоритмы для нахождения минимальных аддитивных цепочек для заданного числа. Получены навыки использования систем компьютерной алгебры для реализации алгоритмов. "
   ]
  }
 ],
 "metadata": {
  "kernelspec": {
   "display_name": "SageMath 9.2",
   "language": "sage",
   "name": "sagemath"
  },
  "language_info": {
   "codemirror_mode": {
    "name": "ipython",
    "version": 3
   },
   "file_extension": ".py",
   "mimetype": "text/x-python",
   "name": "python",
   "nbconvert_exporter": "python",
   "pygments_lexer": "ipython3",
   "version": "3.7.7"
  }
 },
 "nbformat": 4,
 "nbformat_minor": 4
}
