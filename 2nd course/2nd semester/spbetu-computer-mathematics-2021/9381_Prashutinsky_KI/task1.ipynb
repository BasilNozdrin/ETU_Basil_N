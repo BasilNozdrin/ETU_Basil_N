{
 "cells": [
  {
   "cell_type": "markdown",
   "metadata": {},
   "source": [
    "# Практическая работа №1: Исследование алгоритмов формирования аддитивных цепочек\n",
    "\n",
    "Выполнил студент гр. 9381 Прашутинский Кирилл, вариант 58."
   ]
  },
  {
   "cell_type": "markdown",
   "metadata": {},
   "source": [
    "## Цель работы\n",
    "\n",
    "Формирование представления о аддитивных цепочках, выработать умение составлять и применять алгоритмы для нахождения минимальных аддитивных цепочек для заданного числа, привить навык использования систем компьютерной алгебры для реализации алгоритмов."
   ]
  },
  {
   "cell_type": "markdown",
   "metadata": {},
   "source": [
    "## Основные теоретические положения\n",
    "\n",
    "#### Бинарный метод\n",
    "\n",
    "Бинарный метод - это алгоритм быстрого возведения числа $x$ в степень $n\\in \\mathbb{N}$.\n",
    "\n",
    "Алгоритм:  \n",
    "Число $x$ представляется в двоичном виде, после чего из этого двоичного представления удаляется старшая единица. Просматривая биты от старшего к младшему, возводим $x$ в квадрат на каждой итерации, при этом если очередной бит числа равен 1, то к результату произведения прибавляем $x$. \n",
    "\n",
    "Количество операций:  \n",
    "$\\lambda(n)+\\nu(n)-1$, где $\\lambda(n)=\\lceil log_2(n) \\rceil$, а $\\nu(n)$ равно количеству единиц в двоичной записи числа $n$.\n",
    "\n",
    "#### Метод множителей\n",
    "\n",
    "Метод множителей - это алгоритм быстрого возведения числа $x$ в степень $n\\in \\mathbb{N}$.\n",
    "\n",
    "Алгоритм:  \n",
    "Производится поиск минимального простого делителя числа $n$ ($n=i \\cdot j$), где $i$ - минимальный простой делитель числа $n$). Далее при помощи бинарного метода число &x& возводится в степень $i$, после чего полученный результат $x^i=y$ возводится в степень $j$: $y^j={(x^i)}^j=x^{i\\cdot j}=x^n$. Если $n$ - простое число, то алгоритм сначала возводит число $x$ в степень $n-1$, а потом домножает на $x$.\n",
    "\n",
    "Количество операций:  \n",
    "$\\lambda(i)+\\nu(i)+\\lambda(j)+\\nu(j)-2$ (в случае, если число не простое), иначе - $\\lambda(n-1)+\\nu(n-1)$\n",
    "\n",
    "#### Аддитивные цепочки\n",
    "\n",
    "Аддитивная цепочка для некоторого числа $n\\in \\mathbb{N}$ - это последовательность натуральных чисел $\\{a_i\\}_{i=0}^m$, начинающаяся с единицы, в которой каждый последующий элемент является суммой двух любых предшествующих элементов. Эта последовательность удовлетворяет свойствам:\n",
    "1. $a_0 = 1$;\n",
    "2. $\\forall i > 0: a_i = a_j + a_k$, где $j, k < i$.\n",
    "\n",
    "Длина аддитивной цепочки $l(n)=|\\{a_i\\}_{i=0}^m|$, где $a_m = n$.\n",
    "\n",
    "$a_i=a_j+a_k$ - шаг аддитивной цепочки, $i \\in \\{1,2 \\dots m\\}$, $0\\leqslant k\\leqslant j < i$\n",
    "\n",
    "Типы шагов в аддитивной цепочке:\n",
    "1. Удвоение:  $i - 1 = k = j$;\n",
    "2. Звездный шаг: $j = i - 1$, $k \\in \\{0, \\dots, i-1\\}$;\n",
    "3. Малый шаг: $\\lambda(a_i)=\\lambda(a_{i-1})$\n",
    "\n",
    "Звездная цепочка - это аддитивная цепочка, в которая состоит только из звездных шагов.\n",
    "\n",
    "#### Алгоритм Яо\n",
    "\n",
    "Алгоритм Яо - это алгоритм для поиска аддитивной цепочки для некоторого числа $n \\in \\mathbb{N}$. Cначала фиксируются переменные $n,k \\geq 2$, после чего $n$ представляется в виде $\\sum_{i=0} a_j \\cdot 2^{ik}$, где $a_j \\neq 0$. \n",
    "\n",
    "Далее вводится функция $d(z)=\\sum_{\\forall i: a_i=z} 2^{ik}$.\n",
    "\n",
    "В начало аддитивной цепочки Яо добавляются степени двойки: $Y_k(n): 1,2,4,\\dots ,2^{\\lambda(n)}$, после чего вычисляются все значения $d(z)$, где $z \\in \\{1,2,3, \\dots ,2^k-1 \\}$ и $d(z) \\neq 0$.\n",
    "\n",
    "В таком случае число $n=\\sum_{z=1}^{2^k-1}z \\cdot d(z)$.\n",
    "\n",
    "#### Алгоритм дробления вектора индексов \n",
    "\n",
    "Алгоритм дробления вектора индексов позволяет найти минимальную звездную цепочку для некоторого числа $n \\in \\mathbb{N}$. \n",
    "\n",
    "Рассмотрим вектор индексов $\\{r_i\\}_{i=1}^q \\cup {\\{{\\rho}_j \\}}_{j=q+1}^m$, где ${\\rho}_j= \\{x: 1 \\leq x \\leq j \\}$, ${\\{r_i\\}}_{i=1}^q$ - фиксированная часть, ${\\{{\\rho}_j\\}}_{j=q+1}^m$ - изменяющаяся часть.\n",
    "\n",
    "$a_max$ достигается при векторе индексов ${\\{r_i\\}}_{i=1}^{q} \\cup \\{q+1,q+2,\\dots,m\\}$.\n",
    "\n",
    "$a_min$ достигается при векторе индексов ${\\{r_i\\}}_{i=1}^{q}\\cup\\{1,1,\\dots,1\\}$.\n",
    "\n",
    "$a_{max} = a_{q+1} \\cdot {2}^{m-q}$\n",
    "\n",
    "$a_{min} = a_{q+1}+m-q$\n",
    "\n",
    "Алгоритм:\n",
    "1. Во внешнем цикле рассматриваем аддитивные цепочки длины $m$ от значения $\\bar{l}(n)=\\lceil log_2(n) \\rceil$ до $\\underline{l}(n)=\\lambda(n)+\\nu(n)-1$, на каждой итерации выбираем $q$ ($1 \\leq q \\leq m-1$);\n",
    "2. Далее перебираем все возможные фиксированные части вектора индексов $\\{r_i\\}_{i=1}^q$ ($q!$ вариантов), для каждой строим соответствующую ей звездную цепочку, находим $a_{max}$ и ${a}_{min}$, после чего:\n",
    " 1. Если $n \\notin [a_{min},a_{max}]$, то переходим к следующему набору $\\{r_i\\}_{i=1}^q$;\n",
    " 2. Если $n\\in [a_{min},a_{max}]$, то перебираем все возможные изменяющиеся части вектора индексов ${\\{{\\rho}_j\\}}_{j=q+1}^m$ и находим $a_m$:\n",
    "  1. Если $a_m=n$, то цепочка найдена;\n",
    "  2. Если все возможные изменяющиеся части вектора индексов ${\\{{\\rho}_j\\}}_{j=q+1}^m$ исчерпаны, то переходим к следующему набору $\\{r_i\\}_{i=1}^q$;\n",
    "3. Если все наборы вектора индексов длины $m$ исчерпаны, то увеличиваем $m$ на 1.\n",
    "\n",
    "#### Теорема Брауэра\n",
    "\n",
    "Для некоторого $k<log_2(log_2(n))$ верно: $l(n)<(1+k^{-1}) \\cdot \\lceil log_2(n) \\rceil +2^{k-1}-k+2$\n",
    "\n",
    "При $k=\\lambda(\\lambda(n))-2\\lambda(\\lambda(\\lambda(n)))$ верны следующие следствия:\n",
    "1. $\\lim \\limits_{n \\to \\infty} \\frac{l(n)}{\\lambda(n)}=1$\n",
    "2. Наилучшая верхняя оценка для длины аддитивной цепочки: $\\lambda(n)(1+\\frac{1}{\\lambda(\\lambda(n))}+\\frac{o(\\lambda(\\lambda(\\lambda(n))))}{\\lambda(\\lambda(n))^2})$\n",
    "\n",
    "#### Гипотеза Шольца-Брауэра\n",
    "Пусть $l^*(n)$ - длина некоторой звёздной цепочки.\n",
    "\n",
    "Тогда для любого $n \\in \\mathbb{N}$ верно: $l^*(2^n-1)\\leq l^*(n)+n-1$"
   ]
  },
  {
   "cell_type": "markdown",
   "metadata": {},
   "source": [
    "## Постановка задачи\n",
    "Реализовать точные и приближённые алгоритмы нахождения минимальных аддитивных цепочек с использованием системы компьютерной алгебры SageMath, провести анализ алгоритмов. Полученные результаты содержательно проинтерпретировать."
   ]
  },
  {
   "cell_type": "markdown",
   "metadata": {},
   "source": [
    "## Порядок выполнения работы\n",
    "1. Применить бинарный метод и метод множителей для $x^n$, где $n⩾30$, для 2-3 значений $n$ (значения $n$ выбирается студентом самостоятельно). Сравнить количество операций для каждого метода, сделать выводы.\n",
    "2. Реализовать алгоритм Брауэра (для нечётных вариантов) или алгоритм Яо (для чётных вариантов) для вычисления приближённых аддитивных цепочек для различных чисел при варьировании параметра $k$, сопоставить длины полученных аддитивных цепочек с минимальной аддитивной цепочкой для заданного числа. Сделать выводы.\n",
    "3. Реализовать алгоритм дробления вектора индексов для нахождения минимальной звёздной цепочки для заданного числа. Протестировать алгоритм при $n>500$. Указать, сколько времени потребовалось на поиск цепочки и какая цепочка получилась. Сравнить с предыдущими методами, сделать выводы.\n",
    "4. Проверить следствие 1 теоремы Брауэра для $n=1..200$ путём построения функции $l(n)$ и аппроксимирующей кривой, полученной с помощью метода наименьших квадратов. Сопоставить функции на одном графике, сделать выводы.\n",
    "5. Проверить гипотезу Шольца–Брауэра для $1<n⩽10$ на алгоритме дробления вектора индексов. Сделать выводы.\n",
    "6. Дополнительное необязательное задание: найти и/или предложить модификации алгоритмов и привести описание модификаций. Реализовать модифицированные алгоритмы и сравнить их мощность."
   ]
  },
  {
   "cell_type": "markdown",
   "metadata": {},
   "source": [
    "## Выполнение работы\n",
    "\n"
   ]
  },
  {
   "cell_type": "markdown",
   "metadata": {},
   "source": [
    "### Бинарный метод и метод множителей  \n",
    "\n",
    "Бинарный метод возседения числа $x$ в степень $n$:"
   ]
  },
  {
   "cell_type": "code",
   "execution_count": 4,
   "metadata": {},
   "outputs": [
    {
     "name": "stdout",
     "output_type": "stream",
     "text": [
      "Результат: 3742042951225759540014535187298779136\tколичество операций: 9\n",
      "Результат: 866590253542288183694051531743727863541126937352231440806438030493578436223913165685106824007076806656\tколичество операций: 9\n",
      "Результат: 37711171281396032013366321198900157303750656\tколичество операций: 7\n",
      "Результат: 8000\tколичество операций: 2\n"
     ]
    }
   ],
   "source": [
    "#only bynary method (1 task)\n",
    "\n",
    "def dec_to_bin(x):\n",
    "    binary = bin(x)\n",
    "    return binary[3::]\n",
    "\n",
    "def binary_method(x, Ddeg):\n",
    "    Bindec = dec_to_bin(Ddeg)\n",
    "    res = x\n",
    "    count = 0\n",
    "    for i in range(len(Bindec)):\n",
    "        if Bindec[i] == '1':\n",
    "            res *= res * x\n",
    "            count += 2\n",
    "        else:\n",
    "            res *= res\n",
    "            count += 1\n",
    "    return [res, count]\n",
    "\n",
    "print(\"Результат: {}\\tколичество операций: {}\".format(*binary_method(6, 47)))\n",
    "print(\"Результат: {}\\tколичество операций: {}\".format(*binary_method(6, 131)))\n",
    "print(\"Результат: {}\\tколичество операций: {}\".format(*binary_method(6, 56)))\n",
    "print(\"Результат: {}\\tколичество операций: {}\".format(*binary_method(20, 3)))"
   ]
  },
  {
   "cell_type": "markdown",
   "metadata": {},
   "source": [
    "Возведение числа $x$ в степень $n$ методом множителей:  \n"
   ]
  },
  {
   "cell_type": "code",
   "execution_count": 5,
   "metadata": {},
   "outputs": [],
   "source": [
    "#mul method with bynary method (1 task)\n",
    "\n",
    "def min_mult(n):\n",
    "    for i in range(2,n):\n",
    "        if n%i==0:\n",
    "            return i\n",
    "    return n\n",
    "    \n",
    "def mul_method(x,deg):\n",
    "    if deg==0:\n",
    "        return [1,0]\n",
    "    elif deg==1:\n",
    "        return [x,0]\n",
    "    deg_first=min_mult(deg)\n",
    "    if deg_first==deg:\n",
    "        res=mul_method(x,deg-1)\n",
    "        return [res[0]*x, res[1]+1]\n",
    "    deg_second=deg//deg_first\n",
    "    res_first, operations_first = binary_method(x,deg_first)\n",
    "    res_second, operations_second = binary_method(res_first,deg_second)\n",
    "    return [res_second,operations_first+operations_second]\n",
    "\n"
   ]
  },
  {
   "cell_type": "markdown",
   "metadata": {},
   "source": [
    "Проверим работу алгоритмов для $x=2$ и $n=22,32,49,64,65,128,129$:"
   ]
  },
  {
   "cell_type": "code",
   "execution_count": null,
   "metadata": {},
   "outputs": [],
   "source": [
    "print(\"Бинарный метод, x=2:\")\n",
    "print(\"n=22, результат: {}, потребовалось операций: {}\".format(*binary_method(2,22)))\n",
    "print(\"n=32, результат: {}, потребовалось операций: {}\".format(*binary_method(2,32)))\n",
    "print(\"n=49, результат: {}, потребовалось операций: {}\".format(*binary_method(2,49)))\n",
    "print(\"n=64, результат: {}, потребовалось операций: {}\".format(*binary_method(2,64)))\n",
    "print(\"n=65, результат: {}, потребовалось операций: {}\".format(*binary_method(2,65)))\n",
    "print(\"n=128, результат: {}, потребовалось операций: {}\".format(*binary_method(2,128)))\n",
    "print(\"n=129, результат: {}, потребовалось операций: {}\".format(*binary_method(2,129)))\n",
    "print(\"\\nМетод множителей, x=2:\")\n",
    "print(\"n=22, результат: {}, потребовалось операций: {}\".format(*mul_method(2,22)))\n",
    "print(\"n=32, результат: {}, потребовалось операций: {}\".format(*mul_method(2,32)))\n",
    "print(\"n=49, результат: {}, потребовалось операций: {}\".format(*mul_method(2,49)))\n",
    "print(\"n=64, результат: {}, потребовалось операций: {}\".format(*mul_method(2,64)))\n",
    "print(\"n=65, результат: {}, потребовалось операций: {}\".format(*mul_method(2,65)))\n",
    "print(\"n=128, результат: {}, потребовалось операций: {}\".format(*mul_method(2,128)))\n",
    "print(\"n=129, результат: {}, потребовалось операций: {}\".format(*mul_method(2,129)))"
   ]
  },
  {
   "cell_type": "markdown",
   "metadata": {},
   "source": [
    "#### Выводы по бинарному методу и методу множителей.\n",
    "\n",
    "   В зависимости от степени по количеству операций может быть выгоднее как бинарный метод, так и метод множителей.\n",
    "   При $n = 2^k-1$ метод множителей  эффективнее бинарного метода. При $n = 2^k+1$ бинарный метод эффективнее, чем метод множителей. В остальных случаях метод множителей выполняется за такое же число операций или быстрее.\n"
   ]
  },
  {
   "cell_type": "markdown",
   "metadata": {},
   "source": [
    "### Алгоритм Яо"
   ]
  },
  {
   "cell_type": "code",
   "execution_count": 8,
   "metadata": {},
   "outputs": [],
   "source": [
    "def LenMin(n):\n",
    "    return sum(map(int, bin(n)[2:])) + len(bin(n)[2:]) - 1\n",
    "\n",
    "\n",
    "def yao(n, k):\n",
    "    YaoReturn = [2 ** i for i in range(len(bin(n)[2:]))]  # first part chain\n",
    "    mods = []\n",
    "    koef = 2 ** k\n",
    "    ZsummDZ = 0\n",
    "    dn = n\n",
    "    while dn != 0:\n",
    "        mods.append(dn % koef)\n",
    "        dn = dn // koef\n",
    "    for z in range(1, 2 ** k):\n",
    "        # dz = d(Y,mods,z)\n",
    "\n",
    "        res = 0\n",
    "        for i in range(len(mods)):\n",
    "            if mods[i] == z:\n",
    "                res += 2 ** (i * k)\n",
    "                if res not in YaoReturn:\n",
    "                    YaoReturn.append(res)\n",
    "        dz = res\n",
    "\n",
    "        if dz != 0:\n",
    "            summ = dz\n",
    "            r = [dz]\n",
    "            bits = bin(z)[3:]\n",
    "            for bit in bits:\n",
    "                summ *= 2\n",
    "                r.append(summ)\n",
    "                if bit == '1':\n",
    "                    summ += dz\n",
    "                    r.append(summ)\n",
    "            adds = r\n",
    "\n",
    "            for elem in adds:\n",
    "                if elem not in YaoReturn:\n",
    "                    YaoReturn.append(elem)\n",
    "            ZsummDZ = ZsummDZ + adds[-1]\n",
    "            if ZsummDZ not in YaoReturn:\n",
    "                YaoReturn.append(ZsummDZ)\n",
    "    return YaoReturn"
   ]
  },
  {
   "cell_type": "markdown",
   "metadata": {},
   "source": [
    "Ниже реализован вывод длины аддитивной цепочки, полученной алгоритмом Яо и минимальной аддитивной цепочки для заданных n и k."
   ]
  },
  {
   "cell_type": "code",
   "execution_count": 12,
   "metadata": {},
   "outputs": [
    {
     "name": "stdout",
     "output_type": "stream",
     "text": [
      "Введите n:123\n",
      "Введите k:4\n",
      "Длина минимальной цепочки = 12\n",
      "Длина цепочки Яо = 14\n",
      "Цепочка: [1, 2, 4, 8, 16, 32, 64, 48, 96, 112, 5, 10, 11, 123]\n"
     ]
    }
   ],
   "source": [
    "n = int(input(\"Введите n:\"))\n",
    "k = int(input(\"Введите k:\"))\n",
    "print(f\"Длина минимальной цепочки = {LenMin(n)}\")\n",
    "print(f\"Длина цепочки Яо = {len(yao(n, k))}\")\n",
    "print(f\"Цепочка: {format(yao(n, k))}\")"
   ]
  },
  {
   "cell_type": "markdown",
   "metadata": {},
   "source": [
    "##### Работа алгоритма при различных введенных данных  \n",
    "\n",
    "__Введите n:4561\n",
    "Введите k:3__\n",
    "Длина минимальной цепочки = 18\n",
    "Длина цепочки Яо = 19\n",
    "Цепочка: [1, 2, 4, 8, 16, 32, 64, 128, 256, 512, 1024, 2048, 4096, 4097, 4113, 192, 384, 448, 4561]\n",
    "\n",
    "\n",
    "__Введите n:49984\n",
    "Введите k:2__\n",
    "Длина минимальной цепочки = 20\n",
    "Длина цепочки Яо = 20\n",
    "Цепочка: [1, 2, 4, 8, 16, 32, 64, 128, 256, 512, 1024, 2048, 4096, 8192, 16384, 32768, 16640, 33280, 49920, 49984]\n",
    "\n",
    "\n",
    "__Введите n:123\n",
    "Введите k:4__  \n",
    "Длина минимальной цепочки = 12\n",
    "Длина цепочки Яо = 14\n",
    "Цепочка: [1, 2, 4, 8, 16, 32, 64, 48, 96, 112, 5, 10, 11, 123]"
   ]
  },
  {
   "cell_type": "markdown",
   "metadata": {},
   "source": [
    "#### Вывод по алгоритму Яо  \n",
    "\n",
    "На основе выполненных тестов, некоторые из которых приведены выше, были сделаны выводы о том, что алгоритм Яо находит аддитивную цепочку минимальной длины для небольших значений $n$, однако прибольших $n$ длина полученной аддитивной цепочки отличается от минимальной. Также было замечено, что длина полученной цепочки может зависеть от значения $k$. Для некоторыхы чисел длина цепочки была больше при большем $k$."
   ]
  },
  {
   "cell_type": "markdown",
   "metadata": {},
   "source": [
    "### Алгоритм дробления вектора индексов  \n",
    "Реализация алгоритма для нахождения минимальной аддитивной цепочки для числа $n$ приведена ниже:"
   ]
  },
  {
   "cell_type": "code",
   "execution_count": null,
   "metadata": {},
   "outputs": [],
   "source": [
    "import math\n",
    "import time\n",
    "\n",
    "def decRi(ri, q = 1):\n",
    "    m = q + len(ri) - 1\n",
    "    for i in range(1, len(ri) + 1):\n",
    "        if ri[-i] == 1:\n",
    "            if i == len(ri):\n",
    "                ri.append(1)\n",
    "                for j in range(len(ri)):\n",
    "                    ri[j] = j + q\n",
    "                break\n",
    "            ri[-i] = m\n",
    "            m -= 1\n",
    "        else:\n",
    "            ri[-i] -= 1\n",
    "            break\n",
    "\n",
    "def buildStarChain(ri):\n",
    "    starChain = [1]\n",
    "    for i in ri:\n",
    "        starChain.append(starChain[-1] + starChain[i - 1])\n",
    "    return starChain\n",
    "    \n",
    "def findMinStarChain (n):\n",
    "    downBorder = int(math.log2(n))\n",
    "    upBorder = int(log(n, 2) + bin(n).count('1') - 1)\n",
    "    \n",
    "    for m in range(downBorder, upBorder + 1):\n",
    "        q = m // 2\n",
    "        \n",
    "        if q == 0:\n",
    "            q = 1\n",
    "        \n",
    "        ri = [i for i in range(1, q + 1)]\n",
    "                \n",
    "        while (len(ri) == q):\n",
    "            _ri = [i + q for i in range (1, m - q + 1)]\n",
    "            chain = buildStarChain(ri)\n",
    "            \n",
    "            Amax = chain[-1] * 2 ** (m - q)\n",
    "            Amin = chain[-1] + m - q\n",
    "            \n",
    "            if Amin == n:\n",
    "                return buildStarChain(ri + [1 for i in range(1, m - q + 1)])\n",
    "            if Amax == n:\n",
    "                return buildStarChain(ri + [i + q for i in range (1, m - q + 1)])\n",
    "            if Amin > n or n > Amax:\n",
    "                decRi(ri)\n",
    "                continue\n",
    "            while len(_ri) == m - q:\n",
    "                chain = buildStarChain(ri + _ri)\n",
    "                if chain[-1] == n:\n",
    "                    return chain\n",
    "                decRi(_ri, q + 1)\n",
    "            decRi(ri)\n",
    "               \n",
    "start = time.time()\n",
    "minStarChain = findMinStarChain(50)\n",
    "end = time.time()\n",
    "print(minStarChain, \"Len:\", len(minStarChain), \"Elapsed time:\", end - start)"
   ]
  },
  {
   "cell_type": "markdown",
   "metadata": {},
   "source": [
    "Вывод результата работы алгоритма:"
   ]
  },
  {
   "cell_type": "code",
   "execution_count": null,
   "metadata": {},
   "outputs": [],
   "source": [
    "import math\n",
    "import time\n",
    "import random\n",
    "\n",
    "for i in range(20):\n",
    "    r = random.randint(10,200)\n",
    "    start = time.time()\n",
    "    minStarChain = findMinStarChain(r)\n",
    "    end = time.time()\n",
    "    print(r,\" : \",minStarChain, \"Len:\", len(minStarChain), \"Elapsed time:\", end - start)"
   ]
  },
  {
   "cell_type": "markdown",
   "metadata": {},
   "source": [
    "#### Результат работы алгоритма:  \n",
    "\n",
    "___175___  :  [1, 2, 4, 8, 16, 32, 36, 37, 69, 138, 175] Len: 11 Elapsed time: 4.162713289260864<br>\n",
    "___121___  :  [1, 2, 4, 8, 16, 32, 40, 80, 120, 121] Len: 10 Elapsed time: 0.346343994140625<br>\n",
    "___122___  :  [1, 2, 4, 8, 16, 32, 40, 80, 120, 122] Len: 10 Elapsed time: 0.33993077278137207<br>\n",
    "___56___  :  [1, 2, 4, 8, 16, 32, 48, 56] Len: 8 Elapsed time: 0.003912925720214844<br>\n",
    "___66___  :  [1, 2, 4, 8, 16, 32, 64, 66] Len: 8 Elapsed time: 0.025324583053588867<br>\n",
    "___179___  :  [1, 2, 4, 8, 16, 32, 48, 49, 98, 147, 179] Len: 11 Elapsed time: 4.033940553665161<br>\n",
    "___57___  :  [1, 2, 4, 8, 16, 32, 48, 56, 57] Len: 9 Elapsed time: 0.05185818672180176<br>\n",
    "___90___  :  [1, 2, 4, 8, 16, 18, 36, 72, 90] Len: 9 Elapsed time: 0.050008535385131836<br>\n",
    "___158___  :  [1, 2, 4, 8, 16, 32, 48, 52, 104, 156, 158] Len: 11 Elapsed time: 4.098759651184082<br>\n",
    "___135___  :  [1, 2, 4, 8, 9, 18, 36, 45, 90, 135] Len: 10 Elapsed time: 1.8200297355651855<br>\n",
    "___175___  :  [1, 2, 4, 8, 16, 32, 36, 37, 69, 138, 175] Len: 11 Elapsed time: 4.252107381820679<br>\n",
    "___112___  :  [1, 2, 4, 8, 16, 32, 64, 96, 112] Len: 9 Elapsed time: 0.07918000221252441<br>\n",
    "___78___  :  [1, 2, 4, 8, 16, 24, 26, 52, 78] Len: 9 Elapsed time: 0.05030560493469238<br>\n",
    "___155___  :  [1, 2, 4, 8, 16, 32, 48, 49, 98, 147, 155] Len: 11 Elapsed time: 4.057909965515137<br>\n",
    "___66___  :  [1, 2, 4, 8, 16, 32, 64, 66] Len: 8 Elapsed time: 0.2803037166595459<br>\n",
    "___11___  :  [1, 2, 4, 8, 10, 11] Len: 6 Elapsed time: 0.24065780639648438<br>\n",
    "___93___  :  [1, 2, 4, 8, 16, 20, 36, 72, 92, 93] Len: 10 Elapsed time: 0.618739128112793<br>\n",
    "___126___  :  [1, 2, 4, 8, 16, 32, 40, 42, 84, 126] Len: 10 Elapsed time: 0.3396623134613037<br>\n",
    "___24___  :  [1, 2, 4, 8, 16, 24] Len: 6 Elapsed time: 0.0012698173522949219<br>\n",
    "___38___  :  [1, 2, 4, 8, 16, 32, 36, 38] Len: 8 Elapsed time: 0.008474588394165039<br>"
   ]
  },
  {
   "cell_type": "markdown",
   "metadata": {},
   "source": [
    "Сравнение длин аддитивных цепочек, полученных разными алгоритмами:  "
   ]
  },
  {
   "cell_type": "code",
   "execution_count": null,
   "metadata": {},
   "outputs": [],
   "source": [
    "for i in range(4):\n",
    "    r = random.randint(500,700)\n",
    "    print(r,\" : \", \"Len Yao:\", len(findMinStarChain(r)), \"Len DVI:\", len(findMinStarChain(r)))"
   ]
  },
  {
   "cell_type": "markdown",
   "metadata": {},
   "source": [
    "#### Вывод по алгоритму дробления вектора индексов.  \n",
    "\n",
    "Алгоритм дробления индексов находит цепочки, меньшие по длине, чем алгоритм Яо. Однако вычисление данным методом цепочек для $n$>500 занимает большое количество времени, поэтому данный алгоритм неудобен и обладает низкой эффективностью."
   ]
  },
  {
   "cell_type": "markdown",
   "metadata": {},
   "source": [
    "### Следствие 1 теоремы Брауэра."
   ]
  },
  {
   "cell_type": "markdown",
   "metadata": {},
   "source": [
    "Проверим следствие 1 теоремы Брауэра для n=1..200 путём построения функции l(n) и аппроксимирующей кривой, полученной с помощью метода наименьших квадратов.  \n",
    "Создадим массив с результатами значения для всех n 1..200 алгоритмом ДВИ.  \n",
    "После вычислим для каждого значения ln(x) и yln(x)."
   ]
  },
  {
   "cell_type": "code",
   "execution_count": 26,
   "metadata": {},
   "outputs": [
    {
     "data": {
      "image/png": "[encoded data removed]",
      "text/plain": [
       "<Figure size 720x504 with 1 Axes>"
      ]
     },
     "metadata": {
      "needs_background": "light"
     },
     "output_type": "display_data"
    }
   ],
   "source": [
    "import pylab as plt\n",
    "\n",
    "\n",
    "n = 201\n",
    "x = [i for i in range(1, n)]\n",
    "results = [len(findMinStarChain(i)) for i in range(1, n)]\n",
    "lnxi = [math.log(i, math.e) for i in range(1, n)]\n",
    "lnxi_pow2 = [pow(math.log(i, math.e),2) for i in range(1, n)]\n",
    "ylnxi = [results[i-1] * lnxi[i-1] for i in range(1, n)]\n",
    "\n",
    "b = (n*sum(ylnxi) - sum(results)*sum(lnxi))/(n*sum(lnxi_pow2) - sum(lnxi)*sum(lnxi))\n",
    "a = (sum(results) - b * sum(lnxi))/(n-1)\n",
    "\n",
    "y = [a + b*lnxi[i-1] for i in range(1, n)]\n",
    "\n",
    "plt.figure(figsize=(10, 7))\n",
    "plt.scatter(x, results, color = 'red', marker = '.')\n",
    "plt.plot(x, y)\n",
    "plt.show()"
   ]
  },
  {
   "cell_type": "markdown",
   "metadata": {},
   "source": [
    "#### Вывод по следствию 1 из теоремы Брауэра.  \n",
    "\n",
    "По графику видно, что график логарифма аппроксимирует найденные минимальные длины цепочек(для 1 <= n <= 200).  \n",
    "Первое следствие теоремы Брауэра справедливо: $\\lim_{x \\to \\infty} l(n)/\\lambda(n)=1$."
   ]
  },
  {
   "cell_type": "markdown",
   "metadata": {},
   "source": [
    "### Гипотеза Шольца-Брауэра."
   ]
  },
  {
   "cell_type": "markdown",
   "metadata": {},
   "source": [
    "Проверим неравенство $l*(2^n-1)<=l*(n)+n-1$ для 1<n<10 с помощью алгоритма ДВИ."
   ]
  },
  {
   "cell_type": "code",
   "execution_count": 6,
   "metadata": {},
   "outputs": [
    {
     "name": "stdout",
     "output_type": "stream",
     "text": [
      "Гипотеза подтвердилась, 3<=2+2-1\n",
      "\n",
      "Гипотеза подтвердилась, 5<=3+3-1\n",
      "\n",
      "Гипотеза подтвердилась, 6<=3+4-1\n",
      "\n",
      "Гипотеза подтвердилась, 8<=4+5-1\n",
      "\n",
      "Гипотеза подтвердилась, 9<=4+6-1\n",
      "\n",
      "Гипотеза подтвердилась, 11<=5+7-1\n",
      "\n",
      "Гипотеза подтвердилась, 11<=4+8-1\n",
      "\n"
     ]
    },
    {
     "ename": "KeyboardInterrupt",
     "evalue": "",
     "output_type": "error",
     "traceback": [
      "\u001b[0;31m---------------------------------------------------------------------------\u001b[0m",
      "\u001b[0;31mKeyboardInterrupt\u001b[0m                         Traceback (most recent call last)",
      "\u001b[0;32m<ipython-input-6-71397206c0d8>\u001b[0m in \u001b[0;36m<module>\u001b[0;34m\u001b[0m\n\u001b[1;32m     57\u001b[0m \u001b[0;34m\u001b[0m\u001b[0m\n\u001b[1;32m     58\u001b[0m \u001b[0;32mfor\u001b[0m \u001b[0mn\u001b[0m \u001b[0;32min\u001b[0m \u001b[0mrange\u001b[0m \u001b[0;34m(\u001b[0m\u001b[0mInteger\u001b[0m\u001b[0;34m(\u001b[0m\u001b[0;36m2\u001b[0m\u001b[0;34m)\u001b[0m\u001b[0;34m,\u001b[0m\u001b[0mInteger\u001b[0m\u001b[0;34m(\u001b[0m\u001b[0;36m11\u001b[0m\u001b[0;34m)\u001b[0m\u001b[0;34m)\u001b[0m\u001b[0;34m:\u001b[0m\u001b[0;34m\u001b[0m\u001b[0;34m\u001b[0m\u001b[0m\n\u001b[0;32m---> 59\u001b[0;31m     \u001b[0mleft\u001b[0m\u001b[0;34m=\u001b[0m\u001b[0mfindMinStarChain\u001b[0m\u001b[0;34m(\u001b[0m\u001b[0mpow\u001b[0m\u001b[0;34m(\u001b[0m\u001b[0mInteger\u001b[0m\u001b[0;34m(\u001b[0m\u001b[0;36m2\u001b[0m\u001b[0;34m)\u001b[0m\u001b[0;34m,\u001b[0m\u001b[0mn\u001b[0m\u001b[0;34m)\u001b[0m\u001b[0;34m-\u001b[0m\u001b[0mInteger\u001b[0m\u001b[0;34m(\u001b[0m\u001b[0;36m1\u001b[0m\u001b[0;34m)\u001b[0m\u001b[0;34m)\u001b[0m\u001b[0;34m\u001b[0m\u001b[0;34m\u001b[0m\u001b[0m\n\u001b[0m\u001b[1;32m     60\u001b[0m     \u001b[0mright\u001b[0m\u001b[0;34m=\u001b[0m\u001b[0mfindMinStarChain\u001b[0m\u001b[0;34m(\u001b[0m\u001b[0mn\u001b[0m\u001b[0;34m)\u001b[0m\u001b[0;34m\u001b[0m\u001b[0;34m\u001b[0m\u001b[0m\n\u001b[1;32m     61\u001b[0m     \u001b[0;32mif\u001b[0m \u001b[0mlen\u001b[0m\u001b[0;34m(\u001b[0m\u001b[0mleft\u001b[0m\u001b[0;34m)\u001b[0m\u001b[0;34m<=\u001b[0m\u001b[0mlen\u001b[0m\u001b[0;34m(\u001b[0m\u001b[0mright\u001b[0m\u001b[0;34m)\u001b[0m\u001b[0;34m+\u001b[0m\u001b[0mn\u001b[0m\u001b[0;34m-\u001b[0m\u001b[0mInteger\u001b[0m\u001b[0;34m(\u001b[0m\u001b[0;36m1\u001b[0m\u001b[0;34m)\u001b[0m\u001b[0;34m:\u001b[0m\u001b[0;34m\u001b[0m\u001b[0;34m\u001b[0m\u001b[0m\n",
      "\u001b[0;32m<ipython-input-6-71397206c0d8>\u001b[0m in \u001b[0;36mfindMinStarChain\u001b[0;34m(n)\u001b[0m\n\u001b[1;32m     50\u001b[0m                 \u001b[0;32mcontinue\u001b[0m\u001b[0;34m\u001b[0m\u001b[0;34m\u001b[0m\u001b[0m\n\u001b[1;32m     51\u001b[0m             \u001b[0;32mwhile\u001b[0m \u001b[0mlen\u001b[0m\u001b[0;34m(\u001b[0m\u001b[0m_ri\u001b[0m\u001b[0;34m)\u001b[0m \u001b[0;34m==\u001b[0m \u001b[0mm\u001b[0m \u001b[0;34m-\u001b[0m \u001b[0mq\u001b[0m\u001b[0;34m:\u001b[0m\u001b[0;34m\u001b[0m\u001b[0;34m\u001b[0m\u001b[0m\n\u001b[0;32m---> 52\u001b[0;31m                 \u001b[0mchain\u001b[0m \u001b[0;34m=\u001b[0m \u001b[0mbuildStarChain\u001b[0m\u001b[0;34m(\u001b[0m\u001b[0mri\u001b[0m \u001b[0;34m+\u001b[0m \u001b[0m_ri\u001b[0m\u001b[0;34m)\u001b[0m\u001b[0;34m\u001b[0m\u001b[0;34m\u001b[0m\u001b[0m\n\u001b[0m\u001b[1;32m     53\u001b[0m                 \u001b[0;32mif\u001b[0m \u001b[0mchain\u001b[0m\u001b[0;34m[\u001b[0m\u001b[0;34m-\u001b[0m\u001b[0mInteger\u001b[0m\u001b[0;34m(\u001b[0m\u001b[0;36m1\u001b[0m\u001b[0;34m)\u001b[0m\u001b[0;34m]\u001b[0m \u001b[0;34m==\u001b[0m \u001b[0mn\u001b[0m\u001b[0;34m:\u001b[0m\u001b[0;34m\u001b[0m\u001b[0;34m\u001b[0m\u001b[0m\n\u001b[1;32m     54\u001b[0m                     \u001b[0;32mreturn\u001b[0m \u001b[0mchain\u001b[0m\u001b[0;34m\u001b[0m\u001b[0;34m\u001b[0m\u001b[0m\n",
      "\u001b[0;32m<ipython-input-6-71397206c0d8>\u001b[0m in \u001b[0;36mbuildStarChain\u001b[0;34m(ri)\u001b[0m\n\u001b[1;32m     20\u001b[0m     \u001b[0mstarChain\u001b[0m \u001b[0;34m=\u001b[0m \u001b[0;34m[\u001b[0m\u001b[0mInteger\u001b[0m\u001b[0;34m(\u001b[0m\u001b[0;36m1\u001b[0m\u001b[0;34m)\u001b[0m\u001b[0;34m]\u001b[0m\u001b[0;34m\u001b[0m\u001b[0;34m\u001b[0m\u001b[0m\n\u001b[1;32m     21\u001b[0m     \u001b[0;32mfor\u001b[0m \u001b[0mi\u001b[0m \u001b[0;32min\u001b[0m \u001b[0mri\u001b[0m\u001b[0;34m:\u001b[0m\u001b[0;34m\u001b[0m\u001b[0;34m\u001b[0m\u001b[0m\n\u001b[0;32m---> 22\u001b[0;31m         \u001b[0mstarChain\u001b[0m\u001b[0;34m.\u001b[0m\u001b[0mappend\u001b[0m\u001b[0;34m(\u001b[0m\u001b[0mstarChain\u001b[0m\u001b[0;34m[\u001b[0m\u001b[0;34m-\u001b[0m\u001b[0mInteger\u001b[0m\u001b[0;34m(\u001b[0m\u001b[0;36m1\u001b[0m\u001b[0;34m)\u001b[0m\u001b[0;34m]\u001b[0m \u001b[0;34m+\u001b[0m \u001b[0mstarChain\u001b[0m\u001b[0;34m[\u001b[0m\u001b[0mi\u001b[0m \u001b[0;34m-\u001b[0m \u001b[0mInteger\u001b[0m\u001b[0;34m(\u001b[0m\u001b[0;36m1\u001b[0m\u001b[0;34m)\u001b[0m\u001b[0;34m]\u001b[0m\u001b[0;34m)\u001b[0m\u001b[0;34m\u001b[0m\u001b[0;34m\u001b[0m\u001b[0m\n\u001b[0m\u001b[1;32m     23\u001b[0m     \u001b[0;32mreturn\u001b[0m \u001b[0mstarChain\u001b[0m\u001b[0;34m\u001b[0m\u001b[0;34m\u001b[0m\u001b[0m\n\u001b[1;32m     24\u001b[0m \u001b[0;34m\u001b[0m\u001b[0m\n",
      "\u001b[0;32msrc/cysignals/signals.pyx\u001b[0m in \u001b[0;36mcysignals.signals.python_check_interrupt\u001b[0;34m()\u001b[0m\n",
      "\u001b[0;31mKeyboardInterrupt\u001b[0m: "
     ]
    }
   ],
   "source": [
    "import math\n",
    "import time\n",
    "\n",
    "def decRi(ri, q = 1):\n",
    "    m = q + len(ri) - 1\n",
    "    for i in range(1, len(ri) + 1):\n",
    "        if ri[-i] == 1:\n",
    "            if i == len(ri):\n",
    "                ri.append(1)\n",
    "                for j in range(len(ri)):\n",
    "                    ri[j] = j + q\n",
    "                break\n",
    "            ri[-i] = m\n",
    "            m -= 1\n",
    "        else:\n",
    "            ri[-i] -= 1\n",
    "            break\n",
    "\n",
    "def buildStarChain(ri):\n",
    "    starChain = [1]\n",
    "    for i in ri:\n",
    "        starChain.append(starChain[-1] + starChain[i - 1])\n",
    "    return starChain\n",
    "    \n",
    "def findMinStarChain (n):\n",
    "    downBorder = int(math.log2(n))\n",
    "    upBorder = int(log(n, 2) + bin(n).count('1') - 1)\n",
    "    \n",
    "    for m in range(downBorder, upBorder + 1):\n",
    "        q = m // 2\n",
    "        \n",
    "        if q == 0:\n",
    "            q = 1\n",
    "        \n",
    "        ri = [i for i in range(1, q + 1)]\n",
    "                \n",
    "        while (len(ri) == q):\n",
    "            _ri = [i + q for i in range (1, m - q + 1)]\n",
    "            chain = buildStarChain(ri)\n",
    "            \n",
    "            Amax = chain[-1] * 2 ** (m - q)\n",
    "            Amin = chain[-1] + m - q\n",
    "            \n",
    "            if Amin == n:\n",
    "                return buildStarChain(ri + [1 for i in range(1, m - q + 1)])\n",
    "            if Amax == n:\n",
    "                return buildStarChain(ri + [i + q for i in range (1, m - q + 1)])\n",
    "            if Amin > n or n > Amax:\n",
    "                decRi(ri)\n",
    "                continue\n",
    "            while len(_ri) == m - q:\n",
    "                chain = buildStarChain(ri + _ri)\n",
    "                if chain[-1] == n:\n",
    "                    return chain\n",
    "                decRi(_ri, q + 1)\n",
    "            decRi(ri)\n",
    "\n",
    "for n in range (2,11):\n",
    "    left=findMinStarChain(pow(2,n)-1)\n",
    "    right=findMinStarChain(n)\n",
    "    if len(left)<=len(right)+n-1:\n",
    "        print(\"Гипотеза подтвердилась, {}<={}+{}-1\\n\".format(len(left),len(right),n))\n",
    "    else:\n",
    "        print(\"Гипотеза не подтвердилась,{}>{}+{}-1\\n\".format(len(left),len(right),n))"
   ]
  },
  {
   "cell_type": "markdown",
   "metadata": {},
   "source": [
    "Результат работы:  \n",
    "Гипотеза подтвердилась, 3<=2+2-1\n",
    "\n",
    "Гипотеза подтвердилась, 5<=3+3-1\n",
    "\n",
    "Гипотеза подтвердилась, 6<=3+4-1\n",
    "\n",
    "Гипотеза подтвердилась, 8<=4+5-1\n",
    "\n",
    "Гипотеза подтвердилась, 9<=4+6-1\n",
    "\n",
    "Гипотеза подтвердилась, 11<=5+7-1\n",
    "\n",
    "Гипотеза подтвердилась, 11<=4+8-1  \n",
    "\n",
    "Гипотеза подтвердилась, 13<=5+9-1 \n",
    "\n",
    "Гипотеза подтвердилась, 14<=5+10-1"
   ]
  },
  {
   "cell_type": "markdown",
   "metadata": {},
   "source": [
    "#### Вывод по гипотезе Шольца-Брауэра.  \n",
    "Гипотеза подтвердилась для чисел $2<=n<=10$, значит для вычисления длины цепочки $l*(2^n-1)$ достаточно вычислить $l*(n)$+$n$-1."
   ]
  },
  {
   "cell_type": "markdown",
   "metadata": {},
   "source": [
    "### Вывод.  \n",
    "В процессе выполнения практической работы были изучены аддитивные цепочки и были реализованы алгоритмы для работы с ними. Была изучена зависимость минимальных длин звездных цепочек от числа. \n",
    "Также был получен навык работы в системе компьютерной алгебры SageMath.\n",
    "Реализованные алгоритмы:\n",
    "1. Бинарный метод\n",
    "2. Метод множителей \n",
    "3. Алгоритм Яо\n",
    "4. Алгоритм дробления вектора индекса\n",
    "\n",
    "Также были проверены:\n",
    "1. Первое следствие теоремы Брауэра \n",
    "2. Гипотеза Шольца-Брауэра для n=1..10"
   ]
  }
 ],
 "metadata": {
  "kernelspec": {
   "display_name": "SageMath 9.2",
   "language": "sage",
   "name": "sagemath"
  },
  "language_info": {
   "codemirror_mode": {
    "name": "ipython",
    "version": 3
   },
   "file_extension": ".py",
   "mimetype": "text/x-python",
   "name": "python",
   "nbconvert_exporter": "python",
   "pygments_lexer": "ipython3",
   "version": "3.7.7"
  }
 },
 "nbformat": 4,
 "nbformat_minor": 4
}
