{
 "cells": [
  {
   "cell_type": "markdown",
   "metadata": {},
   "source": [
    "# Практическая работа №1: Исследование алгоритмов формирования аддитивных цепочек"
   ]
  },
  {
   "cell_type": "markdown",
   "metadata": {},
   "source": [
    "## Цель работы"
   ]
  },
  {
   "cell_type": "markdown",
   "metadata": {},
   "source": [
    "<p style=\"text-align: justify;\"> Формирование представления о аддитивных цепочках, выработать умение составлять и применять алгоритмы для нахождения минимальных аддитивных цепочек для заданного числа, привить навык использования систем компьютерной алгебры для реализации алгоритмов.</p>\n"
   ]
  },
  {
   "cell_type": "markdown",
   "metadata": {},
   "source": [
    "## Основные теоретические сведения"
   ]
  },
  {
   "cell_type": "markdown",
   "metadata": {},
   "source": [
    "### Бинарный метод\n",
    "<p style=\"text-align: justify;\">В основе бинарного метода лежит равенство $a^{n} = a^{n/2} \\cdot a^{n/2}$. Для чётного $n$ оно выполняется, а для нечётного используют формулу $a^{n} = a^{n-1} \\cdot a$, а далее считается для случая с чётным показателем.</p>\n",
    "<p style=\"text-align: justify;\">Сам алгоритм состоит из следующих шагов:</p>\n"
   ]
  },
  {
   "cell_type": "markdown",
   "metadata": {},
   "source": [
    "0. Выполнять алгоритм пока $n > 0$\n",
    "1. Если показатель степени нечётный, то домножаем результат на основание(изначально результат равен $1$)\n",
    "2. Основание возводится в квадрат\n",
    "3. Показатель равен целой части от деления на $2$ показателя на предыдущем шаге\n",
    "4. Повторять шаги $1-3$ пока верен шаг $0$."
   ]
  },
  {
   "cell_type": "markdown",
   "metadata": {},
   "source": [
    "### Метод множителей"
   ]
  },
  {
   "cell_type": "markdown",
   "metadata": {},
   "source": [
    "<p style=\"text-align: justify;\">В основе алгоритма лежит разложения показателя степени на множители.</p>\n",
    "<p>Сам алгоритм состоит из следующих шагов:</p>"
   ]
  },
  {
   "cell_type": "markdown",
   "metadata": {},
   "source": [
    "1. Разложить показатель степени $n$ как $n = i \\cdot j$ (Если $n$ - простое, то раскладываем на множители число $n - 1$, а после выполнения алгоритма просто домножаем получившийся результат на исходное основание), где $i$ - минимальный делитель числа $n$, $i > 1$.\n",
    "2. Возводим число $x$ в степень $i$.\n",
    "3. Получившееся число берем за новую переменную, например $y$. Далее возводим $y$ в степень $j$."
   ]
  },
  {
   "cell_type": "markdown",
   "metadata": {},
   "source": [
    "### Алгоритм Яо"
   ]
  },
  {
   "cell_type": "markdown",
   "metadata": {},
   "source": [
    "<p style=\"text-align: justify;\">Алгоритм Яо - алгоритм поиска аддитивной цепочки для числа $n$</p>\n",
    "<p style=\"text-align: justify;\">Чтобы лучше понять алгоритм Яо введём некоторые определения:</p>"
   ]
  },
  {
   "cell_type": "markdown",
   "metadata": {},
   "source": [
    "1. $ \\lambda(x)$ - двоичная запись числа $n$, уменьшенная на $1$.\n",
    "2. $ \\upsilon(x)$ - вес Хэмминга, равени число ненулевых битов в двоичной записи числа $n$.\n",
    "3. Аддитивная цепочка для числа $n$ - такая последовательность $1, a_0, a_1, ... , a_k, n$ , где $a_i = a_j + a_m, k \\leqslant j < i, \\forall i = 1 ... k$\n",
    "Различают 3 типа цепочек по виду шагов:<br>\n",
    "a) Удвоение $j = m = i - 1$<br>\n",
    "б) Звездный $j = i - 1$<br>\n",
    "в) Малый $\\lambda(a_i) = \\lambda(a_{i-1})$\n",
    "4. Звездная цепочка - аддитивная цепочка, состоящая только из звёздных шагов.\n",
    "5. $d(z)$ - функция, которая считает сумму чисел $2^{i \\cdot k}, \\forall i:a_i = z$"
   ]
  },
  {
   "cell_type": "markdown",
   "metadata": {},
   "source": [
    "Сам алгоритм Яо состоит из следующих шагов:"
   ]
  },
  {
   "cell_type": "markdown",
   "metadata": {},
   "source": [
    "1. Изначально в цепочку добавляются все степени двойки до $\\lambda(n)$, т.е. получаем цепочку $\\{1, 2, 4, ..., 2^{\\lambda(n)}\\}$\n",
    "2. Далее в цепочку добавляются значения функции $d(z), z \\in \\{1, 2, ..., 2^{k - 1}\\}$ ($k$ выбирается пользователем самостоятельно)\n",
    "3. Далее в цепочку добавляются значения $z \\cdot d(z), \\forall z$"
   ]
  },
  {
   "cell_type": "markdown",
   "metadata": {},
   "source": [
    "### Алгоритм дробления вектора индексов"
   ]
  },
  {
   "cell_type": "markdown",
   "metadata": {},
   "source": [
    "Алгоритм дробления вектора индексов - наиболее точный алгоритм поиска минимальной аддитивной цепочки."
   ]
  },
  {
   "cell_type": "markdown",
   "metadata": {},
   "source": [
    "Сам алгоритм состоит из следующих шагов:"
   ]
  },
  {
   "cell_type": "markdown",
   "metadata": {},
   "source": [
    "1. Изначально создаётся цепочка $\\{1, 2, 3, ..., n\\}$.\n",
    "2. Далее запускаем внешний цикл, где $min \\leqslant m \\leqslant max$, где $min = \\lambda(n), max = \\lambda(n) + \\upsilon(n) - 1$.\n",
    "3. Затем запускаем внутренний цикл по $\\{r_i\\}^q_{i = 1}$, где $\\{r_i\\}$ - вектор индексов звёздной цепочки, а $k = m // 2 - 1$ \n",
    "4. На каждом шаге вычисляются $a_{min} = a_{k + 1} + m - k, a_{max} = a_{k + 1} \\cdot 2^{m - k}$. Далее может получится три варианта дальнейших действий:<br>\n",
    "    a) Последний элемент цепочки равен исходному числу $n$. Тогда алгоритм завершается.<br>\n",
    "    б) $n \\in [a_{min}; a_{max}]$. Тогда перебираем вектор индексов $\\{r_i\\}^m_{i = k + 1}$.<br>\n",
    "    в) $n \\notin [a_{min}; a_{max}]$. Тогда перебираем вектор индексов $\\{r_i\\}^q_{i = 1}$."
   ]
  },
  {
   "cell_type": "markdown",
   "metadata": {},
   "source": [
    "### Следствие теоремы Брауэра"
   ]
  },
  {
   "cell_type": "markdown",
   "metadata": {},
   "source": [
    "$\\lim_{n\\to\\infty} {{l(n)} \\over {\\lambda(n)}} = 1$"
   ]
  },
  {
   "cell_type": "markdown",
   "metadata": {},
   "source": [
    "### Гипотеза Шольца-Брауэра"
   ]
  },
  {
   "cell_type": "markdown",
   "metadata": {},
   "source": [
    "$l(2^n - 1) = l(n) + n - 1, n \\leqslant 64$"
   ]
  },
  {
   "cell_type": "markdown",
   "metadata": {},
   "source": [
    "## Постановка задачи"
   ]
  },
  {
   "cell_type": "markdown",
   "metadata": {},
   "source": [
    "<p style=\"text-align: justify;\">Реализовать точные и приближённые алгоритмы нахождения минимальных аддитивных цепочек с использованием системы компьютерной алгебры SageMath, провести анализ алгоритмов. Полученные результаты содержательно проинтерпретировать.</p>"
   ]
  },
  {
   "cell_type": "markdown",
   "metadata": {},
   "source": [
    "## Порядок выполнения работы"
   ]
  },
  {
   "cell_type": "markdown",
   "metadata": {},
   "source": [
    "1. <p style=\"text-align: justify;\">Применить бинарный метод и метод множителей для $x^{n}$, где $n \\geqslant 30$, для 2-3 значений $n$ (значения $n$ выбирается студентом самостоятельно). Сравнить количество операций для каждого метода, сделать выводы.</p>\n",
    "2. <p style=\"text-align: justify;\">Реализовать алгоритм Брауэра (для нечётных вариантов) или алгоритм Яо (для чётных вариантов) для вычисления приближённых аддитивных цепочек для различных чисел при варьировании параметра $k$, сопоставить длины полученных аддитивных цепочек с минимальной аддитивной цепочкой для заданного числа. Сделать выводы.</p>\n",
    "3. <p style=\"text-align: justify;\">Реализовать алгоритм дробления вектора индексов для нахождения минимальной звёздной цепочки для заданного числа. Протестировать алгоритм при $n > 500$. Указать, сколько времени потребовалось на поиск цепочки и какая цепочка получилась. Сравнить с предыдущими методами, сделать выводы.</p>\n",
    "4. <p style=\"text-align: justify;\">Проверить следствие 1 теоремы Брауэра для $n = 1..200$ путём построения функции $l(n)$ и аппроксимирующей кривой, полученной с помощью метода наименьших квадратов. Сопоставить функции на одном графике, сделать выводы.</p>\n",
    "5. <p style=\"text-align: justify;\">Проверить гипотезу Шольца–Брауэра для $1<n⩽10$ на алгоритме дробления вектора индексов. Сделать выводы.</p>"
   ]
  },
  {
   "cell_type": "markdown",
   "metadata": {},
   "source": [
    "## Выполнение работы"
   ]
  },
  {
   "cell_type": "markdown",
   "metadata": {},
   "source": [
    "#### 1. Реализация бинарного метода:"
   ]
  },
  {
   "cell_type": "code",
   "execution_count": 102,
   "metadata": {},
   "outputs": [
    {
     "name": "stdout",
     "output_type": "stream",
     "text": [
      "2\n",
      "4095\n",
      "522194440706576253345876355358312191289982124523691890192116741641976953985778728424413405967498779170445053357219631418993786719092896803631618043925682638972978488271854999170180795067191859157214035005927973113188159419698856372836167342172293308748403954352901852035642024370059304557233988891799014503343469488440893892973452815095130470299789726716411734651513348221529512507986199933857107770846917779942645743159118957217248367043905936319748237550094520674504208530837546834166925275516486044134775384991808184705966507606898412918594045916828375610659246423184062775112999150206172392431297837246097308511903252956622805412865917690043804311051417135098849101156584508839003337597742539960818209685142687562392007453579567729991395256699805775897135553415567045292136442139895777424891477161767258532611634530697452993846501061481697843891439474220308003706472837459911525285821188577408160690315522951458068463354171428220365223949985950890732881736611925133626529949897998045399734600887312408859224933727829625089164535236559716582775403784110923285873186648442456409760158728501220463308455437074192539205964902261490928669488824051563042951500651206733594863336608245755565801460390869016718045121902354170201577095168 \n",
      "Число операций: 22\n"
     ]
    }
   ],
   "source": [
    "def bin(x, n):\n",
    "    k = 0\n",
    "    result = 1\n",
    "    while(n):\n",
    "        if n % 2 == 1:\n",
    "            result *= x\n",
    "            k += 1\n",
    "        x *= x\n",
    "        n = n // 2\n",
    "        if n > 1:\n",
    "            k += 1\n",
    "    return [result, k]\n",
    "    \n",
    "l = bin(int(input()), int(input()))\n",
    "print(l[0], '\\nЧисло операций:', l[1])"
   ]
  },
  {
   "cell_type": "markdown",
   "metadata": {},
   "source": [
    "Реализация метода множителей:"
   ]
  },
  {
   "cell_type": "code",
   "execution_count": 103,
   "metadata": {},
   "outputs": [
    {
     "name": "stdout",
     "output_type": "stream",
     "text": [
      "2\n",
      "4095\n",
      "522194440706576253345876355358312191289982124523691890192116741641976953985778728424413405967498779170445053357219631418993786719092896803631618043925682638972978488271854999170180795067191859157214035005927973113188159419698856372836167342172293308748403954352901852035642024370059304557233988891799014503343469488440893892973452815095130470299789726716411734651513348221529512507986199933857107770846917779942645743159118957217248367043905936319748237550094520674504208530837546834166925275516486044134775384991808184705966507606898412918594045916828375610659246423184062775112999150206172392431297837246097308511903252956622805412865917690043804311051417135098849101156584508839003337597742539960818209685142687562392007453579567729991395256699805775897135553415567045292136442139895777424891477161767258532611634530697452993846501061481697843891439474220308003706472837459911525285821188577408160690315522951458068463354171428220365223949985950890732881736611925133626529949897998045399734600887312408859224933727829625089164535236559716582775403784110923285873186648442456409760158728501220463308455437074192539205964902261490928669488824051563042951500651206733594863336608245755565801460390869016718045121902354170201577095168 \n",
      "Число операций: 17\n"
     ]
    }
   ],
   "source": [
    "def mnoz(x, n):\n",
    "    a = -1\n",
    "    tmp = int(sqrt(n))\n",
    "    result = 1\n",
    "    for i in range(2, tmp + 1):\n",
    "        if n % i == 0:\n",
    "            a = i\n",
    "            break\n",
    "    if a == -1:\n",
    "        n -= 1;\n",
    "        tmp = int(sqrt(n))\n",
    "        for i in range(2, tmp + 1):\n",
    "            if n % i == 0:\n",
    "                a = i\n",
    "                break\n",
    "        b = n // a\n",
    "        l1 = bin(x, a)\n",
    "        l2 = bin(l1[0], b)\n",
    "        k = l1[1] + l2[1]\n",
    "        return [l2[0] * x, k + 1]\n",
    "    else:\n",
    "        b = n // a\n",
    "        l1 = bin(x, a)\n",
    "        l2 = bin(l1[0], b)\n",
    "        k = l1[1] + l2[1]\n",
    "        return [l2[0], k]\n",
    "    \n",
    "l = mnoz(int(input()), int(input()))\n",
    "print(l[0], '\\nЧисло операций:', l[1])  "
   ]
  },
  {
   "cell_type": "markdown",
   "metadata": {},
   "source": [
    "Проведём тесты для 4 случайных величин, результаты которых представлены в таблице ниже:"
   ]
  },
  {
   "cell_type": "markdown",
   "metadata": {},
   "source": [
    "<font size = \"+1\">$n$      | <font size = \"+1\">Бинарный метод| <font size = \"+1\">Метод множителей\n",
    ":------|:--------------|:----------------\n",
    "$42$     |$7$             | $7$\n",
    "$255$    |$14$            |$11$\n",
    "$1111$   |$15$            |$14$\n",
    "$4095$   |$22$            | $17$\n"
   ]
  },
  {
   "cell_type": "markdown",
   "metadata": {},
   "source": [
    "<p style=\"text-align: justify;\">Исходя из полученных данных, можно сделать следующий вывод: Бинарный метод и метод множителей выполняют возведение в степень числа примерно за одинаковое число операций, но при увеличении степени метод множителей становится более быстрым.</p>"
   ]
  },
  {
   "cell_type": "markdown",
   "metadata": {},
   "source": [
    "#### 2. Реализация алгоритма Яо:"
   ]
  },
  {
   "cell_type": "code",
   "execution_count": 104,
   "metadata": {},
   "outputs": [
    {
     "name": "stdout",
     "output_type": "stream",
     "text": [
      "251\n",
      "4\n",
      "Аддитивная цепочка: [1, 2, 4, 5, 8, 10, 11, 16, 32, 48, 64, 96, 112, 128, 224, 240, 251] , длина аддитивной цепочки = 17\n"
     ]
    }
   ],
   "source": [
    "def other_bin(n):\n",
    "    v = []\n",
    "    while(n):\n",
    "        if n % 2 == 1:\n",
    "            v.append('Y')\n",
    "        n = n // 2\n",
    "        v.append('K')\n",
    "    v.reverse()\n",
    "    v = v[2:]\n",
    "    k = 1\n",
    "    c = [1]\n",
    "    for i in v:\n",
    "        if i == 'K':\n",
    "            k *= 2\n",
    "        else:\n",
    "            k += 1\n",
    "        c.append(k)\n",
    "    return c\n",
    "\n",
    "def d(z, l, k):\n",
    "    sum = 0\n",
    "    for i in range(len(l)):\n",
    "        if z == l[i]:\n",
    "            sum += 2 ** (i * k)\n",
    "    return sum\n",
    "\n",
    "n = int(input())\n",
    "k = int(input())\n",
    "\n",
    "copy_n = n\n",
    "l = []\n",
    "while(copy_n):\n",
    "    l.append(copy_n % (2 ** k))\n",
    "    copy_n //= 2 ** k\n",
    "    \n",
    "chain = {1}\n",
    "for i in range(1, int(log(n, 2)) + 1):\n",
    "    chain.add(2 ** i)\n",
    "    \n",
    "tmp_z = [i for i in range(1, 2 ** k)]\n",
    "z = []\n",
    "for i in tmp_z:\n",
    "    if d(i, l, k) != 0:\n",
    "        z.append(i)\n",
    "sum = 0\n",
    "for i in z:\n",
    "    sum += i * d(i, l, k)\n",
    "    tmp = other_bin(i)\n",
    "    for j in tmp:\n",
    "        chain.add(j * d(i, l, k))\n",
    "    chain.add(sum)  \n",
    "print('Аддитивная цепочка:', sorted(chain), ', длина аддитивной цепочки =', len(chain))"
   ]
  },
  {
   "cell_type": "markdown",
   "metadata": {},
   "source": [
    "<p style=\"text-align: justify;\">Проведём тесты для 4 случайных величин, для каждой из которых выберем несколько значений $k$, результаты которых представлены в таблице ниже:</p>"
   ]
  },
  {
   "cell_type": "markdown",
   "metadata": {},
   "source": [
    "<font size = \"+1\" >$n$      |<font size = \"+1\" >$k$      | <font size = \"+1\">Аддитивная цепочка| <font size = \"+1\">Длина полученной цепочки| <font size = \"+1\">Длина минимальный цепочки\n",
    ":------|:----------|:------------|:--------|:--------\n",
    "$42$     |$2$             | $[1, 2, 4, 8, 16, 21, 32, 42]$ | $8$ | $7$\n",
    "$42$    | $3$             | $[1, 2, 4, 8, 16, 32, 40, 42]$ | $8$ | $7$\n",
    "$42$     | $4$             | $[1, 2, 4, 5, 8, 10, 16, 32, 42]$ | $9$ | $7$\n",
    "$143$     | $2$             | $[1, 2, 4, 5, 8, 10, 15, 16, 32, 64, 128, 143]$ | $12$ | $10$\n",
    "$143$     | $3$             | $[1, 2, 3, 4, 6, 7, 8, 16, 32, 64, 128, 136, 143]$ | $13$ | $10$\n",
    "$143$     | $4$             | $[1, 2, 3, 4, 6, 7, 8, 14, 15, 16, 32, 64, 128, 143]$ | $14$ | $10$\n",
    "$251$     | $2$             | $[1, 2, 4, 8, 16, 32, 64, 81, 128, 162, 243, 251]$ | $12$ | $11$\n",
    "$251$     | $3$             | $[1, 2, 4, 8, 16, 24, 32, 48, 56, 64, 65, 128, 130, 195, 251]$ | $15$ | $11$\n",
    "$251$     | $4$             | $[1, 2, 4, 5, 8, 10, 11, 16, 32, 48, 64, 96, 112, 128, 224, 240, 251]$ | $17$ | $11$"
   ]
  },
  {
   "cell_type": "markdown",
   "metadata": {},
   "source": [
    "<p style=\"text-align: justify;\">Исходя из полученных данных можно сделать вывод, что наилучшее значение $k$ равно 2, так как при нём достигается наибольшая точность в вычислении длины цепочки. Также можно заметить, что при увеличении значения $n$, увеличивается и разница между длиной минимальной цепочки и цепочки, полученной методом Яо.</p>"
   ]
  },
  {
   "cell_type": "markdown",
   "metadata": {},
   "source": [
    "#### 3. Реализация алгоритма дробления вектора индексов для нахождения минимальной звёздной цепочки для заданного числа:"
   ]
  },
  {
   "cell_type": "code",
   "execution_count": 35,
   "metadata": {},
   "outputs": [
    {
     "name": "stdout",
     "output_type": "stream",
     "text": [
      "1023\n",
      "Звёздная цепочка: [1, 2, 4, 8, 16, 32, 64, 68, 136, 272, 340, 341, 682, 1023] Вектор индексов: [1, 2, 3, 4, 5, 6, 3, 8, 9, 8, 1, 12, 12] Длина звёздной цепочки: 14\n",
      "Время работы алгоритма: 90.72376084327698\n"
     ]
    }
   ],
   "source": [
    "from time import time\n",
    "\n",
    "def hemming(n):\n",
    "    k = 0\n",
    "    while(n):\n",
    "        if n & 1 == 1:\n",
    "            k += 1\n",
    "        n >>= 1\n",
    "    return k\n",
    "\n",
    "def is_unit_vector(vector):\n",
    "    if(sum(vector) == len(vector)):\n",
    "        return True\n",
    "    return False\n",
    "\n",
    "def start_vector(n):\n",
    "    return [i for i in range(1, n)]\n",
    "\n",
    "def vector_minus(vector, start, end):\n",
    "    for i in range(end, start, -1):\n",
    "        if vector[i - 1] != 1:\n",
    "            vector[i - 1] -= 1\n",
    "            break\n",
    "        else:\n",
    "            vector[i - 1] = i\n",
    "    return vector\n",
    "\n",
    "def star_chain(n):\n",
    "    start = n.bit_length()\n",
    "    end = n.bit_length() + hemming(n) - 1\n",
    "    for i in range(start, end + 1):\n",
    "        is_chain = False\n",
    "        k = i // 2 - 1\n",
    "        v = start_vector(i)\n",
    "        \n",
    "        while True:\n",
    "            chain = [1]\n",
    "            for j in v:\n",
    "                chain.append(chain[-1] + chain[j - 1])\n",
    "                \n",
    "            if chain[-1] == n:\n",
    "                is_chain = True\n",
    "                break\n",
    "                \n",
    "            a_start = chain[k] + i - k\n",
    "            a_end = chain[k] * (2 ** (i - k))\n",
    "            if n in range(a_start, a_end + 1):\n",
    "                v = vector_minus(v, k, i - 1)\n",
    "                if is_unit_vector(v[k:]):\n",
    "                    break\n",
    "            else:\n",
    "                v = vector_minus(v, 1, k)\n",
    "                if is_unit_vector(v[:k]):\n",
    "                    break\n",
    "        \n",
    "        if is_chain:\n",
    "            break\n",
    "    return v, chain\n",
    "t = time()\n",
    "v, c = star_chain(int(input()))\n",
    "t = time() - t\n",
    "print('Звёздная цепочка:', c, 'Вектор индексов:', v, 'Длина звёздной цепочки:', len(c))\n",
    "print('Время работы алгоритма:', t)"
   ]
  },
  {
   "cell_type": "markdown",
   "metadata": {},
   "source": [
    "<p style=\"text-align: justify;\">Проведем тестирование для значений $n > 500$. Результаты тестирования представлены в таблице ниже:</p>"
   ]
  },
  {
   "cell_type": "markdown",
   "metadata": {},
   "source": [
    "<font size = \"+1\" >$n$    |<font size = \"+1\">Звездная цепочка| <font size = \"+1\">Длина полученной цепочки| <font size = \"+1\">Длина минимальный цепочки |<font size = \"+1\" > Время выполнения программы\n",
    ":-------|:-----------------------------|:------------|:--------|:--------\n",
    "$567$     | $[1, 2, 4, 8, 16, 32, 64, 80, 81, 162, 324, 486, 567]$ | $13$ | $12$ | $12.827541828155518$\n",
    "$666$     | $[1, 2, 4, 8, 16, 32, 64, 128, 136, 264, 528, 664, 666]$ | $13$ | $12$ | $10.587085008621216$\n",
    "$823$     | $[1, 2, 4, 8, 16, 32, 64, 128, 256, 272, 274, 548, 822, 823]$ | $14$ | $13$ | $47.140689849853516$\n",
    "$1195$    | $[1, 2, 4, 8, 16, 32, 64, 128, 256, 384, 392, 393, 786, 1179, 1195]$ | $15$ | $14$ |$135.8760280609131$"
   ]
  },
  {
   "cell_type": "markdown",
   "metadata": {},
   "source": [
    "<p style=\"text-align: justify;\">Исходя из полученных данных можно сделать вывод, что алгоритм вектора индексов находит более близкую цепочку к минимальной возможной, по сравнению с бинарным методом и методом множителей. Но всё это перекрывается большой ресурсозатратностью</p>"
   ]
  },
  {
   "cell_type": "markdown",
   "metadata": {},
   "source": [
    "#### 4. Проверим следствие из теоремы Брауэра:"
   ]
  },
  {
   "cell_type": "code",
   "execution_count": 18,
   "metadata": {},
   "outputs": [
    {
     "data": {
      "image/png": "[encoded data removed]",
      "text/plain": [
       "Graphics object consisting of 2 graphics primitives"
      ]
     },
     "metadata": {},
     "output_type": "display_data"
    }
   ],
   "source": [
    "def graph_data():\n",
    "    n = []\n",
    "    f_star =[]\n",
    "    f_star_plot =[]\n",
    "    for i in range(1, 201):\n",
    "        vector, chain = star_chain(i)\n",
    "        f_star.append(len(chain))\n",
    "        f_star_plot.append((i, len(chain)))\n",
    "        n.append(i)\n",
    "    return n, f_star, f_star_plot   \n",
    "    \n",
    "n, f_star, f_star_plot = graph_data()\n",
    "x_y = x_i = y_i = x_2 = 0\n",
    "\n",
    "for i in range(200):\n",
    "        x_2 += log(n[i], 2) ** 2\n",
    "        x_y += f_star[i] * log(n[i], 2)\n",
    "        x_i += log(n[i], 2)\n",
    "        y_i += f_star[i]\n",
    "\n",
    "a = (200 * x_y - x_i * y_i) / (200 * x_2 - x_i ** 2)\n",
    "b = (y_i - a * x_i) / 200\n",
    "\n",
    "\n",
    "graph_1 = point(f_star_plot, rgbcolor = hue(1))\n",
    "graph_2 = plot(a * log(x, 2) + b, (x, 0, 200))\n",
    "show(graph_1 + graph_2)\n"
   ]
  },
  {
   "cell_type": "markdown",
   "metadata": {},
   "source": [
    "<p style=\"text-align: justify;\">Для апроксимирования была выбрана логарифмическая функция, потому что начальное расположение точек - множество значений длины звездной цепочки - напоминало логарифмическую функцию. По графику видно, что построенная функция апроксимирует функцию $l(n)$, а это значит, что следствие из теоремы Брауэра доказано</p>"
   ]
  },
  {
   "cell_type": "markdown",
   "metadata": {},
   "source": [
    "#### 5. Проверим гипотезу Шольца–Брауэра для $1<n⩽10$ на алгоритме дробления вектора индексов:"
   ]
  },
  {
   "cell_type": "markdown",
   "metadata": {},
   "source": [
    "<p style=\"text-align: justify;\">Для этого найдем длины звездных цепочек при $1<n⩽10$:, где в $2i$ $(0 ⩽ i < 5)$ строке находится проверяемое число, а в $2i + 1$  $(0 ⩽ i < 5)$ строке число, для которого необходимо найти звёздную цепочку для проверки: </p>"
   ]
  },
  {
   "cell_type": "markdown",
   "metadata": {},
   "source": [
    "<font size = \"+1\">$n$      | <font size = \"+1\">Длина звёздной цепочки\n",
    ":------|:--------------           \n",
    "$2$     |$2$\n",
    "$3$     |$3$\n",
    "$3$     |$3$\n",
    "$7$     |$5$\n",
    "$4$     |$3$\n",
    "$15$    |$6$\n",
    "$5$     |$4$\n",
    "$31$    |$8$\n",
    "$6$     |$4$\n",
    "$63$    |$9$\n",
    "$7$     |$5$\n",
    "$127$   |$11$\n",
    "$8$     |$4$\n",
    "$255$   |$11$\n",
    "$9$     |$5$\n",
    "$511$   |$13$\n",
    "$10$    |$5$\n",
    "$1023$  |$14$"
   ]
  },
  {
   "cell_type": "markdown",
   "metadata": {},
   "source": [
    "Выполним проверку:"
   ]
  },
  {
   "cell_type": "markdown",
   "metadata": {},
   "source": [
    "<font size = \"+1\">$n$      |<font size = \"+1\">$l(2^n - 1)$      | <font size = \"+1\">$l(n)+n-1$\n",
    ":------|:--------------  |:--------------         \n",
    "$2$|$3$     |$2 + 2 - 1 = 3$\n",
    "$3$|$5$     |$3 + 3 - 1 = 5$\n",
    "$4$|$6$     |$3 + 4 - 1 = 6$\n",
    "$5$|$8$     |$4 + 5 - 1 = 8$\n",
    "$6$|$9$     |$4 + 6 - 1 = 9$\n",
    "$7$|$11$    |$5 + 7 - 1 = 11$\n",
    "$8$|$11$    |$4 + 8 - 1 = 11$\n",
    "$9$|$13$    |$5 + 9 - 1 = 13$\n",
    "$10$|$14$   |$5 + 10 - 1 = 14$\n"
   ]
  },
  {
   "cell_type": "markdown",
   "metadata": {},
   "source": [
    "По таблице видим, что гипотеза верна."
   ]
  },
  {
   "cell_type": "markdown",
   "metadata": {},
   "source": [
    "## Выводы"
   ]
  },
  {
   "cell_type": "markdown",
   "metadata": {},
   "source": [
    "<p style=\"text-align: justify;\">Были реализованы алгоритмы для нахождения минимальных аддитивных цепочек, такие как алгоритм дробления вектора индексов и алгоритм Яо. Были реализованы алгоритмы быстрого возведения в степень, такие как бинарный метод и метод множителей. Каждый алгоритм был протестирован. Также были проверены гипотеза Шольца–Брауэра и следствие теоремы Брауэра.</p>"
   ]
  }
 ],
 "metadata": {
  "kernelspec": {
   "display_name": "SageMath 9.0",
   "language": "sage",
   "name": "sagemath"
  },
  "language_info": {
   "codemirror_mode": {
    "name": "ipython",
    "version": 3
   },
   "file_extension": ".py",
   "mimetype": "text/x-python",
   "name": "python",
   "nbconvert_exporter": "python",
   "pygments_lexer": "ipython3",
   "version": "3.8.5"
  }
 },
 "nbformat": 4,
 "nbformat_minor": 5
}
